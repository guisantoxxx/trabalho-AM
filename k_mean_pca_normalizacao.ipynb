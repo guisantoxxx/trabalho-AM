{
 "cells": [
  {
   "cell_type": "markdown",
   "metadata": {},
   "source": [
    "# <center> <img src=\"figs/LogoUFSCar.jpg\" alt=\"Logo UFScar\" width=\"110\" align=\"left\"/>  <br/> <center>Universidade Federal de São Carlos (UFSCar)<br/><font size=\"4\"> Departamento de Computação, campus Sorocaba</center></font>\n",
    "</p>\n",
    "\n",
    "<font size=\"4\"><center><b>Disciplina: Aprendizado de Máquina</b></center></font>\n",
    "  \n",
    "<font size=\"3\"><center>Prof. Dr. Tiago A. Almeida</center></font>\n",
    "\n",
    "## <center>Projeto Final</center>\n",
    "\n",
    "**Nome**:\n",
    "\n",
    "**RA**: \n"
   ]
  },
  {
   "cell_type": "markdown",
   "metadata": {},
   "source": [
    "---\n",
    "### Análise exploratória\n",
    "\n",
    "Nesta seção, deve ser feita a leitura da base de dados e todas as análises necessárias para interpretar e analisar os dados, tais como:\n",
    "* Significado de cada atributo\n",
    "* Medidas descritivas\n",
    "* Gráficos"
   ]
  },
  {
   "cell_type": "code",
   "execution_count": 3841,
   "metadata": {},
   "outputs": [],
   "source": [
    "import pandas as pd\n",
    "import numpy as np\n",
    "import matplotlib.pyplot as plt\n",
    "import seaborn as sns\n",
    "import numpy as np\n",
    "from scripts.analise_exploratoria import *\n",
    "from scripts.preprocessamento import *"
   ]
  },
  {
   "cell_type": "code",
   "execution_count": 3842,
   "metadata": {},
   "outputs": [],
   "source": [
    "# mostrar todas as colunas\n",
    "pd.set_option(\"display.max_columns\", None)"
   ]
  },
  {
   "cell_type": "markdown",
   "metadata": {},
   "source": [
    "#### No bloco abaixo, estou carregando o conjunto de dados de treino e o juntando com suas respectivas classificações, afim de usa-los para treinar o modelo."
   ]
  },
  {
   "cell_type": "code",
   "execution_count": 3843,
   "metadata": {},
   "outputs": [
    {
     "data": {
      "text/html": [
       "<div>\n",
       "<style scoped>\n",
       "    .dataframe tbody tr th:only-of-type {\n",
       "        vertical-align: middle;\n",
       "    }\n",
       "\n",
       "    .dataframe tbody tr th {\n",
       "        vertical-align: top;\n",
       "    }\n",
       "\n",
       "    .dataframe thead th {\n",
       "        text-align: right;\n",
       "    }\n",
       "</style>\n",
       "<table border=\"1\" class=\"dataframe\">\n",
       "  <thead>\n",
       "    <tr style=\"text-align: right;\">\n",
       "      <th></th>\n",
       "      <th>Id</th>\n",
       "      <th>Peso</th>\n",
       "      <th>Altura</th>\n",
       "      <th>IMC</th>\n",
       "      <th>Atendimento</th>\n",
       "      <th>DN</th>\n",
       "      <th>IDADE</th>\n",
       "      <th>Convenio</th>\n",
       "      <th>PULSOS</th>\n",
       "      <th>PA SISTOLICA</th>\n",
       "      <th>PA DIASTOLICA</th>\n",
       "      <th>PPA</th>\n",
       "      <th>B2</th>\n",
       "      <th>SOPRO</th>\n",
       "      <th>FC</th>\n",
       "      <th>HDA 1</th>\n",
       "      <th>HDA2</th>\n",
       "      <th>SEXO</th>\n",
       "      <th>MOTIVO1</th>\n",
       "      <th>MOTIVO2</th>\n",
       "      <th>CLASSE</th>\n",
       "    </tr>\n",
       "  </thead>\n",
       "  <tbody>\n",
       "    <tr>\n",
       "      <th>0</th>\n",
       "      <td>10524</td>\n",
       "      <td>28.0</td>\n",
       "      <td>123</td>\n",
       "      <td>19.0</td>\n",
       "      <td>11/07/05</td>\n",
       "      <td>13/12/99</td>\n",
       "      <td>5.79</td>\n",
       "      <td>SB</td>\n",
       "      <td>Normais</td>\n",
       "      <td>110.0</td>\n",
       "      <td>80.0</td>\n",
       "      <td>HAS-1 PAD</td>\n",
       "      <td>Normal</td>\n",
       "      <td>ausente</td>\n",
       "      <td>100</td>\n",
       "      <td>Palpitacao</td>\n",
       "      <td>NaN</td>\n",
       "      <td>M</td>\n",
       "      <td>6 - Suspeita de cardiopatia</td>\n",
       "      <td>6 - Palpitação/taquicardia/arritmia</td>\n",
       "      <td>Normal</td>\n",
       "    </tr>\n",
       "    <tr>\n",
       "      <th>1</th>\n",
       "      <td>17249</td>\n",
       "      <td>32.0</td>\n",
       "      <td>0</td>\n",
       "      <td>NaN</td>\n",
       "      <td>12/02/04</td>\n",
       "      <td>10/06/92</td>\n",
       "      <td>12.11</td>\n",
       "      <td>GS</td>\n",
       "      <td>Normais</td>\n",
       "      <td>100.0</td>\n",
       "      <td>60.0</td>\n",
       "      <td>Não Calculado</td>\n",
       "      <td>Normal</td>\n",
       "      <td>Sistólico</td>\n",
       "      <td>100</td>\n",
       "      <td>Assintomático</td>\n",
       "      <td>NaN</td>\n",
       "      <td>Masculino</td>\n",
       "      <td>5 - Parecer cardiológico</td>\n",
       "      <td>NaN</td>\n",
       "      <td>Anormal</td>\n",
       "    </tr>\n",
       "    <tr>\n",
       "      <th>2</th>\n",
       "      <td>4483</td>\n",
       "      <td>13.0</td>\n",
       "      <td>87</td>\n",
       "      <td>17.0</td>\n",
       "      <td>22/12/03</td>\n",
       "      <td>05/11/01</td>\n",
       "      <td>2.21</td>\n",
       "      <td>SulAmerica</td>\n",
       "      <td>Normais</td>\n",
       "      <td>NaN</td>\n",
       "      <td>NaN</td>\n",
       "      <td>Não Calculado</td>\n",
       "      <td>Normal</td>\n",
       "      <td>Sistólico</td>\n",
       "      <td>100</td>\n",
       "      <td>Assintomático</td>\n",
       "      <td>NaN</td>\n",
       "      <td>M</td>\n",
       "      <td>6 - Suspeita de cardiopatia</td>\n",
       "      <td>6 - Sopro</td>\n",
       "      <td>Anormal</td>\n",
       "    </tr>\n",
       "    <tr>\n",
       "      <th>3</th>\n",
       "      <td>6830</td>\n",
       "      <td>11.0</td>\n",
       "      <td>0</td>\n",
       "      <td>NaN</td>\n",
       "      <td>11/12/06</td>\n",
       "      <td>26/05/05</td>\n",
       "      <td>1.6</td>\n",
       "      <td>SA</td>\n",
       "      <td>Normais</td>\n",
       "      <td>NaN</td>\n",
       "      <td>NaN</td>\n",
       "      <td>Não Calculado</td>\n",
       "      <td>Normal</td>\n",
       "      <td>ausente</td>\n",
       "      <td>100</td>\n",
       "      <td>NaN</td>\n",
       "      <td>NaN</td>\n",
       "      <td>F</td>\n",
       "      <td>1 - Cardiopatia já estabelecida</td>\n",
       "      <td>1 - Cardiopatia congenica</td>\n",
       "      <td>Normal</td>\n",
       "    </tr>\n",
       "    <tr>\n",
       "      <th>4</th>\n",
       "      <td>11652</td>\n",
       "      <td>42.4</td>\n",
       "      <td>136</td>\n",
       "      <td>23.0</td>\n",
       "      <td>23/03/01</td>\n",
       "      <td>03/03/01</td>\n",
       "      <td>0.06</td>\n",
       "      <td>NaN</td>\n",
       "      <td>Normais</td>\n",
       "      <td>100.0</td>\n",
       "      <td>60.0</td>\n",
       "      <td>Não Calculado</td>\n",
       "      <td>Normal</td>\n",
       "      <td>ausente</td>\n",
       "      <td>78</td>\n",
       "      <td>Assintomático</td>\n",
       "      <td>NaN</td>\n",
       "      <td>F</td>\n",
       "      <td>5 - Parecer cardiológico</td>\n",
       "      <td>NaN</td>\n",
       "      <td>Normal</td>\n",
       "    </tr>\n",
       "    <tr>\n",
       "      <th>...</th>\n",
       "      <td>...</td>\n",
       "      <td>...</td>\n",
       "      <td>...</td>\n",
       "      <td>...</td>\n",
       "      <td>...</td>\n",
       "      <td>...</td>\n",
       "      <td>...</td>\n",
       "      <td>...</td>\n",
       "      <td>...</td>\n",
       "      <td>...</td>\n",
       "      <td>...</td>\n",
       "      <td>...</td>\n",
       "      <td>...</td>\n",
       "      <td>...</td>\n",
       "      <td>...</td>\n",
       "      <td>...</td>\n",
       "      <td>...</td>\n",
       "      <td>...</td>\n",
       "      <td>...</td>\n",
       "      <td>...</td>\n",
       "      <td>...</td>\n",
       "    </tr>\n",
       "    <tr>\n",
       "      <th>14722</th>\n",
       "      <td>16822</td>\n",
       "      <td>0.0</td>\n",
       "      <td>0</td>\n",
       "      <td>NaN</td>\n",
       "      <td>NaN</td>\n",
       "      <td>NaN</td>\n",
       "      <td>NaN</td>\n",
       "      <td>NaN</td>\n",
       "      <td>NaN</td>\n",
       "      <td>NaN</td>\n",
       "      <td>NaN</td>\n",
       "      <td>#VALUE!</td>\n",
       "      <td>NaN</td>\n",
       "      <td>NaN</td>\n",
       "      <td>NaN</td>\n",
       "      <td>NaN</td>\n",
       "      <td>NaN</td>\n",
       "      <td>Indeterminado</td>\n",
       "      <td>NaN</td>\n",
       "      <td>NaN</td>\n",
       "      <td>NaN</td>\n",
       "    </tr>\n",
       "    <tr>\n",
       "      <th>14723</th>\n",
       "      <td>3249</td>\n",
       "      <td>30.0</td>\n",
       "      <td>113</td>\n",
       "      <td>23.0</td>\n",
       "      <td>17/05/06</td>\n",
       "      <td>01/08/01</td>\n",
       "      <td>4.97</td>\n",
       "      <td>Medial</td>\n",
       "      <td>Normais</td>\n",
       "      <td>105.0</td>\n",
       "      <td>70.0</td>\n",
       "      <td>Pre-Hipertensão PAD</td>\n",
       "      <td>Normal</td>\n",
       "      <td>sistólico</td>\n",
       "      <td>92</td>\n",
       "      <td>Dispneia</td>\n",
       "      <td>Palpitacao</td>\n",
       "      <td>F</td>\n",
       "      <td>6 - Suspeita de cardiopatia</td>\n",
       "      <td>6 - Dispnéia</td>\n",
       "      <td>Anormal</td>\n",
       "    </tr>\n",
       "    <tr>\n",
       "      <th>14724</th>\n",
       "      <td>3207</td>\n",
       "      <td>25.8</td>\n",
       "      <td>130</td>\n",
       "      <td>15.0</td>\n",
       "      <td>03/12/09</td>\n",
       "      <td>07/07/02</td>\n",
       "      <td>7.69</td>\n",
       "      <td>CAMED</td>\n",
       "      <td>Normais</td>\n",
       "      <td>90.0</td>\n",
       "      <td>55.0</td>\n",
       "      <td>Normal</td>\n",
       "      <td>Normal</td>\n",
       "      <td>ausente</td>\n",
       "      <td>78</td>\n",
       "      <td>Assintomático</td>\n",
       "      <td>NaN</td>\n",
       "      <td>M</td>\n",
       "      <td>6 - Suspeita de cardiopatia</td>\n",
       "      <td>6 - Sopro</td>\n",
       "      <td>Normal</td>\n",
       "    </tr>\n",
       "    <tr>\n",
       "      <th>14725</th>\n",
       "      <td>4336</td>\n",
       "      <td>19.0</td>\n",
       "      <td>0</td>\n",
       "      <td>NaN</td>\n",
       "      <td>12/06/08</td>\n",
       "      <td>03/05/05</td>\n",
       "      <td>3.23</td>\n",
       "      <td>NaN</td>\n",
       "      <td>Normais</td>\n",
       "      <td>100.0</td>\n",
       "      <td>50.0</td>\n",
       "      <td>Não Calculado</td>\n",
       "      <td>Normal</td>\n",
       "      <td>ausente</td>\n",
       "      <td>100</td>\n",
       "      <td>Assintomático</td>\n",
       "      <td>NaN</td>\n",
       "      <td>M</td>\n",
       "      <td>5 - Parecer cardiológico</td>\n",
       "      <td>NaN</td>\n",
       "      <td>Normal</td>\n",
       "    </tr>\n",
       "    <tr>\n",
       "      <th>14726</th>\n",
       "      <td>9470</td>\n",
       "      <td>13.0</td>\n",
       "      <td>89</td>\n",
       "      <td>16.0</td>\n",
       "      <td>04/02/09</td>\n",
       "      <td>28/03/06</td>\n",
       "      <td>2.97</td>\n",
       "      <td>CAMED</td>\n",
       "      <td>Normais</td>\n",
       "      <td>NaN</td>\n",
       "      <td>NaN</td>\n",
       "      <td>Não Calculado</td>\n",
       "      <td>Normal</td>\n",
       "      <td>ausente</td>\n",
       "      <td>96</td>\n",
       "      <td>Assintomático</td>\n",
       "      <td>NaN</td>\n",
       "      <td>F</td>\n",
       "      <td>5 - Parecer cardiológico</td>\n",
       "      <td>NaN</td>\n",
       "      <td>Normal</td>\n",
       "    </tr>\n",
       "  </tbody>\n",
       "</table>\n",
       "<p>14727 rows × 21 columns</p>\n",
       "</div>"
      ],
      "text/plain": [
       "          Id  Peso  Altura   IMC Atendimento        DN  IDADE    Convenio  \\\n",
       "0      10524  28.0     123  19.0    11/07/05  13/12/99   5.79          SB   \n",
       "1      17249  32.0       0   NaN    12/02/04  10/06/92  12.11          GS   \n",
       "2       4483  13.0      87  17.0    22/12/03  05/11/01   2.21  SulAmerica   \n",
       "3       6830  11.0       0   NaN    11/12/06  26/05/05    1.6          SA   \n",
       "4      11652  42.4     136  23.0    23/03/01  03/03/01   0.06         NaN   \n",
       "...      ...   ...     ...   ...         ...       ...    ...         ...   \n",
       "14722  16822   0.0       0   NaN         NaN       NaN    NaN         NaN   \n",
       "14723   3249  30.0     113  23.0    17/05/06  01/08/01   4.97      Medial   \n",
       "14724   3207  25.8     130  15.0    03/12/09  07/07/02   7.69       CAMED   \n",
       "14725   4336  19.0       0   NaN    12/06/08  03/05/05   3.23         NaN   \n",
       "14726   9470  13.0      89  16.0    04/02/09  28/03/06   2.97       CAMED   \n",
       "\n",
       "        PULSOS  PA SISTOLICA  PA DIASTOLICA                  PPA      B2  \\\n",
       "0      Normais         110.0           80.0            HAS-1 PAD  Normal   \n",
       "1      Normais         100.0           60.0        Não Calculado  Normal   \n",
       "2      Normais           NaN            NaN        Não Calculado  Normal   \n",
       "3      Normais           NaN            NaN        Não Calculado  Normal   \n",
       "4      Normais         100.0           60.0        Não Calculado  Normal   \n",
       "...        ...           ...            ...                  ...     ...   \n",
       "14722      NaN           NaN            NaN              #VALUE!     NaN   \n",
       "14723  Normais         105.0           70.0  Pre-Hipertensão PAD  Normal   \n",
       "14724  Normais          90.0           55.0               Normal  Normal   \n",
       "14725  Normais         100.0           50.0        Não Calculado  Normal   \n",
       "14726  Normais           NaN            NaN        Não Calculado  Normal   \n",
       "\n",
       "           SOPRO   FC          HDA 1        HDA2           SEXO  \\\n",
       "0        ausente  100     Palpitacao         NaN              M   \n",
       "1      Sistólico  100  Assintomático         NaN      Masculino   \n",
       "2      Sistólico  100  Assintomático         NaN              M   \n",
       "3        ausente  100            NaN         NaN              F   \n",
       "4        ausente   78  Assintomático         NaN              F   \n",
       "...          ...  ...            ...         ...            ...   \n",
       "14722        NaN  NaN            NaN         NaN  Indeterminado   \n",
       "14723  sistólico   92       Dispneia  Palpitacao              F   \n",
       "14724    ausente   78  Assintomático         NaN              M   \n",
       "14725    ausente  100  Assintomático         NaN              M   \n",
       "14726    ausente   96  Assintomático         NaN              F   \n",
       "\n",
       "                               MOTIVO1                              MOTIVO2  \\\n",
       "0          6 - Suspeita de cardiopatia  6 - Palpitação/taquicardia/arritmia   \n",
       "1             5 - Parecer cardiológico                                  NaN   \n",
       "2          6 - Suspeita de cardiopatia                            6 - Sopro   \n",
       "3      1 - Cardiopatia já estabelecida            1 - Cardiopatia congenica   \n",
       "4             5 - Parecer cardiológico                                  NaN   \n",
       "...                                ...                                  ...   \n",
       "14722                              NaN                                  NaN   \n",
       "14723      6 - Suspeita de cardiopatia                         6 - Dispnéia   \n",
       "14724      6 - Suspeita de cardiopatia                            6 - Sopro   \n",
       "14725         5 - Parecer cardiológico                                  NaN   \n",
       "14726         5 - Parecer cardiológico                                  NaN   \n",
       "\n",
       "        CLASSE  \n",
       "0       Normal  \n",
       "1      Anormal  \n",
       "2      Anormal  \n",
       "3       Normal  \n",
       "4       Normal  \n",
       "...        ...  \n",
       "14722      NaN  \n",
       "14723  Anormal  \n",
       "14724   Normal  \n",
       "14725   Normal  \n",
       "14726   Normal  \n",
       "\n",
       "[14727 rows x 21 columns]"
      ]
     },
     "metadata": {},
     "output_type": "display_data"
    }
   ],
   "source": [
    "train_data = pd.read_csv(\"./data/train.csv\")\n",
    "data = pd.read_csv(\"./data/RHP_data.csv\")\n",
    "\n",
    "train_data = data.merge(train_data, on=\"Id\", how=\"right\")\n",
    "\n",
    "display(train_data)"
   ]
  },
  {
   "cell_type": "markdown",
   "metadata": {},
   "source": [
    "#### Após carregas os dados, iremos fazer uma breve análise do que cada uma das colunas representa."
   ]
  },
  {
   "cell_type": "markdown",
   "metadata": {},
   "source": [
    "* Peso: representa o peso, em Kg, de cada indivíduo.\n",
    "\n",
    "* Altura: representa a altura, em cm, de cada indivíduo.\n",
    "\n",
    "* IMC: representa o índice de massa corporal do paciente, índice que representa se o paciente estáem seu peso ideal ou não. É calculado pelo peso (em metros) dividido pela altura elevada ao quadrado.\n",
    "\n",
    "* Atendimento: indica a data em que foi feito o atendimento do paciente.\n",
    "\n",
    "* DN: data em que a declaração de nascido vivo do paciente foi escrita.\n",
    "\n",
    "* Idade: representa a idade do paciente, sendo os anos representados por um valor real.\n",
    "\n",
    "* Convênio: Indica qual o convênio do cliente.\n",
    "\n",
    "* Pulsos: Indica a qualidade da circulação arterial. Pulsos fracos ou ausentes podem sugerir problemas como obstrução arterial ou insuficiência cardíaca.\n",
    "\n",
    "* PA Sistolica: valor mais alto (medido em mmHg) que aparece durante uma aferição de pressão. Representa a pressão exercida nas artérias durante a contração do coração (sístole). Valores elevados indicam hipertensão arterial, enquanto valores muito baixos podem sugerir hipotensão.\n",
    "\n",
    "* PA Diastolica: valor mais baixo (medido em mmHg) que aparece durante uma aferição de pressão. Reflete a pressão arterial durante o relaxamento do coração (diástole). É usada junto com a PA sistólica para diagnosticar hipertensão.\n",
    "\n",
    "* PPA (Pressão de Pulso Arterial): Diferença entre a pressão arterial sistólica e diastólica. Indica a rigidez arterial. Valores elevados podem estar associados a doenças cardiovasculares.\n",
    "\n",
    "* B2: Segundo Ruído Cardíaco, representa o som do fechamento das válvulas aórtica e pulmonar. \n",
    "\n",
    "* Sopro: Presença de ruídos anormais detectados durante a ausculta cardíaca. \n",
    "\n",
    "* FC (Frequência Cardíaca): número de batimentos cardíacos por minuto (bpm). Frequências muito altas (taquicardia) ou baixas (bradicardia) podem indicar problemas cardíacos.\n",
    "\n",
    "* HDA1 (Histórico de doenças atual 1): informações detalhadas sobre o principal problema clínico atual.\n",
    "\n",
    "* HDA2 (Histórico de doenças atual 2): informações adicionais sobre o problema clínico ou outras condições associadas.\n",
    "\n",
    "* Sexo: genêro biológico do paciente.\n",
    "\n",
    "* Motivo 1: principal razão para a consulta.\n",
    "\n",
    "* Motivo 2: razão secundária para a consulta."
   ]
  },
  {
   "cell_type": "markdown",
   "metadata": {},
   "source": [
    "#### Após entender o que cada coluna significa, iremos plotar os gráficos de cada atributo relevante em relação a classe, para ver como eles se relacionam. Iremos começas por atributos não numéricos."
   ]
  },
  {
   "cell_type": "markdown",
   "metadata": {},
   "source": [
    "Plot da distribuição de Pulsos em relação as classes."
   ]
  },
  {
   "cell_type": "code",
   "execution_count": 3844,
   "metadata": {},
   "outputs": [
    {
     "data": {
      "image/png": "[encoded data removed]",
      "text/plain": [
       "<Figure size 864x432 with 1 Axes>"
      ]
     },
     "metadata": {
      "needs_background": "light"
     },
     "output_type": "display_data"
    }
   ],
   "source": [
    "plotar_grafico_barras(train_data, \"PULSOS\", \"CLASSE\")"
   ]
  },
  {
   "cell_type": "markdown",
   "metadata": {},
   "source": [
    "<small>A partir dessa visualizaçao, é possível obervar que as quase 100% das amostras foram registradas com pulsos normais. Além disso obeserva-se a necessidade de paronizar os valores durante a etapa de pré-processamento, pois há valores diferentes que representam a mesma coisa.</small>"
   ]
  },
  {
   "cell_type": "markdown",
   "metadata": {},
   "source": [
    "Plot da distribuição de diferentes PPA(s) em relação à classe."
   ]
  },
  {
   "cell_type": "code",
   "execution_count": 3845,
   "metadata": {},
   "outputs": [
    {
     "data": {
      "image/png": "[encoded data removed]",
      "text/plain": [
       "<Figure size 864x432 with 1 Axes>"
      ]
     },
     "metadata": {
      "needs_background": "light"
     },
     "output_type": "display_data"
    }
   ],
   "source": [
    "plotar_grafico_barras(train_data, \"PPA\", \"CLASSE\")"
   ]
  },
  {
   "cell_type": "markdown",
   "metadata": {},
   "source": [
    "<small>A partir do gráfico, é evidente a predominância das amostras com valores 'Normal' e também a grande quantidade de dados ausentes, como vistos em 'Não Calculado' e '#VALUE!'</small>"
   ]
  },
  {
   "cell_type": "markdown",
   "metadata": {},
   "source": [
    "Plot da distribuição B2 em relação à classe."
   ]
  },
  {
   "cell_type": "code",
   "execution_count": 3846,
   "metadata": {},
   "outputs": [
    {
     "data": {
      "image/png": "[encoded data removed]",
      "text/plain": [
       "<Figure size 864x432 with 1 Axes>"
      ]
     },
     "metadata": {
      "needs_background": "light"
     },
     "output_type": "display_data"
    }
   ],
   "source": [
    "plotar_grafico_barras(train_data, \"B2\", \"CLASSE\")"
   ]
  },
  {
   "cell_type": "markdown",
   "metadata": {},
   "source": [
    "<small>É evidente a predominância de 'Normal'</small>"
   ]
  },
  {
   "cell_type": "markdown",
   "metadata": {},
   "source": [
    "Plot da distribuição sopro em relação à classe."
   ]
  },
  {
   "cell_type": "code",
   "execution_count": 3847,
   "metadata": {},
   "outputs": [
    {
     "data": {
      "image/png": "[encoded data removed]",
      "text/plain": [
       "<Figure size 864x432 with 1 Axes>"
      ]
     },
     "metadata": {
      "needs_background": "light"
     },
     "output_type": "display_data"
    }
   ],
   "source": [
    "plotar_grafico_barras(train_data, \"SOPRO\", \"CLASSE\")"
   ]
  },
  {
   "cell_type": "markdown",
   "metadata": {},
   "source": [
    "<small>Há duas principais observações a serem feitas neste gráfico, a primeira é a necessidade de padronizar os mesmos valores que possuem nomenclaturas diferentes, como Contínuo e contínuo. A segunda, mais interessante, é a grande quantidade de pacientes 'anormais' que possuem Sistólico como valor, acima de 90%. Isso indica a importância do atributo 'SOPRO' para o treinamento do modelo.</small>"
   ]
  },
  {
   "cell_type": "markdown",
   "metadata": {},
   "source": [
    "Plot da distribuição HDA1 (Histórico de doenças atual 1) em relação à classe."
   ]
  },
  {
   "cell_type": "code",
   "execution_count": 3848,
   "metadata": {},
   "outputs": [
    {
     "data": {
      "image/png": "[encoded data removed]",
      "text/plain": [
       "<Figure size 864x432 with 1 Axes>"
      ]
     },
     "metadata": {
      "needs_background": "light"
     },
     "output_type": "display_data"
    }
   ],
   "source": [
    "plotar_grafico_barras(train_data, \"HDA 1\", \"CLASSE\")"
   ]
  },
  {
   "cell_type": "markdown",
   "metadata": {},
   "source": [
    "<small>De acordo com o gráfico acima, a grande maioria das amostras corresponde à valores 'Assintonático'. Além disso, é necessário tratar 'Normais' para 'Normal' afim de padronizar.</small>"
   ]
  },
  {
   "cell_type": "markdown",
   "metadata": {},
   "source": [
    "Plot da distribuição HDA2 (Histórico de doença atual 2) em relação à classe."
   ]
  },
  {
   "cell_type": "code",
   "execution_count": 3849,
   "metadata": {},
   "outputs": [
    {
     "data": {
      "image/png": "[encoded data removed]",
      "text/plain": [
       "<Figure size 864x432 with 1 Axes>"
      ]
     },
     "metadata": {
      "needs_background": "light"
     },
     "output_type": "display_data"
    }
   ],
   "source": [
    "plotar_grafico_barras(train_data, \"HDA2\", \"CLASSE\")"
   ]
  },
  {
   "cell_type": "markdown",
   "metadata": {},
   "source": [
    "<small>De pontos importantes obtidos a partir do gráfico acima, pode-se destacar que grande parte dos pacientes que possuem dispneia ou cianose possuem alguma anormalidade. Não apenas ele, mas todos os valores possuem números consideráveis de pacientes com anormalidades, tornando 'HDA2' um atributo que deve ser tratado com atenção especial. Além disso, também é preciso padronizar 'Normais' e 'Normal'.</small>"
   ]
  },
  {
   "cell_type": "markdown",
   "metadata": {},
   "source": [
    "Plot da distribuição Sexo em relação à classe."
   ]
  },
  {
   "cell_type": "code",
   "execution_count": 3850,
   "metadata": {},
   "outputs": [
    {
     "data": {
      "image/png": "[encoded data removed]",
      "text/plain": [
       "<Figure size 864x432 with 1 Axes>"
      ]
     },
     "metadata": {
      "needs_background": "light"
     },
     "output_type": "display_data"
    }
   ],
   "source": [
    "plotar_grafico_barras(train_data, \"SEXO\", \"CLASSE\")"
   ]
  },
  {
   "cell_type": "markdown",
   "metadata": {},
   "source": [
    "<small>Pontos importantes obtidos pelo gráfico acima: a quantidade de homens na amostra é maior que a quantidade de mulheres, porém a proporção entre homens normais e anormais, é a mesma que entre mulheres normais e mulheres anormais, cerca de 40% anormais e 60% normais. Essa análise pode singinicar que o atributo não impactara tanto no modelo, visto que a proporção não varia de genêro para genêro, após a etapa de pré-processamento será aplicado um <strong>teste de qui-quadrado</strong> entre a classe e o sexo, afim e determinar a relevância do atributo, porém será mantido por hora. Além disso, é preciso padronizar os valores como 'M' e 'Masculino'</small>"
   ]
  },
  {
   "cell_type": "markdown",
   "metadata": {},
   "source": [
    "Plot da distribuição MOTIVO1 em relação à classe."
   ]
  },
  {
   "cell_type": "code",
   "execution_count": 3851,
   "metadata": {},
   "outputs": [
    {
     "data": {
      "image/png": "[encoded data removed]",
      "text/plain": [
       "<Figure size 864x432 with 1 Axes>"
      ]
     },
     "metadata": {
      "needs_background": "light"
     },
     "output_type": "display_data"
    }
   ],
   "source": [
    "plotar_grafico_barras(train_data, \"MOTIVO1\", \"CLASSE\")"
   ]
  },
  {
   "cell_type": "markdown",
   "metadata": {},
   "source": [
    "<small>A partir do gráfico, é possível observar que a maioria dos casos que possuem 'Suspeita de cardiopatia' e 'Cardiopatia já estabelecida' tem alguma anormalidade. Tornando assim o atributo 'MOTIVO1' um atributo importante para o treinamento do modelo.</small>"
   ]
  },
  {
   "cell_type": "markdown",
   "metadata": {},
   "source": [
    "Plot da distribuição MOTIVO2 em relação à classe."
   ]
  },
  {
   "cell_type": "code",
   "execution_count": 3852,
   "metadata": {},
   "outputs": [
    {
     "data": {
      "image/png": "[encoded data removed]",
      "text/plain": [
       "<Figure size 864x432 with 1 Axes>"
      ]
     },
     "metadata": {
      "needs_background": "light"
     },
     "output_type": "display_data"
    }
   ],
   "source": [
    "plotar_grafico_barras(train_data, \"MOTIVO2\", \"CLASSE\")"
   ]
  },
  {
   "cell_type": "markdown",
   "metadata": {},
   "source": [
    "<small>O gráfico mostra que há diversos valores diferentes, o que pode ser algo a ser pré-processado na próxima etapa. Além disso, vale falar sobre a grande quantidade de pacientes anormais que tem Sopro e Cardiopatia congenica como valor</small>"
   ]
  },
  {
   "cell_type": "markdown",
   "metadata": {},
   "source": [
    "#### Agora iremos fazer o plot e a análise dos valores numéricos."
   ]
  },
  {
   "cell_type": "markdown",
   "metadata": {},
   "source": [
    "Mas primeiro, iremos realizar uma etapa do pré-processamento, pois há duas colunas numéricas, FC e IDADE, que são do tipo String, mas é preciso converte-las para numérica afim de realizar as plotagens."
   ]
  },
  {
   "cell_type": "code",
   "execution_count": 3853,
   "metadata": {},
   "outputs": [],
   "source": [
    "converter_numeric(train_data, \"FC\")\n",
    "converter_numeric(train_data, \"IDADE\")"
   ]
  },
  {
   "cell_type": "markdown",
   "metadata": {},
   "source": [
    "Com os valores convertidos, agora podemos plotar os boxplots em relação à classe para visualizar outliners"
   ]
  },
  {
   "cell_type": "markdown",
   "metadata": {},
   "source": [
    "Plotar boxplot do peso em relação as classes"
   ]
  },
  {
   "cell_type": "code",
   "execution_count": 3854,
   "metadata": {},
   "outputs": [
    {
     "data": {
      "image/png": "[encoded data removed]",
      "text/plain": [
       "<Figure size 576x576 with 1 Axes>"
      ]
     },
     "metadata": {
      "needs_background": "light"
     },
     "output_type": "display_data"
    }
   ],
   "source": [
    "plotar_boxplot(train_data, \"Peso\", \"CLASSE\")"
   ]
  },
  {
   "cell_type": "markdown",
   "metadata": {},
   "source": [
    "<small> A partir da plotagem, é posível perceber que há grande quantidade de outliers, sendo necessário tratá-los na etapa de pré-processamento</small>"
   ]
  },
  {
   "cell_type": "markdown",
   "metadata": {},
   "source": [
    "Plotar boxplot da altura em relação as classes"
   ]
  },
  {
   "cell_type": "code",
   "execution_count": 3855,
   "metadata": {},
   "outputs": [
    {
     "data": {
      "image/png": "[encoded data removed]",
      "text/plain": [
       "<Figure size 576x576 with 1 Axes>"
      ]
     },
     "metadata": {
      "needs_background": "light"
     },
     "output_type": "display_data"
    }
   ],
   "source": [
    "plotar_boxplot(train_data, \"Altura\", \"CLASSE\")"
   ]
  },
  {
   "cell_type": "markdown",
   "metadata": {},
   "source": [
    "<small>De acordo com o gráfico, altura é um atributo que varia muito os seus valores, e não possui outliners a serem tratados</small>"
   ]
  },
  {
   "cell_type": "markdown",
   "metadata": {},
   "source": [
    "Plotar boxplot do IMC em relação as classes"
   ]
  },
  {
   "cell_type": "code",
   "execution_count": 3856,
   "metadata": {},
   "outputs": [
    {
     "data": {
      "image/png": "[encoded data removed]",
      "text/plain": [
       "<Figure size 576x576 with 1 Axes>"
      ]
     },
     "metadata": {
      "needs_background": "light"
     },
     "output_type": "display_data"
    }
   ],
   "source": [
    "plotar_boxplot(train_data, \"IMC\", \"CLASSE\")"
   ]
  },
  {
   "cell_type": "markdown",
   "metadata": {},
   "source": [
    "<small>A plotagem dos valores de IMC indicam a grande quantidade de outliners e valores inválidos, afinal, no gráfico constam valores impossíveis para o IMC, mesmo que não sejam considerados outliners. A abordagem será feita pela calculação do IMC utilizando a altura e peso das amostras</small>"
   ]
  },
  {
   "cell_type": "markdown",
   "metadata": {},
   "source": [
    "Plotar boxplot das idades em relação as classes"
   ]
  },
  {
   "cell_type": "code",
   "execution_count": 3857,
   "metadata": {},
   "outputs": [
    {
     "data": {
      "image/png": "[encoded data removed]",
      "text/plain": [
       "<Figure size 576x576 with 1 Axes>"
      ]
     },
     "metadata": {
      "needs_background": "light"
     },
     "output_type": "display_data"
    }
   ],
   "source": [
    "plotar_boxplot(train_data, \"IDADE\", \"CLASSE\")"
   ]
  },
  {
   "cell_type": "markdown",
   "metadata": {},
   "source": [
    "<small>O gráfico nos mostra uma grande quantidade de outliners e valores inválidos, como menor que 0, a serem tratados, sendo necessário fazer uma grande limpeza</small>"
   ]
  },
  {
   "cell_type": "markdown",
   "metadata": {},
   "source": [
    "Plotar boxplot da PA Sistolica (pressão arterial sistólica) em relação as classes"
   ]
  },
  {
   "cell_type": "code",
   "execution_count": 3858,
   "metadata": {},
   "outputs": [
    {
     "data": {
      "image/png": "[encoded data removed]",
      "text/plain": [
       "<Figure size 576x576 with 1 Axes>"
      ]
     },
     "metadata": {
      "needs_background": "light"
     },
     "output_type": "display_data"
    }
   ],
   "source": [
    "plotar_boxplot(train_data, \"PA SISTOLICA\", \"CLASSE\")"
   ]
  },
  {
   "cell_type": "markdown",
   "metadata": {},
   "source": [
    "<small>Pelo gráfico, é possível identificar um pequeno número outliners a serem tratados</small>"
   ]
  },
  {
   "cell_type": "markdown",
   "metadata": {},
   "source": [
    "Plotar boxplot da PA Diastolica (pressão arterial diastolica) em relação as classes"
   ]
  },
  {
   "cell_type": "code",
   "execution_count": 3859,
   "metadata": {},
   "outputs": [
    {
     "data": {
      "image/png": "[encoded data removed]",
      "text/plain": [
       "<Figure size 576x576 with 1 Axes>"
      ]
     },
     "metadata": {
      "needs_background": "light"
     },
     "output_type": "display_data"
    }
   ],
   "source": [
    "plotar_boxplot(train_data, \"PA DIASTOLICA\", \"CLASSE\")"
   ]
  },
  {
   "cell_type": "markdown",
   "metadata": {},
   "source": [
    "<small>Assim como na PA sistolica, é possível identificar um pequeno número de outilners a serem removidos</small>"
   ]
  },
  {
   "cell_type": "markdown",
   "metadata": {},
   "source": [
    "Plotar boxplot da Frequência cardíaca (FC) em relação as classes"
   ]
  },
  {
   "cell_type": "code",
   "execution_count": 3860,
   "metadata": {},
   "outputs": [
    {
     "data": {
      "image/png": "[encoded data removed]",
      "text/plain": [
       "<Figure size 576x576 with 1 Axes>"
      ]
     },
     "metadata": {
      "needs_background": "light"
     },
     "output_type": "display_data"
    }
   ],
   "source": [
    "plotar_boxplot(train_data, \"FC\", \"CLASSE\")"
   ]
  },
  {
   "cell_type": "markdown",
   "metadata": {},
   "source": [
    "<small>O gráfico mostra que outliners, mesmo que em pouco número, estão presentes e precisam ser tratados</small>"
   ]
  },
  {
   "cell_type": "markdown",
   "metadata": {},
   "source": [
    "#### Após a plotagem,  vamos analisar as medidas descritivas de cada coluna."
   ]
  },
  {
   "cell_type": "code",
   "execution_count": 3861,
   "metadata": {},
   "outputs": [
    {
     "data": {
      "text/html": [
       "<div>\n",
       "<style scoped>\n",
       "    .dataframe tbody tr th:only-of-type {\n",
       "        vertical-align: middle;\n",
       "    }\n",
       "\n",
       "    .dataframe tbody tr th {\n",
       "        vertical-align: top;\n",
       "    }\n",
       "\n",
       "    .dataframe thead th {\n",
       "        text-align: right;\n",
       "    }\n",
       "</style>\n",
       "<table border=\"1\" class=\"dataframe\">\n",
       "  <thead>\n",
       "    <tr style=\"text-align: right;\">\n",
       "      <th></th>\n",
       "      <th>Peso</th>\n",
       "      <th>Altura</th>\n",
       "      <th>IMC</th>\n",
       "      <th>IDADE</th>\n",
       "      <th>PA SISTOLICA</th>\n",
       "      <th>PA DIASTOLICA</th>\n",
       "      <th>FC</th>\n",
       "    </tr>\n",
       "  </thead>\n",
       "  <tbody>\n",
       "    <tr>\n",
       "      <th>count</th>\n",
       "      <td>14467.000000</td>\n",
       "      <td>14727.000000</td>\n",
       "      <td>10710.000000</td>\n",
       "      <td>13231.000000</td>\n",
       "      <td>8232.000000</td>\n",
       "      <td>8222.000000</td>\n",
       "      <td>12817.000000</td>\n",
       "    </tr>\n",
       "    <tr>\n",
       "      <th>mean</th>\n",
       "      <td>20.979374</td>\n",
       "      <td>82.971209</td>\n",
       "      <td>17.792437</td>\n",
       "      <td>5.970463</td>\n",
       "      <td>101.395773</td>\n",
       "      <td>62.372780</td>\n",
       "      <td>94.084419</td>\n",
       "    </tr>\n",
       "    <tr>\n",
       "      <th>std</th>\n",
       "      <td>18.189793</td>\n",
       "      <td>57.028885</td>\n",
       "      <td>11.214492</td>\n",
       "      <td>8.417493</td>\n",
       "      <td>14.995826</td>\n",
       "      <td>8.951357</td>\n",
       "      <td>111.021244</td>\n",
       "    </tr>\n",
       "    <tr>\n",
       "      <th>min</th>\n",
       "      <td>-40.000000</td>\n",
       "      <td>0.000000</td>\n",
       "      <td>0.000000</td>\n",
       "      <td>-113.180000</td>\n",
       "      <td>10.000000</td>\n",
       "      <td>6.000000</td>\n",
       "      <td>10.000000</td>\n",
       "    </tr>\n",
       "    <tr>\n",
       "      <th>25%</th>\n",
       "      <td>6.000000</td>\n",
       "      <td>0.000000</td>\n",
       "      <td>15.000000</td>\n",
       "      <td>2.150000</td>\n",
       "      <td>90.000000</td>\n",
       "      <td>60.000000</td>\n",
       "      <td>80.000000</td>\n",
       "    </tr>\n",
       "    <tr>\n",
       "      <th>50%</th>\n",
       "      <td>17.500000</td>\n",
       "      <td>98.000000</td>\n",
       "      <td>17.000000</td>\n",
       "      <td>5.680000</td>\n",
       "      <td>100.000000</td>\n",
       "      <td>60.000000</td>\n",
       "      <td>90.000000</td>\n",
       "    </tr>\n",
       "    <tr>\n",
       "      <th>75%</th>\n",
       "      <td>31.000000</td>\n",
       "      <td>130.000000</td>\n",
       "      <td>19.000000</td>\n",
       "      <td>10.010000</td>\n",
       "      <td>110.000000</td>\n",
       "      <td>70.000000</td>\n",
       "      <td>100.000000</td>\n",
       "    </tr>\n",
       "    <tr>\n",
       "      <th>max</th>\n",
       "      <td>127.000000</td>\n",
       "      <td>198.000000</td>\n",
       "      <td>848.000000</td>\n",
       "      <td>71.810000</td>\n",
       "      <td>990.000000</td>\n",
       "      <td>120.000000</td>\n",
       "      <td>9288.000000</td>\n",
       "    </tr>\n",
       "  </tbody>\n",
       "</table>\n",
       "</div>"
      ],
      "text/plain": [
       "               Peso        Altura           IMC         IDADE  PA SISTOLICA  \\\n",
       "count  14467.000000  14727.000000  10710.000000  13231.000000   8232.000000   \n",
       "mean      20.979374     82.971209     17.792437      5.970463    101.395773   \n",
       "std       18.189793     57.028885     11.214492      8.417493     14.995826   \n",
       "min      -40.000000      0.000000      0.000000   -113.180000     10.000000   \n",
       "25%        6.000000      0.000000     15.000000      2.150000     90.000000   \n",
       "50%       17.500000     98.000000     17.000000      5.680000    100.000000   \n",
       "75%       31.000000    130.000000     19.000000     10.010000    110.000000   \n",
       "max      127.000000    198.000000    848.000000     71.810000    990.000000   \n",
       "\n",
       "       PA DIASTOLICA            FC  \n",
       "count    8222.000000  12817.000000  \n",
       "mean       62.372780     94.084419  \n",
       "std         8.951357    111.021244  \n",
       "min         6.000000     10.000000  \n",
       "25%        60.000000     80.000000  \n",
       "50%        60.000000     90.000000  \n",
       "75%        70.000000    100.000000  \n",
       "max       120.000000   9288.000000  "
      ]
     },
     "metadata": {},
     "output_type": "display_data"
    }
   ],
   "source": [
    "display(train_data.iloc[:, 1:].describe(include=[np.number]))"
   ]
  },
  {
   "cell_type": "markdown",
   "metadata": {},
   "source": [
    "Pelas medidas descritivas, é possível perceber uma grande variância nas amostras, possivelmente causada pela presença de outliners. Isso pode ser afirmado pela alta diferença entre  máximo e o mínimo de cada atributo, no pré-processamento, o objetivo será a remoção desses outliners afim de diminuir o desvio padrão."
   ]
  },
  {
   "cell_type": "markdown",
   "metadata": {},
   "source": [
    "#### Por último, será feito o levantamento de quais atributos possuem valores NaN, que precisarão ser tratados junto com os outliners"
   ]
  },
  {
   "cell_type": "code",
   "execution_count": 3862,
   "metadata": {},
   "outputs": [
    {
     "data": {
      "text/plain": [
       "Id                   0\n",
       "Peso               260\n",
       "Altura               0\n",
       "IMC               4017\n",
       "Atendimento        983\n",
       "DN                1376\n",
       "IDADE             1496\n",
       "Convenio          4493\n",
       "PULSOS            1192\n",
       "PA SISTOLICA      6495\n",
       "PA DIASTOLICA     6505\n",
       "PPA                197\n",
       "B2                1177\n",
       "SOPRO             1165\n",
       "FC                1910\n",
       "HDA 1             4614\n",
       "HDA2             14188\n",
       "SEXO                 3\n",
       "MOTIVO1           1073\n",
       "MOTIVO2           4059\n",
       "CLASSE            1168\n",
       "dtype: int64"
      ]
     },
     "metadata": {},
     "output_type": "display_data"
    }
   ],
   "source": [
    "display(train_data.isna().sum())"
   ]
  },
  {
   "cell_type": "markdown",
   "metadata": {},
   "source": [
    "Os pontos principais desse print são: apenas o atributo altura não possui valores NaN e a coluna que representa a classe possui 1168 valores NaN, que precisarão ser removidos, pois não há como preenche-los."
   ]
  },
  {
   "cell_type": "markdown",
   "metadata": {},
   "source": [
    "---\n",
    "### Pré-processamento\n",
    "\n",
    "Nesta seção, as funções da etapa de pré-processamento dos dados devem ser implementadas e aplicadas (se necessário)."
   ]
  },
  {
   "cell_type": "markdown",
   "metadata": {},
   "source": [
    "##### Para iniciar essa etapa, iremos remover colunas que não serão úteis durante o processo de treinamento, são elas: Atendimento, DN e Convenio."
   ]
  },
  {
   "cell_type": "code",
   "execution_count": 3863,
   "metadata": {},
   "outputs": [],
   "source": [
    "train_data = train_data.drop(columns=[\"Atendimento\", \"DN\", \"Convenio\"])"
   ]
  },
  {
   "cell_type": "markdown",
   "metadata": {},
   "source": [
    "#### Agora iremos começar a tratar as colunas númericas pela remoção de outliners, porém antes disso, iremos remover alguns valores inválidos manualmente, como peso menor que 0, que pode atrapalhar o processo de remoção dos outliners"
   ]
  },
  {
   "cell_type": "markdown",
   "metadata": {},
   "source": [
    "Removendo peso menor que 0"
   ]
  },
  {
   "cell_type": "code",
   "execution_count": 3864,
   "metadata": {},
   "outputs": [],
   "source": [
    "peso_invalido = train_data[train_data[\"Peso\"] < 0]\n",
    "\n",
    "train_data = train_data.drop(peso_invalido.index)"
   ]
  },
  {
   "cell_type": "markdown",
   "metadata": {},
   "source": [
    "Removendo alturas menores que 50 (altura média de um recém nascido)"
   ]
  },
  {
   "cell_type": "code",
   "execution_count": 3865,
   "metadata": {},
   "outputs": [],
   "source": [
    "altura_invalida = train_data[train_data[\"Altura\"] < 50]\n",
    "\n",
    "train_data = train_data.drop(altura_invalida.index)"
   ]
  },
  {
   "cell_type": "markdown",
   "metadata": {},
   "source": [
    "Removendo idade menor que 0 e idade maior que 19"
   ]
  },
  {
   "cell_type": "code",
   "execution_count": 3866,
   "metadata": {},
   "outputs": [],
   "source": [
    "idade_invalida = train_data[(train_data[\"IDADE\"] <= 0) | (train_data[\"IDADE\"] > 19)]\n",
    "\n",
    "train_data = train_data.drop(idade_invalida.index)"
   ]
  },
  {
   "cell_type": "markdown",
   "metadata": {},
   "source": [
    "Removendo valor de PA Sistolica irreal"
   ]
  },
  {
   "cell_type": "code",
   "execution_count": 3867,
   "metadata": {},
   "outputs": [],
   "source": [
    "pa_sistolica_invalida = train_data[\n",
    "    (train_data[\"PA SISTOLICA\"] > 500) | (train_data[\"PA SISTOLICA\"] < 40)\n",
    "]\n",
    "\n",
    "train_data = train_data.drop(pa_sistolica_invalida.index)"
   ]
  },
  {
   "cell_type": "markdown",
   "metadata": {},
   "source": [
    "Removendo valores de PA Diastolica irreais"
   ]
  },
  {
   "cell_type": "code",
   "execution_count": 3868,
   "metadata": {},
   "outputs": [],
   "source": [
    "pa_diastolica_irreal = train_data[train_data[\"PA DIASTOLICA\"] < 30]\n",
    "\n",
    "train_data = train_data.drop(pa_diastolica_irreal.index)"
   ]
  },
  {
   "cell_type": "markdown",
   "metadata": {},
   "source": [
    "Removendo valores de frequência cardíaca irreais"
   ]
  },
  {
   "cell_type": "code",
   "execution_count": 3869,
   "metadata": {},
   "outputs": [],
   "source": [
    "fc_irreal = train_data[(train_data[\"FC\"] > 250) | (train_data[\"FC\"] < 30)]\n",
    "\n",
    "train_data = train_data.drop(fc_irreal.index)"
   ]
  },
  {
   "cell_type": "markdown",
   "metadata": {},
   "source": [
    "##### Logo depois, iremos tratar os outliners das colunas numéricas, pois eles influenciam diretamente na média e mediana, que poderão ser usadas para preencher os NaN. As colunas que não serão tratadas são: PA Sistolica, PA Diastolica e FC pois os valores outliners tem grande chances de estarem diretamente relacionados com problemas cardíacos. Além disso, IMC não será tratado pois ele será recalculado com peso e altura."
   ]
  },
  {
   "cell_type": "code",
   "execution_count": 3870,
   "metadata": {},
   "outputs": [],
   "source": [
    "colunas_numericas = [\"Peso\", 'Altura', 'IDADE']\n",
    "\n",
    "# Primeiro usa a função para retornar todas as amostras que são outliners\n",
    "outliners = identifica_outliners(train_data, colunas_numericas)"
   ]
  },
  {
   "cell_type": "code",
   "execution_count": 3871,
   "metadata": {},
   "outputs": [],
   "source": [
    "train_data = train_data.drop(outliners[outliners].index)"
   ]
  },
  {
   "cell_type": "markdown",
   "metadata": {},
   "source": [
    "##### Após a remoção dos outliners, iremos novamente plotar os boxplots para valores numéricos, para analisar as mudanças"
   ]
  },
  {
   "cell_type": "code",
   "execution_count": 3872,
   "metadata": {},
   "outputs": [
    {
     "data": {
      "image/png": "[encoded data removed]",
      "text/plain": [
       "<Figure size 576x576 with 1 Axes>"
      ]
     },
     "metadata": {
      "needs_background": "light"
     },
     "output_type": "display_data"
    },
    {
     "data": {
      "image/png": "[encoded data removed]",
      "text/plain": [
       "<Figure size 576x576 with 1 Axes>"
      ]
     },
     "metadata": {
      "needs_background": "light"
     },
     "output_type": "display_data"
    },
    {
     "data": {
      "image/png": "[encoded data removed]",
      "text/plain": [
       "<Figure size 576x576 with 1 Axes>"
      ]
     },
     "metadata": {
      "needs_background": "light"
     },
     "output_type": "display_data"
    },
    {
     "data": {
      "image/png": "[encoded data removed]",
      "text/plain": [
       "<Figure size 576x576 with 1 Axes>"
      ]
     },
     "metadata": {
      "needs_background": "light"
     },
     "output_type": "display_data"
    },
    {
     "data": {
      "image/png": "[encoded data removed]",
      "text/plain": [
       "<Figure size 576x576 with 1 Axes>"
      ]
     },
     "metadata": {
      "needs_background": "light"
     },
     "output_type": "display_data"
    },
    {
     "data": {
      "image/png": "[encoded data removed]",
      "text/plain": [
       "<Figure size 576x576 with 1 Axes>"
      ]
     },
     "metadata": {
      "needs_background": "light"
     },
     "output_type": "display_data"
    }
   ],
   "source": [
    "colunas_numericas = [\"Peso\", \"Altura\", \"IDADE\", \"PA SISTOLICA\", \"PA DIASTOLICA\", \"FC\"]\n",
    "\n",
    "\n",
    "for coluna in colunas_numericas:\n",
    "    plotar_boxplot(train_data, coluna, \"CLASSE\")"
   ]
  },
  {
   "cell_type": "code",
   "execution_count": 3873,
   "metadata": {},
   "outputs": [
    {
     "data": {
      "text/html": [
       "<div>\n",
       "<style scoped>\n",
       "    .dataframe tbody tr th:only-of-type {\n",
       "        vertical-align: middle;\n",
       "    }\n",
       "\n",
       "    .dataframe tbody tr th {\n",
       "        vertical-align: top;\n",
       "    }\n",
       "\n",
       "    .dataframe thead th {\n",
       "        text-align: right;\n",
       "    }\n",
       "</style>\n",
       "<table border=\"1\" class=\"dataframe\">\n",
       "  <thead>\n",
       "    <tr style=\"text-align: right;\">\n",
       "      <th></th>\n",
       "      <th>Peso</th>\n",
       "      <th>Altura</th>\n",
       "      <th>IMC</th>\n",
       "      <th>IDADE</th>\n",
       "      <th>PA SISTOLICA</th>\n",
       "      <th>PA DIASTOLICA</th>\n",
       "      <th>FC</th>\n",
       "    </tr>\n",
       "  </thead>\n",
       "  <tbody>\n",
       "    <tr>\n",
       "      <th>count</th>\n",
       "      <td>9874.000000</td>\n",
       "      <td>10077.000000</td>\n",
       "      <td>9874.000000</td>\n",
       "      <td>9703.000000</td>\n",
       "      <td>6290.000000</td>\n",
       "      <td>6287.000000</td>\n",
       "      <td>9313.000000</td>\n",
       "    </tr>\n",
       "    <tr>\n",
       "      <th>mean</th>\n",
       "      <td>24.647407</td>\n",
       "      <td>112.880917</td>\n",
       "      <td>17.464655</td>\n",
       "      <td>6.420056</td>\n",
       "      <td>100.451033</td>\n",
       "      <td>61.860347</td>\n",
       "      <td>91.312789</td>\n",
       "    </tr>\n",
       "    <tr>\n",
       "      <th>std</th>\n",
       "      <td>14.872482</td>\n",
       "      <td>31.007403</td>\n",
       "      <td>3.935983</td>\n",
       "      <td>4.480835</td>\n",
       "      <td>10.354930</td>\n",
       "      <td>8.349274</td>\n",
       "      <td>15.691937</td>\n",
       "    </tr>\n",
       "    <tr>\n",
       "      <th>min</th>\n",
       "      <td>0.000000</td>\n",
       "      <td>50.000000</td>\n",
       "      <td>0.000000</td>\n",
       "      <td>0.010000</td>\n",
       "      <td>60.000000</td>\n",
       "      <td>35.000000</td>\n",
       "      <td>43.000000</td>\n",
       "    </tr>\n",
       "    <tr>\n",
       "      <th>25%</th>\n",
       "      <td>13.900000</td>\n",
       "      <td>92.000000</td>\n",
       "      <td>15.000000</td>\n",
       "      <td>2.700000</td>\n",
       "      <td>90.000000</td>\n",
       "      <td>60.000000</td>\n",
       "      <td>80.000000</td>\n",
       "    </tr>\n",
       "    <tr>\n",
       "      <th>50%</th>\n",
       "      <td>21.500000</td>\n",
       "      <td>115.000000</td>\n",
       "      <td>17.000000</td>\n",
       "      <td>5.890000</td>\n",
       "      <td>100.000000</td>\n",
       "      <td>60.000000</td>\n",
       "      <td>90.000000</td>\n",
       "    </tr>\n",
       "    <tr>\n",
       "      <th>75%</th>\n",
       "      <td>34.000000</td>\n",
       "      <td>137.000000</td>\n",
       "      <td>19.000000</td>\n",
       "      <td>9.910000</td>\n",
       "      <td>105.000000</td>\n",
       "      <td>65.000000</td>\n",
       "      <td>100.000000</td>\n",
       "    </tr>\n",
       "    <tr>\n",
       "      <th>max</th>\n",
       "      <td>88.000000</td>\n",
       "      <td>198.000000</td>\n",
       "      <td>167.000000</td>\n",
       "      <td>18.910000</td>\n",
       "      <td>190.000000</td>\n",
       "      <td>120.000000</td>\n",
       "      <td>230.000000</td>\n",
       "    </tr>\n",
       "  </tbody>\n",
       "</table>\n",
       "</div>"
      ],
      "text/plain": [
       "              Peso        Altura          IMC        IDADE  PA SISTOLICA  \\\n",
       "count  9874.000000  10077.000000  9874.000000  9703.000000   6290.000000   \n",
       "mean     24.647407    112.880917    17.464655     6.420056    100.451033   \n",
       "std      14.872482     31.007403     3.935983     4.480835     10.354930   \n",
       "min       0.000000     50.000000     0.000000     0.010000     60.000000   \n",
       "25%      13.900000     92.000000    15.000000     2.700000     90.000000   \n",
       "50%      21.500000    115.000000    17.000000     5.890000    100.000000   \n",
       "75%      34.000000    137.000000    19.000000     9.910000    105.000000   \n",
       "max      88.000000    198.000000   167.000000    18.910000    190.000000   \n",
       "\n",
       "       PA DIASTOLICA           FC  \n",
       "count    6287.000000  9313.000000  \n",
       "mean       61.860347    91.312789  \n",
       "std         8.349274    15.691937  \n",
       "min        35.000000    43.000000  \n",
       "25%        60.000000    80.000000  \n",
       "50%        60.000000    90.000000  \n",
       "75%        65.000000   100.000000  \n",
       "max       120.000000   230.000000  "
      ]
     },
     "metadata": {},
     "output_type": "display_data"
    }
   ],
   "source": [
    "display(train_data.iloc[:, 1:].describe(include=[np.number]))"
   ]
  },
  {
   "cell_type": "markdown",
   "metadata": {},
   "source": [
    "##### Após a plotagem dos gráficos e dos valores referentes aos dados, fica claro que a limpeza de dados irreais e a remoção de parte dos outliers diminuiu a variação dos valores, pois todos os stds diminuiram e nos gráficos, o número de outliners diminuiu drasticamente."
   ]
  },
  {
   "cell_type": "markdown",
   "metadata": {},
   "source": [
    "##### Agora com os outliners tratados, iremos substituir os valores NaN nas colunas numéricas."
   ]
  },
  {
   "cell_type": "code",
   "execution_count": 3874,
   "metadata": {},
   "outputs": [
    {
     "name": "stdout",
     "output_type": "stream",
     "text": [
      "Peso              203\n",
      "Altura              0\n",
      "IDADE             374\n",
      "PA SISTOLICA     3787\n",
      "PA DIASTOLICA    3790\n",
      "FC                764\n",
      "dtype: int64\n"
     ]
    }
   ],
   "source": [
    "print(train_data[colunas_numericas].isna().sum())"
   ]
  },
  {
   "cell_type": "markdown",
   "metadata": {},
   "source": [
    "Em todas as colunas numéricas, com exceção do IMC que será recalculado, os valores NaN serão substituidos pela mediana, visto que o desvio padrão é relativamente alto para as amostras."
   ]
  },
  {
   "cell_type": "code",
   "execution_count": 3875,
   "metadata": {},
   "outputs": [],
   "source": [
    "train_data[\"PA DIASTOLICA\"] = fill_na_mediana(train_data, \"PA DIASTOLICA\")\n",
    "train_data[\"PA SISTOLICA\"] = fill_na_mediana(train_data, \"PA SISTOLICA\")\n",
    "train_data[\"FC\"] = fill_na_mediana(train_data, \"FC\")"
   ]
  },
  {
   "cell_type": "code",
   "execution_count": 3876,
   "metadata": {},
   "outputs": [],
   "source": [
    "train_data[\"Peso\"] = fill_na_mediana(train_data, \"Peso\")\n",
    "train_data[\"Altura\"] = fill_na_mediana(train_data, \"Altura\")\n",
    "train_data[\"IDADE\"] = fill_na_mediana(train_data, \"IDADE\")"
   ]
  },
  {
   "cell_type": "code",
   "execution_count": 3877,
   "metadata": {},
   "outputs": [
    {
     "name": "stdout",
     "output_type": "stream",
     "text": [
      "Peso             0\n",
      "Altura           0\n",
      "IDADE            0\n",
      "PA SISTOLICA     0\n",
      "PA DIASTOLICA    0\n",
      "FC               0\n",
      "dtype: int64\n"
     ]
    }
   ],
   "source": [
    "print(train_data[colunas_numericas].isna().sum())"
   ]
  },
  {
   "cell_type": "markdown",
   "metadata": {},
   "source": [
    "Com isso, os valores NaN nas colunas numéricas foram resolvidos, agora basta recalcular o IMC utilizando o peso e a altura"
   ]
  },
  {
   "cell_type": "code",
   "execution_count": 3878,
   "metadata": {},
   "outputs": [],
   "source": [
    "altura_aux = train_data[\"Altura\"] / 100\n",
    "\n",
    "\n",
    "train_data[\"IMC\"] = train_data[\"Peso\"] / np.power(altura_aux, 2)"
   ]
  },
  {
   "cell_type": "code",
   "execution_count": 3879,
   "metadata": {},
   "outputs": [
    {
     "data": {
      "text/html": [
       "<div>\n",
       "<style scoped>\n",
       "    .dataframe tbody tr th:only-of-type {\n",
       "        vertical-align: middle;\n",
       "    }\n",
       "\n",
       "    .dataframe tbody tr th {\n",
       "        vertical-align: top;\n",
       "    }\n",
       "\n",
       "    .dataframe thead th {\n",
       "        text-align: right;\n",
       "    }\n",
       "</style>\n",
       "<table border=\"1\" class=\"dataframe\">\n",
       "  <thead>\n",
       "    <tr style=\"text-align: right;\">\n",
       "      <th></th>\n",
       "      <th>Id</th>\n",
       "      <th>Peso</th>\n",
       "      <th>Altura</th>\n",
       "      <th>IMC</th>\n",
       "      <th>IDADE</th>\n",
       "      <th>PA SISTOLICA</th>\n",
       "      <th>PA DIASTOLICA</th>\n",
       "      <th>FC</th>\n",
       "    </tr>\n",
       "  </thead>\n",
       "  <tbody>\n",
       "    <tr>\n",
       "      <th>count</th>\n",
       "      <td>10077.000000</td>\n",
       "      <td>10077.000000</td>\n",
       "      <td>10077.000000</td>\n",
       "      <td>10077.000000</td>\n",
       "      <td>10077.000000</td>\n",
       "      <td>10077.000000</td>\n",
       "      <td>10077.000000</td>\n",
       "      <td>10077.000000</td>\n",
       "    </tr>\n",
       "    <tr>\n",
       "      <th>mean</th>\n",
       "      <td>8837.248983</td>\n",
       "      <td>24.584003</td>\n",
       "      <td>112.880917</td>\n",
       "      <td>17.646072</td>\n",
       "      <td>6.400383</td>\n",
       "      <td>100.281532</td>\n",
       "      <td>61.160663</td>\n",
       "      <td>91.213258</td>\n",
       "    </tr>\n",
       "    <tr>\n",
       "      <th>std</th>\n",
       "      <td>5128.102689</td>\n",
       "      <td>14.728543</td>\n",
       "      <td>31.007403</td>\n",
       "      <td>5.053254</td>\n",
       "      <td>4.398030</td>\n",
       "      <td>8.183681</td>\n",
       "      <td>6.655944</td>\n",
       "      <td>15.089302</td>\n",
       "    </tr>\n",
       "    <tr>\n",
       "      <th>min</th>\n",
       "      <td>2.000000</td>\n",
       "      <td>0.000000</td>\n",
       "      <td>50.000000</td>\n",
       "      <td>0.000000</td>\n",
       "      <td>0.010000</td>\n",
       "      <td>60.000000</td>\n",
       "      <td>35.000000</td>\n",
       "      <td>43.000000</td>\n",
       "    </tr>\n",
       "    <tr>\n",
       "      <th>25%</th>\n",
       "      <td>4408.000000</td>\n",
       "      <td>14.000000</td>\n",
       "      <td>92.000000</td>\n",
       "      <td>15.378700</td>\n",
       "      <td>2.850000</td>\n",
       "      <td>100.000000</td>\n",
       "      <td>60.000000</td>\n",
       "      <td>80.000000</td>\n",
       "    </tr>\n",
       "    <tr>\n",
       "      <th>50%</th>\n",
       "      <td>8811.000000</td>\n",
       "      <td>21.500000</td>\n",
       "      <td>115.000000</td>\n",
       "      <td>16.949153</td>\n",
       "      <td>5.890000</td>\n",
       "      <td>100.000000</td>\n",
       "      <td>60.000000</td>\n",
       "      <td>90.000000</td>\n",
       "    </tr>\n",
       "    <tr>\n",
       "      <th>75%</th>\n",
       "      <td>13152.000000</td>\n",
       "      <td>33.300000</td>\n",
       "      <td>137.000000</td>\n",
       "      <td>19.229649</td>\n",
       "      <td>9.760000</td>\n",
       "      <td>100.000000</td>\n",
       "      <td>60.000000</td>\n",
       "      <td>100.000000</td>\n",
       "    </tr>\n",
       "    <tr>\n",
       "      <th>max</th>\n",
       "      <td>17869.000000</td>\n",
       "      <td>88.000000</td>\n",
       "      <td>198.000000</td>\n",
       "      <td>167.319331</td>\n",
       "      <td>18.910000</td>\n",
       "      <td>190.000000</td>\n",
       "      <td>120.000000</td>\n",
       "      <td>230.000000</td>\n",
       "    </tr>\n",
       "  </tbody>\n",
       "</table>\n",
       "</div>"
      ],
      "text/plain": [
       "                 Id          Peso        Altura           IMC         IDADE  \\\n",
       "count  10077.000000  10077.000000  10077.000000  10077.000000  10077.000000   \n",
       "mean    8837.248983     24.584003    112.880917     17.646072      6.400383   \n",
       "std     5128.102689     14.728543     31.007403      5.053254      4.398030   \n",
       "min        2.000000      0.000000     50.000000      0.000000      0.010000   \n",
       "25%     4408.000000     14.000000     92.000000     15.378700      2.850000   \n",
       "50%     8811.000000     21.500000    115.000000     16.949153      5.890000   \n",
       "75%    13152.000000     33.300000    137.000000     19.229649      9.760000   \n",
       "max    17869.000000     88.000000    198.000000    167.319331     18.910000   \n",
       "\n",
       "       PA SISTOLICA  PA DIASTOLICA            FC  \n",
       "count  10077.000000   10077.000000  10077.000000  \n",
       "mean     100.281532      61.160663     91.213258  \n",
       "std        8.183681       6.655944     15.089302  \n",
       "min       60.000000      35.000000     43.000000  \n",
       "25%      100.000000      60.000000     80.000000  \n",
       "50%      100.000000      60.000000     90.000000  \n",
       "75%      100.000000      60.000000    100.000000  \n",
       "max      190.000000     120.000000    230.000000  "
      ]
     },
     "metadata": {},
     "output_type": "display_data"
    }
   ],
   "source": [
    "display(train_data.describe())"
   ]
  },
  {
   "cell_type": "code",
   "execution_count": 3880,
   "metadata": {},
   "outputs": [
    {
     "data": {
      "text/html": [
       "<div>\n",
       "<style scoped>\n",
       "    .dataframe tbody tr th:only-of-type {\n",
       "        vertical-align: middle;\n",
       "    }\n",
       "\n",
       "    .dataframe tbody tr th {\n",
       "        vertical-align: top;\n",
       "    }\n",
       "\n",
       "    .dataframe thead th {\n",
       "        text-align: right;\n",
       "    }\n",
       "</style>\n",
       "<table border=\"1\" class=\"dataframe\">\n",
       "  <thead>\n",
       "    <tr style=\"text-align: right;\">\n",
       "      <th></th>\n",
       "      <th>Id</th>\n",
       "      <th>Peso</th>\n",
       "      <th>Altura</th>\n",
       "      <th>IMC</th>\n",
       "      <th>IDADE</th>\n",
       "      <th>PULSOS</th>\n",
       "      <th>PA SISTOLICA</th>\n",
       "      <th>PA DIASTOLICA</th>\n",
       "      <th>PPA</th>\n",
       "      <th>B2</th>\n",
       "      <th>SOPRO</th>\n",
       "      <th>FC</th>\n",
       "      <th>HDA 1</th>\n",
       "      <th>HDA2</th>\n",
       "      <th>SEXO</th>\n",
       "      <th>MOTIVO1</th>\n",
       "      <th>MOTIVO2</th>\n",
       "      <th>CLASSE</th>\n",
       "    </tr>\n",
       "  </thead>\n",
       "  <tbody>\n",
       "    <tr>\n",
       "      <th>0</th>\n",
       "      <td>10524</td>\n",
       "      <td>28.0</td>\n",
       "      <td>123</td>\n",
       "      <td>18.507502</td>\n",
       "      <td>5.79</td>\n",
       "      <td>Normais</td>\n",
       "      <td>110.0</td>\n",
       "      <td>80.0</td>\n",
       "      <td>HAS-1 PAD</td>\n",
       "      <td>Normal</td>\n",
       "      <td>ausente</td>\n",
       "      <td>100.0</td>\n",
       "      <td>Palpitacao</td>\n",
       "      <td>NaN</td>\n",
       "      <td>M</td>\n",
       "      <td>6 - Suspeita de cardiopatia</td>\n",
       "      <td>6 - Palpitação/taquicardia/arritmia</td>\n",
       "      <td>Normal</td>\n",
       "    </tr>\n",
       "    <tr>\n",
       "      <th>2</th>\n",
       "      <td>4483</td>\n",
       "      <td>13.0</td>\n",
       "      <td>87</td>\n",
       "      <td>17.175320</td>\n",
       "      <td>2.21</td>\n",
       "      <td>Normais</td>\n",
       "      <td>100.0</td>\n",
       "      <td>60.0</td>\n",
       "      <td>Não Calculado</td>\n",
       "      <td>Normal</td>\n",
       "      <td>Sistólico</td>\n",
       "      <td>100.0</td>\n",
       "      <td>Assintomático</td>\n",
       "      <td>NaN</td>\n",
       "      <td>M</td>\n",
       "      <td>6 - Suspeita de cardiopatia</td>\n",
       "      <td>6 - Sopro</td>\n",
       "      <td>Anormal</td>\n",
       "    </tr>\n",
       "    <tr>\n",
       "      <th>4</th>\n",
       "      <td>11652</td>\n",
       "      <td>42.4</td>\n",
       "      <td>136</td>\n",
       "      <td>22.923875</td>\n",
       "      <td>0.06</td>\n",
       "      <td>Normais</td>\n",
       "      <td>100.0</td>\n",
       "      <td>60.0</td>\n",
       "      <td>Não Calculado</td>\n",
       "      <td>Normal</td>\n",
       "      <td>ausente</td>\n",
       "      <td>78.0</td>\n",
       "      <td>Assintomático</td>\n",
       "      <td>NaN</td>\n",
       "      <td>F</td>\n",
       "      <td>5 - Parecer cardiológico</td>\n",
       "      <td>NaN</td>\n",
       "      <td>Normal</td>\n",
       "    </tr>\n",
       "    <tr>\n",
       "      <th>5</th>\n",
       "      <td>15430</td>\n",
       "      <td>45.0</td>\n",
       "      <td>161</td>\n",
       "      <td>17.360441</td>\n",
       "      <td>7.60</td>\n",
       "      <td>Normais</td>\n",
       "      <td>120.0</td>\n",
       "      <td>70.0</td>\n",
       "      <td>HAS-1 PAS</td>\n",
       "      <td>Normal</td>\n",
       "      <td>ausente</td>\n",
       "      <td>80.0</td>\n",
       "      <td>Assintomático</td>\n",
       "      <td>NaN</td>\n",
       "      <td>M</td>\n",
       "      <td>5 - Parecer cardiológico</td>\n",
       "      <td>5 - Cirurgia</td>\n",
       "      <td>Normal</td>\n",
       "    </tr>\n",
       "    <tr>\n",
       "      <th>6</th>\n",
       "      <td>1023</td>\n",
       "      <td>18.5</td>\n",
       "      <td>105</td>\n",
       "      <td>16.780045</td>\n",
       "      <td>3.93</td>\n",
       "      <td>Normais</td>\n",
       "      <td>90.0</td>\n",
       "      <td>60.0</td>\n",
       "      <td>Normal</td>\n",
       "      <td>Normal</td>\n",
       "      <td>ausente</td>\n",
       "      <td>92.0</td>\n",
       "      <td>NaN</td>\n",
       "      <td>NaN</td>\n",
       "      <td>F</td>\n",
       "      <td>7 - Outro</td>\n",
       "      <td>Outro</td>\n",
       "      <td>Normal</td>\n",
       "    </tr>\n",
       "    <tr>\n",
       "      <th>...</th>\n",
       "      <td>...</td>\n",
       "      <td>...</td>\n",
       "      <td>...</td>\n",
       "      <td>...</td>\n",
       "      <td>...</td>\n",
       "      <td>...</td>\n",
       "      <td>...</td>\n",
       "      <td>...</td>\n",
       "      <td>...</td>\n",
       "      <td>...</td>\n",
       "      <td>...</td>\n",
       "      <td>...</td>\n",
       "      <td>...</td>\n",
       "      <td>...</td>\n",
       "      <td>...</td>\n",
       "      <td>...</td>\n",
       "      <td>...</td>\n",
       "      <td>...</td>\n",
       "    </tr>\n",
       "    <tr>\n",
       "      <th>14719</th>\n",
       "      <td>9673</td>\n",
       "      <td>16.7</td>\n",
       "      <td>100</td>\n",
       "      <td>16.700000</td>\n",
       "      <td>3.49</td>\n",
       "      <td>Normais</td>\n",
       "      <td>90.0</td>\n",
       "      <td>60.0</td>\n",
       "      <td>Normal</td>\n",
       "      <td>Normal</td>\n",
       "      <td>ausente</td>\n",
       "      <td>120.0</td>\n",
       "      <td>NaN</td>\n",
       "      <td>NaN</td>\n",
       "      <td>F</td>\n",
       "      <td>6 - Suspeita de cardiopatia</td>\n",
       "      <td>6 - Dor precordial</td>\n",
       "      <td>Normal</td>\n",
       "    </tr>\n",
       "    <tr>\n",
       "      <th>14721</th>\n",
       "      <td>3023</td>\n",
       "      <td>25.0</td>\n",
       "      <td>126</td>\n",
       "      <td>15.747040</td>\n",
       "      <td>8.80</td>\n",
       "      <td>Normais</td>\n",
       "      <td>100.0</td>\n",
       "      <td>60.0</td>\n",
       "      <td>Normal</td>\n",
       "      <td>Normal</td>\n",
       "      <td>ausente</td>\n",
       "      <td>76.0</td>\n",
       "      <td>Assintomático</td>\n",
       "      <td>NaN</td>\n",
       "      <td>F</td>\n",
       "      <td>5 - Parecer cardiológico</td>\n",
       "      <td>NaN</td>\n",
       "      <td>Normal</td>\n",
       "    </tr>\n",
       "    <tr>\n",
       "      <th>14723</th>\n",
       "      <td>3249</td>\n",
       "      <td>30.0</td>\n",
       "      <td>113</td>\n",
       "      <td>23.494401</td>\n",
       "      <td>4.97</td>\n",
       "      <td>Normais</td>\n",
       "      <td>105.0</td>\n",
       "      <td>70.0</td>\n",
       "      <td>Pre-Hipertensão PAD</td>\n",
       "      <td>Normal</td>\n",
       "      <td>sistólico</td>\n",
       "      <td>92.0</td>\n",
       "      <td>Dispneia</td>\n",
       "      <td>Palpitacao</td>\n",
       "      <td>F</td>\n",
       "      <td>6 - Suspeita de cardiopatia</td>\n",
       "      <td>6 - Dispnéia</td>\n",
       "      <td>Anormal</td>\n",
       "    </tr>\n",
       "    <tr>\n",
       "      <th>14724</th>\n",
       "      <td>3207</td>\n",
       "      <td>25.8</td>\n",
       "      <td>130</td>\n",
       "      <td>15.266272</td>\n",
       "      <td>7.69</td>\n",
       "      <td>Normais</td>\n",
       "      <td>90.0</td>\n",
       "      <td>55.0</td>\n",
       "      <td>Normal</td>\n",
       "      <td>Normal</td>\n",
       "      <td>ausente</td>\n",
       "      <td>78.0</td>\n",
       "      <td>Assintomático</td>\n",
       "      <td>NaN</td>\n",
       "      <td>M</td>\n",
       "      <td>6 - Suspeita de cardiopatia</td>\n",
       "      <td>6 - Sopro</td>\n",
       "      <td>Normal</td>\n",
       "    </tr>\n",
       "    <tr>\n",
       "      <th>14726</th>\n",
       "      <td>9470</td>\n",
       "      <td>13.0</td>\n",
       "      <td>89</td>\n",
       "      <td>16.412069</td>\n",
       "      <td>2.97</td>\n",
       "      <td>Normais</td>\n",
       "      <td>100.0</td>\n",
       "      <td>60.0</td>\n",
       "      <td>Não Calculado</td>\n",
       "      <td>Normal</td>\n",
       "      <td>ausente</td>\n",
       "      <td>96.0</td>\n",
       "      <td>Assintomático</td>\n",
       "      <td>NaN</td>\n",
       "      <td>F</td>\n",
       "      <td>5 - Parecer cardiológico</td>\n",
       "      <td>NaN</td>\n",
       "      <td>Normal</td>\n",
       "    </tr>\n",
       "  </tbody>\n",
       "</table>\n",
       "<p>10077 rows × 18 columns</p>\n",
       "</div>"
      ],
      "text/plain": [
       "          Id  Peso  Altura        IMC  IDADE   PULSOS  PA SISTOLICA  \\\n",
       "0      10524  28.0     123  18.507502   5.79  Normais         110.0   \n",
       "2       4483  13.0      87  17.175320   2.21  Normais         100.0   \n",
       "4      11652  42.4     136  22.923875   0.06  Normais         100.0   \n",
       "5      15430  45.0     161  17.360441   7.60  Normais         120.0   \n",
       "6       1023  18.5     105  16.780045   3.93  Normais          90.0   \n",
       "...      ...   ...     ...        ...    ...      ...           ...   \n",
       "14719   9673  16.7     100  16.700000   3.49  Normais          90.0   \n",
       "14721   3023  25.0     126  15.747040   8.80  Normais         100.0   \n",
       "14723   3249  30.0     113  23.494401   4.97  Normais         105.0   \n",
       "14724   3207  25.8     130  15.266272   7.69  Normais          90.0   \n",
       "14726   9470  13.0      89  16.412069   2.97  Normais         100.0   \n",
       "\n",
       "       PA DIASTOLICA                  PPA      B2      SOPRO     FC  \\\n",
       "0               80.0            HAS-1 PAD  Normal    ausente  100.0   \n",
       "2               60.0        Não Calculado  Normal  Sistólico  100.0   \n",
       "4               60.0        Não Calculado  Normal    ausente   78.0   \n",
       "5               70.0            HAS-1 PAS  Normal    ausente   80.0   \n",
       "6               60.0               Normal  Normal    ausente   92.0   \n",
       "...              ...                  ...     ...        ...    ...   \n",
       "14719           60.0               Normal  Normal    ausente  120.0   \n",
       "14721           60.0               Normal  Normal    ausente   76.0   \n",
       "14723           70.0  Pre-Hipertensão PAD  Normal  sistólico   92.0   \n",
       "14724           55.0               Normal  Normal    ausente   78.0   \n",
       "14726           60.0        Não Calculado  Normal    ausente   96.0   \n",
       "\n",
       "               HDA 1        HDA2 SEXO                      MOTIVO1  \\\n",
       "0         Palpitacao         NaN    M  6 - Suspeita de cardiopatia   \n",
       "2      Assintomático         NaN    M  6 - Suspeita de cardiopatia   \n",
       "4      Assintomático         NaN    F     5 - Parecer cardiológico   \n",
       "5      Assintomático         NaN    M     5 - Parecer cardiológico   \n",
       "6                NaN         NaN    F                    7 - Outro   \n",
       "...              ...         ...  ...                          ...   \n",
       "14719            NaN         NaN    F  6 - Suspeita de cardiopatia   \n",
       "14721  Assintomático         NaN    F     5 - Parecer cardiológico   \n",
       "14723       Dispneia  Palpitacao    F  6 - Suspeita de cardiopatia   \n",
       "14724  Assintomático         NaN    M  6 - Suspeita de cardiopatia   \n",
       "14726  Assintomático         NaN    F     5 - Parecer cardiológico   \n",
       "\n",
       "                                   MOTIVO2   CLASSE  \n",
       "0      6 - Palpitação/taquicardia/arritmia   Normal  \n",
       "2                                6 - Sopro  Anormal  \n",
       "4                                      NaN   Normal  \n",
       "5                             5 - Cirurgia   Normal  \n",
       "6                                    Outro   Normal  \n",
       "...                                    ...      ...  \n",
       "14719                   6 - Dor precordial   Normal  \n",
       "14721                                  NaN   Normal  \n",
       "14723                         6 - Dispnéia  Anormal  \n",
       "14724                            6 - Sopro   Normal  \n",
       "14726                                  NaN   Normal  \n",
       "\n",
       "[10077 rows x 18 columns]"
      ]
     },
     "metadata": {},
     "output_type": "display_data"
    }
   ],
   "source": [
    "display(train_data)"
   ]
  },
  {
   "cell_type": "markdown",
   "metadata": {},
   "source": [
    "#### Agora com todas as colunas numéricas tratadas, partiremos para as colunas não numéricas"
   ]
  },
  {
   "cell_type": "markdown",
   "metadata": {},
   "source": [
    "Substituindo 'Normais' por 'Normal' no atributo CLASSE."
   ]
  },
  {
   "cell_type": "code",
   "execution_count": 3881,
   "metadata": {},
   "outputs": [],
   "source": [
    "substituir(train_data, \"CLASSE\", \"Normais\", \"Normal\")"
   ]
  },
  {
   "cell_type": "code",
   "execution_count": 3882,
   "metadata": {},
   "outputs": [
    {
     "name": "stdout",
     "output_type": "stream",
     "text": [
      "['Normal' 'Anormal' nan]\n"
     ]
    }
   ],
   "source": [
    "print(train_data[\"CLASSE\"].unique())"
   ]
  },
  {
   "cell_type": "markdown",
   "metadata": {},
   "source": [
    "Substituindo 'NORMAIS' por 'Normais' e 'AMPLOS' por 'Amplos' no atributo PULSOS"
   ]
  },
  {
   "cell_type": "code",
   "execution_count": 3883,
   "metadata": {},
   "outputs": [],
   "source": [
    "substituir(train_data, \"PULSOS\", \"NORMAIS\", \"Normais\")\n",
    "substituir(train_data, \"PULSOS\", \"AMPLOS\", \"Amplos\")"
   ]
  },
  {
   "cell_type": "code",
   "execution_count": 3884,
   "metadata": {},
   "outputs": [
    {
     "name": "stdout",
     "output_type": "stream",
     "text": [
      "['Normais' 'Femorais diminuidos' nan 'Outro' 'Amplos' 'Diminuídos ']\n"
     ]
    }
   ],
   "source": [
    "print(train_data[\"PULSOS\"].unique())"
   ]
  },
  {
   "cell_type": "markdown",
   "metadata": {},
   "source": [
    "Substituindo 'sistólico' por 'Sistólico' e 'contínuo' por 'Contínuo'"
   ]
  },
  {
   "cell_type": "code",
   "execution_count": 3885,
   "metadata": {},
   "outputs": [],
   "source": [
    "substituir(train_data, \"SOPRO\", \"sistólico\", \"Sistólico\")\n",
    "substituir(train_data, \"SOPRO\", \"contínuo\", \"Contínuo\")"
   ]
  },
  {
   "cell_type": "code",
   "execution_count": 3886,
   "metadata": {},
   "outputs": [
    {
     "name": "stdout",
     "output_type": "stream",
     "text": [
      "['ausente' 'Sistólico' nan 'Contínuo' 'diastólico'\n",
      " 'Sistolico e diastólico']\n"
     ]
    }
   ],
   "source": [
    "print(train_data[\"SOPRO\"].unique())"
   ]
  },
  {
   "cell_type": "markdown",
   "metadata": {},
   "source": [
    "Substituindo 'Masculino' e 'masculino' por 'M' e 'Feminino' por 'F'"
   ]
  },
  {
   "cell_type": "code",
   "execution_count": 3887,
   "metadata": {},
   "outputs": [],
   "source": [
    "substituir(train_data, \"SEXO\", \"Masculino\", \"M\")\n",
    "substituir(train_data, \"SEXO\", \"masculino\", \"M\")\n",
    "\n",
    "substituir(train_data, \"SEXO\", \"Feminino\", \"F\")"
   ]
  },
  {
   "cell_type": "code",
   "execution_count": 3888,
   "metadata": {},
   "outputs": [
    {
     "name": "stdout",
     "output_type": "stream",
     "text": [
      "['M' 'F' 'Indeterminado' nan]\n"
     ]
    }
   ],
   "source": [
    "print(train_data[\"SEXO\"].unique())"
   ]
  },
  {
   "cell_type": "code",
   "execution_count": 3889,
   "metadata": {},
   "outputs": [
    {
     "name": "stdout",
     "output_type": "stream",
     "text": [
      "Id                  0\n",
      "Peso                0\n",
      "Altura              0\n",
      "IMC                 0\n",
      "IDADE               0\n",
      "PULSOS            310\n",
      "PA SISTOLICA        0\n",
      "PA DIASTOLICA       0\n",
      "PPA               100\n",
      "B2                302\n",
      "SOPRO             297\n",
      "FC                  0\n",
      "HDA 1            2563\n",
      "HDA2             9694\n",
      "SEXO                2\n",
      "MOTIVO1           102\n",
      "MOTIVO2          2222\n",
      "CLASSE            307\n",
      "dtype: int64\n"
     ]
    }
   ],
   "source": [
    "print(train_data.isna().sum())"
   ]
  },
  {
   "cell_type": "markdown",
   "metadata": {},
   "source": [
    "#### Agora com a remoção de valores redundantes, será tratados os valores NaN das colunas não numéricas"
   ]
  },
  {
   "cell_type": "markdown",
   "metadata": {},
   "source": [
    "Removendo NaN de PULSOS"
   ]
  },
  {
   "cell_type": "code",
   "execution_count": 3890,
   "metadata": {},
   "outputs": [],
   "source": [
    "train_data = train_data.dropna(subset=[\"PULSOS\"])"
   ]
  },
  {
   "cell_type": "code",
   "execution_count": 3891,
   "metadata": {},
   "outputs": [
    {
     "name": "stdout",
     "output_type": "stream",
     "text": [
      "0\n"
     ]
    }
   ],
   "source": [
    "print(train_data[\"PULSOS\"].isna().sum())"
   ]
  },
  {
   "cell_type": "markdown",
   "metadata": {},
   "source": [
    "Removendo NaN de B2"
   ]
  },
  {
   "cell_type": "code",
   "execution_count": 3892,
   "metadata": {},
   "outputs": [],
   "source": [
    "train_data = train_data.dropna(subset=[\"B2\"])"
   ]
  },
  {
   "cell_type": "code",
   "execution_count": 3893,
   "metadata": {},
   "outputs": [
    {
     "name": "stdout",
     "output_type": "stream",
     "text": [
      "0\n"
     ]
    }
   ],
   "source": [
    "print(train_data[\"B2\"].isna().sum())"
   ]
  },
  {
   "cell_type": "markdown",
   "metadata": {},
   "source": [
    "Sopro já não contém mais NaN"
   ]
  },
  {
   "cell_type": "code",
   "execution_count": 3894,
   "metadata": {},
   "outputs": [
    {
     "name": "stdout",
     "output_type": "stream",
     "text": [
      "0\n"
     ]
    }
   ],
   "source": [
    "print(train_data[\"SOPRO\"].isna().sum())"
   ]
  },
  {
   "cell_type": "markdown",
   "metadata": {},
   "source": [
    "Como HDA 1 e HDA2 tem muitas amostrar com NaN, é mais interessane mantê-las ao invés de remove-las, por isso, substituiremos por 'Assintomáticos'. Visto que não há sintomas (NaN), assintomáticos é uma substituição válida."
   ]
  },
  {
   "cell_type": "code",
   "execution_count": 3895,
   "metadata": {},
   "outputs": [],
   "source": [
    "train_data = train_data.dropna(subset=['HDA 1'])"
   ]
  },
  {
   "cell_type": "code",
   "execution_count": 3896,
   "metadata": {},
   "outputs": [],
   "source": [
    "train_data[\"HDA2\"] = train_data[\"HDA2\"].fillna(\"Assintomático\")"
   ]
  },
  {
   "cell_type": "markdown",
   "metadata": {},
   "source": [
    "Iremos plotar os gráficos de HDA1 e HDA 2 novamente para ver as mudanças"
   ]
  },
  {
   "cell_type": "code",
   "execution_count": 3897,
   "metadata": {},
   "outputs": [
    {
     "data": {
      "image/png": "[encoded data removed]",
      "text/plain": [
       "<Figure size 864x432 with 1 Axes>"
      ]
     },
     "metadata": {
      "needs_background": "light"
     },
     "output_type": "display_data"
    },
    {
     "data": {
      "image/png": "[encoded data removed]",
      "text/plain": [
       "<Figure size 864x432 with 1 Axes>"
      ]
     },
     "metadata": {
      "needs_background": "light"
     },
     "output_type": "display_data"
    }
   ],
   "source": [
    "plotar_grafico_barras(train_data, \"HDA 1\", \"CLASSE\")\n",
    "plotar_grafico_barras(train_data, \"HDA2\", \"CLASSE\")"
   ]
  },
  {
   "cell_type": "markdown",
   "metadata": {},
   "source": [
    "Removendo NaN de SEXO"
   ]
  },
  {
   "cell_type": "code",
   "execution_count": 3898,
   "metadata": {},
   "outputs": [],
   "source": [
    "train_data = train_data.dropna(subset=[\"SEXO\"])"
   ]
  },
  {
   "cell_type": "code",
   "execution_count": 3899,
   "metadata": {},
   "outputs": [
    {
     "name": "stdout",
     "output_type": "stream",
     "text": [
      "0\n"
     ]
    }
   ],
   "source": [
    "print(train_data[\"SEXO\"].isna().sum())"
   ]
  },
  {
   "cell_type": "markdown",
   "metadata": {},
   "source": [
    "Removendo NaN de MOTIVO1"
   ]
  },
  {
   "cell_type": "code",
   "execution_count": 3900,
   "metadata": {},
   "outputs": [],
   "source": [
    "train_data = train_data.dropna(subset=[\"MOTIVO1\"])"
   ]
  },
  {
   "cell_type": "code",
   "execution_count": 3901,
   "metadata": {},
   "outputs": [
    {
     "name": "stdout",
     "output_type": "stream",
     "text": [
      "0\n"
     ]
    }
   ],
   "source": [
    "print(train_data[\"MOTIVO1\"].isna().sum())"
   ]
  },
  {
   "cell_type": "markdown",
   "metadata": {},
   "source": [
    "Removendo NaN de MOTIVO2 (ponto de atenção, pois são muitas amostras)"
   ]
  },
  {
   "cell_type": "code",
   "execution_count": 3902,
   "metadata": {},
   "outputs": [],
   "source": [
    "train_data = train_data.dropna(subset=[\"MOTIVO2\"])"
   ]
  },
  {
   "cell_type": "code",
   "execution_count": 3903,
   "metadata": {},
   "outputs": [
    {
     "name": "stdout",
     "output_type": "stream",
     "text": [
      "0\n"
     ]
    }
   ],
   "source": [
    "print(train_data[\"MOTIVO2\"].isna().sum())"
   ]
  },
  {
   "cell_type": "markdown",
   "metadata": {},
   "source": [
    "Removendo NaN e #VALUE! de PPA, os trocando por não calculado"
   ]
  },
  {
   "cell_type": "code",
   "execution_count": 3904,
   "metadata": {},
   "outputs": [
    {
     "name": "stdout",
     "output_type": "stream",
     "text": [
      "['HAS-1 PAD' 'Não Calculado' 'HAS-1 PAS' 'Normal' 'Pre-Hipertensão PAS'\n",
      " 'HAS-2 PAS' nan 'Pre-Hipertensão PAD' '#VALUE!' 'HAS-2 PAD']\n"
     ]
    }
   ],
   "source": [
    "print(train_data['PPA'].unique())"
   ]
  },
  {
   "cell_type": "code",
   "execution_count": 3905,
   "metadata": {},
   "outputs": [],
   "source": [
    "train_data[\"PPA\"] = train_data[\"PPA\"].replace('#VALUE!', np.nan)"
   ]
  },
  {
   "cell_type": "code",
   "execution_count": 3906,
   "metadata": {},
   "outputs": [],
   "source": [
    "train_data = train_data.dropna(subset=[\"PPA\"])"
   ]
  },
  {
   "cell_type": "code",
   "execution_count": 3907,
   "metadata": {},
   "outputs": [
    {
     "name": "stdout",
     "output_type": "stream",
     "text": [
      "0\n"
     ]
    }
   ],
   "source": [
    "print(train_data[\"PPA\"].isna().sum())"
   ]
  },
  {
   "cell_type": "code",
   "execution_count": 3908,
   "metadata": {},
   "outputs": [
    {
     "data": {
      "text/html": [
       "<div>\n",
       "<style scoped>\n",
       "    .dataframe tbody tr th:only-of-type {\n",
       "        vertical-align: middle;\n",
       "    }\n",
       "\n",
       "    .dataframe tbody tr th {\n",
       "        vertical-align: top;\n",
       "    }\n",
       "\n",
       "    .dataframe thead th {\n",
       "        text-align: right;\n",
       "    }\n",
       "</style>\n",
       "<table border=\"1\" class=\"dataframe\">\n",
       "  <thead>\n",
       "    <tr style=\"text-align: right;\">\n",
       "      <th></th>\n",
       "      <th>Id</th>\n",
       "      <th>Peso</th>\n",
       "      <th>Altura</th>\n",
       "      <th>IMC</th>\n",
       "      <th>IDADE</th>\n",
       "      <th>PULSOS</th>\n",
       "      <th>PA SISTOLICA</th>\n",
       "      <th>PA DIASTOLICA</th>\n",
       "      <th>PPA</th>\n",
       "      <th>B2</th>\n",
       "      <th>SOPRO</th>\n",
       "      <th>FC</th>\n",
       "      <th>HDA 1</th>\n",
       "      <th>HDA2</th>\n",
       "      <th>SEXO</th>\n",
       "      <th>MOTIVO1</th>\n",
       "      <th>MOTIVO2</th>\n",
       "      <th>CLASSE</th>\n",
       "    </tr>\n",
       "  </thead>\n",
       "  <tbody>\n",
       "    <tr>\n",
       "      <th>0</th>\n",
       "      <td>10524</td>\n",
       "      <td>28.0</td>\n",
       "      <td>123</td>\n",
       "      <td>18.507502</td>\n",
       "      <td>5.79</td>\n",
       "      <td>Normais</td>\n",
       "      <td>110.0</td>\n",
       "      <td>80.0</td>\n",
       "      <td>HAS-1 PAD</td>\n",
       "      <td>Normal</td>\n",
       "      <td>ausente</td>\n",
       "      <td>100.0</td>\n",
       "      <td>Palpitacao</td>\n",
       "      <td>Assintomático</td>\n",
       "      <td>M</td>\n",
       "      <td>6 - Suspeita de cardiopatia</td>\n",
       "      <td>6 - Palpitação/taquicardia/arritmia</td>\n",
       "      <td>Normal</td>\n",
       "    </tr>\n",
       "    <tr>\n",
       "      <th>2</th>\n",
       "      <td>4483</td>\n",
       "      <td>13.0</td>\n",
       "      <td>87</td>\n",
       "      <td>17.175320</td>\n",
       "      <td>2.21</td>\n",
       "      <td>Normais</td>\n",
       "      <td>100.0</td>\n",
       "      <td>60.0</td>\n",
       "      <td>Não Calculado</td>\n",
       "      <td>Normal</td>\n",
       "      <td>Sistólico</td>\n",
       "      <td>100.0</td>\n",
       "      <td>Assintomático</td>\n",
       "      <td>Assintomático</td>\n",
       "      <td>M</td>\n",
       "      <td>6 - Suspeita de cardiopatia</td>\n",
       "      <td>6 - Sopro</td>\n",
       "      <td>Anormal</td>\n",
       "    </tr>\n",
       "    <tr>\n",
       "      <th>5</th>\n",
       "      <td>15430</td>\n",
       "      <td>45.0</td>\n",
       "      <td>161</td>\n",
       "      <td>17.360441</td>\n",
       "      <td>7.60</td>\n",
       "      <td>Normais</td>\n",
       "      <td>120.0</td>\n",
       "      <td>70.0</td>\n",
       "      <td>HAS-1 PAS</td>\n",
       "      <td>Normal</td>\n",
       "      <td>ausente</td>\n",
       "      <td>80.0</td>\n",
       "      <td>Assintomático</td>\n",
       "      <td>Assintomático</td>\n",
       "      <td>M</td>\n",
       "      <td>5 - Parecer cardiológico</td>\n",
       "      <td>5 - Cirurgia</td>\n",
       "      <td>Normal</td>\n",
       "    </tr>\n",
       "    <tr>\n",
       "      <th>8</th>\n",
       "      <td>14309</td>\n",
       "      <td>24.0</td>\n",
       "      <td>112</td>\n",
       "      <td>19.132653</td>\n",
       "      <td>5.27</td>\n",
       "      <td>Normais</td>\n",
       "      <td>100.0</td>\n",
       "      <td>60.0</td>\n",
       "      <td>Normal</td>\n",
       "      <td>Normal</td>\n",
       "      <td>ausente</td>\n",
       "      <td>100.0</td>\n",
       "      <td>Outro</td>\n",
       "      <td>Assintomático</td>\n",
       "      <td>M</td>\n",
       "      <td>6 - Suspeita de cardiopatia</td>\n",
       "      <td>6 - HAS/dislipidemia/obesidade</td>\n",
       "      <td>Normal</td>\n",
       "    </tr>\n",
       "    <tr>\n",
       "      <th>9</th>\n",
       "      <td>3437</td>\n",
       "      <td>17.0</td>\n",
       "      <td>100</td>\n",
       "      <td>17.000000</td>\n",
       "      <td>3.44</td>\n",
       "      <td>Normais</td>\n",
       "      <td>100.0</td>\n",
       "      <td>60.0</td>\n",
       "      <td>Não Calculado</td>\n",
       "      <td>Normal</td>\n",
       "      <td>ausente</td>\n",
       "      <td>92.0</td>\n",
       "      <td>Assintomático</td>\n",
       "      <td>Assintomático</td>\n",
       "      <td>M</td>\n",
       "      <td>5 - Parecer cardiológico</td>\n",
       "      <td>5 - Cirurgia</td>\n",
       "      <td>Normal</td>\n",
       "    </tr>\n",
       "    <tr>\n",
       "      <th>...</th>\n",
       "      <td>...</td>\n",
       "      <td>...</td>\n",
       "      <td>...</td>\n",
       "      <td>...</td>\n",
       "      <td>...</td>\n",
       "      <td>...</td>\n",
       "      <td>...</td>\n",
       "      <td>...</td>\n",
       "      <td>...</td>\n",
       "      <td>...</td>\n",
       "      <td>...</td>\n",
       "      <td>...</td>\n",
       "      <td>...</td>\n",
       "      <td>...</td>\n",
       "      <td>...</td>\n",
       "      <td>...</td>\n",
       "      <td>...</td>\n",
       "      <td>...</td>\n",
       "    </tr>\n",
       "    <tr>\n",
       "      <th>14715</th>\n",
       "      <td>12739</td>\n",
       "      <td>40.0</td>\n",
       "      <td>130</td>\n",
       "      <td>23.668639</td>\n",
       "      <td>8.03</td>\n",
       "      <td>Normais</td>\n",
       "      <td>90.0</td>\n",
       "      <td>60.0</td>\n",
       "      <td>Normal</td>\n",
       "      <td>Normal</td>\n",
       "      <td>Sistólico</td>\n",
       "      <td>92.0</td>\n",
       "      <td>Dor precordial</td>\n",
       "      <td>Assintomático</td>\n",
       "      <td>M</td>\n",
       "      <td>6 - Suspeita de cardiopatia</td>\n",
       "      <td>6 - Dor precordial</td>\n",
       "      <td>Anormal</td>\n",
       "    </tr>\n",
       "    <tr>\n",
       "      <th>14716</th>\n",
       "      <td>390</td>\n",
       "      <td>25.0</td>\n",
       "      <td>110</td>\n",
       "      <td>20.661157</td>\n",
       "      <td>5.15</td>\n",
       "      <td>Normais</td>\n",
       "      <td>100.0</td>\n",
       "      <td>60.0</td>\n",
       "      <td>Não Calculado</td>\n",
       "      <td>Normal</td>\n",
       "      <td>ausente</td>\n",
       "      <td>92.0</td>\n",
       "      <td>Assintomático</td>\n",
       "      <td>Assintomático</td>\n",
       "      <td>F</td>\n",
       "      <td>5 - Parecer cardiológico</td>\n",
       "      <td>5 - Cirurgia</td>\n",
       "      <td>Normal</td>\n",
       "    </tr>\n",
       "    <tr>\n",
       "      <th>14717</th>\n",
       "      <td>14869</td>\n",
       "      <td>10.0</td>\n",
       "      <td>70</td>\n",
       "      <td>20.408163</td>\n",
       "      <td>0.60</td>\n",
       "      <td>Normais</td>\n",
       "      <td>100.0</td>\n",
       "      <td>60.0</td>\n",
       "      <td>Não Calculado</td>\n",
       "      <td>Normal</td>\n",
       "      <td>ausente</td>\n",
       "      <td>112.0</td>\n",
       "      <td>Assintomático</td>\n",
       "      <td>Assintomático</td>\n",
       "      <td>M</td>\n",
       "      <td>6 - Suspeita de cardiopatia</td>\n",
       "      <td>Outro</td>\n",
       "      <td>Normal</td>\n",
       "    </tr>\n",
       "    <tr>\n",
       "      <th>14723</th>\n",
       "      <td>3249</td>\n",
       "      <td>30.0</td>\n",
       "      <td>113</td>\n",
       "      <td>23.494401</td>\n",
       "      <td>4.97</td>\n",
       "      <td>Normais</td>\n",
       "      <td>105.0</td>\n",
       "      <td>70.0</td>\n",
       "      <td>Pre-Hipertensão PAD</td>\n",
       "      <td>Normal</td>\n",
       "      <td>Sistólico</td>\n",
       "      <td>92.0</td>\n",
       "      <td>Dispneia</td>\n",
       "      <td>Palpitacao</td>\n",
       "      <td>F</td>\n",
       "      <td>6 - Suspeita de cardiopatia</td>\n",
       "      <td>6 - Dispnéia</td>\n",
       "      <td>Anormal</td>\n",
       "    </tr>\n",
       "    <tr>\n",
       "      <th>14724</th>\n",
       "      <td>3207</td>\n",
       "      <td>25.8</td>\n",
       "      <td>130</td>\n",
       "      <td>15.266272</td>\n",
       "      <td>7.69</td>\n",
       "      <td>Normais</td>\n",
       "      <td>90.0</td>\n",
       "      <td>55.0</td>\n",
       "      <td>Normal</td>\n",
       "      <td>Normal</td>\n",
       "      <td>ausente</td>\n",
       "      <td>78.0</td>\n",
       "      <td>Assintomático</td>\n",
       "      <td>Assintomático</td>\n",
       "      <td>M</td>\n",
       "      <td>6 - Suspeita de cardiopatia</td>\n",
       "      <td>6 - Sopro</td>\n",
       "      <td>Normal</td>\n",
       "    </tr>\n",
       "  </tbody>\n",
       "</table>\n",
       "<p>5253 rows × 18 columns</p>\n",
       "</div>"
      ],
      "text/plain": [
       "          Id  Peso  Altura        IMC  IDADE   PULSOS  PA SISTOLICA  \\\n",
       "0      10524  28.0     123  18.507502   5.79  Normais         110.0   \n",
       "2       4483  13.0      87  17.175320   2.21  Normais         100.0   \n",
       "5      15430  45.0     161  17.360441   7.60  Normais         120.0   \n",
       "8      14309  24.0     112  19.132653   5.27  Normais         100.0   \n",
       "9       3437  17.0     100  17.000000   3.44  Normais         100.0   \n",
       "...      ...   ...     ...        ...    ...      ...           ...   \n",
       "14715  12739  40.0     130  23.668639   8.03  Normais          90.0   \n",
       "14716    390  25.0     110  20.661157   5.15  Normais         100.0   \n",
       "14717  14869  10.0      70  20.408163   0.60  Normais         100.0   \n",
       "14723   3249  30.0     113  23.494401   4.97  Normais         105.0   \n",
       "14724   3207  25.8     130  15.266272   7.69  Normais          90.0   \n",
       "\n",
       "       PA DIASTOLICA                  PPA      B2      SOPRO     FC  \\\n",
       "0               80.0            HAS-1 PAD  Normal    ausente  100.0   \n",
       "2               60.0        Não Calculado  Normal  Sistólico  100.0   \n",
       "5               70.0            HAS-1 PAS  Normal    ausente   80.0   \n",
       "8               60.0               Normal  Normal    ausente  100.0   \n",
       "9               60.0        Não Calculado  Normal    ausente   92.0   \n",
       "...              ...                  ...     ...        ...    ...   \n",
       "14715           60.0               Normal  Normal  Sistólico   92.0   \n",
       "14716           60.0        Não Calculado  Normal    ausente   92.0   \n",
       "14717           60.0        Não Calculado  Normal    ausente  112.0   \n",
       "14723           70.0  Pre-Hipertensão PAD  Normal  Sistólico   92.0   \n",
       "14724           55.0               Normal  Normal    ausente   78.0   \n",
       "\n",
       "                HDA 1           HDA2 SEXO                      MOTIVO1  \\\n",
       "0          Palpitacao  Assintomático    M  6 - Suspeita de cardiopatia   \n",
       "2       Assintomático  Assintomático    M  6 - Suspeita de cardiopatia   \n",
       "5       Assintomático  Assintomático    M     5 - Parecer cardiológico   \n",
       "8               Outro  Assintomático    M  6 - Suspeita de cardiopatia   \n",
       "9       Assintomático  Assintomático    M     5 - Parecer cardiológico   \n",
       "...               ...            ...  ...                          ...   \n",
       "14715  Dor precordial  Assintomático    M  6 - Suspeita de cardiopatia   \n",
       "14716   Assintomático  Assintomático    F     5 - Parecer cardiológico   \n",
       "14717   Assintomático  Assintomático    M  6 - Suspeita de cardiopatia   \n",
       "14723        Dispneia     Palpitacao    F  6 - Suspeita de cardiopatia   \n",
       "14724   Assintomático  Assintomático    M  6 - Suspeita de cardiopatia   \n",
       "\n",
       "                                   MOTIVO2   CLASSE  \n",
       "0      6 - Palpitação/taquicardia/arritmia   Normal  \n",
       "2                                6 - Sopro  Anormal  \n",
       "5                             5 - Cirurgia   Normal  \n",
       "8           6 - HAS/dislipidemia/obesidade   Normal  \n",
       "9                             5 - Cirurgia   Normal  \n",
       "...                                    ...      ...  \n",
       "14715                   6 - Dor precordial  Anormal  \n",
       "14716                         5 - Cirurgia   Normal  \n",
       "14717                                Outro   Normal  \n",
       "14723                         6 - Dispnéia  Anormal  \n",
       "14724                            6 - Sopro   Normal  \n",
       "\n",
       "[5253 rows x 18 columns]"
      ]
     },
     "metadata": {},
     "output_type": "display_data"
    }
   ],
   "source": [
    "display(train_data)"
   ]
  },
  {
   "cell_type": "markdown",
   "metadata": {},
   "source": [
    "Removendo NaN de CLASSE"
   ]
  },
  {
   "cell_type": "code",
   "execution_count": 3909,
   "metadata": {},
   "outputs": [],
   "source": [
    "train_data = train_data.dropna(subset=[\"CLASSE\"])"
   ]
  },
  {
   "cell_type": "code",
   "execution_count": 3910,
   "metadata": {},
   "outputs": [
    {
     "name": "stdout",
     "output_type": "stream",
     "text": [
      "Id               0\n",
      "Peso             0\n",
      "Altura           0\n",
      "IMC              0\n",
      "IDADE            0\n",
      "PULSOS           0\n",
      "PA SISTOLICA     0\n",
      "PA DIASTOLICA    0\n",
      "PPA              0\n",
      "B2               0\n",
      "SOPRO            0\n",
      "FC               0\n",
      "HDA 1            0\n",
      "HDA2             0\n",
      "SEXO             0\n",
      "MOTIVO1          0\n",
      "MOTIVO2          0\n",
      "CLASSE           0\n",
      "dtype: int64\n"
     ]
    },
    {
     "data": {
      "text/html": [
       "<div>\n",
       "<style scoped>\n",
       "    .dataframe tbody tr th:only-of-type {\n",
       "        vertical-align: middle;\n",
       "    }\n",
       "\n",
       "    .dataframe tbody tr th {\n",
       "        vertical-align: top;\n",
       "    }\n",
       "\n",
       "    .dataframe thead th {\n",
       "        text-align: right;\n",
       "    }\n",
       "</style>\n",
       "<table border=\"1\" class=\"dataframe\">\n",
       "  <thead>\n",
       "    <tr style=\"text-align: right;\">\n",
       "      <th></th>\n",
       "      <th>Id</th>\n",
       "      <th>Peso</th>\n",
       "      <th>Altura</th>\n",
       "      <th>IMC</th>\n",
       "      <th>IDADE</th>\n",
       "      <th>PULSOS</th>\n",
       "      <th>PA SISTOLICA</th>\n",
       "      <th>PA DIASTOLICA</th>\n",
       "      <th>PPA</th>\n",
       "      <th>B2</th>\n",
       "      <th>SOPRO</th>\n",
       "      <th>FC</th>\n",
       "      <th>HDA 1</th>\n",
       "      <th>HDA2</th>\n",
       "      <th>SEXO</th>\n",
       "      <th>MOTIVO1</th>\n",
       "      <th>MOTIVO2</th>\n",
       "      <th>CLASSE</th>\n",
       "    </tr>\n",
       "  </thead>\n",
       "  <tbody>\n",
       "    <tr>\n",
       "      <th>0</th>\n",
       "      <td>10524</td>\n",
       "      <td>28.0</td>\n",
       "      <td>123</td>\n",
       "      <td>18.507502</td>\n",
       "      <td>5.79</td>\n",
       "      <td>Normais</td>\n",
       "      <td>110.0</td>\n",
       "      <td>80.0</td>\n",
       "      <td>HAS-1 PAD</td>\n",
       "      <td>Normal</td>\n",
       "      <td>ausente</td>\n",
       "      <td>100.0</td>\n",
       "      <td>Palpitacao</td>\n",
       "      <td>Assintomático</td>\n",
       "      <td>M</td>\n",
       "      <td>6 - Suspeita de cardiopatia</td>\n",
       "      <td>6 - Palpitação/taquicardia/arritmia</td>\n",
       "      <td>Normal</td>\n",
       "    </tr>\n",
       "    <tr>\n",
       "      <th>2</th>\n",
       "      <td>4483</td>\n",
       "      <td>13.0</td>\n",
       "      <td>87</td>\n",
       "      <td>17.175320</td>\n",
       "      <td>2.21</td>\n",
       "      <td>Normais</td>\n",
       "      <td>100.0</td>\n",
       "      <td>60.0</td>\n",
       "      <td>Não Calculado</td>\n",
       "      <td>Normal</td>\n",
       "      <td>Sistólico</td>\n",
       "      <td>100.0</td>\n",
       "      <td>Assintomático</td>\n",
       "      <td>Assintomático</td>\n",
       "      <td>M</td>\n",
       "      <td>6 - Suspeita de cardiopatia</td>\n",
       "      <td>6 - Sopro</td>\n",
       "      <td>Anormal</td>\n",
       "    </tr>\n",
       "    <tr>\n",
       "      <th>5</th>\n",
       "      <td>15430</td>\n",
       "      <td>45.0</td>\n",
       "      <td>161</td>\n",
       "      <td>17.360441</td>\n",
       "      <td>7.60</td>\n",
       "      <td>Normais</td>\n",
       "      <td>120.0</td>\n",
       "      <td>70.0</td>\n",
       "      <td>HAS-1 PAS</td>\n",
       "      <td>Normal</td>\n",
       "      <td>ausente</td>\n",
       "      <td>80.0</td>\n",
       "      <td>Assintomático</td>\n",
       "      <td>Assintomático</td>\n",
       "      <td>M</td>\n",
       "      <td>5 - Parecer cardiológico</td>\n",
       "      <td>5 - Cirurgia</td>\n",
       "      <td>Normal</td>\n",
       "    </tr>\n",
       "    <tr>\n",
       "      <th>8</th>\n",
       "      <td>14309</td>\n",
       "      <td>24.0</td>\n",
       "      <td>112</td>\n",
       "      <td>19.132653</td>\n",
       "      <td>5.27</td>\n",
       "      <td>Normais</td>\n",
       "      <td>100.0</td>\n",
       "      <td>60.0</td>\n",
       "      <td>Normal</td>\n",
       "      <td>Normal</td>\n",
       "      <td>ausente</td>\n",
       "      <td>100.0</td>\n",
       "      <td>Outro</td>\n",
       "      <td>Assintomático</td>\n",
       "      <td>M</td>\n",
       "      <td>6 - Suspeita de cardiopatia</td>\n",
       "      <td>6 - HAS/dislipidemia/obesidade</td>\n",
       "      <td>Normal</td>\n",
       "    </tr>\n",
       "    <tr>\n",
       "      <th>9</th>\n",
       "      <td>3437</td>\n",
       "      <td>17.0</td>\n",
       "      <td>100</td>\n",
       "      <td>17.000000</td>\n",
       "      <td>3.44</td>\n",
       "      <td>Normais</td>\n",
       "      <td>100.0</td>\n",
       "      <td>60.0</td>\n",
       "      <td>Não Calculado</td>\n",
       "      <td>Normal</td>\n",
       "      <td>ausente</td>\n",
       "      <td>92.0</td>\n",
       "      <td>Assintomático</td>\n",
       "      <td>Assintomático</td>\n",
       "      <td>M</td>\n",
       "      <td>5 - Parecer cardiológico</td>\n",
       "      <td>5 - Cirurgia</td>\n",
       "      <td>Normal</td>\n",
       "    </tr>\n",
       "    <tr>\n",
       "      <th>...</th>\n",
       "      <td>...</td>\n",
       "      <td>...</td>\n",
       "      <td>...</td>\n",
       "      <td>...</td>\n",
       "      <td>...</td>\n",
       "      <td>...</td>\n",
       "      <td>...</td>\n",
       "      <td>...</td>\n",
       "      <td>...</td>\n",
       "      <td>...</td>\n",
       "      <td>...</td>\n",
       "      <td>...</td>\n",
       "      <td>...</td>\n",
       "      <td>...</td>\n",
       "      <td>...</td>\n",
       "      <td>...</td>\n",
       "      <td>...</td>\n",
       "      <td>...</td>\n",
       "    </tr>\n",
       "    <tr>\n",
       "      <th>14715</th>\n",
       "      <td>12739</td>\n",
       "      <td>40.0</td>\n",
       "      <td>130</td>\n",
       "      <td>23.668639</td>\n",
       "      <td>8.03</td>\n",
       "      <td>Normais</td>\n",
       "      <td>90.0</td>\n",
       "      <td>60.0</td>\n",
       "      <td>Normal</td>\n",
       "      <td>Normal</td>\n",
       "      <td>Sistólico</td>\n",
       "      <td>92.0</td>\n",
       "      <td>Dor precordial</td>\n",
       "      <td>Assintomático</td>\n",
       "      <td>M</td>\n",
       "      <td>6 - Suspeita de cardiopatia</td>\n",
       "      <td>6 - Dor precordial</td>\n",
       "      <td>Anormal</td>\n",
       "    </tr>\n",
       "    <tr>\n",
       "      <th>14716</th>\n",
       "      <td>390</td>\n",
       "      <td>25.0</td>\n",
       "      <td>110</td>\n",
       "      <td>20.661157</td>\n",
       "      <td>5.15</td>\n",
       "      <td>Normais</td>\n",
       "      <td>100.0</td>\n",
       "      <td>60.0</td>\n",
       "      <td>Não Calculado</td>\n",
       "      <td>Normal</td>\n",
       "      <td>ausente</td>\n",
       "      <td>92.0</td>\n",
       "      <td>Assintomático</td>\n",
       "      <td>Assintomático</td>\n",
       "      <td>F</td>\n",
       "      <td>5 - Parecer cardiológico</td>\n",
       "      <td>5 - Cirurgia</td>\n",
       "      <td>Normal</td>\n",
       "    </tr>\n",
       "    <tr>\n",
       "      <th>14717</th>\n",
       "      <td>14869</td>\n",
       "      <td>10.0</td>\n",
       "      <td>70</td>\n",
       "      <td>20.408163</td>\n",
       "      <td>0.60</td>\n",
       "      <td>Normais</td>\n",
       "      <td>100.0</td>\n",
       "      <td>60.0</td>\n",
       "      <td>Não Calculado</td>\n",
       "      <td>Normal</td>\n",
       "      <td>ausente</td>\n",
       "      <td>112.0</td>\n",
       "      <td>Assintomático</td>\n",
       "      <td>Assintomático</td>\n",
       "      <td>M</td>\n",
       "      <td>6 - Suspeita de cardiopatia</td>\n",
       "      <td>Outro</td>\n",
       "      <td>Normal</td>\n",
       "    </tr>\n",
       "    <tr>\n",
       "      <th>14723</th>\n",
       "      <td>3249</td>\n",
       "      <td>30.0</td>\n",
       "      <td>113</td>\n",
       "      <td>23.494401</td>\n",
       "      <td>4.97</td>\n",
       "      <td>Normais</td>\n",
       "      <td>105.0</td>\n",
       "      <td>70.0</td>\n",
       "      <td>Pre-Hipertensão PAD</td>\n",
       "      <td>Normal</td>\n",
       "      <td>Sistólico</td>\n",
       "      <td>92.0</td>\n",
       "      <td>Dispneia</td>\n",
       "      <td>Palpitacao</td>\n",
       "      <td>F</td>\n",
       "      <td>6 - Suspeita de cardiopatia</td>\n",
       "      <td>6 - Dispnéia</td>\n",
       "      <td>Anormal</td>\n",
       "    </tr>\n",
       "    <tr>\n",
       "      <th>14724</th>\n",
       "      <td>3207</td>\n",
       "      <td>25.8</td>\n",
       "      <td>130</td>\n",
       "      <td>15.266272</td>\n",
       "      <td>7.69</td>\n",
       "      <td>Normais</td>\n",
       "      <td>90.0</td>\n",
       "      <td>55.0</td>\n",
       "      <td>Normal</td>\n",
       "      <td>Normal</td>\n",
       "      <td>ausente</td>\n",
       "      <td>78.0</td>\n",
       "      <td>Assintomático</td>\n",
       "      <td>Assintomático</td>\n",
       "      <td>M</td>\n",
       "      <td>6 - Suspeita de cardiopatia</td>\n",
       "      <td>6 - Sopro</td>\n",
       "      <td>Normal</td>\n",
       "    </tr>\n",
       "  </tbody>\n",
       "</table>\n",
       "<p>5244 rows × 18 columns</p>\n",
       "</div>"
      ],
      "text/plain": [
       "          Id  Peso  Altura        IMC  IDADE   PULSOS  PA SISTOLICA  \\\n",
       "0      10524  28.0     123  18.507502   5.79  Normais         110.0   \n",
       "2       4483  13.0      87  17.175320   2.21  Normais         100.0   \n",
       "5      15430  45.0     161  17.360441   7.60  Normais         120.0   \n",
       "8      14309  24.0     112  19.132653   5.27  Normais         100.0   \n",
       "9       3437  17.0     100  17.000000   3.44  Normais         100.0   \n",
       "...      ...   ...     ...        ...    ...      ...           ...   \n",
       "14715  12739  40.0     130  23.668639   8.03  Normais          90.0   \n",
       "14716    390  25.0     110  20.661157   5.15  Normais         100.0   \n",
       "14717  14869  10.0      70  20.408163   0.60  Normais         100.0   \n",
       "14723   3249  30.0     113  23.494401   4.97  Normais         105.0   \n",
       "14724   3207  25.8     130  15.266272   7.69  Normais          90.0   \n",
       "\n",
       "       PA DIASTOLICA                  PPA      B2      SOPRO     FC  \\\n",
       "0               80.0            HAS-1 PAD  Normal    ausente  100.0   \n",
       "2               60.0        Não Calculado  Normal  Sistólico  100.0   \n",
       "5               70.0            HAS-1 PAS  Normal    ausente   80.0   \n",
       "8               60.0               Normal  Normal    ausente  100.0   \n",
       "9               60.0        Não Calculado  Normal    ausente   92.0   \n",
       "...              ...                  ...     ...        ...    ...   \n",
       "14715           60.0               Normal  Normal  Sistólico   92.0   \n",
       "14716           60.0        Não Calculado  Normal    ausente   92.0   \n",
       "14717           60.0        Não Calculado  Normal    ausente  112.0   \n",
       "14723           70.0  Pre-Hipertensão PAD  Normal  Sistólico   92.0   \n",
       "14724           55.0               Normal  Normal    ausente   78.0   \n",
       "\n",
       "                HDA 1           HDA2 SEXO                      MOTIVO1  \\\n",
       "0          Palpitacao  Assintomático    M  6 - Suspeita de cardiopatia   \n",
       "2       Assintomático  Assintomático    M  6 - Suspeita de cardiopatia   \n",
       "5       Assintomático  Assintomático    M     5 - Parecer cardiológico   \n",
       "8               Outro  Assintomático    M  6 - Suspeita de cardiopatia   \n",
       "9       Assintomático  Assintomático    M     5 - Parecer cardiológico   \n",
       "...               ...            ...  ...                          ...   \n",
       "14715  Dor precordial  Assintomático    M  6 - Suspeita de cardiopatia   \n",
       "14716   Assintomático  Assintomático    F     5 - Parecer cardiológico   \n",
       "14717   Assintomático  Assintomático    M  6 - Suspeita de cardiopatia   \n",
       "14723        Dispneia     Palpitacao    F  6 - Suspeita de cardiopatia   \n",
       "14724   Assintomático  Assintomático    M  6 - Suspeita de cardiopatia   \n",
       "\n",
       "                                   MOTIVO2   CLASSE  \n",
       "0      6 - Palpitação/taquicardia/arritmia   Normal  \n",
       "2                                6 - Sopro  Anormal  \n",
       "5                             5 - Cirurgia   Normal  \n",
       "8           6 - HAS/dislipidemia/obesidade   Normal  \n",
       "9                             5 - Cirurgia   Normal  \n",
       "...                                    ...      ...  \n",
       "14715                   6 - Dor precordial  Anormal  \n",
       "14716                         5 - Cirurgia   Normal  \n",
       "14717                                Outro   Normal  \n",
       "14723                         6 - Dispnéia  Anormal  \n",
       "14724                            6 - Sopro   Normal  \n",
       "\n",
       "[5244 rows x 18 columns]"
      ]
     },
     "metadata": {},
     "output_type": "display_data"
    }
   ],
   "source": [
    "print(train_data.isna().sum())\n",
    "display(train_data)"
   ]
  },
  {
   "cell_type": "markdown",
   "metadata": {},
   "source": [
    "#### Com os dados de treino já tratados, agora iremos lidar com os dados de teste"
   ]
  },
  {
   "cell_type": "markdown",
   "metadata": {},
   "source": [
    "Carregando os dados teste"
   ]
  },
  {
   "cell_type": "code",
   "execution_count": 3911,
   "metadata": {},
   "outputs": [
    {
     "data": {
      "text/html": [
       "<div>\n",
       "<style scoped>\n",
       "    .dataframe tbody tr th:only-of-type {\n",
       "        vertical-align: middle;\n",
       "    }\n",
       "\n",
       "    .dataframe tbody tr th {\n",
       "        vertical-align: top;\n",
       "    }\n",
       "\n",
       "    .dataframe thead th {\n",
       "        text-align: right;\n",
       "    }\n",
       "</style>\n",
       "<table border=\"1\" class=\"dataframe\">\n",
       "  <thead>\n",
       "    <tr style=\"text-align: right;\">\n",
       "      <th></th>\n",
       "      <th>Id</th>\n",
       "      <th>Peso</th>\n",
       "      <th>Altura</th>\n",
       "      <th>IMC</th>\n",
       "      <th>Atendimento</th>\n",
       "      <th>DN</th>\n",
       "      <th>IDADE</th>\n",
       "      <th>Convenio</th>\n",
       "      <th>PULSOS</th>\n",
       "      <th>PA SISTOLICA</th>\n",
       "      <th>PA DIASTOLICA</th>\n",
       "      <th>PPA</th>\n",
       "      <th>B2</th>\n",
       "      <th>SOPRO</th>\n",
       "      <th>FC</th>\n",
       "      <th>HDA 1</th>\n",
       "      <th>HDA2</th>\n",
       "      <th>SEXO</th>\n",
       "      <th>MOTIVO1</th>\n",
       "      <th>MOTIVO2</th>\n",
       "    </tr>\n",
       "  </thead>\n",
       "  <tbody>\n",
       "    <tr>\n",
       "      <th>0</th>\n",
       "      <td>8957</td>\n",
       "      <td>4.5</td>\n",
       "      <td>54</td>\n",
       "      <td>15.0</td>\n",
       "      <td>03/08/09</td>\n",
       "      <td>11/06/09</td>\n",
       "      <td>0.15</td>\n",
       "      <td>NaN</td>\n",
       "      <td>Normais</td>\n",
       "      <td>NaN</td>\n",
       "      <td>NaN</td>\n",
       "      <td>Não Calculado</td>\n",
       "      <td>Normal</td>\n",
       "      <td>ausente</td>\n",
       "      <td>110</td>\n",
       "      <td>Dispneia</td>\n",
       "      <td>Outro</td>\n",
       "      <td>F</td>\n",
       "      <td>2 - Check-up</td>\n",
       "      <td>NaN</td>\n",
       "    </tr>\n",
       "    <tr>\n",
       "      <th>1</th>\n",
       "      <td>4246</td>\n",
       "      <td>42.4</td>\n",
       "      <td>150</td>\n",
       "      <td>19.0</td>\n",
       "      <td>23/02/06</td>\n",
       "      <td>03/03/94</td>\n",
       "      <td>12.43</td>\n",
       "      <td>MEDISE</td>\n",
       "      <td>Normais</td>\n",
       "      <td>NaN</td>\n",
       "      <td>NaN</td>\n",
       "      <td>Não Calculado</td>\n",
       "      <td>Normal</td>\n",
       "      <td>ausente</td>\n",
       "      <td>84</td>\n",
       "      <td>Assintomático</td>\n",
       "      <td>NaN</td>\n",
       "      <td>M</td>\n",
       "      <td>5 - Parecer cardiológico</td>\n",
       "      <td>5 - Atividade física</td>\n",
       "    </tr>\n",
       "    <tr>\n",
       "      <th>2</th>\n",
       "      <td>9089</td>\n",
       "      <td>18.1</td>\n",
       "      <td>104</td>\n",
       "      <td>17.0</td>\n",
       "      <td>16/10/07</td>\n",
       "      <td>08/02/04</td>\n",
       "      <td>3.82</td>\n",
       "      <td>CAMED</td>\n",
       "      <td>Normais</td>\n",
       "      <td>130.0</td>\n",
       "      <td>90.0</td>\n",
       "      <td>HAS-2 PAS</td>\n",
       "      <td>Normal</td>\n",
       "      <td>ausente</td>\n",
       "      <td>100</td>\n",
       "      <td>Cianose</td>\n",
       "      <td>NaN</td>\n",
       "      <td>M</td>\n",
       "      <td>5 - Parecer cardiológico</td>\n",
       "      <td>NaN</td>\n",
       "    </tr>\n",
       "    <tr>\n",
       "      <th>3</th>\n",
       "      <td>10606</td>\n",
       "      <td>7.7</td>\n",
       "      <td>0</td>\n",
       "      <td>NaN</td>\n",
       "      <td>09/08/04</td>\n",
       "      <td>27/11/03</td>\n",
       "      <td>0.73</td>\n",
       "      <td>SULA</td>\n",
       "      <td>Normais</td>\n",
       "      <td>NaN</td>\n",
       "      <td>NaN</td>\n",
       "      <td>Não Calculado</td>\n",
       "      <td>Normal</td>\n",
       "      <td>ausente</td>\n",
       "      <td>98</td>\n",
       "      <td>Assintomático</td>\n",
       "      <td>NaN</td>\n",
       "      <td>F</td>\n",
       "      <td>1 - Cardiopatia já estabelecida</td>\n",
       "      <td>1 - Cardiopatia congenica</td>\n",
       "    </tr>\n",
       "    <tr>\n",
       "      <th>4</th>\n",
       "      <td>9863</td>\n",
       "      <td>16.0</td>\n",
       "      <td>0</td>\n",
       "      <td>NaN</td>\n",
       "      <td>04/07/08</td>\n",
       "      <td>29/08/04</td>\n",
       "      <td>3.99</td>\n",
       "      <td>NORCLIN.</td>\n",
       "      <td>Normais</td>\n",
       "      <td>NaN</td>\n",
       "      <td>NaN</td>\n",
       "      <td>Não Calculado</td>\n",
       "      <td>Normal</td>\n",
       "      <td>ausente</td>\n",
       "      <td>90</td>\n",
       "      <td>Assintomático</td>\n",
       "      <td>NaN</td>\n",
       "      <td>F</td>\n",
       "      <td>5 - Parecer cardiológico</td>\n",
       "      <td>5 - Cirurgia</td>\n",
       "    </tr>\n",
       "    <tr>\n",
       "      <th>...</th>\n",
       "      <td>...</td>\n",
       "      <td>...</td>\n",
       "      <td>...</td>\n",
       "      <td>...</td>\n",
       "      <td>...</td>\n",
       "      <td>...</td>\n",
       "      <td>...</td>\n",
       "      <td>...</td>\n",
       "      <td>...</td>\n",
       "      <td>...</td>\n",
       "      <td>...</td>\n",
       "      <td>...</td>\n",
       "      <td>...</td>\n",
       "      <td>...</td>\n",
       "      <td>...</td>\n",
       "      <td>...</td>\n",
       "      <td>...</td>\n",
       "      <td>...</td>\n",
       "      <td>...</td>\n",
       "      <td>...</td>\n",
       "    </tr>\n",
       "    <tr>\n",
       "      <th>3141</th>\n",
       "      <td>14053</td>\n",
       "      <td>0.0</td>\n",
       "      <td>0</td>\n",
       "      <td>NaN</td>\n",
       "      <td>16/09/09</td>\n",
       "      <td>19/04/02</td>\n",
       "      <td>7.69</td>\n",
       "      <td>FUSEX</td>\n",
       "      <td>Normais</td>\n",
       "      <td>100.0</td>\n",
       "      <td>70.0</td>\n",
       "      <td>Não Calculado</td>\n",
       "      <td>Normal</td>\n",
       "      <td>ausente</td>\n",
       "      <td>72</td>\n",
       "      <td>NaN</td>\n",
       "      <td>NaN</td>\n",
       "      <td>M</td>\n",
       "      <td>2 - Check-up</td>\n",
       "      <td>NaN</td>\n",
       "    </tr>\n",
       "    <tr>\n",
       "      <th>3142</th>\n",
       "      <td>9000</td>\n",
       "      <td>0.0</td>\n",
       "      <td>0</td>\n",
       "      <td>NaN</td>\n",
       "      <td>12/01/05</td>\n",
       "      <td>06/11/95</td>\n",
       "      <td>9.529999999999999</td>\n",
       "      <td>GS</td>\n",
       "      <td>Normais</td>\n",
       "      <td>90.0</td>\n",
       "      <td>50.0</td>\n",
       "      <td>Não Calculado</td>\n",
       "      <td>Normal</td>\n",
       "      <td>Sistólico</td>\n",
       "      <td>82</td>\n",
       "      <td>Dor precordial</td>\n",
       "      <td>NaN</td>\n",
       "      <td>F</td>\n",
       "      <td>6 - Suspeita de cardiopatia</td>\n",
       "      <td>6 - Dor precordial</td>\n",
       "    </tr>\n",
       "    <tr>\n",
       "      <th>3143</th>\n",
       "      <td>14643</td>\n",
       "      <td>46.0</td>\n",
       "      <td>151</td>\n",
       "      <td>20.0</td>\n",
       "      <td>18/02/04</td>\n",
       "      <td>20/10/90</td>\n",
       "      <td>13.83</td>\n",
       "      <td>UR</td>\n",
       "      <td>Normais</td>\n",
       "      <td>120.0</td>\n",
       "      <td>60.0</td>\n",
       "      <td>Normal</td>\n",
       "      <td>Normal</td>\n",
       "      <td>Sistólico</td>\n",
       "      <td>96</td>\n",
       "      <td>Dispneia</td>\n",
       "      <td>NaN</td>\n",
       "      <td>F</td>\n",
       "      <td>6 - Suspeita de cardiopatia</td>\n",
       "      <td>6 - Dor precordial</td>\n",
       "    </tr>\n",
       "    <tr>\n",
       "      <th>3144</th>\n",
       "      <td>15107</td>\n",
       "      <td>NaN</td>\n",
       "      <td>50</td>\n",
       "      <td>NaN</td>\n",
       "      <td>05/09/06</td>\n",
       "      <td>04/09/06</td>\n",
       "      <td>0</td>\n",
       "      <td>GS</td>\n",
       "      <td>Normais</td>\n",
       "      <td>NaN</td>\n",
       "      <td>NaN</td>\n",
       "      <td>Não Calculado</td>\n",
       "      <td>Normal</td>\n",
       "      <td>Sistólico</td>\n",
       "      <td>133</td>\n",
       "      <td>NaN</td>\n",
       "      <td>NaN</td>\n",
       "      <td>Indeterminado</td>\n",
       "      <td>6 - Suspeita de cardiopatia</td>\n",
       "      <td>6 - Sopro</td>\n",
       "    </tr>\n",
       "    <tr>\n",
       "      <th>3145</th>\n",
       "      <td>14963</td>\n",
       "      <td>27.0</td>\n",
       "      <td>123</td>\n",
       "      <td>18.0</td>\n",
       "      <td>10/06/04</td>\n",
       "      <td>16/03/97</td>\n",
       "      <td>7.51</td>\n",
       "      <td>SULA</td>\n",
       "      <td>Normais</td>\n",
       "      <td>100.0</td>\n",
       "      <td>60.0</td>\n",
       "      <td>Normal</td>\n",
       "      <td>Normal</td>\n",
       "      <td>ausente</td>\n",
       "      <td>92</td>\n",
       "      <td>Assintomático</td>\n",
       "      <td>NaN</td>\n",
       "      <td>M</td>\n",
       "      <td>5 - Parecer cardiológico</td>\n",
       "      <td>5 - Cirurgia</td>\n",
       "    </tr>\n",
       "  </tbody>\n",
       "</table>\n",
       "<p>3146 rows × 20 columns</p>\n",
       "</div>"
      ],
      "text/plain": [
       "         Id  Peso  Altura   IMC Atendimento        DN              IDADE  \\\n",
       "0      8957   4.5      54  15.0    03/08/09  11/06/09               0.15   \n",
       "1      4246  42.4     150  19.0    23/02/06  03/03/94              12.43   \n",
       "2      9089  18.1     104  17.0    16/10/07  08/02/04               3.82   \n",
       "3     10606   7.7       0   NaN    09/08/04  27/11/03               0.73   \n",
       "4      9863  16.0       0   NaN    04/07/08  29/08/04               3.99   \n",
       "...     ...   ...     ...   ...         ...       ...                ...   \n",
       "3141  14053   0.0       0   NaN    16/09/09  19/04/02               7.69   \n",
       "3142   9000   0.0       0   NaN    12/01/05  06/11/95  9.529999999999999   \n",
       "3143  14643  46.0     151  20.0    18/02/04  20/10/90              13.83   \n",
       "3144  15107   NaN      50   NaN    05/09/06  04/09/06                  0   \n",
       "3145  14963  27.0     123  18.0    10/06/04  16/03/97               7.51   \n",
       "\n",
       "      Convenio   PULSOS  PA SISTOLICA  PA DIASTOLICA            PPA      B2  \\\n",
       "0          NaN  Normais           NaN            NaN  Não Calculado  Normal   \n",
       "1       MEDISE  Normais           NaN            NaN  Não Calculado  Normal   \n",
       "2        CAMED  Normais         130.0           90.0      HAS-2 PAS  Normal   \n",
       "3         SULA  Normais           NaN            NaN  Não Calculado  Normal   \n",
       "4     NORCLIN.  Normais           NaN            NaN  Não Calculado  Normal   \n",
       "...        ...      ...           ...            ...            ...     ...   \n",
       "3141     FUSEX  Normais         100.0           70.0  Não Calculado  Normal   \n",
       "3142        GS  Normais          90.0           50.0  Não Calculado  Normal   \n",
       "3143        UR  Normais         120.0           60.0         Normal  Normal   \n",
       "3144        GS  Normais           NaN            NaN  Não Calculado  Normal   \n",
       "3145      SULA  Normais         100.0           60.0         Normal  Normal   \n",
       "\n",
       "          SOPRO   FC           HDA 1   HDA2           SEXO  \\\n",
       "0       ausente  110        Dispneia  Outro              F   \n",
       "1       ausente   84   Assintomático    NaN              M   \n",
       "2       ausente  100         Cianose    NaN              M   \n",
       "3       ausente   98   Assintomático    NaN              F   \n",
       "4       ausente   90   Assintomático    NaN              F   \n",
       "...         ...  ...             ...    ...            ...   \n",
       "3141    ausente   72             NaN    NaN              M   \n",
       "3142  Sistólico   82  Dor precordial    NaN              F   \n",
       "3143  Sistólico   96        Dispneia    NaN              F   \n",
       "3144  Sistólico  133             NaN    NaN  Indeterminado   \n",
       "3145    ausente   92   Assintomático    NaN              M   \n",
       "\n",
       "                              MOTIVO1                    MOTIVO2  \n",
       "0                        2 - Check-up                        NaN  \n",
       "1            5 - Parecer cardiológico       5 - Atividade física  \n",
       "2            5 - Parecer cardiológico                        NaN  \n",
       "3     1 - Cardiopatia já estabelecida  1 - Cardiopatia congenica  \n",
       "4            5 - Parecer cardiológico               5 - Cirurgia  \n",
       "...                               ...                        ...  \n",
       "3141                     2 - Check-up                        NaN  \n",
       "3142      6 - Suspeita de cardiopatia         6 - Dor precordial  \n",
       "3143      6 - Suspeita de cardiopatia         6 - Dor precordial  \n",
       "3144      6 - Suspeita de cardiopatia                  6 - Sopro  \n",
       "3145         5 - Parecer cardiológico               5 - Cirurgia  \n",
       "\n",
       "[3146 rows x 20 columns]"
      ]
     },
     "metadata": {},
     "output_type": "display_data"
    }
   ],
   "source": [
    "\n",
    "test_data = pd.read_csv(\"./data/test.csv\")\n",
    "data2 = pd.read_csv(\"./data/RHP_data.csv\")\n",
    "\n",
    "test_data = data2.merge(test_data, on=\"Id\", how=\"right\")\n",
    "\n",
    "display(test_data)"
   ]
  },
  {
   "cell_type": "markdown",
   "metadata": {},
   "source": [
    "Convertendo as colunas FC e IDADE para numericos"
   ]
  },
  {
   "cell_type": "code",
   "execution_count": 3912,
   "metadata": {},
   "outputs": [],
   "source": [
    "converter_numeric(test_data, \"FC\")\n",
    "converter_numeric(test_data, \"IDADE\")"
   ]
  },
  {
   "cell_type": "markdown",
   "metadata": {},
   "source": [
    "Printando as medidas descritivas para análise"
   ]
  },
  {
   "cell_type": "code",
   "execution_count": 3913,
   "metadata": {},
   "outputs": [
    {
     "data": {
      "text/html": [
       "<div>\n",
       "<style scoped>\n",
       "    .dataframe tbody tr th:only-of-type {\n",
       "        vertical-align: middle;\n",
       "    }\n",
       "\n",
       "    .dataframe tbody tr th {\n",
       "        vertical-align: top;\n",
       "    }\n",
       "\n",
       "    .dataframe thead th {\n",
       "        text-align: right;\n",
       "    }\n",
       "</style>\n",
       "<table border=\"1\" class=\"dataframe\">\n",
       "  <thead>\n",
       "    <tr style=\"text-align: right;\">\n",
       "      <th></th>\n",
       "      <th>Id</th>\n",
       "      <th>Peso</th>\n",
       "      <th>Altura</th>\n",
       "      <th>IMC</th>\n",
       "      <th>IDADE</th>\n",
       "      <th>PA SISTOLICA</th>\n",
       "      <th>PA DIASTOLICA</th>\n",
       "      <th>FC</th>\n",
       "    </tr>\n",
       "  </thead>\n",
       "  <tbody>\n",
       "    <tr>\n",
       "      <th>count</th>\n",
       "      <td>3146.000000</td>\n",
       "      <td>3088.000000</td>\n",
       "      <td>3146.000000</td>\n",
       "      <td>2436.000000</td>\n",
       "      <td>3146.000000</td>\n",
       "      <td>1911.000000</td>\n",
       "      <td>1911.000000</td>\n",
       "      <td>2999.000000</td>\n",
       "    </tr>\n",
       "    <tr>\n",
       "      <th>mean</th>\n",
       "      <td>8893.254291</td>\n",
       "      <td>22.026231</td>\n",
       "      <td>88.050223</td>\n",
       "      <td>17.867406</td>\n",
       "      <td>6.186538</td>\n",
       "      <td>100.962323</td>\n",
       "      <td>62.006279</td>\n",
       "      <td>92.593198</td>\n",
       "    </tr>\n",
       "    <tr>\n",
       "      <th>std</th>\n",
       "      <td>5122.239610</td>\n",
       "      <td>17.422042</td>\n",
       "      <td>54.264037</td>\n",
       "      <td>15.284035</td>\n",
       "      <td>4.573168</td>\n",
       "      <td>17.553885</td>\n",
       "      <td>8.592640</td>\n",
       "      <td>22.563362</td>\n",
       "    </tr>\n",
       "    <tr>\n",
       "      <th>min</th>\n",
       "      <td>1.000000</td>\n",
       "      <td>0.000000</td>\n",
       "      <td>0.000000</td>\n",
       "      <td>0.000000</td>\n",
       "      <td>0.000000</td>\n",
       "      <td>70.000000</td>\n",
       "      <td>35.000000</td>\n",
       "      <td>8.000000</td>\n",
       "    </tr>\n",
       "    <tr>\n",
       "      <th>25%</th>\n",
       "      <td>4507.750000</td>\n",
       "      <td>9.000000</td>\n",
       "      <td>51.000000</td>\n",
       "      <td>15.000000</td>\n",
       "      <td>2.340000</td>\n",
       "      <td>90.000000</td>\n",
       "      <td>60.000000</td>\n",
       "      <td>80.000000</td>\n",
       "    </tr>\n",
       "    <tr>\n",
       "      <th>50%</th>\n",
       "      <td>9002.500000</td>\n",
       "      <td>18.500000</td>\n",
       "      <td>102.000000</td>\n",
       "      <td>17.000000</td>\n",
       "      <td>5.480000</td>\n",
       "      <td>100.000000</td>\n",
       "      <td>60.000000</td>\n",
       "      <td>90.000000</td>\n",
       "    </tr>\n",
       "    <tr>\n",
       "      <th>75%</th>\n",
       "      <td>13236.750000</td>\n",
       "      <td>32.000000</td>\n",
       "      <td>130.000000</td>\n",
       "      <td>19.000000</td>\n",
       "      <td>9.847500</td>\n",
       "      <td>105.000000</td>\n",
       "      <td>68.000000</td>\n",
       "      <td>100.000000</td>\n",
       "    </tr>\n",
       "    <tr>\n",
       "      <th>max</th>\n",
       "      <td>17870.000000</td>\n",
       "      <td>157.000000</td>\n",
       "      <td>197.000000</td>\n",
       "      <td>742.000000</td>\n",
       "      <td>17.990000</td>\n",
       "      <td>700.000000</td>\n",
       "      <td>110.000000</td>\n",
       "      <td>900.000000</td>\n",
       "    </tr>\n",
       "  </tbody>\n",
       "</table>\n",
       "</div>"
      ],
      "text/plain": [
       "                 Id         Peso       Altura          IMC        IDADE  \\\n",
       "count   3146.000000  3088.000000  3146.000000  2436.000000  3146.000000   \n",
       "mean    8893.254291    22.026231    88.050223    17.867406     6.186538   \n",
       "std     5122.239610    17.422042    54.264037    15.284035     4.573168   \n",
       "min        1.000000     0.000000     0.000000     0.000000     0.000000   \n",
       "25%     4507.750000     9.000000    51.000000    15.000000     2.340000   \n",
       "50%     9002.500000    18.500000   102.000000    17.000000     5.480000   \n",
       "75%    13236.750000    32.000000   130.000000    19.000000     9.847500   \n",
       "max    17870.000000   157.000000   197.000000   742.000000    17.990000   \n",
       "\n",
       "       PA SISTOLICA  PA DIASTOLICA           FC  \n",
       "count   1911.000000    1911.000000  2999.000000  \n",
       "mean     100.962323      62.006279    92.593198  \n",
       "std       17.553885       8.592640    22.563362  \n",
       "min       70.000000      35.000000     8.000000  \n",
       "25%       90.000000      60.000000    80.000000  \n",
       "50%      100.000000      60.000000    90.000000  \n",
       "75%      105.000000      68.000000   100.000000  \n",
       "max      700.000000     110.000000   900.000000  "
      ]
     },
     "metadata": {},
     "output_type": "display_data"
    }
   ],
   "source": [
    "display(test_data.describe())"
   ]
  },
  {
   "cell_type": "markdown",
   "metadata": {},
   "source": [
    "Substituindo valores NaN em PA DIASTOLICA, PA SISTOLICA e FC pela mediana, devido à grande ao alto desvio padrão"
   ]
  },
  {
   "cell_type": "markdown",
   "metadata": {},
   "source": [
    "Substituindo os valores NaN por suas mediana, devido ao alto desvio padrão quando se comparado com suas amplitudes"
   ]
  },
  {
   "cell_type": "code",
   "execution_count": 3914,
   "metadata": {},
   "outputs": [],
   "source": [
    "test_data[\"PA DIASTOLICA\"] = fill_na_mediana(test_data, \"PA DIASTOLICA\")\n",
    "test_data[\"PA SISTOLICA\"] = fill_na_mediana(test_data, \"PA SISTOLICA\")\n",
    "test_data[\"FC\"] = fill_na_mediana(test_data, \"FC\")"
   ]
  },
  {
   "cell_type": "code",
   "execution_count": 3915,
   "metadata": {},
   "outputs": [],
   "source": [
    "test_data[\"Peso\"] = fill_na_mediana(test_data, \"Peso\")\n",
    "test_data[\"Altura\"] = fill_na_mediana(test_data, \"Altura\")\n",
    "test_data[\"IDADE\"] = fill_na_mediana(test_data, \"IDADE\")"
   ]
  },
  {
   "cell_type": "markdown",
   "metadata": {},
   "source": [
    "Plotando os gráficos de peso e altura para analisar os valores"
   ]
  },
  {
   "cell_type": "code",
   "execution_count": 3916,
   "metadata": {},
   "outputs": [
    {
     "data": {
      "image/png": "[encoded data removed]",
      "text/plain": [
       "<Figure size 576x576 with 1 Axes>"
      ]
     },
     "metadata": {
      "needs_background": "light"
     },
     "output_type": "display_data"
    }
   ],
   "source": [
    "plotar_boxplot(test_data, \"Peso\", \"SEXO\")"
   ]
  },
  {
   "cell_type": "code",
   "execution_count": 3917,
   "metadata": {},
   "outputs": [
    {
     "data": {
      "image/png": "[encoded data removed]",
      "text/plain": [
       "<Figure size 576x576 with 1 Axes>"
      ]
     },
     "metadata": {
      "needs_background": "light"
     },
     "output_type": "display_data"
    }
   ],
   "source": [
    "plotar_boxplot(test_data, 'Altura', 'SEXO')"
   ]
  },
  {
   "cell_type": "markdown",
   "metadata": {},
   "source": [
    "Plotando os boxplots de Peso e altura, notou-se a necessidade de lidar com valores irregulares, como pesos com valor zero e alturas com valor menor que 50"
   ]
  },
  {
   "cell_type": "code",
   "execution_count": 3918,
   "metadata": {},
   "outputs": [],
   "source": [
    "test_data[\"Peso\"] = test_data[\"Peso\"].replace(0, test_data[\"Peso\"].median())"
   ]
  },
  {
   "cell_type": "markdown",
   "metadata": {},
   "source": [
    "O mesmo ocorre com a altura"
   ]
  },
  {
   "cell_type": "code",
   "execution_count": 3919,
   "metadata": {},
   "outputs": [],
   "source": [
    "test_data[\"Altura\"] = test_data[\"Altura\"].replace(0, test_data[\"Altura\"].median())"
   ]
  },
  {
   "cell_type": "code",
   "execution_count": 3920,
   "metadata": {},
   "outputs": [],
   "source": [
    "altura_invalida = test_data[test_data[\"Altura\"] < 50]\n",
    "\n",
    "test_data.loc[altura_invalida.index, \"Altura\"] = test_data[\"Altura\"].median()"
   ]
  },
  {
   "cell_type": "markdown",
   "metadata": {},
   "source": [
    "Com peso e altura resolvidos, podemos recalcular o IMC das amostras"
   ]
  },
  {
   "cell_type": "code",
   "execution_count": 3921,
   "metadata": {},
   "outputs": [],
   "source": [
    "altura_aux = test_data[\"Altura\"] / 100\n",
    "\n",
    "\n",
    "test_data[\"IMC\"] = test_data[\"Peso\"] / np.power(altura_aux, 2)"
   ]
  },
  {
   "cell_type": "markdown",
   "metadata": {},
   "source": [
    "#### Agora iremos tratar as colunas não numéricas"
   ]
  },
  {
   "cell_type": "markdown",
   "metadata": {},
   "source": [
    "Removendo atributos que não seão úteis"
   ]
  },
  {
   "cell_type": "code",
   "execution_count": 3922,
   "metadata": {},
   "outputs": [],
   "source": [
    "test_data = test_data.drop(columns=[\"Atendimento\", \"DN\", \"Convenio\"])"
   ]
  },
  {
   "cell_type": "markdown",
   "metadata": {},
   "source": [
    "Substituindo 'NORMAIS' por 'Normais' e 'AMPLOS' por 'Amplos' no atributo PULSOS"
   ]
  },
  {
   "cell_type": "code",
   "execution_count": 3923,
   "metadata": {},
   "outputs": [],
   "source": [
    "substituir(test_data, \"PULSOS\", \"NORMAIS\", \"Normais\")\n",
    "substituir(test_data, \"PULSOS\", \"AMPLOS\", \"Amplos\")"
   ]
  },
  {
   "cell_type": "code",
   "execution_count": 3924,
   "metadata": {},
   "outputs": [],
   "source": [
    "substituir(test_data, \"SOPRO\", \"sistólico\", \"Sistólico\")\n",
    "substituir(test_data, \"SOPRO\", \"contínuo\", \"Contínuo\")"
   ]
  },
  {
   "cell_type": "markdown",
   "metadata": {},
   "source": [
    "Substituindo 'Masculino' e 'masculino' por 'M' e 'Feminino' por 'F'"
   ]
  },
  {
   "cell_type": "code",
   "execution_count": 3925,
   "metadata": {},
   "outputs": [],
   "source": [
    "substituir(test_data, \"SEXO\", \"Masculino\", \"M\")\n",
    "substituir(test_data, \"SEXO\", \"masculino\", \"M\")\n",
    "\n",
    "substituir(test_data, \"SEXO\", \"Feminino\", \"F\")"
   ]
  },
  {
   "cell_type": "markdown",
   "metadata": {},
   "source": [
    "#### Como não é possível remover os atributos NaN no conjunto de testes, iremos substituir os valores NaN pela moda de cada respectivo atributo não numérico"
   ]
  },
  {
   "cell_type": "code",
   "execution_count": 3926,
   "metadata": {},
   "outputs": [],
   "source": [
    "test_data[\"PULSOS\"] = test_data[\"PULSOS\"].fillna(test_data[\"PULSOS\"].mode()[0])"
   ]
  },
  {
   "cell_type": "code",
   "execution_count": 3927,
   "metadata": {},
   "outputs": [],
   "source": [
    "test_data[\"B2\"] = test_data[\"B2\"].fillna(test_data[\"B2\"].mode()[0])"
   ]
  },
  {
   "cell_type": "code",
   "execution_count": 3928,
   "metadata": {},
   "outputs": [],
   "source": [
    "test_data[\"SOPRO\"] = test_data[\"SOPRO\"].fillna(test_data[\"SOPRO\"].mode()[0])"
   ]
  },
  {
   "cell_type": "code",
   "execution_count": 3929,
   "metadata": {},
   "outputs": [],
   "source": [
    "test_data[\"SEXO\"] = test_data[\"SEXO\"].fillna(test_data[\"SEXO\"].mode()[0])"
   ]
  },
  {
   "cell_type": "code",
   "execution_count": 3930,
   "metadata": {},
   "outputs": [],
   "source": [
    "test_data[\"MOTIVO1\"] = test_data[\"MOTIVO1\"].fillna(test_data[\"MOTIVO1\"].mode()[0])\n",
    "test_data[\"MOTIVO2\"] = test_data[\"MOTIVO2\"].fillna(test_data[\"MOTIVO2\"].mode()[0])"
   ]
  },
  {
   "cell_type": "code",
   "execution_count": 3931,
   "metadata": {},
   "outputs": [],
   "source": [
    "test_data[\"PPA\"] = test_data[\"PPA\"].replace(\"#VALUE!\", np.nan)\n",
    "test_data[\"PPA\"] = test_data[\"PPA\"].fillna(test_data['PPA'].mode()[0])"
   ]
  },
  {
   "cell_type": "code",
   "execution_count": 3932,
   "metadata": {},
   "outputs": [],
   "source": [
    "test_data[\"HDA 1\"] = test_data[\"HDA 1\"].fillna(\"Assintomático\")\n",
    "test_data[\"HDA2\"] = test_data[\"HDA2\"].fillna(\"Assintomático\")"
   ]
  },
  {
   "cell_type": "code",
   "execution_count": 3933,
   "metadata": {},
   "outputs": [
    {
     "data": {
      "text/plain": [
       "Id               0\n",
       "Peso             0\n",
       "Altura           0\n",
       "IMC              0\n",
       "IDADE            0\n",
       "PULSOS           0\n",
       "PA SISTOLICA     0\n",
       "PA DIASTOLICA    0\n",
       "PPA              0\n",
       "B2               0\n",
       "SOPRO            0\n",
       "FC               0\n",
       "HDA 1            0\n",
       "HDA2             0\n",
       "SEXO             0\n",
       "MOTIVO1          0\n",
       "MOTIVO2          0\n",
       "dtype: int64"
      ]
     },
     "metadata": {},
     "output_type": "display_data"
    }
   ],
   "source": [
    "display(test_data.isna().sum())"
   ]
  },
  {
   "cell_type": "markdown",
   "metadata": {},
   "source": [
    "Agora, com ambos os conjuntos de dados tratados, treino e teste, iremos substituir os valores não numéricos de ambos por valores numéricos, afim de poder usa-los no modelo de classificação."
   ]
  },
  {
   "cell_type": "code",
   "execution_count": 3934,
   "metadata": {},
   "outputs": [
    {
     "data": {
      "text/html": [
       "<div>\n",
       "<style scoped>\n",
       "    .dataframe tbody tr th:only-of-type {\n",
       "        vertical-align: middle;\n",
       "    }\n",
       "\n",
       "    .dataframe tbody tr th {\n",
       "        vertical-align: top;\n",
       "    }\n",
       "\n",
       "    .dataframe thead th {\n",
       "        text-align: right;\n",
       "    }\n",
       "</style>\n",
       "<table border=\"1\" class=\"dataframe\">\n",
       "  <thead>\n",
       "    <tr style=\"text-align: right;\">\n",
       "      <th></th>\n",
       "      <th>Id</th>\n",
       "      <th>Peso</th>\n",
       "      <th>Altura</th>\n",
       "      <th>IMC</th>\n",
       "      <th>IDADE</th>\n",
       "      <th>PULSOS</th>\n",
       "      <th>PA SISTOLICA</th>\n",
       "      <th>PA DIASTOLICA</th>\n",
       "      <th>PPA</th>\n",
       "      <th>B2</th>\n",
       "      <th>SOPRO</th>\n",
       "      <th>FC</th>\n",
       "      <th>HDA 1</th>\n",
       "      <th>HDA2</th>\n",
       "      <th>SEXO</th>\n",
       "      <th>MOTIVO1</th>\n",
       "      <th>MOTIVO2</th>\n",
       "      <th>CLASSE</th>\n",
       "    </tr>\n",
       "  </thead>\n",
       "  <tbody>\n",
       "    <tr>\n",
       "      <th>0</th>\n",
       "      <td>10524</td>\n",
       "      <td>28.0</td>\n",
       "      <td>123</td>\n",
       "      <td>18.507502</td>\n",
       "      <td>5.79</td>\n",
       "      <td>Normais</td>\n",
       "      <td>110.0</td>\n",
       "      <td>80.0</td>\n",
       "      <td>HAS-1 PAD</td>\n",
       "      <td>Normal</td>\n",
       "      <td>ausente</td>\n",
       "      <td>100.0</td>\n",
       "      <td>Palpitacao</td>\n",
       "      <td>Assintomático</td>\n",
       "      <td>M</td>\n",
       "      <td>6 - Suspeita de cardiopatia</td>\n",
       "      <td>6 - Palpitação/taquicardia/arritmia</td>\n",
       "      <td>Normal</td>\n",
       "    </tr>\n",
       "    <tr>\n",
       "      <th>2</th>\n",
       "      <td>4483</td>\n",
       "      <td>13.0</td>\n",
       "      <td>87</td>\n",
       "      <td>17.175320</td>\n",
       "      <td>2.21</td>\n",
       "      <td>Normais</td>\n",
       "      <td>100.0</td>\n",
       "      <td>60.0</td>\n",
       "      <td>Não Calculado</td>\n",
       "      <td>Normal</td>\n",
       "      <td>Sistólico</td>\n",
       "      <td>100.0</td>\n",
       "      <td>Assintomático</td>\n",
       "      <td>Assintomático</td>\n",
       "      <td>M</td>\n",
       "      <td>6 - Suspeita de cardiopatia</td>\n",
       "      <td>6 - Sopro</td>\n",
       "      <td>Anormal</td>\n",
       "    </tr>\n",
       "    <tr>\n",
       "      <th>5</th>\n",
       "      <td>15430</td>\n",
       "      <td>45.0</td>\n",
       "      <td>161</td>\n",
       "      <td>17.360441</td>\n",
       "      <td>7.60</td>\n",
       "      <td>Normais</td>\n",
       "      <td>120.0</td>\n",
       "      <td>70.0</td>\n",
       "      <td>HAS-1 PAS</td>\n",
       "      <td>Normal</td>\n",
       "      <td>ausente</td>\n",
       "      <td>80.0</td>\n",
       "      <td>Assintomático</td>\n",
       "      <td>Assintomático</td>\n",
       "      <td>M</td>\n",
       "      <td>5 - Parecer cardiológico</td>\n",
       "      <td>5 - Cirurgia</td>\n",
       "      <td>Normal</td>\n",
       "    </tr>\n",
       "    <tr>\n",
       "      <th>8</th>\n",
       "      <td>14309</td>\n",
       "      <td>24.0</td>\n",
       "      <td>112</td>\n",
       "      <td>19.132653</td>\n",
       "      <td>5.27</td>\n",
       "      <td>Normais</td>\n",
       "      <td>100.0</td>\n",
       "      <td>60.0</td>\n",
       "      <td>Normal</td>\n",
       "      <td>Normal</td>\n",
       "      <td>ausente</td>\n",
       "      <td>100.0</td>\n",
       "      <td>Outro</td>\n",
       "      <td>Assintomático</td>\n",
       "      <td>M</td>\n",
       "      <td>6 - Suspeita de cardiopatia</td>\n",
       "      <td>6 - HAS/dislipidemia/obesidade</td>\n",
       "      <td>Normal</td>\n",
       "    </tr>\n",
       "    <tr>\n",
       "      <th>9</th>\n",
       "      <td>3437</td>\n",
       "      <td>17.0</td>\n",
       "      <td>100</td>\n",
       "      <td>17.000000</td>\n",
       "      <td>3.44</td>\n",
       "      <td>Normais</td>\n",
       "      <td>100.0</td>\n",
       "      <td>60.0</td>\n",
       "      <td>Não Calculado</td>\n",
       "      <td>Normal</td>\n",
       "      <td>ausente</td>\n",
       "      <td>92.0</td>\n",
       "      <td>Assintomático</td>\n",
       "      <td>Assintomático</td>\n",
       "      <td>M</td>\n",
       "      <td>5 - Parecer cardiológico</td>\n",
       "      <td>5 - Cirurgia</td>\n",
       "      <td>Normal</td>\n",
       "    </tr>\n",
       "    <tr>\n",
       "      <th>...</th>\n",
       "      <td>...</td>\n",
       "      <td>...</td>\n",
       "      <td>...</td>\n",
       "      <td>...</td>\n",
       "      <td>...</td>\n",
       "      <td>...</td>\n",
       "      <td>...</td>\n",
       "      <td>...</td>\n",
       "      <td>...</td>\n",
       "      <td>...</td>\n",
       "      <td>...</td>\n",
       "      <td>...</td>\n",
       "      <td>...</td>\n",
       "      <td>...</td>\n",
       "      <td>...</td>\n",
       "      <td>...</td>\n",
       "      <td>...</td>\n",
       "      <td>...</td>\n",
       "    </tr>\n",
       "    <tr>\n",
       "      <th>14715</th>\n",
       "      <td>12739</td>\n",
       "      <td>40.0</td>\n",
       "      <td>130</td>\n",
       "      <td>23.668639</td>\n",
       "      <td>8.03</td>\n",
       "      <td>Normais</td>\n",
       "      <td>90.0</td>\n",
       "      <td>60.0</td>\n",
       "      <td>Normal</td>\n",
       "      <td>Normal</td>\n",
       "      <td>Sistólico</td>\n",
       "      <td>92.0</td>\n",
       "      <td>Dor precordial</td>\n",
       "      <td>Assintomático</td>\n",
       "      <td>M</td>\n",
       "      <td>6 - Suspeita de cardiopatia</td>\n",
       "      <td>6 - Dor precordial</td>\n",
       "      <td>Anormal</td>\n",
       "    </tr>\n",
       "    <tr>\n",
       "      <th>14716</th>\n",
       "      <td>390</td>\n",
       "      <td>25.0</td>\n",
       "      <td>110</td>\n",
       "      <td>20.661157</td>\n",
       "      <td>5.15</td>\n",
       "      <td>Normais</td>\n",
       "      <td>100.0</td>\n",
       "      <td>60.0</td>\n",
       "      <td>Não Calculado</td>\n",
       "      <td>Normal</td>\n",
       "      <td>ausente</td>\n",
       "      <td>92.0</td>\n",
       "      <td>Assintomático</td>\n",
       "      <td>Assintomático</td>\n",
       "      <td>F</td>\n",
       "      <td>5 - Parecer cardiológico</td>\n",
       "      <td>5 - Cirurgia</td>\n",
       "      <td>Normal</td>\n",
       "    </tr>\n",
       "    <tr>\n",
       "      <th>14717</th>\n",
       "      <td>14869</td>\n",
       "      <td>10.0</td>\n",
       "      <td>70</td>\n",
       "      <td>20.408163</td>\n",
       "      <td>0.60</td>\n",
       "      <td>Normais</td>\n",
       "      <td>100.0</td>\n",
       "      <td>60.0</td>\n",
       "      <td>Não Calculado</td>\n",
       "      <td>Normal</td>\n",
       "      <td>ausente</td>\n",
       "      <td>112.0</td>\n",
       "      <td>Assintomático</td>\n",
       "      <td>Assintomático</td>\n",
       "      <td>M</td>\n",
       "      <td>6 - Suspeita de cardiopatia</td>\n",
       "      <td>Outro</td>\n",
       "      <td>Normal</td>\n",
       "    </tr>\n",
       "    <tr>\n",
       "      <th>14723</th>\n",
       "      <td>3249</td>\n",
       "      <td>30.0</td>\n",
       "      <td>113</td>\n",
       "      <td>23.494401</td>\n",
       "      <td>4.97</td>\n",
       "      <td>Normais</td>\n",
       "      <td>105.0</td>\n",
       "      <td>70.0</td>\n",
       "      <td>Pre-Hipertensão PAD</td>\n",
       "      <td>Normal</td>\n",
       "      <td>Sistólico</td>\n",
       "      <td>92.0</td>\n",
       "      <td>Dispneia</td>\n",
       "      <td>Palpitacao</td>\n",
       "      <td>F</td>\n",
       "      <td>6 - Suspeita de cardiopatia</td>\n",
       "      <td>6 - Dispnéia</td>\n",
       "      <td>Anormal</td>\n",
       "    </tr>\n",
       "    <tr>\n",
       "      <th>14724</th>\n",
       "      <td>3207</td>\n",
       "      <td>25.8</td>\n",
       "      <td>130</td>\n",
       "      <td>15.266272</td>\n",
       "      <td>7.69</td>\n",
       "      <td>Normais</td>\n",
       "      <td>90.0</td>\n",
       "      <td>55.0</td>\n",
       "      <td>Normal</td>\n",
       "      <td>Normal</td>\n",
       "      <td>ausente</td>\n",
       "      <td>78.0</td>\n",
       "      <td>Assintomático</td>\n",
       "      <td>Assintomático</td>\n",
       "      <td>M</td>\n",
       "      <td>6 - Suspeita de cardiopatia</td>\n",
       "      <td>6 - Sopro</td>\n",
       "      <td>Normal</td>\n",
       "    </tr>\n",
       "  </tbody>\n",
       "</table>\n",
       "<p>5244 rows × 18 columns</p>\n",
       "</div>"
      ],
      "text/plain": [
       "          Id  Peso  Altura        IMC  IDADE   PULSOS  PA SISTOLICA  \\\n",
       "0      10524  28.0     123  18.507502   5.79  Normais         110.0   \n",
       "2       4483  13.0      87  17.175320   2.21  Normais         100.0   \n",
       "5      15430  45.0     161  17.360441   7.60  Normais         120.0   \n",
       "8      14309  24.0     112  19.132653   5.27  Normais         100.0   \n",
       "9       3437  17.0     100  17.000000   3.44  Normais         100.0   \n",
       "...      ...   ...     ...        ...    ...      ...           ...   \n",
       "14715  12739  40.0     130  23.668639   8.03  Normais          90.0   \n",
       "14716    390  25.0     110  20.661157   5.15  Normais         100.0   \n",
       "14717  14869  10.0      70  20.408163   0.60  Normais         100.0   \n",
       "14723   3249  30.0     113  23.494401   4.97  Normais         105.0   \n",
       "14724   3207  25.8     130  15.266272   7.69  Normais          90.0   \n",
       "\n",
       "       PA DIASTOLICA                  PPA      B2      SOPRO     FC  \\\n",
       "0               80.0            HAS-1 PAD  Normal    ausente  100.0   \n",
       "2               60.0        Não Calculado  Normal  Sistólico  100.0   \n",
       "5               70.0            HAS-1 PAS  Normal    ausente   80.0   \n",
       "8               60.0               Normal  Normal    ausente  100.0   \n",
       "9               60.0        Não Calculado  Normal    ausente   92.0   \n",
       "...              ...                  ...     ...        ...    ...   \n",
       "14715           60.0               Normal  Normal  Sistólico   92.0   \n",
       "14716           60.0        Não Calculado  Normal    ausente   92.0   \n",
       "14717           60.0        Não Calculado  Normal    ausente  112.0   \n",
       "14723           70.0  Pre-Hipertensão PAD  Normal  Sistólico   92.0   \n",
       "14724           55.0               Normal  Normal    ausente   78.0   \n",
       "\n",
       "                HDA 1           HDA2 SEXO                      MOTIVO1  \\\n",
       "0          Palpitacao  Assintomático    M  6 - Suspeita de cardiopatia   \n",
       "2       Assintomático  Assintomático    M  6 - Suspeita de cardiopatia   \n",
       "5       Assintomático  Assintomático    M     5 - Parecer cardiológico   \n",
       "8               Outro  Assintomático    M  6 - Suspeita de cardiopatia   \n",
       "9       Assintomático  Assintomático    M     5 - Parecer cardiológico   \n",
       "...               ...            ...  ...                          ...   \n",
       "14715  Dor precordial  Assintomático    M  6 - Suspeita de cardiopatia   \n",
       "14716   Assintomático  Assintomático    F     5 - Parecer cardiológico   \n",
       "14717   Assintomático  Assintomático    M  6 - Suspeita de cardiopatia   \n",
       "14723        Dispneia     Palpitacao    F  6 - Suspeita de cardiopatia   \n",
       "14724   Assintomático  Assintomático    M  6 - Suspeita de cardiopatia   \n",
       "\n",
       "                                   MOTIVO2   CLASSE  \n",
       "0      6 - Palpitação/taquicardia/arritmia   Normal  \n",
       "2                                6 - Sopro  Anormal  \n",
       "5                             5 - Cirurgia   Normal  \n",
       "8           6 - HAS/dislipidemia/obesidade   Normal  \n",
       "9                             5 - Cirurgia   Normal  \n",
       "...                                    ...      ...  \n",
       "14715                   6 - Dor precordial  Anormal  \n",
       "14716                         5 - Cirurgia   Normal  \n",
       "14717                                Outro   Normal  \n",
       "14723                         6 - Dispnéia  Anormal  \n",
       "14724                            6 - Sopro   Normal  \n",
       "\n",
       "[5244 rows x 18 columns]"
      ]
     },
     "metadata": {},
     "output_type": "display_data"
    }
   ],
   "source": [
    "display(train_data)"
   ]
  },
  {
   "cell_type": "code",
   "execution_count": 3935,
   "metadata": {},
   "outputs": [
    {
     "data": {
      "text/html": [
       "<div>\n",
       "<style scoped>\n",
       "    .dataframe tbody tr th:only-of-type {\n",
       "        vertical-align: middle;\n",
       "    }\n",
       "\n",
       "    .dataframe tbody tr th {\n",
       "        vertical-align: top;\n",
       "    }\n",
       "\n",
       "    .dataframe thead th {\n",
       "        text-align: right;\n",
       "    }\n",
       "</style>\n",
       "<table border=\"1\" class=\"dataframe\">\n",
       "  <thead>\n",
       "    <tr style=\"text-align: right;\">\n",
       "      <th></th>\n",
       "      <th>Id</th>\n",
       "      <th>Peso</th>\n",
       "      <th>Altura</th>\n",
       "      <th>IMC</th>\n",
       "      <th>IDADE</th>\n",
       "      <th>PULSOS</th>\n",
       "      <th>PA SISTOLICA</th>\n",
       "      <th>PA DIASTOLICA</th>\n",
       "      <th>PPA</th>\n",
       "      <th>B2</th>\n",
       "      <th>SOPRO</th>\n",
       "      <th>FC</th>\n",
       "      <th>HDA 1</th>\n",
       "      <th>HDA2</th>\n",
       "      <th>SEXO</th>\n",
       "      <th>MOTIVO1</th>\n",
       "      <th>MOTIVO2</th>\n",
       "      <th>CLASSE</th>\n",
       "    </tr>\n",
       "  </thead>\n",
       "  <tbody>\n",
       "    <tr>\n",
       "      <th>0</th>\n",
       "      <td>10524</td>\n",
       "      <td>28.0</td>\n",
       "      <td>123</td>\n",
       "      <td>18.507502</td>\n",
       "      <td>5.79</td>\n",
       "      <td>Normais</td>\n",
       "      <td>110.0</td>\n",
       "      <td>80.0</td>\n",
       "      <td>HAS-1 PAD</td>\n",
       "      <td>Normal</td>\n",
       "      <td>ausente</td>\n",
       "      <td>100.0</td>\n",
       "      <td>Palpitacao</td>\n",
       "      <td>Assintomático</td>\n",
       "      <td>M</td>\n",
       "      <td>6 - Suspeita de cardiopatia</td>\n",
       "      <td>6 - Palpitação/taquicardia/arritmia</td>\n",
       "      <td>Normal</td>\n",
       "    </tr>\n",
       "    <tr>\n",
       "      <th>2</th>\n",
       "      <td>4483</td>\n",
       "      <td>13.0</td>\n",
       "      <td>87</td>\n",
       "      <td>17.175320</td>\n",
       "      <td>2.21</td>\n",
       "      <td>Normais</td>\n",
       "      <td>100.0</td>\n",
       "      <td>60.0</td>\n",
       "      <td>Não Calculado</td>\n",
       "      <td>Normal</td>\n",
       "      <td>Sistólico</td>\n",
       "      <td>100.0</td>\n",
       "      <td>Assintomático</td>\n",
       "      <td>Assintomático</td>\n",
       "      <td>M</td>\n",
       "      <td>6 - Suspeita de cardiopatia</td>\n",
       "      <td>6 - Sopro</td>\n",
       "      <td>Anormal</td>\n",
       "    </tr>\n",
       "    <tr>\n",
       "      <th>5</th>\n",
       "      <td>15430</td>\n",
       "      <td>45.0</td>\n",
       "      <td>161</td>\n",
       "      <td>17.360441</td>\n",
       "      <td>7.60</td>\n",
       "      <td>Normais</td>\n",
       "      <td>120.0</td>\n",
       "      <td>70.0</td>\n",
       "      <td>HAS-1 PAS</td>\n",
       "      <td>Normal</td>\n",
       "      <td>ausente</td>\n",
       "      <td>80.0</td>\n",
       "      <td>Assintomático</td>\n",
       "      <td>Assintomático</td>\n",
       "      <td>M</td>\n",
       "      <td>5 - Parecer cardiológico</td>\n",
       "      <td>5 - Cirurgia</td>\n",
       "      <td>Normal</td>\n",
       "    </tr>\n",
       "    <tr>\n",
       "      <th>8</th>\n",
       "      <td>14309</td>\n",
       "      <td>24.0</td>\n",
       "      <td>112</td>\n",
       "      <td>19.132653</td>\n",
       "      <td>5.27</td>\n",
       "      <td>Normais</td>\n",
       "      <td>100.0</td>\n",
       "      <td>60.0</td>\n",
       "      <td>Normal</td>\n",
       "      <td>Normal</td>\n",
       "      <td>ausente</td>\n",
       "      <td>100.0</td>\n",
       "      <td>Outro</td>\n",
       "      <td>Assintomático</td>\n",
       "      <td>M</td>\n",
       "      <td>6 - Suspeita de cardiopatia</td>\n",
       "      <td>6 - HAS/dislipidemia/obesidade</td>\n",
       "      <td>Normal</td>\n",
       "    </tr>\n",
       "    <tr>\n",
       "      <th>9</th>\n",
       "      <td>3437</td>\n",
       "      <td>17.0</td>\n",
       "      <td>100</td>\n",
       "      <td>17.000000</td>\n",
       "      <td>3.44</td>\n",
       "      <td>Normais</td>\n",
       "      <td>100.0</td>\n",
       "      <td>60.0</td>\n",
       "      <td>Não Calculado</td>\n",
       "      <td>Normal</td>\n",
       "      <td>ausente</td>\n",
       "      <td>92.0</td>\n",
       "      <td>Assintomático</td>\n",
       "      <td>Assintomático</td>\n",
       "      <td>M</td>\n",
       "      <td>5 - Parecer cardiológico</td>\n",
       "      <td>5 - Cirurgia</td>\n",
       "      <td>Normal</td>\n",
       "    </tr>\n",
       "  </tbody>\n",
       "</table>\n",
       "</div>"
      ],
      "text/plain": [
       "      Id  Peso  Altura        IMC  IDADE   PULSOS  PA SISTOLICA  \\\n",
       "0  10524  28.0     123  18.507502   5.79  Normais         110.0   \n",
       "2   4483  13.0      87  17.175320   2.21  Normais         100.0   \n",
       "5  15430  45.0     161  17.360441   7.60  Normais         120.0   \n",
       "8  14309  24.0     112  19.132653   5.27  Normais         100.0   \n",
       "9   3437  17.0     100  17.000000   3.44  Normais         100.0   \n",
       "\n",
       "   PA DIASTOLICA            PPA      B2      SOPRO     FC          HDA 1  \\\n",
       "0           80.0      HAS-1 PAD  Normal    ausente  100.0     Palpitacao   \n",
       "2           60.0  Não Calculado  Normal  Sistólico  100.0  Assintomático   \n",
       "5           70.0      HAS-1 PAS  Normal    ausente   80.0  Assintomático   \n",
       "8           60.0         Normal  Normal    ausente  100.0          Outro   \n",
       "9           60.0  Não Calculado  Normal    ausente   92.0  Assintomático   \n",
       "\n",
       "            HDA2 SEXO                      MOTIVO1  \\\n",
       "0  Assintomático    M  6 - Suspeita de cardiopatia   \n",
       "2  Assintomático    M  6 - Suspeita de cardiopatia   \n",
       "5  Assintomático    M     5 - Parecer cardiológico   \n",
       "8  Assintomático    M  6 - Suspeita de cardiopatia   \n",
       "9  Assintomático    M     5 - Parecer cardiológico   \n",
       "\n",
       "                               MOTIVO2   CLASSE  \n",
       "0  6 - Palpitação/taquicardia/arritmia   Normal  \n",
       "2                            6 - Sopro  Anormal  \n",
       "5                         5 - Cirurgia   Normal  \n",
       "8       6 - HAS/dislipidemia/obesidade   Normal  \n",
       "9                         5 - Cirurgia   Normal  "
      ]
     },
     "metadata": {},
     "output_type": "display_data"
    }
   ],
   "source": [
    "display(train_data.head())"
   ]
  },
  {
   "cell_type": "markdown",
   "metadata": {},
   "source": [
    "Com a a classe já tratada, agora iremos mapear os demais atributos das duas colunas"
   ]
  },
  {
   "cell_type": "markdown",
   "metadata": {},
   "source": [
    "Usaremos o LabelEncoder, responsável por mapear cada valor único de uma coluna não numérica em um valor númerico distinto,"
   ]
  },
  {
   "cell_type": "code",
   "execution_count": 3936,
   "metadata": {},
   "outputs": [],
   "source": [
    "from sklearn.preprocessing import LabelEncoder"
   ]
  },
  {
   "cell_type": "code",
   "execution_count": 3937,
   "metadata": {},
   "outputs": [],
   "source": [
    "lencoder = LabelEncoder()"
   ]
  },
  {
   "cell_type": "code",
   "execution_count": 3938,
   "metadata": {},
   "outputs": [],
   "source": [
    "\n",
    "pulsos_num = lencoder.fit_transform(train_data[\"PULSOS\"])\n",
    "ppa_num = lencoder.fit_transform(train_data[\"PPA\"])\n",
    "b2_num = lencoder.fit_transform(train_data[\"B2\"])\n",
    "sopro_num = lencoder.fit_transform(train_data[\"SOPRO\"])\n",
    "hda1_num = lencoder.fit_transform(train_data[\"HDA 1\"])\n",
    "hda2_num = lencoder.fit_transform(train_data[\"HDA2\"])\n",
    "sexo_num = lencoder.fit_transform(train_data[\"SEXO\"])\n",
    "motivo1_num = lencoder.fit_transform(train_data[\"MOTIVO1\"])\n",
    "motivo2_num = lencoder.fit_transform(train_data[\"MOTIVO2\"])\n",
    "class_num = lencoder.fit_transform(train_data['CLASSE'])"
   ]
  },
  {
   "cell_type": "code",
   "execution_count": 3939,
   "metadata": {},
   "outputs": [],
   "source": [
    "train_data[\"PULSOS\"] = pulsos_num\n",
    "train_data[\"PPA\"] = ppa_num\n",
    "train_data[\"B2\"] = b2_num\n",
    "train_data[\"SOPRO\"] = sopro_num\n",
    "train_data[\"HDA 1\"] = hda1_num\n",
    "train_data[\"HDA2\"] = hda2_num\n",
    "train_data[\"SEXO\"] = sexo_num\n",
    "train_data[\"MOTIVO1\"] = motivo1_num\n",
    "train_data[\"MOTIVO2\"] = motivo2_num\n",
    "train_data['CLASSE'] = class_num"
   ]
  },
  {
   "cell_type": "markdown",
   "metadata": {},
   "source": [
    "Depois para o conjunto de testes"
   ]
  },
  {
   "cell_type": "code",
   "execution_count": 3940,
   "metadata": {},
   "outputs": [],
   "source": [
    "pulsos_num = lencoder.fit_transform(test_data[\"PULSOS\"])\n",
    "ppa_num = lencoder.fit_transform(test_data[\"PPA\"])\n",
    "b2_num = lencoder.fit_transform(test_data[\"B2\"])\n",
    "sopro_num = lencoder.fit_transform(test_data[\"SOPRO\"])\n",
    "hda1_num = lencoder.fit_transform(test_data[\"HDA 1\"])\n",
    "hda2_num = lencoder.fit_transform(test_data[\"HDA2\"])\n",
    "sexo_num = lencoder.fit_transform(test_data[\"SEXO\"])\n",
    "motivo1_num = lencoder.fit_transform(test_data[\"MOTIVO1\"])\n",
    "motivo2_num = lencoder.fit_transform(test_data[\"MOTIVO2\"])"
   ]
  },
  {
   "cell_type": "code",
   "execution_count": 3941,
   "metadata": {},
   "outputs": [],
   "source": [
    "test_data[\"PULSOS\"] = pulsos_num\n",
    "test_data[\"PPA\"] = ppa_num\n",
    "test_data[\"B2\"] = b2_num\n",
    "test_data[\"SOPRO\"] = sopro_num\n",
    "test_data[\"HDA 1\"] = hda1_num\n",
    "test_data[\"HDA2\"] = hda2_num\n",
    "test_data[\"SEXO\"] = sexo_num\n",
    "test_data[\"MOTIVO1\"] = motivo1_num\n",
    "test_data[\"MOTIVO2\"] = motivo2_num"
   ]
  },
  {
   "cell_type": "code",
   "execution_count": 3942,
   "metadata": {},
   "outputs": [
    {
     "data": {
      "text/html": [
       "<div>\n",
       "<style scoped>\n",
       "    .dataframe tbody tr th:only-of-type {\n",
       "        vertical-align: middle;\n",
       "    }\n",
       "\n",
       "    .dataframe tbody tr th {\n",
       "        vertical-align: top;\n",
       "    }\n",
       "\n",
       "    .dataframe thead th {\n",
       "        text-align: right;\n",
       "    }\n",
       "</style>\n",
       "<table border=\"1\" class=\"dataframe\">\n",
       "  <thead>\n",
       "    <tr style=\"text-align: right;\">\n",
       "      <th></th>\n",
       "      <th>Id</th>\n",
       "      <th>Peso</th>\n",
       "      <th>Altura</th>\n",
       "      <th>IMC</th>\n",
       "      <th>IDADE</th>\n",
       "      <th>PULSOS</th>\n",
       "      <th>PA SISTOLICA</th>\n",
       "      <th>PA DIASTOLICA</th>\n",
       "      <th>PPA</th>\n",
       "      <th>B2</th>\n",
       "      <th>SOPRO</th>\n",
       "      <th>FC</th>\n",
       "      <th>HDA 1</th>\n",
       "      <th>HDA2</th>\n",
       "      <th>SEXO</th>\n",
       "      <th>MOTIVO1</th>\n",
       "      <th>MOTIVO2</th>\n",
       "      <th>CLASSE</th>\n",
       "    </tr>\n",
       "  </thead>\n",
       "  <tbody>\n",
       "    <tr>\n",
       "      <th>0</th>\n",
       "      <td>10524</td>\n",
       "      <td>28.0</td>\n",
       "      <td>123</td>\n",
       "      <td>18.507502</td>\n",
       "      <td>5.79</td>\n",
       "      <td>2</td>\n",
       "      <td>110.0</td>\n",
       "      <td>80.0</td>\n",
       "      <td>0</td>\n",
       "      <td>2</td>\n",
       "      <td>2</td>\n",
       "      <td>100.0</td>\n",
       "      <td>7</td>\n",
       "      <td>0</td>\n",
       "      <td>2</td>\n",
       "      <td>3</td>\n",
       "      <td>12</td>\n",
       "      <td>1</td>\n",
       "    </tr>\n",
       "    <tr>\n",
       "      <th>2</th>\n",
       "      <td>4483</td>\n",
       "      <td>13.0</td>\n",
       "      <td>87</td>\n",
       "      <td>17.175320</td>\n",
       "      <td>2.21</td>\n",
       "      <td>2</td>\n",
       "      <td>100.0</td>\n",
       "      <td>60.0</td>\n",
       "      <td>5</td>\n",
       "      <td>2</td>\n",
       "      <td>1</td>\n",
       "      <td>100.0</td>\n",
       "      <td>0</td>\n",
       "      <td>0</td>\n",
       "      <td>2</td>\n",
       "      <td>3</td>\n",
       "      <td>13</td>\n",
       "      <td>0</td>\n",
       "    </tr>\n",
       "    <tr>\n",
       "      <th>5</th>\n",
       "      <td>15430</td>\n",
       "      <td>45.0</td>\n",
       "      <td>161</td>\n",
       "      <td>17.360441</td>\n",
       "      <td>7.60</td>\n",
       "      <td>2</td>\n",
       "      <td>120.0</td>\n",
       "      <td>70.0</td>\n",
       "      <td>1</td>\n",
       "      <td>2</td>\n",
       "      <td>2</td>\n",
       "      <td>80.0</td>\n",
       "      <td>0</td>\n",
       "      <td>0</td>\n",
       "      <td>2</td>\n",
       "      <td>2</td>\n",
       "      <td>3</td>\n",
       "      <td>1</td>\n",
       "    </tr>\n",
       "    <tr>\n",
       "      <th>8</th>\n",
       "      <td>14309</td>\n",
       "      <td>24.0</td>\n",
       "      <td>112</td>\n",
       "      <td>19.132653</td>\n",
       "      <td>5.27</td>\n",
       "      <td>2</td>\n",
       "      <td>100.0</td>\n",
       "      <td>60.0</td>\n",
       "      <td>4</td>\n",
       "      <td>2</td>\n",
       "      <td>2</td>\n",
       "      <td>100.0</td>\n",
       "      <td>6</td>\n",
       "      <td>0</td>\n",
       "      <td>2</td>\n",
       "      <td>3</td>\n",
       "      <td>11</td>\n",
       "      <td>1</td>\n",
       "    </tr>\n",
       "    <tr>\n",
       "      <th>9</th>\n",
       "      <td>3437</td>\n",
       "      <td>17.0</td>\n",
       "      <td>100</td>\n",
       "      <td>17.000000</td>\n",
       "      <td>3.44</td>\n",
       "      <td>2</td>\n",
       "      <td>100.0</td>\n",
       "      <td>60.0</td>\n",
       "      <td>5</td>\n",
       "      <td>2</td>\n",
       "      <td>2</td>\n",
       "      <td>92.0</td>\n",
       "      <td>0</td>\n",
       "      <td>0</td>\n",
       "      <td>2</td>\n",
       "      <td>2</td>\n",
       "      <td>3</td>\n",
       "      <td>1</td>\n",
       "    </tr>\n",
       "  </tbody>\n",
       "</table>\n",
       "</div>"
      ],
      "text/plain": [
       "      Id  Peso  Altura        IMC  IDADE  PULSOS  PA SISTOLICA  PA DIASTOLICA  \\\n",
       "0  10524  28.0     123  18.507502   5.79       2         110.0           80.0   \n",
       "2   4483  13.0      87  17.175320   2.21       2         100.0           60.0   \n",
       "5  15430  45.0     161  17.360441   7.60       2         120.0           70.0   \n",
       "8  14309  24.0     112  19.132653   5.27       2         100.0           60.0   \n",
       "9   3437  17.0     100  17.000000   3.44       2         100.0           60.0   \n",
       "\n",
       "   PPA  B2  SOPRO     FC  HDA 1  HDA2  SEXO  MOTIVO1  MOTIVO2  CLASSE  \n",
       "0    0   2      2  100.0      7     0     2        3       12       1  \n",
       "2    5   2      1  100.0      0     0     2        3       13       0  \n",
       "5    1   2      2   80.0      0     0     2        2        3       1  \n",
       "8    4   2      2  100.0      6     0     2        3       11       1  \n",
       "9    5   2      2   92.0      0     0     2        2        3       1  "
      ]
     },
     "metadata": {},
     "output_type": "display_data"
    }
   ],
   "source": [
    "display(train_data.head(5))"
   ]
  },
  {
   "cell_type": "markdown",
   "metadata": {},
   "source": [
    "<small>O lencoder mapeou Normal como 1 e Anormal como 0 por conta da ordem alfabética, logo, ao invés de escrever a segunda coluna como o resultado do .csv da previsão, será necessário escrever a primeira coluna</small>"
   ]
  },
  {
   "cell_type": "code",
   "execution_count": 3943,
   "metadata": {},
   "outputs": [
    {
     "data": {
      "text/html": [
       "<div>\n",
       "<style scoped>\n",
       "    .dataframe tbody tr th:only-of-type {\n",
       "        vertical-align: middle;\n",
       "    }\n",
       "\n",
       "    .dataframe tbody tr th {\n",
       "        vertical-align: top;\n",
       "    }\n",
       "\n",
       "    .dataframe thead th {\n",
       "        text-align: right;\n",
       "    }\n",
       "</style>\n",
       "<table border=\"1\" class=\"dataframe\">\n",
       "  <thead>\n",
       "    <tr style=\"text-align: right;\">\n",
       "      <th></th>\n",
       "      <th>Id</th>\n",
       "      <th>Peso</th>\n",
       "      <th>Altura</th>\n",
       "      <th>IMC</th>\n",
       "      <th>IDADE</th>\n",
       "      <th>PULSOS</th>\n",
       "      <th>PA SISTOLICA</th>\n",
       "      <th>PA DIASTOLICA</th>\n",
       "      <th>PPA</th>\n",
       "      <th>B2</th>\n",
       "      <th>SOPRO</th>\n",
       "      <th>FC</th>\n",
       "      <th>HDA 1</th>\n",
       "      <th>HDA2</th>\n",
       "      <th>SEXO</th>\n",
       "      <th>MOTIVO1</th>\n",
       "      <th>MOTIVO2</th>\n",
       "    </tr>\n",
       "  </thead>\n",
       "  <tbody>\n",
       "    <tr>\n",
       "      <th>0</th>\n",
       "      <td>8957</td>\n",
       "      <td>4.5</td>\n",
       "      <td>54</td>\n",
       "      <td>15.432099</td>\n",
       "      <td>0.15</td>\n",
       "      <td>3</td>\n",
       "      <td>100.0</td>\n",
       "      <td>60.0</td>\n",
       "      <td>5</td>\n",
       "      <td>2</td>\n",
       "      <td>2</td>\n",
       "      <td>110.0</td>\n",
       "      <td>3</td>\n",
       "      <td>6</td>\n",
       "      <td>0</td>\n",
       "      <td>1</td>\n",
       "      <td>3</td>\n",
       "    </tr>\n",
       "    <tr>\n",
       "      <th>1</th>\n",
       "      <td>4246</td>\n",
       "      <td>42.4</td>\n",
       "      <td>150</td>\n",
       "      <td>18.844444</td>\n",
       "      <td>12.43</td>\n",
       "      <td>3</td>\n",
       "      <td>100.0</td>\n",
       "      <td>60.0</td>\n",
       "      <td>5</td>\n",
       "      <td>2</td>\n",
       "      <td>2</td>\n",
       "      <td>84.0</td>\n",
       "      <td>0</td>\n",
       "      <td>0</td>\n",
       "      <td>2</td>\n",
       "      <td>2</td>\n",
       "      <td>2</td>\n",
       "    </tr>\n",
       "    <tr>\n",
       "      <th>2</th>\n",
       "      <td>9089</td>\n",
       "      <td>18.1</td>\n",
       "      <td>104</td>\n",
       "      <td>16.734467</td>\n",
       "      <td>3.82</td>\n",
       "      <td>3</td>\n",
       "      <td>130.0</td>\n",
       "      <td>90.0</td>\n",
       "      <td>3</td>\n",
       "      <td>2</td>\n",
       "      <td>2</td>\n",
       "      <td>100.0</td>\n",
       "      <td>1</td>\n",
       "      <td>0</td>\n",
       "      <td>2</td>\n",
       "      <td>2</td>\n",
       "      <td>3</td>\n",
       "    </tr>\n",
       "    <tr>\n",
       "      <th>3</th>\n",
       "      <td>10606</td>\n",
       "      <td>7.7</td>\n",
       "      <td>102</td>\n",
       "      <td>7.401000</td>\n",
       "      <td>0.73</td>\n",
       "      <td>3</td>\n",
       "      <td>100.0</td>\n",
       "      <td>60.0</td>\n",
       "      <td>5</td>\n",
       "      <td>2</td>\n",
       "      <td>2</td>\n",
       "      <td>98.0</td>\n",
       "      <td>0</td>\n",
       "      <td>0</td>\n",
       "      <td>0</td>\n",
       "      <td>0</td>\n",
       "      <td>1</td>\n",
       "    </tr>\n",
       "    <tr>\n",
       "      <th>4</th>\n",
       "      <td>9863</td>\n",
       "      <td>16.0</td>\n",
       "      <td>102</td>\n",
       "      <td>15.378700</td>\n",
       "      <td>3.99</td>\n",
       "      <td>3</td>\n",
       "      <td>100.0</td>\n",
       "      <td>60.0</td>\n",
       "      <td>5</td>\n",
       "      <td>2</td>\n",
       "      <td>2</td>\n",
       "      <td>90.0</td>\n",
       "      <td>0</td>\n",
       "      <td>0</td>\n",
       "      <td>0</td>\n",
       "      <td>2</td>\n",
       "      <td>3</td>\n",
       "    </tr>\n",
       "  </tbody>\n",
       "</table>\n",
       "</div>"
      ],
      "text/plain": [
       "      Id  Peso  Altura        IMC  IDADE  PULSOS  PA SISTOLICA  PA DIASTOLICA  \\\n",
       "0   8957   4.5      54  15.432099   0.15       3         100.0           60.0   \n",
       "1   4246  42.4     150  18.844444  12.43       3         100.0           60.0   \n",
       "2   9089  18.1     104  16.734467   3.82       3         130.0           90.0   \n",
       "3  10606   7.7     102   7.401000   0.73       3         100.0           60.0   \n",
       "4   9863  16.0     102  15.378700   3.99       3         100.0           60.0   \n",
       "\n",
       "   PPA  B2  SOPRO     FC  HDA 1  HDA2  SEXO  MOTIVO1  MOTIVO2  \n",
       "0    5   2      2  110.0      3     6     0        1        3  \n",
       "1    5   2      2   84.0      0     0     2        2        2  \n",
       "2    3   2      2  100.0      1     0     2        2        3  \n",
       "3    5   2      2   98.0      0     0     0        0        1  \n",
       "4    5   2      2   90.0      0     0     0        2        3  "
      ]
     },
     "metadata": {},
     "output_type": "display_data"
    }
   ],
   "source": [
    "display(test_data.head(5))"
   ]
  },
  {
   "cell_type": "markdown",
   "metadata": {},
   "source": [
    "Normalização dos dados"
   ]
  },
  {
   "cell_type": "code",
   "execution_count": 3944,
   "metadata": {},
   "outputs": [],
   "source": [
    "from sklearn.preprocessing import StandardScaler"
   ]
  },
  {
   "cell_type": "code",
   "execution_count": 3945,
   "metadata": {},
   "outputs": [],
   "source": [
    "dados = pd.concat([train_data, test_data], axis=0)\n",
    "\n",
    "ids = dados['Id'].to_numpy()\n",
    "classes = dados['CLASSE'].to_numpy()"
   ]
  },
  {
   "cell_type": "code",
   "execution_count": 3946,
   "metadata": {},
   "outputs": [],
   "source": [
    "dados = dados.drop(columns=['Id', 'CLASSE'])"
   ]
  },
  {
   "cell_type": "code",
   "execution_count": 3947,
   "metadata": {},
   "outputs": [],
   "source": [
    "scaler = StandardScaler()\n",
    "dados_normalizados = pd.DataFrame(scaler.fit_transform(dados), columns=dados.columns)"
   ]
  },
  {
   "cell_type": "markdown",
   "metadata": {},
   "source": [
    "Com os dados já processados, iremos fazer a redução do número de features, através do  PCA"
   ]
  },
  {
   "cell_type": "code",
   "execution_count": 3948,
   "metadata": {},
   "outputs": [],
   "source": [
    "from sklearn.decomposition import PCA"
   ]
  },
  {
   "cell_type": "code",
   "execution_count": 3949,
   "metadata": {},
   "outputs": [],
   "source": [
    "pca_auto = PCA(n_components=0.90)  \n",
    "dados_pca = pd.DataFrame(pca_auto.fit_transform(dados_normalizados))"
   ]
  },
  {
   "cell_type": "code",
   "execution_count": 3950,
   "metadata": {},
   "outputs": [],
   "source": [
    "n_components_train = dados_pca.shape[1]   \n",
    "dados_pca.columns = [f\"PC{i+1}\" for i in range(n_components_train)]"
   ]
  },
  {
   "cell_type": "code",
   "execution_count": 3951,
   "metadata": {},
   "outputs": [
    {
     "data": {
      "text/html": [
       "<div>\n",
       "<style scoped>\n",
       "    .dataframe tbody tr th:only-of-type {\n",
       "        vertical-align: middle;\n",
       "    }\n",
       "\n",
       "    .dataframe tbody tr th {\n",
       "        vertical-align: top;\n",
       "    }\n",
       "\n",
       "    .dataframe thead th {\n",
       "        text-align: right;\n",
       "    }\n",
       "</style>\n",
       "<table border=\"1\" class=\"dataframe\">\n",
       "  <thead>\n",
       "    <tr style=\"text-align: right;\">\n",
       "      <th></th>\n",
       "      <th>PC1</th>\n",
       "      <th>PC2</th>\n",
       "      <th>PC3</th>\n",
       "      <th>PC4</th>\n",
       "      <th>PC5</th>\n",
       "      <th>PC6</th>\n",
       "      <th>PC7</th>\n",
       "      <th>PC8</th>\n",
       "      <th>PC9</th>\n",
       "      <th>PC10</th>\n",
       "      <th>PC11</th>\n",
       "    </tr>\n",
       "  </thead>\n",
       "  <tbody>\n",
       "    <tr>\n",
       "      <th>0</th>\n",
       "      <td>2.802184</td>\n",
       "      <td>2.592475</td>\n",
       "      <td>0.673837</td>\n",
       "      <td>0.848898</td>\n",
       "      <td>-1.509818</td>\n",
       "      <td>-2.324531</td>\n",
       "      <td>0.903992</td>\n",
       "      <td>-1.406510</td>\n",
       "      <td>-1.007761</td>\n",
       "      <td>-4.589771</td>\n",
       "      <td>2.036665</td>\n",
       "    </tr>\n",
       "    <tr>\n",
       "      <th>1</th>\n",
       "      <td>-1.758720</td>\n",
       "      <td>1.460530</td>\n",
       "      <td>0.344513</td>\n",
       "      <td>-1.119774</td>\n",
       "      <td>-0.124332</td>\n",
       "      <td>-0.674225</td>\n",
       "      <td>-0.368909</td>\n",
       "      <td>0.329324</td>\n",
       "      <td>0.501629</td>\n",
       "      <td>0.391026</td>\n",
       "      <td>-0.161503</td>\n",
       "    </tr>\n",
       "    <tr>\n",
       "      <th>2</th>\n",
       "      <td>3.629887</td>\n",
       "      <td>-0.594950</td>\n",
       "      <td>0.518579</td>\n",
       "      <td>-0.950662</td>\n",
       "      <td>-1.645365</td>\n",
       "      <td>-1.772656</td>\n",
       "      <td>0.682632</td>\n",
       "      <td>-0.902913</td>\n",
       "      <td>-0.755089</td>\n",
       "      <td>-2.760352</td>\n",
       "      <td>-0.463544</td>\n",
       "    </tr>\n",
       "    <tr>\n",
       "      <th>3</th>\n",
       "      <td>0.354028</td>\n",
       "      <td>1.797365</td>\n",
       "      <td>-0.496302</td>\n",
       "      <td>1.056204</td>\n",
       "      <td>0.473604</td>\n",
       "      <td>-1.274032</td>\n",
       "      <td>-0.303344</td>\n",
       "      <td>0.124494</td>\n",
       "      <td>-0.706383</td>\n",
       "      <td>-0.628828</td>\n",
       "      <td>2.076320</td>\n",
       "    </tr>\n",
       "    <tr>\n",
       "      <th>4</th>\n",
       "      <td>-0.786378</td>\n",
       "      <td>-0.960460</td>\n",
       "      <td>0.144679</td>\n",
       "      <td>-0.113723</td>\n",
       "      <td>0.335741</td>\n",
       "      <td>-1.106838</td>\n",
       "      <td>-0.176449</td>\n",
       "      <td>0.341348</td>\n",
       "      <td>-0.695752</td>\n",
       "      <td>0.438927</td>\n",
       "      <td>-0.151398</td>\n",
       "    </tr>\n",
       "    <tr>\n",
       "      <th>...</th>\n",
       "      <td>...</td>\n",
       "      <td>...</td>\n",
       "      <td>...</td>\n",
       "      <td>...</td>\n",
       "      <td>...</td>\n",
       "      <td>...</td>\n",
       "      <td>...</td>\n",
       "      <td>...</td>\n",
       "      <td>...</td>\n",
       "      <td>...</td>\n",
       "      <td>...</td>\n",
       "    </tr>\n",
       "    <tr>\n",
       "      <th>8385</th>\n",
       "      <td>0.529097</td>\n",
       "      <td>-1.820919</td>\n",
       "      <td>0.912814</td>\n",
       "      <td>0.056770</td>\n",
       "      <td>0.765307</td>\n",
       "      <td>-0.127002</td>\n",
       "      <td>-0.505347</td>\n",
       "      <td>-1.006823</td>\n",
       "      <td>-0.069701</td>\n",
       "      <td>0.437068</td>\n",
       "      <td>-0.410219</td>\n",
       "    </tr>\n",
       "    <tr>\n",
       "      <th>8386</th>\n",
       "      <td>-0.464156</td>\n",
       "      <td>1.253865</td>\n",
       "      <td>-1.728358</td>\n",
       "      <td>0.598748</td>\n",
       "      <td>0.525995</td>\n",
       "      <td>1.982478</td>\n",
       "      <td>-0.220665</td>\n",
       "      <td>-0.138790</td>\n",
       "      <td>1.205917</td>\n",
       "      <td>0.538197</td>\n",
       "      <td>1.106544</td>\n",
       "    </tr>\n",
       "    <tr>\n",
       "      <th>8387</th>\n",
       "      <td>2.693867</td>\n",
       "      <td>1.614303</td>\n",
       "      <td>0.561152</td>\n",
       "      <td>0.024279</td>\n",
       "      <td>-0.265356</td>\n",
       "      <td>1.780852</td>\n",
       "      <td>0.312222</td>\n",
       "      <td>-0.626158</td>\n",
       "      <td>1.064194</td>\n",
       "      <td>0.052001</td>\n",
       "      <td>0.939479</td>\n",
       "    </tr>\n",
       "    <tr>\n",
       "      <th>8388</th>\n",
       "      <td>-0.959059</td>\n",
       "      <td>1.732598</td>\n",
       "      <td>3.994024</td>\n",
       "      <td>-0.375858</td>\n",
       "      <td>4.412863</td>\n",
       "      <td>2.250596</td>\n",
       "      <td>-2.270623</td>\n",
       "      <td>6.238521</td>\n",
       "      <td>2.406728</td>\n",
       "      <td>-3.691634</td>\n",
       "      <td>-0.193599</td>\n",
       "    </tr>\n",
       "    <tr>\n",
       "      <th>8389</th>\n",
       "      <td>0.704903</td>\n",
       "      <td>-1.199785</td>\n",
       "      <td>-0.114585</td>\n",
       "      <td>-0.202653</td>\n",
       "      <td>0.762886</td>\n",
       "      <td>-0.065123</td>\n",
       "      <td>-0.646008</td>\n",
       "      <td>-0.927762</td>\n",
       "      <td>-0.063505</td>\n",
       "      <td>-0.674333</td>\n",
       "      <td>-0.036146</td>\n",
       "    </tr>\n",
       "  </tbody>\n",
       "</table>\n",
       "<p>8390 rows × 11 columns</p>\n",
       "</div>"
      ],
      "text/plain": [
       "           PC1       PC2       PC3       PC4       PC5       PC6       PC7  \\\n",
       "0     2.802184  2.592475  0.673837  0.848898 -1.509818 -2.324531  0.903992   \n",
       "1    -1.758720  1.460530  0.344513 -1.119774 -0.124332 -0.674225 -0.368909   \n",
       "2     3.629887 -0.594950  0.518579 -0.950662 -1.645365 -1.772656  0.682632   \n",
       "3     0.354028  1.797365 -0.496302  1.056204  0.473604 -1.274032 -0.303344   \n",
       "4    -0.786378 -0.960460  0.144679 -0.113723  0.335741 -1.106838 -0.176449   \n",
       "...        ...       ...       ...       ...       ...       ...       ...   \n",
       "8385  0.529097 -1.820919  0.912814  0.056770  0.765307 -0.127002 -0.505347   \n",
       "8386 -0.464156  1.253865 -1.728358  0.598748  0.525995  1.982478 -0.220665   \n",
       "8387  2.693867  1.614303  0.561152  0.024279 -0.265356  1.780852  0.312222   \n",
       "8388 -0.959059  1.732598  3.994024 -0.375858  4.412863  2.250596 -2.270623   \n",
       "8389  0.704903 -1.199785 -0.114585 -0.202653  0.762886 -0.065123 -0.646008   \n",
       "\n",
       "           PC8       PC9      PC10      PC11  \n",
       "0    -1.406510 -1.007761 -4.589771  2.036665  \n",
       "1     0.329324  0.501629  0.391026 -0.161503  \n",
       "2    -0.902913 -0.755089 -2.760352 -0.463544  \n",
       "3     0.124494 -0.706383 -0.628828  2.076320  \n",
       "4     0.341348 -0.695752  0.438927 -0.151398  \n",
       "...        ...       ...       ...       ...  \n",
       "8385 -1.006823 -0.069701  0.437068 -0.410219  \n",
       "8386 -0.138790  1.205917  0.538197  1.106544  \n",
       "8387 -0.626158  1.064194  0.052001  0.939479  \n",
       "8388  6.238521  2.406728 -3.691634 -0.193599  \n",
       "8389 -0.927762 -0.063505 -0.674333 -0.036146  \n",
       "\n",
       "[8390 rows x 11 columns]"
      ]
     },
     "execution_count": 3951,
     "metadata": {},
     "output_type": "execute_result"
    }
   ],
   "source": [
    "dados_pca"
   ]
  },
  {
   "cell_type": "markdown",
   "metadata": {},
   "source": [
    "##### Após reduzir o número de features através do PCA,agora iremos criar um novo atributo, com base no clustres em que ele ficaria agrupado após a aplicação do K-means"
   ]
  },
  {
   "cell_type": "code",
   "execution_count": 3952,
   "metadata": {},
   "outputs": [],
   "source": [
    "from sklearn.cluster import KMeans"
   ]
  },
  {
   "cell_type": "code",
   "execution_count": null,
   "metadata": {},
   "outputs": [
    {
     "data": {
      "text/plain": [
       "KMeans(n_clusters=3, random_state=42)"
      ]
     },
     "execution_count": 3953,
     "metadata": {},
     "output_type": "execute_result"
    }
   ],
   "source": [
    "kmeans = KMeans(n_clusters=4, random_state=42)\n",
    "kmeans.fit(dados_pca)"
   ]
  },
  {
   "cell_type": "code",
   "execution_count": 3954,
   "metadata": {},
   "outputs": [],
   "source": [
    "rotulos = kmeans.labels_\n",
    "centroides = kmeans.cluster_centers_\n"
   ]
  },
  {
   "cell_type": "code",
   "execution_count": 3955,
   "metadata": {},
   "outputs": [],
   "source": [
    "dados_pca['CLUSTER'] = rotulos"
   ]
  },
  {
   "cell_type": "code",
   "execution_count": 3956,
   "metadata": {},
   "outputs": [
    {
     "data": {
      "image/png": "[encoded data removed]",
      "text/plain": [
       "<Figure size 432x288 with 1 Axes>"
      ]
     },
     "metadata": {
      "needs_background": "light"
     },
     "output_type": "display_data"
    }
   ],
   "source": [
    "plt.scatter(dados_pca['PC2'], dados_pca['PC1'], c=dados_pca['CLUSTER'], cmap='viridis')\n",
    "plt.scatter(centroides[:, 0], centroides[:, 1], s=200, c='red', marker='X')  # Centróides em vermelho\n",
    "plt.xlabel('PC2')\n",
    "plt.ylabel('PC1')\n",
    "plt.title('K-means Clustering')\n",
    "plt.show()"
   ]
  },
  {
   "cell_type": "code",
   "execution_count": 3957,
   "metadata": {},
   "outputs": [
    {
     "data": {
      "text/html": [
       "<div>\n",
       "<style scoped>\n",
       "    .dataframe tbody tr th:only-of-type {\n",
       "        vertical-align: middle;\n",
       "    }\n",
       "\n",
       "    .dataframe tbody tr th {\n",
       "        vertical-align: top;\n",
       "    }\n",
       "\n",
       "    .dataframe thead th {\n",
       "        text-align: right;\n",
       "    }\n",
       "</style>\n",
       "<table border=\"1\" class=\"dataframe\">\n",
       "  <thead>\n",
       "    <tr style=\"text-align: right;\">\n",
       "      <th></th>\n",
       "      <th>PC1</th>\n",
       "      <th>PC2</th>\n",
       "      <th>PC3</th>\n",
       "      <th>PC4</th>\n",
       "      <th>PC5</th>\n",
       "      <th>PC6</th>\n",
       "      <th>PC7</th>\n",
       "      <th>PC8</th>\n",
       "      <th>PC9</th>\n",
       "      <th>PC10</th>\n",
       "      <th>PC11</th>\n",
       "      <th>CLUSTER</th>\n",
       "    </tr>\n",
       "  </thead>\n",
       "  <tbody>\n",
       "    <tr>\n",
       "      <th>0</th>\n",
       "      <td>2.802184</td>\n",
       "      <td>2.592475</td>\n",
       "      <td>0.673837</td>\n",
       "      <td>0.848898</td>\n",
       "      <td>-1.509818</td>\n",
       "      <td>-2.324531</td>\n",
       "      <td>0.903992</td>\n",
       "      <td>-1.406510</td>\n",
       "      <td>-1.007761</td>\n",
       "      <td>-4.589771</td>\n",
       "      <td>2.036665</td>\n",
       "      <td>1</td>\n",
       "    </tr>\n",
       "    <tr>\n",
       "      <th>1</th>\n",
       "      <td>-1.758720</td>\n",
       "      <td>1.460530</td>\n",
       "      <td>0.344513</td>\n",
       "      <td>-1.119774</td>\n",
       "      <td>-0.124332</td>\n",
       "      <td>-0.674225</td>\n",
       "      <td>-0.368909</td>\n",
       "      <td>0.329324</td>\n",
       "      <td>0.501629</td>\n",
       "      <td>0.391026</td>\n",
       "      <td>-0.161503</td>\n",
       "      <td>2</td>\n",
       "    </tr>\n",
       "    <tr>\n",
       "      <th>2</th>\n",
       "      <td>3.629887</td>\n",
       "      <td>-0.594950</td>\n",
       "      <td>0.518579</td>\n",
       "      <td>-0.950662</td>\n",
       "      <td>-1.645365</td>\n",
       "      <td>-1.772656</td>\n",
       "      <td>0.682632</td>\n",
       "      <td>-0.902913</td>\n",
       "      <td>-0.755089</td>\n",
       "      <td>-2.760352</td>\n",
       "      <td>-0.463544</td>\n",
       "      <td>1</td>\n",
       "    </tr>\n",
       "    <tr>\n",
       "      <th>3</th>\n",
       "      <td>0.354028</td>\n",
       "      <td>1.797365</td>\n",
       "      <td>-0.496302</td>\n",
       "      <td>1.056204</td>\n",
       "      <td>0.473604</td>\n",
       "      <td>-1.274032</td>\n",
       "      <td>-0.303344</td>\n",
       "      <td>0.124494</td>\n",
       "      <td>-0.706383</td>\n",
       "      <td>-0.628828</td>\n",
       "      <td>2.076320</td>\n",
       "      <td>2</td>\n",
       "    </tr>\n",
       "    <tr>\n",
       "      <th>4</th>\n",
       "      <td>-0.786378</td>\n",
       "      <td>-0.960460</td>\n",
       "      <td>0.144679</td>\n",
       "      <td>-0.113723</td>\n",
       "      <td>0.335741</td>\n",
       "      <td>-1.106838</td>\n",
       "      <td>-0.176449</td>\n",
       "      <td>0.341348</td>\n",
       "      <td>-0.695752</td>\n",
       "      <td>0.438927</td>\n",
       "      <td>-0.151398</td>\n",
       "      <td>0</td>\n",
       "    </tr>\n",
       "    <tr>\n",
       "      <th>...</th>\n",
       "      <td>...</td>\n",
       "      <td>...</td>\n",
       "      <td>...</td>\n",
       "      <td>...</td>\n",
       "      <td>...</td>\n",
       "      <td>...</td>\n",
       "      <td>...</td>\n",
       "      <td>...</td>\n",
       "      <td>...</td>\n",
       "      <td>...</td>\n",
       "      <td>...</td>\n",
       "      <td>...</td>\n",
       "    </tr>\n",
       "    <tr>\n",
       "      <th>8385</th>\n",
       "      <td>0.529097</td>\n",
       "      <td>-1.820919</td>\n",
       "      <td>0.912814</td>\n",
       "      <td>0.056770</td>\n",
       "      <td>0.765307</td>\n",
       "      <td>-0.127002</td>\n",
       "      <td>-0.505347</td>\n",
       "      <td>-1.006823</td>\n",
       "      <td>-0.069701</td>\n",
       "      <td>0.437068</td>\n",
       "      <td>-0.410219</td>\n",
       "      <td>0</td>\n",
       "    </tr>\n",
       "    <tr>\n",
       "      <th>8386</th>\n",
       "      <td>-0.464156</td>\n",
       "      <td>1.253865</td>\n",
       "      <td>-1.728358</td>\n",
       "      <td>0.598748</td>\n",
       "      <td>0.525995</td>\n",
       "      <td>1.982478</td>\n",
       "      <td>-0.220665</td>\n",
       "      <td>-0.138790</td>\n",
       "      <td>1.205917</td>\n",
       "      <td>0.538197</td>\n",
       "      <td>1.106544</td>\n",
       "      <td>2</td>\n",
       "    </tr>\n",
       "    <tr>\n",
       "      <th>8387</th>\n",
       "      <td>2.693867</td>\n",
       "      <td>1.614303</td>\n",
       "      <td>0.561152</td>\n",
       "      <td>0.024279</td>\n",
       "      <td>-0.265356</td>\n",
       "      <td>1.780852</td>\n",
       "      <td>0.312222</td>\n",
       "      <td>-0.626158</td>\n",
       "      <td>1.064194</td>\n",
       "      <td>0.052001</td>\n",
       "      <td>0.939479</td>\n",
       "      <td>1</td>\n",
       "    </tr>\n",
       "    <tr>\n",
       "      <th>8388</th>\n",
       "      <td>-0.959059</td>\n",
       "      <td>1.732598</td>\n",
       "      <td>3.994024</td>\n",
       "      <td>-0.375858</td>\n",
       "      <td>4.412863</td>\n",
       "      <td>2.250596</td>\n",
       "      <td>-2.270623</td>\n",
       "      <td>6.238521</td>\n",
       "      <td>2.406728</td>\n",
       "      <td>-3.691634</td>\n",
       "      <td>-0.193599</td>\n",
       "      <td>2</td>\n",
       "    </tr>\n",
       "    <tr>\n",
       "      <th>8389</th>\n",
       "      <td>0.704903</td>\n",
       "      <td>-1.199785</td>\n",
       "      <td>-0.114585</td>\n",
       "      <td>-0.202653</td>\n",
       "      <td>0.762886</td>\n",
       "      <td>-0.065123</td>\n",
       "      <td>-0.646008</td>\n",
       "      <td>-0.927762</td>\n",
       "      <td>-0.063505</td>\n",
       "      <td>-0.674333</td>\n",
       "      <td>-0.036146</td>\n",
       "      <td>0</td>\n",
       "    </tr>\n",
       "  </tbody>\n",
       "</table>\n",
       "<p>8390 rows × 12 columns</p>\n",
       "</div>"
      ],
      "text/plain": [
       "           PC1       PC2       PC3       PC4       PC5       PC6       PC7  \\\n",
       "0     2.802184  2.592475  0.673837  0.848898 -1.509818 -2.324531  0.903992   \n",
       "1    -1.758720  1.460530  0.344513 -1.119774 -0.124332 -0.674225 -0.368909   \n",
       "2     3.629887 -0.594950  0.518579 -0.950662 -1.645365 -1.772656  0.682632   \n",
       "3     0.354028  1.797365 -0.496302  1.056204  0.473604 -1.274032 -0.303344   \n",
       "4    -0.786378 -0.960460  0.144679 -0.113723  0.335741 -1.106838 -0.176449   \n",
       "...        ...       ...       ...       ...       ...       ...       ...   \n",
       "8385  0.529097 -1.820919  0.912814  0.056770  0.765307 -0.127002 -0.505347   \n",
       "8386 -0.464156  1.253865 -1.728358  0.598748  0.525995  1.982478 -0.220665   \n",
       "8387  2.693867  1.614303  0.561152  0.024279 -0.265356  1.780852  0.312222   \n",
       "8388 -0.959059  1.732598  3.994024 -0.375858  4.412863  2.250596 -2.270623   \n",
       "8389  0.704903 -1.199785 -0.114585 -0.202653  0.762886 -0.065123 -0.646008   \n",
       "\n",
       "           PC8       PC9      PC10      PC11  CLUSTER  \n",
       "0    -1.406510 -1.007761 -4.589771  2.036665        1  \n",
       "1     0.329324  0.501629  0.391026 -0.161503        2  \n",
       "2    -0.902913 -0.755089 -2.760352 -0.463544        1  \n",
       "3     0.124494 -0.706383 -0.628828  2.076320        2  \n",
       "4     0.341348 -0.695752  0.438927 -0.151398        0  \n",
       "...        ...       ...       ...       ...      ...  \n",
       "8385 -1.006823 -0.069701  0.437068 -0.410219        0  \n",
       "8386 -0.138790  1.205917  0.538197  1.106544        2  \n",
       "8387 -0.626158  1.064194  0.052001  0.939479        1  \n",
       "8388  6.238521  2.406728 -3.691634 -0.193599        2  \n",
       "8389 -0.927762 -0.063505 -0.674333 -0.036146        0  \n",
       "\n",
       "[8390 rows x 12 columns]"
      ]
     },
     "execution_count": 3957,
     "metadata": {},
     "output_type": "execute_result"
    }
   ],
   "source": [
    "dados_pca"
   ]
  },
  {
   "cell_type": "code",
   "execution_count": 3958,
   "metadata": {},
   "outputs": [],
   "source": [
    "dados_pca['Id'] = ids\n",
    "dados_pca['CLASSE'] = classes"
   ]
  },
  {
   "cell_type": "code",
   "execution_count": 3959,
   "metadata": {},
   "outputs": [
    {
     "data": {
      "image/png": "[encoded data removed]",
      "text/plain": [
       "<Figure size 1080x864 with 2 Axes>"
      ]
     },
     "metadata": {
      "needs_background": "light"
     },
     "output_type": "display_data"
    }
   ],
   "source": [
    "plotar_correlacao(dados_pca)"
   ]
  },
  {
   "cell_type": "code",
   "execution_count": 3960,
   "metadata": {},
   "outputs": [],
   "source": [
    "X_train = pd.DataFrame(train_data['Id'])\n",
    "\n",
    "X_train = dados_pca[dados_pca['Id'].isin(X_train['Id'])]"
   ]
  },
  {
   "cell_type": "code",
   "execution_count": 3961,
   "metadata": {},
   "outputs": [
    {
     "data": {
      "text/html": [
       "<div>\n",
       "<style scoped>\n",
       "    .dataframe tbody tr th:only-of-type {\n",
       "        vertical-align: middle;\n",
       "    }\n",
       "\n",
       "    .dataframe tbody tr th {\n",
       "        vertical-align: top;\n",
       "    }\n",
       "\n",
       "    .dataframe thead th {\n",
       "        text-align: right;\n",
       "    }\n",
       "</style>\n",
       "<table border=\"1\" class=\"dataframe\">\n",
       "  <thead>\n",
       "    <tr style=\"text-align: right;\">\n",
       "      <th></th>\n",
       "      <th>PC1</th>\n",
       "      <th>PC2</th>\n",
       "      <th>PC3</th>\n",
       "      <th>PC4</th>\n",
       "      <th>PC5</th>\n",
       "      <th>PC6</th>\n",
       "      <th>PC7</th>\n",
       "      <th>PC8</th>\n",
       "      <th>PC9</th>\n",
       "      <th>PC10</th>\n",
       "      <th>PC11</th>\n",
       "      <th>CLUSTER</th>\n",
       "      <th>Id</th>\n",
       "      <th>CLASSE</th>\n",
       "    </tr>\n",
       "  </thead>\n",
       "  <tbody>\n",
       "    <tr>\n",
       "      <th>0</th>\n",
       "      <td>2.802184</td>\n",
       "      <td>2.592475</td>\n",
       "      <td>0.673837</td>\n",
       "      <td>0.848898</td>\n",
       "      <td>-1.509818</td>\n",
       "      <td>-2.324531</td>\n",
       "      <td>0.903992</td>\n",
       "      <td>-1.406510</td>\n",
       "      <td>-1.007761</td>\n",
       "      <td>-4.589771</td>\n",
       "      <td>2.036665</td>\n",
       "      <td>1</td>\n",
       "      <td>10524</td>\n",
       "      <td>1.0</td>\n",
       "    </tr>\n",
       "    <tr>\n",
       "      <th>1</th>\n",
       "      <td>-1.758720</td>\n",
       "      <td>1.460530</td>\n",
       "      <td>0.344513</td>\n",
       "      <td>-1.119774</td>\n",
       "      <td>-0.124332</td>\n",
       "      <td>-0.674225</td>\n",
       "      <td>-0.368909</td>\n",
       "      <td>0.329324</td>\n",
       "      <td>0.501629</td>\n",
       "      <td>0.391026</td>\n",
       "      <td>-0.161503</td>\n",
       "      <td>2</td>\n",
       "      <td>4483</td>\n",
       "      <td>0.0</td>\n",
       "    </tr>\n",
       "    <tr>\n",
       "      <th>2</th>\n",
       "      <td>3.629887</td>\n",
       "      <td>-0.594950</td>\n",
       "      <td>0.518579</td>\n",
       "      <td>-0.950662</td>\n",
       "      <td>-1.645365</td>\n",
       "      <td>-1.772656</td>\n",
       "      <td>0.682632</td>\n",
       "      <td>-0.902913</td>\n",
       "      <td>-0.755089</td>\n",
       "      <td>-2.760352</td>\n",
       "      <td>-0.463544</td>\n",
       "      <td>1</td>\n",
       "      <td>15430</td>\n",
       "      <td>1.0</td>\n",
       "    </tr>\n",
       "    <tr>\n",
       "      <th>3</th>\n",
       "      <td>0.354028</td>\n",
       "      <td>1.797365</td>\n",
       "      <td>-0.496302</td>\n",
       "      <td>1.056204</td>\n",
       "      <td>0.473604</td>\n",
       "      <td>-1.274032</td>\n",
       "      <td>-0.303344</td>\n",
       "      <td>0.124494</td>\n",
       "      <td>-0.706383</td>\n",
       "      <td>-0.628828</td>\n",
       "      <td>2.076320</td>\n",
       "      <td>2</td>\n",
       "      <td>14309</td>\n",
       "      <td>1.0</td>\n",
       "    </tr>\n",
       "    <tr>\n",
       "      <th>4</th>\n",
       "      <td>-0.786378</td>\n",
       "      <td>-0.960460</td>\n",
       "      <td>0.144679</td>\n",
       "      <td>-0.113723</td>\n",
       "      <td>0.335741</td>\n",
       "      <td>-1.106838</td>\n",
       "      <td>-0.176449</td>\n",
       "      <td>0.341348</td>\n",
       "      <td>-0.695752</td>\n",
       "      <td>0.438927</td>\n",
       "      <td>-0.151398</td>\n",
       "      <td>0</td>\n",
       "      <td>3437</td>\n",
       "      <td>1.0</td>\n",
       "    </tr>\n",
       "    <tr>\n",
       "      <th>...</th>\n",
       "      <td>...</td>\n",
       "      <td>...</td>\n",
       "      <td>...</td>\n",
       "      <td>...</td>\n",
       "      <td>...</td>\n",
       "      <td>...</td>\n",
       "      <td>...</td>\n",
       "      <td>...</td>\n",
       "      <td>...</td>\n",
       "      <td>...</td>\n",
       "      <td>...</td>\n",
       "      <td>...</td>\n",
       "      <td>...</td>\n",
       "      <td>...</td>\n",
       "    </tr>\n",
       "    <tr>\n",
       "      <th>5239</th>\n",
       "      <td>1.187840</td>\n",
       "      <td>1.645870</td>\n",
       "      <td>-0.906261</td>\n",
       "      <td>-0.179368</td>\n",
       "      <td>-0.101673</td>\n",
       "      <td>-0.546297</td>\n",
       "      <td>-0.828737</td>\n",
       "      <td>1.100946</td>\n",
       "      <td>1.122441</td>\n",
       "      <td>-0.405559</td>\n",
       "      <td>1.552317</td>\n",
       "      <td>1</td>\n",
       "      <td>12739</td>\n",
       "      <td>0.0</td>\n",
       "    </tr>\n",
       "    <tr>\n",
       "      <th>5240</th>\n",
       "      <td>-0.074668</td>\n",
       "      <td>-0.829199</td>\n",
       "      <td>0.095382</td>\n",
       "      <td>0.289964</td>\n",
       "      <td>0.185070</td>\n",
       "      <td>0.510490</td>\n",
       "      <td>0.830329</td>\n",
       "      <td>1.208559</td>\n",
       "      <td>-0.817311</td>\n",
       "      <td>0.390147</td>\n",
       "      <td>-0.263541</td>\n",
       "      <td>0</td>\n",
       "      <td>390</td>\n",
       "      <td>1.0</td>\n",
       "    </tr>\n",
       "    <tr>\n",
       "      <th>5241</th>\n",
       "      <td>-2.149876</td>\n",
       "      <td>1.241291</td>\n",
       "      <td>0.662507</td>\n",
       "      <td>-0.536707</td>\n",
       "      <td>1.067491</td>\n",
       "      <td>-0.930500</td>\n",
       "      <td>-0.300493</td>\n",
       "      <td>0.651650</td>\n",
       "      <td>-1.021346</td>\n",
       "      <td>-0.314858</td>\n",
       "      <td>-0.122800</td>\n",
       "      <td>2</td>\n",
       "      <td>14869</td>\n",
       "      <td>1.0</td>\n",
       "    </tr>\n",
       "    <tr>\n",
       "      <th>5242</th>\n",
       "      <td>0.913842</td>\n",
       "      <td>3.391280</td>\n",
       "      <td>0.648557</td>\n",
       "      <td>5.047624</td>\n",
       "      <td>0.319117</td>\n",
       "      <td>-0.753210</td>\n",
       "      <td>0.270972</td>\n",
       "      <td>1.173324</td>\n",
       "      <td>2.176582</td>\n",
       "      <td>1.766583</td>\n",
       "      <td>-4.032211</td>\n",
       "      <td>1</td>\n",
       "      <td>3249</td>\n",
       "      <td>0.0</td>\n",
       "    </tr>\n",
       "    <tr>\n",
       "      <th>5243</th>\n",
       "      <td>0.372402</td>\n",
       "      <td>0.728916</td>\n",
       "      <td>-1.964980</td>\n",
       "      <td>-1.178801</td>\n",
       "      <td>0.292223</td>\n",
       "      <td>-0.722048</td>\n",
       "      <td>-0.445553</td>\n",
       "      <td>0.027955</td>\n",
       "      <td>-0.844602</td>\n",
       "      <td>-0.053363</td>\n",
       "      <td>-0.214651</td>\n",
       "      <td>2</td>\n",
       "      <td>3207</td>\n",
       "      <td>1.0</td>\n",
       "    </tr>\n",
       "  </tbody>\n",
       "</table>\n",
       "<p>5244 rows × 14 columns</p>\n",
       "</div>"
      ],
      "text/plain": [
       "           PC1       PC2       PC3       PC4       PC5       PC6       PC7  \\\n",
       "0     2.802184  2.592475  0.673837  0.848898 -1.509818 -2.324531  0.903992   \n",
       "1    -1.758720  1.460530  0.344513 -1.119774 -0.124332 -0.674225 -0.368909   \n",
       "2     3.629887 -0.594950  0.518579 -0.950662 -1.645365 -1.772656  0.682632   \n",
       "3     0.354028  1.797365 -0.496302  1.056204  0.473604 -1.274032 -0.303344   \n",
       "4    -0.786378 -0.960460  0.144679 -0.113723  0.335741 -1.106838 -0.176449   \n",
       "...        ...       ...       ...       ...       ...       ...       ...   \n",
       "5239  1.187840  1.645870 -0.906261 -0.179368 -0.101673 -0.546297 -0.828737   \n",
       "5240 -0.074668 -0.829199  0.095382  0.289964  0.185070  0.510490  0.830329   \n",
       "5241 -2.149876  1.241291  0.662507 -0.536707  1.067491 -0.930500 -0.300493   \n",
       "5242  0.913842  3.391280  0.648557  5.047624  0.319117 -0.753210  0.270972   \n",
       "5243  0.372402  0.728916 -1.964980 -1.178801  0.292223 -0.722048 -0.445553   \n",
       "\n",
       "           PC8       PC9      PC10      PC11  CLUSTER     Id  CLASSE  \n",
       "0    -1.406510 -1.007761 -4.589771  2.036665        1  10524     1.0  \n",
       "1     0.329324  0.501629  0.391026 -0.161503        2   4483     0.0  \n",
       "2    -0.902913 -0.755089 -2.760352 -0.463544        1  15430     1.0  \n",
       "3     0.124494 -0.706383 -0.628828  2.076320        2  14309     1.0  \n",
       "4     0.341348 -0.695752  0.438927 -0.151398        0   3437     1.0  \n",
       "...        ...       ...       ...       ...      ...    ...     ...  \n",
       "5239  1.100946  1.122441 -0.405559  1.552317        1  12739     0.0  \n",
       "5240  1.208559 -0.817311  0.390147 -0.263541        0    390     1.0  \n",
       "5241  0.651650 -1.021346 -0.314858 -0.122800        2  14869     1.0  \n",
       "5242  1.173324  2.176582  1.766583 -4.032211        1   3249     0.0  \n",
       "5243  0.027955 -0.844602 -0.053363 -0.214651        2   3207     1.0  \n",
       "\n",
       "[5244 rows x 14 columns]"
      ]
     },
     "execution_count": 3961,
     "metadata": {},
     "output_type": "execute_result"
    }
   ],
   "source": [
    "X_train"
   ]
  },
  {
   "cell_type": "code",
   "execution_count": 3962,
   "metadata": {},
   "outputs": [],
   "source": [
    "X_test = pd.DataFrame(test_data['Id'])\n",
    "\n",
    "X_test = dados_pca[dados_pca['Id'].isin(X_test['Id'])]"
   ]
  },
  {
   "cell_type": "code",
   "execution_count": 3963,
   "metadata": {},
   "outputs": [],
   "source": [
    "y = X_train['CLASSE']\n",
    "X = X_train.drop(columns=['Id', 'CLASSE'])\n",
    "X_t = X_test.drop(columns=['Id', 'CLASSE'])"
   ]
  },
  {
   "cell_type": "markdown",
   "metadata": {},
   "source": [
    "---\n",
    "### Experimento\n",
    "\n",
    "Nesta seção, o experimento deve ser conduzido, utilizando os protocolos experimentais padrões e testando diferentes modelos."
   ]
  },
  {
   "cell_type": "code",
   "execution_count": 3964,
   "metadata": {},
   "outputs": [],
   "source": [
    "from sklearn.model_selection import train_test_split"
   ]
  },
  {
   "cell_type": "code",
   "execution_count": 3965,
   "metadata": {},
   "outputs": [],
   "source": [
    "X_train, X_test, y_train, y_test = train_test_split(X, y, test_size=0.2, random_state=42)"
   ]
  },
  {
   "cell_type": "markdown",
   "metadata": {},
   "source": [
    "Random Forest"
   ]
  },
  {
   "cell_type": "code",
   "execution_count": 3966,
   "metadata": {},
   "outputs": [],
   "source": [
    "from sklearn.ensemble import RandomForestClassifier"
   ]
  },
  {
   "cell_type": "code",
   "execution_count": 3967,
   "metadata": {},
   "outputs": [],
   "source": [
    "modelo_rf = RandomForestClassifier(n_estimators=100, random_state=42)"
   ]
  },
  {
   "cell_type": "code",
   "execution_count": 3968,
   "metadata": {},
   "outputs": [
    {
     "data": {
      "text/plain": [
       "RandomForestClassifier(random_state=42)"
      ]
     },
     "execution_count": 3968,
     "metadata": {},
     "output_type": "execute_result"
    }
   ],
   "source": [
    "modelo_rf.fit(X_train, y_train)"
   ]
  },
  {
   "cell_type": "code",
   "execution_count": 3969,
   "metadata": {},
   "outputs": [],
   "source": [
    "previsoes_rf = modelo_rf.predict(X_test)"
   ]
  },
  {
   "cell_type": "code",
   "execution_count": 3970,
   "metadata": {},
   "outputs": [],
   "source": [
    "from sklearn.metrics import accuracy_score"
   ]
  },
  {
   "cell_type": "code",
   "execution_count": 3971,
   "metadata": {},
   "outputs": [
    {
     "name": "stdout",
     "output_type": "stream",
     "text": [
      "Acurácia do modelo: 93.33%\n"
     ]
    }
   ],
   "source": [
    "acuracia = accuracy_score(y_test, previsoes_rf)\n",
    "\n",
    "# Exibindo a acurácia\n",
    "print(f'Acurácia do modelo: {acuracia * 100:.2f}%')"
   ]
  },
  {
   "cell_type": "markdown",
   "metadata": {},
   "source": [
    "##### Predicao dos testes"
   ]
  },
  {
   "cell_type": "code",
   "execution_count": 3972,
   "metadata": {},
   "outputs": [],
   "source": [
    "model_random_forest = RandomForestClassifier(n_estimators=100, random_state=42)"
   ]
  },
  {
   "cell_type": "code",
   "execution_count": 3973,
   "metadata": {},
   "outputs": [
    {
     "data": {
      "text/plain": [
       "RandomForestClassifier(random_state=42)"
      ]
     },
     "execution_count": 3973,
     "metadata": {},
     "output_type": "execute_result"
    }
   ],
   "source": [
    "model_random_forest.fit(X,y)"
   ]
  },
  {
   "cell_type": "code",
   "execution_count": 3974,
   "metadata": {},
   "outputs": [],
   "source": [
    "predicao_random_forest = model_random_forest.predict_proba(X_t)"
   ]
  },
  {
   "cell_type": "markdown",
   "metadata": {},
   "source": [
    "Regressao logistica"
   ]
  },
  {
   "cell_type": "code",
   "execution_count": 3975,
   "metadata": {},
   "outputs": [],
   "source": [
    "from sklearn.linear_model import LogisticRegression"
   ]
  },
  {
   "cell_type": "code",
   "execution_count": 3976,
   "metadata": {},
   "outputs": [],
   "source": [
    "modelo_logistico = LogisticRegression()"
   ]
  },
  {
   "cell_type": "code",
   "execution_count": 3977,
   "metadata": {},
   "outputs": [
    {
     "data": {
      "text/plain": [
       "LogisticRegression()"
      ]
     },
     "execution_count": 3977,
     "metadata": {},
     "output_type": "execute_result"
    }
   ],
   "source": [
    "modelo_logistico.fit(X_train, y_train)"
   ]
  },
  {
   "cell_type": "code",
   "execution_count": 3978,
   "metadata": {},
   "outputs": [],
   "source": [
    "previsoes_rl = modelo_logistico.predict(X_test)"
   ]
  },
  {
   "cell_type": "code",
   "execution_count": 3979,
   "metadata": {},
   "outputs": [
    {
     "name": "stdout",
     "output_type": "stream",
     "text": [
      "Acurácia do modelo: 93.52%\n"
     ]
    }
   ],
   "source": [
    "acuracia = accuracy_score(y_test, previsoes_rl)\n",
    "print(f'Acurácia do modelo: {acuracia * 100:.2f}%')"
   ]
  },
  {
   "cell_type": "markdown",
   "metadata": {},
   "source": [
    "##### Predição dos testes"
   ]
  },
  {
   "cell_type": "code",
   "execution_count": 3980,
   "metadata": {},
   "outputs": [],
   "source": [
    "model_regressao_logistica = LogisticRegression()"
   ]
  },
  {
   "cell_type": "code",
   "execution_count": 3981,
   "metadata": {},
   "outputs": [
    {
     "data": {
      "text/plain": [
       "LogisticRegression()"
      ]
     },
     "execution_count": 3981,
     "metadata": {},
     "output_type": "execute_result"
    }
   ],
   "source": [
    "model_regressao_logistica.fit(X,y)"
   ]
  },
  {
   "cell_type": "code",
   "execution_count": 3982,
   "metadata": {},
   "outputs": [],
   "source": [
    "predicao_regressao_logistica = model_regressao_logistica.predict_proba(X_t)"
   ]
  },
  {
   "cell_type": "markdown",
   "metadata": {},
   "source": [
    "RNA"
   ]
  },
  {
   "cell_type": "code",
   "execution_count": 3983,
   "metadata": {},
   "outputs": [],
   "source": [
    "from sklearn.neural_network import MLPClassifier"
   ]
  },
  {
   "cell_type": "code",
   "execution_count": 3984,
   "metadata": {},
   "outputs": [],
   "source": [
    "modelo_rn  = MLPClassifier(hidden_layer_sizes=(8,), max_iter=1000, random_state=42)"
   ]
  },
  {
   "cell_type": "code",
   "execution_count": 3985,
   "metadata": {},
   "outputs": [
    {
     "data": {
      "text/plain": [
       "MLPClassifier(hidden_layer_sizes=(8,), max_iter=1000, random_state=42)"
      ]
     },
     "execution_count": 3985,
     "metadata": {},
     "output_type": "execute_result"
    }
   ],
   "source": [
    "modelo_rn.fit(X_train, y_train)"
   ]
  },
  {
   "cell_type": "code",
   "execution_count": 3986,
   "metadata": {},
   "outputs": [],
   "source": [
    "previsoes_rn = modelo_rn.predict(X_test)"
   ]
  },
  {
   "cell_type": "code",
   "execution_count": 3987,
   "metadata": {},
   "outputs": [
    {
     "name": "stdout",
     "output_type": "stream",
     "text": [
      "Acurácia do modelo: 93.61%\n"
     ]
    }
   ],
   "source": [
    "acuracia = accuracy_score(y_test, previsoes_rn)\n",
    "\n",
    "print(f'Acurácia do modelo: {acuracia * 100:.2f}%')"
   ]
  },
  {
   "cell_type": "code",
   "execution_count": 3988,
   "metadata": {},
   "outputs": [],
   "source": [
    "modelo_redes_neurais  = MLPClassifier(hidden_layer_sizes=(8,), max_iter=1000, random_state=42)"
   ]
  },
  {
   "cell_type": "code",
   "execution_count": 3989,
   "metadata": {},
   "outputs": [
    {
     "data": {
      "text/plain": [
       "MLPClassifier(hidden_layer_sizes=(8,), max_iter=1000, random_state=42)"
      ]
     },
     "execution_count": 3989,
     "metadata": {},
     "output_type": "execute_result"
    }
   ],
   "source": [
    "modelo_redes_neurais.fit(X,y)"
   ]
  },
  {
   "cell_type": "code",
   "execution_count": 3990,
   "metadata": {},
   "outputs": [],
   "source": [
    "predicao_redes_neurais = modelo_redes_neurais.predict_proba(X_t)"
   ]
  },
  {
   "cell_type": "markdown",
   "metadata": {},
   "source": [
    "Aplicaçao do ensemble"
   ]
  },
  {
   "cell_type": "code",
   "execution_count": 3991,
   "metadata": {},
   "outputs": [],
   "source": [
    "previsao_ensemble = []\n",
    "\n",
    "for i in range(len(predicao_redes_neurais[:, 0])):\n",
    "    valor_redes_neurais = predicao_redes_neurais[i, 0]\n",
    "    valor_random_forest = predicao_random_forest[i, 0]\n",
    "    valor_regressao_logistica = predicao_regressao_logistica[i, 0]\n",
    "    \n",
    "    valores = [valor_redes_neurais, valor_regressao_logistica, valor_regressao_logistica]\n",
    "    max_valor = max(valores)\n",
    "    min_valor = min(valores)\n",
    "    \n",
    "    count_class_0 = 0\n",
    "    count_class_1 = 1\n",
    "    \n",
    "    if(valor_redes_neurais > 0.5):\n",
    "        count_class_0 += 1\n",
    "    else:\n",
    "        count_class_1 += 1\n",
    "        \n",
    "    if(valor_random_forest > 0.5):\n",
    "        count_class_0 += 1\n",
    "    else:\n",
    "        count_class_1 += 1\n",
    "        \n",
    "    if(valor_regressao_logistica > 0.5):\n",
    "        count_class_0 += 1\n",
    "    else:\n",
    "        count_class_1 += 1\n",
    "        \n",
    "    if(count_class_0 > count_class_1):\n",
    "        previsao_ensemble.append(max_valor)\n",
    "    else:\n",
    "        previsao_ensemble.append(min_valor)\n",
    "     "
   ]
  },
  {
   "cell_type": "code",
   "execution_count": 3992,
   "metadata": {},
   "outputs": [],
   "source": [
    "resultado_ensemble = pd.DataFrame(test_data['Id'], columns=['Id'])\n",
    "resultado_ensemble['Predicted'] = previsao_ensemble"
   ]
  },
  {
   "cell_type": "code",
   "execution_count": 3993,
   "metadata": {},
   "outputs": [],
   "source": [
    "resultado_ensemble.to_csv('./ensemble/previsao_ensemble.csv', index=False)"
   ]
  },
  {
   "cell_type": "code",
   "execution_count": 3994,
   "metadata": {},
   "outputs": [
    {
     "ename": "ValueError",
     "evalue": "Found input variables with inconsistent numbers of samples: [1049, 3146]",
     "output_type": "error",
     "traceback": [
      "\u001b[0;31m---------------------------------------------------------------------------\u001b[0m",
      "\u001b[0;31mValueError\u001b[0m                                Traceback (most recent call last)",
      "Input \u001b[0;32mIn [3994]\u001b[0m, in \u001b[0;36m<cell line: 1>\u001b[0;34m()\u001b[0m\n\u001b[0;32m----> 1\u001b[0m acuracia \u001b[38;5;241m=\u001b[39m \u001b[43maccuracy_score\u001b[49m\u001b[43m(\u001b[49m\u001b[43my_test\u001b[49m\u001b[43m,\u001b[49m\u001b[43m \u001b[49m\u001b[43mprevisao_ensemble\u001b[49m\u001b[43m)\u001b[49m\n\u001b[1;32m      3\u001b[0m \u001b[38;5;28mprint\u001b[39m(\u001b[38;5;124mf\u001b[39m\u001b[38;5;124m'\u001b[39m\u001b[38;5;124mAcurácia do modelo: \u001b[39m\u001b[38;5;132;01m{\u001b[39;00macuracia \u001b[38;5;241m*\u001b[39m \u001b[38;5;241m100\u001b[39m\u001b[38;5;132;01m:\u001b[39;00m\u001b[38;5;124m.2f\u001b[39m\u001b[38;5;132;01m}\u001b[39;00m\u001b[38;5;124m%\u001b[39m\u001b[38;5;124m'\u001b[39m)\n",
      "File \u001b[0;32m~/anaconda3/lib/python3.9/site-packages/sklearn/metrics/_classification.py:211\u001b[0m, in \u001b[0;36maccuracy_score\u001b[0;34m(y_true, y_pred, normalize, sample_weight)\u001b[0m\n\u001b[1;32m    145\u001b[0m \u001b[38;5;124;03m\"\"\"Accuracy classification score.\u001b[39;00m\n\u001b[1;32m    146\u001b[0m \n\u001b[1;32m    147\u001b[0m \u001b[38;5;124;03mIn multilabel classification, this function computes subset accuracy:\u001b[39;00m\n\u001b[0;32m   (...)\u001b[0m\n\u001b[1;32m    207\u001b[0m \u001b[38;5;124;03m0.5\u001b[39;00m\n\u001b[1;32m    208\u001b[0m \u001b[38;5;124;03m\"\"\"\u001b[39;00m\n\u001b[1;32m    210\u001b[0m \u001b[38;5;66;03m# Compute accuracy for each possible representation\u001b[39;00m\n\u001b[0;32m--> 211\u001b[0m y_type, y_true, y_pred \u001b[38;5;241m=\u001b[39m \u001b[43m_check_targets\u001b[49m\u001b[43m(\u001b[49m\u001b[43my_true\u001b[49m\u001b[43m,\u001b[49m\u001b[43m \u001b[49m\u001b[43my_pred\u001b[49m\u001b[43m)\u001b[49m\n\u001b[1;32m    212\u001b[0m check_consistent_length(y_true, y_pred, sample_weight)\n\u001b[1;32m    213\u001b[0m \u001b[38;5;28;01mif\u001b[39;00m y_type\u001b[38;5;241m.\u001b[39mstartswith(\u001b[38;5;124m\"\u001b[39m\u001b[38;5;124mmultilabel\u001b[39m\u001b[38;5;124m\"\u001b[39m):\n",
      "File \u001b[0;32m~/anaconda3/lib/python3.9/site-packages/sklearn/metrics/_classification.py:84\u001b[0m, in \u001b[0;36m_check_targets\u001b[0;34m(y_true, y_pred)\u001b[0m\n\u001b[1;32m     57\u001b[0m \u001b[38;5;28;01mdef\u001b[39;00m \u001b[38;5;21m_check_targets\u001b[39m(y_true, y_pred):\n\u001b[1;32m     58\u001b[0m     \u001b[38;5;124;03m\"\"\"Check that y_true and y_pred belong to the same classification task.\u001b[39;00m\n\u001b[1;32m     59\u001b[0m \n\u001b[1;32m     60\u001b[0m \u001b[38;5;124;03m    This converts multiclass or binary types to a common shape, and raises a\u001b[39;00m\n\u001b[0;32m   (...)\u001b[0m\n\u001b[1;32m     82\u001b[0m \u001b[38;5;124;03m    y_pred : array or indicator matrix\u001b[39;00m\n\u001b[1;32m     83\u001b[0m \u001b[38;5;124;03m    \"\"\"\u001b[39;00m\n\u001b[0;32m---> 84\u001b[0m     \u001b[43mcheck_consistent_length\u001b[49m\u001b[43m(\u001b[49m\u001b[43my_true\u001b[49m\u001b[43m,\u001b[49m\u001b[43m \u001b[49m\u001b[43my_pred\u001b[49m\u001b[43m)\u001b[49m\n\u001b[1;32m     85\u001b[0m     type_true \u001b[38;5;241m=\u001b[39m type_of_target(y_true)\n\u001b[1;32m     86\u001b[0m     type_pred \u001b[38;5;241m=\u001b[39m type_of_target(y_pred)\n",
      "File \u001b[0;32m~/anaconda3/lib/python3.9/site-packages/sklearn/utils/validation.py:332\u001b[0m, in \u001b[0;36mcheck_consistent_length\u001b[0;34m(*arrays)\u001b[0m\n\u001b[1;32m    330\u001b[0m uniques \u001b[38;5;241m=\u001b[39m np\u001b[38;5;241m.\u001b[39munique(lengths)\n\u001b[1;32m    331\u001b[0m \u001b[38;5;28;01mif\u001b[39;00m \u001b[38;5;28mlen\u001b[39m(uniques) \u001b[38;5;241m>\u001b[39m \u001b[38;5;241m1\u001b[39m:\n\u001b[0;32m--> 332\u001b[0m     \u001b[38;5;28;01mraise\u001b[39;00m \u001b[38;5;167;01mValueError\u001b[39;00m(\n\u001b[1;32m    333\u001b[0m         \u001b[38;5;124m\"\u001b[39m\u001b[38;5;124mFound input variables with inconsistent numbers of samples: \u001b[39m\u001b[38;5;132;01m%r\u001b[39;00m\u001b[38;5;124m\"\u001b[39m\n\u001b[1;32m    334\u001b[0m         \u001b[38;5;241m%\u001b[39m [\u001b[38;5;28mint\u001b[39m(l) \u001b[38;5;28;01mfor\u001b[39;00m l \u001b[38;5;129;01min\u001b[39;00m lengths]\n\u001b[1;32m    335\u001b[0m     )\n",
      "\u001b[0;31mValueError\u001b[0m: Found input variables with inconsistent numbers of samples: [1049, 3146]"
     ]
    }
   ],
   "source": [
    "acuracia = accuracy_score(y_test, previsao_ensemble)\n",
    "\n",
    "print(f'Acurácia do modelo: {acuracia * 100:.2f}%')"
   ]
  },
  {
   "cell_type": "markdown",
   "metadata": {},
   "source": [
    "---\n",
    "### Análise dos Resultados\n",
    "\n",
    "Nesta seção, os resultados devem ser exibidos através de tabelas e gráficos, comparados e profundamente analisados."
   ]
  },
  {
   "cell_type": "code",
   "execution_count": null,
   "metadata": {},
   "outputs": [],
   "source": [
    "dados_errados = X_test[previsoes_rf != y_test]"
   ]
  },
  {
   "cell_type": "code",
   "execution_count": null,
   "metadata": {},
   "outputs": [
    {
     "name": "stderr",
     "output_type": "stream",
     "text": [
      "/home/guilherme/anaconda3/lib/python3.9/site-packages/seaborn/categorical.py:82: FutureWarning: iteritems is deprecated and will be removed in a future version. Use .items instead.\n",
      "  plot_data = [np.asarray(s, float) for k, s in iter_data]\n"
     ]
    },
    {
     "data": {
      "image/png": "[encoded data removed]",
      "text/plain": [
       "<Figure size 864x864 with 1 Axes>"
      ]
     },
     "metadata": {
      "needs_background": "light"
     },
     "output_type": "display_data"
    }
   ],
   "source": [
    "plt.figure(figsize=(12,12))\n",
    "sns.boxplot(data=dados_errados)  # 'dados' é o DataFrame com seus 12 atributos\n",
    "plt.xticks(rotation=90)  # Gira os rótulos das colunas para facilitar a leitura\n",
    "plt.show()"
   ]
  }
 ],
 "metadata": {
  "kernelspec": {
   "display_name": "base",
   "language": "python",
   "name": "python3"
  },
  "language_info": {
   "codemirror_mode": {
    "name": "ipython",
    "version": 3
   },
   "file_extension": ".py",
   "mimetype": "text/x-python",
   "name": "python",
   "nbconvert_exporter": "python",
   "pygments_lexer": "ipython3",
   "version": "3.9.12"
  }
 },
 "nbformat": 4,
 "nbformat_minor": 4
}
