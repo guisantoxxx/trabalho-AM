{
 "cells": [
  {
   "cell_type": "markdown",
   "metadata": {},
   "source": [
    "# <center> <img src=\"figs/LogoUFSCar.jpg\" alt=\"Logo UFScar\" width=\"110\" align=\"left\"/>  <br/> <center>Universidade Federal de São Carlos (UFSCar)<br/><font size=\"4\"> Departamento de Computação, campus Sorocaba</center></font>\n",
    "</p>\n",
    "\n",
    "<font size=\"4\"><center><b>Disciplina: Aprendizado de Máquina</b></center></font>\n",
    "  \n",
    "<font size=\"3\"><center>Prof. Dr. Tiago A. Almeida</center></font>\n",
    "\n",
    "## <center>Projeto Final</center>\n",
    "\n",
    "**Nome**:\n",
    "\n",
    "**RA**: \n"
   ]
  },
  {
   "cell_type": "markdown",
   "metadata": {},
   "source": [
    "---\n",
    "### Análise exploratória\n",
    "\n",
    "Nesta seção, deve ser feita a leitura da base de dados e todas as análises necessárias para interpretar e analisar os dados, tais como:\n",
    "* Significado de cada atributo\n",
    "* Medidas descritivas\n",
    "* Gráficos"
   ]
  },
  {
   "cell_type": "code",
   "execution_count": 1,
   "metadata": {},
   "outputs": [],
   "source": [
    "import pandas as pd\n",
    "import numpy as np\n",
    "import matplotlib.pyplot as plt\n",
    "import seaborn as sns\n",
    "import numpy as np\n",
    "from scripts.analise_exploratoria import *\n",
    "from scripts.preprocessamento import *"
   ]
  },
  {
   "cell_type": "code",
   "execution_count": 2,
   "metadata": {},
   "outputs": [],
   "source": [
    "# mostrar todas as colunas\n",
    "pd.set_option(\"display.max_columns\", None)"
   ]
  },
  {
   "cell_type": "markdown",
   "metadata": {},
   "source": [
    "#### No bloco abaixo, estou carregando o conjunto de dados de treino e o juntando com suas respectivas classificações, afim de usa-los para treinar o modelo."
   ]
  },
  {
   "cell_type": "code",
   "execution_count": 3,
   "metadata": {},
   "outputs": [
    {
     "data": {
      "text/html": [
       "<div>\n",
       "<style scoped>\n",
       "    .dataframe tbody tr th:only-of-type {\n",
       "        vertical-align: middle;\n",
       "    }\n",
       "\n",
       "    .dataframe tbody tr th {\n",
       "        vertical-align: top;\n",
       "    }\n",
       "\n",
       "    .dataframe thead th {\n",
       "        text-align: right;\n",
       "    }\n",
       "</style>\n",
       "<table border=\"1\" class=\"dataframe\">\n",
       "  <thead>\n",
       "    <tr style=\"text-align: right;\">\n",
       "      <th></th>\n",
       "      <th>Id</th>\n",
       "      <th>Peso</th>\n",
       "      <th>Altura</th>\n",
       "      <th>IMC</th>\n",
       "      <th>Atendimento</th>\n",
       "      <th>DN</th>\n",
       "      <th>IDADE</th>\n",
       "      <th>Convenio</th>\n",
       "      <th>PULSOS</th>\n",
       "      <th>PA SISTOLICA</th>\n",
       "      <th>PA DIASTOLICA</th>\n",
       "      <th>PPA</th>\n",
       "      <th>B2</th>\n",
       "      <th>SOPRO</th>\n",
       "      <th>FC</th>\n",
       "      <th>HDA 1</th>\n",
       "      <th>HDA2</th>\n",
       "      <th>SEXO</th>\n",
       "      <th>MOTIVO1</th>\n",
       "      <th>MOTIVO2</th>\n",
       "      <th>CLASSE</th>\n",
       "    </tr>\n",
       "  </thead>\n",
       "  <tbody>\n",
       "    <tr>\n",
       "      <th>0</th>\n",
       "      <td>10524</td>\n",
       "      <td>28.0</td>\n",
       "      <td>123</td>\n",
       "      <td>19.0</td>\n",
       "      <td>11/07/05</td>\n",
       "      <td>13/12/99</td>\n",
       "      <td>5.79</td>\n",
       "      <td>SB</td>\n",
       "      <td>Normais</td>\n",
       "      <td>110.0</td>\n",
       "      <td>80.0</td>\n",
       "      <td>HAS-1 PAD</td>\n",
       "      <td>Normal</td>\n",
       "      <td>ausente</td>\n",
       "      <td>100</td>\n",
       "      <td>Palpitacao</td>\n",
       "      <td>NaN</td>\n",
       "      <td>M</td>\n",
       "      <td>6 - Suspeita de cardiopatia</td>\n",
       "      <td>6 - Palpitação/taquicardia/arritmia</td>\n",
       "      <td>Normal</td>\n",
       "    </tr>\n",
       "    <tr>\n",
       "      <th>1</th>\n",
       "      <td>17249</td>\n",
       "      <td>32.0</td>\n",
       "      <td>0</td>\n",
       "      <td>NaN</td>\n",
       "      <td>12/02/04</td>\n",
       "      <td>10/06/92</td>\n",
       "      <td>12.11</td>\n",
       "      <td>GS</td>\n",
       "      <td>Normais</td>\n",
       "      <td>100.0</td>\n",
       "      <td>60.0</td>\n",
       "      <td>Não Calculado</td>\n",
       "      <td>Normal</td>\n",
       "      <td>Sistólico</td>\n",
       "      <td>100</td>\n",
       "      <td>Assintomático</td>\n",
       "      <td>NaN</td>\n",
       "      <td>Masculino</td>\n",
       "      <td>5 - Parecer cardiológico</td>\n",
       "      <td>NaN</td>\n",
       "      <td>Anormal</td>\n",
       "    </tr>\n",
       "    <tr>\n",
       "      <th>2</th>\n",
       "      <td>4483</td>\n",
       "      <td>13.0</td>\n",
       "      <td>87</td>\n",
       "      <td>17.0</td>\n",
       "      <td>22/12/03</td>\n",
       "      <td>05/11/01</td>\n",
       "      <td>2.21</td>\n",
       "      <td>SulAmerica</td>\n",
       "      <td>Normais</td>\n",
       "      <td>NaN</td>\n",
       "      <td>NaN</td>\n",
       "      <td>Não Calculado</td>\n",
       "      <td>Normal</td>\n",
       "      <td>Sistólico</td>\n",
       "      <td>100</td>\n",
       "      <td>Assintomático</td>\n",
       "      <td>NaN</td>\n",
       "      <td>M</td>\n",
       "      <td>6 - Suspeita de cardiopatia</td>\n",
       "      <td>6 - Sopro</td>\n",
       "      <td>Anormal</td>\n",
       "    </tr>\n",
       "    <tr>\n",
       "      <th>3</th>\n",
       "      <td>6830</td>\n",
       "      <td>11.0</td>\n",
       "      <td>0</td>\n",
       "      <td>NaN</td>\n",
       "      <td>11/12/06</td>\n",
       "      <td>26/05/05</td>\n",
       "      <td>1.6</td>\n",
       "      <td>SA</td>\n",
       "      <td>Normais</td>\n",
       "      <td>NaN</td>\n",
       "      <td>NaN</td>\n",
       "      <td>Não Calculado</td>\n",
       "      <td>Normal</td>\n",
       "      <td>ausente</td>\n",
       "      <td>100</td>\n",
       "      <td>NaN</td>\n",
       "      <td>NaN</td>\n",
       "      <td>F</td>\n",
       "      <td>1 - Cardiopatia já estabelecida</td>\n",
       "      <td>1 - Cardiopatia congenica</td>\n",
       "      <td>Normal</td>\n",
       "    </tr>\n",
       "    <tr>\n",
       "      <th>4</th>\n",
       "      <td>11652</td>\n",
       "      <td>42.4</td>\n",
       "      <td>136</td>\n",
       "      <td>23.0</td>\n",
       "      <td>23/03/01</td>\n",
       "      <td>03/03/01</td>\n",
       "      <td>0.06</td>\n",
       "      <td>NaN</td>\n",
       "      <td>Normais</td>\n",
       "      <td>100.0</td>\n",
       "      <td>60.0</td>\n",
       "      <td>Não Calculado</td>\n",
       "      <td>Normal</td>\n",
       "      <td>ausente</td>\n",
       "      <td>78</td>\n",
       "      <td>Assintomático</td>\n",
       "      <td>NaN</td>\n",
       "      <td>F</td>\n",
       "      <td>5 - Parecer cardiológico</td>\n",
       "      <td>NaN</td>\n",
       "      <td>Normal</td>\n",
       "    </tr>\n",
       "    <tr>\n",
       "      <th>...</th>\n",
       "      <td>...</td>\n",
       "      <td>...</td>\n",
       "      <td>...</td>\n",
       "      <td>...</td>\n",
       "      <td>...</td>\n",
       "      <td>...</td>\n",
       "      <td>...</td>\n",
       "      <td>...</td>\n",
       "      <td>...</td>\n",
       "      <td>...</td>\n",
       "      <td>...</td>\n",
       "      <td>...</td>\n",
       "      <td>...</td>\n",
       "      <td>...</td>\n",
       "      <td>...</td>\n",
       "      <td>...</td>\n",
       "      <td>...</td>\n",
       "      <td>...</td>\n",
       "      <td>...</td>\n",
       "      <td>...</td>\n",
       "      <td>...</td>\n",
       "    </tr>\n",
       "    <tr>\n",
       "      <th>14722</th>\n",
       "      <td>16822</td>\n",
       "      <td>0.0</td>\n",
       "      <td>0</td>\n",
       "      <td>NaN</td>\n",
       "      <td>NaN</td>\n",
       "      <td>NaN</td>\n",
       "      <td>NaN</td>\n",
       "      <td>NaN</td>\n",
       "      <td>NaN</td>\n",
       "      <td>NaN</td>\n",
       "      <td>NaN</td>\n",
       "      <td>#VALUE!</td>\n",
       "      <td>NaN</td>\n",
       "      <td>NaN</td>\n",
       "      <td>NaN</td>\n",
       "      <td>NaN</td>\n",
       "      <td>NaN</td>\n",
       "      <td>Indeterminado</td>\n",
       "      <td>NaN</td>\n",
       "      <td>NaN</td>\n",
       "      <td>NaN</td>\n",
       "    </tr>\n",
       "    <tr>\n",
       "      <th>14723</th>\n",
       "      <td>3249</td>\n",
       "      <td>30.0</td>\n",
       "      <td>113</td>\n",
       "      <td>23.0</td>\n",
       "      <td>17/05/06</td>\n",
       "      <td>01/08/01</td>\n",
       "      <td>4.97</td>\n",
       "      <td>Medial</td>\n",
       "      <td>Normais</td>\n",
       "      <td>105.0</td>\n",
       "      <td>70.0</td>\n",
       "      <td>Pre-Hipertensão PAD</td>\n",
       "      <td>Normal</td>\n",
       "      <td>sistólico</td>\n",
       "      <td>92</td>\n",
       "      <td>Dispneia</td>\n",
       "      <td>Palpitacao</td>\n",
       "      <td>F</td>\n",
       "      <td>6 - Suspeita de cardiopatia</td>\n",
       "      <td>6 - Dispnéia</td>\n",
       "      <td>Anormal</td>\n",
       "    </tr>\n",
       "    <tr>\n",
       "      <th>14724</th>\n",
       "      <td>3207</td>\n",
       "      <td>25.8</td>\n",
       "      <td>130</td>\n",
       "      <td>15.0</td>\n",
       "      <td>03/12/09</td>\n",
       "      <td>07/07/02</td>\n",
       "      <td>7.69</td>\n",
       "      <td>CAMED</td>\n",
       "      <td>Normais</td>\n",
       "      <td>90.0</td>\n",
       "      <td>55.0</td>\n",
       "      <td>Normal</td>\n",
       "      <td>Normal</td>\n",
       "      <td>ausente</td>\n",
       "      <td>78</td>\n",
       "      <td>Assintomático</td>\n",
       "      <td>NaN</td>\n",
       "      <td>M</td>\n",
       "      <td>6 - Suspeita de cardiopatia</td>\n",
       "      <td>6 - Sopro</td>\n",
       "      <td>Normal</td>\n",
       "    </tr>\n",
       "    <tr>\n",
       "      <th>14725</th>\n",
       "      <td>4336</td>\n",
       "      <td>19.0</td>\n",
       "      <td>0</td>\n",
       "      <td>NaN</td>\n",
       "      <td>12/06/08</td>\n",
       "      <td>03/05/05</td>\n",
       "      <td>3.23</td>\n",
       "      <td>NaN</td>\n",
       "      <td>Normais</td>\n",
       "      <td>100.0</td>\n",
       "      <td>50.0</td>\n",
       "      <td>Não Calculado</td>\n",
       "      <td>Normal</td>\n",
       "      <td>ausente</td>\n",
       "      <td>100</td>\n",
       "      <td>Assintomático</td>\n",
       "      <td>NaN</td>\n",
       "      <td>M</td>\n",
       "      <td>5 - Parecer cardiológico</td>\n",
       "      <td>NaN</td>\n",
       "      <td>Normal</td>\n",
       "    </tr>\n",
       "    <tr>\n",
       "      <th>14726</th>\n",
       "      <td>9470</td>\n",
       "      <td>13.0</td>\n",
       "      <td>89</td>\n",
       "      <td>16.0</td>\n",
       "      <td>04/02/09</td>\n",
       "      <td>28/03/06</td>\n",
       "      <td>2.97</td>\n",
       "      <td>CAMED</td>\n",
       "      <td>Normais</td>\n",
       "      <td>NaN</td>\n",
       "      <td>NaN</td>\n",
       "      <td>Não Calculado</td>\n",
       "      <td>Normal</td>\n",
       "      <td>ausente</td>\n",
       "      <td>96</td>\n",
       "      <td>Assintomático</td>\n",
       "      <td>NaN</td>\n",
       "      <td>F</td>\n",
       "      <td>5 - Parecer cardiológico</td>\n",
       "      <td>NaN</td>\n",
       "      <td>Normal</td>\n",
       "    </tr>\n",
       "  </tbody>\n",
       "</table>\n",
       "<p>14727 rows × 21 columns</p>\n",
       "</div>"
      ],
      "text/plain": [
       "          Id  Peso  Altura   IMC Atendimento        DN  IDADE    Convenio  \\\n",
       "0      10524  28.0     123  19.0    11/07/05  13/12/99   5.79          SB   \n",
       "1      17249  32.0       0   NaN    12/02/04  10/06/92  12.11          GS   \n",
       "2       4483  13.0      87  17.0    22/12/03  05/11/01   2.21  SulAmerica   \n",
       "3       6830  11.0       0   NaN    11/12/06  26/05/05    1.6          SA   \n",
       "4      11652  42.4     136  23.0    23/03/01  03/03/01   0.06         NaN   \n",
       "...      ...   ...     ...   ...         ...       ...    ...         ...   \n",
       "14722  16822   0.0       0   NaN         NaN       NaN    NaN         NaN   \n",
       "14723   3249  30.0     113  23.0    17/05/06  01/08/01   4.97      Medial   \n",
       "14724   3207  25.8     130  15.0    03/12/09  07/07/02   7.69       CAMED   \n",
       "14725   4336  19.0       0   NaN    12/06/08  03/05/05   3.23         NaN   \n",
       "14726   9470  13.0      89  16.0    04/02/09  28/03/06   2.97       CAMED   \n",
       "\n",
       "        PULSOS  PA SISTOLICA  PA DIASTOLICA                  PPA      B2  \\\n",
       "0      Normais         110.0           80.0            HAS-1 PAD  Normal   \n",
       "1      Normais         100.0           60.0        Não Calculado  Normal   \n",
       "2      Normais           NaN            NaN        Não Calculado  Normal   \n",
       "3      Normais           NaN            NaN        Não Calculado  Normal   \n",
       "4      Normais         100.0           60.0        Não Calculado  Normal   \n",
       "...        ...           ...            ...                  ...     ...   \n",
       "14722      NaN           NaN            NaN              #VALUE!     NaN   \n",
       "14723  Normais         105.0           70.0  Pre-Hipertensão PAD  Normal   \n",
       "14724  Normais          90.0           55.0               Normal  Normal   \n",
       "14725  Normais         100.0           50.0        Não Calculado  Normal   \n",
       "14726  Normais           NaN            NaN        Não Calculado  Normal   \n",
       "\n",
       "           SOPRO   FC          HDA 1        HDA2           SEXO  \\\n",
       "0        ausente  100     Palpitacao         NaN              M   \n",
       "1      Sistólico  100  Assintomático         NaN      Masculino   \n",
       "2      Sistólico  100  Assintomático         NaN              M   \n",
       "3        ausente  100            NaN         NaN              F   \n",
       "4        ausente   78  Assintomático         NaN              F   \n",
       "...          ...  ...            ...         ...            ...   \n",
       "14722        NaN  NaN            NaN         NaN  Indeterminado   \n",
       "14723  sistólico   92       Dispneia  Palpitacao              F   \n",
       "14724    ausente   78  Assintomático         NaN              M   \n",
       "14725    ausente  100  Assintomático         NaN              M   \n",
       "14726    ausente   96  Assintomático         NaN              F   \n",
       "\n",
       "                               MOTIVO1                              MOTIVO2  \\\n",
       "0          6 - Suspeita de cardiopatia  6 - Palpitação/taquicardia/arritmia   \n",
       "1             5 - Parecer cardiológico                                  NaN   \n",
       "2          6 - Suspeita de cardiopatia                            6 - Sopro   \n",
       "3      1 - Cardiopatia já estabelecida            1 - Cardiopatia congenica   \n",
       "4             5 - Parecer cardiológico                                  NaN   \n",
       "...                                ...                                  ...   \n",
       "14722                              NaN                                  NaN   \n",
       "14723      6 - Suspeita de cardiopatia                         6 - Dispnéia   \n",
       "14724      6 - Suspeita de cardiopatia                            6 - Sopro   \n",
       "14725         5 - Parecer cardiológico                                  NaN   \n",
       "14726         5 - Parecer cardiológico                                  NaN   \n",
       "\n",
       "        CLASSE  \n",
       "0       Normal  \n",
       "1      Anormal  \n",
       "2      Anormal  \n",
       "3       Normal  \n",
       "4       Normal  \n",
       "...        ...  \n",
       "14722      NaN  \n",
       "14723  Anormal  \n",
       "14724   Normal  \n",
       "14725   Normal  \n",
       "14726   Normal  \n",
       "\n",
       "[14727 rows x 21 columns]"
      ]
     },
     "metadata": {},
     "output_type": "display_data"
    }
   ],
   "source": [
    "train_data = pd.read_csv(\"./data/train.csv\")\n",
    "data = pd.read_csv(\"./data/RHP_data.csv\")\n",
    "\n",
    "train_data = data.merge(train_data, on=\"Id\", how=\"right\")\n",
    "\n",
    "display(train_data)"
   ]
  },
  {
   "cell_type": "markdown",
   "metadata": {},
   "source": [
    "#### Após carregas os dados, irems fazer uma breve análise do que cada uma das colunas representa."
   ]
  },
  {
   "cell_type": "markdown",
   "metadata": {},
   "source": [
    "* Peso: representa o peso, em Kg, de cada indivíduo.\n",
    "\n",
    "* Altura: representa a altura, em cm, de cada indivíduo.\n",
    "\n",
    "* IMC: representa o índice de massa corporal do paciente, índice que representa se o paciente estáem seu peso ideal ou não. É calculado pelo peso (em metros) dividido pela altura elevada ao quadrado.\n",
    "\n",
    "* Atendimento: indica a data em que foi feito o atendimento do paciente.\n",
    "\n",
    "* DN: data em que a declaração de nascido vivo do paciente foi escrita.\n",
    "\n",
    "* Idade: representa a idade do paciente, sendo os anos representados por um valor real.\n",
    "\n",
    "* Convênio: Indica qual o convênio do cliente.\n",
    "\n",
    "* Pulsos: Indica a qualidade da circulação arterial. Pulsos fracos ou ausentes podem sugerir problemas como obstrução arterial ou insuficiência cardíaca.\n",
    "\n",
    "* PA Sistolica: valor mais alto (medido em mmHg) que aparece durante uma aferição de pressão. Representa a pressão exercida nas artérias durante a contração do coração (sístole). Valores elevados indicam hipertensão arterial, enquanto valores muito baixos podem sugerir hipotensão.\n",
    "\n",
    "* PA Diastolica: valor mais baixo (medido em mmHg) que aparece durante uma aferição de pressão. Reflete a pressão arterial durante o relaxamento do coração (diástole). É usada junto com a PA sistólica para diagnosticar hipertensão.\n",
    "\n",
    "* PPA (Pressão de Pulso Arterial): Diferença entre a pressão arterial sistólica e diastólica. Indica a rigidez arterial. Valores elevados podem estar associados a doenças cardiovasculares.\n",
    "\n",
    "* B2: Segundo Ruído Cardíaco, representa o som do fechamento das válvulas aórtica e pulmonar. Alterações no B2 podem sugerir problemas como hipertensão pulmonar ou doenças valvares.\n",
    "\n",
    "* Sopro: Presença de ruídos anormais detectados durante a ausculta cardíaca. Pode indicar problemas como regurgitação ou estenose valvar.\n",
    "\n",
    "* FC (Frequência Cardíaca): número de batimentos cardíacos por minuto (bpm). Frequências muito altas (taquicardia) ou baixas (bradicardia) podem indicar problemas cardíacos ou metabólicos.\n",
    "\n",
    "* HDA1 (Histórico de doenças atual 1): informações detalhadas sobre o principal problema clínico atual.\n",
    "\n",
    "* HDA2 (Histórico de doenças atual 2): informações adicionais sobre o problema clínico ou outras condições associadas.\n",
    "\n",
    "* Sexo: genêro biológico do paciente.\n",
    "\n",
    "* Motivo 1: principal razão para a consulta.\n",
    "\n",
    "* Motivo 2: razão secundária para a consulta."
   ]
  },
  {
   "cell_type": "markdown",
   "metadata": {},
   "source": [
    "#### Após entender o que cada coluna significa, iremos plotar os gráficos de cada atributo relevante em relação a classe, para ver como eles se relacionam. Iremos começas por atributos não numéricos."
   ]
  },
  {
   "cell_type": "markdown",
   "metadata": {},
   "source": [
    "Plot da distribuição de Pulsos em relação as classes."
   ]
  },
  {
   "cell_type": "code",
   "execution_count": 4,
   "metadata": {},
   "outputs": [
    {
     "data": {
      "image/png": "[encoded data removed]",
      "text/plain": [
       "<Figure size 864x432 with 1 Axes>"
      ]
     },
     "metadata": {
      "needs_background": "light"
     },
     "output_type": "display_data"
    }
   ],
   "source": [
    "plotar_grafico_barras(train_data, 'PULSOS', 'CLASSE')"
   ]
  },
  {
   "cell_type": "markdown",
   "metadata": {},
   "source": [
    "<small>A partir dessa visualizaçao, é possível obervar que as quase 100% das amostras foram registradas com pulsos normais. Além disso obeserva-se a necessidade de paronizar os valores durante a etapa de pré-processamento, pois há valores diferentes que representam a mesma coisa.</small>"
   ]
  },
  {
   "cell_type": "markdown",
   "metadata": {},
   "source": [
    "Plot da distribuição de diferentes PPA(s) em relação à classe."
   ]
  },
  {
   "cell_type": "code",
   "execution_count": 5,
   "metadata": {},
   "outputs": [
    {
     "data": {
      "image/png": "[encoded data removed]",
      "text/plain": [
       "<Figure size 864x432 with 1 Axes>"
      ]
     },
     "metadata": {
      "needs_background": "light"
     },
     "output_type": "display_data"
    }
   ],
   "source": [
    "plotar_grafico_barras(train_data, 'PPA', 'CLASSE')"
   ]
  },
  {
   "cell_type": "markdown",
   "metadata": {},
   "source": [
    "<small>A partir do gráfico, é evidente a predominância das amostras com valores 'Normal' e também a grande quantidade de dados ausentes, como vistos em 'Não Calculado' e '#VALUE!'</small>"
   ]
  },
  {
   "cell_type": "markdown",
   "metadata": {},
   "source": [
    "Plot da distribuição B2 em relação à classe."
   ]
  },
  {
   "cell_type": "code",
   "execution_count": 6,
   "metadata": {},
   "outputs": [
    {
     "data": {
      "image/png": "[encoded data removed]",
      "text/plain": [
       "<Figure size 864x432 with 1 Axes>"
      ]
     },
     "metadata": {
      "needs_background": "light"
     },
     "output_type": "display_data"
    }
   ],
   "source": [
    "plotar_grafico_barras(train_data, 'B2', 'CLASSE')"
   ]
  },
  {
   "cell_type": "markdown",
   "metadata": {},
   "source": [
    "<small>É evidente a predominância de 'Normal'</small>"
   ]
  },
  {
   "cell_type": "markdown",
   "metadata": {},
   "source": [
    "Plot da distribuição sopro em relação à classe."
   ]
  },
  {
   "cell_type": "code",
   "execution_count": 7,
   "metadata": {},
   "outputs": [
    {
     "data": {
      "image/png": "[encoded data removed]",
      "text/plain": [
       "<Figure size 864x432 with 1 Axes>"
      ]
     },
     "metadata": {
      "needs_background": "light"
     },
     "output_type": "display_data"
    }
   ],
   "source": [
    "plotar_grafico_barras(train_data, 'SOPRO', 'CLASSE')"
   ]
  },
  {
   "cell_type": "markdown",
   "metadata": {},
   "source": [
    "<small>Há duas principais observações a serem feitas neste gráfico, a primeira é a necessidade de padronizar os mesmos valores que possuem nomenclaturas diferentes, como Contínuo e contínuo. A segunda, mais interessante, é a grande quantidade de pacientes 'anormais' que possuem Sistólico como valor, acima de 90%. Isso indica a importância do atributo 'SOPRO' para o treinamento do modelo.</small>"
   ]
  },
  {
   "cell_type": "markdown",
   "metadata": {},
   "source": [
    "Plot da distribuição HDA1 (Histórico de doenças atual 1) em relação à classe."
   ]
  },
  {
   "cell_type": "code",
   "execution_count": 8,
   "metadata": {},
   "outputs": [
    {
     "data": {
      "image/png": "[encoded data removed]",
      "text/plain": [
       "<Figure size 864x432 with 1 Axes>"
      ]
     },
     "metadata": {
      "needs_background": "light"
     },
     "output_type": "display_data"
    }
   ],
   "source": [
    "plotar_grafico_barras(train_data, 'HDA 1', 'CLASSE')"
   ]
  },
  {
   "cell_type": "markdown",
   "metadata": {},
   "source": [
    "<small>De acordo com o gráfico acima, a grande maioria das amostras corresponde à valores 'Assintonático'. Além disso, é necessário tratar 'Normais' para 'Normal' afim de padronizar.</small>"
   ]
  },
  {
   "cell_type": "markdown",
   "metadata": {},
   "source": [
    "Plot da distribuição HDA2 (Histórico de doença atual 2) em relação à classe."
   ]
  },
  {
   "cell_type": "code",
   "execution_count": 9,
   "metadata": {},
   "outputs": [
    {
     "data": {
      "image/png": "[encoded data removed]",
      "text/plain": [
       "<Figure size 864x432 with 1 Axes>"
      ]
     },
     "metadata": {
      "needs_background": "light"
     },
     "output_type": "display_data"
    }
   ],
   "source": [
    "plotar_grafico_barras(train_data, 'HDA2', 'CLASSE')"
   ]
  },
  {
   "cell_type": "markdown",
   "metadata": {},
   "source": [
    "<small>De pontos importantes obtidos a partir do gráfico acima, pode-se destacar que grande parte dos pacientes que possuem dispneia ou cianose possuem alguma anormalidade. Não apenas ele, mas todos os valores possuem números consideráveis de pacientes com anormalidades, tornando 'HDA2' um atributo que deve ser tratado com atenção especial. Além disso, também é preciso padronizar 'Normais' e 'Normal'.</small>"
   ]
  },
  {
   "cell_type": "markdown",
   "metadata": {},
   "source": [
    "Plot da distribuição Sexo em relação à classe."
   ]
  },
  {
   "cell_type": "code",
   "execution_count": 10,
   "metadata": {},
   "outputs": [
    {
     "data": {
      "image/png": "[encoded data removed]",
      "text/plain": [
       "<Figure size 864x432 with 1 Axes>"
      ]
     },
     "metadata": {
      "needs_background": "light"
     },
     "output_type": "display_data"
    }
   ],
   "source": [
    "plotar_grafico_barras(train_data, 'SEXO', 'CLASSE')"
   ]
  },
  {
   "cell_type": "markdown",
   "metadata": {},
   "source": [
    "<small>Pontos importantes obtidos pelo gráfico acima: a quantidade de homens na amostra é maior que a quantidade de mulheres, porém a proporção entre homens normais e anormais, é a mesma que entre mulheres normais e mulheres anormais, cerca de 40% anormais e 60% normais. Essa análise pode singinicar que o atributo não impactara tanto no modelo, visto que a proporção não varia de genêro para genêro, após a etapa de pré-processamento será aplicado um <strong>teste de qui-quadrado</strong> entre a classe e o sexo, afim e determinar a relevância do atributo, porém será mantido por hora. Além disso, é preciso padronizar os valores como 'M' e 'Masculino'</small>"
   ]
  },
  {
   "cell_type": "markdown",
   "metadata": {},
   "source": [
    "Plot da distribuição MOTIVO1 em relação à classe."
   ]
  },
  {
   "cell_type": "code",
   "execution_count": 11,
   "metadata": {},
   "outputs": [
    {
     "data": {
      "image/png": "[encoded data removed]",
      "text/plain": [
       "<Figure size 864x432 with 1 Axes>"
      ]
     },
     "metadata": {
      "needs_background": "light"
     },
     "output_type": "display_data"
    }
   ],
   "source": [
    "plotar_grafico_barras(train_data, 'MOTIVO1', 'CLASSE')"
   ]
  },
  {
   "cell_type": "markdown",
   "metadata": {},
   "source": [
    "<small>A partir do gráfico, é possível observar que a maioria dos casos que possuem 'Suspeita de cardiopatia' e 'Cardiopatia já estabelecida' tem alguma anormalidade. Tornando assim o atributo 'MOTIVO1' um atributo importante para o treinamento do modelo.</small>"
   ]
  },
  {
   "cell_type": "markdown",
   "metadata": {},
   "source": [
    "Plot da distribuição MOTIVO2 em relação à classe."
   ]
  },
  {
   "cell_type": "code",
   "execution_count": 12,
   "metadata": {},
   "outputs": [
    {
     "data": {
      "image/png": "[encoded data removed]",
      "text/plain": [
       "<Figure size 864x432 with 1 Axes>"
      ]
     },
     "metadata": {
      "needs_background": "light"
     },
     "output_type": "display_data"
    }
   ],
   "source": [
    "plotar_grafico_barras(train_data, 'MOTIVO2', 'CLASSE')"
   ]
  },
  {
   "cell_type": "markdown",
   "metadata": {},
   "source": [
    "<small>O gráfico mostra que há diversos valores diferentes, o que pode ser algo a ser pré-processado na próxima etapa. Além disso, vale falar sobre a grande quantidade de pacientes anormais que tem Sopro e Cardiopatia congenica como valor</small>"
   ]
  },
  {
   "cell_type": "markdown",
   "metadata": {},
   "source": [
    "#### Agora iremos fazer o plot e a análise dos valores numéricos."
   ]
  },
  {
   "cell_type": "markdown",
   "metadata": {},
   "source": [
    "Mas primeiro, iremos realizar uma etapa do pré-processamento, pois há duas colunas numéricas, FC e IDADE, que são do tipo String, mas é preciso converte-las para numérica afim de realizar as plotagens."
   ]
  },
  {
   "cell_type": "code",
   "execution_count": 13,
   "metadata": {},
   "outputs": [],
   "source": [
    "converter_numeric(train_data, 'FC')\n",
    "converter_numeric(train_data, 'IDADE')"
   ]
  },
  {
   "cell_type": "markdown",
   "metadata": {},
   "source": [
    "Com os valores convertidos, agora podemos plotar os boxplots em relação à classe para visualizar outliners"
   ]
  },
  {
   "cell_type": "markdown",
   "metadata": {},
   "source": [
    "Plotar boxplot do peso em relação as classes"
   ]
  },
  {
   "cell_type": "code",
   "execution_count": 14,
   "metadata": {},
   "outputs": [
    {
     "data": {
      "image/png": "[encoded data removed]",
      "text/plain": [
       "<Figure size 576x576 with 1 Axes>"
      ]
     },
     "metadata": {
      "needs_background": "light"
     },
     "output_type": "display_data"
    }
   ],
   "source": [
    "plotar_boxplot(train_data, 'Peso', 'CLASSE')\n"
   ]
  },
  {
   "cell_type": "markdown",
   "metadata": {},
   "source": [
    "<small> A partir da plotagem, é posível perceber que há grande quantidade de outliers, sendo necessário tratá-los na etapa de pré-processamento</small>"
   ]
  },
  {
   "cell_type": "markdown",
   "metadata": {},
   "source": [
    "Plotar boxplot da altura em relação as classes"
   ]
  },
  {
   "cell_type": "code",
   "execution_count": 15,
   "metadata": {},
   "outputs": [
    {
     "data": {
      "image/png": "[encoded data removed]",
      "text/plain": [
       "<Figure size 576x576 with 1 Axes>"
      ]
     },
     "metadata": {
      "needs_background": "light"
     },
     "output_type": "display_data"
    }
   ],
   "source": [
    "plotar_boxplot(train_data, 'Altura', 'CLASSE')"
   ]
  },
  {
   "cell_type": "markdown",
   "metadata": {},
   "source": [
    "<small>De acordo com o gráfico, altura é um atributo que varia muito os seus valores, e não possui outliners a serem tratados</small>"
   ]
  },
  {
   "cell_type": "markdown",
   "metadata": {},
   "source": [
    "Plotar boxplot do IMC em relação as classes"
   ]
  },
  {
   "cell_type": "code",
   "execution_count": 16,
   "metadata": {},
   "outputs": [
    {
     "data": {
      "image/png": "[encoded data removed]",
      "text/plain": [
       "<Figure size 576x576 with 1 Axes>"
      ]
     },
     "metadata": {
      "needs_background": "light"
     },
     "output_type": "display_data"
    }
   ],
   "source": [
    "plotar_boxplot(train_data, 'IMC', 'CLASSE')"
   ]
  },
  {
   "cell_type": "markdown",
   "metadata": {},
   "source": [
    "<small>A plotagem dos valores de IMC indicam a grande quantidade de outliners e valores inválidos, afinal, no gráfico constam valores impossíveis para o IMC, mesmo que não sejam considerados outliners. A abordagem será feita pela calculação do IMC utilizando a altura e peso das amostras</small>"
   ]
  },
  {
   "cell_type": "markdown",
   "metadata": {},
   "source": [
    "Plotar boxplot das idades em relação as classes"
   ]
  },
  {
   "cell_type": "code",
   "execution_count": 17,
   "metadata": {},
   "outputs": [
    {
     "data": {
      "image/png": "[encoded data removed]",
      "text/plain": [
       "<Figure size 576x576 with 1 Axes>"
      ]
     },
     "metadata": {
      "needs_background": "light"
     },
     "output_type": "display_data"
    }
   ],
   "source": [
    "plotar_boxplot(train_data, 'IDADE', 'CLASSE')"
   ]
  },
  {
   "cell_type": "markdown",
   "metadata": {},
   "source": [
    "<small>O gráfico nos mostra uma grande quantidade de outliners e valores inválidos, como menor que 0, a serem tratados, sendo necessário fazer uma grande limpeza</small>"
   ]
  },
  {
   "cell_type": "markdown",
   "metadata": {},
   "source": [
    "Plotar boxplot da PA Sistolica (pressão arterial sistólica) em relação as classes"
   ]
  },
  {
   "cell_type": "code",
   "execution_count": 18,
   "metadata": {},
   "outputs": [
    {
     "data": {
      "image/png": "[encoded data removed]",
      "text/plain": [
       "<Figure size 576x576 with 1 Axes>"
      ]
     },
     "metadata": {
      "needs_background": "light"
     },
     "output_type": "display_data"
    }
   ],
   "source": [
    "plotar_boxplot(train_data, 'PA SISTOLICA', 'CLASSE')"
   ]
  },
  {
   "cell_type": "markdown",
   "metadata": {},
   "source": [
    "<small>Pelo gráfico, é possível identificar um pequeno número outliners a serem tratados</small>"
   ]
  },
  {
   "cell_type": "markdown",
   "metadata": {},
   "source": [
    "Plotar boxplot da PA Diastolica (pressão arterial diastolica) em relação as classes"
   ]
  },
  {
   "cell_type": "code",
   "execution_count": 19,
   "metadata": {},
   "outputs": [
    {
     "data": {
      "image/png": "[encoded data removed]",
      "text/plain": [
       "<Figure size 576x576 with 1 Axes>"
      ]
     },
     "metadata": {
      "needs_background": "light"
     },
     "output_type": "display_data"
    }
   ],
   "source": [
    "plotar_boxplot(train_data, \"PA DIASTOLICA\", \"CLASSE\")"
   ]
  },
  {
   "cell_type": "markdown",
   "metadata": {},
   "source": [
    "<small>Assim como na PA sistolica, é possível identificar um pequeno número de outilners a serem removidos</small>"
   ]
  },
  {
   "cell_type": "markdown",
   "metadata": {},
   "source": [
    "Plotar boxplot da Frequência cardíaca (FC) em relação as classes"
   ]
  },
  {
   "cell_type": "code",
   "execution_count": 20,
   "metadata": {},
   "outputs": [
    {
     "data": {
      "image/png": "[encoded data removed]",
      "text/plain": [
       "<Figure size 576x576 with 1 Axes>"
      ]
     },
     "metadata": {
      "needs_background": "light"
     },
     "output_type": "display_data"
    }
   ],
   "source": [
    "plotar_boxplot(train_data, 'FC', 'CLASSE')"
   ]
  },
  {
   "cell_type": "markdown",
   "metadata": {},
   "source": [
    "<small>O gráfico mostra que outliners, mesmo que em pouco número, estão presentes e precisam ser tratados</small>"
   ]
  },
  {
   "cell_type": "markdown",
   "metadata": {},
   "source": [
    "#### Após a plotagem,  vamos analisar as medidas descritivas de cada coluna."
   ]
  },
  {
   "cell_type": "code",
   "execution_count": 21,
   "metadata": {},
   "outputs": [
    {
     "data": {
      "text/html": [
       "<div>\n",
       "<style scoped>\n",
       "    .dataframe tbody tr th:only-of-type {\n",
       "        vertical-align: middle;\n",
       "    }\n",
       "\n",
       "    .dataframe tbody tr th {\n",
       "        vertical-align: top;\n",
       "    }\n",
       "\n",
       "    .dataframe thead th {\n",
       "        text-align: right;\n",
       "    }\n",
       "</style>\n",
       "<table border=\"1\" class=\"dataframe\">\n",
       "  <thead>\n",
       "    <tr style=\"text-align: right;\">\n",
       "      <th></th>\n",
       "      <th>Peso</th>\n",
       "      <th>Altura</th>\n",
       "      <th>IMC</th>\n",
       "      <th>IDADE</th>\n",
       "      <th>PA SISTOLICA</th>\n",
       "      <th>PA DIASTOLICA</th>\n",
       "      <th>FC</th>\n",
       "    </tr>\n",
       "  </thead>\n",
       "  <tbody>\n",
       "    <tr>\n",
       "      <th>count</th>\n",
       "      <td>14467.000000</td>\n",
       "      <td>14727.000000</td>\n",
       "      <td>10710.000000</td>\n",
       "      <td>13231.000000</td>\n",
       "      <td>8232.000000</td>\n",
       "      <td>8222.000000</td>\n",
       "      <td>12817.000000</td>\n",
       "    </tr>\n",
       "    <tr>\n",
       "      <th>mean</th>\n",
       "      <td>20.979374</td>\n",
       "      <td>82.971209</td>\n",
       "      <td>17.792437</td>\n",
       "      <td>5.970463</td>\n",
       "      <td>101.395773</td>\n",
       "      <td>62.372780</td>\n",
       "      <td>94.084419</td>\n",
       "    </tr>\n",
       "    <tr>\n",
       "      <th>std</th>\n",
       "      <td>18.189793</td>\n",
       "      <td>57.028885</td>\n",
       "      <td>11.214492</td>\n",
       "      <td>8.417493</td>\n",
       "      <td>14.995826</td>\n",
       "      <td>8.951357</td>\n",
       "      <td>111.021244</td>\n",
       "    </tr>\n",
       "    <tr>\n",
       "      <th>min</th>\n",
       "      <td>-40.000000</td>\n",
       "      <td>0.000000</td>\n",
       "      <td>0.000000</td>\n",
       "      <td>-113.180000</td>\n",
       "      <td>10.000000</td>\n",
       "      <td>6.000000</td>\n",
       "      <td>10.000000</td>\n",
       "    </tr>\n",
       "    <tr>\n",
       "      <th>25%</th>\n",
       "      <td>6.000000</td>\n",
       "      <td>0.000000</td>\n",
       "      <td>15.000000</td>\n",
       "      <td>2.150000</td>\n",
       "      <td>90.000000</td>\n",
       "      <td>60.000000</td>\n",
       "      <td>80.000000</td>\n",
       "    </tr>\n",
       "    <tr>\n",
       "      <th>50%</th>\n",
       "      <td>17.500000</td>\n",
       "      <td>98.000000</td>\n",
       "      <td>17.000000</td>\n",
       "      <td>5.680000</td>\n",
       "      <td>100.000000</td>\n",
       "      <td>60.000000</td>\n",
       "      <td>90.000000</td>\n",
       "    </tr>\n",
       "    <tr>\n",
       "      <th>75%</th>\n",
       "      <td>31.000000</td>\n",
       "      <td>130.000000</td>\n",
       "      <td>19.000000</td>\n",
       "      <td>10.010000</td>\n",
       "      <td>110.000000</td>\n",
       "      <td>70.000000</td>\n",
       "      <td>100.000000</td>\n",
       "    </tr>\n",
       "    <tr>\n",
       "      <th>max</th>\n",
       "      <td>127.000000</td>\n",
       "      <td>198.000000</td>\n",
       "      <td>848.000000</td>\n",
       "      <td>71.810000</td>\n",
       "      <td>990.000000</td>\n",
       "      <td>120.000000</td>\n",
       "      <td>9288.000000</td>\n",
       "    </tr>\n",
       "  </tbody>\n",
       "</table>\n",
       "</div>"
      ],
      "text/plain": [
       "               Peso        Altura           IMC         IDADE  PA SISTOLICA  \\\n",
       "count  14467.000000  14727.000000  10710.000000  13231.000000   8232.000000   \n",
       "mean      20.979374     82.971209     17.792437      5.970463    101.395773   \n",
       "std       18.189793     57.028885     11.214492      8.417493     14.995826   \n",
       "min      -40.000000      0.000000      0.000000   -113.180000     10.000000   \n",
       "25%        6.000000      0.000000     15.000000      2.150000     90.000000   \n",
       "50%       17.500000     98.000000     17.000000      5.680000    100.000000   \n",
       "75%       31.000000    130.000000     19.000000     10.010000    110.000000   \n",
       "max      127.000000    198.000000    848.000000     71.810000    990.000000   \n",
       "\n",
       "       PA DIASTOLICA            FC  \n",
       "count    8222.000000  12817.000000  \n",
       "mean       62.372780     94.084419  \n",
       "std         8.951357    111.021244  \n",
       "min         6.000000     10.000000  \n",
       "25%        60.000000     80.000000  \n",
       "50%        60.000000     90.000000  \n",
       "75%        70.000000    100.000000  \n",
       "max       120.000000   9288.000000  "
      ]
     },
     "metadata": {},
     "output_type": "display_data"
    }
   ],
   "source": [
    "display(train_data.iloc[:, 1:].describe(include=[np.number]))"
   ]
  },
  {
   "cell_type": "markdown",
   "metadata": {},
   "source": [
    "Pelas medidas descritivas, é possível perceber uma grande variância nas amostras, possivelmente causada pela presença de outliners. Isso pode ser afirmado pela alta diferença entre  máximo e o mínimo de cada atributo, no pré-processamento, o objetivo será a remoção desses outliners afim de diminuir o desvio padrão."
   ]
  },
  {
   "cell_type": "markdown",
   "metadata": {},
   "source": [
    "#### Por último, será feito o levantamento de quais atributos possuem valores NaN, que precisarão ser tratados junto com os outliners"
   ]
  },
  {
   "cell_type": "code",
   "execution_count": 22,
   "metadata": {},
   "outputs": [
    {
     "data": {
      "text/plain": [
       "Id                   0\n",
       "Peso               260\n",
       "Altura               0\n",
       "IMC               4017\n",
       "Atendimento        983\n",
       "DN                1376\n",
       "IDADE             1496\n",
       "Convenio          4493\n",
       "PULSOS            1192\n",
       "PA SISTOLICA      6495\n",
       "PA DIASTOLICA     6505\n",
       "PPA                197\n",
       "B2                1177\n",
       "SOPRO             1165\n",
       "FC                1910\n",
       "HDA 1             4614\n",
       "HDA2             14188\n",
       "SEXO                 3\n",
       "MOTIVO1           1073\n",
       "MOTIVO2           4059\n",
       "CLASSE            1168\n",
       "dtype: int64"
      ]
     },
     "metadata": {},
     "output_type": "display_data"
    }
   ],
   "source": [
    "display(train_data.isna().sum())"
   ]
  },
  {
   "cell_type": "markdown",
   "metadata": {},
   "source": [
    "Os pontos principais desse print são: apenas o atributo altura não possui valores NaN e a coluna que representa a classe possui 1168 valores NaN, que precisarão ser removidos, pois não há como preenche-los."
   ]
  },
  {
   "cell_type": "markdown",
   "metadata": {},
   "source": [
    "---\n",
    "### Pré-processamento\n",
    "\n",
    "Nesta seção, as funções da etapa de pré-processamento dos dados devem ser implementadas e aplicadas (se necessário)."
   ]
  },
  {
   "cell_type": "markdown",
   "metadata": {},
   "source": [
    "##### Para iniciar essa etapa, iremos remover colunas que não serão úteis durante o processo de treinamento, são elas: Atendimento, DN e Convenio."
   ]
  },
  {
   "cell_type": "code",
   "execution_count": 23,
   "metadata": {},
   "outputs": [],
   "source": [
    "train_data = train_data.drop(columns=['Atendimento', 'DN', 'Convenio'])"
   ]
  },
  {
   "cell_type": "markdown",
   "metadata": {},
   "source": [
    "#### Agora iremos começar a tratar as colunas númericas pela remoção de outliners, porém antes disso, iremos remover alguns valores inválidos manualmente, como peso menor que 0, que pode atrapalhar o processo de remoção dos outliners"
   ]
  },
  {
   "cell_type": "markdown",
   "metadata": {},
   "source": [
    "Removendo peso menor que 0"
   ]
  },
  {
   "cell_type": "code",
   "execution_count": 24,
   "metadata": {},
   "outputs": [],
   "source": [
    "peso_invalido = train_data[train_data['Peso'] < 0]\n",
    "\n",
    "train_data = train_data.drop(peso_invalido.index)"
   ]
  },
  {
   "cell_type": "markdown",
   "metadata": {},
   "source": [
    "Removendo alturas menores que 50 (altra média de um recém nascido)"
   ]
  },
  {
   "cell_type": "code",
   "execution_count": 25,
   "metadata": {},
   "outputs": [],
   "source": [
    "altura_invalida = train_data[train_data['Altura'] < 50]\n",
    "\n",
    "train_data = train_data.drop(altura_invalida.index)"
   ]
  },
  {
   "cell_type": "markdown",
   "metadata": {},
   "source": [
    "Removendo idade menor que 0 e idade maior que 19"
   ]
  },
  {
   "cell_type": "code",
   "execution_count": 26,
   "metadata": {},
   "outputs": [],
   "source": [
    "idade_invalida = train_data[(train_data['IDADE'] <= 0) | (train_data['IDADE'] > 19)]\n",
    "\n",
    "train_data = train_data.drop(idade_invalida.index)"
   ]
  },
  {
   "cell_type": "markdown",
   "metadata": {},
   "source": [
    "Removendo valor de PA Sistolica irreal"
   ]
  },
  {
   "cell_type": "code",
   "execution_count": 27,
   "metadata": {},
   "outputs": [],
   "source": [
    "pa_sistolica_invalida = train_data[(train_data['PA SISTOLICA'] > 500) | (train_data['PA SISTOLICA'] < 40)]\n",
    "\n",
    "train_data = train_data.drop(pa_sistolica_invalida.index)"
   ]
  },
  {
   "cell_type": "markdown",
   "metadata": {},
   "source": [
    "Removendo valores de PA Diastolica irreais"
   ]
  },
  {
   "cell_type": "code",
   "execution_count": 28,
   "metadata": {},
   "outputs": [],
   "source": [
    "pa_diastolica_irreal = train_data[train_data['PA DIASTOLICA'] < 30]\n",
    "\n",
    "train_data = train_data.drop(pa_diastolica_irreal.index)"
   ]
  },
  {
   "cell_type": "markdown",
   "metadata": {},
   "source": [
    "Removendo valores de frequência cardíaca irreais"
   ]
  },
  {
   "cell_type": "code",
   "execution_count": 29,
   "metadata": {},
   "outputs": [],
   "source": [
    "fc_irreal = train_data[(train_data['FC'] > 240) | (train_data['FC'] < 30)]\n",
    "\n",
    "train_data = train_data.drop(fc_irreal.index)"
   ]
  },
  {
   "cell_type": "markdown",
   "metadata": {},
   "source": [
    "##### Logo depois, iremos tratar os outliners das colunas numéricas, pois eles influenciam diretamente na média e mediana, que poderão ser usadas para preencher os NaN. As colunas que não serão tratadas são: PA Sistolica, PA Diastolica e FC pois os valores outliners tem grande chances de estarem diretamente relacionados com problemas cardíacos. Além disso, IMC não será tratado pois ele será recalculado com peso e altura."
   ]
  },
  {
   "cell_type": "code",
   "execution_count": 30,
   "metadata": {},
   "outputs": [],
   "source": [
    "colunas_numericas = [\"Peso\", \"Altura\", \"IDADE\"]\n",
    "\n",
    "# Primeiro usa a função para retornar todas as amostras que são outliners\n",
    "outliners = identifica_outliners(train_data, colunas_numericas)"
   ]
  },
  {
   "cell_type": "code",
   "execution_count": 31,
   "metadata": {},
   "outputs": [],
   "source": [
    "# Remoção dos outliners\n",
    "train_data = train_data.drop(outliners[outliners].index)"
   ]
  },
  {
   "cell_type": "markdown",
   "metadata": {},
   "source": [
    "##### Após a remoção dos outliners, iremos novamente plotar os boxplots para valores numéricos, para analisar as mudanças"
   ]
  },
  {
   "cell_type": "code",
   "execution_count": 32,
   "metadata": {},
   "outputs": [
    {
     "data": {
      "image/png": "[encoded data removed]",
      "text/plain": [
       "<Figure size 576x576 with 1 Axes>"
      ]
     },
     "metadata": {
      "needs_background": "light"
     },
     "output_type": "display_data"
    },
    {
     "data": {
      "image/png": "[encoded data removed]",
      "text/plain": [
       "<Figure size 576x576 with 1 Axes>"
      ]
     },
     "metadata": {
      "needs_background": "light"
     },
     "output_type": "display_data"
    },
    {
     "data": {
      "image/png": "[encoded data removed]",
      "text/plain": [
       "<Figure size 576x576 with 1 Axes>"
      ]
     },
     "metadata": {
      "needs_background": "light"
     },
     "output_type": "display_data"
    },
    {
     "data": {
      "image/png": "[encoded data removed]",
      "text/plain": [
       "<Figure size 576x576 with 1 Axes>"
      ]
     },
     "metadata": {
      "needs_background": "light"
     },
     "output_type": "display_data"
    },
    {
     "data": {
      "image/png": "[encoded data removed]",
      "text/plain": [
       "<Figure size 576x576 with 1 Axes>"
      ]
     },
     "metadata": {
      "needs_background": "light"
     },
     "output_type": "display_data"
    },
    {
     "data": {
      "image/png": "[encoded data removed]",
      "text/plain": [
       "<Figure size 576x576 with 1 Axes>"
      ]
     },
     "metadata": {
      "needs_background": "light"
     },
     "output_type": "display_data"
    }
   ],
   "source": [
    "colunas_numericas = [\"Peso\", \"Altura\", \"IDADE\", 'PA SISTOLICA', 'PA DIASTOLICA', 'FC']\n",
    "\n",
    "\n",
    "for coluna in colunas_numericas:\n",
    "  plotar_boxplot(train_data, coluna, \"CLASSE\")"
   ]
  },
  {
   "cell_type": "code",
   "execution_count": 33,
   "metadata": {},
   "outputs": [
    {
     "data": {
      "text/html": [
       "<div>\n",
       "<style scoped>\n",
       "    .dataframe tbody tr th:only-of-type {\n",
       "        vertical-align: middle;\n",
       "    }\n",
       "\n",
       "    .dataframe tbody tr th {\n",
       "        vertical-align: top;\n",
       "    }\n",
       "\n",
       "    .dataframe thead th {\n",
       "        text-align: right;\n",
       "    }\n",
       "</style>\n",
       "<table border=\"1\" class=\"dataframe\">\n",
       "  <thead>\n",
       "    <tr style=\"text-align: right;\">\n",
       "      <th></th>\n",
       "      <th>Peso</th>\n",
       "      <th>Altura</th>\n",
       "      <th>IMC</th>\n",
       "      <th>IDADE</th>\n",
       "      <th>PA SISTOLICA</th>\n",
       "      <th>PA DIASTOLICA</th>\n",
       "      <th>FC</th>\n",
       "    </tr>\n",
       "  </thead>\n",
       "  <tbody>\n",
       "    <tr>\n",
       "      <th>count</th>\n",
       "      <td>9874.000000</td>\n",
       "      <td>10077.000000</td>\n",
       "      <td>9874.000000</td>\n",
       "      <td>9703.000000</td>\n",
       "      <td>6290.000000</td>\n",
       "      <td>6287.000000</td>\n",
       "      <td>9313.000000</td>\n",
       "    </tr>\n",
       "    <tr>\n",
       "      <th>mean</th>\n",
       "      <td>24.647407</td>\n",
       "      <td>112.880917</td>\n",
       "      <td>17.464655</td>\n",
       "      <td>6.420056</td>\n",
       "      <td>100.451033</td>\n",
       "      <td>61.860347</td>\n",
       "      <td>91.312789</td>\n",
       "    </tr>\n",
       "    <tr>\n",
       "      <th>std</th>\n",
       "      <td>14.872482</td>\n",
       "      <td>31.007403</td>\n",
       "      <td>3.935983</td>\n",
       "      <td>4.480835</td>\n",
       "      <td>10.354930</td>\n",
       "      <td>8.349274</td>\n",
       "      <td>15.691937</td>\n",
       "    </tr>\n",
       "    <tr>\n",
       "      <th>min</th>\n",
       "      <td>0.000000</td>\n",
       "      <td>50.000000</td>\n",
       "      <td>0.000000</td>\n",
       "      <td>0.010000</td>\n",
       "      <td>60.000000</td>\n",
       "      <td>35.000000</td>\n",
       "      <td>43.000000</td>\n",
       "    </tr>\n",
       "    <tr>\n",
       "      <th>25%</th>\n",
       "      <td>13.900000</td>\n",
       "      <td>92.000000</td>\n",
       "      <td>15.000000</td>\n",
       "      <td>2.700000</td>\n",
       "      <td>90.000000</td>\n",
       "      <td>60.000000</td>\n",
       "      <td>80.000000</td>\n",
       "    </tr>\n",
       "    <tr>\n",
       "      <th>50%</th>\n",
       "      <td>21.500000</td>\n",
       "      <td>115.000000</td>\n",
       "      <td>17.000000</td>\n",
       "      <td>5.890000</td>\n",
       "      <td>100.000000</td>\n",
       "      <td>60.000000</td>\n",
       "      <td>90.000000</td>\n",
       "    </tr>\n",
       "    <tr>\n",
       "      <th>75%</th>\n",
       "      <td>34.000000</td>\n",
       "      <td>137.000000</td>\n",
       "      <td>19.000000</td>\n",
       "      <td>9.910000</td>\n",
       "      <td>105.000000</td>\n",
       "      <td>65.000000</td>\n",
       "      <td>100.000000</td>\n",
       "    </tr>\n",
       "    <tr>\n",
       "      <th>max</th>\n",
       "      <td>88.000000</td>\n",
       "      <td>198.000000</td>\n",
       "      <td>167.000000</td>\n",
       "      <td>18.910000</td>\n",
       "      <td>190.000000</td>\n",
       "      <td>120.000000</td>\n",
       "      <td>230.000000</td>\n",
       "    </tr>\n",
       "  </tbody>\n",
       "</table>\n",
       "</div>"
      ],
      "text/plain": [
       "              Peso        Altura          IMC        IDADE  PA SISTOLICA  \\\n",
       "count  9874.000000  10077.000000  9874.000000  9703.000000   6290.000000   \n",
       "mean     24.647407    112.880917    17.464655     6.420056    100.451033   \n",
       "std      14.872482     31.007403     3.935983     4.480835     10.354930   \n",
       "min       0.000000     50.000000     0.000000     0.010000     60.000000   \n",
       "25%      13.900000     92.000000    15.000000     2.700000     90.000000   \n",
       "50%      21.500000    115.000000    17.000000     5.890000    100.000000   \n",
       "75%      34.000000    137.000000    19.000000     9.910000    105.000000   \n",
       "max      88.000000    198.000000   167.000000    18.910000    190.000000   \n",
       "\n",
       "       PA DIASTOLICA           FC  \n",
       "count    6287.000000  9313.000000  \n",
       "mean       61.860347    91.312789  \n",
       "std         8.349274    15.691937  \n",
       "min        35.000000    43.000000  \n",
       "25%        60.000000    80.000000  \n",
       "50%        60.000000    90.000000  \n",
       "75%        65.000000   100.000000  \n",
       "max       120.000000   230.000000  "
      ]
     },
     "metadata": {},
     "output_type": "display_data"
    }
   ],
   "source": [
    "display(train_data.iloc[:, 1:].describe(include=[np.number]))"
   ]
  },
  {
   "cell_type": "markdown",
   "metadata": {},
   "source": [
    "##### Após a plotagem dos gráficos e dos valores referentes aos dados, fica claro que a limpeza de dados irreais e a remoção de parte dos outliers diminuiu a variação dos valores, pois todos os stds diminuiram e nos gráficos, o número de outliners diminuiu drasticamente."
   ]
  },
  {
   "cell_type": "markdown",
   "metadata": {},
   "source": [
    "##### Agora com os outliners tratados, iremos substituir os valores NaN nas colunas numéricas."
   ]
  },
  {
   "cell_type": "code",
   "execution_count": 34,
   "metadata": {},
   "outputs": [
    {
     "name": "stdout",
     "output_type": "stream",
     "text": [
      "Peso              203\n",
      "Altura              0\n",
      "IDADE             374\n",
      "PA SISTOLICA     3787\n",
      "PA DIASTOLICA    3790\n",
      "FC                764\n",
      "dtype: int64\n"
     ]
    }
   ],
   "source": [
    "print(train_data[colunas_numericas].isna().sum())"
   ]
  },
  {
   "cell_type": "markdown",
   "metadata": {},
   "source": [
    "Nas colunas PA Sistolica, PA Diastolica e FC, os valores NaN serão substituídos pela média das respectivas colunas, pois o desvio padrão é menor quando comparado com a amplitude das amostras."
   ]
  },
  {
   "cell_type": "code",
   "execution_count": 35,
   "metadata": {},
   "outputs": [],
   "source": [
    "train_data['PA DIASTOLICA'] = fill_na_media(train_data, 'PA DIASTOLICA')\n",
    "train_data['PA SISTOLICA'] = fill_na_media(train_data, 'PA SISTOLICA')\n",
    "train_data['FC'] = fill_na_media(train_data, 'FC')"
   ]
  },
  {
   "cell_type": "markdown",
   "metadata": {},
   "source": [
    "Nas colunas Peso, altura e idade, será substituido pela mediana. A escolha da mediana se dá pois pela pequena amplitude entre os valores, o desvio padrão é relativamente alto"
   ]
  },
  {
   "cell_type": "code",
   "execution_count": 36,
   "metadata": {},
   "outputs": [],
   "source": [
    "train_data[\"Peso\"] = fill_na_mediana(train_data, \"Peso\")\n",
    "train_data[\"Altura\"] = fill_na_mediana(train_data, \"Altura\")\n",
    "train_data[\"IDADE\"] = fill_na_mediana(train_data, \"IDADE\")"
   ]
  },
  {
   "cell_type": "code",
   "execution_count": 37,
   "metadata": {},
   "outputs": [
    {
     "name": "stdout",
     "output_type": "stream",
     "text": [
      "Peso             0\n",
      "Altura           0\n",
      "IDADE            0\n",
      "PA SISTOLICA     0\n",
      "PA DIASTOLICA    0\n",
      "FC               0\n",
      "dtype: int64\n"
     ]
    }
   ],
   "source": [
    "print(train_data[colunas_numericas].isna().sum())"
   ]
  },
  {
   "cell_type": "markdown",
   "metadata": {},
   "source": [
    "Com isso, os valores NaN nas colunas numéricas foram resolvidos, agora basta recalcular o IMC utilizando o peso e a altura"
   ]
  },
  {
   "cell_type": "code",
   "execution_count": 38,
   "metadata": {},
   "outputs": [],
   "source": [
    "# Conversao de cm para metros, para poder aplicar a fórmula de IMC\n",
    "altura_aux = train_data[\"Altura\"] / 100\n",
    "\n",
    "\n",
    "train_data[\"IMC\"] = train_data[\"Peso\"] / np.power(altura_aux, 2)"
   ]
  },
  {
   "cell_type": "code",
   "execution_count": 39,
   "metadata": {},
   "outputs": [
    {
     "data": {
      "text/html": [
       "<div>\n",
       "<style scoped>\n",
       "    .dataframe tbody tr th:only-of-type {\n",
       "        vertical-align: middle;\n",
       "    }\n",
       "\n",
       "    .dataframe tbody tr th {\n",
       "        vertical-align: top;\n",
       "    }\n",
       "\n",
       "    .dataframe thead th {\n",
       "        text-align: right;\n",
       "    }\n",
       "</style>\n",
       "<table border=\"1\" class=\"dataframe\">\n",
       "  <thead>\n",
       "    <tr style=\"text-align: right;\">\n",
       "      <th></th>\n",
       "      <th>Id</th>\n",
       "      <th>Peso</th>\n",
       "      <th>Altura</th>\n",
       "      <th>IMC</th>\n",
       "      <th>IDADE</th>\n",
       "      <th>PULSOS</th>\n",
       "      <th>PA SISTOLICA</th>\n",
       "      <th>PA DIASTOLICA</th>\n",
       "      <th>PPA</th>\n",
       "      <th>B2</th>\n",
       "      <th>SOPRO</th>\n",
       "      <th>FC</th>\n",
       "      <th>HDA 1</th>\n",
       "      <th>HDA2</th>\n",
       "      <th>SEXO</th>\n",
       "      <th>MOTIVO1</th>\n",
       "      <th>MOTIVO2</th>\n",
       "      <th>CLASSE</th>\n",
       "    </tr>\n",
       "  </thead>\n",
       "  <tbody>\n",
       "    <tr>\n",
       "      <th>0</th>\n",
       "      <td>10524</td>\n",
       "      <td>28.0</td>\n",
       "      <td>123</td>\n",
       "      <td>18.507502</td>\n",
       "      <td>5.79</td>\n",
       "      <td>Normais</td>\n",
       "      <td>110.000000</td>\n",
       "      <td>80.000000</td>\n",
       "      <td>HAS-1 PAD</td>\n",
       "      <td>Normal</td>\n",
       "      <td>ausente</td>\n",
       "      <td>100.0</td>\n",
       "      <td>Palpitacao</td>\n",
       "      <td>NaN</td>\n",
       "      <td>M</td>\n",
       "      <td>6 - Suspeita de cardiopatia</td>\n",
       "      <td>6 - Palpitação/taquicardia/arritmia</td>\n",
       "      <td>Normal</td>\n",
       "    </tr>\n",
       "    <tr>\n",
       "      <th>2</th>\n",
       "      <td>4483</td>\n",
       "      <td>13.0</td>\n",
       "      <td>87</td>\n",
       "      <td>17.175320</td>\n",
       "      <td>2.21</td>\n",
       "      <td>Normais</td>\n",
       "      <td>100.451033</td>\n",
       "      <td>61.860347</td>\n",
       "      <td>Não Calculado</td>\n",
       "      <td>Normal</td>\n",
       "      <td>Sistólico</td>\n",
       "      <td>100.0</td>\n",
       "      <td>Assintomático</td>\n",
       "      <td>NaN</td>\n",
       "      <td>M</td>\n",
       "      <td>6 - Suspeita de cardiopatia</td>\n",
       "      <td>6 - Sopro</td>\n",
       "      <td>Anormal</td>\n",
       "    </tr>\n",
       "    <tr>\n",
       "      <th>4</th>\n",
       "      <td>11652</td>\n",
       "      <td>42.4</td>\n",
       "      <td>136</td>\n",
       "      <td>22.923875</td>\n",
       "      <td>0.06</td>\n",
       "      <td>Normais</td>\n",
       "      <td>100.000000</td>\n",
       "      <td>60.000000</td>\n",
       "      <td>Não Calculado</td>\n",
       "      <td>Normal</td>\n",
       "      <td>ausente</td>\n",
       "      <td>78.0</td>\n",
       "      <td>Assintomático</td>\n",
       "      <td>NaN</td>\n",
       "      <td>F</td>\n",
       "      <td>5 - Parecer cardiológico</td>\n",
       "      <td>NaN</td>\n",
       "      <td>Normal</td>\n",
       "    </tr>\n",
       "    <tr>\n",
       "      <th>5</th>\n",
       "      <td>15430</td>\n",
       "      <td>45.0</td>\n",
       "      <td>161</td>\n",
       "      <td>17.360441</td>\n",
       "      <td>7.60</td>\n",
       "      <td>Normais</td>\n",
       "      <td>120.000000</td>\n",
       "      <td>70.000000</td>\n",
       "      <td>HAS-1 PAS</td>\n",
       "      <td>Normal</td>\n",
       "      <td>ausente</td>\n",
       "      <td>80.0</td>\n",
       "      <td>Assintomático</td>\n",
       "      <td>NaN</td>\n",
       "      <td>M</td>\n",
       "      <td>5 - Parecer cardiológico</td>\n",
       "      <td>5 - Cirurgia</td>\n",
       "      <td>Normal</td>\n",
       "    </tr>\n",
       "    <tr>\n",
       "      <th>6</th>\n",
       "      <td>1023</td>\n",
       "      <td>18.5</td>\n",
       "      <td>105</td>\n",
       "      <td>16.780045</td>\n",
       "      <td>3.93</td>\n",
       "      <td>Normais</td>\n",
       "      <td>90.000000</td>\n",
       "      <td>60.000000</td>\n",
       "      <td>Normal</td>\n",
       "      <td>Normal</td>\n",
       "      <td>ausente</td>\n",
       "      <td>92.0</td>\n",
       "      <td>NaN</td>\n",
       "      <td>NaN</td>\n",
       "      <td>F</td>\n",
       "      <td>7 - Outro</td>\n",
       "      <td>Outro</td>\n",
       "      <td>Normal</td>\n",
       "    </tr>\n",
       "    <tr>\n",
       "      <th>...</th>\n",
       "      <td>...</td>\n",
       "      <td>...</td>\n",
       "      <td>...</td>\n",
       "      <td>...</td>\n",
       "      <td>...</td>\n",
       "      <td>...</td>\n",
       "      <td>...</td>\n",
       "      <td>...</td>\n",
       "      <td>...</td>\n",
       "      <td>...</td>\n",
       "      <td>...</td>\n",
       "      <td>...</td>\n",
       "      <td>...</td>\n",
       "      <td>...</td>\n",
       "      <td>...</td>\n",
       "      <td>...</td>\n",
       "      <td>...</td>\n",
       "      <td>...</td>\n",
       "    </tr>\n",
       "    <tr>\n",
       "      <th>14719</th>\n",
       "      <td>9673</td>\n",
       "      <td>16.7</td>\n",
       "      <td>100</td>\n",
       "      <td>16.700000</td>\n",
       "      <td>3.49</td>\n",
       "      <td>Normais</td>\n",
       "      <td>90.000000</td>\n",
       "      <td>60.000000</td>\n",
       "      <td>Normal</td>\n",
       "      <td>Normal</td>\n",
       "      <td>ausente</td>\n",
       "      <td>120.0</td>\n",
       "      <td>NaN</td>\n",
       "      <td>NaN</td>\n",
       "      <td>F</td>\n",
       "      <td>6 - Suspeita de cardiopatia</td>\n",
       "      <td>6 - Dor precordial</td>\n",
       "      <td>Normal</td>\n",
       "    </tr>\n",
       "    <tr>\n",
       "      <th>14721</th>\n",
       "      <td>3023</td>\n",
       "      <td>25.0</td>\n",
       "      <td>126</td>\n",
       "      <td>15.747040</td>\n",
       "      <td>8.80</td>\n",
       "      <td>Normais</td>\n",
       "      <td>100.000000</td>\n",
       "      <td>60.000000</td>\n",
       "      <td>Normal</td>\n",
       "      <td>Normal</td>\n",
       "      <td>ausente</td>\n",
       "      <td>76.0</td>\n",
       "      <td>Assintomático</td>\n",
       "      <td>NaN</td>\n",
       "      <td>F</td>\n",
       "      <td>5 - Parecer cardiológico</td>\n",
       "      <td>NaN</td>\n",
       "      <td>Normal</td>\n",
       "    </tr>\n",
       "    <tr>\n",
       "      <th>14723</th>\n",
       "      <td>3249</td>\n",
       "      <td>30.0</td>\n",
       "      <td>113</td>\n",
       "      <td>23.494401</td>\n",
       "      <td>4.97</td>\n",
       "      <td>Normais</td>\n",
       "      <td>105.000000</td>\n",
       "      <td>70.000000</td>\n",
       "      <td>Pre-Hipertensão PAD</td>\n",
       "      <td>Normal</td>\n",
       "      <td>sistólico</td>\n",
       "      <td>92.0</td>\n",
       "      <td>Dispneia</td>\n",
       "      <td>Palpitacao</td>\n",
       "      <td>F</td>\n",
       "      <td>6 - Suspeita de cardiopatia</td>\n",
       "      <td>6 - Dispnéia</td>\n",
       "      <td>Anormal</td>\n",
       "    </tr>\n",
       "    <tr>\n",
       "      <th>14724</th>\n",
       "      <td>3207</td>\n",
       "      <td>25.8</td>\n",
       "      <td>130</td>\n",
       "      <td>15.266272</td>\n",
       "      <td>7.69</td>\n",
       "      <td>Normais</td>\n",
       "      <td>90.000000</td>\n",
       "      <td>55.000000</td>\n",
       "      <td>Normal</td>\n",
       "      <td>Normal</td>\n",
       "      <td>ausente</td>\n",
       "      <td>78.0</td>\n",
       "      <td>Assintomático</td>\n",
       "      <td>NaN</td>\n",
       "      <td>M</td>\n",
       "      <td>6 - Suspeita de cardiopatia</td>\n",
       "      <td>6 - Sopro</td>\n",
       "      <td>Normal</td>\n",
       "    </tr>\n",
       "    <tr>\n",
       "      <th>14726</th>\n",
       "      <td>9470</td>\n",
       "      <td>13.0</td>\n",
       "      <td>89</td>\n",
       "      <td>16.412069</td>\n",
       "      <td>2.97</td>\n",
       "      <td>Normais</td>\n",
       "      <td>100.451033</td>\n",
       "      <td>61.860347</td>\n",
       "      <td>Não Calculado</td>\n",
       "      <td>Normal</td>\n",
       "      <td>ausente</td>\n",
       "      <td>96.0</td>\n",
       "      <td>Assintomático</td>\n",
       "      <td>NaN</td>\n",
       "      <td>F</td>\n",
       "      <td>5 - Parecer cardiológico</td>\n",
       "      <td>NaN</td>\n",
       "      <td>Normal</td>\n",
       "    </tr>\n",
       "  </tbody>\n",
       "</table>\n",
       "<p>10077 rows × 18 columns</p>\n",
       "</div>"
      ],
      "text/plain": [
       "          Id  Peso  Altura        IMC  IDADE   PULSOS  PA SISTOLICA  \\\n",
       "0      10524  28.0     123  18.507502   5.79  Normais    110.000000   \n",
       "2       4483  13.0      87  17.175320   2.21  Normais    100.451033   \n",
       "4      11652  42.4     136  22.923875   0.06  Normais    100.000000   \n",
       "5      15430  45.0     161  17.360441   7.60  Normais    120.000000   \n",
       "6       1023  18.5     105  16.780045   3.93  Normais     90.000000   \n",
       "...      ...   ...     ...        ...    ...      ...           ...   \n",
       "14719   9673  16.7     100  16.700000   3.49  Normais     90.000000   \n",
       "14721   3023  25.0     126  15.747040   8.80  Normais    100.000000   \n",
       "14723   3249  30.0     113  23.494401   4.97  Normais    105.000000   \n",
       "14724   3207  25.8     130  15.266272   7.69  Normais     90.000000   \n",
       "14726   9470  13.0      89  16.412069   2.97  Normais    100.451033   \n",
       "\n",
       "       PA DIASTOLICA                  PPA      B2      SOPRO     FC  \\\n",
       "0          80.000000            HAS-1 PAD  Normal    ausente  100.0   \n",
       "2          61.860347        Não Calculado  Normal  Sistólico  100.0   \n",
       "4          60.000000        Não Calculado  Normal    ausente   78.0   \n",
       "5          70.000000            HAS-1 PAS  Normal    ausente   80.0   \n",
       "6          60.000000               Normal  Normal    ausente   92.0   \n",
       "...              ...                  ...     ...        ...    ...   \n",
       "14719      60.000000               Normal  Normal    ausente  120.0   \n",
       "14721      60.000000               Normal  Normal    ausente   76.0   \n",
       "14723      70.000000  Pre-Hipertensão PAD  Normal  sistólico   92.0   \n",
       "14724      55.000000               Normal  Normal    ausente   78.0   \n",
       "14726      61.860347        Não Calculado  Normal    ausente   96.0   \n",
       "\n",
       "               HDA 1        HDA2 SEXO                      MOTIVO1  \\\n",
       "0         Palpitacao         NaN    M  6 - Suspeita de cardiopatia   \n",
       "2      Assintomático         NaN    M  6 - Suspeita de cardiopatia   \n",
       "4      Assintomático         NaN    F     5 - Parecer cardiológico   \n",
       "5      Assintomático         NaN    M     5 - Parecer cardiológico   \n",
       "6                NaN         NaN    F                    7 - Outro   \n",
       "...              ...         ...  ...                          ...   \n",
       "14719            NaN         NaN    F  6 - Suspeita de cardiopatia   \n",
       "14721  Assintomático         NaN    F     5 - Parecer cardiológico   \n",
       "14723       Dispneia  Palpitacao    F  6 - Suspeita de cardiopatia   \n",
       "14724  Assintomático         NaN    M  6 - Suspeita de cardiopatia   \n",
       "14726  Assintomático         NaN    F     5 - Parecer cardiológico   \n",
       "\n",
       "                                   MOTIVO2   CLASSE  \n",
       "0      6 - Palpitação/taquicardia/arritmia   Normal  \n",
       "2                                6 - Sopro  Anormal  \n",
       "4                                      NaN   Normal  \n",
       "5                             5 - Cirurgia   Normal  \n",
       "6                                    Outro   Normal  \n",
       "...                                    ...      ...  \n",
       "14719                   6 - Dor precordial   Normal  \n",
       "14721                                  NaN   Normal  \n",
       "14723                         6 - Dispnéia  Anormal  \n",
       "14724                            6 - Sopro   Normal  \n",
       "14726                                  NaN   Normal  \n",
       "\n",
       "[10077 rows x 18 columns]"
      ]
     },
     "metadata": {},
     "output_type": "display_data"
    }
   ],
   "source": [
    "display(train_data)"
   ]
  },
  {
   "cell_type": "markdown",
   "metadata": {},
   "source": [
    "#### Agora com todas as colunas numéricas tratadas, partiremos para as colunas não numéricas"
   ]
  },
  {
   "cell_type": "markdown",
   "metadata": {},
   "source": [
    "Substituindo 'Normais' por 'Normal' no atributo CLASSE."
   ]
  },
  {
   "cell_type": "code",
   "execution_count": 40,
   "metadata": {},
   "outputs": [],
   "source": [
    "substituir(train_data, 'CLASSE', 'Normais', 'Normal')"
   ]
  },
  {
   "cell_type": "code",
   "execution_count": 41,
   "metadata": {},
   "outputs": [
    {
     "name": "stdout",
     "output_type": "stream",
     "text": [
      "['Normal' 'Anormal' nan]\n"
     ]
    }
   ],
   "source": [
    "print(train_data['CLASSE'].unique())"
   ]
  },
  {
   "cell_type": "markdown",
   "metadata": {},
   "source": [
    "Substituindo 'NORMAIS' por 'Normais' e 'AMPLOS' por 'Amplos' no atributo PULSOS"
   ]
  },
  {
   "cell_type": "code",
   "execution_count": 42,
   "metadata": {},
   "outputs": [],
   "source": [
    "substituir(train_data, 'PULSOS', 'NORMAIS', 'Normais')\n",
    "substituir(train_data, 'PULSOS', 'AMPLOS', 'Amplos')"
   ]
  },
  {
   "cell_type": "code",
   "execution_count": 43,
   "metadata": {},
   "outputs": [
    {
     "name": "stdout",
     "output_type": "stream",
     "text": [
      "['Normais' 'Femorais diminuidos' nan 'Outro' 'Amplos' 'Diminuídos ']\n"
     ]
    }
   ],
   "source": [
    "print(train_data['PULSOS'].unique())"
   ]
  },
  {
   "cell_type": "markdown",
   "metadata": {},
   "source": [
    "Substituindo 'sistólico' por 'Sistólico' e 'contínuo' por 'Contínuo'"
   ]
  },
  {
   "cell_type": "code",
   "execution_count": 44,
   "metadata": {},
   "outputs": [],
   "source": [
    "substituir(train_data, 'SOPRO', 'sistólico', 'Sistólico')\n",
    "substituir(train_data, 'SOPRO', 'contínuo', 'Contínuo')"
   ]
  },
  {
   "cell_type": "code",
   "execution_count": 45,
   "metadata": {},
   "outputs": [
    {
     "name": "stdout",
     "output_type": "stream",
     "text": [
      "['ausente' 'Sistólico' nan 'Contínuo' 'diastólico'\n",
      " 'Sistolico e diastólico']\n"
     ]
    }
   ],
   "source": [
    "print(train_data[\"SOPRO\"].unique())"
   ]
  },
  {
   "cell_type": "markdown",
   "metadata": {},
   "source": [
    "Substituindo 'Masculino' e 'masculino' por 'M' e 'Feminino' por 'F'"
   ]
  },
  {
   "cell_type": "code",
   "execution_count": 46,
   "metadata": {},
   "outputs": [],
   "source": [
    "substituir(train_data, 'SEXO', 'Masculino', 'M')\n",
    "substituir(train_data, 'SEXO', 'masculino', 'M')\n",
    "\n",
    "substituir(train_data, 'SEXO', 'Feminino', 'F')"
   ]
  },
  {
   "cell_type": "code",
   "execution_count": 47,
   "metadata": {},
   "outputs": [
    {
     "name": "stdout",
     "output_type": "stream",
     "text": [
      "['M' 'F' 'Indeterminado' nan]\n"
     ]
    }
   ],
   "source": [
    "print(train_data['SEXO'].unique())"
   ]
  },
  {
   "cell_type": "markdown",
   "metadata": {},
   "source": [
    "#### Agora com a remoção de valores redundantes, será tratados os valores NaN das colunas não numéricas"
   ]
  },
  {
   "cell_type": "markdown",
   "metadata": {},
   "source": [
    "Removendo NaN de CLASSE"
   ]
  },
  {
   "cell_type": "code",
   "execution_count": 48,
   "metadata": {},
   "outputs": [],
   "source": [
    "train_data = train_data.dropna(subset=['CLASSE'])"
   ]
  },
  {
   "cell_type": "code",
   "execution_count": 49,
   "metadata": {},
   "outputs": [
    {
     "name": "stdout",
     "output_type": "stream",
     "text": [
      "0\n"
     ]
    }
   ],
   "source": [
    "print(train_data['CLASSE'].isna().sum())"
   ]
  },
  {
   "cell_type": "markdown",
   "metadata": {},
   "source": [
    "Removendo NaN de PULSOS"
   ]
  },
  {
   "cell_type": "code",
   "execution_count": 50,
   "metadata": {},
   "outputs": [],
   "source": [
    "train_data = train_data.dropna(subset=[\"PULSOS\"])"
   ]
  },
  {
   "cell_type": "code",
   "execution_count": 51,
   "metadata": {},
   "outputs": [
    {
     "name": "stdout",
     "output_type": "stream",
     "text": [
      "0\n"
     ]
    }
   ],
   "source": [
    "print(train_data[\"PULSOS\"].isna().sum())"
   ]
  },
  {
   "cell_type": "markdown",
   "metadata": {},
   "source": [
    "Removendo NaN de B2"
   ]
  },
  {
   "cell_type": "code",
   "execution_count": 52,
   "metadata": {},
   "outputs": [],
   "source": [
    "train_data = train_data.dropna(subset=[\"B2\"])"
   ]
  },
  {
   "cell_type": "code",
   "execution_count": 53,
   "metadata": {},
   "outputs": [
    {
     "name": "stdout",
     "output_type": "stream",
     "text": [
      "0\n"
     ]
    }
   ],
   "source": [
    "print(train_data[\"B2\"].isna().sum())"
   ]
  },
  {
   "cell_type": "markdown",
   "metadata": {},
   "source": [
    "Sopro já não contém mais NaN"
   ]
  },
  {
   "cell_type": "code",
   "execution_count": 54,
   "metadata": {},
   "outputs": [
    {
     "name": "stdout",
     "output_type": "stream",
     "text": [
      "0\n"
     ]
    }
   ],
   "source": [
    "print(train_data[\"SOPRO\"].isna().sum())"
   ]
  },
  {
   "cell_type": "markdown",
   "metadata": {},
   "source": [
    "Como HDA 1 e HDA2 tem muitas amostrar com NaN, é mais interessane mantê-las ao invés de remove-las, por isso, substituiremos por 'Assintomáticos'. Visto que não há sintomas (NaN), assintomáticos é uma substituição válida."
   ]
  },
  {
   "cell_type": "code",
   "execution_count": 55,
   "metadata": {},
   "outputs": [],
   "source": [
    "train_data['HDA 1'] = train_data['HDA 1'].fillna('Assintomático')"
   ]
  },
  {
   "cell_type": "code",
   "execution_count": 56,
   "metadata": {},
   "outputs": [],
   "source": [
    "train_data[\"HDA2\"] = train_data[\"HDA2\"].fillna(\"Assintomático\")"
   ]
  },
  {
   "cell_type": "markdown",
   "metadata": {},
   "source": [
    "Iremos plotar os gráficos de HDA1 e HDA 2 novamente para ver as mudanças"
   ]
  },
  {
   "cell_type": "code",
   "execution_count": 57,
   "metadata": {},
   "outputs": [
    {
     "data": {
      "image/png": "[encoded data removed]",
      "text/plain": [
       "<Figure size 864x432 with 1 Axes>"
      ]
     },
     "metadata": {
      "needs_background": "light"
     },
     "output_type": "display_data"
    },
    {
     "data": {
      "image/png": "[encoded data removed]",
      "text/plain": [
       "<Figure size 864x432 with 1 Axes>"
      ]
     },
     "metadata": {
      "needs_background": "light"
     },
     "output_type": "display_data"
    }
   ],
   "source": [
    "plotar_grafico_barras(train_data, 'HDA 1', 'CLASSE')\n",
    "plotar_grafico_barras(train_data, 'HDA2', 'CLASSE')"
   ]
  },
  {
   "cell_type": "markdown",
   "metadata": {},
   "source": [
    "Removendo NaN de SEXO"
   ]
  },
  {
   "cell_type": "code",
   "execution_count": 58,
   "metadata": {},
   "outputs": [],
   "source": [
    "train_data = train_data.dropna(subset=[\"SEXO\"])"
   ]
  },
  {
   "cell_type": "code",
   "execution_count": 59,
   "metadata": {},
   "outputs": [
    {
     "name": "stdout",
     "output_type": "stream",
     "text": [
      "0\n"
     ]
    }
   ],
   "source": [
    "print(train_data[\"SEXO\"].isna().sum())"
   ]
  },
  {
   "cell_type": "markdown",
   "metadata": {},
   "source": [
    "Removendo NaN de MOTIVO1"
   ]
  },
  {
   "cell_type": "code",
   "execution_count": 60,
   "metadata": {},
   "outputs": [],
   "source": [
    "train_data = train_data.dropna(subset=[\"MOTIVO1\"])"
   ]
  },
  {
   "cell_type": "code",
   "execution_count": 61,
   "metadata": {},
   "outputs": [
    {
     "name": "stdout",
     "output_type": "stream",
     "text": [
      "0\n"
     ]
    }
   ],
   "source": [
    "print(train_data['MOTIVO1'].isna().sum())"
   ]
  },
  {
   "cell_type": "markdown",
   "metadata": {},
   "source": [
    "Removendo NaN de MOTIVO2 (ponto de atenção, pois são muitas amostras)"
   ]
  },
  {
   "cell_type": "code",
   "execution_count": 62,
   "metadata": {},
   "outputs": [],
   "source": [
    "train_data = train_data.dropna(subset=[\"MOTIVO2\"])"
   ]
  },
  {
   "cell_type": "code",
   "execution_count": 63,
   "metadata": {},
   "outputs": [
    {
     "name": "stdout",
     "output_type": "stream",
     "text": [
      "0\n"
     ]
    }
   ],
   "source": [
    "print(train_data[\"MOTIVO2\"].isna().sum())"
   ]
  },
  {
   "cell_type": "markdown",
   "metadata": {},
   "source": [
    "##### A colunaPA foi deixada por último pois não é necessário remover seus valores NaN e #VALUE!, pois é possível estimar com base na PA Sistolica e PA Diastolica.\n"
   ]
  },
  {
   "cell_type": "markdown",
   "metadata": {},
   "source": [
    "Primeiro, iremos converter todos os valores #VAlUE! e Não Calculado em NaN, para padronizar na substituição "
   ]
  },
  {
   "cell_type": "code",
   "execution_count": 64,
   "metadata": {},
   "outputs": [],
   "source": [
    "train_data['PPA'] = train_data['PPA'].replace('#VALUE!', np.nan)\n",
    "train_data[\"PPA\"] = train_data[\"PPA\"].replace(\"Não Calculado\", np.nan)"
   ]
  },
  {
   "cell_type": "code",
   "execution_count": 65,
   "metadata": {},
   "outputs": [
    {
     "data": {
      "text/html": [
       "<div>\n",
       "<style scoped>\n",
       "    .dataframe tbody tr th:only-of-type {\n",
       "        vertical-align: middle;\n",
       "    }\n",
       "\n",
       "    .dataframe tbody tr th {\n",
       "        vertical-align: top;\n",
       "    }\n",
       "\n",
       "    .dataframe thead th {\n",
       "        text-align: right;\n",
       "    }\n",
       "</style>\n",
       "<table border=\"1\" class=\"dataframe\">\n",
       "  <thead>\n",
       "    <tr style=\"text-align: right;\">\n",
       "      <th></th>\n",
       "      <th>Id</th>\n",
       "      <th>Peso</th>\n",
       "      <th>Altura</th>\n",
       "      <th>IMC</th>\n",
       "      <th>IDADE</th>\n",
       "      <th>PULSOS</th>\n",
       "      <th>PA SISTOLICA</th>\n",
       "      <th>PA DIASTOLICA</th>\n",
       "      <th>PPA</th>\n",
       "      <th>B2</th>\n",
       "      <th>SOPRO</th>\n",
       "      <th>FC</th>\n",
       "      <th>HDA 1</th>\n",
       "      <th>HDA2</th>\n",
       "      <th>SEXO</th>\n",
       "      <th>MOTIVO1</th>\n",
       "      <th>MOTIVO2</th>\n",
       "      <th>CLASSE</th>\n",
       "    </tr>\n",
       "  </thead>\n",
       "  <tbody>\n",
       "    <tr>\n",
       "      <th>0</th>\n",
       "      <td>10524</td>\n",
       "      <td>28.0</td>\n",
       "      <td>123</td>\n",
       "      <td>18.507502</td>\n",
       "      <td>5.79</td>\n",
       "      <td>Normais</td>\n",
       "      <td>110.000000</td>\n",
       "      <td>80.000000</td>\n",
       "      <td>HAS-1 PAD</td>\n",
       "      <td>Normal</td>\n",
       "      <td>ausente</td>\n",
       "      <td>100.0</td>\n",
       "      <td>Palpitacao</td>\n",
       "      <td>Assintomático</td>\n",
       "      <td>M</td>\n",
       "      <td>6 - Suspeita de cardiopatia</td>\n",
       "      <td>6 - Palpitação/taquicardia/arritmia</td>\n",
       "      <td>Normal</td>\n",
       "    </tr>\n",
       "    <tr>\n",
       "      <th>2</th>\n",
       "      <td>4483</td>\n",
       "      <td>13.0</td>\n",
       "      <td>87</td>\n",
       "      <td>17.175320</td>\n",
       "      <td>2.21</td>\n",
       "      <td>Normais</td>\n",
       "      <td>100.451033</td>\n",
       "      <td>61.860347</td>\n",
       "      <td>NaN</td>\n",
       "      <td>Normal</td>\n",
       "      <td>Sistólico</td>\n",
       "      <td>100.0</td>\n",
       "      <td>Assintomático</td>\n",
       "      <td>Assintomático</td>\n",
       "      <td>M</td>\n",
       "      <td>6 - Suspeita de cardiopatia</td>\n",
       "      <td>6 - Sopro</td>\n",
       "      <td>Anormal</td>\n",
       "    </tr>\n",
       "    <tr>\n",
       "      <th>5</th>\n",
       "      <td>15430</td>\n",
       "      <td>45.0</td>\n",
       "      <td>161</td>\n",
       "      <td>17.360441</td>\n",
       "      <td>7.60</td>\n",
       "      <td>Normais</td>\n",
       "      <td>120.000000</td>\n",
       "      <td>70.000000</td>\n",
       "      <td>HAS-1 PAS</td>\n",
       "      <td>Normal</td>\n",
       "      <td>ausente</td>\n",
       "      <td>80.0</td>\n",
       "      <td>Assintomático</td>\n",
       "      <td>Assintomático</td>\n",
       "      <td>M</td>\n",
       "      <td>5 - Parecer cardiológico</td>\n",
       "      <td>5 - Cirurgia</td>\n",
       "      <td>Normal</td>\n",
       "    </tr>\n",
       "    <tr>\n",
       "      <th>6</th>\n",
       "      <td>1023</td>\n",
       "      <td>18.5</td>\n",
       "      <td>105</td>\n",
       "      <td>16.780045</td>\n",
       "      <td>3.93</td>\n",
       "      <td>Normais</td>\n",
       "      <td>90.000000</td>\n",
       "      <td>60.000000</td>\n",
       "      <td>Normal</td>\n",
       "      <td>Normal</td>\n",
       "      <td>ausente</td>\n",
       "      <td>92.0</td>\n",
       "      <td>Assintomático</td>\n",
       "      <td>Assintomático</td>\n",
       "      <td>F</td>\n",
       "      <td>7 - Outro</td>\n",
       "      <td>Outro</td>\n",
       "      <td>Normal</td>\n",
       "    </tr>\n",
       "    <tr>\n",
       "      <th>8</th>\n",
       "      <td>14309</td>\n",
       "      <td>24.0</td>\n",
       "      <td>112</td>\n",
       "      <td>19.132653</td>\n",
       "      <td>5.27</td>\n",
       "      <td>Normais</td>\n",
       "      <td>100.000000</td>\n",
       "      <td>60.000000</td>\n",
       "      <td>Normal</td>\n",
       "      <td>Normal</td>\n",
       "      <td>ausente</td>\n",
       "      <td>100.0</td>\n",
       "      <td>Outro</td>\n",
       "      <td>Assintomático</td>\n",
       "      <td>M</td>\n",
       "      <td>6 - Suspeita de cardiopatia</td>\n",
       "      <td>6 - HAS/dislipidemia/obesidade</td>\n",
       "      <td>Normal</td>\n",
       "    </tr>\n",
       "    <tr>\n",
       "      <th>...</th>\n",
       "      <td>...</td>\n",
       "      <td>...</td>\n",
       "      <td>...</td>\n",
       "      <td>...</td>\n",
       "      <td>...</td>\n",
       "      <td>...</td>\n",
       "      <td>...</td>\n",
       "      <td>...</td>\n",
       "      <td>...</td>\n",
       "      <td>...</td>\n",
       "      <td>...</td>\n",
       "      <td>...</td>\n",
       "      <td>...</td>\n",
       "      <td>...</td>\n",
       "      <td>...</td>\n",
       "      <td>...</td>\n",
       "      <td>...</td>\n",
       "      <td>...</td>\n",
       "    </tr>\n",
       "    <tr>\n",
       "      <th>14716</th>\n",
       "      <td>390</td>\n",
       "      <td>25.0</td>\n",
       "      <td>110</td>\n",
       "      <td>20.661157</td>\n",
       "      <td>5.15</td>\n",
       "      <td>Normais</td>\n",
       "      <td>100.451033</td>\n",
       "      <td>61.860347</td>\n",
       "      <td>NaN</td>\n",
       "      <td>Normal</td>\n",
       "      <td>ausente</td>\n",
       "      <td>92.0</td>\n",
       "      <td>Assintomático</td>\n",
       "      <td>Assintomático</td>\n",
       "      <td>F</td>\n",
       "      <td>5 - Parecer cardiológico</td>\n",
       "      <td>5 - Cirurgia</td>\n",
       "      <td>Normal</td>\n",
       "    </tr>\n",
       "    <tr>\n",
       "      <th>14717</th>\n",
       "      <td>14869</td>\n",
       "      <td>10.0</td>\n",
       "      <td>70</td>\n",
       "      <td>20.408163</td>\n",
       "      <td>0.60</td>\n",
       "      <td>Normais</td>\n",
       "      <td>100.451033</td>\n",
       "      <td>61.860347</td>\n",
       "      <td>NaN</td>\n",
       "      <td>Normal</td>\n",
       "      <td>ausente</td>\n",
       "      <td>112.0</td>\n",
       "      <td>Assintomático</td>\n",
       "      <td>Assintomático</td>\n",
       "      <td>M</td>\n",
       "      <td>6 - Suspeita de cardiopatia</td>\n",
       "      <td>Outro</td>\n",
       "      <td>Normal</td>\n",
       "    </tr>\n",
       "    <tr>\n",
       "      <th>14719</th>\n",
       "      <td>9673</td>\n",
       "      <td>16.7</td>\n",
       "      <td>100</td>\n",
       "      <td>16.700000</td>\n",
       "      <td>3.49</td>\n",
       "      <td>Normais</td>\n",
       "      <td>90.000000</td>\n",
       "      <td>60.000000</td>\n",
       "      <td>Normal</td>\n",
       "      <td>Normal</td>\n",
       "      <td>ausente</td>\n",
       "      <td>120.0</td>\n",
       "      <td>Assintomático</td>\n",
       "      <td>Assintomático</td>\n",
       "      <td>F</td>\n",
       "      <td>6 - Suspeita de cardiopatia</td>\n",
       "      <td>6 - Dor precordial</td>\n",
       "      <td>Normal</td>\n",
       "    </tr>\n",
       "    <tr>\n",
       "      <th>14723</th>\n",
       "      <td>3249</td>\n",
       "      <td>30.0</td>\n",
       "      <td>113</td>\n",
       "      <td>23.494401</td>\n",
       "      <td>4.97</td>\n",
       "      <td>Normais</td>\n",
       "      <td>105.000000</td>\n",
       "      <td>70.000000</td>\n",
       "      <td>Pre-Hipertensão PAD</td>\n",
       "      <td>Normal</td>\n",
       "      <td>Sistólico</td>\n",
       "      <td>92.0</td>\n",
       "      <td>Dispneia</td>\n",
       "      <td>Palpitacao</td>\n",
       "      <td>F</td>\n",
       "      <td>6 - Suspeita de cardiopatia</td>\n",
       "      <td>6 - Dispnéia</td>\n",
       "      <td>Anormal</td>\n",
       "    </tr>\n",
       "    <tr>\n",
       "      <th>14724</th>\n",
       "      <td>3207</td>\n",
       "      <td>25.8</td>\n",
       "      <td>130</td>\n",
       "      <td>15.266272</td>\n",
       "      <td>7.69</td>\n",
       "      <td>Normais</td>\n",
       "      <td>90.000000</td>\n",
       "      <td>55.000000</td>\n",
       "      <td>Normal</td>\n",
       "      <td>Normal</td>\n",
       "      <td>ausente</td>\n",
       "      <td>78.0</td>\n",
       "      <td>Assintomático</td>\n",
       "      <td>Assintomático</td>\n",
       "      <td>M</td>\n",
       "      <td>6 - Suspeita de cardiopatia</td>\n",
       "      <td>6 - Sopro</td>\n",
       "      <td>Normal</td>\n",
       "    </tr>\n",
       "  </tbody>\n",
       "</table>\n",
       "<p>7558 rows × 18 columns</p>\n",
       "</div>"
      ],
      "text/plain": [
       "          Id  Peso  Altura        IMC  IDADE   PULSOS  PA SISTOLICA  \\\n",
       "0      10524  28.0     123  18.507502   5.79  Normais    110.000000   \n",
       "2       4483  13.0      87  17.175320   2.21  Normais    100.451033   \n",
       "5      15430  45.0     161  17.360441   7.60  Normais    120.000000   \n",
       "6       1023  18.5     105  16.780045   3.93  Normais     90.000000   \n",
       "8      14309  24.0     112  19.132653   5.27  Normais    100.000000   \n",
       "...      ...   ...     ...        ...    ...      ...           ...   \n",
       "14716    390  25.0     110  20.661157   5.15  Normais    100.451033   \n",
       "14717  14869  10.0      70  20.408163   0.60  Normais    100.451033   \n",
       "14719   9673  16.7     100  16.700000   3.49  Normais     90.000000   \n",
       "14723   3249  30.0     113  23.494401   4.97  Normais    105.000000   \n",
       "14724   3207  25.8     130  15.266272   7.69  Normais     90.000000   \n",
       "\n",
       "       PA DIASTOLICA                  PPA      B2      SOPRO     FC  \\\n",
       "0          80.000000            HAS-1 PAD  Normal    ausente  100.0   \n",
       "2          61.860347                  NaN  Normal  Sistólico  100.0   \n",
       "5          70.000000            HAS-1 PAS  Normal    ausente   80.0   \n",
       "6          60.000000               Normal  Normal    ausente   92.0   \n",
       "8          60.000000               Normal  Normal    ausente  100.0   \n",
       "...              ...                  ...     ...        ...    ...   \n",
       "14716      61.860347                  NaN  Normal    ausente   92.0   \n",
       "14717      61.860347                  NaN  Normal    ausente  112.0   \n",
       "14719      60.000000               Normal  Normal    ausente  120.0   \n",
       "14723      70.000000  Pre-Hipertensão PAD  Normal  Sistólico   92.0   \n",
       "14724      55.000000               Normal  Normal    ausente   78.0   \n",
       "\n",
       "               HDA 1           HDA2 SEXO                      MOTIVO1  \\\n",
       "0         Palpitacao  Assintomático    M  6 - Suspeita de cardiopatia   \n",
       "2      Assintomático  Assintomático    M  6 - Suspeita de cardiopatia   \n",
       "5      Assintomático  Assintomático    M     5 - Parecer cardiológico   \n",
       "6      Assintomático  Assintomático    F                    7 - Outro   \n",
       "8              Outro  Assintomático    M  6 - Suspeita de cardiopatia   \n",
       "...              ...            ...  ...                          ...   \n",
       "14716  Assintomático  Assintomático    F     5 - Parecer cardiológico   \n",
       "14717  Assintomático  Assintomático    M  6 - Suspeita de cardiopatia   \n",
       "14719  Assintomático  Assintomático    F  6 - Suspeita de cardiopatia   \n",
       "14723       Dispneia     Palpitacao    F  6 - Suspeita de cardiopatia   \n",
       "14724  Assintomático  Assintomático    M  6 - Suspeita de cardiopatia   \n",
       "\n",
       "                                   MOTIVO2   CLASSE  \n",
       "0      6 - Palpitação/taquicardia/arritmia   Normal  \n",
       "2                                6 - Sopro  Anormal  \n",
       "5                             5 - Cirurgia   Normal  \n",
       "6                                    Outro   Normal  \n",
       "8           6 - HAS/dislipidemia/obesidade   Normal  \n",
       "...                                    ...      ...  \n",
       "14716                         5 - Cirurgia   Normal  \n",
       "14717                                Outro   Normal  \n",
       "14719                   6 - Dor precordial   Normal  \n",
       "14723                         6 - Dispnéia  Anormal  \n",
       "14724                            6 - Sopro   Normal  \n",
       "\n",
       "[7558 rows x 18 columns]"
      ]
     },
     "metadata": {},
     "output_type": "display_data"
    }
   ],
   "source": [
    "display(train_data)"
   ]
  },
  {
   "cell_type": "markdown",
   "metadata": {},
   "source": [
    "Com base em estimativas, usaresmos os valores de PA Sistolica e PA Diastolica para classificar o PPA."
   ]
  },
  {
   "cell_type": "code",
   "execution_count": 66,
   "metadata": {},
   "outputs": [],
   "source": [
    "# Itera sobre cada linha do df\n",
    "# se o valor de PPA for NaN, substitui-o com base na função de clasificacao\n",
    "for index, linha in train_data.iterrows():\n",
    "    if pd.isna(linha[\"PPA\"]):  \n",
    "        train_data.at[index, \"PPA\"] = classificar_ppa_completo(\n",
    "            linha[\"PA SISTOLICA\"], linha[\"PA DIASTOLICA\"]\n",
    "        )"
   ]
  },
  {
   "cell_type": "code",
   "execution_count": 67,
   "metadata": {},
   "outputs": [
    {
     "data": {
      "image/png": "[encoded data removed]",
      "text/plain": [
       "<Figure size 864x432 with 1 Axes>"
      ]
     },
     "metadata": {
      "needs_background": "light"
     },
     "output_type": "display_data"
    }
   ],
   "source": [
    "plotar_grafico_barras(train_data, 'PPA', 'CLASSE')"
   ]
  },
  {
   "cell_type": "markdown",
   "metadata": {},
   "source": [
    "Verificando se ainda há valores NaN"
   ]
  },
  {
   "cell_type": "code",
   "execution_count": 68,
   "metadata": {},
   "outputs": [
    {
     "name": "stdout",
     "output_type": "stream",
     "text": [
      "Id               0\n",
      "Peso             0\n",
      "Altura           0\n",
      "IMC              0\n",
      "IDADE            0\n",
      "PULSOS           0\n",
      "PA SISTOLICA     0\n",
      "PA DIASTOLICA    0\n",
      "PPA              0\n",
      "B2               0\n",
      "SOPRO            0\n",
      "FC               0\n",
      "HDA 1            0\n",
      "HDA2             0\n",
      "SEXO             0\n",
      "MOTIVO1          0\n",
      "MOTIVO2          0\n",
      "CLASSE           0\n",
      "dtype: int64\n"
     ]
    }
   ],
   "source": [
    "print(train_data.isna().sum())"
   ]
  },
  {
   "cell_type": "markdown",
   "metadata": {},
   "source": [
    "Com todos os NaN removidos de todas as colunas, agora iremos mapear as colunas não numéricas em valores numéricos, afim de poder treinar o modelo."
   ]
  },
  {
   "cell_type": "code",
   "execution_count": 69,
   "metadata": {},
   "outputs": [],
   "source": [
    "from sklearn.preprocessing import LabelEncoder"
   ]
  },
  {
   "cell_type": "code",
   "execution_count": 70,
   "metadata": {},
   "outputs": [],
   "source": [
    "lencoder = LabelEncoder()"
   ]
  },
  {
   "cell_type": "code",
   "execution_count": 71,
   "metadata": {},
   "outputs": [],
   "source": [
    "pulsos_num = lencoder.fit_transform(train_data[\"PULSOS\"])\n",
    "ppa_num = lencoder.fit_transform(train_data[\"PPA\"])\n",
    "b2_num = lencoder.fit_transform(train_data[\"B2\"])\n",
    "sopro_num = lencoder.fit_transform(train_data[\"SOPRO\"])\n",
    "hda1_num = lencoder.fit_transform(train_data[\"HDA 1\"])\n",
    "hda2_num = lencoder.fit_transform(train_data[\"HDA2\"])\n",
    "sexo_num = lencoder.fit_transform(train_data[\"SEXO\"])\n",
    "motivo1_num = lencoder.fit_transform(train_data[\"MOTIVO1\"])\n",
    "motivo2_num = lencoder.fit_transform(train_data[\"MOTIVO2\"])\n",
    "classe_num = lencoder.fit_transform(train_data[\"CLASSE\"])"
   ]
  },
  {
   "cell_type": "code",
   "execution_count": 72,
   "metadata": {},
   "outputs": [],
   "source": [
    "train_data[\"PULSOS\"] = pulsos_num\n",
    "train_data[\"PPA\"] = ppa_num\n",
    "train_data[\"B2\"] = b2_num\n",
    "train_data[\"SOPRO\"] = sopro_num\n",
    "train_data[\"HDA 1\"] = hda1_num\n",
    "train_data[\"HDA2\"] = hda2_num\n",
    "train_data[\"SEXO\"] = sexo_num\n",
    "train_data[\"MOTIVO1\"] = motivo1_num\n",
    "train_data[\"MOTIVO2\"] = motivo2_num\n",
    "train_data[\"CLASSE\"] = classe_num"
   ]
  },
  {
   "cell_type": "code",
   "execution_count": 73,
   "metadata": {},
   "outputs": [
    {
     "data": {
      "text/html": [
       "<div>\n",
       "<style scoped>\n",
       "    .dataframe tbody tr th:only-of-type {\n",
       "        vertical-align: middle;\n",
       "    }\n",
       "\n",
       "    .dataframe tbody tr th {\n",
       "        vertical-align: top;\n",
       "    }\n",
       "\n",
       "    .dataframe thead th {\n",
       "        text-align: right;\n",
       "    }\n",
       "</style>\n",
       "<table border=\"1\" class=\"dataframe\">\n",
       "  <thead>\n",
       "    <tr style=\"text-align: right;\">\n",
       "      <th></th>\n",
       "      <th>Id</th>\n",
       "      <th>Peso</th>\n",
       "      <th>Altura</th>\n",
       "      <th>IMC</th>\n",
       "      <th>IDADE</th>\n",
       "      <th>PULSOS</th>\n",
       "      <th>PA SISTOLICA</th>\n",
       "      <th>PA DIASTOLICA</th>\n",
       "      <th>PPA</th>\n",
       "      <th>B2</th>\n",
       "      <th>SOPRO</th>\n",
       "      <th>FC</th>\n",
       "      <th>HDA 1</th>\n",
       "      <th>HDA2</th>\n",
       "      <th>SEXO</th>\n",
       "      <th>MOTIVO1</th>\n",
       "      <th>MOTIVO2</th>\n",
       "      <th>CLASSE</th>\n",
       "    </tr>\n",
       "  </thead>\n",
       "  <tbody>\n",
       "    <tr>\n",
       "      <th>0</th>\n",
       "      <td>10524</td>\n",
       "      <td>28.0</td>\n",
       "      <td>123</td>\n",
       "      <td>18.507502</td>\n",
       "      <td>5.79</td>\n",
       "      <td>3</td>\n",
       "      <td>110.000000</td>\n",
       "      <td>80.000000</td>\n",
       "      <td>0</td>\n",
       "      <td>2</td>\n",
       "      <td>3</td>\n",
       "      <td>100.0</td>\n",
       "      <td>7</td>\n",
       "      <td>0</td>\n",
       "      <td>2</td>\n",
       "      <td>3</td>\n",
       "      <td>13</td>\n",
       "      <td>1</td>\n",
       "    </tr>\n",
       "    <tr>\n",
       "      <th>2</th>\n",
       "      <td>4483</td>\n",
       "      <td>13.0</td>\n",
       "      <td>87</td>\n",
       "      <td>17.175320</td>\n",
       "      <td>2.21</td>\n",
       "      <td>3</td>\n",
       "      <td>100.451033</td>\n",
       "      <td>61.860347</td>\n",
       "      <td>4</td>\n",
       "      <td>2</td>\n",
       "      <td>2</td>\n",
       "      <td>100.0</td>\n",
       "      <td>0</td>\n",
       "      <td>0</td>\n",
       "      <td>2</td>\n",
       "      <td>3</td>\n",
       "      <td>14</td>\n",
       "      <td>0</td>\n",
       "    </tr>\n",
       "    <tr>\n",
       "      <th>5</th>\n",
       "      <td>15430</td>\n",
       "      <td>45.0</td>\n",
       "      <td>161</td>\n",
       "      <td>17.360441</td>\n",
       "      <td>7.60</td>\n",
       "      <td>3</td>\n",
       "      <td>120.000000</td>\n",
       "      <td>70.000000</td>\n",
       "      <td>1</td>\n",
       "      <td>2</td>\n",
       "      <td>3</td>\n",
       "      <td>80.0</td>\n",
       "      <td>0</td>\n",
       "      <td>0</td>\n",
       "      <td>2</td>\n",
       "      <td>2</td>\n",
       "      <td>3</td>\n",
       "      <td>1</td>\n",
       "    </tr>\n",
       "    <tr>\n",
       "      <th>6</th>\n",
       "      <td>1023</td>\n",
       "      <td>18.5</td>\n",
       "      <td>105</td>\n",
       "      <td>16.780045</td>\n",
       "      <td>3.93</td>\n",
       "      <td>3</td>\n",
       "      <td>90.000000</td>\n",
       "      <td>60.000000</td>\n",
       "      <td>4</td>\n",
       "      <td>2</td>\n",
       "      <td>3</td>\n",
       "      <td>92.0</td>\n",
       "      <td>0</td>\n",
       "      <td>0</td>\n",
       "      <td>0</td>\n",
       "      <td>4</td>\n",
       "      <td>15</td>\n",
       "      <td>1</td>\n",
       "    </tr>\n",
       "    <tr>\n",
       "      <th>8</th>\n",
       "      <td>14309</td>\n",
       "      <td>24.0</td>\n",
       "      <td>112</td>\n",
       "      <td>19.132653</td>\n",
       "      <td>5.27</td>\n",
       "      <td>3</td>\n",
       "      <td>100.000000</td>\n",
       "      <td>60.000000</td>\n",
       "      <td>4</td>\n",
       "      <td>2</td>\n",
       "      <td>3</td>\n",
       "      <td>100.0</td>\n",
       "      <td>6</td>\n",
       "      <td>0</td>\n",
       "      <td>2</td>\n",
       "      <td>3</td>\n",
       "      <td>12</td>\n",
       "      <td>1</td>\n",
       "    </tr>\n",
       "    <tr>\n",
       "      <th>...</th>\n",
       "      <td>...</td>\n",
       "      <td>...</td>\n",
       "      <td>...</td>\n",
       "      <td>...</td>\n",
       "      <td>...</td>\n",
       "      <td>...</td>\n",
       "      <td>...</td>\n",
       "      <td>...</td>\n",
       "      <td>...</td>\n",
       "      <td>...</td>\n",
       "      <td>...</td>\n",
       "      <td>...</td>\n",
       "      <td>...</td>\n",
       "      <td>...</td>\n",
       "      <td>...</td>\n",
       "      <td>...</td>\n",
       "      <td>...</td>\n",
       "      <td>...</td>\n",
       "    </tr>\n",
       "    <tr>\n",
       "      <th>14716</th>\n",
       "      <td>390</td>\n",
       "      <td>25.0</td>\n",
       "      <td>110</td>\n",
       "      <td>20.661157</td>\n",
       "      <td>5.15</td>\n",
       "      <td>3</td>\n",
       "      <td>100.451033</td>\n",
       "      <td>61.860347</td>\n",
       "      <td>4</td>\n",
       "      <td>2</td>\n",
       "      <td>3</td>\n",
       "      <td>92.0</td>\n",
       "      <td>0</td>\n",
       "      <td>0</td>\n",
       "      <td>0</td>\n",
       "      <td>2</td>\n",
       "      <td>3</td>\n",
       "      <td>1</td>\n",
       "    </tr>\n",
       "    <tr>\n",
       "      <th>14717</th>\n",
       "      <td>14869</td>\n",
       "      <td>10.0</td>\n",
       "      <td>70</td>\n",
       "      <td>20.408163</td>\n",
       "      <td>0.60</td>\n",
       "      <td>3</td>\n",
       "      <td>100.451033</td>\n",
       "      <td>61.860347</td>\n",
       "      <td>4</td>\n",
       "      <td>2</td>\n",
       "      <td>3</td>\n",
       "      <td>112.0</td>\n",
       "      <td>0</td>\n",
       "      <td>0</td>\n",
       "      <td>2</td>\n",
       "      <td>3</td>\n",
       "      <td>15</td>\n",
       "      <td>1</td>\n",
       "    </tr>\n",
       "    <tr>\n",
       "      <th>14719</th>\n",
       "      <td>9673</td>\n",
       "      <td>16.7</td>\n",
       "      <td>100</td>\n",
       "      <td>16.700000</td>\n",
       "      <td>3.49</td>\n",
       "      <td>3</td>\n",
       "      <td>90.000000</td>\n",
       "      <td>60.000000</td>\n",
       "      <td>4</td>\n",
       "      <td>2</td>\n",
       "      <td>3</td>\n",
       "      <td>120.0</td>\n",
       "      <td>0</td>\n",
       "      <td>0</td>\n",
       "      <td>0</td>\n",
       "      <td>3</td>\n",
       "      <td>11</td>\n",
       "      <td>1</td>\n",
       "    </tr>\n",
       "    <tr>\n",
       "      <th>14723</th>\n",
       "      <td>3249</td>\n",
       "      <td>30.0</td>\n",
       "      <td>113</td>\n",
       "      <td>23.494401</td>\n",
       "      <td>4.97</td>\n",
       "      <td>3</td>\n",
       "      <td>105.000000</td>\n",
       "      <td>70.000000</td>\n",
       "      <td>5</td>\n",
       "      <td>2</td>\n",
       "      <td>2</td>\n",
       "      <td>92.0</td>\n",
       "      <td>3</td>\n",
       "      <td>7</td>\n",
       "      <td>0</td>\n",
       "      <td>3</td>\n",
       "      <td>10</td>\n",
       "      <td>0</td>\n",
       "    </tr>\n",
       "    <tr>\n",
       "      <th>14724</th>\n",
       "      <td>3207</td>\n",
       "      <td>25.8</td>\n",
       "      <td>130</td>\n",
       "      <td>15.266272</td>\n",
       "      <td>7.69</td>\n",
       "      <td>3</td>\n",
       "      <td>90.000000</td>\n",
       "      <td>55.000000</td>\n",
       "      <td>4</td>\n",
       "      <td>2</td>\n",
       "      <td>3</td>\n",
       "      <td>78.0</td>\n",
       "      <td>0</td>\n",
       "      <td>0</td>\n",
       "      <td>2</td>\n",
       "      <td>3</td>\n",
       "      <td>14</td>\n",
       "      <td>1</td>\n",
       "    </tr>\n",
       "  </tbody>\n",
       "</table>\n",
       "<p>7558 rows × 18 columns</p>\n",
       "</div>"
      ],
      "text/plain": [
       "          Id  Peso  Altura        IMC  IDADE  PULSOS  PA SISTOLICA  \\\n",
       "0      10524  28.0     123  18.507502   5.79       3    110.000000   \n",
       "2       4483  13.0      87  17.175320   2.21       3    100.451033   \n",
       "5      15430  45.0     161  17.360441   7.60       3    120.000000   \n",
       "6       1023  18.5     105  16.780045   3.93       3     90.000000   \n",
       "8      14309  24.0     112  19.132653   5.27       3    100.000000   \n",
       "...      ...   ...     ...        ...    ...     ...           ...   \n",
       "14716    390  25.0     110  20.661157   5.15       3    100.451033   \n",
       "14717  14869  10.0      70  20.408163   0.60       3    100.451033   \n",
       "14719   9673  16.7     100  16.700000   3.49       3     90.000000   \n",
       "14723   3249  30.0     113  23.494401   4.97       3    105.000000   \n",
       "14724   3207  25.8     130  15.266272   7.69       3     90.000000   \n",
       "\n",
       "       PA DIASTOLICA  PPA  B2  SOPRO     FC  HDA 1  HDA2  SEXO  MOTIVO1  \\\n",
       "0          80.000000    0   2      3  100.0      7     0     2        3   \n",
       "2          61.860347    4   2      2  100.0      0     0     2        3   \n",
       "5          70.000000    1   2      3   80.0      0     0     2        2   \n",
       "6          60.000000    4   2      3   92.0      0     0     0        4   \n",
       "8          60.000000    4   2      3  100.0      6     0     2        3   \n",
       "...              ...  ...  ..    ...    ...    ...   ...   ...      ...   \n",
       "14716      61.860347    4   2      3   92.0      0     0     0        2   \n",
       "14717      61.860347    4   2      3  112.0      0     0     2        3   \n",
       "14719      60.000000    4   2      3  120.0      0     0     0        3   \n",
       "14723      70.000000    5   2      2   92.0      3     7     0        3   \n",
       "14724      55.000000    4   2      3   78.0      0     0     2        3   \n",
       "\n",
       "       MOTIVO2  CLASSE  \n",
       "0           13       1  \n",
       "2           14       0  \n",
       "5            3       1  \n",
       "6           15       1  \n",
       "8           12       1  \n",
       "...        ...     ...  \n",
       "14716        3       1  \n",
       "14717       15       1  \n",
       "14719       11       1  \n",
       "14723       10       0  \n",
       "14724       14       1  \n",
       "\n",
       "[7558 rows x 18 columns]"
      ]
     },
     "metadata": {},
     "output_type": "display_data"
    }
   ],
   "source": [
    "display(train_data)"
   ]
  },
  {
   "cell_type": "markdown",
   "metadata": {},
   "source": [
    "Agora com os dados tratados, podemos plotar uma matriz de correlação para mostrar como os atributos se relacionam"
   ]
  },
  {
   "cell_type": "code",
   "execution_count": 74,
   "metadata": {},
   "outputs": [
    {
     "data": {
      "image/png": "[encoded data removed]",
      "text/plain": [
       "<Figure size 864x720 with 2 Axes>"
      ]
     },
     "metadata": {
      "needs_background": "light"
     },
     "output_type": "display_data"
    }
   ],
   "source": [
    "plotar_correlacao(train_data)"
   ]
  },
  {
   "cell_type": "markdown",
   "metadata": {},
   "source": [
    "Como dito anteriormente, a classe tem forte relação com o atributo SOPRO, o que deve ser levado em consideraçãp"
   ]
  },
  {
   "cell_type": "markdown",
   "metadata": {},
   "source": [
    "#### Após processar os dados de treinamento, iremos processar os dados de teste"
   ]
  },
  {
   "cell_type": "code",
   "execution_count": 75,
   "metadata": {},
   "outputs": [
    {
     "data": {
      "text/html": [
       "<div>\n",
       "<style scoped>\n",
       "    .dataframe tbody tr th:only-of-type {\n",
       "        vertical-align: middle;\n",
       "    }\n",
       "\n",
       "    .dataframe tbody tr th {\n",
       "        vertical-align: top;\n",
       "    }\n",
       "\n",
       "    .dataframe thead th {\n",
       "        text-align: right;\n",
       "    }\n",
       "</style>\n",
       "<table border=\"1\" class=\"dataframe\">\n",
       "  <thead>\n",
       "    <tr style=\"text-align: right;\">\n",
       "      <th></th>\n",
       "      <th>Id</th>\n",
       "      <th>Peso</th>\n",
       "      <th>Altura</th>\n",
       "      <th>IMC</th>\n",
       "      <th>Atendimento</th>\n",
       "      <th>DN</th>\n",
       "      <th>IDADE</th>\n",
       "      <th>Convenio</th>\n",
       "      <th>PULSOS</th>\n",
       "      <th>PA SISTOLICA</th>\n",
       "      <th>PA DIASTOLICA</th>\n",
       "      <th>PPA</th>\n",
       "      <th>B2</th>\n",
       "      <th>SOPRO</th>\n",
       "      <th>FC</th>\n",
       "      <th>HDA 1</th>\n",
       "      <th>HDA2</th>\n",
       "      <th>SEXO</th>\n",
       "      <th>MOTIVO1</th>\n",
       "      <th>MOTIVO2</th>\n",
       "    </tr>\n",
       "  </thead>\n",
       "  <tbody>\n",
       "    <tr>\n",
       "      <th>0</th>\n",
       "      <td>8957</td>\n",
       "      <td>4.5</td>\n",
       "      <td>54</td>\n",
       "      <td>15.0</td>\n",
       "      <td>03/08/09</td>\n",
       "      <td>11/06/09</td>\n",
       "      <td>0.15</td>\n",
       "      <td>NaN</td>\n",
       "      <td>Normais</td>\n",
       "      <td>NaN</td>\n",
       "      <td>NaN</td>\n",
       "      <td>Não Calculado</td>\n",
       "      <td>Normal</td>\n",
       "      <td>ausente</td>\n",
       "      <td>110</td>\n",
       "      <td>Dispneia</td>\n",
       "      <td>Outro</td>\n",
       "      <td>F</td>\n",
       "      <td>2 - Check-up</td>\n",
       "      <td>NaN</td>\n",
       "    </tr>\n",
       "    <tr>\n",
       "      <th>1</th>\n",
       "      <td>4246</td>\n",
       "      <td>42.4</td>\n",
       "      <td>150</td>\n",
       "      <td>19.0</td>\n",
       "      <td>23/02/06</td>\n",
       "      <td>03/03/94</td>\n",
       "      <td>12.43</td>\n",
       "      <td>MEDISE</td>\n",
       "      <td>Normais</td>\n",
       "      <td>NaN</td>\n",
       "      <td>NaN</td>\n",
       "      <td>Não Calculado</td>\n",
       "      <td>Normal</td>\n",
       "      <td>ausente</td>\n",
       "      <td>84</td>\n",
       "      <td>Assintomático</td>\n",
       "      <td>NaN</td>\n",
       "      <td>M</td>\n",
       "      <td>5 - Parecer cardiológico</td>\n",
       "      <td>5 - Atividade física</td>\n",
       "    </tr>\n",
       "    <tr>\n",
       "      <th>2</th>\n",
       "      <td>9089</td>\n",
       "      <td>18.1</td>\n",
       "      <td>104</td>\n",
       "      <td>17.0</td>\n",
       "      <td>16/10/07</td>\n",
       "      <td>08/02/04</td>\n",
       "      <td>3.82</td>\n",
       "      <td>CAMED</td>\n",
       "      <td>Normais</td>\n",
       "      <td>130.0</td>\n",
       "      <td>90.0</td>\n",
       "      <td>HAS-2 PAS</td>\n",
       "      <td>Normal</td>\n",
       "      <td>ausente</td>\n",
       "      <td>100</td>\n",
       "      <td>Cianose</td>\n",
       "      <td>NaN</td>\n",
       "      <td>M</td>\n",
       "      <td>5 - Parecer cardiológico</td>\n",
       "      <td>NaN</td>\n",
       "    </tr>\n",
       "    <tr>\n",
       "      <th>3</th>\n",
       "      <td>10606</td>\n",
       "      <td>7.7</td>\n",
       "      <td>0</td>\n",
       "      <td>NaN</td>\n",
       "      <td>09/08/04</td>\n",
       "      <td>27/11/03</td>\n",
       "      <td>0.73</td>\n",
       "      <td>SULA</td>\n",
       "      <td>Normais</td>\n",
       "      <td>NaN</td>\n",
       "      <td>NaN</td>\n",
       "      <td>Não Calculado</td>\n",
       "      <td>Normal</td>\n",
       "      <td>ausente</td>\n",
       "      <td>98</td>\n",
       "      <td>Assintomático</td>\n",
       "      <td>NaN</td>\n",
       "      <td>F</td>\n",
       "      <td>1 - Cardiopatia já estabelecida</td>\n",
       "      <td>1 - Cardiopatia congenica</td>\n",
       "    </tr>\n",
       "    <tr>\n",
       "      <th>4</th>\n",
       "      <td>9863</td>\n",
       "      <td>16.0</td>\n",
       "      <td>0</td>\n",
       "      <td>NaN</td>\n",
       "      <td>04/07/08</td>\n",
       "      <td>29/08/04</td>\n",
       "      <td>3.99</td>\n",
       "      <td>NORCLIN.</td>\n",
       "      <td>Normais</td>\n",
       "      <td>NaN</td>\n",
       "      <td>NaN</td>\n",
       "      <td>Não Calculado</td>\n",
       "      <td>Normal</td>\n",
       "      <td>ausente</td>\n",
       "      <td>90</td>\n",
       "      <td>Assintomático</td>\n",
       "      <td>NaN</td>\n",
       "      <td>F</td>\n",
       "      <td>5 - Parecer cardiológico</td>\n",
       "      <td>5 - Cirurgia</td>\n",
       "    </tr>\n",
       "    <tr>\n",
       "      <th>...</th>\n",
       "      <td>...</td>\n",
       "      <td>...</td>\n",
       "      <td>...</td>\n",
       "      <td>...</td>\n",
       "      <td>...</td>\n",
       "      <td>...</td>\n",
       "      <td>...</td>\n",
       "      <td>...</td>\n",
       "      <td>...</td>\n",
       "      <td>...</td>\n",
       "      <td>...</td>\n",
       "      <td>...</td>\n",
       "      <td>...</td>\n",
       "      <td>...</td>\n",
       "      <td>...</td>\n",
       "      <td>...</td>\n",
       "      <td>...</td>\n",
       "      <td>...</td>\n",
       "      <td>...</td>\n",
       "      <td>...</td>\n",
       "    </tr>\n",
       "    <tr>\n",
       "      <th>3141</th>\n",
       "      <td>14053</td>\n",
       "      <td>0.0</td>\n",
       "      <td>0</td>\n",
       "      <td>NaN</td>\n",
       "      <td>16/09/09</td>\n",
       "      <td>19/04/02</td>\n",
       "      <td>7.69</td>\n",
       "      <td>FUSEX</td>\n",
       "      <td>Normais</td>\n",
       "      <td>100.0</td>\n",
       "      <td>70.0</td>\n",
       "      <td>Não Calculado</td>\n",
       "      <td>Normal</td>\n",
       "      <td>ausente</td>\n",
       "      <td>72</td>\n",
       "      <td>NaN</td>\n",
       "      <td>NaN</td>\n",
       "      <td>M</td>\n",
       "      <td>2 - Check-up</td>\n",
       "      <td>NaN</td>\n",
       "    </tr>\n",
       "    <tr>\n",
       "      <th>3142</th>\n",
       "      <td>9000</td>\n",
       "      <td>0.0</td>\n",
       "      <td>0</td>\n",
       "      <td>NaN</td>\n",
       "      <td>12/01/05</td>\n",
       "      <td>06/11/95</td>\n",
       "      <td>9.529999999999999</td>\n",
       "      <td>GS</td>\n",
       "      <td>Normais</td>\n",
       "      <td>90.0</td>\n",
       "      <td>50.0</td>\n",
       "      <td>Não Calculado</td>\n",
       "      <td>Normal</td>\n",
       "      <td>Sistólico</td>\n",
       "      <td>82</td>\n",
       "      <td>Dor precordial</td>\n",
       "      <td>NaN</td>\n",
       "      <td>F</td>\n",
       "      <td>6 - Suspeita de cardiopatia</td>\n",
       "      <td>6 - Dor precordial</td>\n",
       "    </tr>\n",
       "    <tr>\n",
       "      <th>3143</th>\n",
       "      <td>14643</td>\n",
       "      <td>46.0</td>\n",
       "      <td>151</td>\n",
       "      <td>20.0</td>\n",
       "      <td>18/02/04</td>\n",
       "      <td>20/10/90</td>\n",
       "      <td>13.83</td>\n",
       "      <td>UR</td>\n",
       "      <td>Normais</td>\n",
       "      <td>120.0</td>\n",
       "      <td>60.0</td>\n",
       "      <td>Normal</td>\n",
       "      <td>Normal</td>\n",
       "      <td>Sistólico</td>\n",
       "      <td>96</td>\n",
       "      <td>Dispneia</td>\n",
       "      <td>NaN</td>\n",
       "      <td>F</td>\n",
       "      <td>6 - Suspeita de cardiopatia</td>\n",
       "      <td>6 - Dor precordial</td>\n",
       "    </tr>\n",
       "    <tr>\n",
       "      <th>3144</th>\n",
       "      <td>15107</td>\n",
       "      <td>NaN</td>\n",
       "      <td>50</td>\n",
       "      <td>NaN</td>\n",
       "      <td>05/09/06</td>\n",
       "      <td>04/09/06</td>\n",
       "      <td>0</td>\n",
       "      <td>GS</td>\n",
       "      <td>Normais</td>\n",
       "      <td>NaN</td>\n",
       "      <td>NaN</td>\n",
       "      <td>Não Calculado</td>\n",
       "      <td>Normal</td>\n",
       "      <td>Sistólico</td>\n",
       "      <td>133</td>\n",
       "      <td>NaN</td>\n",
       "      <td>NaN</td>\n",
       "      <td>Indeterminado</td>\n",
       "      <td>6 - Suspeita de cardiopatia</td>\n",
       "      <td>6 - Sopro</td>\n",
       "    </tr>\n",
       "    <tr>\n",
       "      <th>3145</th>\n",
       "      <td>14963</td>\n",
       "      <td>27.0</td>\n",
       "      <td>123</td>\n",
       "      <td>18.0</td>\n",
       "      <td>10/06/04</td>\n",
       "      <td>16/03/97</td>\n",
       "      <td>7.51</td>\n",
       "      <td>SULA</td>\n",
       "      <td>Normais</td>\n",
       "      <td>100.0</td>\n",
       "      <td>60.0</td>\n",
       "      <td>Normal</td>\n",
       "      <td>Normal</td>\n",
       "      <td>ausente</td>\n",
       "      <td>92</td>\n",
       "      <td>Assintomático</td>\n",
       "      <td>NaN</td>\n",
       "      <td>M</td>\n",
       "      <td>5 - Parecer cardiológico</td>\n",
       "      <td>5 - Cirurgia</td>\n",
       "    </tr>\n",
       "  </tbody>\n",
       "</table>\n",
       "<p>3146 rows × 20 columns</p>\n",
       "</div>"
      ],
      "text/plain": [
       "         Id  Peso  Altura   IMC Atendimento        DN              IDADE  \\\n",
       "0      8957   4.5      54  15.0    03/08/09  11/06/09               0.15   \n",
       "1      4246  42.4     150  19.0    23/02/06  03/03/94              12.43   \n",
       "2      9089  18.1     104  17.0    16/10/07  08/02/04               3.82   \n",
       "3     10606   7.7       0   NaN    09/08/04  27/11/03               0.73   \n",
       "4      9863  16.0       0   NaN    04/07/08  29/08/04               3.99   \n",
       "...     ...   ...     ...   ...         ...       ...                ...   \n",
       "3141  14053   0.0       0   NaN    16/09/09  19/04/02               7.69   \n",
       "3142   9000   0.0       0   NaN    12/01/05  06/11/95  9.529999999999999   \n",
       "3143  14643  46.0     151  20.0    18/02/04  20/10/90              13.83   \n",
       "3144  15107   NaN      50   NaN    05/09/06  04/09/06                  0   \n",
       "3145  14963  27.0     123  18.0    10/06/04  16/03/97               7.51   \n",
       "\n",
       "      Convenio   PULSOS  PA SISTOLICA  PA DIASTOLICA            PPA      B2  \\\n",
       "0          NaN  Normais           NaN            NaN  Não Calculado  Normal   \n",
       "1       MEDISE  Normais           NaN            NaN  Não Calculado  Normal   \n",
       "2        CAMED  Normais         130.0           90.0      HAS-2 PAS  Normal   \n",
       "3         SULA  Normais           NaN            NaN  Não Calculado  Normal   \n",
       "4     NORCLIN.  Normais           NaN            NaN  Não Calculado  Normal   \n",
       "...        ...      ...           ...            ...            ...     ...   \n",
       "3141     FUSEX  Normais         100.0           70.0  Não Calculado  Normal   \n",
       "3142        GS  Normais          90.0           50.0  Não Calculado  Normal   \n",
       "3143        UR  Normais         120.0           60.0         Normal  Normal   \n",
       "3144        GS  Normais           NaN            NaN  Não Calculado  Normal   \n",
       "3145      SULA  Normais         100.0           60.0         Normal  Normal   \n",
       "\n",
       "          SOPRO   FC           HDA 1   HDA2           SEXO  \\\n",
       "0       ausente  110        Dispneia  Outro              F   \n",
       "1       ausente   84   Assintomático    NaN              M   \n",
       "2       ausente  100         Cianose    NaN              M   \n",
       "3       ausente   98   Assintomático    NaN              F   \n",
       "4       ausente   90   Assintomático    NaN              F   \n",
       "...         ...  ...             ...    ...            ...   \n",
       "3141    ausente   72             NaN    NaN              M   \n",
       "3142  Sistólico   82  Dor precordial    NaN              F   \n",
       "3143  Sistólico   96        Dispneia    NaN              F   \n",
       "3144  Sistólico  133             NaN    NaN  Indeterminado   \n",
       "3145    ausente   92   Assintomático    NaN              M   \n",
       "\n",
       "                              MOTIVO1                    MOTIVO2  \n",
       "0                        2 - Check-up                        NaN  \n",
       "1            5 - Parecer cardiológico       5 - Atividade física  \n",
       "2            5 - Parecer cardiológico                        NaN  \n",
       "3     1 - Cardiopatia já estabelecida  1 - Cardiopatia congenica  \n",
       "4            5 - Parecer cardiológico               5 - Cirurgia  \n",
       "...                               ...                        ...  \n",
       "3141                     2 - Check-up                        NaN  \n",
       "3142      6 - Suspeita de cardiopatia         6 - Dor precordial  \n",
       "3143      6 - Suspeita de cardiopatia         6 - Dor precordial  \n",
       "3144      6 - Suspeita de cardiopatia                  6 - Sopro  \n",
       "3145         5 - Parecer cardiológico               5 - Cirurgia  \n",
       "\n",
       "[3146 rows x 20 columns]"
      ]
     },
     "metadata": {},
     "output_type": "display_data"
    }
   ],
   "source": [
    "test_data = pd.read_csv(\"./data/test.csv\")\n",
    "data = pd.read_csv(\"./data/RHP_data.csv\")\n",
    "\n",
    "test_data = data.merge(test_data, on=\"Id\", how=\"right\")\n",
    "\n",
    "display(test_data)"
   ]
  },
  {
   "cell_type": "markdown",
   "metadata": {},
   "source": [
    "É necessário tratar os dados de teste assim como foram tratados os dados de treinamento, porém sem remoção de amostras"
   ]
  },
  {
   "cell_type": "markdown",
   "metadata": {},
   "source": [
    "Primeiro, excluir colunas irrelevantes"
   ]
  },
  {
   "cell_type": "code",
   "execution_count": 76,
   "metadata": {},
   "outputs": [],
   "source": [
    "test_data = test_data.drop(columns=[\"Atendimento\", \"DN\", \"Convenio\"])"
   ]
  },
  {
   "cell_type": "markdown",
   "metadata": {},
   "source": [
    "Depois, convertendo IDADE e FC para numeric"
   ]
  },
  {
   "cell_type": "code",
   "execution_count": 77,
   "metadata": {},
   "outputs": [],
   "source": [
    "converter_numeric(test_data, \"FC\")\n",
    "converter_numeric(test_data, \"IDADE\")"
   ]
  },
  {
   "cell_type": "code",
   "execution_count": 78,
   "metadata": {},
   "outputs": [
    {
     "data": {
      "text/html": [
       "<div>\n",
       "<style scoped>\n",
       "    .dataframe tbody tr th:only-of-type {\n",
       "        vertical-align: middle;\n",
       "    }\n",
       "\n",
       "    .dataframe tbody tr th {\n",
       "        vertical-align: top;\n",
       "    }\n",
       "\n",
       "    .dataframe thead th {\n",
       "        text-align: right;\n",
       "    }\n",
       "</style>\n",
       "<table border=\"1\" class=\"dataframe\">\n",
       "  <thead>\n",
       "    <tr style=\"text-align: right;\">\n",
       "      <th></th>\n",
       "      <th>Peso</th>\n",
       "      <th>Altura</th>\n",
       "      <th>IMC</th>\n",
       "      <th>IDADE</th>\n",
       "      <th>PA SISTOLICA</th>\n",
       "      <th>PA DIASTOLICA</th>\n",
       "      <th>FC</th>\n",
       "    </tr>\n",
       "  </thead>\n",
       "  <tbody>\n",
       "    <tr>\n",
       "      <th>count</th>\n",
       "      <td>3088.000000</td>\n",
       "      <td>3146.000000</td>\n",
       "      <td>2436.000000</td>\n",
       "      <td>3146.000000</td>\n",
       "      <td>1911.000000</td>\n",
       "      <td>1911.000000</td>\n",
       "      <td>2999.000000</td>\n",
       "    </tr>\n",
       "    <tr>\n",
       "      <th>mean</th>\n",
       "      <td>22.026231</td>\n",
       "      <td>88.050223</td>\n",
       "      <td>17.867406</td>\n",
       "      <td>6.186538</td>\n",
       "      <td>100.962323</td>\n",
       "      <td>62.006279</td>\n",
       "      <td>92.593198</td>\n",
       "    </tr>\n",
       "    <tr>\n",
       "      <th>std</th>\n",
       "      <td>17.422042</td>\n",
       "      <td>54.264037</td>\n",
       "      <td>15.284035</td>\n",
       "      <td>4.573168</td>\n",
       "      <td>17.553885</td>\n",
       "      <td>8.592640</td>\n",
       "      <td>22.563362</td>\n",
       "    </tr>\n",
       "    <tr>\n",
       "      <th>min</th>\n",
       "      <td>0.000000</td>\n",
       "      <td>0.000000</td>\n",
       "      <td>0.000000</td>\n",
       "      <td>0.000000</td>\n",
       "      <td>70.000000</td>\n",
       "      <td>35.000000</td>\n",
       "      <td>8.000000</td>\n",
       "    </tr>\n",
       "    <tr>\n",
       "      <th>25%</th>\n",
       "      <td>9.000000</td>\n",
       "      <td>51.000000</td>\n",
       "      <td>15.000000</td>\n",
       "      <td>2.340000</td>\n",
       "      <td>90.000000</td>\n",
       "      <td>60.000000</td>\n",
       "      <td>80.000000</td>\n",
       "    </tr>\n",
       "    <tr>\n",
       "      <th>50%</th>\n",
       "      <td>18.500000</td>\n",
       "      <td>102.000000</td>\n",
       "      <td>17.000000</td>\n",
       "      <td>5.480000</td>\n",
       "      <td>100.000000</td>\n",
       "      <td>60.000000</td>\n",
       "      <td>90.000000</td>\n",
       "    </tr>\n",
       "    <tr>\n",
       "      <th>75%</th>\n",
       "      <td>32.000000</td>\n",
       "      <td>130.000000</td>\n",
       "      <td>19.000000</td>\n",
       "      <td>9.847500</td>\n",
       "      <td>105.000000</td>\n",
       "      <td>68.000000</td>\n",
       "      <td>100.000000</td>\n",
       "    </tr>\n",
       "    <tr>\n",
       "      <th>max</th>\n",
       "      <td>157.000000</td>\n",
       "      <td>197.000000</td>\n",
       "      <td>742.000000</td>\n",
       "      <td>17.990000</td>\n",
       "      <td>700.000000</td>\n",
       "      <td>110.000000</td>\n",
       "      <td>900.000000</td>\n",
       "    </tr>\n",
       "  </tbody>\n",
       "</table>\n",
       "</div>"
      ],
      "text/plain": [
       "              Peso       Altura          IMC        IDADE  PA SISTOLICA  \\\n",
       "count  3088.000000  3146.000000  2436.000000  3146.000000   1911.000000   \n",
       "mean     22.026231    88.050223    17.867406     6.186538    100.962323   \n",
       "std      17.422042    54.264037    15.284035     4.573168     17.553885   \n",
       "min       0.000000     0.000000     0.000000     0.000000     70.000000   \n",
       "25%       9.000000    51.000000    15.000000     2.340000     90.000000   \n",
       "50%      18.500000   102.000000    17.000000     5.480000    100.000000   \n",
       "75%      32.000000   130.000000    19.000000     9.847500    105.000000   \n",
       "max     157.000000   197.000000   742.000000    17.990000    700.000000   \n",
       "\n",
       "       PA DIASTOLICA           FC  \n",
       "count    1911.000000  2999.000000  \n",
       "mean       62.006279    92.593198  \n",
       "std         8.592640    22.563362  \n",
       "min        35.000000     8.000000  \n",
       "25%        60.000000    80.000000  \n",
       "50%        60.000000    90.000000  \n",
       "75%        68.000000   100.000000  \n",
       "max       110.000000   900.000000  "
      ]
     },
     "metadata": {},
     "output_type": "display_data"
    }
   ],
   "source": [
    "display(test_data.iloc[:, 1:].describe(include=[np.number]))"
   ]
  },
  {
   "cell_type": "markdown",
   "metadata": {},
   "source": [
    "Iremos seguir o mesmo processo dos dados de teste, peso, altura e idade serão substituidas por suas medianas, já PA Sistolica, PA Diastolica e FC serao substituidas por suas médias."
   ]
  },
  {
   "cell_type": "code",
   "execution_count": 79,
   "metadata": {},
   "outputs": [],
   "source": [
    "test_data[\"PA DIASTOLICA\"] = fill_na_media(test_data, \"PA DIASTOLICA\")\n",
    "test_data[\"PA SISTOLICA\"] = fill_na_media(test_data, \"PA SISTOLICA\")\n",
    "test_data[\"FC\"] = fill_na_media(test_data, \"FC\")"
   ]
  },
  {
   "cell_type": "code",
   "execution_count": 80,
   "metadata": {},
   "outputs": [],
   "source": [
    "test_data[\"Peso\"] = fill_na_mediana(test_data, \"Peso\")\n",
    "test_data[\"Altura\"] = fill_na_mediana(test_data, \"Altura\")\n",
    "test_data[\"IDADE\"] = fill_na_mediana(test_data, \"IDADE\")"
   ]
  },
  {
   "cell_type": "markdown",
   "metadata": {},
   "source": [
    "Evita a existencia de relação e peso, substituindo o peso por uma aproximação baseada na altura"
   ]
  },
  {
   "cell_type": "code",
   "execution_count": 81,
   "metadata": {},
   "outputs": [],
   "source": [
    "test_data[\"Peso\"] = test_data[\"Peso\"].replace(0, test_data['Peso'].median())"
   ]
  },
  {
   "cell_type": "markdown",
   "metadata": {},
   "source": [
    "O mesmo para altura"
   ]
  },
  {
   "cell_type": "code",
   "execution_count": 82,
   "metadata": {},
   "outputs": [],
   "source": [
    "test_data[\"Altura\"] = test_data[\"Altura\"].replace(0, test_data[\"Altura\"].median())"
   ]
  },
  {
   "cell_type": "markdown",
   "metadata": {},
   "source": [
    "Recalculando o IMC"
   ]
  },
  {
   "cell_type": "code",
   "execution_count": 83,
   "metadata": {},
   "outputs": [],
   "source": [
    "altura_aux = test_data[\"Altura\"] / 100\n",
    "\n",
    "\n",
    "test_data[\"IMC\"] = test_data[\"Peso\"] / np.power(altura_aux, 2)"
   ]
  },
  {
   "cell_type": "code",
   "execution_count": 84,
   "metadata": {},
   "outputs": [
    {
     "name": "stdout",
     "output_type": "stream",
     "text": [
      "Id                  0\n",
      "Peso                0\n",
      "Altura              0\n",
      "IMC                 0\n",
      "IDADE               0\n",
      "PULSOS              6\n",
      "PA SISTOLICA        0\n",
      "PA DIASTOLICA       0\n",
      "PPA                20\n",
      "B2                  2\n",
      "SOPRO               2\n",
      "FC                  0\n",
      "HDA 1             800\n",
      "HDA2             3033\n",
      "SEXO                1\n",
      "MOTIVO1            24\n",
      "MOTIVO2           719\n",
      "dtype: int64\n"
     ]
    }
   ],
   "source": [
    "print(test_data.isna().sum())"
   ]
  },
  {
   "cell_type": "markdown",
   "metadata": {},
   "source": [
    "#### Tratados os valores numéricos, agora vamos tratar os não numéricos"
   ]
  },
  {
   "cell_type": "markdown",
   "metadata": {},
   "source": [
    "primeiro resolvendo inconsistencias"
   ]
  },
  {
   "cell_type": "markdown",
   "metadata": {},
   "source": [
    "coluna PULSOS"
   ]
  },
  {
   "cell_type": "code",
   "execution_count": 85,
   "metadata": {},
   "outputs": [],
   "source": [
    "substituir(test_data, \"PULSOS\", \"NORMAIS\", \"Normais\")\n",
    "substituir(test_data, \"PULSOS\", \"AMPLOS\", \"Amplos\")"
   ]
  },
  {
   "cell_type": "markdown",
   "metadata": {},
   "source": [
    "coluna SOPRO"
   ]
  },
  {
   "cell_type": "code",
   "execution_count": 86,
   "metadata": {},
   "outputs": [],
   "source": [
    "substituir(test_data, \"SOPRO\", \"sistólico\", \"Sistólico\")\n",
    "substituir(test_data, \"SOPRO\", \"contínuo\", \"Contínuo\")"
   ]
  },
  {
   "cell_type": "markdown",
   "metadata": {},
   "source": [
    "Coluna SEXO"
   ]
  },
  {
   "cell_type": "code",
   "execution_count": 87,
   "metadata": {},
   "outputs": [],
   "source": [
    "substituir(test_data, \"SEXO\", \"Masculino\", \"M\")\n",
    "substituir(test_data, \"SEXO\", \"masculino\", \"M\")\n",
    "\n",
    "substituir(test_data, \"SEXO\", \"Feminino\", \"F\")"
   ]
  },
  {
   "cell_type": "markdown",
   "metadata": {},
   "source": [
    "Agora é preciso tratar com o valores NaN"
   ]
  },
  {
   "cell_type": "code",
   "execution_count": 88,
   "metadata": {},
   "outputs": [
    {
     "name": "stdout",
     "output_type": "stream",
     "text": [
      "Id                  0\n",
      "Peso                0\n",
      "Altura              0\n",
      "IMC                 0\n",
      "IDADE               0\n",
      "PULSOS              6\n",
      "PA SISTOLICA        0\n",
      "PA DIASTOLICA       0\n",
      "PPA                20\n",
      "B2                  2\n",
      "SOPRO               2\n",
      "FC                  0\n",
      "HDA 1             800\n",
      "HDA2             3033\n",
      "SEXO                1\n",
      "MOTIVO1            24\n",
      "MOTIVO2           719\n",
      "dtype: int64\n"
     ]
    }
   ],
   "source": [
    "print(test_data.isna().sum())"
   ]
  },
  {
   "cell_type": "markdown",
   "metadata": {},
   "source": [
    "Como não se pode removê-los, eles serão substituidos pela moda, com exceção de PPA, que usara a função de classificação"
   ]
  },
  {
   "cell_type": "markdown",
   "metadata": {},
   "source": [
    "Coluna PULSOS"
   ]
  },
  {
   "cell_type": "code",
   "execution_count": 89,
   "metadata": {},
   "outputs": [],
   "source": [
    "test_data[\"PULSOS\"] = test_data[\"PULSOS\"].fillna(test_data[\"PULSOS\"].mode()[0])"
   ]
  },
  {
   "cell_type": "markdown",
   "metadata": {},
   "source": [
    "Coluna B2"
   ]
  },
  {
   "cell_type": "code",
   "execution_count": 90,
   "metadata": {},
   "outputs": [],
   "source": [
    "test_data[\"B2\"] = test_data[\"B2\"].fillna(test_data[\"B2\"].mode()[0])"
   ]
  },
  {
   "cell_type": "markdown",
   "metadata": {},
   "source": [
    "Coluna SOPRO"
   ]
  },
  {
   "cell_type": "code",
   "execution_count": 91,
   "metadata": {},
   "outputs": [],
   "source": [
    "test_data[\"SOPRO\"] = test_data[\"SOPRO\"].fillna(test_data[\"SOPRO\"].mode()[0])"
   ]
  },
  {
   "cell_type": "markdown",
   "metadata": {},
   "source": [
    "Coluna SEXO"
   ]
  },
  {
   "cell_type": "code",
   "execution_count": 92,
   "metadata": {},
   "outputs": [],
   "source": [
    "test_data[\"SEXO\"] = test_data[\"SEXO\"].fillna(test_data[\"SEXO\"].mode()[0])"
   ]
  },
  {
   "cell_type": "markdown",
   "metadata": {},
   "source": [
    "Colunas MOTIVO1 e MOTIVO2"
   ]
  },
  {
   "cell_type": "code",
   "execution_count": 93,
   "metadata": {},
   "outputs": [],
   "source": [
    "test_data[\"MOTIVO1\"] = test_data[\"MOTIVO1\"].fillna(test_data[\"MOTIVO1\"].mode()[0])\n",
    "test_data[\"MOTIVO2\"] = test_data[\"MOTIVO2\"].fillna(test_data[\"MOTIVO2\"].mode()[0])"
   ]
  },
  {
   "cell_type": "markdown",
   "metadata": {},
   "source": [
    "Coluna HDA 1 e HDA2 serão substituidos por 'Assintomático'"
   ]
  },
  {
   "cell_type": "code",
   "execution_count": 94,
   "metadata": {},
   "outputs": [],
   "source": [
    "test_data[\"HDA 1\"] = test_data[\"HDA 1\"].fillna(\"Assintomático\")\n",
    "test_data[\"HDA2\"] = test_data[\"HDA 1\"].fillna(\"Assintomático\")"
   ]
  },
  {
   "cell_type": "markdown",
   "metadata": {},
   "source": [
    "Para PPA, iremos repetir o mesmo processo"
   ]
  },
  {
   "cell_type": "code",
   "execution_count": 95,
   "metadata": {},
   "outputs": [],
   "source": [
    "test_data[\"PPA\"] = test_data[\"PPA\"].replace(\"#VALUE!\", np.nan)\n",
    "test_data[\"PPA\"] = test_data[\"PPA\"].replace(\"Não Calculado\", np.nan)"
   ]
  },
  {
   "cell_type": "code",
   "execution_count": 96,
   "metadata": {},
   "outputs": [],
   "source": [
    "# Itera sobre cada linha do df\n",
    "# se o valor de PPA for NaN, substitui-o com base na função de clasificacao\n",
    "for index, linha in test_data.iterrows():\n",
    "    if pd.isna(linha[\"PPA\"]):\n",
    "        test_data.at[index, \"PPA\"] = classificar_ppa_completo(\n",
    "            linha[\"PA SISTOLICA\"], linha[\"PA DIASTOLICA\"]\n",
    "        )"
   ]
  },
  {
   "cell_type": "code",
   "execution_count": 97,
   "metadata": {},
   "outputs": [
    {
     "name": "stdout",
     "output_type": "stream",
     "text": [
      "Id               0\n",
      "Peso             0\n",
      "Altura           0\n",
      "IMC              0\n",
      "IDADE            0\n",
      "PULSOS           0\n",
      "PA SISTOLICA     0\n",
      "PA DIASTOLICA    0\n",
      "PPA              0\n",
      "B2               0\n",
      "SOPRO            0\n",
      "FC               0\n",
      "HDA 1            0\n",
      "HDA2             0\n",
      "SEXO             0\n",
      "MOTIVO1          0\n",
      "MOTIVO2          0\n",
      "dtype: int64\n"
     ]
    }
   ],
   "source": [
    "print(test_data.isna().sum())"
   ]
  },
  {
   "cell_type": "markdown",
   "metadata": {},
   "source": [
    "#### Com a remoção de todos os valores NaN, basta mapear as colunas nao numericas em valores numericos"
   ]
  },
  {
   "cell_type": "code",
   "execution_count": 98,
   "metadata": {},
   "outputs": [],
   "source": [
    "pulsos_num = lencoder.fit_transform(test_data[\"PULSOS\"])\n",
    "ppa_num = lencoder.fit_transform(test_data[\"PPA\"])\n",
    "b2_num = lencoder.fit_transform(test_data[\"B2\"])\n",
    "sopro_num = lencoder.fit_transform(test_data[\"SOPRO\"])\n",
    "hda1_num = lencoder.fit_transform(test_data[\"HDA 1\"])\n",
    "hda2_num = lencoder.fit_transform(test_data[\"HDA2\"])\n",
    "sexo_num = lencoder.fit_transform(test_data[\"SEXO\"])\n",
    "motivo1_num = lencoder.fit_transform(test_data[\"MOTIVO1\"])\n",
    "motivo2_num = lencoder.fit_transform(test_data[\"MOTIVO2\"])"
   ]
  },
  {
   "cell_type": "code",
   "execution_count": 99,
   "metadata": {},
   "outputs": [],
   "source": [
    "test_data[\"PULSOS\"] = pulsos_num\n",
    "test_data[\"PPA\"] = ppa_num\n",
    "test_data[\"B2\"] = b2_num\n",
    "test_data[\"SOPRO\"] = sopro_num\n",
    "test_data[\"HDA 1\"] = hda1_num\n",
    "test_data[\"HDA2\"] = hda2_num\n",
    "test_data[\"SEXO\"] = sexo_num\n",
    "test_data[\"MOTIVO1\"] = motivo1_num\n",
    "test_data[\"MOTIVO2\"] = motivo2_num"
   ]
  },
  {
   "cell_type": "code",
   "execution_count": 100,
   "metadata": {},
   "outputs": [
    {
     "data": {
      "text/html": [
       "<div>\n",
       "<style scoped>\n",
       "    .dataframe tbody tr th:only-of-type {\n",
       "        vertical-align: middle;\n",
       "    }\n",
       "\n",
       "    .dataframe tbody tr th {\n",
       "        vertical-align: top;\n",
       "    }\n",
       "\n",
       "    .dataframe thead th {\n",
       "        text-align: right;\n",
       "    }\n",
       "</style>\n",
       "<table border=\"1\" class=\"dataframe\">\n",
       "  <thead>\n",
       "    <tr style=\"text-align: right;\">\n",
       "      <th></th>\n",
       "      <th>Id</th>\n",
       "      <th>Peso</th>\n",
       "      <th>Altura</th>\n",
       "      <th>IMC</th>\n",
       "      <th>IDADE</th>\n",
       "      <th>PULSOS</th>\n",
       "      <th>PA SISTOLICA</th>\n",
       "      <th>PA DIASTOLICA</th>\n",
       "      <th>PPA</th>\n",
       "      <th>B2</th>\n",
       "      <th>SOPRO</th>\n",
       "      <th>FC</th>\n",
       "      <th>HDA 1</th>\n",
       "      <th>HDA2</th>\n",
       "      <th>SEXO</th>\n",
       "      <th>MOTIVO1</th>\n",
       "      <th>MOTIVO2</th>\n",
       "    </tr>\n",
       "  </thead>\n",
       "  <tbody>\n",
       "    <tr>\n",
       "      <th>0</th>\n",
       "      <td>8957</td>\n",
       "      <td>4.5</td>\n",
       "      <td>54</td>\n",
       "      <td>15.432099</td>\n",
       "      <td>0.15</td>\n",
       "      <td>3</td>\n",
       "      <td>100.962323</td>\n",
       "      <td>62.006279</td>\n",
       "      <td>4</td>\n",
       "      <td>2</td>\n",
       "      <td>2</td>\n",
       "      <td>110.0</td>\n",
       "      <td>3</td>\n",
       "      <td>3</td>\n",
       "      <td>0</td>\n",
       "      <td>1</td>\n",
       "      <td>3</td>\n",
       "    </tr>\n",
       "    <tr>\n",
       "      <th>1</th>\n",
       "      <td>4246</td>\n",
       "      <td>42.4</td>\n",
       "      <td>150</td>\n",
       "      <td>18.844444</td>\n",
       "      <td>12.43</td>\n",
       "      <td>3</td>\n",
       "      <td>100.962323</td>\n",
       "      <td>62.006279</td>\n",
       "      <td>4</td>\n",
       "      <td>2</td>\n",
       "      <td>2</td>\n",
       "      <td>84.0</td>\n",
       "      <td>0</td>\n",
       "      <td>0</td>\n",
       "      <td>2</td>\n",
       "      <td>2</td>\n",
       "      <td>2</td>\n",
       "    </tr>\n",
       "    <tr>\n",
       "      <th>2</th>\n",
       "      <td>9089</td>\n",
       "      <td>18.1</td>\n",
       "      <td>104</td>\n",
       "      <td>16.734467</td>\n",
       "      <td>3.82</td>\n",
       "      <td>3</td>\n",
       "      <td>130.000000</td>\n",
       "      <td>90.000000</td>\n",
       "      <td>3</td>\n",
       "      <td>2</td>\n",
       "      <td>2</td>\n",
       "      <td>100.0</td>\n",
       "      <td>1</td>\n",
       "      <td>1</td>\n",
       "      <td>2</td>\n",
       "      <td>2</td>\n",
       "      <td>3</td>\n",
       "    </tr>\n",
       "    <tr>\n",
       "      <th>3</th>\n",
       "      <td>10606</td>\n",
       "      <td>7.7</td>\n",
       "      <td>102</td>\n",
       "      <td>7.401000</td>\n",
       "      <td>0.73</td>\n",
       "      <td>3</td>\n",
       "      <td>100.962323</td>\n",
       "      <td>62.006279</td>\n",
       "      <td>4</td>\n",
       "      <td>2</td>\n",
       "      <td>2</td>\n",
       "      <td>98.0</td>\n",
       "      <td>0</td>\n",
       "      <td>0</td>\n",
       "      <td>0</td>\n",
       "      <td>0</td>\n",
       "      <td>1</td>\n",
       "    </tr>\n",
       "    <tr>\n",
       "      <th>4</th>\n",
       "      <td>9863</td>\n",
       "      <td>16.0</td>\n",
       "      <td>102</td>\n",
       "      <td>15.378700</td>\n",
       "      <td>3.99</td>\n",
       "      <td>3</td>\n",
       "      <td>100.962323</td>\n",
       "      <td>62.006279</td>\n",
       "      <td>4</td>\n",
       "      <td>2</td>\n",
       "      <td>2</td>\n",
       "      <td>90.0</td>\n",
       "      <td>0</td>\n",
       "      <td>0</td>\n",
       "      <td>0</td>\n",
       "      <td>2</td>\n",
       "      <td>3</td>\n",
       "    </tr>\n",
       "    <tr>\n",
       "      <th>...</th>\n",
       "      <td>...</td>\n",
       "      <td>...</td>\n",
       "      <td>...</td>\n",
       "      <td>...</td>\n",
       "      <td>...</td>\n",
       "      <td>...</td>\n",
       "      <td>...</td>\n",
       "      <td>...</td>\n",
       "      <td>...</td>\n",
       "      <td>...</td>\n",
       "      <td>...</td>\n",
       "      <td>...</td>\n",
       "      <td>...</td>\n",
       "      <td>...</td>\n",
       "      <td>...</td>\n",
       "      <td>...</td>\n",
       "      <td>...</td>\n",
       "    </tr>\n",
       "    <tr>\n",
       "      <th>3141</th>\n",
       "      <td>14053</td>\n",
       "      <td>18.5</td>\n",
       "      <td>102</td>\n",
       "      <td>17.781622</td>\n",
       "      <td>7.69</td>\n",
       "      <td>3</td>\n",
       "      <td>100.000000</td>\n",
       "      <td>70.000000</td>\n",
       "      <td>4</td>\n",
       "      <td>2</td>\n",
       "      <td>2</td>\n",
       "      <td>72.0</td>\n",
       "      <td>0</td>\n",
       "      <td>0</td>\n",
       "      <td>2</td>\n",
       "      <td>1</td>\n",
       "      <td>3</td>\n",
       "    </tr>\n",
       "    <tr>\n",
       "      <th>3142</th>\n",
       "      <td>9000</td>\n",
       "      <td>18.5</td>\n",
       "      <td>102</td>\n",
       "      <td>17.781622</td>\n",
       "      <td>9.53</td>\n",
       "      <td>3</td>\n",
       "      <td>90.000000</td>\n",
       "      <td>50.000000</td>\n",
       "      <td>4</td>\n",
       "      <td>2</td>\n",
       "      <td>1</td>\n",
       "      <td>82.0</td>\n",
       "      <td>4</td>\n",
       "      <td>4</td>\n",
       "      <td>0</td>\n",
       "      <td>3</td>\n",
       "      <td>10</td>\n",
       "    </tr>\n",
       "    <tr>\n",
       "      <th>3143</th>\n",
       "      <td>14643</td>\n",
       "      <td>46.0</td>\n",
       "      <td>151</td>\n",
       "      <td>20.174554</td>\n",
       "      <td>13.83</td>\n",
       "      <td>3</td>\n",
       "      <td>120.000000</td>\n",
       "      <td>60.000000</td>\n",
       "      <td>4</td>\n",
       "      <td>2</td>\n",
       "      <td>1</td>\n",
       "      <td>96.0</td>\n",
       "      <td>3</td>\n",
       "      <td>3</td>\n",
       "      <td>0</td>\n",
       "      <td>3</td>\n",
       "      <td>10</td>\n",
       "    </tr>\n",
       "    <tr>\n",
       "      <th>3144</th>\n",
       "      <td>15107</td>\n",
       "      <td>18.5</td>\n",
       "      <td>50</td>\n",
       "      <td>74.000000</td>\n",
       "      <td>0.00</td>\n",
       "      <td>3</td>\n",
       "      <td>100.962323</td>\n",
       "      <td>62.006279</td>\n",
       "      <td>4</td>\n",
       "      <td>2</td>\n",
       "      <td>1</td>\n",
       "      <td>133.0</td>\n",
       "      <td>0</td>\n",
       "      <td>0</td>\n",
       "      <td>1</td>\n",
       "      <td>3</td>\n",
       "      <td>13</td>\n",
       "    </tr>\n",
       "    <tr>\n",
       "      <th>3145</th>\n",
       "      <td>14963</td>\n",
       "      <td>27.0</td>\n",
       "      <td>123</td>\n",
       "      <td>17.846520</td>\n",
       "      <td>7.51</td>\n",
       "      <td>3</td>\n",
       "      <td>100.000000</td>\n",
       "      <td>60.000000</td>\n",
       "      <td>4</td>\n",
       "      <td>2</td>\n",
       "      <td>2</td>\n",
       "      <td>92.0</td>\n",
       "      <td>0</td>\n",
       "      <td>0</td>\n",
       "      <td>2</td>\n",
       "      <td>2</td>\n",
       "      <td>3</td>\n",
       "    </tr>\n",
       "  </tbody>\n",
       "</table>\n",
       "<p>3146 rows × 17 columns</p>\n",
       "</div>"
      ],
      "text/plain": [
       "         Id  Peso  Altura        IMC  IDADE  PULSOS  PA SISTOLICA  \\\n",
       "0      8957   4.5      54  15.432099   0.15       3    100.962323   \n",
       "1      4246  42.4     150  18.844444  12.43       3    100.962323   \n",
       "2      9089  18.1     104  16.734467   3.82       3    130.000000   \n",
       "3     10606   7.7     102   7.401000   0.73       3    100.962323   \n",
       "4      9863  16.0     102  15.378700   3.99       3    100.962323   \n",
       "...     ...   ...     ...        ...    ...     ...           ...   \n",
       "3141  14053  18.5     102  17.781622   7.69       3    100.000000   \n",
       "3142   9000  18.5     102  17.781622   9.53       3     90.000000   \n",
       "3143  14643  46.0     151  20.174554  13.83       3    120.000000   \n",
       "3144  15107  18.5      50  74.000000   0.00       3    100.962323   \n",
       "3145  14963  27.0     123  17.846520   7.51       3    100.000000   \n",
       "\n",
       "      PA DIASTOLICA  PPA  B2  SOPRO     FC  HDA 1  HDA2  SEXO  MOTIVO1  \\\n",
       "0         62.006279    4   2      2  110.0      3     3     0        1   \n",
       "1         62.006279    4   2      2   84.0      0     0     2        2   \n",
       "2         90.000000    3   2      2  100.0      1     1     2        2   \n",
       "3         62.006279    4   2      2   98.0      0     0     0        0   \n",
       "4         62.006279    4   2      2   90.0      0     0     0        2   \n",
       "...             ...  ...  ..    ...    ...    ...   ...   ...      ...   \n",
       "3141      70.000000    4   2      2   72.0      0     0     2        1   \n",
       "3142      50.000000    4   2      1   82.0      4     4     0        3   \n",
       "3143      60.000000    4   2      1   96.0      3     3     0        3   \n",
       "3144      62.006279    4   2      1  133.0      0     0     1        3   \n",
       "3145      60.000000    4   2      2   92.0      0     0     2        2   \n",
       "\n",
       "      MOTIVO2  \n",
       "0           3  \n",
       "1           2  \n",
       "2           3  \n",
       "3           1  \n",
       "4           3  \n",
       "...       ...  \n",
       "3141        3  \n",
       "3142       10  \n",
       "3143       10  \n",
       "3144       13  \n",
       "3145        3  \n",
       "\n",
       "[3146 rows x 17 columns]"
      ]
     },
     "metadata": {},
     "output_type": "display_data"
    }
   ],
   "source": [
    "display(test_data)"
   ]
  },
  {
   "cell_type": "markdown",
   "metadata": {},
   "source": [
    "Separando os dados para o treinamento e teste"
   ]
  },
  {
   "cell_type": "code",
   "execution_count": 101,
   "metadata": {},
   "outputs": [],
   "source": [
    "X_train = train_data.iloc[:, 1:-1]\n",
    "y_train = train_data.iloc[:, -1]\n",
    "\n",
    "X_test = test_data.iloc[:, 1:]"
   ]
  },
  {
   "cell_type": "markdown",
   "metadata": {},
   "source": [
    "Com isso, os dados estão processados para o treinamento do modelo"
   ]
  },
  {
   "cell_type": "markdown",
   "metadata": {},
   "source": [
    "---\n",
    "### Experimento\n",
    "\n",
    "Nesta seção, o experimento deve ser conduzido, utilizando os protocolos experimentais padrões e testando diferentes modelos."
   ]
  },
  {
   "cell_type": "code",
   "execution_count": 102,
   "metadata": {},
   "outputs": [],
   "source": [
    "from sklearn.linear_model import LogisticRegression"
   ]
  },
  {
   "cell_type": "code",
   "execution_count": 103,
   "metadata": {},
   "outputs": [],
   "source": [
    "model = LogisticRegression()"
   ]
  },
  {
   "cell_type": "code",
   "execution_count": 104,
   "metadata": {},
   "outputs": [
    {
     "name": "stderr",
     "output_type": "stream",
     "text": [
      "/home/guilherme/anaconda3/lib/python3.9/site-packages/sklearn/linear_model/_logistic.py:814: ConvergenceWarning: lbfgs failed to converge (status=1):\n",
      "STOP: TOTAL NO. of ITERATIONS REACHED LIMIT.\n",
      "\n",
      "Increase the number of iterations (max_iter) or scale the data as shown in:\n",
      "    https://scikit-learn.org/stable/modules/preprocessing.html\n",
      "Please also refer to the documentation for alternative solver options:\n",
      "    https://scikit-learn.org/stable/modules/linear_model.html#logistic-regression\n",
      "  n_iter_i = _check_optimize_result(\n"
     ]
    },
    {
     "data": {
      "text/plain": [
       "LogisticRegression()"
      ]
     },
     "execution_count": 104,
     "metadata": {},
     "output_type": "execute_result"
    }
   ],
   "source": [
    "model.fit(X_train, y_train)"
   ]
  },
  {
   "cell_type": "code",
   "execution_count": 105,
   "metadata": {},
   "outputs": [],
   "source": [
    "predicao = model.predict_proba(X_test)"
   ]
  },
  {
   "cell_type": "code",
   "execution_count": 106,
   "metadata": {},
   "outputs": [
    {
     "name": "stdout",
     "output_type": "stream",
     "text": [
      "[[9.34200330e-01 6.57996698e-02]\n",
      " [8.66628340e-01 1.33371660e-01]\n",
      " [9.78194753e-01 2.18052471e-02]\n",
      " ...\n",
      " [9.99526720e-01 4.73280211e-04]\n",
      " [9.99996081e-01 3.91901877e-06]\n",
      " [9.13878453e-01 8.61215473e-02]]\n"
     ]
    }
   ],
   "source": [
    "print(predicao)"
   ]
  },
  {
   "cell_type": "code",
   "execution_count": 107,
   "metadata": {},
   "outputs": [],
   "source": [
    "resultado_pred = pd.DataFrame(test_data['Id'], columns=['Id'])\n",
    "resultado_pred['Predicted'] = predicao[:, 1]\n"
   ]
  },
  {
   "cell_type": "code",
   "execution_count": 108,
   "metadata": {},
   "outputs": [],
   "source": [
    "from sklearn.model_selection import train_test_split"
   ]
  },
  {
   "cell_type": "code",
   "execution_count": 109,
   "metadata": {},
   "outputs": [],
   "source": [
    "X_train, X_test, y_train, y_test = train_test_split(\n",
    "    X_train, y_train, test_size=0.2, random_state=42\n",
    ")"
   ]
  },
  {
   "cell_type": "code",
   "execution_count": 110,
   "metadata": {},
   "outputs": [],
   "source": [
    "predicao_teste = model.predict(X_test)"
   ]
  },
  {
   "cell_type": "code",
   "execution_count": 111,
   "metadata": {},
   "outputs": [],
   "source": [
    "from sklearn.metrics import accuracy_score"
   ]
  },
  {
   "cell_type": "code",
   "execution_count": 112,
   "metadata": {},
   "outputs": [
    {
     "name": "stdout",
     "output_type": "stream",
     "text": [
      "0.9285714285714286\n"
     ]
    }
   ],
   "source": [
    "print(accuracy_score(y_test, predicao_teste))"
   ]
  },
  {
   "cell_type": "code",
   "execution_count": 113,
   "metadata": {},
   "outputs": [],
   "source": [
    "resultado_pred.to_csv('./resultados/previsao_regressaoLinear_tentativa2.csv', index=False)"
   ]
  },
  {
   "cell_type": "markdown",
   "metadata": {},
   "source": [
    "---\n",
    "### Análise dos Resultados\n",
    "\n",
    "Nesta seção, os resultados devem ser exibidos através de tabelas e gráficos, comparados e profundamente analisados."
   ]
  },
  {
   "cell_type": "code",
   "execution_count": null,
   "metadata": {},
   "outputs": [],
   "source": []
  }
 ],
 "metadata": {
  "kernelspec": {
   "display_name": "base",
   "language": "python",
   "name": "python3"
  },
  "language_info": {
   "codemirror_mode": {
    "name": "ipython",
    "version": 3
   },
   "file_extension": ".py",
   "mimetype": "text/x-python",
   "name": "python",
   "nbconvert_exporter": "python",
   "pygments_lexer": "ipython3",
   "version": "3.9.12"
  }
 },
 "nbformat": 4,
 "nbformat_minor": 4
}
