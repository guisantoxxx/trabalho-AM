{
 "cells": [
  {
   "cell_type": "markdown",
   "metadata": {},
   "source": [
    "# <center> <img src=\"figs/LogoUFSCar.jpg\" alt=\"Logo UFScar\" width=\"110\" align=\"left\"/>  <br/> <center>Universidade Federal de São Carlos (UFSCar)<br/><font size=\"4\"> Departamento de Computação, campus Sorocaba</center></font>\n",
    "</p>\n",
    "\n",
    "<font size=\"4\"><center><b>Disciplina: Aprendizado de Máquina</b></center></font>\n",
    "  \n",
    "<font size=\"3\"><center>Prof. Dr. Tiago A. Almeida</center></font>\n",
    "\n",
    "## <center>Projeto Final</center>\n",
    "\n",
    "**Nome**: Guilherme Fernandes Rezende Santos\n",
    "\n",
    "**RA**: 813467\n"
   ]
  },
  {
   "cell_type": "markdown",
   "metadata": {},
   "source": [
    "---\n",
    "### Análise exploratória\n",
    "\n",
    "Nesta seção, deve ser feita a leitura da base de dados e todas as análises necessárias para interpretar e analisar os dados, tais como:\n",
    "* Significado de cada atributo\n",
    "* Medidas descritivas\n",
    "* Gráficos"
   ]
  },
  {
   "cell_type": "markdown",
   "metadata": {},
   "source": [
    "##### Importando as bibliotecas que serão usadas nessa etapa"
   ]
  },
  {
   "cell_type": "code",
   "execution_count": 561,
   "metadata": {},
   "outputs": [],
   "source": [
    "import pandas as pd\n",
    "import numpy as np\n",
    "import matplotlib.pyplot as plt\n",
    "import seaborn as sns"
   ]
  },
  {
   "cell_type": "markdown",
   "metadata": {},
   "source": [
    "##### Prepara o DF dos dados do treinamento"
   ]
  },
  {
   "cell_type": "code",
   "execution_count": 562,
   "metadata": {},
   "outputs": [
    {
     "data": {
      "text/html": [
       "<div>\n",
       "<style scoped>\n",
       "    .dataframe tbody tr th:only-of-type {\n",
       "        vertical-align: middle;\n",
       "    }\n",
       "\n",
       "    .dataframe tbody tr th {\n",
       "        vertical-align: top;\n",
       "    }\n",
       "\n",
       "    .dataframe thead th {\n",
       "        text-align: right;\n",
       "    }\n",
       "</style>\n",
       "<table border=\"1\" class=\"dataframe\">\n",
       "  <thead>\n",
       "    <tr style=\"text-align: right;\">\n",
       "      <th></th>\n",
       "      <th>Id</th>\n",
       "      <th>Peso</th>\n",
       "      <th>Altura</th>\n",
       "      <th>IMC</th>\n",
       "      <th>Atendimento</th>\n",
       "      <th>DN</th>\n",
       "      <th>IDADE</th>\n",
       "      <th>Convenio</th>\n",
       "      <th>PULSOS</th>\n",
       "      <th>PA SISTOLICA</th>\n",
       "      <th>PA DIASTOLICA</th>\n",
       "      <th>PPA</th>\n",
       "      <th>B2</th>\n",
       "      <th>SOPRO</th>\n",
       "      <th>FC</th>\n",
       "      <th>HDA 1</th>\n",
       "      <th>HDA2</th>\n",
       "      <th>SEXO</th>\n",
       "      <th>MOTIVO1</th>\n",
       "      <th>MOTIVO2</th>\n",
       "    </tr>\n",
       "  </thead>\n",
       "  <tbody>\n",
       "    <tr>\n",
       "      <th>0</th>\n",
       "      <td>8957</td>\n",
       "      <td>4.5</td>\n",
       "      <td>54</td>\n",
       "      <td>15.0</td>\n",
       "      <td>03/08/09</td>\n",
       "      <td>11/06/09</td>\n",
       "      <td>0.15</td>\n",
       "      <td>NaN</td>\n",
       "      <td>Normais</td>\n",
       "      <td>NaN</td>\n",
       "      <td>NaN</td>\n",
       "      <td>Não Calculado</td>\n",
       "      <td>Normal</td>\n",
       "      <td>ausente</td>\n",
       "      <td>110</td>\n",
       "      <td>Dispneia</td>\n",
       "      <td>Outro</td>\n",
       "      <td>F</td>\n",
       "      <td>2 - Check-up</td>\n",
       "      <td>NaN</td>\n",
       "    </tr>\n",
       "    <tr>\n",
       "      <th>1</th>\n",
       "      <td>4246</td>\n",
       "      <td>42.4</td>\n",
       "      <td>150</td>\n",
       "      <td>19.0</td>\n",
       "      <td>23/02/06</td>\n",
       "      <td>03/03/94</td>\n",
       "      <td>12.43</td>\n",
       "      <td>MEDISE</td>\n",
       "      <td>Normais</td>\n",
       "      <td>NaN</td>\n",
       "      <td>NaN</td>\n",
       "      <td>Não Calculado</td>\n",
       "      <td>Normal</td>\n",
       "      <td>ausente</td>\n",
       "      <td>84</td>\n",
       "      <td>Assintomático</td>\n",
       "      <td>NaN</td>\n",
       "      <td>M</td>\n",
       "      <td>5 - Parecer cardiológico</td>\n",
       "      <td>5 - Atividade física</td>\n",
       "    </tr>\n",
       "    <tr>\n",
       "      <th>2</th>\n",
       "      <td>9089</td>\n",
       "      <td>18.1</td>\n",
       "      <td>104</td>\n",
       "      <td>17.0</td>\n",
       "      <td>16/10/07</td>\n",
       "      <td>08/02/04</td>\n",
       "      <td>3.82</td>\n",
       "      <td>CAMED</td>\n",
       "      <td>Normais</td>\n",
       "      <td>130.0</td>\n",
       "      <td>90.0</td>\n",
       "      <td>HAS-2 PAS</td>\n",
       "      <td>Normal</td>\n",
       "      <td>ausente</td>\n",
       "      <td>100</td>\n",
       "      <td>Cianose</td>\n",
       "      <td>NaN</td>\n",
       "      <td>M</td>\n",
       "      <td>5 - Parecer cardiológico</td>\n",
       "      <td>NaN</td>\n",
       "    </tr>\n",
       "    <tr>\n",
       "      <th>3</th>\n",
       "      <td>10606</td>\n",
       "      <td>7.7</td>\n",
       "      <td>0</td>\n",
       "      <td>NaN</td>\n",
       "      <td>09/08/04</td>\n",
       "      <td>27/11/03</td>\n",
       "      <td>0.73</td>\n",
       "      <td>SULA</td>\n",
       "      <td>Normais</td>\n",
       "      <td>NaN</td>\n",
       "      <td>NaN</td>\n",
       "      <td>Não Calculado</td>\n",
       "      <td>Normal</td>\n",
       "      <td>ausente</td>\n",
       "      <td>98</td>\n",
       "      <td>Assintomático</td>\n",
       "      <td>NaN</td>\n",
       "      <td>F</td>\n",
       "      <td>1 - Cardiopatia já estabelecida</td>\n",
       "      <td>1 - Cardiopatia congenica</td>\n",
       "    </tr>\n",
       "    <tr>\n",
       "      <th>4</th>\n",
       "      <td>9863</td>\n",
       "      <td>16.0</td>\n",
       "      <td>0</td>\n",
       "      <td>NaN</td>\n",
       "      <td>04/07/08</td>\n",
       "      <td>29/08/04</td>\n",
       "      <td>3.99</td>\n",
       "      <td>NORCLIN.</td>\n",
       "      <td>Normais</td>\n",
       "      <td>NaN</td>\n",
       "      <td>NaN</td>\n",
       "      <td>Não Calculado</td>\n",
       "      <td>Normal</td>\n",
       "      <td>ausente</td>\n",
       "      <td>90</td>\n",
       "      <td>Assintomático</td>\n",
       "      <td>NaN</td>\n",
       "      <td>F</td>\n",
       "      <td>5 - Parecer cardiológico</td>\n",
       "      <td>5 - Cirurgia</td>\n",
       "    </tr>\n",
       "    <tr>\n",
       "      <th>...</th>\n",
       "      <td>...</td>\n",
       "      <td>...</td>\n",
       "      <td>...</td>\n",
       "      <td>...</td>\n",
       "      <td>...</td>\n",
       "      <td>...</td>\n",
       "      <td>...</td>\n",
       "      <td>...</td>\n",
       "      <td>...</td>\n",
       "      <td>...</td>\n",
       "      <td>...</td>\n",
       "      <td>...</td>\n",
       "      <td>...</td>\n",
       "      <td>...</td>\n",
       "      <td>...</td>\n",
       "      <td>...</td>\n",
       "      <td>...</td>\n",
       "      <td>...</td>\n",
       "      <td>...</td>\n",
       "      <td>...</td>\n",
       "    </tr>\n",
       "    <tr>\n",
       "      <th>3141</th>\n",
       "      <td>14053</td>\n",
       "      <td>0.0</td>\n",
       "      <td>0</td>\n",
       "      <td>NaN</td>\n",
       "      <td>16/09/09</td>\n",
       "      <td>19/04/02</td>\n",
       "      <td>7.69</td>\n",
       "      <td>FUSEX</td>\n",
       "      <td>Normais</td>\n",
       "      <td>100.0</td>\n",
       "      <td>70.0</td>\n",
       "      <td>Não Calculado</td>\n",
       "      <td>Normal</td>\n",
       "      <td>ausente</td>\n",
       "      <td>72</td>\n",
       "      <td>NaN</td>\n",
       "      <td>NaN</td>\n",
       "      <td>M</td>\n",
       "      <td>2 - Check-up</td>\n",
       "      <td>NaN</td>\n",
       "    </tr>\n",
       "    <tr>\n",
       "      <th>3142</th>\n",
       "      <td>9000</td>\n",
       "      <td>0.0</td>\n",
       "      <td>0</td>\n",
       "      <td>NaN</td>\n",
       "      <td>12/01/05</td>\n",
       "      <td>06/11/95</td>\n",
       "      <td>9.529999999999999</td>\n",
       "      <td>GS</td>\n",
       "      <td>Normais</td>\n",
       "      <td>90.0</td>\n",
       "      <td>50.0</td>\n",
       "      <td>Não Calculado</td>\n",
       "      <td>Normal</td>\n",
       "      <td>Sistólico</td>\n",
       "      <td>82</td>\n",
       "      <td>Dor precordial</td>\n",
       "      <td>NaN</td>\n",
       "      <td>F</td>\n",
       "      <td>6 - Suspeita de cardiopatia</td>\n",
       "      <td>6 - Dor precordial</td>\n",
       "    </tr>\n",
       "    <tr>\n",
       "      <th>3143</th>\n",
       "      <td>14643</td>\n",
       "      <td>46.0</td>\n",
       "      <td>151</td>\n",
       "      <td>20.0</td>\n",
       "      <td>18/02/04</td>\n",
       "      <td>20/10/90</td>\n",
       "      <td>13.83</td>\n",
       "      <td>UR</td>\n",
       "      <td>Normais</td>\n",
       "      <td>120.0</td>\n",
       "      <td>60.0</td>\n",
       "      <td>Normal</td>\n",
       "      <td>Normal</td>\n",
       "      <td>Sistólico</td>\n",
       "      <td>96</td>\n",
       "      <td>Dispneia</td>\n",
       "      <td>NaN</td>\n",
       "      <td>F</td>\n",
       "      <td>6 - Suspeita de cardiopatia</td>\n",
       "      <td>6 - Dor precordial</td>\n",
       "    </tr>\n",
       "    <tr>\n",
       "      <th>3144</th>\n",
       "      <td>15107</td>\n",
       "      <td>NaN</td>\n",
       "      <td>50</td>\n",
       "      <td>NaN</td>\n",
       "      <td>05/09/06</td>\n",
       "      <td>04/09/06</td>\n",
       "      <td>0</td>\n",
       "      <td>GS</td>\n",
       "      <td>Normais</td>\n",
       "      <td>NaN</td>\n",
       "      <td>NaN</td>\n",
       "      <td>Não Calculado</td>\n",
       "      <td>Normal</td>\n",
       "      <td>Sistólico</td>\n",
       "      <td>133</td>\n",
       "      <td>NaN</td>\n",
       "      <td>NaN</td>\n",
       "      <td>Indeterminado</td>\n",
       "      <td>6 - Suspeita de cardiopatia</td>\n",
       "      <td>6 - Sopro</td>\n",
       "    </tr>\n",
       "    <tr>\n",
       "      <th>3145</th>\n",
       "      <td>14963</td>\n",
       "      <td>27.0</td>\n",
       "      <td>123</td>\n",
       "      <td>18.0</td>\n",
       "      <td>10/06/04</td>\n",
       "      <td>16/03/97</td>\n",
       "      <td>7.51</td>\n",
       "      <td>SULA</td>\n",
       "      <td>Normais</td>\n",
       "      <td>100.0</td>\n",
       "      <td>60.0</td>\n",
       "      <td>Normal</td>\n",
       "      <td>Normal</td>\n",
       "      <td>ausente</td>\n",
       "      <td>92</td>\n",
       "      <td>Assintomático</td>\n",
       "      <td>NaN</td>\n",
       "      <td>M</td>\n",
       "      <td>5 - Parecer cardiológico</td>\n",
       "      <td>5 - Cirurgia</td>\n",
       "    </tr>\n",
       "  </tbody>\n",
       "</table>\n",
       "<p>3146 rows × 20 columns</p>\n",
       "</div>"
      ],
      "text/plain": [
       "         Id  Peso  Altura   IMC Atendimento        DN              IDADE  \\\n",
       "0      8957   4.5      54  15.0    03/08/09  11/06/09               0.15   \n",
       "1      4246  42.4     150  19.0    23/02/06  03/03/94              12.43   \n",
       "2      9089  18.1     104  17.0    16/10/07  08/02/04               3.82   \n",
       "3     10606   7.7       0   NaN    09/08/04  27/11/03               0.73   \n",
       "4      9863  16.0       0   NaN    04/07/08  29/08/04               3.99   \n",
       "...     ...   ...     ...   ...         ...       ...                ...   \n",
       "3141  14053   0.0       0   NaN    16/09/09  19/04/02               7.69   \n",
       "3142   9000   0.0       0   NaN    12/01/05  06/11/95  9.529999999999999   \n",
       "3143  14643  46.0     151  20.0    18/02/04  20/10/90              13.83   \n",
       "3144  15107   NaN      50   NaN    05/09/06  04/09/06                  0   \n",
       "3145  14963  27.0     123  18.0    10/06/04  16/03/97               7.51   \n",
       "\n",
       "      Convenio   PULSOS  PA SISTOLICA  PA DIASTOLICA            PPA      B2  \\\n",
       "0          NaN  Normais           NaN            NaN  Não Calculado  Normal   \n",
       "1       MEDISE  Normais           NaN            NaN  Não Calculado  Normal   \n",
       "2        CAMED  Normais         130.0           90.0      HAS-2 PAS  Normal   \n",
       "3         SULA  Normais           NaN            NaN  Não Calculado  Normal   \n",
       "4     NORCLIN.  Normais           NaN            NaN  Não Calculado  Normal   \n",
       "...        ...      ...           ...            ...            ...     ...   \n",
       "3141     FUSEX  Normais         100.0           70.0  Não Calculado  Normal   \n",
       "3142        GS  Normais          90.0           50.0  Não Calculado  Normal   \n",
       "3143        UR  Normais         120.0           60.0         Normal  Normal   \n",
       "3144        GS  Normais           NaN            NaN  Não Calculado  Normal   \n",
       "3145      SULA  Normais         100.0           60.0         Normal  Normal   \n",
       "\n",
       "          SOPRO   FC           HDA 1   HDA2           SEXO  \\\n",
       "0       ausente  110        Dispneia  Outro              F   \n",
       "1       ausente   84   Assintomático    NaN              M   \n",
       "2       ausente  100         Cianose    NaN              M   \n",
       "3       ausente   98   Assintomático    NaN              F   \n",
       "4       ausente   90   Assintomático    NaN              F   \n",
       "...         ...  ...             ...    ...            ...   \n",
       "3141    ausente   72             NaN    NaN              M   \n",
       "3142  Sistólico   82  Dor precordial    NaN              F   \n",
       "3143  Sistólico   96        Dispneia    NaN              F   \n",
       "3144  Sistólico  133             NaN    NaN  Indeterminado   \n",
       "3145    ausente   92   Assintomático    NaN              M   \n",
       "\n",
       "                              MOTIVO1                    MOTIVO2  \n",
       "0                        2 - Check-up                        NaN  \n",
       "1            5 - Parecer cardiológico       5 - Atividade física  \n",
       "2            5 - Parecer cardiológico                        NaN  \n",
       "3     1 - Cardiopatia já estabelecida  1 - Cardiopatia congenica  \n",
       "4            5 - Parecer cardiológico               5 - Cirurgia  \n",
       "...                               ...                        ...  \n",
       "3141                     2 - Check-up                        NaN  \n",
       "3142      6 - Suspeita de cardiopatia         6 - Dor precordial  \n",
       "3143      6 - Suspeita de cardiopatia         6 - Dor precordial  \n",
       "3144      6 - Suspeita de cardiopatia                  6 - Sopro  \n",
       "3145         5 - Parecer cardiológico               5 - Cirurgia  \n",
       "\n",
       "[3146 rows x 20 columns]"
      ]
     },
     "metadata": {},
     "output_type": "display_data"
    }
   ],
   "source": [
    "dados_treino = pd.read_csv('./data/train.csv')\n",
    "dados = pd.read_csv('./data/RHP_data.csv')\n",
    "dados_teste = pd.read_csv('./data/test.csv')\n",
    "\n",
    "dados_treino = dados.merge(dados_treino, on='Id', how='right')\n",
    "dados_teste = dados.merge(dados_teste, on='Id', how='right')\n",
    "\n",
    "dados_treino = dados_teste\n",
    "\n",
    "display(dados_treino)\n"
   ]
  },
  {
   "cell_type": "markdown",
   "metadata": {},
   "source": [
    "##### Após o carregamento dos dados, será estudado a análise de cada atributo\n",
    "\n",
    "* Peso: representa o peso, em Kg, de cada indivíduo.\n",
    "\n",
    "* Altura: representa a altura, em cm, de cada indivíduo.\n",
    "\n",
    "* IMC: representa o índice de massa corporal do paciente, índice que representa se o paciente estáem seu peso ideal ou não. É calculado pelo peso (em metros) dividido pela altura elevada ao quadrado.\n",
    "\n",
    "* Atendimento: indica a data em que foi feito o atendimento do paciente.\n",
    "\n",
    "* DN: data em que a declaração de nascido vivo do paciente foi escrita.\n",
    "\n",
    "* Idade: representa a idade do paciente, sendo os anos representados por um valor real.\n",
    "\n",
    "* Convênio: Indica qual o convênio do cliente.\n",
    "\n",
    "* Pulsos: Indica a qualidade da circulação arterial. Pulsos fracos ou ausentes podem sugerir problemas como obstrução arterial ou insuficiência cardíaca.\n",
    "\n",
    "* PA Sistolica: valor mais alto (medido em mmHg) que aparece durante uma aferição de pressão. Representa a pressão exercida nas artérias durante a contração do coração (sístole). Valores elevados indicam hipertensão arterial, enquanto valores muito baixos podem sugerir hipotensão.\n",
    "\n",
    "* PA Diastolica: valor mais baixo (medido em mmHg) que aparece durante uma aferição de pressão. Reflete a pressão arterial durante o relaxamento do coração (diástole). É usada junto com a PA sistólica para diagnosticar hipertensão.\n",
    "\n",
    "* PPA (Pressão de Pulso Arterial): Diferença entre a pressão arterial sistólica e diastólica. Indica a rigidez arterial. Valores elevados podem estar associados a doenças cardiovasculares.\n",
    "\n",
    "* B2: Segundo Ruído Cardíaco, representa o som do fechamento das válvulas aórtica e pulmonar. Alterações no B2 podem sugerir problemas como hipertensão pulmonar ou doenças valvares.\n",
    "\n",
    "* Sopro: Presença de ruídos anormais detectados durante a ausculta cardíaca. Pode indicar problemas como regurgitação ou estenose valvar.\n",
    "\n",
    "* FC (Frequência Cardíaca): número de batimentos cardíacos por minuto (bpm). Frequências muito altas (taquicardia) ou baixas (bradicardia) podem indicar problemas cardíacos ou metabólicos.\n",
    "\n",
    "* HDA1 (Histórico de doenças atual 1): informações detalhadas sobre o principal problema clínico atual.\n",
    "\n",
    "* HDA2 (Histórico de doenças atual 2): informações adicionais sobre o problema clínico ou outras condições associadas.\n",
    "\n",
    "* Sexo: genêro biológico do paciente.\n",
    "\n",
    "* Motivo 1: principal razão para a consulta.\n",
    "\n",
    "* Motivo 2: razão secundária para a consulta."
   ]
  },
  {
   "cell_type": "markdown",
   "metadata": {},
   "source": [
    "##### Medidas descritivas dos dados"
   ]
  },
  {
   "cell_type": "code",
   "execution_count": 563,
   "metadata": {},
   "outputs": [
    {
     "data": {
      "text/html": [
       "<div>\n",
       "<style scoped>\n",
       "    .dataframe tbody tr th:only-of-type {\n",
       "        vertical-align: middle;\n",
       "    }\n",
       "\n",
       "    .dataframe tbody tr th {\n",
       "        vertical-align: top;\n",
       "    }\n",
       "\n",
       "    .dataframe thead th {\n",
       "        text-align: right;\n",
       "    }\n",
       "</style>\n",
       "<table border=\"1\" class=\"dataframe\">\n",
       "  <thead>\n",
       "    <tr style=\"text-align: right;\">\n",
       "      <th></th>\n",
       "      <th>Id</th>\n",
       "      <th>Peso</th>\n",
       "      <th>Altura</th>\n",
       "      <th>IMC</th>\n",
       "      <th>Atendimento</th>\n",
       "      <th>DN</th>\n",
       "      <th>IDADE</th>\n",
       "      <th>Convenio</th>\n",
       "      <th>PULSOS</th>\n",
       "      <th>PA SISTOLICA</th>\n",
       "      <th>PA DIASTOLICA</th>\n",
       "      <th>PPA</th>\n",
       "      <th>B2</th>\n",
       "      <th>SOPRO</th>\n",
       "      <th>FC</th>\n",
       "      <th>HDA 1</th>\n",
       "      <th>HDA2</th>\n",
       "      <th>SEXO</th>\n",
       "      <th>MOTIVO1</th>\n",
       "      <th>MOTIVO2</th>\n",
       "    </tr>\n",
       "  </thead>\n",
       "  <tbody>\n",
       "    <tr>\n",
       "      <th>count</th>\n",
       "      <td>3146.000000</td>\n",
       "      <td>3088.000000</td>\n",
       "      <td>3146.000000</td>\n",
       "      <td>2436.000000</td>\n",
       "      <td>3146</td>\n",
       "      <td>3146</td>\n",
       "      <td>3146</td>\n",
       "      <td>2335</td>\n",
       "      <td>3140</td>\n",
       "      <td>1911.000000</td>\n",
       "      <td>1911.000000</td>\n",
       "      <td>3126</td>\n",
       "      <td>3144</td>\n",
       "      <td>3144</td>\n",
       "      <td>3000</td>\n",
       "      <td>2346</td>\n",
       "      <td>113</td>\n",
       "      <td>3145</td>\n",
       "      <td>3122</td>\n",
       "      <td>2427</td>\n",
       "    </tr>\n",
       "    <tr>\n",
       "      <th>unique</th>\n",
       "      <td>NaN</td>\n",
       "      <td>NaN</td>\n",
       "      <td>NaN</td>\n",
       "      <td>NaN</td>\n",
       "      <td>1474</td>\n",
       "      <td>2441</td>\n",
       "      <td>1312</td>\n",
       "      <td>177</td>\n",
       "      <td>5</td>\n",
       "      <td>NaN</td>\n",
       "      <td>NaN</td>\n",
       "      <td>8</td>\n",
       "      <td>5</td>\n",
       "      <td>6</td>\n",
       "      <td>75</td>\n",
       "      <td>8</td>\n",
       "      <td>7</td>\n",
       "      <td>6</td>\n",
       "      <td>5</td>\n",
       "      <td>15</td>\n",
       "    </tr>\n",
       "    <tr>\n",
       "      <th>top</th>\n",
       "      <td>NaN</td>\n",
       "      <td>NaN</td>\n",
       "      <td>NaN</td>\n",
       "      <td>NaN</td>\n",
       "      <td>09/07/07</td>\n",
       "      <td>16/06/03</td>\n",
       "      <td>0</td>\n",
       "      <td>GS</td>\n",
       "      <td>Normais</td>\n",
       "      <td>NaN</td>\n",
       "      <td>NaN</td>\n",
       "      <td>Não Calculado</td>\n",
       "      <td>Normal</td>\n",
       "      <td>ausente</td>\n",
       "      <td>80</td>\n",
       "      <td>Assintomático</td>\n",
       "      <td>Dispneia</td>\n",
       "      <td>M</td>\n",
       "      <td>5 - Parecer cardiológico</td>\n",
       "      <td>5 - Cirurgia</td>\n",
       "    </tr>\n",
       "    <tr>\n",
       "      <th>freq</th>\n",
       "      <td>NaN</td>\n",
       "      <td>NaN</td>\n",
       "      <td>NaN</td>\n",
       "      <td>NaN</td>\n",
       "      <td>9</td>\n",
       "      <td>6</td>\n",
       "      <td>50</td>\n",
       "      <td>542</td>\n",
       "      <td>3114</td>\n",
       "      <td>NaN</td>\n",
       "      <td>NaN</td>\n",
       "      <td>1711</td>\n",
       "      <td>3018</td>\n",
       "      <td>2004</td>\n",
       "      <td>465</td>\n",
       "      <td>1777</td>\n",
       "      <td>33</td>\n",
       "      <td>1677</td>\n",
       "      <td>1489</td>\n",
       "      <td>783</td>\n",
       "    </tr>\n",
       "    <tr>\n",
       "      <th>mean</th>\n",
       "      <td>8893.254291</td>\n",
       "      <td>22.026231</td>\n",
       "      <td>88.050223</td>\n",
       "      <td>17.867406</td>\n",
       "      <td>NaN</td>\n",
       "      <td>NaN</td>\n",
       "      <td>NaN</td>\n",
       "      <td>NaN</td>\n",
       "      <td>NaN</td>\n",
       "      <td>100.962323</td>\n",
       "      <td>62.006279</td>\n",
       "      <td>NaN</td>\n",
       "      <td>NaN</td>\n",
       "      <td>NaN</td>\n",
       "      <td>NaN</td>\n",
       "      <td>NaN</td>\n",
       "      <td>NaN</td>\n",
       "      <td>NaN</td>\n",
       "      <td>NaN</td>\n",
       "      <td>NaN</td>\n",
       "    </tr>\n",
       "    <tr>\n",
       "      <th>std</th>\n",
       "      <td>5122.239610</td>\n",
       "      <td>17.422042</td>\n",
       "      <td>54.264037</td>\n",
       "      <td>15.284035</td>\n",
       "      <td>NaN</td>\n",
       "      <td>NaN</td>\n",
       "      <td>NaN</td>\n",
       "      <td>NaN</td>\n",
       "      <td>NaN</td>\n",
       "      <td>17.553885</td>\n",
       "      <td>8.592640</td>\n",
       "      <td>NaN</td>\n",
       "      <td>NaN</td>\n",
       "      <td>NaN</td>\n",
       "      <td>NaN</td>\n",
       "      <td>NaN</td>\n",
       "      <td>NaN</td>\n",
       "      <td>NaN</td>\n",
       "      <td>NaN</td>\n",
       "      <td>NaN</td>\n",
       "    </tr>\n",
       "    <tr>\n",
       "      <th>min</th>\n",
       "      <td>1.000000</td>\n",
       "      <td>0.000000</td>\n",
       "      <td>0.000000</td>\n",
       "      <td>0.000000</td>\n",
       "      <td>NaN</td>\n",
       "      <td>NaN</td>\n",
       "      <td>NaN</td>\n",
       "      <td>NaN</td>\n",
       "      <td>NaN</td>\n",
       "      <td>70.000000</td>\n",
       "      <td>35.000000</td>\n",
       "      <td>NaN</td>\n",
       "      <td>NaN</td>\n",
       "      <td>NaN</td>\n",
       "      <td>NaN</td>\n",
       "      <td>NaN</td>\n",
       "      <td>NaN</td>\n",
       "      <td>NaN</td>\n",
       "      <td>NaN</td>\n",
       "      <td>NaN</td>\n",
       "    </tr>\n",
       "    <tr>\n",
       "      <th>25%</th>\n",
       "      <td>4507.750000</td>\n",
       "      <td>9.000000</td>\n",
       "      <td>51.000000</td>\n",
       "      <td>15.000000</td>\n",
       "      <td>NaN</td>\n",
       "      <td>NaN</td>\n",
       "      <td>NaN</td>\n",
       "      <td>NaN</td>\n",
       "      <td>NaN</td>\n",
       "      <td>90.000000</td>\n",
       "      <td>60.000000</td>\n",
       "      <td>NaN</td>\n",
       "      <td>NaN</td>\n",
       "      <td>NaN</td>\n",
       "      <td>NaN</td>\n",
       "      <td>NaN</td>\n",
       "      <td>NaN</td>\n",
       "      <td>NaN</td>\n",
       "      <td>NaN</td>\n",
       "      <td>NaN</td>\n",
       "    </tr>\n",
       "    <tr>\n",
       "      <th>50%</th>\n",
       "      <td>9002.500000</td>\n",
       "      <td>18.500000</td>\n",
       "      <td>102.000000</td>\n",
       "      <td>17.000000</td>\n",
       "      <td>NaN</td>\n",
       "      <td>NaN</td>\n",
       "      <td>NaN</td>\n",
       "      <td>NaN</td>\n",
       "      <td>NaN</td>\n",
       "      <td>100.000000</td>\n",
       "      <td>60.000000</td>\n",
       "      <td>NaN</td>\n",
       "      <td>NaN</td>\n",
       "      <td>NaN</td>\n",
       "      <td>NaN</td>\n",
       "      <td>NaN</td>\n",
       "      <td>NaN</td>\n",
       "      <td>NaN</td>\n",
       "      <td>NaN</td>\n",
       "      <td>NaN</td>\n",
       "    </tr>\n",
       "    <tr>\n",
       "      <th>75%</th>\n",
       "      <td>13236.750000</td>\n",
       "      <td>32.000000</td>\n",
       "      <td>130.000000</td>\n",
       "      <td>19.000000</td>\n",
       "      <td>NaN</td>\n",
       "      <td>NaN</td>\n",
       "      <td>NaN</td>\n",
       "      <td>NaN</td>\n",
       "      <td>NaN</td>\n",
       "      <td>105.000000</td>\n",
       "      <td>68.000000</td>\n",
       "      <td>NaN</td>\n",
       "      <td>NaN</td>\n",
       "      <td>NaN</td>\n",
       "      <td>NaN</td>\n",
       "      <td>NaN</td>\n",
       "      <td>NaN</td>\n",
       "      <td>NaN</td>\n",
       "      <td>NaN</td>\n",
       "      <td>NaN</td>\n",
       "    </tr>\n",
       "    <tr>\n",
       "      <th>max</th>\n",
       "      <td>17870.000000</td>\n",
       "      <td>157.000000</td>\n",
       "      <td>197.000000</td>\n",
       "      <td>742.000000</td>\n",
       "      <td>NaN</td>\n",
       "      <td>NaN</td>\n",
       "      <td>NaN</td>\n",
       "      <td>NaN</td>\n",
       "      <td>NaN</td>\n",
       "      <td>700.000000</td>\n",
       "      <td>110.000000</td>\n",
       "      <td>NaN</td>\n",
       "      <td>NaN</td>\n",
       "      <td>NaN</td>\n",
       "      <td>NaN</td>\n",
       "      <td>NaN</td>\n",
       "      <td>NaN</td>\n",
       "      <td>NaN</td>\n",
       "      <td>NaN</td>\n",
       "      <td>NaN</td>\n",
       "    </tr>\n",
       "  </tbody>\n",
       "</table>\n",
       "</div>"
      ],
      "text/plain": [
       "                  Id         Peso       Altura          IMC Atendimento  \\\n",
       "count    3146.000000  3088.000000  3146.000000  2436.000000        3146   \n",
       "unique           NaN          NaN          NaN          NaN        1474   \n",
       "top              NaN          NaN          NaN          NaN    09/07/07   \n",
       "freq             NaN          NaN          NaN          NaN           9   \n",
       "mean     8893.254291    22.026231    88.050223    17.867406         NaN   \n",
       "std      5122.239610    17.422042    54.264037    15.284035         NaN   \n",
       "min         1.000000     0.000000     0.000000     0.000000         NaN   \n",
       "25%      4507.750000     9.000000    51.000000    15.000000         NaN   \n",
       "50%      9002.500000    18.500000   102.000000    17.000000         NaN   \n",
       "75%     13236.750000    32.000000   130.000000    19.000000         NaN   \n",
       "max     17870.000000   157.000000   197.000000   742.000000         NaN   \n",
       "\n",
       "              DN IDADE Convenio   PULSOS  PA SISTOLICA  PA DIASTOLICA  \\\n",
       "count       3146  3146     2335     3140   1911.000000    1911.000000   \n",
       "unique      2441  1312      177        5           NaN            NaN   \n",
       "top     16/06/03     0       GS  Normais           NaN            NaN   \n",
       "freq           6    50      542     3114           NaN            NaN   \n",
       "mean         NaN   NaN      NaN      NaN    100.962323      62.006279   \n",
       "std          NaN   NaN      NaN      NaN     17.553885       8.592640   \n",
       "min          NaN   NaN      NaN      NaN     70.000000      35.000000   \n",
       "25%          NaN   NaN      NaN      NaN     90.000000      60.000000   \n",
       "50%          NaN   NaN      NaN      NaN    100.000000      60.000000   \n",
       "75%          NaN   NaN      NaN      NaN    105.000000      68.000000   \n",
       "max          NaN   NaN      NaN      NaN    700.000000     110.000000   \n",
       "\n",
       "                  PPA      B2    SOPRO    FC          HDA 1      HDA2  SEXO  \\\n",
       "count            3126    3144     3144  3000           2346       113  3145   \n",
       "unique              8       5        6    75              8         7     6   \n",
       "top     Não Calculado  Normal  ausente    80  Assintomático  Dispneia     M   \n",
       "freq             1711    3018     2004   465           1777        33  1677   \n",
       "mean              NaN     NaN      NaN   NaN            NaN       NaN   NaN   \n",
       "std               NaN     NaN      NaN   NaN            NaN       NaN   NaN   \n",
       "min               NaN     NaN      NaN   NaN            NaN       NaN   NaN   \n",
       "25%               NaN     NaN      NaN   NaN            NaN       NaN   NaN   \n",
       "50%               NaN     NaN      NaN   NaN            NaN       NaN   NaN   \n",
       "75%               NaN     NaN      NaN   NaN            NaN       NaN   NaN   \n",
       "max               NaN     NaN      NaN   NaN            NaN       NaN   NaN   \n",
       "\n",
       "                         MOTIVO1       MOTIVO2  \n",
       "count                       3122          2427  \n",
       "unique                         5            15  \n",
       "top     5 - Parecer cardiológico  5 - Cirurgia  \n",
       "freq                        1489           783  \n",
       "mean                         NaN           NaN  \n",
       "std                          NaN           NaN  \n",
       "min                          NaN           NaN  \n",
       "25%                          NaN           NaN  \n",
       "50%                          NaN           NaN  \n",
       "75%                          NaN           NaN  \n",
       "max                          NaN           NaN  "
      ]
     },
     "metadata": {},
     "output_type": "display_data"
    }
   ],
   "source": [
    "display(dados_treino.describe(include='all'))"
   ]
  },
  {
   "cell_type": "markdown",
   "metadata": {},
   "source": [
    "##### Correção de 'Normais' por 'Normal'\n",
    "Antes de plotar os gŕaficos, farei uma pequena substituição em uma amostra específica, apenas para corrigir a classe de normais para normal, afim de tornar o gráfico menos variado"
   ]
  },
  {
   "cell_type": "markdown",
   "metadata": {},
   "source": [
    "##### Plotando os Gráficos"
   ]
  },
  {
   "cell_type": "markdown",
   "metadata": {},
   "source": [
    "Gráfico de distribuição em relação ao motivo1 da visita e a condição do paciente"
   ]
  },
  {
   "cell_type": "markdown",
   "metadata": {},
   "source": [
    "##### Insights obtidos após obeservação e análise dos gráficos\n",
    "\n",
    "* No motivo 1 para a visita, uma parte considerável dos pacientes que possuem parecer cardiológico e suspeita de cardiopatia possuem alguma anormalidade.\n",
    "\n",
    "* No motivo 2 para a visita, uma parte considerável dos pacientes que tem como motivo cirurgia, sopro e cardiopatia congenica possuem alguma anormalidade. Com atenção especial voltada para o sopro, pois cerca de <strong>72%</strong>  daqueles que possuem sopro como condição possuem alguma anormalidade.\n",
    "\n",
    "* No histórico de doença atual 2, todos os diferentes valores possuem uma parcela considerável de pacientes com anormalidade, assim não pode-se desconsiderar nenhum deles.\n",
    "\n",
    "* Em SOPRO,é necessário padronizar os valores, visto que há diferentes valores que representam a mesma coisa, como Sistólico e sistólico, o mesmo ocorre com o atributo pulso.\n",
    "\n",
    "* Há a existência de outliners a serem tratados, como mostrado pelo gráfico boxplot.\n",
    "\n",
    "* Além dos outliers, é necessário tratar diversos casos de ruído, como #VALUE em PPA"
   ]
  },
  {
   "cell_type": "markdown",
   "metadata": {},
   "source": [
    "---\n",
    "### Pré-processamento\n",
    "\n",
    "Nesta seção, as funções da etapa de pré-processamento dos dados devem ser implementadas e aplicadas (se necessário)."
   ]
  },
  {
   "cell_type": "markdown",
   "metadata": {},
   "source": [
    "#### Começaremos o pré-processamento dos dados com a remoção de outliers nas colunas numéricas"
   ]
  },
  {
   "cell_type": "markdown",
   "metadata": {},
   "source": [
    "##### Agora iremos remover as inconsistências entra os valores de cada coluna.\n",
    "\n"
   ]
  },
  {
   "cell_type": "markdown",
   "metadata": {},
   "source": [
    "Começaremos pelo peso, pelo gráfico boxplot há apenas um outlier a ser removido, um peso negativo e diversos pesos com valor igual a 0. Os demais pesos acima do Q3 não serão removidos pois não apresentam inconsistências e também apresentam um grande volume de dados."
   ]
  },
  {
   "cell_type": "code",
   "execution_count": 564,
   "metadata": {},
   "outputs": [],
   "source": [
    "peso_outliner = dados_treino[dados_treino['Peso'] < 0]\n",
    "peso_invalido = dados_treino[dados_treino[\"Peso\"] == 0]\n",
    "\n",
    "dados_treino.drop(peso_outliner.index, inplace=True)\n",
    "dados_treino.drop(peso_invalido.index, inplace=True)"
   ]
  },
  {
   "cell_type": "code",
   "execution_count": 565,
   "metadata": {},
   "outputs": [],
   "source": [
    "peso_outliner = dados_teste[dados_teste[\"Peso\"] < 0]\n",
    "peso_invalido = dados_teste[dados_teste[\"Peso\"] == 0]\n",
    "\n",
    "dados_teste.drop(peso_outliner.index, inplace=True)\n",
    "dados_teste.drop(peso_invalido.index, inplace=True)"
   ]
  },
  {
   "cell_type": "markdown",
   "metadata": {},
   "source": [
    "Plotagem do boxplot da coluna 'Peso' para mostrar a remoção do outliner"
   ]
  },
  {
   "cell_type": "markdown",
   "metadata": {},
   "source": [
    "Agora trataremos amostras de com alturas inválidas, que possuem valor igual a 0. Outros valores também são considerados inválidos, pois são pequenos demais para serem verdade, seguindo a tabela da fonte: https://www.unimed.coop.br/viver-bem/pais-e-filhos/estatura-por-idade"
   ]
  },
  {
   "cell_type": "code",
   "execution_count": 566,
   "metadata": {},
   "outputs": [],
   "source": [
    "pd.set_option(\"display.max_columns\", None)"
   ]
  },
  {
   "cell_type": "markdown",
   "metadata": {},
   "source": [
    "É convertido a coluna idade em float para poder realizar as comparações."
   ]
  },
  {
   "cell_type": "code",
   "execution_count": 567,
   "metadata": {},
   "outputs": [],
   "source": [
    "# Converte a coluna 'IDADE' para numérica\n",
    "dados_treino[\"IDADE\"] = pd.to_numeric(dados_treino[\"IDADE\"], errors=\"coerce\")\n",
    "\n",
    "\n",
    "altura_invalida = dados_treino[dados_treino[\"Altura\"] == 0]\n",
    "dados_treino.drop(altura_invalida.index, inplace=True)\n",
    "\n",
    "altura_irreal = dados_treino[dados_treino[\"Altura\"] < 45]\n",
    "dados_treino.drop(altura_irreal.index, inplace=True)\n",
    "\n",
    "altura_fora_padrao = dados_treino[\n",
    "    (dados_treino[\"Altura\"] < 80) & (dados_treino[\"IDADE\"] >= 2)\n",
    "]\n",
    "dados_treino.drop(altura_fora_padrao.index, inplace=True)"
   ]
  },
  {
   "cell_type": "code",
   "execution_count": 568,
   "metadata": {},
   "outputs": [],
   "source": [
    "# Converte a coluna 'IDADE' para numérica\n",
    "dados_teste[\"IDADE\"] = pd.to_numeric(dados_teste[\"IDADE\"], errors=\"coerce\")\n",
    "\n",
    "\n",
    "\n",
    "altura_irreal = dados_teste[dados_teste[\"Altura\"] < 45]\n",
    "dados_teste.drop(altura_irreal.index, inplace=True)\n",
    "\n",
    "altura_fora_padrao = dados_teste[\n",
    "    (dados_teste[\"Altura\"] < 80) & (dados_teste[\"IDADE\"] >= 2)\n",
    "]\n",
    "dados_teste.drop(altura_fora_padrao.index, inplace=True)"
   ]
  },
  {
   "cell_type": "markdown",
   "metadata": {},
   "source": [
    "Após remover os valores inválidos de altura, iremos substituir os valores NaN de altura  por sua mediana, devido ao alto desvio padrão da amostra. "
   ]
  },
  {
   "cell_type": "code",
   "execution_count": 569,
   "metadata": {},
   "outputs": [
    {
     "data": {
      "text/plain": [
       "count    2443.000000\n",
       "mean      112.056488\n",
       "std        32.998177\n",
       "min        45.000000\n",
       "25%        91.000000\n",
       "50%       114.000000\n",
       "75%       138.000000\n",
       "max       197.000000\n",
       "Name: Altura, dtype: float64"
      ]
     },
     "metadata": {},
     "output_type": "display_data"
    }
   ],
   "source": [
    "display(dados_treino['Altura'].describe(include='all'))"
   ]
  },
  {
   "cell_type": "code",
   "execution_count": 570,
   "metadata": {},
   "outputs": [],
   "source": [
    "dados_treino['Altura'] = dados_treino['Altura'].fillna(value=dados_treino['Altura'].median())"
   ]
  },
  {
   "cell_type": "markdown",
   "metadata": {},
   "source": [
    "Agora iremos repetir o processo para o peso"
   ]
  },
  {
   "cell_type": "code",
   "execution_count": 571,
   "metadata": {},
   "outputs": [],
   "source": [
    "dados_treino[\"Peso\"] = dados_treino[\"Peso\"].fillna(\n",
    "    value=dados_treino[\"Peso\"].median()\n",
    ")"
   ]
  },
  {
   "cell_type": "markdown",
   "metadata": {},
   "source": [
    "Tratados todos os valores faltantes para altura e peso, agora iremos recalcular o imc"
   ]
  },
  {
   "cell_type": "code",
   "execution_count": 572,
   "metadata": {},
   "outputs": [],
   "source": [
    "altura = dados_treino['Altura']\n",
    "peso = dados_treino['Peso']\n",
    "\n",
    "altura /= 100\n",
    "\n",
    "imc = peso / (altura ** 2)\n",
    "\n",
    "dados_treino['IMC'] = imc"
   ]
  },
  {
   "cell_type": "markdown",
   "metadata": {},
   "source": [
    "Plotando o boxplot do IMC para mostrar a remoção de valores inválidos."
   ]
  },
  {
   "cell_type": "markdown",
   "metadata": {},
   "source": [
    "Após padronizar o peso de a altura, iremos usá-los para resolver as inconsistências nos valores da coluna idade. Para iniciar, iremos converte-lá para o tipo float."
   ]
  },
  {
   "cell_type": "markdown",
   "metadata": {},
   "source": [
    "Agora iremos plotar o boxplot para analisar os dados."
   ]
  },
  {
   "cell_type": "markdown",
   "metadata": {},
   "source": [
    "Como se pode observar, há um número gigantesco de inconsistências, por isso não seria possível apenas removê-los, ainda mais considerando o tamanho do conjunto de dados. Para isso, iremos usar o peso e a altura de cada um para substituir esses valores incorretos, que deveriam estar num intervalo de 0 até 19 anos."
   ]
  },
  {
   "cell_type": "markdown",
   "metadata": {},
   "source": [
    "Em seguida, iremos padronizar os valores de 'SEXO' em valores únicos, como também  resolver os NaN e indeterminados."
   ]
  },
  {
   "cell_type": "markdown",
   "metadata": {},
   "source": [
    "Primeiro, iremos padronizar os diferentes valores."
   ]
  },
  {
   "cell_type": "code",
   "execution_count": 573,
   "metadata": {},
   "outputs": [],
   "source": [
    "x = dados_treino['SEXO'] == 'masculino'\n",
    "dados_treino.loc[x, 'SEXO'] = 'M'\n",
    "\n",
    "x = dados_treino[\"SEXO\"] == \"Masculino\"\n",
    "dados_treino.loc[x, \"SEXO\"] = \"M\"\n",
    "\n",
    "x = dados_treino[\"SEXO\"] == \"Feminino\"\n",
    "dados_treino.loc[x, \"SEXO\"] = \"F\""
   ]
  },
  {
   "cell_type": "markdown",
   "metadata": {},
   "source": [
    "Após padronizar os valores, iremos analisar os dados para verificar como iremos tratar os valores faltantes."
   ]
  },
  {
   "cell_type": "code",
   "execution_count": 574,
   "metadata": {},
   "outputs": [
    {
     "name": "stdout",
     "output_type": "stream",
     "text": [
      "1405\n",
      "981\n"
     ]
    }
   ],
   "source": [
    "print(len(dados_treino[dados_treino['SEXO'] == 'M']))\n",
    "print(len(dados_treino[dados_treino['SEXO'] == 'F']))"
   ]
  },
  {
   "cell_type": "markdown",
   "metadata": {},
   "source": [
    "A quantidade de Homens para mulheres segue a distribuição de 3/5 para 2/5 nas amostras com valores, então essa distribuição será usada para as amostras faltantes"
   ]
  },
  {
   "cell_type": "code",
   "execution_count": 575,
   "metadata": {},
   "outputs": [],
   "source": [
    "valores_faltantes  = dados_treino['SEXO'].isna().sum()\n",
    "valores_faltantes += len(dados_treino[dados_treino['SEXO'] == 'Indeterminado'])\n",
    "\n",
    "qtd_homens = int(valores_faltantes * 3/5)\n",
    "qtd_mulheres = valores_faltantes - qtd_homens"
   ]
  },
  {
   "cell_type": "markdown",
   "metadata": {},
   "source": [
    "Calculados os valores, iremos começar o processo de substituição"
   ]
  },
  {
   "cell_type": "code",
   "execution_count": 576,
   "metadata": {},
   "outputs": [],
   "source": [
    "# Substituimdo 'Indeterminado' por NaN para facilitar\n",
    "dados_treino[\"SEXO\"] = dados_treino[\"SEXO\"].replace(\"Indeterminado\", np.nan)\n",
    "\n",
    "dados_treino.loc[dados_treino[\"SEXO\"].isna(), \"SEXO\"] = [\"M\"] * qtd_homens + [\"F\"] * qtd_mulheres"
   ]
  },
  {
   "cell_type": "markdown",
   "metadata": {},
   "source": [
    "Plotando o gráfico de sexo por classes para mostrara  mudança."
   ]
  },
  {
   "cell_type": "markdown",
   "metadata": {},
   "source": [
    "A próxima coluna que terá os outliners tratados será a 'PA SISTOLICA'. Após uma breve pesquisa, foi encintrado que valores abaixo de 20 mmHg e acima de 250 mmHg são considerados valores absurdo, tratados como erro de medição, assim eles serão usados como intervalos para detectar outliners"
   ]
  },
  {
   "cell_type": "code",
   "execution_count": 577,
   "metadata": {},
   "outputs": [],
   "source": [
    "outliners_pasistolica_acima = (dados_treino[dados_treino[\"PA SISTOLICA\"] > 250]) \n",
    "outliners_pasistolica_abaixo = dados_treino[dados_treino[\"PA SISTOLICA\"] < 20]\n",
    "\n",
    "dados_treino.drop(outliners_pasistolica_abaixo.index, inplace=True)\n",
    "dados_treino.drop(outliners_pasistolica_acima.index, inplace=True)"
   ]
  },
  {
   "cell_type": "markdown",
   "metadata": {},
   "source": [
    "Agora iremos lidar com os valores faltantes em PA SISTOLICA e PA DIASTOLICA. Mas primeiro iremos analisar o desvio padrão de cada uma."
   ]
  },
  {
   "cell_type": "code",
   "execution_count": 578,
   "metadata": {},
   "outputs": [
    {
     "name": "stdout",
     "output_type": "stream",
     "text": [
      "count    1536.000000\n",
      "mean      100.519531\n",
      "std        10.980510\n",
      "min        70.000000\n",
      "25%        90.000000\n",
      "50%       100.000000\n",
      "75%       105.000000\n",
      "max       160.000000\n",
      "Name: PA SISTOLICA, dtype: float64\n"
     ]
    }
   ],
   "source": [
    "print(dados_treino['PA SISTOLICA'].describe())"
   ]
  },
  {
   "cell_type": "code",
   "execution_count": 579,
   "metadata": {},
   "outputs": [
    {
     "name": "stdout",
     "output_type": "stream",
     "text": [
      "count    1536.000000\n",
      "mean       61.965495\n",
      "std         8.550489\n",
      "min        35.000000\n",
      "25%        60.000000\n",
      "50%        60.000000\n",
      "75%        65.750000\n",
      "max       100.000000\n",
      "Name: PA DIASTOLICA, dtype: float64\n"
     ]
    }
   ],
   "source": [
    "print(dados_treino[\"PA DIASTOLICA\"].describe())"
   ]
  },
  {
   "cell_type": "markdown",
   "metadata": {},
   "source": [
    "Levando em conta que o std é relativamente baixo, podemos substituir os valores NaN pelas médias."
   ]
  },
  {
   "cell_type": "code",
   "execution_count": 580,
   "metadata": {},
   "outputs": [],
   "source": [
    "dados_treino['PA DIASTOLICA'] = dados_treino['PA DIASTOLICA'].fillna(value=dados_treino['PA DIASTOLICA'].mean())\n",
    "\n",
    "dados_treino['PA SISTOLICA'] = dados_treino[\"PA SISTOLICA\"].fillna(\n",
    "    value=dados_treino[\"PA SISTOLICA\"].mean()\n",
    ")"
   ]
  },
  {
   "cell_type": "code",
   "execution_count": 581,
   "metadata": {},
   "outputs": [
    {
     "name": "stdout",
     "output_type": "stream",
     "text": [
      "0\n"
     ]
    }
   ],
   "source": [
    "print(dados_treino['PA DIASTOLICA'].isna().sum())"
   ]
  },
  {
   "cell_type": "code",
   "execution_count": 582,
   "metadata": {},
   "outputs": [
    {
     "name": "stdout",
     "output_type": "stream",
     "text": [
      "0\n"
     ]
    }
   ],
   "source": [
    "print(dados_treino[\"PA SISTOLICA\"].isna().sum())"
   ]
  },
  {
   "cell_type": "markdown",
   "metadata": {},
   "source": [
    "Plotagem do boxplot da coluna 'PA SISTOLICA' para mostrar a remoção dos outliners"
   ]
  },
  {
   "cell_type": "markdown",
   "metadata": {},
   "source": [
    "A próxima coluna que terá seus outliners tratados será a 'PA DIASTOLICA'. Após procurar, são ditos como valores irreais: valores inferiores a 30mmHg e valores acima de 150mHg."
   ]
  },
  {
   "cell_type": "code",
   "execution_count": 583,
   "metadata": {},
   "outputs": [],
   "source": [
    "outliners_diastolica_abaixo = dados_treino[dados_treino['PA DIASTOLICA'] < 30]\n",
    "outliners_diastolica_acima = dados_treino[dados_treino['PA DIASTOLICA'] > 150]\n",
    "\n",
    "dados_treino.drop(outliners_diastolica_abaixo.index, inplace=True)\n",
    "dados_treino.drop(outliners_diastolica_acima.index, inplace=True)"
   ]
  },
  {
   "cell_type": "markdown",
   "metadata": {},
   "source": [
    "Plotagem dos boxplot para comprovar a remoção de outliners"
   ]
  },
  {
   "cell_type": "markdown",
   "metadata": {},
   "source": [
    "A respeito da coluna IMC, ao invés de removermos os outliners, que estão em grande quantidade, iremos usar os valores de peso e altura para recalcular o IMC."
   ]
  },
  {
   "cell_type": "markdown",
   "metadata": {},
   "source": [
    "Começando pelas incosistências na coluna 'SOPRO', padronizando diferentes valores que representam a mesma coisa."
   ]
  },
  {
   "cell_type": "code",
   "execution_count": 584,
   "metadata": {},
   "outputs": [],
   "source": [
    "x = dados_treino['SOPRO'] == 'contínuo'\n",
    "dados_treino.loc[x, 'SOPRO'] = 'Contínuo'\n",
    "\n",
    "x = dados_treino[\"SOPRO\"] == \"sistólico\"\n",
    "dados_treino.loc[x, 'SOPRO'] = 'Sistólico'"
   ]
  },
  {
   "cell_type": "markdown",
   "metadata": {},
   "source": [
    "Plotagem da coluna 'SOPRO' para verificar as alterações"
   ]
  },
  {
   "cell_type": "markdown",
   "metadata": {},
   "source": [
    "A próxima incosistência está localizada na coluna PPA (pressão de pulso arterial). Muitos amostras possuem #VALUE! e 'Não calculado' como valor, serão recalculados utilizando a pressão arterial sistólica e pressão arterial diastólica."
   ]
  },
  {
   "cell_type": "code",
   "execution_count": 585,
   "metadata": {},
   "outputs": [],
   "source": [
    "error_values = (\n",
    "    (dados_treino[\"PPA\"] == \"#VALUE!\")\n",
    "    | (dados_treino[\"PPA\"] == \"Não Calculado\")\n",
    "    | (dados_treino[\"PPA\"].isna())\n",
    ")\n",
    "\n",
    "pas_value = dados_treino.loc[error_values, 'PA DIASTOLICA']\n",
    "pad_value = dados_treino.loc[error_values, \"PA SISTOLICA\"]\n",
    "\n",
    "ids = dados_treino.loc[error_values, 'Id']\n",
    "\n",
    "ids_list = []\n",
    "\n",
    "for i in ids:\n",
    "  ids_list.append(i)"
   ]
  },
  {
   "cell_type": "markdown",
   "metadata": {},
   "source": [
    "Com os valores da recuperados, agora iremos criar uma função para clássificá-los de acordo com seus valores e depois inseri-los no DF"
   ]
  },
  {
   "cell_type": "code",
   "execution_count": 586,
   "metadata": {},
   "outputs": [],
   "source": [
    "def classificar_ppa_completo(pas_value, pad_value):\n",
    "    if pas_value < 120 and pad_value < 80:\n",
    "        return \"Normal\"\n",
    "    elif 120 <= pas_value < 140:\n",
    "        return \"Pre-Hipertensão PAS\"\n",
    "    elif 80 <= pad_value < 90:\n",
    "        return \"Pre-Hipertensão PAD\"\n",
    "    \n",
    "    elif 140 <= pas_value < 160 or 90 <= pad_value < 100:\n",
    "        if pas_value >= 140 and pas_value < 160:\n",
    "            return \"HAS-1 PAS\"\n",
    "        elif pad_value >= 90 and pad_value < 100:\n",
    "            return \"HAS-1 PAD\"\n",
    "\n",
    "    elif pas_value >= 160 or pad_value >= 100:\n",
    "        if pas_value >= 160:\n",
    "            return \"HAS-2 PAS\"\n",
    "        elif pad_value >= 100:\n",
    "            return \"HAS-2 PAD\"\n",
    "\n",
    "\n",
    "    return \"Não Calculado\"\n",
    "\n",
    "\n",
    "categorias = []\n",
    "\n",
    "for i in range (len(pas_value)):\n",
    "    categorias.append(classificar_ppa_completo(pas_value.iloc[i], pad_value.iloc[i]))"
   ]
  },
  {
   "cell_type": "markdown",
   "metadata": {},
   "source": [
    "Após calcular as novas classificações, iremos inserir os novos valores no DF original"
   ]
  },
  {
   "cell_type": "code",
   "execution_count": 587,
   "metadata": {},
   "outputs": [],
   "source": [
    "dados_treino.loc[error_values, 'PPA'] = categorias"
   ]
  },
  {
   "cell_type": "markdown",
   "metadata": {},
   "source": [
    "Plotando o gráfico da coluna PPA para verificar as novas mudanças"
   ]
  },
  {
   "cell_type": "markdown",
   "metadata": {},
   "source": [
    "Indo para a próxima coluna iremos tratar os valores de 'PULSOS'"
   ]
  },
  {
   "cell_type": "markdown",
   "metadata": {},
   "source": [
    "Primeiro, iremos plotar o gráfico para ter uma noção da distribuição"
   ]
  },
  {
   "cell_type": "markdown",
   "metadata": {},
   "source": [
    "Levando em conta que a grande maioria dos pulsos são normais, de maneira que não há comparação com as demais, iremos substituir os NaN por normais."
   ]
  },
  {
   "cell_type": "code",
   "execution_count": 588,
   "metadata": {},
   "outputs": [],
   "source": [
    "dados_treino['PULSOS'] = dados_treino['PULSOS'].fillna('Normais')"
   ]
  },
  {
   "cell_type": "markdown",
   "metadata": {},
   "source": [
    "Printando os tipos diferente de pulso para confirmar a alteração"
   ]
  },
  {
   "cell_type": "code",
   "execution_count": 589,
   "metadata": {},
   "outputs": [
    {
     "name": "stdout",
     "output_type": "stream",
     "text": [
      "['Normais' 'Outro' 'Femorais diminuidos' 'Amplos']\n"
     ]
    }
   ],
   "source": [
    "print(dados_treino['PULSOS'].unique())"
   ]
  },
  {
   "cell_type": "markdown",
   "metadata": {},
   "source": [
    "O mesmo processo se repetirá para 'B2'"
   ]
  },
  {
   "cell_type": "markdown",
   "metadata": {},
   "source": [
    "Novamente, sua grande maioria é normal, então será substituido por normal"
   ]
  },
  {
   "cell_type": "code",
   "execution_count": 590,
   "metadata": {},
   "outputs": [],
   "source": [
    "dados_treino[\"B2\"] = dados_treino[\"B2\"].fillna(\"Normal\")"
   ]
  },
  {
   "cell_type": "code",
   "execution_count": 591,
   "metadata": {},
   "outputs": [
    {
     "name": "stdout",
     "output_type": "stream",
     "text": [
      "['Normais' 'Outro' 'Femorais diminuidos' 'Amplos']\n"
     ]
    }
   ],
   "source": [
    "print(dados_treino[\"PULSOS\"].unique())"
   ]
  },
  {
   "cell_type": "markdown",
   "metadata": {},
   "source": [
    "Agora iremos tratar a coluna 'SOPRO'"
   ]
  },
  {
   "cell_type": "markdown",
   "metadata": {},
   "source": [
    "Como há dois valores dominantes (ausente e sistólico), iremos calcular a proporção de cada um e substituir os valores NaN seguindo essa proporção"
   ]
  },
  {
   "cell_type": "code",
   "execution_count": 592,
   "metadata": {},
   "outputs": [],
   "source": [
    "qtd_ausente = len(dados_treino[dados_treino['SOPRO'] == 'ausente'])\n",
    "qtd_sistolico = len(dados_treino) - qtd_ausente\n",
    "\n",
    "prop_ausente = qtd_ausente / (qtd_ausente + qtd_sistolico)\n"
   ]
  },
  {
   "cell_type": "markdown",
   "metadata": {},
   "source": [
    "Calculadas as proporções, agora iremos atribuir aos valores NaN as seguindo."
   ]
  },
  {
   "cell_type": "code",
   "execution_count": 593,
   "metadata": {},
   "outputs": [],
   "source": [
    "valores_faltantes = dados_treino['SOPRO'].isna().sum()\n",
    "\n",
    "qtd_ausente = int(valores_faltantes * prop_ausente)\n",
    "qtd_sistolico = valores_faltantes - qtd_ausente\n"
   ]
  },
  {
   "cell_type": "code",
   "execution_count": 594,
   "metadata": {},
   "outputs": [],
   "source": [
    "dados_treino.loc[dados_treino['SOPRO'].isna(), 'SOPRO'] = 'ausente' * qtd_ausente + 'Sistólico' * qtd_sistolico"
   ]
  },
  {
   "cell_type": "markdown",
   "metadata": {},
   "source": [
    "Conferindo se os valores ausentes foram removidos"
   ]
  },
  {
   "cell_type": "code",
   "execution_count": 595,
   "metadata": {},
   "outputs": [
    {
     "name": "stdout",
     "output_type": "stream",
     "text": [
      "0\n"
     ]
    }
   ],
   "source": [
    "print(dados_treino['SOPRO'].isna().sum())"
   ]
  },
  {
   "cell_type": "markdown",
   "metadata": {},
   "source": [
    "Agora trataremos a coluna FC, mas primeiro, é preciso converte-los primeiro"
   ]
  },
  {
   "cell_type": "code",
   "execution_count": 596,
   "metadata": {},
   "outputs": [],
   "source": [
    "dados_treino[\"FC\"] = pd.to_numeric(dados_treino[\"FC\"], errors=\"coerce\")"
   ]
  },
  {
   "cell_type": "markdown",
   "metadata": {},
   "source": [
    "Depois de se converter, os valores são análisados"
   ]
  },
  {
   "cell_type": "markdown",
   "metadata": {},
   "source": [
    "Pós plotagem do boxplot, fica evidente a necessidade de lidar com outliners"
   ]
  },
  {
   "cell_type": "code",
   "execution_count": 597,
   "metadata": {},
   "outputs": [
    {
     "name": "stdout",
     "output_type": "stream",
     "text": [
      "2 1\n"
     ]
    }
   ],
   "source": [
    "fc_acima =dados_treino[dados_treino['FC'] > 250]\n",
    "fc_abaixo =dados_treino[dados_treino['FC'] < 20]\n",
    "\n",
    "print(len(fc_abaixo), len(fc_acima))"
   ]
  },
  {
   "cell_type": "markdown",
   "metadata": {},
   "source": [
    "Plotando o boxplot novamente para verificar se os outliners foram removidos"
   ]
  },
  {
   "cell_type": "markdown",
   "metadata": {},
   "source": [
    "Agora iremos tratar os valores faltantes"
   ]
  },
  {
   "cell_type": "code",
   "execution_count": 598,
   "metadata": {},
   "outputs": [
    {
     "name": "stdout",
     "output_type": "stream",
     "text": [
      "count    2343.000000\n",
      "mean       92.293641\n",
      "std        23.517550\n",
      "min         8.000000\n",
      "25%        80.000000\n",
      "50%        90.000000\n",
      "75%       100.000000\n",
      "max       900.000000\n",
      "Name: FC, dtype: float64\n"
     ]
    }
   ],
   "source": [
    "print(dados_treino['FC'].describe())"
   ]
  },
  {
   "cell_type": "markdown",
   "metadata": {},
   "source": [
    "Como o std é relativamente baixo para as amostras, os NaN serão substítuidos pela média"
   ]
  },
  {
   "cell_type": "code",
   "execution_count": 599,
   "metadata": {},
   "outputs": [],
   "source": [
    "dados_treino['FC'] = dados_treino['FC'].fillna(value=dados_treino['FC'].mean())"
   ]
  },
  {
   "cell_type": "markdown",
   "metadata": {},
   "source": [
    "Conferindo se os NaN foram removidos"
   ]
  },
  {
   "cell_type": "code",
   "execution_count": 600,
   "metadata": {},
   "outputs": [
    {
     "name": "stdout",
     "output_type": "stream",
     "text": [
      "0\n"
     ]
    }
   ],
   "source": [
    "print(dados_treino['FC'].isna().sum())"
   ]
  },
  {
   "cell_type": "code",
   "execution_count": 601,
   "metadata": {},
   "outputs": [],
   "source": [
    "dados_treino['FC'] = dados_treino['FC'].drop(fc_acima.index)\n",
    "dados_treino['FC'] = dados_treino['FC'].drop(fc_abaixo.index)"
   ]
  },
  {
   "cell_type": "markdown",
   "metadata": {},
   "source": [
    "Partindo para o HDA 1, analisaremos possíveis inconsistencias e valores NaN"
   ]
  },
  {
   "cell_type": "code",
   "execution_count": 602,
   "metadata": {},
   "outputs": [
    {
     "name": "stdout",
     "output_type": "stream",
     "text": [
      "553\n"
     ]
    }
   ],
   "source": [
    "print(dados_treino['HDA 1'].isna().sum())"
   ]
  },
  {
   "cell_type": "markdown",
   "metadata": {},
   "source": [
    "Como há muitos valores NaN, remover todas essas amostras será muito prejudicial, por isso iremos plotar e analisar os gráficos para decidir o que fazer."
   ]
  },
  {
   "cell_type": "markdown",
   "metadata": {},
   "source": [
    "Faremos uma distribuição baseada em proproção, assim como foram as anteriores."
   ]
  },
  {
   "cell_type": "code",
   "execution_count": 603,
   "metadata": {},
   "outputs": [],
   "source": [
    "qtd_assintomatico = len(dados_treino[dados_treino['HDA 1'] == 'Assintomático'])\n",
    "qtd_dor_precordial = len(dados_treino[dados_treino['HDA 1'] == 'Dor precordial'])\n",
    "qtd_dispneia = len(dados_treino[dados_treino['HDA 1'] == 'Dispneia'])\n",
    "qtd_palpitacao = len(dados_treino[dados_treino['HDA 1'] == 'Palpitacao'])\n",
    "qtd_desmaio = len(dados_treino[dados_treino['HDA 1'] == 'Desmaio/tontura'])\n",
    "qtd_cianose = len(dados_treino[dados_treino['HDA 1'] == 'Cianose'])\n",
    "qtd_outro = len(dados_treino[dados_treino['HDA 1'] == 'Outro'])\n",
    "qtd_peso = len(dados_treino[dados_treino['HDA 1'] == 'Ganho de peso'])"
   ]
  },
  {
   "cell_type": "code",
   "execution_count": 604,
   "metadata": {},
   "outputs": [],
   "source": [
    "valores_faltantes = dados_treino[\"HDA 1\"].isna().sum()\n",
    "total_presentes = (\n",
    "    qtd_assintomatico\n",
    "    + qtd_dor_precordial\n",
    "    + qtd_dispneia\n",
    "    + qtd_palpitacao\n",
    "    + qtd_desmaio\n",
    "    + qtd_cianose\n",
    "    + qtd_outro\n",
    "    + qtd_peso\n",
    ")\n",
    "\n",
    "prop_assintomatico = qtd_assintomatico / total_presentes\n",
    "prop_dor_precordial = qtd_dor_precordial / total_presentes\n",
    "prop_dispneia = qtd_dispneia / total_presentes\n",
    "prop_palpitacao = qtd_palpitacao / total_presentes\n",
    "prop_desmaio = qtd_desmaio / total_presentes\n",
    "prop_cianose = qtd_cianose / total_presentes\n",
    "prop_outro = qtd_outro / total_presentes\n",
    "prop_peso = qtd_peso / total_presentes"
   ]
  },
  {
   "cell_type": "code",
   "execution_count": 531,
   "metadata": {},
   "outputs": [],
   "source": [
    "qtd_assintomatico_faltantes = int(valores_faltantes * prop_assintomatico)\n",
    "qtd_dor_precordial_faltantes = int(valores_faltantes * prop_dor_precordial)\n",
    "qtd_dispneia_faltantes = int(valores_faltantes * prop_dispneia)\n",
    "qtd_palpitacao_faltantes = int(valores_faltantes * prop_palpitacao)\n",
    "qtd_desmaio_faltantes = int(valores_faltantes * prop_desmaio)\n",
    "qtd_cianose_faltantes = int(valores_faltantes * prop_cianose)\n",
    "qtd_outro_faltantes = int(valores_faltantes * prop_outro)\n",
    "qtd_peso_faltantes = valores_faltantes - (\n",
    "    qtd_assintomatico_faltantes\n",
    "    + qtd_dor_precordial_faltantes\n",
    "    + qtd_dispneia_faltantes\n",
    "    + qtd_palpitacao_faltantes\n",
    "    + qtd_desmaio_faltantes\n",
    "    + qtd_cianose_faltantes\n",
    "    + qtd_outro_faltantes\n",
    ")\n",
    "\n",
    "\n",
    "valores_faltantes_lista = (\n",
    "    [\"Assintomático\"] * qtd_assintomatico_faltantes\n",
    "    + [\"Dor precordial\"] * qtd_dor_precordial_faltantes\n",
    "    + [\"Dispneia\"] * qtd_dispneia_faltantes\n",
    "    + [\"Palpitacao\"] * qtd_palpitacao_faltantes\n",
    "    + [\"Desmaio/tontura\"] * qtd_desmaio_faltantes\n",
    "    + [\"Cianose\"] * qtd_cianose_faltantes\n",
    "    + [\"Outro\"] * qtd_outro_faltantes\n",
    "    + [\"Ganho de peso\"] * qtd_peso_faltantes\n",
    ")\n",
    "\n",
    "\n",
    "import random\n",
    "\n",
    "# Embaralhando os valores para evitar viés de posição\n",
    "random.shuffle(valores_faltantes_lista)\n",
    "\n",
    "\n",
    "dados_treino.loc[dados_treino[\"HDA 1\"].isna(), \"HDA 1\"] = valores_faltantes_lista\n"
   ]
  },
  {
   "cell_type": "markdown",
   "metadata": {},
   "source": [
    "Partindo para HDA2, seguindo o mesmo procedimento, analisando os dados e depois tomando uma ação"
   ]
  },
  {
   "cell_type": "markdown",
   "metadata": {},
   "source": [
    "Será feito a mesma abordagem que HDA1"
   ]
  },
  {
   "cell_type": "code",
   "execution_count": 532,
   "metadata": {},
   "outputs": [],
   "source": [
    "qtd_assintomatico = len(dados_treino[dados_treino[\"HDA2\"] == \"Assintomático\"])\n",
    "qtd_dor_precordial = len(dados_treino[dados_treino[\"HDA2\"] == \"Dor precordial\"])\n",
    "qtd_dispneia = len(dados_treino[dados_treino[\"HDA2\"] == \"Dispneia\"])\n",
    "qtd_palpitacao = len(dados_treino[dados_treino[\"HDA2\"] == \"Palpitacao\"])\n",
    "qtd_desmaio = len(dados_treino[dados_treino[\"HDA2\"] == \"Desmaio/tontura\"])\n",
    "qtd_cianose = len(dados_treino[dados_treino[\"HDA2\"] == \"Cianose\"])\n",
    "qtd_outro = len(dados_treino[dados_treino[\"HDA2\"] == \"Outro\"])\n",
    "qtd_peso = len(dados_treino[dados_treino[\"HDA2\"] == \"Ganho de peso\"])"
   ]
  },
  {
   "cell_type": "code",
   "execution_count": 533,
   "metadata": {},
   "outputs": [],
   "source": [
    "valores_faltantes = dados_treino[\"HDA2\"].isna().sum()\n",
    "total_presentes = (\n",
    "    qtd_assintomatico\n",
    "    + qtd_dor_precordial\n",
    "    + qtd_dispneia\n",
    "    + qtd_palpitacao\n",
    "    + qtd_desmaio\n",
    "    + qtd_cianose\n",
    "    + qtd_outro\n",
    "    + qtd_peso\n",
    ")\n",
    "\n",
    "prop_assintomatico = qtd_assintomatico / total_presentes\n",
    "prop_dor_precordial = qtd_dor_precordial / total_presentes\n",
    "prop_dispneia = qtd_dispneia / total_presentes\n",
    "prop_palpitacao = qtd_palpitacao / total_presentes\n",
    "prop_desmaio = qtd_desmaio / total_presentes\n",
    "prop_cianose = qtd_cianose / total_presentes\n",
    "prop_outro = qtd_outro / total_presentes\n",
    "prop_peso = qtd_peso / total_presentes"
   ]
  },
  {
   "cell_type": "code",
   "execution_count": 534,
   "metadata": {},
   "outputs": [],
   "source": [
    "qtd_assintomatico_faltantes = int(valores_faltantes * prop_assintomatico)\n",
    "qtd_dor_precordial_faltantes = int(valores_faltantes * prop_dor_precordial)\n",
    "qtd_dispneia_faltantes = int(valores_faltantes * prop_dispneia)\n",
    "qtd_palpitacao_faltantes = int(valores_faltantes * prop_palpitacao)\n",
    "qtd_desmaio_faltantes = int(valores_faltantes * prop_desmaio)\n",
    "qtd_cianose_faltantes = int(valores_faltantes * prop_cianose)\n",
    "qtd_outro_faltantes = int(valores_faltantes * prop_outro)\n",
    "qtd_peso_faltantes = valores_faltantes - (\n",
    "    qtd_assintomatico_faltantes\n",
    "    + qtd_dor_precordial_faltantes\n",
    "    + qtd_dispneia_faltantes\n",
    "    + qtd_palpitacao_faltantes\n",
    "    + qtd_desmaio_faltantes\n",
    "    + qtd_cianose_faltantes\n",
    "    + qtd_outro_faltantes\n",
    ")\n",
    "\n",
    "\n",
    "valores_faltantes_lista = (\n",
    "    [\"Assintomático\"] * qtd_assintomatico_faltantes\n",
    "    + [\"Dor precordial\"] * qtd_dor_precordial_faltantes\n",
    "    + [\"Dispneia\"] * qtd_dispneia_faltantes\n",
    "    + [\"Palpitacao\"] * qtd_palpitacao_faltantes\n",
    "    + [\"Desmaio/tontura\"] * qtd_desmaio_faltantes\n",
    "    + [\"Cianose\"] * qtd_cianose_faltantes\n",
    "    + [\"Outro\"] * qtd_outro_faltantes\n",
    "    + [\"Ganho de peso\"] * qtd_peso_faltantes\n",
    ")\n",
    "\n",
    "\n",
    "import random\n",
    "\n",
    "# Embaralhando os valores para evitar viés de posição\n",
    "random.shuffle(valores_faltantes_lista)\n",
    "\n",
    "\n",
    "dados_treino.loc[dados_treino[\"HDA2\"].isna(), \"HDA2\"] = valores_faltantes_lista"
   ]
  },
  {
   "cell_type": "code",
   "execution_count": 609,
   "metadata": {},
   "outputs": [
    {
     "name": "stdout",
     "output_type": "stream",
     "text": [
      "0\n"
     ]
    }
   ],
   "source": [
    "print(dados_treino['HDA2'].isna().sum())"
   ]
  },
  {
   "cell_type": "markdown",
   "metadata": {},
   "source": [
    "Agora iremos tratar os motivos"
   ]
  },
  {
   "cell_type": "code",
   "execution_count": 610,
   "metadata": {},
   "outputs": [
    {
     "name": "stdout",
     "output_type": "stream",
     "text": [
      "22\n"
     ]
    }
   ],
   "source": [
    "print(dados_treino['MOTIVO1'].isna().sum())"
   ]
  },
  {
   "cell_type": "markdown",
   "metadata": {},
   "source": [
    "PLotando o gráfico"
   ]
  },
  {
   "cell_type": "markdown",
   "metadata": {},
   "source": [
    "O mesmo processo de porporção será repetido"
   ]
  },
  {
   "cell_type": "code",
   "execution_count": 537,
   "metadata": {},
   "outputs": [],
   "source": [
    "qtd_suspeita = len(\n",
    "    dados_treino[dados_treino[\"MOTIVO1\"] == \"6 - Suspeita de cardiopatia\"]\n",
    ")\n",
    "qtd_parecer = len(dados_treino[dados_treino[\"MOTIVO1\"] == \"5 - Parecer cardiológico\"])\n",
    "qtd_outro = len(dados_treino[dados_treino[\"MOTIVO1\"] == \"7 - Outro\"])\n",
    "qtd_checkup = len(dados_treino[dados_treino[\"MOTIVO1\"] == \"2 - Check-up\"])\n",
    "qtd_cardiopatia = len(\n",
    "    dados_treino[dados_treino[\"MOTIVO1\"] == \"1 - Cardiopatia já estabelecida\"]\n",
    ")"
   ]
  },
  {
   "cell_type": "code",
   "execution_count": 538,
   "metadata": {},
   "outputs": [],
   "source": [
    "valores_faltantes = dados_treino[\"MOTIVO1\"].isna().sum()\n",
    "total_presentes = qtd_suspeita + qtd_parecer + qtd_outro + qtd_checkup + qtd_cardiopatia\n",
    "\n",
    "prop_suspeita = qtd_suspeita / total_presentes\n",
    "prop_parecer = qtd_parecer / total_presentes\n",
    "prop_outro = qtd_outro / total_presentes\n",
    "prop_checkup = qtd_checkup / total_presentes\n",
    "prop_cardiopatia = qtd_cardiopatia / total_presentes"
   ]
  },
  {
   "cell_type": "code",
   "execution_count": 539,
   "metadata": {},
   "outputs": [],
   "source": [
    "qtd_suspeita_faltantes = int(valores_faltantes * prop_suspeita)\n",
    "qtd_parecer_faltantes = int(valores_faltantes * prop_parecer)\n",
    "qtd_outro_faltantes = int(valores_faltantes * prop_outro)\n",
    "qtd_checkup_faltantes = int(valores_faltantes * prop_checkup)\n",
    "qtd_cardiopatia_faltantes = valores_faltantes - (\n",
    "    qtd_suspeita_faltantes\n",
    "    + qtd_parecer_faltantes\n",
    "    + qtd_outro_faltantes\n",
    "    + qtd_checkup_faltantes\n",
    ")\n",
    "\n",
    "\n",
    "valores_faltantes_lista = (\n",
    "    [\"6 - Suspeita de cardiopatia\"] * qtd_suspeita_faltantes\n",
    "    + [\"5 - Parecer cardiológico\"] * qtd_parecer_faltantes\n",
    "    + [\"7 - Outro\"] * qtd_outro_faltantes\n",
    "    + [\"2 - Check-up\"] * qtd_checkup_faltantes\n",
    "    + [\"1 - Cardiopatia já estabelecida\"] * qtd_cardiopatia_faltantes\n",
    ")\n",
    "\n",
    "# Embaralhando os valores para evitar viés de posição\n",
    "import random\n",
    "\n",
    "random.shuffle(valores_faltantes_lista)\n",
    "\n",
    "dados_treino.loc[dados_treino[\"MOTIVO1\"].isna(), \"MOTIVO1\"] = valores_faltantes_lista"
   ]
  },
  {
   "cell_type": "code",
   "execution_count": 614,
   "metadata": {},
   "outputs": [
    {
     "name": "stdout",
     "output_type": "stream",
     "text": [
      "['2 - Check-up' '5 - Parecer cardiológico' '6 - Suspeita de cardiopatia'\n",
      " '1 - Cardiopatia já estabelecida' '7 - Outro']\n"
     ]
    }
   ],
   "source": [
    "print(dados_treino['MOTIVO1'].unique())"
   ]
  },
  {
   "cell_type": "markdown",
   "metadata": {},
   "source": [
    "Partindo para MOTIVO2, será repetido o mesmo processo, porém selecionando menos atributos"
   ]
  },
  {
   "cell_type": "code",
   "execution_count": 615,
   "metadata": {},
   "outputs": [
    {
     "name": "stdout",
     "output_type": "stream",
     "text": [
      "[nan '5 - Atividade física' '6 - Sopro'\n",
      " '6 - Palpitação/taquicardia/arritmia' '6 - Dispnéia' '5 - Cirurgia'\n",
      " '1 - Cardiopatia congenica' '5 - Uso de cisaprida' 'Outro'\n",
      " '6 - HAS/dislipidemia/obesidade' '1 - Cardiopatia adquirida'\n",
      " '6 - Cianose' '6 - Dor precordial' '6 - Alterações de pulso/perfusão'\n",
      " '6 - Cardiopatia na familia' '6 - Cansaço']\n"
     ]
    }
   ],
   "source": [
    "print(dados_treino['MOTIVO2'].unique())"
   ]
  },
  {
   "cell_type": "markdown",
   "metadata": {},
   "source": [
    "Novamente, o mesmo processo"
   ]
  },
  {
   "cell_type": "code",
   "execution_count": 542,
   "metadata": {},
   "outputs": [],
   "source": [
    "qtd_palp_taquicardia = len(\n",
    "    dados_treino[dados_treino[\"MOTIVO2\"] == \"6 - Palpitação/taquicardia/arritmia\"]\n",
    ")\n",
    "qtd_sopro = len(dados_treino[dados_treino[\"MOTIVO2\"] == \"6 - Sopro\"])\n",
    "qtd_cirurgia = len(dados_treino[dados_treino[\"MOTIVO2\"] == \"5 - Cirurgia\"])\n",
    "qtd_outro = len(dados_treino[dados_treino[\"MOTIVO2\"] == \"Outro\"])\n",
    "qtd_has_obesidade = len(\n",
    "    dados_treino[dados_treino[\"MOTIVO2\"] == \"6 - HAS/dislipidemia/obesidade\"]\n",
    ")\n",
    "qtd_atividade_fisica = len(\n",
    "    dados_treino[dados_treino[\"MOTIVO2\"] == \"5 - Atividade física\"]\n",
    ")\n",
    "qtd_cardiopatia_congenica = len(\n",
    "    dados_treino[dados_treino[\"MOTIVO2\"] == \"1 - Cardiopatia congenica\"]\n",
    ")\n",
    "qtd_dor_preco = len(dados_treino[dados_treino[\"MOTIVO2\"] == \"6 - Dor precordial\"])\n",
    "qtd_dispneia = len(dados_treino[dados_treino[\"MOTIVO2\"] == \"6 - Dispnéia\"])"
   ]
  },
  {
   "cell_type": "code",
   "execution_count": 543,
   "metadata": {},
   "outputs": [],
   "source": [
    "valores_faltantes = dados_treino[\"MOTIVO2\"].isna().sum()\n",
    "total_presentes = (\n",
    "    qtd_palp_taquicardia\n",
    "    + qtd_sopro\n",
    "    + qtd_cirurgia\n",
    "    + qtd_outro\n",
    "    + qtd_has_obesidade\n",
    "    + qtd_atividade_fisica\n",
    "    + qtd_cardiopatia_congenica\n",
    "    + qtd_dor_preco\n",
    "    + qtd_dispneia\n",
    ")\n",
    "\n",
    "\n",
    "prop_palp_taquicardia = qtd_palp_taquicardia / total_presentes\n",
    "prop_sopro = qtd_sopro / total_presentes\n",
    "prop_cirurgia = qtd_cirurgia / total_presentes\n",
    "prop_outro = qtd_outro / total_presentes\n",
    "prop_has_obesidade = qtd_has_obesidade / total_presentes\n",
    "prop_atividade_fisica = qtd_atividade_fisica / total_presentes\n",
    "prop_cardiopatia_congenica = qtd_cardiopatia_congenica / total_presentes\n",
    "prop_dor_preco = qtd_dor_preco / total_presentes\n",
    "prop_dispneia = qtd_dispneia / total_presentes"
   ]
  },
  {
   "cell_type": "code",
   "execution_count": 544,
   "metadata": {},
   "outputs": [],
   "source": [
    "qtd_palp_taquicardia_faltantes = int(valores_faltantes * prop_palp_taquicardia)\n",
    "qtd_sopro_faltantes = int(valores_faltantes * prop_sopro)\n",
    "qtd_cirurgia_faltantes = int(valores_faltantes * prop_cirurgia)\n",
    "qtd_outro_faltantes = int(valores_faltantes * prop_outro)\n",
    "qtd_has_obesidade_faltantes = int(valores_faltantes * prop_has_obesidade)\n",
    "qtd_atividade_fisica_faltantes = int(valores_faltantes * prop_atividade_fisica)\n",
    "qtd_cardiopatia_congenica_faltantes = int(\n",
    "    valores_faltantes * prop_cardiopatia_congenica\n",
    ")\n",
    "qtd_dor_preco_faltantes = int(valores_faltantes * prop_dor_preco)\n",
    "qtd_dispneia_faltantes = valores_faltantes - (\n",
    "    qtd_palp_taquicardia_faltantes\n",
    "    + qtd_sopro_faltantes\n",
    "    + qtd_cirurgia_faltantes\n",
    "    + qtd_outro_faltantes\n",
    "    + qtd_has_obesidade_faltantes\n",
    "    + qtd_atividade_fisica_faltantes\n",
    "    + qtd_cardiopatia_congenica_faltantes\n",
    "    + qtd_dor_preco_faltantes\n",
    ")\n",
    "\n",
    "\n",
    "valores_faltantes_lista = (\n",
    "    [\"6 - Palpitação/taquicardia/arritmia\"] * qtd_palp_taquicardia_faltantes\n",
    "    + [\"6 - Sopro\"] * qtd_sopro_faltantes\n",
    "    + [\"5 - Cirurgia\"] * qtd_cirurgia_faltantes\n",
    "    + [\"Outro\"] * qtd_outro_faltantes\n",
    "    + [\"6 - HAS/dislipidemia/obesidade\"] * qtd_has_obesidade_faltantes\n",
    "    + [\"5 - Atividade física\"] * qtd_atividade_fisica_faltantes\n",
    "    + [\"1 - Cardiopatia congenica\"] * qtd_cardiopatia_congenica_faltantes\n",
    "    + [\"6 - Dor precordial\"] * qtd_dor_preco_faltantes\n",
    "    + [\"6 - Dispnéia\"] * qtd_dispneia_faltantes\n",
    ")\n",
    "\n",
    "# Embaralhando os valores para evitar viés de posição\n",
    "import random\n",
    "\n",
    "random.shuffle(valores_faltantes_lista)\n",
    "\n",
    "# Preenchendo os valores ausentes na coluna 'MOTIVO2'\n",
    "dados_treino.loc[dados_treino[\"MOTIVO2\"].isna(), \"MOTIVO2\"] = valores_faltantes_lista"
   ]
  },
  {
   "cell_type": "code",
   "execution_count": 619,
   "metadata": {},
   "outputs": [
    {
     "name": "stdout",
     "output_type": "stream",
     "text": [
      "0\n"
     ]
    }
   ],
   "source": [
    "print(dados_treino['MOTIVO2'].isna().sum())"
   ]
  },
  {
   "cell_type": "markdown",
   "metadata": {},
   "source": [
    "Por último, precisamos tratar os valores irregulares de idade, que são diversos, como não se pode basear a idade nos demais atributos, será usado um modelo de regressão linear, utilizando os dados coerentes como dados de treinamento."
   ]
  },
  {
   "cell_type": "markdown",
   "metadata": {},
   "source": [
    "Porém, primeiro precisamos remover colunas que não serão utilizadas e tratar dados não numéricos"
   ]
  },
  {
   "cell_type": "markdown",
   "metadata": {},
   "source": [
    "##### Com todos os valores faltantes e espúrios tratados, agora iremos remover atributos que não nos serão úteis"
   ]
  },
  {
   "cell_type": "markdown",
   "metadata": {},
   "source": [
    "Entre esses atributos estão: Atendimento, DN, Convênio. Logo iremos removê-las"
   ]
  },
  {
   "cell_type": "code",
   "execution_count": 546,
   "metadata": {},
   "outputs": [],
   "source": [
    "dados_treino.drop(columns=['Atendimento', 'DN', 'Convenio'], inplace=True)"
   ]
  },
  {
   "cell_type": "code",
   "execution_count": 621,
   "metadata": {},
   "outputs": [
    {
     "data": {
      "text/html": [
       "<div>\n",
       "<style scoped>\n",
       "    .dataframe tbody tr th:only-of-type {\n",
       "        vertical-align: middle;\n",
       "    }\n",
       "\n",
       "    .dataframe tbody tr th {\n",
       "        vertical-align: top;\n",
       "    }\n",
       "\n",
       "    .dataframe thead th {\n",
       "        text-align: right;\n",
       "    }\n",
       "</style>\n",
       "<table border=\"1\" class=\"dataframe\">\n",
       "  <thead>\n",
       "    <tr style=\"text-align: right;\">\n",
       "      <th></th>\n",
       "      <th>Id</th>\n",
       "      <th>Peso</th>\n",
       "      <th>Altura</th>\n",
       "      <th>IMC</th>\n",
       "      <th>IDADE</th>\n",
       "      <th>PULSOS</th>\n",
       "      <th>PA SISTOLICA</th>\n",
       "      <th>PA DIASTOLICA</th>\n",
       "      <th>PPA</th>\n",
       "      <th>B2</th>\n",
       "      <th>SOPRO</th>\n",
       "      <th>FC</th>\n",
       "      <th>HDA 1</th>\n",
       "      <th>HDA2</th>\n",
       "      <th>SEXO</th>\n",
       "      <th>MOTIVO1</th>\n",
       "      <th>MOTIVO2</th>\n",
       "    </tr>\n",
       "  </thead>\n",
       "  <tbody>\n",
       "    <tr>\n",
       "      <th>0</th>\n",
       "      <td>8957</td>\n",
       "      <td>4.5</td>\n",
       "      <td>54</td>\n",
       "      <td>15.432099</td>\n",
       "      <td>0.15</td>\n",
       "      <td>Normais</td>\n",
       "      <td>100.519531</td>\n",
       "      <td>61.965495</td>\n",
       "      <td>HAS-2 PAD</td>\n",
       "      <td>Normal</td>\n",
       "      <td>ausente</td>\n",
       "      <td>110.0</td>\n",
       "      <td>Dispneia</td>\n",
       "      <td>Outro</td>\n",
       "      <td>F</td>\n",
       "      <td>2 - Check-up</td>\n",
       "      <td>6 - Sopro</td>\n",
       "    </tr>\n",
       "    <tr>\n",
       "      <th>1</th>\n",
       "      <td>4246</td>\n",
       "      <td>42.4</td>\n",
       "      <td>150</td>\n",
       "      <td>18.844444</td>\n",
       "      <td>12.43</td>\n",
       "      <td>Normais</td>\n",
       "      <td>100.519531</td>\n",
       "      <td>61.965495</td>\n",
       "      <td>HAS-2 PAD</td>\n",
       "      <td>Normal</td>\n",
       "      <td>ausente</td>\n",
       "      <td>84.0</td>\n",
       "      <td>Assintomático</td>\n",
       "      <td>Dor precordial</td>\n",
       "      <td>M</td>\n",
       "      <td>5 - Parecer cardiológico</td>\n",
       "      <td>5 - Atividade física</td>\n",
       "    </tr>\n",
       "    <tr>\n",
       "      <th>2</th>\n",
       "      <td>9089</td>\n",
       "      <td>18.1</td>\n",
       "      <td>104</td>\n",
       "      <td>16.734467</td>\n",
       "      <td>3.82</td>\n",
       "      <td>Normais</td>\n",
       "      <td>130.000000</td>\n",
       "      <td>90.000000</td>\n",
       "      <td>HAS-2 PAS</td>\n",
       "      <td>Normal</td>\n",
       "      <td>ausente</td>\n",
       "      <td>100.0</td>\n",
       "      <td>Cianose</td>\n",
       "      <td>Palpitacao</td>\n",
       "      <td>M</td>\n",
       "      <td>5 - Parecer cardiológico</td>\n",
       "      <td>6 - Palpitação/taquicardia/arritmia</td>\n",
       "    </tr>\n",
       "    <tr>\n",
       "      <th>6</th>\n",
       "      <td>2338</td>\n",
       "      <td>50.7</td>\n",
       "      <td>151</td>\n",
       "      <td>22.235867</td>\n",
       "      <td>9.72</td>\n",
       "      <td>Normais</td>\n",
       "      <td>110.000000</td>\n",
       "      <td>60.000000</td>\n",
       "      <td>Normal</td>\n",
       "      <td>Normal</td>\n",
       "      <td>Sistólico</td>\n",
       "      <td>80.0</td>\n",
       "      <td>Assintomático</td>\n",
       "      <td>Dispneia</td>\n",
       "      <td>M</td>\n",
       "      <td>5 - Parecer cardiológico</td>\n",
       "      <td>5 - Atividade física</td>\n",
       "    </tr>\n",
       "    <tr>\n",
       "      <th>7</th>\n",
       "      <td>13378</td>\n",
       "      <td>7.9</td>\n",
       "      <td>69</td>\n",
       "      <td>16.593153</td>\n",
       "      <td>0.49</td>\n",
       "      <td>Normais</td>\n",
       "      <td>100.519531</td>\n",
       "      <td>61.965495</td>\n",
       "      <td>HAS-2 PAD</td>\n",
       "      <td>Normal</td>\n",
       "      <td>Sistólico</td>\n",
       "      <td>88.0</td>\n",
       "      <td>Assintomático</td>\n",
       "      <td>Dor precordial</td>\n",
       "      <td>M</td>\n",
       "      <td>6 - Suspeita de cardiopatia</td>\n",
       "      <td>6 - Sopro</td>\n",
       "    </tr>\n",
       "    <tr>\n",
       "      <th>...</th>\n",
       "      <td>...</td>\n",
       "      <td>...</td>\n",
       "      <td>...</td>\n",
       "      <td>...</td>\n",
       "      <td>...</td>\n",
       "      <td>...</td>\n",
       "      <td>...</td>\n",
       "      <td>...</td>\n",
       "      <td>...</td>\n",
       "      <td>...</td>\n",
       "      <td>...</td>\n",
       "      <td>...</td>\n",
       "      <td>...</td>\n",
       "      <td>...</td>\n",
       "      <td>...</td>\n",
       "      <td>...</td>\n",
       "      <td>...</td>\n",
       "    </tr>\n",
       "    <tr>\n",
       "      <th>3138</th>\n",
       "      <td>12752</td>\n",
       "      <td>41.0</td>\n",
       "      <td>133</td>\n",
       "      <td>23.178246</td>\n",
       "      <td>8.83</td>\n",
       "      <td>Normais</td>\n",
       "      <td>110.000000</td>\n",
       "      <td>70.000000</td>\n",
       "      <td>Normal</td>\n",
       "      <td>Normal</td>\n",
       "      <td>ausente</td>\n",
       "      <td>94.0</td>\n",
       "      <td>Assintomático</td>\n",
       "      <td>Palpitacao</td>\n",
       "      <td>M</td>\n",
       "      <td>5 - Parecer cardiológico</td>\n",
       "      <td>5 - Cirurgia</td>\n",
       "    </tr>\n",
       "    <tr>\n",
       "      <th>3139</th>\n",
       "      <td>1818</td>\n",
       "      <td>24.0</td>\n",
       "      <td>126</td>\n",
       "      <td>15.117158</td>\n",
       "      <td>8.49</td>\n",
       "      <td>Normais</td>\n",
       "      <td>100.000000</td>\n",
       "      <td>60.000000</td>\n",
       "      <td>Normal</td>\n",
       "      <td>Normal</td>\n",
       "      <td>ausente</td>\n",
       "      <td>82.0</td>\n",
       "      <td>Palpitacao</td>\n",
       "      <td>Ganho de peso</td>\n",
       "      <td>F</td>\n",
       "      <td>5 - Parecer cardiológico</td>\n",
       "      <td>6 - Sopro</td>\n",
       "    </tr>\n",
       "    <tr>\n",
       "      <th>3143</th>\n",
       "      <td>14643</td>\n",
       "      <td>46.0</td>\n",
       "      <td>151</td>\n",
       "      <td>20.174554</td>\n",
       "      <td>13.83</td>\n",
       "      <td>Normais</td>\n",
       "      <td>120.000000</td>\n",
       "      <td>60.000000</td>\n",
       "      <td>Normal</td>\n",
       "      <td>Normal</td>\n",
       "      <td>Sistólico</td>\n",
       "      <td>96.0</td>\n",
       "      <td>Dispneia</td>\n",
       "      <td>Palpitacao</td>\n",
       "      <td>F</td>\n",
       "      <td>6 - Suspeita de cardiopatia</td>\n",
       "      <td>6 - Dor precordial</td>\n",
       "    </tr>\n",
       "    <tr>\n",
       "      <th>3144</th>\n",
       "      <td>15107</td>\n",
       "      <td>21.0</td>\n",
       "      <td>50</td>\n",
       "      <td>84.000000</td>\n",
       "      <td>0.00</td>\n",
       "      <td>Normais</td>\n",
       "      <td>100.519531</td>\n",
       "      <td>61.965495</td>\n",
       "      <td>HAS-2 PAD</td>\n",
       "      <td>Normal</td>\n",
       "      <td>Sistólico</td>\n",
       "      <td>133.0</td>\n",
       "      <td>Assintomático</td>\n",
       "      <td>Dor precordial</td>\n",
       "      <td>F</td>\n",
       "      <td>6 - Suspeita de cardiopatia</td>\n",
       "      <td>6 - Sopro</td>\n",
       "    </tr>\n",
       "    <tr>\n",
       "      <th>3145</th>\n",
       "      <td>14963</td>\n",
       "      <td>27.0</td>\n",
       "      <td>123</td>\n",
       "      <td>17.846520</td>\n",
       "      <td>7.51</td>\n",
       "      <td>Normais</td>\n",
       "      <td>100.000000</td>\n",
       "      <td>60.000000</td>\n",
       "      <td>Normal</td>\n",
       "      <td>Normal</td>\n",
       "      <td>ausente</td>\n",
       "      <td>92.0</td>\n",
       "      <td>Assintomático</td>\n",
       "      <td>Dor precordial</td>\n",
       "      <td>M</td>\n",
       "      <td>5 - Parecer cardiológico</td>\n",
       "      <td>5 - Cirurgia</td>\n",
       "    </tr>\n",
       "  </tbody>\n",
       "</table>\n",
       "<p>2442 rows × 17 columns</p>\n",
       "</div>"
      ],
      "text/plain": [
       "         Id  Peso  Altura        IMC  IDADE   PULSOS  PA SISTOLICA  \\\n",
       "0      8957   4.5      54  15.432099   0.15  Normais    100.519531   \n",
       "1      4246  42.4     150  18.844444  12.43  Normais    100.519531   \n",
       "2      9089  18.1     104  16.734467   3.82  Normais    130.000000   \n",
       "6      2338  50.7     151  22.235867   9.72  Normais    110.000000   \n",
       "7     13378   7.9      69  16.593153   0.49  Normais    100.519531   \n",
       "...     ...   ...     ...        ...    ...      ...           ...   \n",
       "3138  12752  41.0     133  23.178246   8.83  Normais    110.000000   \n",
       "3139   1818  24.0     126  15.117158   8.49  Normais    100.000000   \n",
       "3143  14643  46.0     151  20.174554  13.83  Normais    120.000000   \n",
       "3144  15107  21.0      50  84.000000   0.00  Normais    100.519531   \n",
       "3145  14963  27.0     123  17.846520   7.51  Normais    100.000000   \n",
       "\n",
       "      PA DIASTOLICA        PPA      B2      SOPRO     FC          HDA 1  \\\n",
       "0         61.965495  HAS-2 PAD  Normal    ausente  110.0       Dispneia   \n",
       "1         61.965495  HAS-2 PAD  Normal    ausente   84.0  Assintomático   \n",
       "2         90.000000  HAS-2 PAS  Normal    ausente  100.0        Cianose   \n",
       "6         60.000000     Normal  Normal  Sistólico   80.0  Assintomático   \n",
       "7         61.965495  HAS-2 PAD  Normal  Sistólico   88.0  Assintomático   \n",
       "...             ...        ...     ...        ...    ...            ...   \n",
       "3138      70.000000     Normal  Normal    ausente   94.0  Assintomático   \n",
       "3139      60.000000     Normal  Normal    ausente   82.0     Palpitacao   \n",
       "3143      60.000000     Normal  Normal  Sistólico   96.0       Dispneia   \n",
       "3144      61.965495  HAS-2 PAD  Normal  Sistólico  133.0  Assintomático   \n",
       "3145      60.000000     Normal  Normal    ausente   92.0  Assintomático   \n",
       "\n",
       "                HDA2 SEXO                      MOTIVO1  \\\n",
       "0              Outro    F                 2 - Check-up   \n",
       "1     Dor precordial    M     5 - Parecer cardiológico   \n",
       "2         Palpitacao    M     5 - Parecer cardiológico   \n",
       "6           Dispneia    M     5 - Parecer cardiológico   \n",
       "7     Dor precordial    M  6 - Suspeita de cardiopatia   \n",
       "...              ...  ...                          ...   \n",
       "3138      Palpitacao    M     5 - Parecer cardiológico   \n",
       "3139   Ganho de peso    F     5 - Parecer cardiológico   \n",
       "3143      Palpitacao    F  6 - Suspeita de cardiopatia   \n",
       "3144  Dor precordial    F  6 - Suspeita de cardiopatia   \n",
       "3145  Dor precordial    M     5 - Parecer cardiológico   \n",
       "\n",
       "                                  MOTIVO2  \n",
       "0                               6 - Sopro  \n",
       "1                    5 - Atividade física  \n",
       "2     6 - Palpitação/taquicardia/arritmia  \n",
       "6                    5 - Atividade física  \n",
       "7                               6 - Sopro  \n",
       "...                                   ...  \n",
       "3138                         5 - Cirurgia  \n",
       "3139                            6 - Sopro  \n",
       "3143                   6 - Dor precordial  \n",
       "3144                            6 - Sopro  \n",
       "3145                         5 - Cirurgia  \n",
       "\n",
       "[2442 rows x 17 columns]"
      ]
     },
     "metadata": {},
     "output_type": "display_data"
    }
   ],
   "source": [
    "display(dados_treino)"
   ]
  },
  {
   "cell_type": "markdown",
   "metadata": {},
   "source": [
    "Depois da remoção, iremos mapear os atributos não numéricos em numéricos"
   ]
  },
  {
   "cell_type": "code",
   "execution_count": 548,
   "metadata": {},
   "outputs": [],
   "source": [
    "from sklearn.preprocessing import LabelEncoder"
   ]
  },
  {
   "cell_type": "code",
   "execution_count": 549,
   "metadata": {},
   "outputs": [],
   "source": [
    "pulsos = dados_treino['PULSOS']\n",
    "ppa = dados_treino['PPA']\n",
    "b2 = dados_treino['B2']\n",
    "sopro = dados_treino['SOPRO']\n",
    "hda1 = dados_treino['HDA 1']\n",
    "hda2 = dados_treino['HDA2']\n",
    "sexo = dados_treino['SEXO']\n",
    "motivo1 = dados_treino['MOTIVO1']\n",
    "motivo2 = dados_treino['MOTIVO2']\n"
   ]
  },
  {
   "cell_type": "code",
   "execution_count": 550,
   "metadata": {},
   "outputs": [],
   "source": [
    "lencoder = LabelEncoder()"
   ]
  },
  {
   "cell_type": "markdown",
   "metadata": {},
   "source": [
    "Atribuindo valores distintos para cada valor não numérico"
   ]
  },
  {
   "cell_type": "code",
   "execution_count": 551,
   "metadata": {},
   "outputs": [],
   "source": [
    "pulsos_num = lencoder.fit_transform(dados_treino[\"PULSOS\"])\n",
    "ppa_num = lencoder.fit_transform(dados_treino[\"PPA\"])\n",
    "b2_num = lencoder.fit_transform(dados_treino[\"B2\"])\n",
    "sopro_num = lencoder.fit_transform(dados_treino[\"SOPRO\"])\n",
    "hda1_num = lencoder.fit_transform(dados_treino[\"HDA 1\"])\n",
    "hda2_num = lencoder.fit_transform(dados_treino[\"HDA2\"])\n",
    "sexo_num = lencoder.fit_transform(dados_treino[\"SEXO\"])\n",
    "motivo1_num = lencoder.fit_transform(dados_treino[\"MOTIVO1\"])\n",
    "motivo2_num = lencoder.fit_transform(dados_treino[\"MOTIVO2\"])\n"
   ]
  },
  {
   "cell_type": "code",
   "execution_count": null,
   "metadata": {},
   "outputs": [],
   "source": [
    "dados_treino[\"PULSOS\"] = pulsos_num\n",
    "dados_treino[\"PPA\"] = ppa_num\n",
    "dados_treino[\"B2\"] = b2_num\n",
    "dados_treino[\"SOPRO\"] = sopro_num\n",
    "dados_treino[\"HDA 1\"] = hda1_num\n",
    "dados_treino[\"HDA2\"] = hda2_num\n",
    "dados_treino[\"SEXO\"] = sexo_num\n",
    "dados_treino[\"MOTIVO1\"] = motivo1_num\n",
    "dados_treino[\"MOTIVO2\"] = motivo2_num\n"
   ]
  },
  {
   "cell_type": "markdown",
   "metadata": {},
   "source": [
    "Mostrando o novo df"
   ]
  },
  {
   "cell_type": "code",
   "execution_count": 627,
   "metadata": {},
   "outputs": [
    {
     "data": {
      "text/html": [
       "<div>\n",
       "<style scoped>\n",
       "    .dataframe tbody tr th:only-of-type {\n",
       "        vertical-align: middle;\n",
       "    }\n",
       "\n",
       "    .dataframe tbody tr th {\n",
       "        vertical-align: top;\n",
       "    }\n",
       "\n",
       "    .dataframe thead th {\n",
       "        text-align: right;\n",
       "    }\n",
       "</style>\n",
       "<table border=\"1\" class=\"dataframe\">\n",
       "  <thead>\n",
       "    <tr style=\"text-align: right;\">\n",
       "      <th></th>\n",
       "      <th>Id</th>\n",
       "      <th>Peso</th>\n",
       "      <th>Altura</th>\n",
       "      <th>IMC</th>\n",
       "      <th>IDADE</th>\n",
       "      <th>PULSOS</th>\n",
       "      <th>PA SISTOLICA</th>\n",
       "      <th>PA DIASTOLICA</th>\n",
       "      <th>PPA</th>\n",
       "      <th>B2</th>\n",
       "      <th>SOPRO</th>\n",
       "      <th>FC</th>\n",
       "      <th>HDA 1</th>\n",
       "      <th>HDA2</th>\n",
       "      <th>SEXO</th>\n",
       "      <th>MOTIVO1</th>\n",
       "      <th>MOTIVO2</th>\n",
       "    </tr>\n",
       "  </thead>\n",
       "  <tbody>\n",
       "    <tr>\n",
       "      <th>0</th>\n",
       "      <td>8957</td>\n",
       "      <td>4.5</td>\n",
       "      <td>54</td>\n",
       "      <td>15.432099</td>\n",
       "      <td>0.15</td>\n",
       "      <td>2</td>\n",
       "      <td>100.519531</td>\n",
       "      <td>61.965495</td>\n",
       "      <td>2</td>\n",
       "      <td>2</td>\n",
       "      <td>2</td>\n",
       "      <td>110.0</td>\n",
       "      <td>3</td>\n",
       "      <td>5</td>\n",
       "      <td>0</td>\n",
       "      <td>1</td>\n",
       "      <td>13</td>\n",
       "    </tr>\n",
       "    <tr>\n",
       "      <th>1</th>\n",
       "      <td>4246</td>\n",
       "      <td>42.4</td>\n",
       "      <td>150</td>\n",
       "      <td>18.844444</td>\n",
       "      <td>12.43</td>\n",
       "      <td>2</td>\n",
       "      <td>100.519531</td>\n",
       "      <td>61.965495</td>\n",
       "      <td>2</td>\n",
       "      <td>2</td>\n",
       "      <td>2</td>\n",
       "      <td>84.0</td>\n",
       "      <td>0</td>\n",
       "      <td>3</td>\n",
       "      <td>1</td>\n",
       "      <td>2</td>\n",
       "      <td>2</td>\n",
       "    </tr>\n",
       "    <tr>\n",
       "      <th>2</th>\n",
       "      <td>9089</td>\n",
       "      <td>18.1</td>\n",
       "      <td>104</td>\n",
       "      <td>16.734467</td>\n",
       "      <td>3.82</td>\n",
       "      <td>2</td>\n",
       "      <td>130.000000</td>\n",
       "      <td>90.000000</td>\n",
       "      <td>3</td>\n",
       "      <td>2</td>\n",
       "      <td>2</td>\n",
       "      <td>100.0</td>\n",
       "      <td>1</td>\n",
       "      <td>6</td>\n",
       "      <td>1</td>\n",
       "      <td>2</td>\n",
       "      <td>12</td>\n",
       "    </tr>\n",
       "    <tr>\n",
       "      <th>6</th>\n",
       "      <td>2338</td>\n",
       "      <td>50.7</td>\n",
       "      <td>151</td>\n",
       "      <td>22.235867</td>\n",
       "      <td>9.72</td>\n",
       "      <td>2</td>\n",
       "      <td>110.000000</td>\n",
       "      <td>60.000000</td>\n",
       "      <td>4</td>\n",
       "      <td>2</td>\n",
       "      <td>1</td>\n",
       "      <td>80.0</td>\n",
       "      <td>0</td>\n",
       "      <td>2</td>\n",
       "      <td>1</td>\n",
       "      <td>2</td>\n",
       "      <td>2</td>\n",
       "    </tr>\n",
       "    <tr>\n",
       "      <th>7</th>\n",
       "      <td>13378</td>\n",
       "      <td>7.9</td>\n",
       "      <td>69</td>\n",
       "      <td>16.593153</td>\n",
       "      <td>0.49</td>\n",
       "      <td>2</td>\n",
       "      <td>100.519531</td>\n",
       "      <td>61.965495</td>\n",
       "      <td>2</td>\n",
       "      <td>2</td>\n",
       "      <td>1</td>\n",
       "      <td>88.0</td>\n",
       "      <td>0</td>\n",
       "      <td>3</td>\n",
       "      <td>1</td>\n",
       "      <td>3</td>\n",
       "      <td>13</td>\n",
       "    </tr>\n",
       "    <tr>\n",
       "      <th>...</th>\n",
       "      <td>...</td>\n",
       "      <td>...</td>\n",
       "      <td>...</td>\n",
       "      <td>...</td>\n",
       "      <td>...</td>\n",
       "      <td>...</td>\n",
       "      <td>...</td>\n",
       "      <td>...</td>\n",
       "      <td>...</td>\n",
       "      <td>...</td>\n",
       "      <td>...</td>\n",
       "      <td>...</td>\n",
       "      <td>...</td>\n",
       "      <td>...</td>\n",
       "      <td>...</td>\n",
       "      <td>...</td>\n",
       "      <td>...</td>\n",
       "    </tr>\n",
       "    <tr>\n",
       "      <th>3138</th>\n",
       "      <td>12752</td>\n",
       "      <td>41.0</td>\n",
       "      <td>133</td>\n",
       "      <td>23.178246</td>\n",
       "      <td>8.83</td>\n",
       "      <td>2</td>\n",
       "      <td>110.000000</td>\n",
       "      <td>70.000000</td>\n",
       "      <td>4</td>\n",
       "      <td>2</td>\n",
       "      <td>2</td>\n",
       "      <td>94.0</td>\n",
       "      <td>0</td>\n",
       "      <td>6</td>\n",
       "      <td>1</td>\n",
       "      <td>2</td>\n",
       "      <td>3</td>\n",
       "    </tr>\n",
       "    <tr>\n",
       "      <th>3139</th>\n",
       "      <td>1818</td>\n",
       "      <td>24.0</td>\n",
       "      <td>126</td>\n",
       "      <td>15.117158</td>\n",
       "      <td>8.49</td>\n",
       "      <td>2</td>\n",
       "      <td>100.000000</td>\n",
       "      <td>60.000000</td>\n",
       "      <td>4</td>\n",
       "      <td>2</td>\n",
       "      <td>2</td>\n",
       "      <td>82.0</td>\n",
       "      <td>7</td>\n",
       "      <td>4</td>\n",
       "      <td>0</td>\n",
       "      <td>2</td>\n",
       "      <td>13</td>\n",
       "    </tr>\n",
       "    <tr>\n",
       "      <th>3143</th>\n",
       "      <td>14643</td>\n",
       "      <td>46.0</td>\n",
       "      <td>151</td>\n",
       "      <td>20.174554</td>\n",
       "      <td>13.83</td>\n",
       "      <td>2</td>\n",
       "      <td>120.000000</td>\n",
       "      <td>60.000000</td>\n",
       "      <td>4</td>\n",
       "      <td>2</td>\n",
       "      <td>1</td>\n",
       "      <td>96.0</td>\n",
       "      <td>3</td>\n",
       "      <td>6</td>\n",
       "      <td>0</td>\n",
       "      <td>3</td>\n",
       "      <td>10</td>\n",
       "    </tr>\n",
       "    <tr>\n",
       "      <th>3144</th>\n",
       "      <td>15107</td>\n",
       "      <td>21.0</td>\n",
       "      <td>50</td>\n",
       "      <td>84.000000</td>\n",
       "      <td>0.00</td>\n",
       "      <td>2</td>\n",
       "      <td>100.519531</td>\n",
       "      <td>61.965495</td>\n",
       "      <td>2</td>\n",
       "      <td>2</td>\n",
       "      <td>1</td>\n",
       "      <td>133.0</td>\n",
       "      <td>0</td>\n",
       "      <td>3</td>\n",
       "      <td>0</td>\n",
       "      <td>3</td>\n",
       "      <td>13</td>\n",
       "    </tr>\n",
       "    <tr>\n",
       "      <th>3145</th>\n",
       "      <td>14963</td>\n",
       "      <td>27.0</td>\n",
       "      <td>123</td>\n",
       "      <td>17.846520</td>\n",
       "      <td>7.51</td>\n",
       "      <td>2</td>\n",
       "      <td>100.000000</td>\n",
       "      <td>60.000000</td>\n",
       "      <td>4</td>\n",
       "      <td>2</td>\n",
       "      <td>2</td>\n",
       "      <td>92.0</td>\n",
       "      <td>0</td>\n",
       "      <td>3</td>\n",
       "      <td>1</td>\n",
       "      <td>2</td>\n",
       "      <td>3</td>\n",
       "    </tr>\n",
       "  </tbody>\n",
       "</table>\n",
       "<p>2442 rows × 17 columns</p>\n",
       "</div>"
      ],
      "text/plain": [
       "         Id  Peso  Altura        IMC  IDADE  PULSOS  PA SISTOLICA  \\\n",
       "0      8957   4.5      54  15.432099   0.15       2    100.519531   \n",
       "1      4246  42.4     150  18.844444  12.43       2    100.519531   \n",
       "2      9089  18.1     104  16.734467   3.82       2    130.000000   \n",
       "6      2338  50.7     151  22.235867   9.72       2    110.000000   \n",
       "7     13378   7.9      69  16.593153   0.49       2    100.519531   \n",
       "...     ...   ...     ...        ...    ...     ...           ...   \n",
       "3138  12752  41.0     133  23.178246   8.83       2    110.000000   \n",
       "3139   1818  24.0     126  15.117158   8.49       2    100.000000   \n",
       "3143  14643  46.0     151  20.174554  13.83       2    120.000000   \n",
       "3144  15107  21.0      50  84.000000   0.00       2    100.519531   \n",
       "3145  14963  27.0     123  17.846520   7.51       2    100.000000   \n",
       "\n",
       "      PA DIASTOLICA  PPA  B2  SOPRO     FC  HDA 1  HDA2  SEXO  MOTIVO1  \\\n",
       "0         61.965495    2   2      2  110.0      3     5     0        1   \n",
       "1         61.965495    2   2      2   84.0      0     3     1        2   \n",
       "2         90.000000    3   2      2  100.0      1     6     1        2   \n",
       "6         60.000000    4   2      1   80.0      0     2     1        2   \n",
       "7         61.965495    2   2      1   88.0      0     3     1        3   \n",
       "...             ...  ...  ..    ...    ...    ...   ...   ...      ...   \n",
       "3138      70.000000    4   2      2   94.0      0     6     1        2   \n",
       "3139      60.000000    4   2      2   82.0      7     4     0        2   \n",
       "3143      60.000000    4   2      1   96.0      3     6     0        3   \n",
       "3144      61.965495    2   2      1  133.0      0     3     0        3   \n",
       "3145      60.000000    4   2      2   92.0      0     3     1        2   \n",
       "\n",
       "      MOTIVO2  \n",
       "0          13  \n",
       "1           2  \n",
       "2          12  \n",
       "6           2  \n",
       "7          13  \n",
       "...       ...  \n",
       "3138        3  \n",
       "3139       13  \n",
       "3143       10  \n",
       "3144       13  \n",
       "3145        3  \n",
       "\n",
       "[2442 rows x 17 columns]"
      ]
     },
     "metadata": {},
     "output_type": "display_data"
    }
   ],
   "source": [
    "display(dados_treino)"
   ]
  },
  {
   "cell_type": "markdown",
   "metadata": {},
   "source": [
    "Plotando uma matriz de correlação pra ver quais atributos se relacionam com idade"
   ]
  },
  {
   "cell_type": "code",
   "execution_count": 554,
   "metadata": {},
   "outputs": [],
   "source": [
    "correlacao = dados_treino.corr()"
   ]
  },
  {
   "cell_type": "code",
   "execution_count": 629,
   "metadata": {},
   "outputs": [
    {
     "data": {
      "image/png": "[encoded data removed]",
      "text/plain": [
       "<Figure size 1200x1000 with 2 Axes>"
      ]
     },
     "metadata": {},
     "output_type": "display_data"
    }
   ],
   "source": [
    "plt.figure(figsize=(12, 10))\n",
    "# Cria um mapa de calor para a matriz de correlação, definindo o esquema de cores\n",
    "sns.heatmap(correlacao, annot=True, cmap=\"coolwarm\", linewidths=0.5)\n",
    "plt.title(\"Matriz de Correlação\")\n",
    "plt.show()"
   ]
  },
  {
   "cell_type": "markdown",
   "metadata": {},
   "source": [
    "De acordo com o gráfico, peso e altura tem maior relação com idade, assim eles serão usados no treinamento do modelo."
   ]
  },
  {
   "cell_type": "markdown",
   "metadata": {},
   "source": [
    "ideia para tentar depois"
   ]
  },
  {
   "cell_type": "markdown",
   "metadata": {},
   "source": [
    "Separando os dados"
   ]
  },
  {
   "cell_type": "code",
   "execution_count": 630,
   "metadata": {},
   "outputs": [
    {
     "data": {
      "text/html": [
       "<div>\n",
       "<style scoped>\n",
       "    .dataframe tbody tr th:only-of-type {\n",
       "        vertical-align: middle;\n",
       "    }\n",
       "\n",
       "    .dataframe tbody tr th {\n",
       "        vertical-align: top;\n",
       "    }\n",
       "\n",
       "    .dataframe thead th {\n",
       "        text-align: right;\n",
       "    }\n",
       "</style>\n",
       "<table border=\"1\" class=\"dataframe\">\n",
       "  <thead>\n",
       "    <tr style=\"text-align: right;\">\n",
       "      <th></th>\n",
       "      <th>Id</th>\n",
       "      <th>Peso</th>\n",
       "      <th>Altura</th>\n",
       "      <th>IMC</th>\n",
       "      <th>IDADE</th>\n",
       "      <th>PULSOS</th>\n",
       "      <th>PA SISTOLICA</th>\n",
       "      <th>PA DIASTOLICA</th>\n",
       "      <th>PPA</th>\n",
       "      <th>B2</th>\n",
       "      <th>SOPRO</th>\n",
       "      <th>FC</th>\n",
       "      <th>HDA 1</th>\n",
       "      <th>HDA2</th>\n",
       "      <th>SEXO</th>\n",
       "      <th>MOTIVO1</th>\n",
       "      <th>MOTIVO2</th>\n",
       "    </tr>\n",
       "  </thead>\n",
       "  <tbody>\n",
       "    <tr>\n",
       "      <th>1</th>\n",
       "      <td>4246</td>\n",
       "      <td>42.4</td>\n",
       "      <td>150</td>\n",
       "      <td>18.844444</td>\n",
       "      <td>12.43</td>\n",
       "      <td>2</td>\n",
       "      <td>100.519531</td>\n",
       "      <td>61.965495</td>\n",
       "      <td>2</td>\n",
       "      <td>2</td>\n",
       "      <td>2</td>\n",
       "      <td>84.0</td>\n",
       "      <td>0</td>\n",
       "      <td>3</td>\n",
       "      <td>1</td>\n",
       "      <td>2</td>\n",
       "      <td>2</td>\n",
       "    </tr>\n",
       "    <tr>\n",
       "      <th>2</th>\n",
       "      <td>9089</td>\n",
       "      <td>18.1</td>\n",
       "      <td>104</td>\n",
       "      <td>16.734467</td>\n",
       "      <td>3.82</td>\n",
       "      <td>2</td>\n",
       "      <td>130.000000</td>\n",
       "      <td>90.000000</td>\n",
       "      <td>3</td>\n",
       "      <td>2</td>\n",
       "      <td>2</td>\n",
       "      <td>100.0</td>\n",
       "      <td>1</td>\n",
       "      <td>6</td>\n",
       "      <td>1</td>\n",
       "      <td>2</td>\n",
       "      <td>12</td>\n",
       "    </tr>\n",
       "    <tr>\n",
       "      <th>6</th>\n",
       "      <td>2338</td>\n",
       "      <td>50.7</td>\n",
       "      <td>151</td>\n",
       "      <td>22.235867</td>\n",
       "      <td>9.72</td>\n",
       "      <td>2</td>\n",
       "      <td>110.000000</td>\n",
       "      <td>60.000000</td>\n",
       "      <td>4</td>\n",
       "      <td>2</td>\n",
       "      <td>1</td>\n",
       "      <td>80.0</td>\n",
       "      <td>0</td>\n",
       "      <td>2</td>\n",
       "      <td>1</td>\n",
       "      <td>2</td>\n",
       "      <td>2</td>\n",
       "    </tr>\n",
       "    <tr>\n",
       "      <th>8</th>\n",
       "      <td>1643</td>\n",
       "      <td>21.0</td>\n",
       "      <td>90</td>\n",
       "      <td>25.925926</td>\n",
       "      <td>2.57</td>\n",
       "      <td>2</td>\n",
       "      <td>100.519531</td>\n",
       "      <td>61.965495</td>\n",
       "      <td>2</td>\n",
       "      <td>2</td>\n",
       "      <td>2</td>\n",
       "      <td>110.0</td>\n",
       "      <td>7</td>\n",
       "      <td>2</td>\n",
       "      <td>1</td>\n",
       "      <td>1</td>\n",
       "      <td>13</td>\n",
       "    </tr>\n",
       "    <tr>\n",
       "      <th>10</th>\n",
       "      <td>11597</td>\n",
       "      <td>18.9</td>\n",
       "      <td>110</td>\n",
       "      <td>15.619835</td>\n",
       "      <td>6.11</td>\n",
       "      <td>2</td>\n",
       "      <td>100.519531</td>\n",
       "      <td>61.965495</td>\n",
       "      <td>2</td>\n",
       "      <td>2</td>\n",
       "      <td>1</td>\n",
       "      <td>80.0</td>\n",
       "      <td>0</td>\n",
       "      <td>5</td>\n",
       "      <td>0</td>\n",
       "      <td>3</td>\n",
       "      <td>13</td>\n",
       "    </tr>\n",
       "    <tr>\n",
       "      <th>...</th>\n",
       "      <td>...</td>\n",
       "      <td>...</td>\n",
       "      <td>...</td>\n",
       "      <td>...</td>\n",
       "      <td>...</td>\n",
       "      <td>...</td>\n",
       "      <td>...</td>\n",
       "      <td>...</td>\n",
       "      <td>...</td>\n",
       "      <td>...</td>\n",
       "      <td>...</td>\n",
       "      <td>...</td>\n",
       "      <td>...</td>\n",
       "      <td>...</td>\n",
       "      <td>...</td>\n",
       "      <td>...</td>\n",
       "      <td>...</td>\n",
       "    </tr>\n",
       "    <tr>\n",
       "      <th>3137</th>\n",
       "      <td>398</td>\n",
       "      <td>12.8</td>\n",
       "      <td>89</td>\n",
       "      <td>16.159576</td>\n",
       "      <td>2.76</td>\n",
       "      <td>2</td>\n",
       "      <td>100.519531</td>\n",
       "      <td>61.965495</td>\n",
       "      <td>2</td>\n",
       "      <td>2</td>\n",
       "      <td>1</td>\n",
       "      <td>90.0</td>\n",
       "      <td>0</td>\n",
       "      <td>6</td>\n",
       "      <td>0</td>\n",
       "      <td>3</td>\n",
       "      <td>13</td>\n",
       "    </tr>\n",
       "    <tr>\n",
       "      <th>3138</th>\n",
       "      <td>12752</td>\n",
       "      <td>41.0</td>\n",
       "      <td>133</td>\n",
       "      <td>23.178246</td>\n",
       "      <td>8.83</td>\n",
       "      <td>2</td>\n",
       "      <td>110.000000</td>\n",
       "      <td>70.000000</td>\n",
       "      <td>4</td>\n",
       "      <td>2</td>\n",
       "      <td>2</td>\n",
       "      <td>94.0</td>\n",
       "      <td>0</td>\n",
       "      <td>6</td>\n",
       "      <td>1</td>\n",
       "      <td>2</td>\n",
       "      <td>3</td>\n",
       "    </tr>\n",
       "    <tr>\n",
       "      <th>3139</th>\n",
       "      <td>1818</td>\n",
       "      <td>24.0</td>\n",
       "      <td>126</td>\n",
       "      <td>15.117158</td>\n",
       "      <td>8.49</td>\n",
       "      <td>2</td>\n",
       "      <td>100.000000</td>\n",
       "      <td>60.000000</td>\n",
       "      <td>4</td>\n",
       "      <td>2</td>\n",
       "      <td>2</td>\n",
       "      <td>82.0</td>\n",
       "      <td>7</td>\n",
       "      <td>4</td>\n",
       "      <td>0</td>\n",
       "      <td>2</td>\n",
       "      <td>13</td>\n",
       "    </tr>\n",
       "    <tr>\n",
       "      <th>3143</th>\n",
       "      <td>14643</td>\n",
       "      <td>46.0</td>\n",
       "      <td>151</td>\n",
       "      <td>20.174554</td>\n",
       "      <td>13.83</td>\n",
       "      <td>2</td>\n",
       "      <td>120.000000</td>\n",
       "      <td>60.000000</td>\n",
       "      <td>4</td>\n",
       "      <td>2</td>\n",
       "      <td>1</td>\n",
       "      <td>96.0</td>\n",
       "      <td>3</td>\n",
       "      <td>6</td>\n",
       "      <td>0</td>\n",
       "      <td>3</td>\n",
       "      <td>10</td>\n",
       "    </tr>\n",
       "    <tr>\n",
       "      <th>3145</th>\n",
       "      <td>14963</td>\n",
       "      <td>27.0</td>\n",
       "      <td>123</td>\n",
       "      <td>17.846520</td>\n",
       "      <td>7.51</td>\n",
       "      <td>2</td>\n",
       "      <td>100.000000</td>\n",
       "      <td>60.000000</td>\n",
       "      <td>4</td>\n",
       "      <td>2</td>\n",
       "      <td>2</td>\n",
       "      <td>92.0</td>\n",
       "      <td>0</td>\n",
       "      <td>3</td>\n",
       "      <td>1</td>\n",
       "      <td>2</td>\n",
       "      <td>3</td>\n",
       "    </tr>\n",
       "  </tbody>\n",
       "</table>\n",
       "<p>2142 rows × 17 columns</p>\n",
       "</div>"
      ],
      "text/plain": [
       "         Id  Peso  Altura        IMC  IDADE  PULSOS  PA SISTOLICA  \\\n",
       "1      4246  42.4     150  18.844444  12.43       2    100.519531   \n",
       "2      9089  18.1     104  16.734467   3.82       2    130.000000   \n",
       "6      2338  50.7     151  22.235867   9.72       2    110.000000   \n",
       "8      1643  21.0      90  25.925926   2.57       2    100.519531   \n",
       "10    11597  18.9     110  15.619835   6.11       2    100.519531   \n",
       "...     ...   ...     ...        ...    ...     ...           ...   \n",
       "3137    398  12.8      89  16.159576   2.76       2    100.519531   \n",
       "3138  12752  41.0     133  23.178246   8.83       2    110.000000   \n",
       "3139   1818  24.0     126  15.117158   8.49       2    100.000000   \n",
       "3143  14643  46.0     151  20.174554  13.83       2    120.000000   \n",
       "3145  14963  27.0     123  17.846520   7.51       2    100.000000   \n",
       "\n",
       "      PA DIASTOLICA  PPA  B2  SOPRO     FC  HDA 1  HDA2  SEXO  MOTIVO1  \\\n",
       "1         61.965495    2   2      2   84.0      0     3     1        2   \n",
       "2         90.000000    3   2      2  100.0      1     6     1        2   \n",
       "6         60.000000    4   2      1   80.0      0     2     1        2   \n",
       "8         61.965495    2   2      2  110.0      7     2     1        1   \n",
       "10        61.965495    2   2      1   80.0      0     5     0        3   \n",
       "...             ...  ...  ..    ...    ...    ...   ...   ...      ...   \n",
       "3137      61.965495    2   2      1   90.0      0     6     0        3   \n",
       "3138      70.000000    4   2      2   94.0      0     6     1        2   \n",
       "3139      60.000000    4   2      2   82.0      7     4     0        2   \n",
       "3143      60.000000    4   2      1   96.0      3     6     0        3   \n",
       "3145      60.000000    4   2      2   92.0      0     3     1        2   \n",
       "\n",
       "      MOTIVO2  \n",
       "1           2  \n",
       "2          12  \n",
       "6           2  \n",
       "8          13  \n",
       "10         13  \n",
       "...       ...  \n",
       "3137       13  \n",
       "3138        3  \n",
       "3139       13  \n",
       "3143       10  \n",
       "3145        3  \n",
       "\n",
       "[2142 rows x 17 columns]"
      ]
     },
     "metadata": {},
     "output_type": "display_data"
    }
   ],
   "source": [
    "idades_treinamento = (dados_treino[\"IDADE\"] >= 0.5) & (dados_treino[\"IDADE\"] <= 19)\n",
    "\n",
    "dados_filtrados = dados_treino[idades_treinamento]\n",
    "\n",
    "display(dados_filtrados)"
   ]
  },
  {
   "cell_type": "markdown",
   "metadata": {},
   "source": [
    "Por hora, apenas iremos substituir as idades inválidas pela mediana."
   ]
  },
  {
   "cell_type": "code",
   "execution_count": 631,
   "metadata": {},
   "outputs": [
    {
     "data": {
      "text/html": [
       "<div>\n",
       "<style scoped>\n",
       "    .dataframe tbody tr th:only-of-type {\n",
       "        vertical-align: middle;\n",
       "    }\n",
       "\n",
       "    .dataframe tbody tr th {\n",
       "        vertical-align: top;\n",
       "    }\n",
       "\n",
       "    .dataframe thead th {\n",
       "        text-align: right;\n",
       "    }\n",
       "</style>\n",
       "<table border=\"1\" class=\"dataframe\">\n",
       "  <thead>\n",
       "    <tr style=\"text-align: right;\">\n",
       "      <th></th>\n",
       "      <th>Id</th>\n",
       "      <th>Peso</th>\n",
       "      <th>Altura</th>\n",
       "      <th>IMC</th>\n",
       "      <th>IDADE</th>\n",
       "      <th>PULSOS</th>\n",
       "      <th>PA SISTOLICA</th>\n",
       "      <th>PA DIASTOLICA</th>\n",
       "      <th>PPA</th>\n",
       "      <th>B2</th>\n",
       "      <th>SOPRO</th>\n",
       "      <th>FC</th>\n",
       "      <th>HDA 1</th>\n",
       "      <th>HDA2</th>\n",
       "      <th>SEXO</th>\n",
       "      <th>MOTIVO1</th>\n",
       "      <th>MOTIVO2</th>\n",
       "    </tr>\n",
       "  </thead>\n",
       "  <tbody>\n",
       "    <tr>\n",
       "      <th>0</th>\n",
       "      <td>8957</td>\n",
       "      <td>4.5</td>\n",
       "      <td>54</td>\n",
       "      <td>15.432099</td>\n",
       "      <td>0.15</td>\n",
       "      <td>2</td>\n",
       "      <td>100.519531</td>\n",
       "      <td>61.965495</td>\n",
       "      <td>2</td>\n",
       "      <td>2</td>\n",
       "      <td>2</td>\n",
       "      <td>110.000000</td>\n",
       "      <td>3</td>\n",
       "      <td>5</td>\n",
       "      <td>0</td>\n",
       "      <td>1</td>\n",
       "      <td>13</td>\n",
       "    </tr>\n",
       "    <tr>\n",
       "      <th>7</th>\n",
       "      <td>13378</td>\n",
       "      <td>7.9</td>\n",
       "      <td>69</td>\n",
       "      <td>16.593153</td>\n",
       "      <td>0.49</td>\n",
       "      <td>2</td>\n",
       "      <td>100.519531</td>\n",
       "      <td>61.965495</td>\n",
       "      <td>2</td>\n",
       "      <td>2</td>\n",
       "      <td>1</td>\n",
       "      <td>88.000000</td>\n",
       "      <td>0</td>\n",
       "      <td>3</td>\n",
       "      <td>1</td>\n",
       "      <td>3</td>\n",
       "      <td>13</td>\n",
       "    </tr>\n",
       "    <tr>\n",
       "      <th>14</th>\n",
       "      <td>1976</td>\n",
       "      <td>3.2</td>\n",
       "      <td>51</td>\n",
       "      <td>12.302960</td>\n",
       "      <td>0.07</td>\n",
       "      <td>2</td>\n",
       "      <td>100.519531</td>\n",
       "      <td>61.965495</td>\n",
       "      <td>2</td>\n",
       "      <td>2</td>\n",
       "      <td>1</td>\n",
       "      <td>102.000000</td>\n",
       "      <td>7</td>\n",
       "      <td>6</td>\n",
       "      <td>0</td>\n",
       "      <td>3</td>\n",
       "      <td>12</td>\n",
       "    </tr>\n",
       "    <tr>\n",
       "      <th>15</th>\n",
       "      <td>15431</td>\n",
       "      <td>5.3</td>\n",
       "      <td>65</td>\n",
       "      <td>12.544379</td>\n",
       "      <td>0.49</td>\n",
       "      <td>2</td>\n",
       "      <td>100.519531</td>\n",
       "      <td>61.965495</td>\n",
       "      <td>2</td>\n",
       "      <td>3</td>\n",
       "      <td>2</td>\n",
       "      <td>80.000000</td>\n",
       "      <td>3</td>\n",
       "      <td>6</td>\n",
       "      <td>1</td>\n",
       "      <td>3</td>\n",
       "      <td>9</td>\n",
       "    </tr>\n",
       "    <tr>\n",
       "      <th>18</th>\n",
       "      <td>15707</td>\n",
       "      <td>7.0</td>\n",
       "      <td>59</td>\n",
       "      <td>20.109164</td>\n",
       "      <td>0.33</td>\n",
       "      <td>2</td>\n",
       "      <td>100.519531</td>\n",
       "      <td>61.965495</td>\n",
       "      <td>2</td>\n",
       "      <td>2</td>\n",
       "      <td>1</td>\n",
       "      <td>92.000000</td>\n",
       "      <td>0</td>\n",
       "      <td>6</td>\n",
       "      <td>1</td>\n",
       "      <td>3</td>\n",
       "      <td>13</td>\n",
       "    </tr>\n",
       "    <tr>\n",
       "      <th>...</th>\n",
       "      <td>...</td>\n",
       "      <td>...</td>\n",
       "      <td>...</td>\n",
       "      <td>...</td>\n",
       "      <td>...</td>\n",
       "      <td>...</td>\n",
       "      <td>...</td>\n",
       "      <td>...</td>\n",
       "      <td>...</td>\n",
       "      <td>...</td>\n",
       "      <td>...</td>\n",
       "      <td>...</td>\n",
       "      <td>...</td>\n",
       "      <td>...</td>\n",
       "      <td>...</td>\n",
       "      <td>...</td>\n",
       "      <td>...</td>\n",
       "    </tr>\n",
       "    <tr>\n",
       "      <th>3116</th>\n",
       "      <td>4567</td>\n",
       "      <td>4.2</td>\n",
       "      <td>50</td>\n",
       "      <td>16.800000</td>\n",
       "      <td>0.33</td>\n",
       "      <td>2</td>\n",
       "      <td>100.519531</td>\n",
       "      <td>61.965495</td>\n",
       "      <td>2</td>\n",
       "      <td>2</td>\n",
       "      <td>2</td>\n",
       "      <td>100.000000</td>\n",
       "      <td>0</td>\n",
       "      <td>6</td>\n",
       "      <td>0</td>\n",
       "      <td>2</td>\n",
       "      <td>3</td>\n",
       "    </tr>\n",
       "    <tr>\n",
       "      <th>3122</th>\n",
       "      <td>6069</td>\n",
       "      <td>5.9</td>\n",
       "      <td>55</td>\n",
       "      <td>19.504132</td>\n",
       "      <td>0.22</td>\n",
       "      <td>2</td>\n",
       "      <td>100.519531</td>\n",
       "      <td>61.965495</td>\n",
       "      <td>2</td>\n",
       "      <td>2</td>\n",
       "      <td>1</td>\n",
       "      <td>92.293641</td>\n",
       "      <td>0</td>\n",
       "      <td>5</td>\n",
       "      <td>1</td>\n",
       "      <td>3</td>\n",
       "      <td>12</td>\n",
       "    </tr>\n",
       "    <tr>\n",
       "      <th>3127</th>\n",
       "      <td>15035</td>\n",
       "      <td>3.8</td>\n",
       "      <td>47</td>\n",
       "      <td>17.202354</td>\n",
       "      <td>0.00</td>\n",
       "      <td>2</td>\n",
       "      <td>100.519531</td>\n",
       "      <td>61.965495</td>\n",
       "      <td>2</td>\n",
       "      <td>2</td>\n",
       "      <td>1</td>\n",
       "      <td>124.000000</td>\n",
       "      <td>0</td>\n",
       "      <td>6</td>\n",
       "      <td>0</td>\n",
       "      <td>3</td>\n",
       "      <td>13</td>\n",
       "    </tr>\n",
       "    <tr>\n",
       "      <th>3131</th>\n",
       "      <td>898</td>\n",
       "      <td>3.6</td>\n",
       "      <td>52</td>\n",
       "      <td>13.313609</td>\n",
       "      <td>0.00</td>\n",
       "      <td>2</td>\n",
       "      <td>100.519531</td>\n",
       "      <td>61.965495</td>\n",
       "      <td>2</td>\n",
       "      <td>1</td>\n",
       "      <td>1</td>\n",
       "      <td>120.000000</td>\n",
       "      <td>0</td>\n",
       "      <td>4</td>\n",
       "      <td>0</td>\n",
       "      <td>3</td>\n",
       "      <td>13</td>\n",
       "    </tr>\n",
       "    <tr>\n",
       "      <th>3144</th>\n",
       "      <td>15107</td>\n",
       "      <td>21.0</td>\n",
       "      <td>50</td>\n",
       "      <td>84.000000</td>\n",
       "      <td>0.00</td>\n",
       "      <td>2</td>\n",
       "      <td>100.519531</td>\n",
       "      <td>61.965495</td>\n",
       "      <td>2</td>\n",
       "      <td>2</td>\n",
       "      <td>1</td>\n",
       "      <td>133.000000</td>\n",
       "      <td>0</td>\n",
       "      <td>3</td>\n",
       "      <td>0</td>\n",
       "      <td>3</td>\n",
       "      <td>13</td>\n",
       "    </tr>\n",
       "  </tbody>\n",
       "</table>\n",
       "<p>300 rows × 17 columns</p>\n",
       "</div>"
      ],
      "text/plain": [
       "         Id  Peso  Altura        IMC  IDADE  PULSOS  PA SISTOLICA  \\\n",
       "0      8957   4.5      54  15.432099   0.15       2    100.519531   \n",
       "7     13378   7.9      69  16.593153   0.49       2    100.519531   \n",
       "14     1976   3.2      51  12.302960   0.07       2    100.519531   \n",
       "15    15431   5.3      65  12.544379   0.49       2    100.519531   \n",
       "18    15707   7.0      59  20.109164   0.33       2    100.519531   \n",
       "...     ...   ...     ...        ...    ...     ...           ...   \n",
       "3116   4567   4.2      50  16.800000   0.33       2    100.519531   \n",
       "3122   6069   5.9      55  19.504132   0.22       2    100.519531   \n",
       "3127  15035   3.8      47  17.202354   0.00       2    100.519531   \n",
       "3131    898   3.6      52  13.313609   0.00       2    100.519531   \n",
       "3144  15107  21.0      50  84.000000   0.00       2    100.519531   \n",
       "\n",
       "      PA DIASTOLICA  PPA  B2  SOPRO          FC  HDA 1  HDA2  SEXO  MOTIVO1  \\\n",
       "0         61.965495    2   2      2  110.000000      3     5     0        1   \n",
       "7         61.965495    2   2      1   88.000000      0     3     1        3   \n",
       "14        61.965495    2   2      1  102.000000      7     6     0        3   \n",
       "15        61.965495    2   3      2   80.000000      3     6     1        3   \n",
       "18        61.965495    2   2      1   92.000000      0     6     1        3   \n",
       "...             ...  ...  ..    ...         ...    ...   ...   ...      ...   \n",
       "3116      61.965495    2   2      2  100.000000      0     6     0        2   \n",
       "3122      61.965495    2   2      1   92.293641      0     5     1        3   \n",
       "3127      61.965495    2   2      1  124.000000      0     6     0        3   \n",
       "3131      61.965495    2   1      1  120.000000      0     4     0        3   \n",
       "3144      61.965495    2   2      1  133.000000      0     3     0        3   \n",
       "\n",
       "      MOTIVO2  \n",
       "0          13  \n",
       "7          13  \n",
       "14         12  \n",
       "15          9  \n",
       "18         13  \n",
       "...       ...  \n",
       "3116        3  \n",
       "3122       12  \n",
       "3127       13  \n",
       "3131       13  \n",
       "3144       13  \n",
       "\n",
       "[300 rows x 17 columns]"
      ]
     },
     "metadata": {},
     "output_type": "display_data"
    }
   ],
   "source": [
    "idades_treinamento = (dados_treino[\"IDADE\"] < 0.5) | (dados_treino[\"IDADE\"] > 19)\n",
    "\n",
    "dados_filtrados = dados_treino[idades_treinamento]\n",
    "\n",
    "display(dados_filtrados)"
   ]
  },
  {
   "cell_type": "markdown",
   "metadata": {},
   "source": [
    "Substituindo por NaN para depois trocar pela mediana"
   ]
  },
  {
   "cell_type": "code",
   "execution_count": 558,
   "metadata": {},
   "outputs": [],
   "source": [
    "dados_treino.loc[idades_treinamento, \"IDADE\"] = np.nan"
   ]
  },
  {
   "cell_type": "code",
   "execution_count": 559,
   "metadata": {},
   "outputs": [],
   "source": [
    "dados_treino['IDADE'] = dados_treino[\"IDADE\"].fillna(dados_treino[\"IDADE\"].median())"
   ]
  },
  {
   "cell_type": "markdown",
   "metadata": {},
   "source": [
    "Plotando o boxplot"
   ]
  },
  {
   "cell_type": "code",
   "execution_count": 634,
   "metadata": {},
   "outputs": [
    {
     "name": "stdout",
     "output_type": "stream",
     "text": [
      "0\n"
     ]
    }
   ],
   "source": [
    "dados_treino['FC']= dados_treino['FC'].fillna(dados_treino['FC'].mean())\n",
    "\n",
    "print(dados_treino['FC'].isna().sum())"
   ]
  },
  {
   "cell_type": "code",
   "execution_count": 635,
   "metadata": {},
   "outputs": [
    {
     "data": {
      "text/html": [
       "<div>\n",
       "<style scoped>\n",
       "    .dataframe tbody tr th:only-of-type {\n",
       "        vertical-align: middle;\n",
       "    }\n",
       "\n",
       "    .dataframe tbody tr th {\n",
       "        vertical-align: top;\n",
       "    }\n",
       "\n",
       "    .dataframe thead th {\n",
       "        text-align: right;\n",
       "    }\n",
       "</style>\n",
       "<table border=\"1\" class=\"dataframe\">\n",
       "  <thead>\n",
       "    <tr style=\"text-align: right;\">\n",
       "      <th></th>\n",
       "      <th>Id</th>\n",
       "      <th>Peso</th>\n",
       "      <th>Altura</th>\n",
       "      <th>IMC</th>\n",
       "      <th>IDADE</th>\n",
       "      <th>PULSOS</th>\n",
       "      <th>PA SISTOLICA</th>\n",
       "      <th>PA DIASTOLICA</th>\n",
       "      <th>PPA</th>\n",
       "      <th>B2</th>\n",
       "      <th>SOPRO</th>\n",
       "      <th>FC</th>\n",
       "      <th>HDA 1</th>\n",
       "      <th>HDA2</th>\n",
       "      <th>SEXO</th>\n",
       "      <th>MOTIVO1</th>\n",
       "      <th>MOTIVO2</th>\n",
       "    </tr>\n",
       "  </thead>\n",
       "  <tbody>\n",
       "    <tr>\n",
       "      <th>0</th>\n",
       "      <td>8957</td>\n",
       "      <td>4.5</td>\n",
       "      <td>54</td>\n",
       "      <td>15.432099</td>\n",
       "      <td>6.665</td>\n",
       "      <td>2</td>\n",
       "      <td>100.519531</td>\n",
       "      <td>61.965495</td>\n",
       "      <td>2</td>\n",
       "      <td>2</td>\n",
       "      <td>2</td>\n",
       "      <td>110.0</td>\n",
       "      <td>3</td>\n",
       "      <td>5</td>\n",
       "      <td>0</td>\n",
       "      <td>1</td>\n",
       "      <td>13</td>\n",
       "    </tr>\n",
       "    <tr>\n",
       "      <th>1</th>\n",
       "      <td>4246</td>\n",
       "      <td>42.4</td>\n",
       "      <td>150</td>\n",
       "      <td>18.844444</td>\n",
       "      <td>12.430</td>\n",
       "      <td>2</td>\n",
       "      <td>100.519531</td>\n",
       "      <td>61.965495</td>\n",
       "      <td>2</td>\n",
       "      <td>2</td>\n",
       "      <td>2</td>\n",
       "      <td>84.0</td>\n",
       "      <td>0</td>\n",
       "      <td>3</td>\n",
       "      <td>1</td>\n",
       "      <td>2</td>\n",
       "      <td>2</td>\n",
       "    </tr>\n",
       "    <tr>\n",
       "      <th>2</th>\n",
       "      <td>9089</td>\n",
       "      <td>18.1</td>\n",
       "      <td>104</td>\n",
       "      <td>16.734467</td>\n",
       "      <td>3.820</td>\n",
       "      <td>2</td>\n",
       "      <td>130.000000</td>\n",
       "      <td>90.000000</td>\n",
       "      <td>3</td>\n",
       "      <td>2</td>\n",
       "      <td>2</td>\n",
       "      <td>100.0</td>\n",
       "      <td>1</td>\n",
       "      <td>6</td>\n",
       "      <td>1</td>\n",
       "      <td>2</td>\n",
       "      <td>12</td>\n",
       "    </tr>\n",
       "    <tr>\n",
       "      <th>6</th>\n",
       "      <td>2338</td>\n",
       "      <td>50.7</td>\n",
       "      <td>151</td>\n",
       "      <td>22.235867</td>\n",
       "      <td>9.720</td>\n",
       "      <td>2</td>\n",
       "      <td>110.000000</td>\n",
       "      <td>60.000000</td>\n",
       "      <td>4</td>\n",
       "      <td>2</td>\n",
       "      <td>1</td>\n",
       "      <td>80.0</td>\n",
       "      <td>0</td>\n",
       "      <td>2</td>\n",
       "      <td>1</td>\n",
       "      <td>2</td>\n",
       "      <td>2</td>\n",
       "    </tr>\n",
       "    <tr>\n",
       "      <th>7</th>\n",
       "      <td>13378</td>\n",
       "      <td>7.9</td>\n",
       "      <td>69</td>\n",
       "      <td>16.593153</td>\n",
       "      <td>6.665</td>\n",
       "      <td>2</td>\n",
       "      <td>100.519531</td>\n",
       "      <td>61.965495</td>\n",
       "      <td>2</td>\n",
       "      <td>2</td>\n",
       "      <td>1</td>\n",
       "      <td>88.0</td>\n",
       "      <td>0</td>\n",
       "      <td>3</td>\n",
       "      <td>1</td>\n",
       "      <td>3</td>\n",
       "      <td>13</td>\n",
       "    </tr>\n",
       "    <tr>\n",
       "      <th>...</th>\n",
       "      <td>...</td>\n",
       "      <td>...</td>\n",
       "      <td>...</td>\n",
       "      <td>...</td>\n",
       "      <td>...</td>\n",
       "      <td>...</td>\n",
       "      <td>...</td>\n",
       "      <td>...</td>\n",
       "      <td>...</td>\n",
       "      <td>...</td>\n",
       "      <td>...</td>\n",
       "      <td>...</td>\n",
       "      <td>...</td>\n",
       "      <td>...</td>\n",
       "      <td>...</td>\n",
       "      <td>...</td>\n",
       "      <td>...</td>\n",
       "    </tr>\n",
       "    <tr>\n",
       "      <th>3138</th>\n",
       "      <td>12752</td>\n",
       "      <td>41.0</td>\n",
       "      <td>133</td>\n",
       "      <td>23.178246</td>\n",
       "      <td>8.830</td>\n",
       "      <td>2</td>\n",
       "      <td>110.000000</td>\n",
       "      <td>70.000000</td>\n",
       "      <td>4</td>\n",
       "      <td>2</td>\n",
       "      <td>2</td>\n",
       "      <td>94.0</td>\n",
       "      <td>0</td>\n",
       "      <td>6</td>\n",
       "      <td>1</td>\n",
       "      <td>2</td>\n",
       "      <td>3</td>\n",
       "    </tr>\n",
       "    <tr>\n",
       "      <th>3139</th>\n",
       "      <td>1818</td>\n",
       "      <td>24.0</td>\n",
       "      <td>126</td>\n",
       "      <td>15.117158</td>\n",
       "      <td>8.490</td>\n",
       "      <td>2</td>\n",
       "      <td>100.000000</td>\n",
       "      <td>60.000000</td>\n",
       "      <td>4</td>\n",
       "      <td>2</td>\n",
       "      <td>2</td>\n",
       "      <td>82.0</td>\n",
       "      <td>7</td>\n",
       "      <td>4</td>\n",
       "      <td>0</td>\n",
       "      <td>2</td>\n",
       "      <td>13</td>\n",
       "    </tr>\n",
       "    <tr>\n",
       "      <th>3143</th>\n",
       "      <td>14643</td>\n",
       "      <td>46.0</td>\n",
       "      <td>151</td>\n",
       "      <td>20.174554</td>\n",
       "      <td>13.830</td>\n",
       "      <td>2</td>\n",
       "      <td>120.000000</td>\n",
       "      <td>60.000000</td>\n",
       "      <td>4</td>\n",
       "      <td>2</td>\n",
       "      <td>1</td>\n",
       "      <td>96.0</td>\n",
       "      <td>3</td>\n",
       "      <td>6</td>\n",
       "      <td>0</td>\n",
       "      <td>3</td>\n",
       "      <td>10</td>\n",
       "    </tr>\n",
       "    <tr>\n",
       "      <th>3144</th>\n",
       "      <td>15107</td>\n",
       "      <td>21.0</td>\n",
       "      <td>50</td>\n",
       "      <td>84.000000</td>\n",
       "      <td>6.665</td>\n",
       "      <td>2</td>\n",
       "      <td>100.519531</td>\n",
       "      <td>61.965495</td>\n",
       "      <td>2</td>\n",
       "      <td>2</td>\n",
       "      <td>1</td>\n",
       "      <td>133.0</td>\n",
       "      <td>0</td>\n",
       "      <td>3</td>\n",
       "      <td>0</td>\n",
       "      <td>3</td>\n",
       "      <td>13</td>\n",
       "    </tr>\n",
       "    <tr>\n",
       "      <th>3145</th>\n",
       "      <td>14963</td>\n",
       "      <td>27.0</td>\n",
       "      <td>123</td>\n",
       "      <td>17.846520</td>\n",
       "      <td>7.510</td>\n",
       "      <td>2</td>\n",
       "      <td>100.000000</td>\n",
       "      <td>60.000000</td>\n",
       "      <td>4</td>\n",
       "      <td>2</td>\n",
       "      <td>2</td>\n",
       "      <td>92.0</td>\n",
       "      <td>0</td>\n",
       "      <td>3</td>\n",
       "      <td>1</td>\n",
       "      <td>2</td>\n",
       "      <td>3</td>\n",
       "    </tr>\n",
       "  </tbody>\n",
       "</table>\n",
       "<p>2442 rows × 17 columns</p>\n",
       "</div>"
      ],
      "text/plain": [
       "         Id  Peso  Altura        IMC   IDADE  PULSOS  PA SISTOLICA  \\\n",
       "0      8957   4.5      54  15.432099   6.665       2    100.519531   \n",
       "1      4246  42.4     150  18.844444  12.430       2    100.519531   \n",
       "2      9089  18.1     104  16.734467   3.820       2    130.000000   \n",
       "6      2338  50.7     151  22.235867   9.720       2    110.000000   \n",
       "7     13378   7.9      69  16.593153   6.665       2    100.519531   \n",
       "...     ...   ...     ...        ...     ...     ...           ...   \n",
       "3138  12752  41.0     133  23.178246   8.830       2    110.000000   \n",
       "3139   1818  24.0     126  15.117158   8.490       2    100.000000   \n",
       "3143  14643  46.0     151  20.174554  13.830       2    120.000000   \n",
       "3144  15107  21.0      50  84.000000   6.665       2    100.519531   \n",
       "3145  14963  27.0     123  17.846520   7.510       2    100.000000   \n",
       "\n",
       "      PA DIASTOLICA  PPA  B2  SOPRO     FC  HDA 1  HDA2  SEXO  MOTIVO1  \\\n",
       "0         61.965495    2   2      2  110.0      3     5     0        1   \n",
       "1         61.965495    2   2      2   84.0      0     3     1        2   \n",
       "2         90.000000    3   2      2  100.0      1     6     1        2   \n",
       "6         60.000000    4   2      1   80.0      0     2     1        2   \n",
       "7         61.965495    2   2      1   88.0      0     3     1        3   \n",
       "...             ...  ...  ..    ...    ...    ...   ...   ...      ...   \n",
       "3138      70.000000    4   2      2   94.0      0     6     1        2   \n",
       "3139      60.000000    4   2      2   82.0      7     4     0        2   \n",
       "3143      60.000000    4   2      1   96.0      3     6     0        3   \n",
       "3144      61.965495    2   2      1  133.0      0     3     0        3   \n",
       "3145      60.000000    4   2      2   92.0      0     3     1        2   \n",
       "\n",
       "      MOTIVO2  \n",
       "0          13  \n",
       "1           2  \n",
       "2          12  \n",
       "6           2  \n",
       "7          13  \n",
       "...       ...  \n",
       "3138        3  \n",
       "3139       13  \n",
       "3143       10  \n",
       "3144       13  \n",
       "3145        3  \n",
       "\n",
       "[2442 rows x 17 columns]"
      ]
     },
     "metadata": {},
     "output_type": "display_data"
    }
   ],
   "source": [
    "display(dados_treino)\n",
    "dados_treino.to_csv('dados_teste_tratados.csv', index=False)"
   ]
  },
  {
   "cell_type": "markdown",
   "metadata": {},
   "source": [
    "---\n",
    "### Experimento\n",
    "\n",
    "Nesta seção, o experimento deve ser conduzido, utilizando os protocolos experimentais padrões e testando diferentes modelos."
   ]
  },
  {
   "cell_type": "markdown",
   "metadata": {},
   "source": [
    "---\n",
    "### Análise dos Resultados\n",
    "\n",
    "Nesta seção, os resultados devem ser exibidos através de tabelas e gráficos, comparados e profundamente analisados."
   ]
  },
  {
   "cell_type": "code",
   "execution_count": 636,
   "metadata": {},
   "outputs": [
    {
     "ename": "KeyError",
     "evalue": "\"None of [Index(['CLASSE'], dtype='object')] are in the [columns]\"",
     "output_type": "error",
     "traceback": [
      "\u001b[1;31m---------------------------------------------------------------------------\u001b[0m",
      "\u001b[1;31mKeyError\u001b[0m                                  Traceback (most recent call last)",
      "Cell \u001b[1;32mIn[636], line 5\u001b[0m\n\u001b[0;32m      2\u001b[0m target \u001b[38;5;241m=\u001b[39m [\u001b[38;5;124m'\u001b[39m\u001b[38;5;124mCLASSE\u001b[39m\u001b[38;5;124m'\u001b[39m]\n\u001b[0;32m      4\u001b[0m X \u001b[38;5;241m=\u001b[39m dados_treino[atributos]\n\u001b[1;32m----> 5\u001b[0m y \u001b[38;5;241m=\u001b[39m \u001b[43mdados_treino\u001b[49m\u001b[43m[\u001b[49m\u001b[43mtarget\u001b[49m\u001b[43m]\u001b[49m\n\u001b[0;32m      7\u001b[0m \u001b[38;5;28mprint\u001b[39m(X\u001b[38;5;241m.\u001b[39misna()\u001b[38;5;241m.\u001b[39msum())\n",
      "File \u001b[1;32mc:\\Users\\PICHAU\\AppData\\Local\\Programs\\Python\\Python313\\Lib\\site-packages\\pandas\\core\\frame.py:4108\u001b[0m, in \u001b[0;36mDataFrame.__getitem__\u001b[1;34m(self, key)\u001b[0m\n\u001b[0;32m   4106\u001b[0m     \u001b[38;5;28;01mif\u001b[39;00m is_iterator(key):\n\u001b[0;32m   4107\u001b[0m         key \u001b[38;5;241m=\u001b[39m \u001b[38;5;28mlist\u001b[39m(key)\n\u001b[1;32m-> 4108\u001b[0m     indexer \u001b[38;5;241m=\u001b[39m \u001b[38;5;28;43mself\u001b[39;49m\u001b[38;5;241;43m.\u001b[39;49m\u001b[43mcolumns\u001b[49m\u001b[38;5;241;43m.\u001b[39;49m\u001b[43m_get_indexer_strict\u001b[49m\u001b[43m(\u001b[49m\u001b[43mkey\u001b[49m\u001b[43m,\u001b[49m\u001b[43m \u001b[49m\u001b[38;5;124;43m\"\u001b[39;49m\u001b[38;5;124;43mcolumns\u001b[39;49m\u001b[38;5;124;43m\"\u001b[39;49m\u001b[43m)\u001b[49m[\u001b[38;5;241m1\u001b[39m]\n\u001b[0;32m   4110\u001b[0m \u001b[38;5;66;03m# take() does not accept boolean indexers\u001b[39;00m\n\u001b[0;32m   4111\u001b[0m \u001b[38;5;28;01mif\u001b[39;00m \u001b[38;5;28mgetattr\u001b[39m(indexer, \u001b[38;5;124m\"\u001b[39m\u001b[38;5;124mdtype\u001b[39m\u001b[38;5;124m\"\u001b[39m, \u001b[38;5;28;01mNone\u001b[39;00m) \u001b[38;5;241m==\u001b[39m \u001b[38;5;28mbool\u001b[39m:\n",
      "File \u001b[1;32mc:\\Users\\PICHAU\\AppData\\Local\\Programs\\Python\\Python313\\Lib\\site-packages\\pandas\\core\\indexes\\base.py:6200\u001b[0m, in \u001b[0;36mIndex._get_indexer_strict\u001b[1;34m(self, key, axis_name)\u001b[0m\n\u001b[0;32m   6197\u001b[0m \u001b[38;5;28;01melse\u001b[39;00m:\n\u001b[0;32m   6198\u001b[0m     keyarr, indexer, new_indexer \u001b[38;5;241m=\u001b[39m \u001b[38;5;28mself\u001b[39m\u001b[38;5;241m.\u001b[39m_reindex_non_unique(keyarr)\n\u001b[1;32m-> 6200\u001b[0m \u001b[38;5;28;43mself\u001b[39;49m\u001b[38;5;241;43m.\u001b[39;49m\u001b[43m_raise_if_missing\u001b[49m\u001b[43m(\u001b[49m\u001b[43mkeyarr\u001b[49m\u001b[43m,\u001b[49m\u001b[43m \u001b[49m\u001b[43mindexer\u001b[49m\u001b[43m,\u001b[49m\u001b[43m \u001b[49m\u001b[43maxis_name\u001b[49m\u001b[43m)\u001b[49m\n\u001b[0;32m   6202\u001b[0m keyarr \u001b[38;5;241m=\u001b[39m \u001b[38;5;28mself\u001b[39m\u001b[38;5;241m.\u001b[39mtake(indexer)\n\u001b[0;32m   6203\u001b[0m \u001b[38;5;28;01mif\u001b[39;00m \u001b[38;5;28misinstance\u001b[39m(key, Index):\n\u001b[0;32m   6204\u001b[0m     \u001b[38;5;66;03m# GH 42790 - Preserve name from an Index\u001b[39;00m\n",
      "File \u001b[1;32mc:\\Users\\PICHAU\\AppData\\Local\\Programs\\Python\\Python313\\Lib\\site-packages\\pandas\\core\\indexes\\base.py:6249\u001b[0m, in \u001b[0;36mIndex._raise_if_missing\u001b[1;34m(self, key, indexer, axis_name)\u001b[0m\n\u001b[0;32m   6247\u001b[0m \u001b[38;5;28;01mif\u001b[39;00m nmissing:\n\u001b[0;32m   6248\u001b[0m     \u001b[38;5;28;01mif\u001b[39;00m nmissing \u001b[38;5;241m==\u001b[39m \u001b[38;5;28mlen\u001b[39m(indexer):\n\u001b[1;32m-> 6249\u001b[0m         \u001b[38;5;28;01mraise\u001b[39;00m \u001b[38;5;167;01mKeyError\u001b[39;00m(\u001b[38;5;124mf\u001b[39m\u001b[38;5;124m\"\u001b[39m\u001b[38;5;124mNone of [\u001b[39m\u001b[38;5;132;01m{\u001b[39;00mkey\u001b[38;5;132;01m}\u001b[39;00m\u001b[38;5;124m] are in the [\u001b[39m\u001b[38;5;132;01m{\u001b[39;00maxis_name\u001b[38;5;132;01m}\u001b[39;00m\u001b[38;5;124m]\u001b[39m\u001b[38;5;124m\"\u001b[39m)\n\u001b[0;32m   6251\u001b[0m     not_found \u001b[38;5;241m=\u001b[39m \u001b[38;5;28mlist\u001b[39m(ensure_index(key)[missing_mask\u001b[38;5;241m.\u001b[39mnonzero()[\u001b[38;5;241m0\u001b[39m]]\u001b[38;5;241m.\u001b[39munique())\n\u001b[0;32m   6252\u001b[0m     \u001b[38;5;28;01mraise\u001b[39;00m \u001b[38;5;167;01mKeyError\u001b[39;00m(\u001b[38;5;124mf\u001b[39m\u001b[38;5;124m\"\u001b[39m\u001b[38;5;132;01m{\u001b[39;00mnot_found\u001b[38;5;132;01m}\u001b[39;00m\u001b[38;5;124m not in index\u001b[39m\u001b[38;5;124m\"\u001b[39m)\n",
      "\u001b[1;31mKeyError\u001b[0m: \"None of [Index(['CLASSE'], dtype='object')] are in the [columns]\""
     ]
    }
   ],
   "source": [
    "atributos = ['Peso', 'Altura', 'IMC', 'IDADE', 'PULSOS', 'PA SISTOLICA', 'PA DIASTOLICA', 'PPA', 'B2', 'SOPRO', 'FC', 'HDA 1', 'HDA2', 'SEXO', 'MOTIVO1', 'MOTIVO2']\n",
    "target = ['CLASSE']\n",
    "\n",
    "X = dados_treino[atributos]\n",
    "y = dados_treino[target]\n",
    "\n"
   ]
  },
  {
   "cell_type": "code",
   "execution_count": 126,
   "metadata": {},
   "outputs": [],
   "source": [
    "from sklearn.linear_model import LogisticRegression"
   ]
  },
  {
   "cell_type": "code",
   "execution_count": 127,
   "metadata": {},
   "outputs": [],
   "source": [
    "modelo = LogisticRegression()"
   ]
  },
  {
   "cell_type": "code",
   "execution_count": 637,
   "metadata": {},
   "outputs": [
    {
     "name": "stderr",
     "output_type": "stream",
     "text": [
      "c:\\Users\\PICHAU\\AppData\\Local\\Programs\\Python\\Python313\\Lib\\site-packages\\sklearn\\utils\\validation.py:1408: DataConversionWarning: A column-vector y was passed when a 1d array was expected. Please change the shape of y to (n_samples, ), for example using ravel().\n",
      "  y = column_or_1d(y, warn=True)\n"
     ]
    },
    {
     "ename": "ValueError",
     "evalue": "Found input variables with inconsistent numbers of samples: [2442, 10752]",
     "output_type": "error",
     "traceback": [
      "\u001b[1;31m---------------------------------------------------------------------------\u001b[0m",
      "\u001b[1;31mValueError\u001b[0m                                Traceback (most recent call last)",
      "Cell \u001b[1;32mIn[637], line 1\u001b[0m\n\u001b[1;32m----> 1\u001b[0m \u001b[43mmodelo\u001b[49m\u001b[38;5;241;43m.\u001b[39;49m\u001b[43mfit\u001b[49m\u001b[43m(\u001b[49m\u001b[43mX\u001b[49m\u001b[43m,\u001b[49m\u001b[43my\u001b[49m\u001b[43m)\u001b[49m\n",
      "File \u001b[1;32mc:\\Users\\PICHAU\\AppData\\Local\\Programs\\Python\\Python313\\Lib\\site-packages\\sklearn\\base.py:1389\u001b[0m, in \u001b[0;36m_fit_context.<locals>.decorator.<locals>.wrapper\u001b[1;34m(estimator, *args, **kwargs)\u001b[0m\n\u001b[0;32m   1382\u001b[0m     estimator\u001b[38;5;241m.\u001b[39m_validate_params()\n\u001b[0;32m   1384\u001b[0m \u001b[38;5;28;01mwith\u001b[39;00m config_context(\n\u001b[0;32m   1385\u001b[0m     skip_parameter_validation\u001b[38;5;241m=\u001b[39m(\n\u001b[0;32m   1386\u001b[0m         prefer_skip_nested_validation \u001b[38;5;129;01mor\u001b[39;00m global_skip_validation\n\u001b[0;32m   1387\u001b[0m     )\n\u001b[0;32m   1388\u001b[0m ):\n\u001b[1;32m-> 1389\u001b[0m     \u001b[38;5;28;01mreturn\u001b[39;00m \u001b[43mfit_method\u001b[49m\u001b[43m(\u001b[49m\u001b[43mestimator\u001b[49m\u001b[43m,\u001b[49m\u001b[43m \u001b[49m\u001b[38;5;241;43m*\u001b[39;49m\u001b[43margs\u001b[49m\u001b[43m,\u001b[49m\u001b[43m \u001b[49m\u001b[38;5;241;43m*\u001b[39;49m\u001b[38;5;241;43m*\u001b[39;49m\u001b[43mkwargs\u001b[49m\u001b[43m)\u001b[49m\n",
      "File \u001b[1;32mc:\\Users\\PICHAU\\AppData\\Local\\Programs\\Python\\Python313\\Lib\\site-packages\\sklearn\\linear_model\\_logistic.py:1222\u001b[0m, in \u001b[0;36mLogisticRegression.fit\u001b[1;34m(self, X, y, sample_weight)\u001b[0m\n\u001b[0;32m   1219\u001b[0m \u001b[38;5;28;01melse\u001b[39;00m:\n\u001b[0;32m   1220\u001b[0m     _dtype \u001b[38;5;241m=\u001b[39m [np\u001b[38;5;241m.\u001b[39mfloat64, np\u001b[38;5;241m.\u001b[39mfloat32]\n\u001b[1;32m-> 1222\u001b[0m X, y \u001b[38;5;241m=\u001b[39m \u001b[43mvalidate_data\u001b[49m\u001b[43m(\u001b[49m\n\u001b[0;32m   1223\u001b[0m \u001b[43m    \u001b[49m\u001b[38;5;28;43mself\u001b[39;49m\u001b[43m,\u001b[49m\n\u001b[0;32m   1224\u001b[0m \u001b[43m    \u001b[49m\u001b[43mX\u001b[49m\u001b[43m,\u001b[49m\n\u001b[0;32m   1225\u001b[0m \u001b[43m    \u001b[49m\u001b[43my\u001b[49m\u001b[43m,\u001b[49m\n\u001b[0;32m   1226\u001b[0m \u001b[43m    \u001b[49m\u001b[43maccept_sparse\u001b[49m\u001b[38;5;241;43m=\u001b[39;49m\u001b[38;5;124;43m\"\u001b[39;49m\u001b[38;5;124;43mcsr\u001b[39;49m\u001b[38;5;124;43m\"\u001b[39;49m\u001b[43m,\u001b[49m\n\u001b[0;32m   1227\u001b[0m \u001b[43m    \u001b[49m\u001b[43mdtype\u001b[49m\u001b[38;5;241;43m=\u001b[39;49m\u001b[43m_dtype\u001b[49m\u001b[43m,\u001b[49m\n\u001b[0;32m   1228\u001b[0m \u001b[43m    \u001b[49m\u001b[43morder\u001b[49m\u001b[38;5;241;43m=\u001b[39;49m\u001b[38;5;124;43m\"\u001b[39;49m\u001b[38;5;124;43mC\u001b[39;49m\u001b[38;5;124;43m\"\u001b[39;49m\u001b[43m,\u001b[49m\n\u001b[0;32m   1229\u001b[0m \u001b[43m    \u001b[49m\u001b[43maccept_large_sparse\u001b[49m\u001b[38;5;241;43m=\u001b[39;49m\u001b[43msolver\u001b[49m\u001b[43m \u001b[49m\u001b[38;5;129;43;01mnot\u001b[39;49;00m\u001b[43m \u001b[49m\u001b[38;5;129;43;01min\u001b[39;49;00m\u001b[43m \u001b[49m\u001b[43m[\u001b[49m\u001b[38;5;124;43m\"\u001b[39;49m\u001b[38;5;124;43mliblinear\u001b[39;49m\u001b[38;5;124;43m\"\u001b[39;49m\u001b[43m,\u001b[49m\u001b[43m \u001b[49m\u001b[38;5;124;43m\"\u001b[39;49m\u001b[38;5;124;43msag\u001b[39;49m\u001b[38;5;124;43m\"\u001b[39;49m\u001b[43m,\u001b[49m\u001b[43m \u001b[49m\u001b[38;5;124;43m\"\u001b[39;49m\u001b[38;5;124;43msaga\u001b[39;49m\u001b[38;5;124;43m\"\u001b[39;49m\u001b[43m]\u001b[49m\u001b[43m,\u001b[49m\n\u001b[0;32m   1230\u001b[0m \u001b[43m\u001b[49m\u001b[43m)\u001b[49m\n\u001b[0;32m   1231\u001b[0m check_classification_targets(y)\n\u001b[0;32m   1232\u001b[0m \u001b[38;5;28mself\u001b[39m\u001b[38;5;241m.\u001b[39mclasses_ \u001b[38;5;241m=\u001b[39m np\u001b[38;5;241m.\u001b[39munique(y)\n",
      "File \u001b[1;32mc:\\Users\\PICHAU\\AppData\\Local\\Programs\\Python\\Python313\\Lib\\site-packages\\sklearn\\utils\\validation.py:2961\u001b[0m, in \u001b[0;36mvalidate_data\u001b[1;34m(_estimator, X, y, reset, validate_separately, skip_check_array, **check_params)\u001b[0m\n\u001b[0;32m   2959\u001b[0m         y \u001b[38;5;241m=\u001b[39m check_array(y, input_name\u001b[38;5;241m=\u001b[39m\u001b[38;5;124m\"\u001b[39m\u001b[38;5;124my\u001b[39m\u001b[38;5;124m\"\u001b[39m, \u001b[38;5;241m*\u001b[39m\u001b[38;5;241m*\u001b[39mcheck_y_params)\n\u001b[0;32m   2960\u001b[0m     \u001b[38;5;28;01melse\u001b[39;00m:\n\u001b[1;32m-> 2961\u001b[0m         X, y \u001b[38;5;241m=\u001b[39m \u001b[43mcheck_X_y\u001b[49m\u001b[43m(\u001b[49m\u001b[43mX\u001b[49m\u001b[43m,\u001b[49m\u001b[43m \u001b[49m\u001b[43my\u001b[49m\u001b[43m,\u001b[49m\u001b[43m \u001b[49m\u001b[38;5;241;43m*\u001b[39;49m\u001b[38;5;241;43m*\u001b[39;49m\u001b[43mcheck_params\u001b[49m\u001b[43m)\u001b[49m\n\u001b[0;32m   2962\u001b[0m     out \u001b[38;5;241m=\u001b[39m X, y\n\u001b[0;32m   2964\u001b[0m \u001b[38;5;28;01mif\u001b[39;00m \u001b[38;5;129;01mnot\u001b[39;00m no_val_X \u001b[38;5;129;01mand\u001b[39;00m check_params\u001b[38;5;241m.\u001b[39mget(\u001b[38;5;124m\"\u001b[39m\u001b[38;5;124mensure_2d\u001b[39m\u001b[38;5;124m\"\u001b[39m, \u001b[38;5;28;01mTrue\u001b[39;00m):\n",
      "File \u001b[1;32mc:\\Users\\PICHAU\\AppData\\Local\\Programs\\Python\\Python313\\Lib\\site-packages\\sklearn\\utils\\validation.py:1389\u001b[0m, in \u001b[0;36mcheck_X_y\u001b[1;34m(X, y, accept_sparse, accept_large_sparse, dtype, order, copy, force_writeable, force_all_finite, ensure_all_finite, ensure_2d, allow_nd, multi_output, ensure_min_samples, ensure_min_features, y_numeric, estimator)\u001b[0m\n\u001b[0;32m   1370\u001b[0m X \u001b[38;5;241m=\u001b[39m check_array(\n\u001b[0;32m   1371\u001b[0m     X,\n\u001b[0;32m   1372\u001b[0m     accept_sparse\u001b[38;5;241m=\u001b[39maccept_sparse,\n\u001b[1;32m   (...)\u001b[0m\n\u001b[0;32m   1384\u001b[0m     input_name\u001b[38;5;241m=\u001b[39m\u001b[38;5;124m\"\u001b[39m\u001b[38;5;124mX\u001b[39m\u001b[38;5;124m\"\u001b[39m,\n\u001b[0;32m   1385\u001b[0m )\n\u001b[0;32m   1387\u001b[0m y \u001b[38;5;241m=\u001b[39m _check_y(y, multi_output\u001b[38;5;241m=\u001b[39mmulti_output, y_numeric\u001b[38;5;241m=\u001b[39my_numeric, estimator\u001b[38;5;241m=\u001b[39mestimator)\n\u001b[1;32m-> 1389\u001b[0m \u001b[43mcheck_consistent_length\u001b[49m\u001b[43m(\u001b[49m\u001b[43mX\u001b[49m\u001b[43m,\u001b[49m\u001b[43m \u001b[49m\u001b[43my\u001b[49m\u001b[43m)\u001b[49m\n\u001b[0;32m   1391\u001b[0m \u001b[38;5;28;01mreturn\u001b[39;00m X, y\n",
      "File \u001b[1;32mc:\\Users\\PICHAU\\AppData\\Local\\Programs\\Python\\Python313\\Lib\\site-packages\\sklearn\\utils\\validation.py:475\u001b[0m, in \u001b[0;36mcheck_consistent_length\u001b[1;34m(*arrays)\u001b[0m\n\u001b[0;32m    473\u001b[0m uniques \u001b[38;5;241m=\u001b[39m np\u001b[38;5;241m.\u001b[39munique(lengths)\n\u001b[0;32m    474\u001b[0m \u001b[38;5;28;01mif\u001b[39;00m \u001b[38;5;28mlen\u001b[39m(uniques) \u001b[38;5;241m>\u001b[39m \u001b[38;5;241m1\u001b[39m:\n\u001b[1;32m--> 475\u001b[0m     \u001b[38;5;28;01mraise\u001b[39;00m \u001b[38;5;167;01mValueError\u001b[39;00m(\n\u001b[0;32m    476\u001b[0m         \u001b[38;5;124m\"\u001b[39m\u001b[38;5;124mFound input variables with inconsistent numbers of samples: \u001b[39m\u001b[38;5;132;01m%r\u001b[39;00m\u001b[38;5;124m\"\u001b[39m\n\u001b[0;32m    477\u001b[0m         \u001b[38;5;241m%\u001b[39m [\u001b[38;5;28mint\u001b[39m(l) \u001b[38;5;28;01mfor\u001b[39;00m l \u001b[38;5;129;01min\u001b[39;00m lengths]\n\u001b[0;32m    478\u001b[0m     )\n",
      "\u001b[1;31mValueError\u001b[0m: Found input variables with inconsistent numbers of samples: [2442, 10752]"
     ]
    }
   ],
   "source": [
    "modelo.fit(X,y)"
   ]
  },
  {
   "cell_type": "code",
   "execution_count": null,
   "metadata": {},
   "outputs": [
    {
     "ename": "ValueError",
     "evalue": "The feature names should match those that were passed during fit.\nFeature names unseen at fit time:\n- Atendimento\n- Convenio\n- DN\n- Id\n",
     "output_type": "error",
     "traceback": [
      "\u001b[1;31m---------------------------------------------------------------------------\u001b[0m",
      "\u001b[1;31mValueError\u001b[0m                                Traceback (most recent call last)",
      "Cell \u001b[1;32mIn[129], line 1\u001b[0m\n\u001b[1;32m----> 1\u001b[0m y_pred \u001b[38;5;241m=\u001b[39m \u001b[43mmodelo\u001b[49m\u001b[38;5;241;43m.\u001b[39;49m\u001b[43mpredict\u001b[49m\u001b[43m(\u001b[49m\u001b[43mdados_teste\u001b[49m\u001b[43m)\u001b[49m\n",
      "File \u001b[1;32mc:\\Users\\PICHAU\\AppData\\Local\\Programs\\Python\\Python313\\Lib\\site-packages\\sklearn\\linear_model\\_base.py:374\u001b[0m, in \u001b[0;36mLinearClassifierMixin.predict\u001b[1;34m(self, X)\u001b[0m\n\u001b[0;32m    360\u001b[0m \u001b[38;5;250m\u001b[39m\u001b[38;5;124;03m\"\"\"\u001b[39;00m\n\u001b[0;32m    361\u001b[0m \u001b[38;5;124;03mPredict class labels for samples in X.\u001b[39;00m\n\u001b[0;32m    362\u001b[0m \n\u001b[1;32m   (...)\u001b[0m\n\u001b[0;32m    371\u001b[0m \u001b[38;5;124;03m    Vector containing the class labels for each sample.\u001b[39;00m\n\u001b[0;32m    372\u001b[0m \u001b[38;5;124;03m\"\"\"\u001b[39;00m\n\u001b[0;32m    373\u001b[0m xp, _ \u001b[38;5;241m=\u001b[39m get_namespace(X)\n\u001b[1;32m--> 374\u001b[0m scores \u001b[38;5;241m=\u001b[39m \u001b[38;5;28;43mself\u001b[39;49m\u001b[38;5;241;43m.\u001b[39;49m\u001b[43mdecision_function\u001b[49m\u001b[43m(\u001b[49m\u001b[43mX\u001b[49m\u001b[43m)\u001b[49m\n\u001b[0;32m    375\u001b[0m \u001b[38;5;28;01mif\u001b[39;00m \u001b[38;5;28mlen\u001b[39m(scores\u001b[38;5;241m.\u001b[39mshape) \u001b[38;5;241m==\u001b[39m \u001b[38;5;241m1\u001b[39m:\n\u001b[0;32m    376\u001b[0m     indices \u001b[38;5;241m=\u001b[39m xp\u001b[38;5;241m.\u001b[39mastype(scores \u001b[38;5;241m>\u001b[39m \u001b[38;5;241m0\u001b[39m, indexing_dtype(xp))\n",
      "File \u001b[1;32mc:\\Users\\PICHAU\\AppData\\Local\\Programs\\Python\\Python313\\Lib\\site-packages\\sklearn\\linear_model\\_base.py:351\u001b[0m, in \u001b[0;36mLinearClassifierMixin.decision_function\u001b[1;34m(self, X)\u001b[0m\n\u001b[0;32m    348\u001b[0m check_is_fitted(\u001b[38;5;28mself\u001b[39m)\n\u001b[0;32m    349\u001b[0m xp, _ \u001b[38;5;241m=\u001b[39m get_namespace(X)\n\u001b[1;32m--> 351\u001b[0m X \u001b[38;5;241m=\u001b[39m \u001b[43mvalidate_data\u001b[49m\u001b[43m(\u001b[49m\u001b[38;5;28;43mself\u001b[39;49m\u001b[43m,\u001b[49m\u001b[43m \u001b[49m\u001b[43mX\u001b[49m\u001b[43m,\u001b[49m\u001b[43m \u001b[49m\u001b[43maccept_sparse\u001b[49m\u001b[38;5;241;43m=\u001b[39;49m\u001b[38;5;124;43m\"\u001b[39;49m\u001b[38;5;124;43mcsr\u001b[39;49m\u001b[38;5;124;43m\"\u001b[39;49m\u001b[43m,\u001b[49m\u001b[43m \u001b[49m\u001b[43mreset\u001b[49m\u001b[38;5;241;43m=\u001b[39;49m\u001b[38;5;28;43;01mFalse\u001b[39;49;00m\u001b[43m)\u001b[49m\n\u001b[0;32m    352\u001b[0m scores \u001b[38;5;241m=\u001b[39m safe_sparse_dot(X, \u001b[38;5;28mself\u001b[39m\u001b[38;5;241m.\u001b[39mcoef_\u001b[38;5;241m.\u001b[39mT, dense_output\u001b[38;5;241m=\u001b[39m\u001b[38;5;28;01mTrue\u001b[39;00m) \u001b[38;5;241m+\u001b[39m \u001b[38;5;28mself\u001b[39m\u001b[38;5;241m.\u001b[39mintercept_\n\u001b[0;32m    353\u001b[0m \u001b[38;5;28;01mreturn\u001b[39;00m (\n\u001b[0;32m    354\u001b[0m     xp\u001b[38;5;241m.\u001b[39mreshape(scores, (\u001b[38;5;241m-\u001b[39m\u001b[38;5;241m1\u001b[39m,))\n\u001b[0;32m    355\u001b[0m     \u001b[38;5;28;01mif\u001b[39;00m (scores\u001b[38;5;241m.\u001b[39mndim \u001b[38;5;241m>\u001b[39m \u001b[38;5;241m1\u001b[39m \u001b[38;5;129;01mand\u001b[39;00m scores\u001b[38;5;241m.\u001b[39mshape[\u001b[38;5;241m1\u001b[39m] \u001b[38;5;241m==\u001b[39m \u001b[38;5;241m1\u001b[39m)\n\u001b[0;32m    356\u001b[0m     \u001b[38;5;28;01melse\u001b[39;00m scores\n\u001b[0;32m    357\u001b[0m )\n",
      "File \u001b[1;32mc:\\Users\\PICHAU\\AppData\\Local\\Programs\\Python\\Python313\\Lib\\site-packages\\sklearn\\utils\\validation.py:2919\u001b[0m, in \u001b[0;36mvalidate_data\u001b[1;34m(_estimator, X, y, reset, validate_separately, skip_check_array, **check_params)\u001b[0m\n\u001b[0;32m   2835\u001b[0m \u001b[38;5;28;01mdef\u001b[39;00m \u001b[38;5;21mvalidate_data\u001b[39m(\n\u001b[0;32m   2836\u001b[0m     _estimator,\n\u001b[0;32m   2837\u001b[0m     \u001b[38;5;241m/\u001b[39m,\n\u001b[1;32m   (...)\u001b[0m\n\u001b[0;32m   2843\u001b[0m     \u001b[38;5;241m*\u001b[39m\u001b[38;5;241m*\u001b[39mcheck_params,\n\u001b[0;32m   2844\u001b[0m ):\n\u001b[0;32m   2845\u001b[0m \u001b[38;5;250m    \u001b[39m\u001b[38;5;124;03m\"\"\"Validate input data and set or check feature names and counts of the input.\u001b[39;00m\n\u001b[0;32m   2846\u001b[0m \n\u001b[0;32m   2847\u001b[0m \u001b[38;5;124;03m    This helper function should be used in an estimator that requires input\u001b[39;00m\n\u001b[1;32m   (...)\u001b[0m\n\u001b[0;32m   2917\u001b[0m \u001b[38;5;124;03m        validated.\u001b[39;00m\n\u001b[0;32m   2918\u001b[0m \u001b[38;5;124;03m    \"\"\"\u001b[39;00m\n\u001b[1;32m-> 2919\u001b[0m     \u001b[43m_check_feature_names\u001b[49m\u001b[43m(\u001b[49m\u001b[43m_estimator\u001b[49m\u001b[43m,\u001b[49m\u001b[43m \u001b[49m\u001b[43mX\u001b[49m\u001b[43m,\u001b[49m\u001b[43m \u001b[49m\u001b[43mreset\u001b[49m\u001b[38;5;241;43m=\u001b[39;49m\u001b[43mreset\u001b[49m\u001b[43m)\u001b[49m\n\u001b[0;32m   2920\u001b[0m     tags \u001b[38;5;241m=\u001b[39m get_tags(_estimator)\n\u001b[0;32m   2921\u001b[0m     \u001b[38;5;28;01mif\u001b[39;00m y \u001b[38;5;129;01mis\u001b[39;00m \u001b[38;5;28;01mNone\u001b[39;00m \u001b[38;5;129;01mand\u001b[39;00m tags\u001b[38;5;241m.\u001b[39mtarget_tags\u001b[38;5;241m.\u001b[39mrequired:\n",
      "File \u001b[1;32mc:\\Users\\PICHAU\\AppData\\Local\\Programs\\Python\\Python313\\Lib\\site-packages\\sklearn\\utils\\validation.py:2777\u001b[0m, in \u001b[0;36m_check_feature_names\u001b[1;34m(estimator, X, reset)\u001b[0m\n\u001b[0;32m   2774\u001b[0m \u001b[38;5;28;01mif\u001b[39;00m \u001b[38;5;129;01mnot\u001b[39;00m missing_names \u001b[38;5;129;01mand\u001b[39;00m \u001b[38;5;129;01mnot\u001b[39;00m unexpected_names:\n\u001b[0;32m   2775\u001b[0m     message \u001b[38;5;241m+\u001b[39m\u001b[38;5;241m=\u001b[39m \u001b[38;5;124m\"\u001b[39m\u001b[38;5;124mFeature names must be in the same order as they were in fit.\u001b[39m\u001b[38;5;130;01m\\n\u001b[39;00m\u001b[38;5;124m\"\u001b[39m\n\u001b[1;32m-> 2777\u001b[0m \u001b[38;5;28;01mraise\u001b[39;00m \u001b[38;5;167;01mValueError\u001b[39;00m(message)\n",
      "\u001b[1;31mValueError\u001b[0m: The feature names should match those that were passed during fit.\nFeature names unseen at fit time:\n- Atendimento\n- Convenio\n- DN\n- Id\n"
     ]
    }
   ],
   "source": [
    "y_pred = modelo.predict(dados_teste)"
   ]
  }
 ],
 "metadata": {
  "kernelspec": {
   "display_name": "Python 3",
   "language": "python",
   "name": "python3"
  },
  "language_info": {
   "codemirror_mode": {
    "name": "ipython",
    "version": 3
   },
   "file_extension": ".py",
   "mimetype": "text/x-python",
   "name": "python",
   "nbconvert_exporter": "python",
   "pygments_lexer": "ipython3",
   "version": "3.13.0"
  }
 },
 "nbformat": 4,
 "nbformat_minor": 4
}
