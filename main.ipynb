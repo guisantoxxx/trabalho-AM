{
 "cells": [
  {
   "cell_type": "markdown",
   "metadata": {},
   "source": [
    "# <center> <img src=\"figs/LogoUFSCar.jpg\" alt=\"Logo UFScar\" width=\"110\" align=\"left\"/>  <br/> <center>Universidade Federal de São Carlos (UFSCar)<br/><font size=\"4\"> Departamento de Computação, campus Sorocaba</center></font>\n",
    "</p>\n",
    "\n",
    "<font size=\"4\"><center><b>Disciplina: Aprendizado de Máquina</b></center></font>\n",
    "  \n",
    "<font size=\"3\"><center>Prof. Dr. Tiago A. Almeida</center></font>\n",
    "\n",
    "## <center>Projeto Final</center>\n",
    "\n",
    "**Nome**:\n",
    "\n",
    "**RA**: \n"
   ]
  },
  {
   "cell_type": "markdown",
   "metadata": {},
   "source": [
    "---\n",
    "### Análise exploratória\n",
    "\n",
    "Nesta seção, deve ser feita a leitura da base de dados e todas as análises necessárias para interpretar e analisar os dados, tais como:\n",
    "* Significado de cada atributo\n",
    "* Medidas descritivas\n",
    "* Gráficos"
   ]
  },
  {
   "cell_type": "code",
   "execution_count": 4860,
   "metadata": {},
   "outputs": [],
   "source": [
    "import pandas as pd\n",
    "import numpy as np\n",
    "import matplotlib.pyplot as plt\n",
    "import seaborn as sns\n",
    "import numpy as np\n",
    "from scripts.analise_exploratoria import *\n",
    "from scripts.preprocessamento import *"
   ]
  },
  {
   "cell_type": "code",
   "execution_count": 4861,
   "metadata": {},
   "outputs": [],
   "source": [
    "# mostrar todas as colunas\n",
    "pd.set_option(\"display.max_columns\", None)"
   ]
  },
  {
   "cell_type": "markdown",
   "metadata": {},
   "source": [
    "#### No bloco abaixo, estou carregando o conjunto de dados de treino e o juntando com suas respectivas classificações, afim de usa-los para treinar o modelo."
   ]
  },
  {
   "cell_type": "code",
   "execution_count": 4862,
   "metadata": {},
   "outputs": [
    {
     "data": {
      "text/html": [
       "<div>\n",
       "<style scoped>\n",
       "    .dataframe tbody tr th:only-of-type {\n",
       "        vertical-align: middle;\n",
       "    }\n",
       "\n",
       "    .dataframe tbody tr th {\n",
       "        vertical-align: top;\n",
       "    }\n",
       "\n",
       "    .dataframe thead th {\n",
       "        text-align: right;\n",
       "    }\n",
       "</style>\n",
       "<table border=\"1\" class=\"dataframe\">\n",
       "  <thead>\n",
       "    <tr style=\"text-align: right;\">\n",
       "      <th></th>\n",
       "      <th>Id</th>\n",
       "      <th>Peso</th>\n",
       "      <th>Altura</th>\n",
       "      <th>IMC</th>\n",
       "      <th>Atendimento</th>\n",
       "      <th>DN</th>\n",
       "      <th>IDADE</th>\n",
       "      <th>Convenio</th>\n",
       "      <th>PULSOS</th>\n",
       "      <th>PA SISTOLICA</th>\n",
       "      <th>PA DIASTOLICA</th>\n",
       "      <th>PPA</th>\n",
       "      <th>B2</th>\n",
       "      <th>SOPRO</th>\n",
       "      <th>FC</th>\n",
       "      <th>HDA 1</th>\n",
       "      <th>HDA2</th>\n",
       "      <th>SEXO</th>\n",
       "      <th>MOTIVO1</th>\n",
       "      <th>MOTIVO2</th>\n",
       "      <th>CLASSE</th>\n",
       "    </tr>\n",
       "  </thead>\n",
       "  <tbody>\n",
       "    <tr>\n",
       "      <th>0</th>\n",
       "      <td>10524</td>\n",
       "      <td>28.0</td>\n",
       "      <td>123</td>\n",
       "      <td>19.0</td>\n",
       "      <td>11/07/05</td>\n",
       "      <td>13/12/99</td>\n",
       "      <td>5.79</td>\n",
       "      <td>SB</td>\n",
       "      <td>Normais</td>\n",
       "      <td>110.0</td>\n",
       "      <td>80.0</td>\n",
       "      <td>HAS-1 PAD</td>\n",
       "      <td>Normal</td>\n",
       "      <td>ausente</td>\n",
       "      <td>100</td>\n",
       "      <td>Palpitacao</td>\n",
       "      <td>NaN</td>\n",
       "      <td>M</td>\n",
       "      <td>6 - Suspeita de cardiopatia</td>\n",
       "      <td>6 - Palpitação/taquicardia/arritmia</td>\n",
       "      <td>Normal</td>\n",
       "    </tr>\n",
       "    <tr>\n",
       "      <th>1</th>\n",
       "      <td>17249</td>\n",
       "      <td>32.0</td>\n",
       "      <td>0</td>\n",
       "      <td>NaN</td>\n",
       "      <td>12/02/04</td>\n",
       "      <td>10/06/92</td>\n",
       "      <td>12.11</td>\n",
       "      <td>GS</td>\n",
       "      <td>Normais</td>\n",
       "      <td>100.0</td>\n",
       "      <td>60.0</td>\n",
       "      <td>Não Calculado</td>\n",
       "      <td>Normal</td>\n",
       "      <td>Sistólico</td>\n",
       "      <td>100</td>\n",
       "      <td>Assintomático</td>\n",
       "      <td>NaN</td>\n",
       "      <td>Masculino</td>\n",
       "      <td>5 - Parecer cardiológico</td>\n",
       "      <td>NaN</td>\n",
       "      <td>Anormal</td>\n",
       "    </tr>\n",
       "    <tr>\n",
       "      <th>2</th>\n",
       "      <td>4483</td>\n",
       "      <td>13.0</td>\n",
       "      <td>87</td>\n",
       "      <td>17.0</td>\n",
       "      <td>22/12/03</td>\n",
       "      <td>05/11/01</td>\n",
       "      <td>2.21</td>\n",
       "      <td>SulAmerica</td>\n",
       "      <td>Normais</td>\n",
       "      <td>NaN</td>\n",
       "      <td>NaN</td>\n",
       "      <td>Não Calculado</td>\n",
       "      <td>Normal</td>\n",
       "      <td>Sistólico</td>\n",
       "      <td>100</td>\n",
       "      <td>Assintomático</td>\n",
       "      <td>NaN</td>\n",
       "      <td>M</td>\n",
       "      <td>6 - Suspeita de cardiopatia</td>\n",
       "      <td>6 - Sopro</td>\n",
       "      <td>Anormal</td>\n",
       "    </tr>\n",
       "    <tr>\n",
       "      <th>3</th>\n",
       "      <td>6830</td>\n",
       "      <td>11.0</td>\n",
       "      <td>0</td>\n",
       "      <td>NaN</td>\n",
       "      <td>11/12/06</td>\n",
       "      <td>26/05/05</td>\n",
       "      <td>1.6</td>\n",
       "      <td>SA</td>\n",
       "      <td>Normais</td>\n",
       "      <td>NaN</td>\n",
       "      <td>NaN</td>\n",
       "      <td>Não Calculado</td>\n",
       "      <td>Normal</td>\n",
       "      <td>ausente</td>\n",
       "      <td>100</td>\n",
       "      <td>NaN</td>\n",
       "      <td>NaN</td>\n",
       "      <td>F</td>\n",
       "      <td>1 - Cardiopatia já estabelecida</td>\n",
       "      <td>1 - Cardiopatia congenica</td>\n",
       "      <td>Normal</td>\n",
       "    </tr>\n",
       "    <tr>\n",
       "      <th>4</th>\n",
       "      <td>11652</td>\n",
       "      <td>42.4</td>\n",
       "      <td>136</td>\n",
       "      <td>23.0</td>\n",
       "      <td>23/03/01</td>\n",
       "      <td>03/03/01</td>\n",
       "      <td>0.06</td>\n",
       "      <td>NaN</td>\n",
       "      <td>Normais</td>\n",
       "      <td>100.0</td>\n",
       "      <td>60.0</td>\n",
       "      <td>Não Calculado</td>\n",
       "      <td>Normal</td>\n",
       "      <td>ausente</td>\n",
       "      <td>78</td>\n",
       "      <td>Assintomático</td>\n",
       "      <td>NaN</td>\n",
       "      <td>F</td>\n",
       "      <td>5 - Parecer cardiológico</td>\n",
       "      <td>NaN</td>\n",
       "      <td>Normal</td>\n",
       "    </tr>\n",
       "    <tr>\n",
       "      <th>...</th>\n",
       "      <td>...</td>\n",
       "      <td>...</td>\n",
       "      <td>...</td>\n",
       "      <td>...</td>\n",
       "      <td>...</td>\n",
       "      <td>...</td>\n",
       "      <td>...</td>\n",
       "      <td>...</td>\n",
       "      <td>...</td>\n",
       "      <td>...</td>\n",
       "      <td>...</td>\n",
       "      <td>...</td>\n",
       "      <td>...</td>\n",
       "      <td>...</td>\n",
       "      <td>...</td>\n",
       "      <td>...</td>\n",
       "      <td>...</td>\n",
       "      <td>...</td>\n",
       "      <td>...</td>\n",
       "      <td>...</td>\n",
       "      <td>...</td>\n",
       "    </tr>\n",
       "    <tr>\n",
       "      <th>14722</th>\n",
       "      <td>16822</td>\n",
       "      <td>0.0</td>\n",
       "      <td>0</td>\n",
       "      <td>NaN</td>\n",
       "      <td>NaN</td>\n",
       "      <td>NaN</td>\n",
       "      <td>NaN</td>\n",
       "      <td>NaN</td>\n",
       "      <td>NaN</td>\n",
       "      <td>NaN</td>\n",
       "      <td>NaN</td>\n",
       "      <td>#VALUE!</td>\n",
       "      <td>NaN</td>\n",
       "      <td>NaN</td>\n",
       "      <td>NaN</td>\n",
       "      <td>NaN</td>\n",
       "      <td>NaN</td>\n",
       "      <td>Indeterminado</td>\n",
       "      <td>NaN</td>\n",
       "      <td>NaN</td>\n",
       "      <td>NaN</td>\n",
       "    </tr>\n",
       "    <tr>\n",
       "      <th>14723</th>\n",
       "      <td>3249</td>\n",
       "      <td>30.0</td>\n",
       "      <td>113</td>\n",
       "      <td>23.0</td>\n",
       "      <td>17/05/06</td>\n",
       "      <td>01/08/01</td>\n",
       "      <td>4.97</td>\n",
       "      <td>Medial</td>\n",
       "      <td>Normais</td>\n",
       "      <td>105.0</td>\n",
       "      <td>70.0</td>\n",
       "      <td>Pre-Hipertensão PAD</td>\n",
       "      <td>Normal</td>\n",
       "      <td>sistólico</td>\n",
       "      <td>92</td>\n",
       "      <td>Dispneia</td>\n",
       "      <td>Palpitacao</td>\n",
       "      <td>F</td>\n",
       "      <td>6 - Suspeita de cardiopatia</td>\n",
       "      <td>6 - Dispnéia</td>\n",
       "      <td>Anormal</td>\n",
       "    </tr>\n",
       "    <tr>\n",
       "      <th>14724</th>\n",
       "      <td>3207</td>\n",
       "      <td>25.8</td>\n",
       "      <td>130</td>\n",
       "      <td>15.0</td>\n",
       "      <td>03/12/09</td>\n",
       "      <td>07/07/02</td>\n",
       "      <td>7.69</td>\n",
       "      <td>CAMED</td>\n",
       "      <td>Normais</td>\n",
       "      <td>90.0</td>\n",
       "      <td>55.0</td>\n",
       "      <td>Normal</td>\n",
       "      <td>Normal</td>\n",
       "      <td>ausente</td>\n",
       "      <td>78</td>\n",
       "      <td>Assintomático</td>\n",
       "      <td>NaN</td>\n",
       "      <td>M</td>\n",
       "      <td>6 - Suspeita de cardiopatia</td>\n",
       "      <td>6 - Sopro</td>\n",
       "      <td>Normal</td>\n",
       "    </tr>\n",
       "    <tr>\n",
       "      <th>14725</th>\n",
       "      <td>4336</td>\n",
       "      <td>19.0</td>\n",
       "      <td>0</td>\n",
       "      <td>NaN</td>\n",
       "      <td>12/06/08</td>\n",
       "      <td>03/05/05</td>\n",
       "      <td>3.23</td>\n",
       "      <td>NaN</td>\n",
       "      <td>Normais</td>\n",
       "      <td>100.0</td>\n",
       "      <td>50.0</td>\n",
       "      <td>Não Calculado</td>\n",
       "      <td>Normal</td>\n",
       "      <td>ausente</td>\n",
       "      <td>100</td>\n",
       "      <td>Assintomático</td>\n",
       "      <td>NaN</td>\n",
       "      <td>M</td>\n",
       "      <td>5 - Parecer cardiológico</td>\n",
       "      <td>NaN</td>\n",
       "      <td>Normal</td>\n",
       "    </tr>\n",
       "    <tr>\n",
       "      <th>14726</th>\n",
       "      <td>9470</td>\n",
       "      <td>13.0</td>\n",
       "      <td>89</td>\n",
       "      <td>16.0</td>\n",
       "      <td>04/02/09</td>\n",
       "      <td>28/03/06</td>\n",
       "      <td>2.97</td>\n",
       "      <td>CAMED</td>\n",
       "      <td>Normais</td>\n",
       "      <td>NaN</td>\n",
       "      <td>NaN</td>\n",
       "      <td>Não Calculado</td>\n",
       "      <td>Normal</td>\n",
       "      <td>ausente</td>\n",
       "      <td>96</td>\n",
       "      <td>Assintomático</td>\n",
       "      <td>NaN</td>\n",
       "      <td>F</td>\n",
       "      <td>5 - Parecer cardiológico</td>\n",
       "      <td>NaN</td>\n",
       "      <td>Normal</td>\n",
       "    </tr>\n",
       "  </tbody>\n",
       "</table>\n",
       "<p>14727 rows × 21 columns</p>\n",
       "</div>"
      ],
      "text/plain": [
       "          Id  Peso  Altura   IMC Atendimento        DN  IDADE    Convenio  \\\n",
       "0      10524  28.0     123  19.0    11/07/05  13/12/99   5.79          SB   \n",
       "1      17249  32.0       0   NaN    12/02/04  10/06/92  12.11          GS   \n",
       "2       4483  13.0      87  17.0    22/12/03  05/11/01   2.21  SulAmerica   \n",
       "3       6830  11.0       0   NaN    11/12/06  26/05/05    1.6          SA   \n",
       "4      11652  42.4     136  23.0    23/03/01  03/03/01   0.06         NaN   \n",
       "...      ...   ...     ...   ...         ...       ...    ...         ...   \n",
       "14722  16822   0.0       0   NaN         NaN       NaN    NaN         NaN   \n",
       "14723   3249  30.0     113  23.0    17/05/06  01/08/01   4.97      Medial   \n",
       "14724   3207  25.8     130  15.0    03/12/09  07/07/02   7.69       CAMED   \n",
       "14725   4336  19.0       0   NaN    12/06/08  03/05/05   3.23         NaN   \n",
       "14726   9470  13.0      89  16.0    04/02/09  28/03/06   2.97       CAMED   \n",
       "\n",
       "        PULSOS  PA SISTOLICA  PA DIASTOLICA                  PPA      B2  \\\n",
       "0      Normais         110.0           80.0            HAS-1 PAD  Normal   \n",
       "1      Normais         100.0           60.0        Não Calculado  Normal   \n",
       "2      Normais           NaN            NaN        Não Calculado  Normal   \n",
       "3      Normais           NaN            NaN        Não Calculado  Normal   \n",
       "4      Normais         100.0           60.0        Não Calculado  Normal   \n",
       "...        ...           ...            ...                  ...     ...   \n",
       "14722      NaN           NaN            NaN              #VALUE!     NaN   \n",
       "14723  Normais         105.0           70.0  Pre-Hipertensão PAD  Normal   \n",
       "14724  Normais          90.0           55.0               Normal  Normal   \n",
       "14725  Normais         100.0           50.0        Não Calculado  Normal   \n",
       "14726  Normais           NaN            NaN        Não Calculado  Normal   \n",
       "\n",
       "           SOPRO   FC          HDA 1        HDA2           SEXO  \\\n",
       "0        ausente  100     Palpitacao         NaN              M   \n",
       "1      Sistólico  100  Assintomático         NaN      Masculino   \n",
       "2      Sistólico  100  Assintomático         NaN              M   \n",
       "3        ausente  100            NaN         NaN              F   \n",
       "4        ausente   78  Assintomático         NaN              F   \n",
       "...          ...  ...            ...         ...            ...   \n",
       "14722        NaN  NaN            NaN         NaN  Indeterminado   \n",
       "14723  sistólico   92       Dispneia  Palpitacao              F   \n",
       "14724    ausente   78  Assintomático         NaN              M   \n",
       "14725    ausente  100  Assintomático         NaN              M   \n",
       "14726    ausente   96  Assintomático         NaN              F   \n",
       "\n",
       "                               MOTIVO1                              MOTIVO2  \\\n",
       "0          6 - Suspeita de cardiopatia  6 - Palpitação/taquicardia/arritmia   \n",
       "1             5 - Parecer cardiológico                                  NaN   \n",
       "2          6 - Suspeita de cardiopatia                            6 - Sopro   \n",
       "3      1 - Cardiopatia já estabelecida            1 - Cardiopatia congenica   \n",
       "4             5 - Parecer cardiológico                                  NaN   \n",
       "...                                ...                                  ...   \n",
       "14722                              NaN                                  NaN   \n",
       "14723      6 - Suspeita de cardiopatia                         6 - Dispnéia   \n",
       "14724      6 - Suspeita de cardiopatia                            6 - Sopro   \n",
       "14725         5 - Parecer cardiológico                                  NaN   \n",
       "14726         5 - Parecer cardiológico                                  NaN   \n",
       "\n",
       "        CLASSE  \n",
       "0       Normal  \n",
       "1      Anormal  \n",
       "2      Anormal  \n",
       "3       Normal  \n",
       "4       Normal  \n",
       "...        ...  \n",
       "14722      NaN  \n",
       "14723  Anormal  \n",
       "14724   Normal  \n",
       "14725   Normal  \n",
       "14726   Normal  \n",
       "\n",
       "[14727 rows x 21 columns]"
      ]
     },
     "metadata": {},
     "output_type": "display_data"
    }
   ],
   "source": [
    "train_data = pd.read_csv(\"./data/train.csv\")\n",
    "data = pd.read_csv(\"./data/RHP_data.csv\")\n",
    "\n",
    "train_data = data.merge(train_data, on=\"Id\", how=\"right\")\n",
    "\n",
    "display(train_data)"
   ]
  },
  {
   "cell_type": "markdown",
   "metadata": {},
   "source": [
    "#### Após carregas os dados, iremos fazer uma breve análise do que cada uma das colunas representa."
   ]
  },
  {
   "cell_type": "markdown",
   "metadata": {},
   "source": [
    "* Peso: representa o peso, em Kg, de cada indivíduo.\n",
    "\n",
    "* Altura: representa a altura, em cm, de cada indivíduo.\n",
    "\n",
    "* IMC: representa o índice de massa corporal do paciente, índice que representa se o paciente estáem seu peso ideal ou não. É calculado pelo peso (em metros) dividido pela altura elevada ao quadrado.\n",
    "\n",
    "* Atendimento: indica a data em que foi feito o atendimento do paciente.\n",
    "\n",
    "* DN: data em que a declaração de nascido vivo do paciente foi escrita.\n",
    "\n",
    "* Idade: representa a idade do paciente, sendo os anos representados por um valor real.\n",
    "\n",
    "* Convênio: Indica qual o convênio do cliente.\n",
    "\n",
    "* Pulsos: Indica a qualidade da circulação arterial. Pulsos fracos ou ausentes podem sugerir problemas como obstrução arterial ou insuficiência cardíaca.\n",
    "\n",
    "* PA Sistolica: valor mais alto (medido em mmHg) que aparece durante uma aferição de pressão. Representa a pressão exercida nas artérias durante a contração do coração (sístole). Valores elevados indicam hipertensão arterial, enquanto valores muito baixos podem sugerir hipotensão.\n",
    "\n",
    "* PA Diastolica: valor mais baixo (medido em mmHg) que aparece durante uma aferição de pressão. Reflete a pressão arterial durante o relaxamento do coração (diástole). É usada junto com a PA sistólica para diagnosticar hipertensão.\n",
    "\n",
    "* PPA (Pressão de Pulso Arterial): Diferença entre a pressão arterial sistólica e diastólica. Indica a rigidez arterial. Valores elevados podem estar associados a doenças cardiovasculares.\n",
    "\n",
    "* B2: Segundo Ruído Cardíaco, representa o som do fechamento das válvulas aórtica e pulmonar. \n",
    "\n",
    "* Sopro: Presença de ruídos anormais detectados durante a ausculta cardíaca. \n",
    "\n",
    "* FC (Frequência Cardíaca): número de batimentos cardíacos por minuto (bpm). Frequências muito altas (taquicardia) ou baixas (bradicardia) podem indicar problemas cardíacos.\n",
    "\n",
    "* HDA1 (Histórico de doenças atual 1): informações detalhadas sobre o principal problema clínico atual.\n",
    "\n",
    "* HDA2 (Histórico de doenças atual 2): informações adicionais sobre o problema clínico ou outras condições associadas.\n",
    "\n",
    "* Sexo: genêro biológico do paciente.\n",
    "\n",
    "* Motivo 1: principal razão para a consulta.\n",
    "\n",
    "* Motivo 2: razão secundária para a consulta."
   ]
  },
  {
   "cell_type": "markdown",
   "metadata": {},
   "source": [
    "#### Após entender o que cada coluna significa, iremos plotar os gráficos de cada atributo relevante em relação a classe, para ver como eles se relacionam. Iremos começas por atributos não numéricos."
   ]
  },
  {
   "cell_type": "markdown",
   "metadata": {},
   "source": [
    "Plot da distribuição de Pulsos em relação as classes."
   ]
  },
  {
   "cell_type": "code",
   "execution_count": 4863,
   "metadata": {},
   "outputs": [
    {
     "data": {
      "image/png": "[encoded data removed]",
      "text/plain": [
       "<Figure size 864x432 with 1 Axes>"
      ]
     },
     "metadata": {
      "needs_background": "light"
     },
     "output_type": "display_data"
    }
   ],
   "source": [
    "plotar_grafico_barras(train_data, \"PULSOS\", \"CLASSE\")"
   ]
  },
  {
   "cell_type": "markdown",
   "metadata": {},
   "source": [
    "<small>A partir dessa visualizaçao, é possível obervar que as quase 100% das amostras foram registradas com pulsos normais. Além disso obeserva-se a necessidade de paronizar os valores durante a etapa de pré-processamento, pois há valores diferentes que representam a mesma coisa.</small>"
   ]
  },
  {
   "cell_type": "markdown",
   "metadata": {},
   "source": [
    "Plot da distribuição de diferentes PPA(s) em relação à classe."
   ]
  },
  {
   "cell_type": "code",
   "execution_count": 4864,
   "metadata": {},
   "outputs": [
    {
     "data": {
      "image/png": "[encoded data removed]",
      "text/plain": [
       "<Figure size 864x432 with 1 Axes>"
      ]
     },
     "metadata": {
      "needs_background": "light"
     },
     "output_type": "display_data"
    }
   ],
   "source": [
    "plotar_grafico_barras(train_data, \"PPA\", \"CLASSE\")"
   ]
  },
  {
   "cell_type": "markdown",
   "metadata": {},
   "source": [
    "<small>A partir do gráfico, é evidente a predominância das amostras com valores 'Normal' e também a grande quantidade de dados ausentes, como vistos em 'Não Calculado' e '#VALUE!'</small>"
   ]
  },
  {
   "cell_type": "markdown",
   "metadata": {},
   "source": [
    "Plot da distribuição B2 em relação à classe."
   ]
  },
  {
   "cell_type": "code",
   "execution_count": 4865,
   "metadata": {},
   "outputs": [
    {
     "data": {
      "image/png": "[encoded data removed]",
      "text/plain": [
       "<Figure size 864x432 with 1 Axes>"
      ]
     },
     "metadata": {
      "needs_background": "light"
     },
     "output_type": "display_data"
    }
   ],
   "source": [
    "plotar_grafico_barras(train_data, \"B2\", \"CLASSE\")"
   ]
  },
  {
   "cell_type": "markdown",
   "metadata": {},
   "source": [
    "<small>É evidente a predominância de 'Normal'</small>"
   ]
  },
  {
   "cell_type": "markdown",
   "metadata": {},
   "source": [
    "Plot da distribuição sopro em relação à classe."
   ]
  },
  {
   "cell_type": "code",
   "execution_count": 4866,
   "metadata": {},
   "outputs": [
    {
     "data": {
      "image/png": "[encoded data removed]",
      "text/plain": [
       "<Figure size 864x432 with 1 Axes>"
      ]
     },
     "metadata": {
      "needs_background": "light"
     },
     "output_type": "display_data"
    }
   ],
   "source": [
    "plotar_grafico_barras(train_data, \"SOPRO\", \"CLASSE\")"
   ]
  },
  {
   "cell_type": "markdown",
   "metadata": {},
   "source": [
    "<small>Há duas principais observações a serem feitas neste gráfico, a primeira é a necessidade de padronizar os mesmos valores que possuem nomenclaturas diferentes, como Contínuo e contínuo. A segunda, mais interessante, é a grande quantidade de pacientes 'anormais' que possuem Sistólico como valor, acima de 90%. Isso indica a importância do atributo 'SOPRO' para o treinamento do modelo.</small>"
   ]
  },
  {
   "cell_type": "markdown",
   "metadata": {},
   "source": [
    "Plot da distribuição HDA1 (Histórico de doenças atual 1) em relação à classe."
   ]
  },
  {
   "cell_type": "code",
   "execution_count": 4867,
   "metadata": {},
   "outputs": [
    {
     "data": {
      "image/png": "[encoded data removed]",
      "text/plain": [
       "<Figure size 864x432 with 1 Axes>"
      ]
     },
     "metadata": {
      "needs_background": "light"
     },
     "output_type": "display_data"
    }
   ],
   "source": [
    "plotar_grafico_barras(train_data, \"HDA 1\", \"CLASSE\")"
   ]
  },
  {
   "cell_type": "markdown",
   "metadata": {},
   "source": [
    "<small>De acordo com o gráfico acima, a grande maioria das amostras corresponde à valores 'Assintonático'. Além disso, é necessário tratar 'Normais' para 'Normal' afim de padronizar.</small>"
   ]
  },
  {
   "cell_type": "markdown",
   "metadata": {},
   "source": [
    "Plot da distribuição HDA2 (Histórico de doença atual 2) em relação à classe."
   ]
  },
  {
   "cell_type": "code",
   "execution_count": 4868,
   "metadata": {},
   "outputs": [
    {
     "data": {
      "image/png": "[encoded data removed]",
      "text/plain": [
       "<Figure size 864x432 with 1 Axes>"
      ]
     },
     "metadata": {
      "needs_background": "light"
     },
     "output_type": "display_data"
    }
   ],
   "source": [
    "plotar_grafico_barras(train_data, \"HDA2\", \"CLASSE\")"
   ]
  },
  {
   "cell_type": "markdown",
   "metadata": {},
   "source": [
    "<small>De pontos importantes obtidos a partir do gráfico acima, pode-se destacar que grande parte dos pacientes que possuem dispneia ou cianose possuem alguma anormalidade. Não apenas ele, mas todos os valores possuem números consideráveis de pacientes com anormalidades, tornando 'HDA2' um atributo que deve ser tratado com atenção especial. Além disso, também é preciso padronizar 'Normais' e 'Normal'.</small>"
   ]
  },
  {
   "cell_type": "markdown",
   "metadata": {},
   "source": [
    "Plot da distribuição Sexo em relação à classe."
   ]
  },
  {
   "cell_type": "code",
   "execution_count": 4869,
   "metadata": {},
   "outputs": [
    {
     "data": {
      "image/png": "[encoded data removed]",
      "text/plain": [
       "<Figure size 864x432 with 1 Axes>"
      ]
     },
     "metadata": {
      "needs_background": "light"
     },
     "output_type": "display_data"
    }
   ],
   "source": [
    "plotar_grafico_barras(train_data, \"SEXO\", \"CLASSE\")"
   ]
  },
  {
   "cell_type": "markdown",
   "metadata": {},
   "source": [
    "<small>Pontos importantes obtidos pelo gráfico acima: a quantidade de homens na amostra é maior que a quantidade de mulheres, porém a proporção entre homens normais e anormais, é a mesma que entre mulheres normais e mulheres anormais, cerca de 40% anormais e 60% normais. Essa análise pode singinicar que o atributo não impactara tanto no modelo, visto que a proporção não varia de genêro para genêro, após a etapa de pré-processamento será aplicado um <strong>teste de qui-quadrado</strong> entre a classe e o sexo, afim e determinar a relevância do atributo, porém será mantido por hora. Além disso, é preciso padronizar os valores como 'M' e 'Masculino'</small>"
   ]
  },
  {
   "cell_type": "markdown",
   "metadata": {},
   "source": [
    "Plot da distribuição MOTIVO1 em relação à classe."
   ]
  },
  {
   "cell_type": "code",
   "execution_count": 4870,
   "metadata": {},
   "outputs": [
    {
     "data": {
      "image/png": "[encoded data removed]",
      "text/plain": [
       "<Figure size 864x432 with 1 Axes>"
      ]
     },
     "metadata": {
      "needs_background": "light"
     },
     "output_type": "display_data"
    }
   ],
   "source": [
    "plotar_grafico_barras(train_data, \"MOTIVO1\", \"CLASSE\")"
   ]
  },
  {
   "cell_type": "markdown",
   "metadata": {},
   "source": [
    "<small>A partir do gráfico, é possível observar que a maioria dos casos que possuem 'Suspeita de cardiopatia' e 'Cardiopatia já estabelecida' tem alguma anormalidade. Tornando assim o atributo 'MOTIVO1' um atributo importante para o treinamento do modelo.</small>"
   ]
  },
  {
   "cell_type": "markdown",
   "metadata": {},
   "source": [
    "Plot da distribuição MOTIVO2 em relação à classe."
   ]
  },
  {
   "cell_type": "code",
   "execution_count": 4871,
   "metadata": {},
   "outputs": [
    {
     "data": {
      "image/png": "[encoded data removed]",
      "text/plain": [
       "<Figure size 864x432 with 1 Axes>"
      ]
     },
     "metadata": {
      "needs_background": "light"
     },
     "output_type": "display_data"
    }
   ],
   "source": [
    "plotar_grafico_barras(train_data, \"MOTIVO2\", \"CLASSE\")"
   ]
  },
  {
   "cell_type": "markdown",
   "metadata": {},
   "source": [
    "<small>O gráfico mostra que há diversos valores diferentes, o que pode ser algo a ser pré-processado na próxima etapa. Além disso, vale falar sobre a grande quantidade de pacientes anormais que tem Sopro e Cardiopatia congenica como valor</small>"
   ]
  },
  {
   "cell_type": "markdown",
   "metadata": {},
   "source": [
    "#### Agora iremos fazer o plot e a análise dos valores numéricos."
   ]
  },
  {
   "cell_type": "markdown",
   "metadata": {},
   "source": [
    "Mas primeiro, iremos realizar uma etapa do pré-processamento, pois há duas colunas numéricas, FC e IDADE, que são do tipo String, mas é preciso converte-las para numérica afim de realizar as plotagens."
   ]
  },
  {
   "cell_type": "code",
   "execution_count": 4872,
   "metadata": {},
   "outputs": [],
   "source": [
    "converter_numeric(train_data, \"FC\")\n",
    "converter_numeric(train_data, \"IDADE\")"
   ]
  },
  {
   "cell_type": "markdown",
   "metadata": {},
   "source": [
    "Com os valores convertidos, agora podemos plotar os boxplots em relação à classe para visualizar outliners"
   ]
  },
  {
   "cell_type": "markdown",
   "metadata": {},
   "source": [
    "Plotar boxplot do peso em relação as classes"
   ]
  },
  {
   "cell_type": "code",
   "execution_count": 4873,
   "metadata": {},
   "outputs": [
    {
     "data": {
      "image/png": "[encoded data removed]",
      "text/plain": [
       "<Figure size 576x576 with 1 Axes>"
      ]
     },
     "metadata": {
      "needs_background": "light"
     },
     "output_type": "display_data"
    }
   ],
   "source": [
    "plotar_boxplot(train_data, \"Peso\", \"CLASSE\")"
   ]
  },
  {
   "cell_type": "markdown",
   "metadata": {},
   "source": [
    "<small> A partir da plotagem, é posível perceber que há grande quantidade de outliers, sendo necessário tratá-los na etapa de pré-processamento</small>"
   ]
  },
  {
   "cell_type": "markdown",
   "metadata": {},
   "source": [
    "Plotar boxplot da altura em relação as classes"
   ]
  },
  {
   "cell_type": "code",
   "execution_count": 4874,
   "metadata": {},
   "outputs": [
    {
     "data": {
      "image/png": "[encoded data removed]",
      "text/plain": [
       "<Figure size 576x576 with 1 Axes>"
      ]
     },
     "metadata": {
      "needs_background": "light"
     },
     "output_type": "display_data"
    }
   ],
   "source": [
    "plotar_boxplot(train_data, \"Altura\", \"CLASSE\")"
   ]
  },
  {
   "cell_type": "markdown",
   "metadata": {},
   "source": [
    "<small>De acordo com o gráfico, altura é um atributo que varia muito os seus valores, e não possui outliners a serem tratados</small>"
   ]
  },
  {
   "cell_type": "markdown",
   "metadata": {},
   "source": [
    "Plotar boxplot do IMC em relação as classes"
   ]
  },
  {
   "cell_type": "code",
   "execution_count": 4875,
   "metadata": {},
   "outputs": [
    {
     "data": {
      "image/png": "[encoded data removed]",
      "text/plain": [
       "<Figure size 576x576 with 1 Axes>"
      ]
     },
     "metadata": {
      "needs_background": "light"
     },
     "output_type": "display_data"
    }
   ],
   "source": [
    "plotar_boxplot(train_data, \"IMC\", \"CLASSE\")"
   ]
  },
  {
   "cell_type": "markdown",
   "metadata": {},
   "source": [
    "<small>A plotagem dos valores de IMC indicam a grande quantidade de outliners e valores inválidos, afinal, no gráfico constam valores impossíveis para o IMC, mesmo que não sejam considerados outliners. A abordagem será feita pela calculação do IMC utilizando a altura e peso das amostras</small>"
   ]
  },
  {
   "cell_type": "markdown",
   "metadata": {},
   "source": [
    "Plotar boxplot das idades em relação as classes"
   ]
  },
  {
   "cell_type": "code",
   "execution_count": 4876,
   "metadata": {},
   "outputs": [
    {
     "data": {
      "image/png": "[encoded data removed]",
      "text/plain": [
       "<Figure size 576x576 with 1 Axes>"
      ]
     },
     "metadata": {
      "needs_background": "light"
     },
     "output_type": "display_data"
    }
   ],
   "source": [
    "plotar_boxplot(train_data, \"IDADE\", \"CLASSE\")"
   ]
  },
  {
   "cell_type": "markdown",
   "metadata": {},
   "source": [
    "<small>O gráfico nos mostra uma grande quantidade de outliners e valores inválidos, como menor que 0, a serem tratados, sendo necessário fazer uma grande limpeza</small>"
   ]
  },
  {
   "cell_type": "markdown",
   "metadata": {},
   "source": [
    "Plotar boxplot da PA Sistolica (pressão arterial sistólica) em relação as classes"
   ]
  },
  {
   "cell_type": "code",
   "execution_count": 4877,
   "metadata": {},
   "outputs": [
    {
     "data": {
      "image/png": "[encoded data removed]",
      "text/plain": [
       "<Figure size 576x576 with 1 Axes>"
      ]
     },
     "metadata": {
      "needs_background": "light"
     },
     "output_type": "display_data"
    }
   ],
   "source": [
    "plotar_boxplot(train_data, \"PA SISTOLICA\", \"CLASSE\")"
   ]
  },
  {
   "cell_type": "markdown",
   "metadata": {},
   "source": [
    "<small>Pelo gráfico, é possível identificar um pequeno número outliners a serem tratados</small>"
   ]
  },
  {
   "cell_type": "markdown",
   "metadata": {},
   "source": [
    "Plotar boxplot da PA Diastolica (pressão arterial diastolica) em relação as classes"
   ]
  },
  {
   "cell_type": "code",
   "execution_count": 4878,
   "metadata": {},
   "outputs": [
    {
     "data": {
      "image/png": "[encoded data removed]",
      "text/plain": [
       "<Figure size 576x576 with 1 Axes>"
      ]
     },
     "metadata": {
      "needs_background": "light"
     },
     "output_type": "display_data"
    }
   ],
   "source": [
    "plotar_boxplot(train_data, \"PA DIASTOLICA\", \"CLASSE\")"
   ]
  },
  {
   "cell_type": "markdown",
   "metadata": {},
   "source": [
    "<small>Assim como na PA sistolica, é possível identificar um pequeno número de outilners a serem removidos</small>"
   ]
  },
  {
   "cell_type": "markdown",
   "metadata": {},
   "source": [
    "Plotar boxplot da Frequência cardíaca (FC) em relação as classes"
   ]
  },
  {
   "cell_type": "code",
   "execution_count": 4879,
   "metadata": {},
   "outputs": [
    {
     "data": {
      "image/png": "[encoded data removed]",
      "text/plain": [
       "<Figure size 576x576 with 1 Axes>"
      ]
     },
     "metadata": {
      "needs_background": "light"
     },
     "output_type": "display_data"
    }
   ],
   "source": [
    "plotar_boxplot(train_data, \"FC\", \"CLASSE\")"
   ]
  },
  {
   "cell_type": "markdown",
   "metadata": {},
   "source": [
    "<small>O gráfico mostra que outliners, mesmo que em pouco número, estão presentes e precisam ser tratados</small>"
   ]
  },
  {
   "cell_type": "markdown",
   "metadata": {},
   "source": [
    "#### Após a plotagem,  vamos analisar as medidas descritivas de cada coluna."
   ]
  },
  {
   "cell_type": "code",
   "execution_count": 4880,
   "metadata": {},
   "outputs": [
    {
     "data": {
      "text/html": [
       "<div>\n",
       "<style scoped>\n",
       "    .dataframe tbody tr th:only-of-type {\n",
       "        vertical-align: middle;\n",
       "    }\n",
       "\n",
       "    .dataframe tbody tr th {\n",
       "        vertical-align: top;\n",
       "    }\n",
       "\n",
       "    .dataframe thead th {\n",
       "        text-align: right;\n",
       "    }\n",
       "</style>\n",
       "<table border=\"1\" class=\"dataframe\">\n",
       "  <thead>\n",
       "    <tr style=\"text-align: right;\">\n",
       "      <th></th>\n",
       "      <th>Peso</th>\n",
       "      <th>Altura</th>\n",
       "      <th>IMC</th>\n",
       "      <th>IDADE</th>\n",
       "      <th>PA SISTOLICA</th>\n",
       "      <th>PA DIASTOLICA</th>\n",
       "      <th>FC</th>\n",
       "    </tr>\n",
       "  </thead>\n",
       "  <tbody>\n",
       "    <tr>\n",
       "      <th>count</th>\n",
       "      <td>14467.000000</td>\n",
       "      <td>14727.000000</td>\n",
       "      <td>10710.000000</td>\n",
       "      <td>13231.000000</td>\n",
       "      <td>8232.000000</td>\n",
       "      <td>8222.000000</td>\n",
       "      <td>12817.000000</td>\n",
       "    </tr>\n",
       "    <tr>\n",
       "      <th>mean</th>\n",
       "      <td>20.979374</td>\n",
       "      <td>82.971209</td>\n",
       "      <td>17.792437</td>\n",
       "      <td>5.970463</td>\n",
       "      <td>101.395773</td>\n",
       "      <td>62.372780</td>\n",
       "      <td>94.084419</td>\n",
       "    </tr>\n",
       "    <tr>\n",
       "      <th>std</th>\n",
       "      <td>18.189793</td>\n",
       "      <td>57.028885</td>\n",
       "      <td>11.214492</td>\n",
       "      <td>8.417493</td>\n",
       "      <td>14.995826</td>\n",
       "      <td>8.951357</td>\n",
       "      <td>111.021244</td>\n",
       "    </tr>\n",
       "    <tr>\n",
       "      <th>min</th>\n",
       "      <td>-40.000000</td>\n",
       "      <td>0.000000</td>\n",
       "      <td>0.000000</td>\n",
       "      <td>-113.180000</td>\n",
       "      <td>10.000000</td>\n",
       "      <td>6.000000</td>\n",
       "      <td>10.000000</td>\n",
       "    </tr>\n",
       "    <tr>\n",
       "      <th>25%</th>\n",
       "      <td>6.000000</td>\n",
       "      <td>0.000000</td>\n",
       "      <td>15.000000</td>\n",
       "      <td>2.150000</td>\n",
       "      <td>90.000000</td>\n",
       "      <td>60.000000</td>\n",
       "      <td>80.000000</td>\n",
       "    </tr>\n",
       "    <tr>\n",
       "      <th>50%</th>\n",
       "      <td>17.500000</td>\n",
       "      <td>98.000000</td>\n",
       "      <td>17.000000</td>\n",
       "      <td>5.680000</td>\n",
       "      <td>100.000000</td>\n",
       "      <td>60.000000</td>\n",
       "      <td>90.000000</td>\n",
       "    </tr>\n",
       "    <tr>\n",
       "      <th>75%</th>\n",
       "      <td>31.000000</td>\n",
       "      <td>130.000000</td>\n",
       "      <td>19.000000</td>\n",
       "      <td>10.010000</td>\n",
       "      <td>110.000000</td>\n",
       "      <td>70.000000</td>\n",
       "      <td>100.000000</td>\n",
       "    </tr>\n",
       "    <tr>\n",
       "      <th>max</th>\n",
       "      <td>127.000000</td>\n",
       "      <td>198.000000</td>\n",
       "      <td>848.000000</td>\n",
       "      <td>71.810000</td>\n",
       "      <td>990.000000</td>\n",
       "      <td>120.000000</td>\n",
       "      <td>9288.000000</td>\n",
       "    </tr>\n",
       "  </tbody>\n",
       "</table>\n",
       "</div>"
      ],
      "text/plain": [
       "               Peso        Altura           IMC         IDADE  PA SISTOLICA  \\\n",
       "count  14467.000000  14727.000000  10710.000000  13231.000000   8232.000000   \n",
       "mean      20.979374     82.971209     17.792437      5.970463    101.395773   \n",
       "std       18.189793     57.028885     11.214492      8.417493     14.995826   \n",
       "min      -40.000000      0.000000      0.000000   -113.180000     10.000000   \n",
       "25%        6.000000      0.000000     15.000000      2.150000     90.000000   \n",
       "50%       17.500000     98.000000     17.000000      5.680000    100.000000   \n",
       "75%       31.000000    130.000000     19.000000     10.010000    110.000000   \n",
       "max      127.000000    198.000000    848.000000     71.810000    990.000000   \n",
       "\n",
       "       PA DIASTOLICA            FC  \n",
       "count    8222.000000  12817.000000  \n",
       "mean       62.372780     94.084419  \n",
       "std         8.951357    111.021244  \n",
       "min         6.000000     10.000000  \n",
       "25%        60.000000     80.000000  \n",
       "50%        60.000000     90.000000  \n",
       "75%        70.000000    100.000000  \n",
       "max       120.000000   9288.000000  "
      ]
     },
     "metadata": {},
     "output_type": "display_data"
    }
   ],
   "source": [
    "display(train_data.iloc[:, 1:].describe(include=[np.number]))"
   ]
  },
  {
   "cell_type": "markdown",
   "metadata": {},
   "source": [
    "Pelas medidas descritivas, é possível perceber uma grande variância nas amostras, possivelmente causada pela presença de outliners. Isso pode ser afirmado pela alta diferença entre  máximo e o mínimo de cada atributo, no pré-processamento, o objetivo será a remoção desses outliners afim de diminuir o desvio padrão."
   ]
  },
  {
   "cell_type": "markdown",
   "metadata": {},
   "source": [
    "#### Por último, será feito o levantamento de quais atributos possuem valores NaN, que precisarão ser tratados junto com os outliners"
   ]
  },
  {
   "cell_type": "code",
   "execution_count": 4881,
   "metadata": {},
   "outputs": [
    {
     "data": {
      "text/plain": [
       "Id                   0\n",
       "Peso               260\n",
       "Altura               0\n",
       "IMC               4017\n",
       "Atendimento        983\n",
       "DN                1376\n",
       "IDADE             1496\n",
       "Convenio          4493\n",
       "PULSOS            1192\n",
       "PA SISTOLICA      6495\n",
       "PA DIASTOLICA     6505\n",
       "PPA                197\n",
       "B2                1177\n",
       "SOPRO             1165\n",
       "FC                1910\n",
       "HDA 1             4614\n",
       "HDA2             14188\n",
       "SEXO                 3\n",
       "MOTIVO1           1073\n",
       "MOTIVO2           4059\n",
       "CLASSE            1168\n",
       "dtype: int64"
      ]
     },
     "metadata": {},
     "output_type": "display_data"
    }
   ],
   "source": [
    "display(train_data.isna().sum())"
   ]
  },
  {
   "cell_type": "markdown",
   "metadata": {},
   "source": [
    "Os pontos principais desse print são: apenas o atributo altura não possui valores NaN e a coluna que representa a classe possui 1168 valores NaN, que precisarão ser removidos, pois não há como preenche-los."
   ]
  },
  {
   "cell_type": "markdown",
   "metadata": {},
   "source": [
    "---\n",
    "### Pré-processamento\n",
    "\n",
    "Nesta seção, as funções da etapa de pré-processamento dos dados devem ser implementadas e aplicadas (se necessário)."
   ]
  },
  {
   "cell_type": "markdown",
   "metadata": {},
   "source": [
    "##### Para iniciar essa etapa, iremos remover colunas que não serão úteis durante o processo de treinamento, são elas: Atendimento, DN e Convenio."
   ]
  },
  {
   "cell_type": "code",
   "execution_count": 4882,
   "metadata": {},
   "outputs": [],
   "source": [
    "train_data = train_data.drop(columns=[\"Atendimento\", \"DN\", \"Convenio\"])"
   ]
  },
  {
   "cell_type": "markdown",
   "metadata": {},
   "source": [
    "#### Agora iremos começar a tratar as colunas númericas pela remoção de outliners, porém antes disso, iremos remover alguns valores inválidos manualmente, como peso menor que 0, que pode atrapalhar o processo de remoção dos outliners"
   ]
  },
  {
   "cell_type": "markdown",
   "metadata": {},
   "source": [
    "Removendo peso menor que 0"
   ]
  },
  {
   "cell_type": "code",
   "execution_count": 4883,
   "metadata": {},
   "outputs": [],
   "source": [
    "peso_invalido = train_data[train_data[\"Peso\"] < 0]\n",
    "\n",
    "train_data = train_data.drop(peso_invalido.index)"
   ]
  },
  {
   "cell_type": "markdown",
   "metadata": {},
   "source": [
    "Removendo alturas menores que 50 (altura média de um recém nascido)"
   ]
  },
  {
   "cell_type": "code",
   "execution_count": 4884,
   "metadata": {},
   "outputs": [],
   "source": [
    "altura_invalida = train_data[train_data[\"Altura\"] < 50]\n",
    "\n",
    "train_data = train_data.drop(altura_invalida.index)"
   ]
  },
  {
   "cell_type": "markdown",
   "metadata": {},
   "source": [
    "Removendo idade menor que 0 e idade maior que 19"
   ]
  },
  {
   "cell_type": "code",
   "execution_count": 4885,
   "metadata": {},
   "outputs": [],
   "source": [
    "idade_invalida = train_data[(train_data[\"IDADE\"] <= 0) | (train_data[\"IDADE\"] > 19)]\n",
    "\n",
    "train_data = train_data.drop(idade_invalida.index)"
   ]
  },
  {
   "cell_type": "markdown",
   "metadata": {},
   "source": [
    "Removendo valor de PA Sistolica irreal"
   ]
  },
  {
   "cell_type": "code",
   "execution_count": 4886,
   "metadata": {},
   "outputs": [],
   "source": [
    "pa_sistolica_invalida = train_data[\n",
    "    (train_data[\"PA SISTOLICA\"] > 500) | (train_data[\"PA SISTOLICA\"] < 40)\n",
    "]\n",
    "\n",
    "train_data = train_data.drop(pa_sistolica_invalida.index)"
   ]
  },
  {
   "cell_type": "markdown",
   "metadata": {},
   "source": [
    "Removendo valores de PA Diastolica irreais"
   ]
  },
  {
   "cell_type": "code",
   "execution_count": 4887,
   "metadata": {},
   "outputs": [],
   "source": [
    "pa_diastolica_irreal = train_data[train_data[\"PA DIASTOLICA\"] < 30]\n",
    "\n",
    "train_data = train_data.drop(pa_diastolica_irreal.index)"
   ]
  },
  {
   "cell_type": "markdown",
   "metadata": {},
   "source": [
    "Removendo valores de frequência cardíaca irreais"
   ]
  },
  {
   "cell_type": "code",
   "execution_count": 4888,
   "metadata": {},
   "outputs": [],
   "source": [
    "fc_irreal = train_data[(train_data[\"FC\"] > 250) | (train_data[\"FC\"] < 30)]\n",
    "\n",
    "train_data = train_data.drop(fc_irreal.index)"
   ]
  },
  {
   "cell_type": "markdown",
   "metadata": {},
   "source": [
    "##### Logo depois, iremos tratar os outliners das colunas numéricas, pois eles influenciam diretamente na média e mediana, que poderão ser usadas para preencher os NaN. As colunas que não serão tratadas são: PA Sistolica, PA Diastolica e FC pois os valores outliners tem grande chances de estarem diretamente relacionados com problemas cardíacos. Além disso, IMC não será tratado pois ele será recalculado com peso e altura."
   ]
  },
  {
   "cell_type": "code",
   "execution_count": 4889,
   "metadata": {},
   "outputs": [],
   "source": [
    "colunas_numericas = [\"Peso\", 'Altura', 'IDADE']\n",
    "\n",
    "# Primeiro usa a função para retornar todas as amostras que são outliners\n",
    "outliners = identifica_outliners(train_data, colunas_numericas)"
   ]
  },
  {
   "cell_type": "code",
   "execution_count": 4890,
   "metadata": {},
   "outputs": [],
   "source": [
    "train_data = train_data.drop(outliners[outliners].index)"
   ]
  },
  {
   "cell_type": "markdown",
   "metadata": {},
   "source": [
    "##### Após a remoção dos outliners, iremos novamente plotar os boxplots para valores numéricos, para analisar as mudanças"
   ]
  },
  {
   "cell_type": "code",
   "execution_count": 4891,
   "metadata": {},
   "outputs": [
    {
     "data": {
      "image/png": "[encoded data removed]",
      "text/plain": [
       "<Figure size 576x576 with 1 Axes>"
      ]
     },
     "metadata": {
      "needs_background": "light"
     },
     "output_type": "display_data"
    },
    {
     "data": {
      "image/png": "[encoded data removed]",
      "text/plain": [
       "<Figure size 576x576 with 1 Axes>"
      ]
     },
     "metadata": {
      "needs_background": "light"
     },
     "output_type": "display_data"
    },
    {
     "data": {
      "image/png": "[encoded data removed]",
      "text/plain": [
       "<Figure size 576x576 with 1 Axes>"
      ]
     },
     "metadata": {
      "needs_background": "light"
     },
     "output_type": "display_data"
    },
    {
     "data": {
      "image/png": "[encoded data removed]",
      "text/plain": [
       "<Figure size 576x576 with 1 Axes>"
      ]
     },
     "metadata": {
      "needs_background": "light"
     },
     "output_type": "display_data"
    },
    {
     "data": {
      "image/png": "[encoded data removed]",
      "text/plain": [
       "<Figure size 576x576 with 1 Axes>"
      ]
     },
     "metadata": {
      "needs_background": "light"
     },
     "output_type": "display_data"
    },
    {
     "data": {
      "image/png": "[encoded data removed]",
      "text/plain": [
       "<Figure size 576x576 with 1 Axes>"
      ]
     },
     "metadata": {
      "needs_background": "light"
     },
     "output_type": "display_data"
    }
   ],
   "source": [
    "colunas_numericas = [\"Peso\", \"Altura\", \"IDADE\", \"PA SISTOLICA\", \"PA DIASTOLICA\", \"FC\"]\n",
    "\n",
    "\n",
    "for coluna in colunas_numericas:\n",
    "    plotar_boxplot(train_data, coluna, \"CLASSE\")"
   ]
  },
  {
   "cell_type": "code",
   "execution_count": 4892,
   "metadata": {},
   "outputs": [
    {
     "data": {
      "text/html": [
       "<div>\n",
       "<style scoped>\n",
       "    .dataframe tbody tr th:only-of-type {\n",
       "        vertical-align: middle;\n",
       "    }\n",
       "\n",
       "    .dataframe tbody tr th {\n",
       "        vertical-align: top;\n",
       "    }\n",
       "\n",
       "    .dataframe thead th {\n",
       "        text-align: right;\n",
       "    }\n",
       "</style>\n",
       "<table border=\"1\" class=\"dataframe\">\n",
       "  <thead>\n",
       "    <tr style=\"text-align: right;\">\n",
       "      <th></th>\n",
       "      <th>Peso</th>\n",
       "      <th>Altura</th>\n",
       "      <th>IMC</th>\n",
       "      <th>IDADE</th>\n",
       "      <th>PA SISTOLICA</th>\n",
       "      <th>PA DIASTOLICA</th>\n",
       "      <th>FC</th>\n",
       "    </tr>\n",
       "  </thead>\n",
       "  <tbody>\n",
       "    <tr>\n",
       "      <th>count</th>\n",
       "      <td>9874.000000</td>\n",
       "      <td>10077.000000</td>\n",
       "      <td>9874.000000</td>\n",
       "      <td>9703.000000</td>\n",
       "      <td>6290.000000</td>\n",
       "      <td>6287.000000</td>\n",
       "      <td>9313.000000</td>\n",
       "    </tr>\n",
       "    <tr>\n",
       "      <th>mean</th>\n",
       "      <td>24.647407</td>\n",
       "      <td>112.880917</td>\n",
       "      <td>17.464655</td>\n",
       "      <td>6.420056</td>\n",
       "      <td>100.451033</td>\n",
       "      <td>61.860347</td>\n",
       "      <td>91.312789</td>\n",
       "    </tr>\n",
       "    <tr>\n",
       "      <th>std</th>\n",
       "      <td>14.872482</td>\n",
       "      <td>31.007403</td>\n",
       "      <td>3.935983</td>\n",
       "      <td>4.480835</td>\n",
       "      <td>10.354930</td>\n",
       "      <td>8.349274</td>\n",
       "      <td>15.691937</td>\n",
       "    </tr>\n",
       "    <tr>\n",
       "      <th>min</th>\n",
       "      <td>0.000000</td>\n",
       "      <td>50.000000</td>\n",
       "      <td>0.000000</td>\n",
       "      <td>0.010000</td>\n",
       "      <td>60.000000</td>\n",
       "      <td>35.000000</td>\n",
       "      <td>43.000000</td>\n",
       "    </tr>\n",
       "    <tr>\n",
       "      <th>25%</th>\n",
       "      <td>13.900000</td>\n",
       "      <td>92.000000</td>\n",
       "      <td>15.000000</td>\n",
       "      <td>2.700000</td>\n",
       "      <td>90.000000</td>\n",
       "      <td>60.000000</td>\n",
       "      <td>80.000000</td>\n",
       "    </tr>\n",
       "    <tr>\n",
       "      <th>50%</th>\n",
       "      <td>21.500000</td>\n",
       "      <td>115.000000</td>\n",
       "      <td>17.000000</td>\n",
       "      <td>5.890000</td>\n",
       "      <td>100.000000</td>\n",
       "      <td>60.000000</td>\n",
       "      <td>90.000000</td>\n",
       "    </tr>\n",
       "    <tr>\n",
       "      <th>75%</th>\n",
       "      <td>34.000000</td>\n",
       "      <td>137.000000</td>\n",
       "      <td>19.000000</td>\n",
       "      <td>9.910000</td>\n",
       "      <td>105.000000</td>\n",
       "      <td>65.000000</td>\n",
       "      <td>100.000000</td>\n",
       "    </tr>\n",
       "    <tr>\n",
       "      <th>max</th>\n",
       "      <td>88.000000</td>\n",
       "      <td>198.000000</td>\n",
       "      <td>167.000000</td>\n",
       "      <td>18.910000</td>\n",
       "      <td>190.000000</td>\n",
       "      <td>120.000000</td>\n",
       "      <td>230.000000</td>\n",
       "    </tr>\n",
       "  </tbody>\n",
       "</table>\n",
       "</div>"
      ],
      "text/plain": [
       "              Peso        Altura          IMC        IDADE  PA SISTOLICA  \\\n",
       "count  9874.000000  10077.000000  9874.000000  9703.000000   6290.000000   \n",
       "mean     24.647407    112.880917    17.464655     6.420056    100.451033   \n",
       "std      14.872482     31.007403     3.935983     4.480835     10.354930   \n",
       "min       0.000000     50.000000     0.000000     0.010000     60.000000   \n",
       "25%      13.900000     92.000000    15.000000     2.700000     90.000000   \n",
       "50%      21.500000    115.000000    17.000000     5.890000    100.000000   \n",
       "75%      34.000000    137.000000    19.000000     9.910000    105.000000   \n",
       "max      88.000000    198.000000   167.000000    18.910000    190.000000   \n",
       "\n",
       "       PA DIASTOLICA           FC  \n",
       "count    6287.000000  9313.000000  \n",
       "mean       61.860347    91.312789  \n",
       "std         8.349274    15.691937  \n",
       "min        35.000000    43.000000  \n",
       "25%        60.000000    80.000000  \n",
       "50%        60.000000    90.000000  \n",
       "75%        65.000000   100.000000  \n",
       "max       120.000000   230.000000  "
      ]
     },
     "metadata": {},
     "output_type": "display_data"
    }
   ],
   "source": [
    "display(train_data.iloc[:, 1:].describe(include=[np.number]))"
   ]
  },
  {
   "cell_type": "markdown",
   "metadata": {},
   "source": [
    "##### Após a plotagem dos gráficos e dos valores referentes aos dados, fica claro que a limpeza de dados irreais e a remoção de parte dos outliers diminuiu a variação dos valores, pois todos os stds diminuiram e nos gráficos, o número de outliners diminuiu drasticamente."
   ]
  },
  {
   "cell_type": "markdown",
   "metadata": {},
   "source": [
    "##### Agora com os outliners tratados, iremos substituir os valores NaN nas colunas numéricas."
   ]
  },
  {
   "cell_type": "code",
   "execution_count": 4893,
   "metadata": {},
   "outputs": [
    {
     "name": "stdout",
     "output_type": "stream",
     "text": [
      "Peso              203\n",
      "Altura              0\n",
      "IDADE             374\n",
      "PA SISTOLICA     3787\n",
      "PA DIASTOLICA    3790\n",
      "FC                764\n",
      "dtype: int64\n"
     ]
    }
   ],
   "source": [
    "print(train_data[colunas_numericas].isna().sum())"
   ]
  },
  {
   "cell_type": "markdown",
   "metadata": {},
   "source": [
    "Em todas as colunas numéricas, com exceção do IMC que será recalculado, os valores NaN serão substituidos pela mediana, visto que o desvio padrão é relativamente alto para as amostras."
   ]
  },
  {
   "cell_type": "code",
   "execution_count": 4894,
   "metadata": {},
   "outputs": [],
   "source": [
    "train_data[\"PA DIASTOLICA\"] = fill_na_mediana(train_data, \"PA DIASTOLICA\")\n",
    "train_data[\"PA SISTOLICA\"] = fill_na_mediana(train_data, \"PA SISTOLICA\")\n",
    "train_data[\"FC\"] = fill_na_mediana(train_data, \"FC\")"
   ]
  },
  {
   "cell_type": "code",
   "execution_count": 4895,
   "metadata": {},
   "outputs": [],
   "source": [
    "train_data[\"Peso\"] = fill_na_mediana(train_data, \"Peso\")\n",
    "train_data[\"Altura\"] = fill_na_mediana(train_data, \"Altura\")\n",
    "train_data[\"IDADE\"] = fill_na_mediana(train_data, \"IDADE\")"
   ]
  },
  {
   "cell_type": "code",
   "execution_count": 4896,
   "metadata": {},
   "outputs": [
    {
     "name": "stdout",
     "output_type": "stream",
     "text": [
      "Peso             0\n",
      "Altura           0\n",
      "IDADE            0\n",
      "PA SISTOLICA     0\n",
      "PA DIASTOLICA    0\n",
      "FC               0\n",
      "dtype: int64\n"
     ]
    }
   ],
   "source": [
    "print(train_data[colunas_numericas].isna().sum())"
   ]
  },
  {
   "cell_type": "markdown",
   "metadata": {},
   "source": [
    "Com isso, os valores NaN nas colunas numéricas foram resolvidos, agora basta recalcular o IMC utilizando o peso e a altura"
   ]
  },
  {
   "cell_type": "code",
   "execution_count": 4897,
   "metadata": {},
   "outputs": [],
   "source": [
    "altura_aux = train_data[\"Altura\"] / 100\n",
    "\n",
    "\n",
    "train_data[\"IMC\"] = train_data[\"Peso\"] / np.power(altura_aux, 2)"
   ]
  },
  {
   "cell_type": "code",
   "execution_count": 4898,
   "metadata": {},
   "outputs": [
    {
     "data": {
      "text/html": [
       "<div>\n",
       "<style scoped>\n",
       "    .dataframe tbody tr th:only-of-type {\n",
       "        vertical-align: middle;\n",
       "    }\n",
       "\n",
       "    .dataframe tbody tr th {\n",
       "        vertical-align: top;\n",
       "    }\n",
       "\n",
       "    .dataframe thead th {\n",
       "        text-align: right;\n",
       "    }\n",
       "</style>\n",
       "<table border=\"1\" class=\"dataframe\">\n",
       "  <thead>\n",
       "    <tr style=\"text-align: right;\">\n",
       "      <th></th>\n",
       "      <th>Id</th>\n",
       "      <th>Peso</th>\n",
       "      <th>Altura</th>\n",
       "      <th>IMC</th>\n",
       "      <th>IDADE</th>\n",
       "      <th>PA SISTOLICA</th>\n",
       "      <th>PA DIASTOLICA</th>\n",
       "      <th>FC</th>\n",
       "    </tr>\n",
       "  </thead>\n",
       "  <tbody>\n",
       "    <tr>\n",
       "      <th>count</th>\n",
       "      <td>10077.000000</td>\n",
       "      <td>10077.000000</td>\n",
       "      <td>10077.000000</td>\n",
       "      <td>10077.000000</td>\n",
       "      <td>10077.000000</td>\n",
       "      <td>10077.000000</td>\n",
       "      <td>10077.000000</td>\n",
       "      <td>10077.000000</td>\n",
       "    </tr>\n",
       "    <tr>\n",
       "      <th>mean</th>\n",
       "      <td>8837.248983</td>\n",
       "      <td>24.584003</td>\n",
       "      <td>112.880917</td>\n",
       "      <td>17.646072</td>\n",
       "      <td>6.400383</td>\n",
       "      <td>100.281532</td>\n",
       "      <td>61.160663</td>\n",
       "      <td>91.213258</td>\n",
       "    </tr>\n",
       "    <tr>\n",
       "      <th>std</th>\n",
       "      <td>5128.102689</td>\n",
       "      <td>14.728543</td>\n",
       "      <td>31.007403</td>\n",
       "      <td>5.053254</td>\n",
       "      <td>4.398030</td>\n",
       "      <td>8.183681</td>\n",
       "      <td>6.655944</td>\n",
       "      <td>15.089302</td>\n",
       "    </tr>\n",
       "    <tr>\n",
       "      <th>min</th>\n",
       "      <td>2.000000</td>\n",
       "      <td>0.000000</td>\n",
       "      <td>50.000000</td>\n",
       "      <td>0.000000</td>\n",
       "      <td>0.010000</td>\n",
       "      <td>60.000000</td>\n",
       "      <td>35.000000</td>\n",
       "      <td>43.000000</td>\n",
       "    </tr>\n",
       "    <tr>\n",
       "      <th>25%</th>\n",
       "      <td>4408.000000</td>\n",
       "      <td>14.000000</td>\n",
       "      <td>92.000000</td>\n",
       "      <td>15.378700</td>\n",
       "      <td>2.850000</td>\n",
       "      <td>100.000000</td>\n",
       "      <td>60.000000</td>\n",
       "      <td>80.000000</td>\n",
       "    </tr>\n",
       "    <tr>\n",
       "      <th>50%</th>\n",
       "      <td>8811.000000</td>\n",
       "      <td>21.500000</td>\n",
       "      <td>115.000000</td>\n",
       "      <td>16.949153</td>\n",
       "      <td>5.890000</td>\n",
       "      <td>100.000000</td>\n",
       "      <td>60.000000</td>\n",
       "      <td>90.000000</td>\n",
       "    </tr>\n",
       "    <tr>\n",
       "      <th>75%</th>\n",
       "      <td>13152.000000</td>\n",
       "      <td>33.300000</td>\n",
       "      <td>137.000000</td>\n",
       "      <td>19.229649</td>\n",
       "      <td>9.760000</td>\n",
       "      <td>100.000000</td>\n",
       "      <td>60.000000</td>\n",
       "      <td>100.000000</td>\n",
       "    </tr>\n",
       "    <tr>\n",
       "      <th>max</th>\n",
       "      <td>17869.000000</td>\n",
       "      <td>88.000000</td>\n",
       "      <td>198.000000</td>\n",
       "      <td>167.319331</td>\n",
       "      <td>18.910000</td>\n",
       "      <td>190.000000</td>\n",
       "      <td>120.000000</td>\n",
       "      <td>230.000000</td>\n",
       "    </tr>\n",
       "  </tbody>\n",
       "</table>\n",
       "</div>"
      ],
      "text/plain": [
       "                 Id          Peso        Altura           IMC         IDADE  \\\n",
       "count  10077.000000  10077.000000  10077.000000  10077.000000  10077.000000   \n",
       "mean    8837.248983     24.584003    112.880917     17.646072      6.400383   \n",
       "std     5128.102689     14.728543     31.007403      5.053254      4.398030   \n",
       "min        2.000000      0.000000     50.000000      0.000000      0.010000   \n",
       "25%     4408.000000     14.000000     92.000000     15.378700      2.850000   \n",
       "50%     8811.000000     21.500000    115.000000     16.949153      5.890000   \n",
       "75%    13152.000000     33.300000    137.000000     19.229649      9.760000   \n",
       "max    17869.000000     88.000000    198.000000    167.319331     18.910000   \n",
       "\n",
       "       PA SISTOLICA  PA DIASTOLICA            FC  \n",
       "count  10077.000000   10077.000000  10077.000000  \n",
       "mean     100.281532      61.160663     91.213258  \n",
       "std        8.183681       6.655944     15.089302  \n",
       "min       60.000000      35.000000     43.000000  \n",
       "25%      100.000000      60.000000     80.000000  \n",
       "50%      100.000000      60.000000     90.000000  \n",
       "75%      100.000000      60.000000    100.000000  \n",
       "max      190.000000     120.000000    230.000000  "
      ]
     },
     "metadata": {},
     "output_type": "display_data"
    }
   ],
   "source": [
    "display(train_data.describe())"
   ]
  },
  {
   "cell_type": "code",
   "execution_count": 4899,
   "metadata": {},
   "outputs": [
    {
     "data": {
      "text/html": [
       "<div>\n",
       "<style scoped>\n",
       "    .dataframe tbody tr th:only-of-type {\n",
       "        vertical-align: middle;\n",
       "    }\n",
       "\n",
       "    .dataframe tbody tr th {\n",
       "        vertical-align: top;\n",
       "    }\n",
       "\n",
       "    .dataframe thead th {\n",
       "        text-align: right;\n",
       "    }\n",
       "</style>\n",
       "<table border=\"1\" class=\"dataframe\">\n",
       "  <thead>\n",
       "    <tr style=\"text-align: right;\">\n",
       "      <th></th>\n",
       "      <th>Id</th>\n",
       "      <th>Peso</th>\n",
       "      <th>Altura</th>\n",
       "      <th>IMC</th>\n",
       "      <th>IDADE</th>\n",
       "      <th>PULSOS</th>\n",
       "      <th>PA SISTOLICA</th>\n",
       "      <th>PA DIASTOLICA</th>\n",
       "      <th>PPA</th>\n",
       "      <th>B2</th>\n",
       "      <th>SOPRO</th>\n",
       "      <th>FC</th>\n",
       "      <th>HDA 1</th>\n",
       "      <th>HDA2</th>\n",
       "      <th>SEXO</th>\n",
       "      <th>MOTIVO1</th>\n",
       "      <th>MOTIVO2</th>\n",
       "      <th>CLASSE</th>\n",
       "    </tr>\n",
       "  </thead>\n",
       "  <tbody>\n",
       "    <tr>\n",
       "      <th>0</th>\n",
       "      <td>10524</td>\n",
       "      <td>28.0</td>\n",
       "      <td>123</td>\n",
       "      <td>18.507502</td>\n",
       "      <td>5.79</td>\n",
       "      <td>Normais</td>\n",
       "      <td>110.0</td>\n",
       "      <td>80.0</td>\n",
       "      <td>HAS-1 PAD</td>\n",
       "      <td>Normal</td>\n",
       "      <td>ausente</td>\n",
       "      <td>100.0</td>\n",
       "      <td>Palpitacao</td>\n",
       "      <td>NaN</td>\n",
       "      <td>M</td>\n",
       "      <td>6 - Suspeita de cardiopatia</td>\n",
       "      <td>6 - Palpitação/taquicardia/arritmia</td>\n",
       "      <td>Normal</td>\n",
       "    </tr>\n",
       "    <tr>\n",
       "      <th>2</th>\n",
       "      <td>4483</td>\n",
       "      <td>13.0</td>\n",
       "      <td>87</td>\n",
       "      <td>17.175320</td>\n",
       "      <td>2.21</td>\n",
       "      <td>Normais</td>\n",
       "      <td>100.0</td>\n",
       "      <td>60.0</td>\n",
       "      <td>Não Calculado</td>\n",
       "      <td>Normal</td>\n",
       "      <td>Sistólico</td>\n",
       "      <td>100.0</td>\n",
       "      <td>Assintomático</td>\n",
       "      <td>NaN</td>\n",
       "      <td>M</td>\n",
       "      <td>6 - Suspeita de cardiopatia</td>\n",
       "      <td>6 - Sopro</td>\n",
       "      <td>Anormal</td>\n",
       "    </tr>\n",
       "    <tr>\n",
       "      <th>4</th>\n",
       "      <td>11652</td>\n",
       "      <td>42.4</td>\n",
       "      <td>136</td>\n",
       "      <td>22.923875</td>\n",
       "      <td>0.06</td>\n",
       "      <td>Normais</td>\n",
       "      <td>100.0</td>\n",
       "      <td>60.0</td>\n",
       "      <td>Não Calculado</td>\n",
       "      <td>Normal</td>\n",
       "      <td>ausente</td>\n",
       "      <td>78.0</td>\n",
       "      <td>Assintomático</td>\n",
       "      <td>NaN</td>\n",
       "      <td>F</td>\n",
       "      <td>5 - Parecer cardiológico</td>\n",
       "      <td>NaN</td>\n",
       "      <td>Normal</td>\n",
       "    </tr>\n",
       "    <tr>\n",
       "      <th>5</th>\n",
       "      <td>15430</td>\n",
       "      <td>45.0</td>\n",
       "      <td>161</td>\n",
       "      <td>17.360441</td>\n",
       "      <td>7.60</td>\n",
       "      <td>Normais</td>\n",
       "      <td>120.0</td>\n",
       "      <td>70.0</td>\n",
       "      <td>HAS-1 PAS</td>\n",
       "      <td>Normal</td>\n",
       "      <td>ausente</td>\n",
       "      <td>80.0</td>\n",
       "      <td>Assintomático</td>\n",
       "      <td>NaN</td>\n",
       "      <td>M</td>\n",
       "      <td>5 - Parecer cardiológico</td>\n",
       "      <td>5 - Cirurgia</td>\n",
       "      <td>Normal</td>\n",
       "    </tr>\n",
       "    <tr>\n",
       "      <th>6</th>\n",
       "      <td>1023</td>\n",
       "      <td>18.5</td>\n",
       "      <td>105</td>\n",
       "      <td>16.780045</td>\n",
       "      <td>3.93</td>\n",
       "      <td>Normais</td>\n",
       "      <td>90.0</td>\n",
       "      <td>60.0</td>\n",
       "      <td>Normal</td>\n",
       "      <td>Normal</td>\n",
       "      <td>ausente</td>\n",
       "      <td>92.0</td>\n",
       "      <td>NaN</td>\n",
       "      <td>NaN</td>\n",
       "      <td>F</td>\n",
       "      <td>7 - Outro</td>\n",
       "      <td>Outro</td>\n",
       "      <td>Normal</td>\n",
       "    </tr>\n",
       "    <tr>\n",
       "      <th>...</th>\n",
       "      <td>...</td>\n",
       "      <td>...</td>\n",
       "      <td>...</td>\n",
       "      <td>...</td>\n",
       "      <td>...</td>\n",
       "      <td>...</td>\n",
       "      <td>...</td>\n",
       "      <td>...</td>\n",
       "      <td>...</td>\n",
       "      <td>...</td>\n",
       "      <td>...</td>\n",
       "      <td>...</td>\n",
       "      <td>...</td>\n",
       "      <td>...</td>\n",
       "      <td>...</td>\n",
       "      <td>...</td>\n",
       "      <td>...</td>\n",
       "      <td>...</td>\n",
       "    </tr>\n",
       "    <tr>\n",
       "      <th>14719</th>\n",
       "      <td>9673</td>\n",
       "      <td>16.7</td>\n",
       "      <td>100</td>\n",
       "      <td>16.700000</td>\n",
       "      <td>3.49</td>\n",
       "      <td>Normais</td>\n",
       "      <td>90.0</td>\n",
       "      <td>60.0</td>\n",
       "      <td>Normal</td>\n",
       "      <td>Normal</td>\n",
       "      <td>ausente</td>\n",
       "      <td>120.0</td>\n",
       "      <td>NaN</td>\n",
       "      <td>NaN</td>\n",
       "      <td>F</td>\n",
       "      <td>6 - Suspeita de cardiopatia</td>\n",
       "      <td>6 - Dor precordial</td>\n",
       "      <td>Normal</td>\n",
       "    </tr>\n",
       "    <tr>\n",
       "      <th>14721</th>\n",
       "      <td>3023</td>\n",
       "      <td>25.0</td>\n",
       "      <td>126</td>\n",
       "      <td>15.747040</td>\n",
       "      <td>8.80</td>\n",
       "      <td>Normais</td>\n",
       "      <td>100.0</td>\n",
       "      <td>60.0</td>\n",
       "      <td>Normal</td>\n",
       "      <td>Normal</td>\n",
       "      <td>ausente</td>\n",
       "      <td>76.0</td>\n",
       "      <td>Assintomático</td>\n",
       "      <td>NaN</td>\n",
       "      <td>F</td>\n",
       "      <td>5 - Parecer cardiológico</td>\n",
       "      <td>NaN</td>\n",
       "      <td>Normal</td>\n",
       "    </tr>\n",
       "    <tr>\n",
       "      <th>14723</th>\n",
       "      <td>3249</td>\n",
       "      <td>30.0</td>\n",
       "      <td>113</td>\n",
       "      <td>23.494401</td>\n",
       "      <td>4.97</td>\n",
       "      <td>Normais</td>\n",
       "      <td>105.0</td>\n",
       "      <td>70.0</td>\n",
       "      <td>Pre-Hipertensão PAD</td>\n",
       "      <td>Normal</td>\n",
       "      <td>sistólico</td>\n",
       "      <td>92.0</td>\n",
       "      <td>Dispneia</td>\n",
       "      <td>Palpitacao</td>\n",
       "      <td>F</td>\n",
       "      <td>6 - Suspeita de cardiopatia</td>\n",
       "      <td>6 - Dispnéia</td>\n",
       "      <td>Anormal</td>\n",
       "    </tr>\n",
       "    <tr>\n",
       "      <th>14724</th>\n",
       "      <td>3207</td>\n",
       "      <td>25.8</td>\n",
       "      <td>130</td>\n",
       "      <td>15.266272</td>\n",
       "      <td>7.69</td>\n",
       "      <td>Normais</td>\n",
       "      <td>90.0</td>\n",
       "      <td>55.0</td>\n",
       "      <td>Normal</td>\n",
       "      <td>Normal</td>\n",
       "      <td>ausente</td>\n",
       "      <td>78.0</td>\n",
       "      <td>Assintomático</td>\n",
       "      <td>NaN</td>\n",
       "      <td>M</td>\n",
       "      <td>6 - Suspeita de cardiopatia</td>\n",
       "      <td>6 - Sopro</td>\n",
       "      <td>Normal</td>\n",
       "    </tr>\n",
       "    <tr>\n",
       "      <th>14726</th>\n",
       "      <td>9470</td>\n",
       "      <td>13.0</td>\n",
       "      <td>89</td>\n",
       "      <td>16.412069</td>\n",
       "      <td>2.97</td>\n",
       "      <td>Normais</td>\n",
       "      <td>100.0</td>\n",
       "      <td>60.0</td>\n",
       "      <td>Não Calculado</td>\n",
       "      <td>Normal</td>\n",
       "      <td>ausente</td>\n",
       "      <td>96.0</td>\n",
       "      <td>Assintomático</td>\n",
       "      <td>NaN</td>\n",
       "      <td>F</td>\n",
       "      <td>5 - Parecer cardiológico</td>\n",
       "      <td>NaN</td>\n",
       "      <td>Normal</td>\n",
       "    </tr>\n",
       "  </tbody>\n",
       "</table>\n",
       "<p>10077 rows × 18 columns</p>\n",
       "</div>"
      ],
      "text/plain": [
       "          Id  Peso  Altura        IMC  IDADE   PULSOS  PA SISTOLICA  \\\n",
       "0      10524  28.0     123  18.507502   5.79  Normais         110.0   \n",
       "2       4483  13.0      87  17.175320   2.21  Normais         100.0   \n",
       "4      11652  42.4     136  22.923875   0.06  Normais         100.0   \n",
       "5      15430  45.0     161  17.360441   7.60  Normais         120.0   \n",
       "6       1023  18.5     105  16.780045   3.93  Normais          90.0   \n",
       "...      ...   ...     ...        ...    ...      ...           ...   \n",
       "14719   9673  16.7     100  16.700000   3.49  Normais          90.0   \n",
       "14721   3023  25.0     126  15.747040   8.80  Normais         100.0   \n",
       "14723   3249  30.0     113  23.494401   4.97  Normais         105.0   \n",
       "14724   3207  25.8     130  15.266272   7.69  Normais          90.0   \n",
       "14726   9470  13.0      89  16.412069   2.97  Normais         100.0   \n",
       "\n",
       "       PA DIASTOLICA                  PPA      B2      SOPRO     FC  \\\n",
       "0               80.0            HAS-1 PAD  Normal    ausente  100.0   \n",
       "2               60.0        Não Calculado  Normal  Sistólico  100.0   \n",
       "4               60.0        Não Calculado  Normal    ausente   78.0   \n",
       "5               70.0            HAS-1 PAS  Normal    ausente   80.0   \n",
       "6               60.0               Normal  Normal    ausente   92.0   \n",
       "...              ...                  ...     ...        ...    ...   \n",
       "14719           60.0               Normal  Normal    ausente  120.0   \n",
       "14721           60.0               Normal  Normal    ausente   76.0   \n",
       "14723           70.0  Pre-Hipertensão PAD  Normal  sistólico   92.0   \n",
       "14724           55.0               Normal  Normal    ausente   78.0   \n",
       "14726           60.0        Não Calculado  Normal    ausente   96.0   \n",
       "\n",
       "               HDA 1        HDA2 SEXO                      MOTIVO1  \\\n",
       "0         Palpitacao         NaN    M  6 - Suspeita de cardiopatia   \n",
       "2      Assintomático         NaN    M  6 - Suspeita de cardiopatia   \n",
       "4      Assintomático         NaN    F     5 - Parecer cardiológico   \n",
       "5      Assintomático         NaN    M     5 - Parecer cardiológico   \n",
       "6                NaN         NaN    F                    7 - Outro   \n",
       "...              ...         ...  ...                          ...   \n",
       "14719            NaN         NaN    F  6 - Suspeita de cardiopatia   \n",
       "14721  Assintomático         NaN    F     5 - Parecer cardiológico   \n",
       "14723       Dispneia  Palpitacao    F  6 - Suspeita de cardiopatia   \n",
       "14724  Assintomático         NaN    M  6 - Suspeita de cardiopatia   \n",
       "14726  Assintomático         NaN    F     5 - Parecer cardiológico   \n",
       "\n",
       "                                   MOTIVO2   CLASSE  \n",
       "0      6 - Palpitação/taquicardia/arritmia   Normal  \n",
       "2                                6 - Sopro  Anormal  \n",
       "4                                      NaN   Normal  \n",
       "5                             5 - Cirurgia   Normal  \n",
       "6                                    Outro   Normal  \n",
       "...                                    ...      ...  \n",
       "14719                   6 - Dor precordial   Normal  \n",
       "14721                                  NaN   Normal  \n",
       "14723                         6 - Dispnéia  Anormal  \n",
       "14724                            6 - Sopro   Normal  \n",
       "14726                                  NaN   Normal  \n",
       "\n",
       "[10077 rows x 18 columns]"
      ]
     },
     "metadata": {},
     "output_type": "display_data"
    }
   ],
   "source": [
    "display(train_data)"
   ]
  },
  {
   "cell_type": "markdown",
   "metadata": {},
   "source": [
    "#### Agora com todas as colunas numéricas tratadas, partiremos para as colunas não numéricas"
   ]
  },
  {
   "cell_type": "markdown",
   "metadata": {},
   "source": [
    "Substituindo 'Normais' por 'Normal' no atributo CLASSE."
   ]
  },
  {
   "cell_type": "code",
   "execution_count": 4900,
   "metadata": {},
   "outputs": [],
   "source": [
    "substituir(train_data, \"CLASSE\", \"Normais\", \"Normal\")"
   ]
  },
  {
   "cell_type": "code",
   "execution_count": 4901,
   "metadata": {},
   "outputs": [
    {
     "name": "stdout",
     "output_type": "stream",
     "text": [
      "['Normal' 'Anormal' nan]\n"
     ]
    }
   ],
   "source": [
    "print(train_data[\"CLASSE\"].unique())"
   ]
  },
  {
   "cell_type": "markdown",
   "metadata": {},
   "source": [
    "Substituindo 'NORMAIS' por 'Normais' e 'AMPLOS' por 'Amplos' no atributo PULSOS"
   ]
  },
  {
   "cell_type": "code",
   "execution_count": 4902,
   "metadata": {},
   "outputs": [],
   "source": [
    "substituir(train_data, \"PULSOS\", \"NORMAIS\", \"Normais\")\n",
    "substituir(train_data, \"PULSOS\", \"AMPLOS\", \"Amplos\")"
   ]
  },
  {
   "cell_type": "code",
   "execution_count": 4903,
   "metadata": {},
   "outputs": [
    {
     "name": "stdout",
     "output_type": "stream",
     "text": [
      "['Normais' 'Femorais diminuidos' nan 'Outro' 'Amplos' 'Diminuídos ']\n"
     ]
    }
   ],
   "source": [
    "print(train_data[\"PULSOS\"].unique())"
   ]
  },
  {
   "cell_type": "markdown",
   "metadata": {},
   "source": [
    "Substituindo 'sistólico' por 'Sistólico' e 'contínuo' por 'Contínuo'"
   ]
  },
  {
   "cell_type": "code",
   "execution_count": 4904,
   "metadata": {},
   "outputs": [],
   "source": [
    "substituir(train_data, \"SOPRO\", \"sistólico\", \"Sistólico\")\n",
    "substituir(train_data, \"SOPRO\", \"contínuo\", \"Contínuo\")"
   ]
  },
  {
   "cell_type": "code",
   "execution_count": 4905,
   "metadata": {},
   "outputs": [
    {
     "name": "stdout",
     "output_type": "stream",
     "text": [
      "['ausente' 'Sistólico' nan 'Contínuo' 'diastólico'\n",
      " 'Sistolico e diastólico']\n"
     ]
    }
   ],
   "source": [
    "print(train_data[\"SOPRO\"].unique())"
   ]
  },
  {
   "cell_type": "markdown",
   "metadata": {},
   "source": [
    "Substituindo 'Masculino' e 'masculino' por 'M' e 'Feminino' por 'F'"
   ]
  },
  {
   "cell_type": "code",
   "execution_count": 4906,
   "metadata": {},
   "outputs": [],
   "source": [
    "substituir(train_data, \"SEXO\", \"Masculino\", \"M\")\n",
    "substituir(train_data, \"SEXO\", \"masculino\", \"M\")\n",
    "\n",
    "substituir(train_data, \"SEXO\", \"Feminino\", \"F\")"
   ]
  },
  {
   "cell_type": "code",
   "execution_count": 4907,
   "metadata": {},
   "outputs": [
    {
     "name": "stdout",
     "output_type": "stream",
     "text": [
      "['M' 'F' 'Indeterminado' nan]\n"
     ]
    }
   ],
   "source": [
    "print(train_data[\"SEXO\"].unique())"
   ]
  },
  {
   "cell_type": "code",
   "execution_count": 4908,
   "metadata": {},
   "outputs": [
    {
     "name": "stdout",
     "output_type": "stream",
     "text": [
      "Id                  0\n",
      "Peso                0\n",
      "Altura              0\n",
      "IMC                 0\n",
      "IDADE               0\n",
      "PULSOS            310\n",
      "PA SISTOLICA        0\n",
      "PA DIASTOLICA       0\n",
      "PPA               100\n",
      "B2                302\n",
      "SOPRO             297\n",
      "FC                  0\n",
      "HDA 1            2563\n",
      "HDA2             9694\n",
      "SEXO                2\n",
      "MOTIVO1           102\n",
      "MOTIVO2          2222\n",
      "CLASSE            307\n",
      "dtype: int64\n"
     ]
    }
   ],
   "source": [
    "print(train_data.isna().sum())"
   ]
  },
  {
   "cell_type": "markdown",
   "metadata": {},
   "source": [
    "#### Agora com a remoção de valores redundantes, será tratados os valores NaN das colunas não numéricas"
   ]
  },
  {
   "cell_type": "markdown",
   "metadata": {},
   "source": [
    "Removendo NaN de PULSOS"
   ]
  },
  {
   "cell_type": "code",
   "execution_count": 4909,
   "metadata": {},
   "outputs": [],
   "source": [
    "train_data = train_data.dropna(subset=[\"PULSOS\"])"
   ]
  },
  {
   "cell_type": "code",
   "execution_count": 4910,
   "metadata": {},
   "outputs": [
    {
     "name": "stdout",
     "output_type": "stream",
     "text": [
      "0\n"
     ]
    }
   ],
   "source": [
    "print(train_data[\"PULSOS\"].isna().sum())"
   ]
  },
  {
   "cell_type": "markdown",
   "metadata": {},
   "source": [
    "Removendo NaN de B2"
   ]
  },
  {
   "cell_type": "code",
   "execution_count": 4911,
   "metadata": {},
   "outputs": [],
   "source": [
    "train_data = train_data.dropna(subset=[\"B2\"])"
   ]
  },
  {
   "cell_type": "code",
   "execution_count": 4912,
   "metadata": {},
   "outputs": [
    {
     "name": "stdout",
     "output_type": "stream",
     "text": [
      "0\n"
     ]
    }
   ],
   "source": [
    "print(train_data[\"B2\"].isna().sum())"
   ]
  },
  {
   "cell_type": "markdown",
   "metadata": {},
   "source": [
    "Sopro já não contém mais NaN"
   ]
  },
  {
   "cell_type": "code",
   "execution_count": 4913,
   "metadata": {},
   "outputs": [
    {
     "name": "stdout",
     "output_type": "stream",
     "text": [
      "0\n"
     ]
    }
   ],
   "source": [
    "print(train_data[\"SOPRO\"].isna().sum())"
   ]
  },
  {
   "cell_type": "markdown",
   "metadata": {},
   "source": [
    "Como HDA 1 e HDA2 tem muitas amostrar com NaN, é mais interessane mantê-las ao invés de remove-las, por isso, substituiremos por 'Assintomáticos'. Visto que não há sintomas (NaN), assintomáticos é uma substituição válida."
   ]
  },
  {
   "cell_type": "code",
   "execution_count": 4914,
   "metadata": {},
   "outputs": [],
   "source": [
    "train_data[\"HDA 1\"] = train_data[\"HDA 1\"].fillna(\"Assintomático\")"
   ]
  },
  {
   "cell_type": "code",
   "execution_count": 4915,
   "metadata": {},
   "outputs": [],
   "source": [
    "train_data[\"HDA2\"] = train_data[\"HDA2\"].fillna(\"Assintomático\")"
   ]
  },
  {
   "cell_type": "markdown",
   "metadata": {},
   "source": [
    "Iremos plotar os gráficos de HDA1 e HDA 2 novamente para ver as mudanças"
   ]
  },
  {
   "cell_type": "code",
   "execution_count": 4916,
   "metadata": {},
   "outputs": [
    {
     "data": {
      "image/png": "[encoded data removed]",
      "text/plain": [
       "<Figure size 864x432 with 1 Axes>"
      ]
     },
     "metadata": {
      "needs_background": "light"
     },
     "output_type": "display_data"
    },
    {
     "data": {
      "image/png": "[encoded data removed]",
      "text/plain": [
       "<Figure size 864x432 with 1 Axes>"
      ]
     },
     "metadata": {
      "needs_background": "light"
     },
     "output_type": "display_data"
    }
   ],
   "source": [
    "plotar_grafico_barras(train_data, \"HDA 1\", \"CLASSE\")\n",
    "plotar_grafico_barras(train_data, \"HDA2\", \"CLASSE\")"
   ]
  },
  {
   "cell_type": "markdown",
   "metadata": {},
   "source": [
    "Removendo NaN de SEXO"
   ]
  },
  {
   "cell_type": "code",
   "execution_count": 4917,
   "metadata": {},
   "outputs": [],
   "source": [
    "train_data = train_data.dropna(subset=[\"SEXO\"])"
   ]
  },
  {
   "cell_type": "code",
   "execution_count": 4918,
   "metadata": {},
   "outputs": [
    {
     "name": "stdout",
     "output_type": "stream",
     "text": [
      "0\n"
     ]
    }
   ],
   "source": [
    "print(train_data[\"SEXO\"].isna().sum())"
   ]
  },
  {
   "cell_type": "markdown",
   "metadata": {},
   "source": [
    "Removendo NaN de MOTIVO1"
   ]
  },
  {
   "cell_type": "code",
   "execution_count": 4919,
   "metadata": {},
   "outputs": [],
   "source": [
    "train_data = train_data.dropna(subset=[\"MOTIVO1\"])"
   ]
  },
  {
   "cell_type": "code",
   "execution_count": 4920,
   "metadata": {},
   "outputs": [
    {
     "name": "stdout",
     "output_type": "stream",
     "text": [
      "0\n"
     ]
    }
   ],
   "source": [
    "print(train_data[\"MOTIVO1\"].isna().sum())"
   ]
  },
  {
   "cell_type": "markdown",
   "metadata": {},
   "source": [
    "Removendo NaN de MOTIVO2 (ponto de atenção, pois são muitas amostras)"
   ]
  },
  {
   "cell_type": "code",
   "execution_count": 4921,
   "metadata": {},
   "outputs": [],
   "source": [
    "train_data = train_data.dropna(subset=[\"MOTIVO2\"])"
   ]
  },
  {
   "cell_type": "code",
   "execution_count": 4922,
   "metadata": {},
   "outputs": [
    {
     "name": "stdout",
     "output_type": "stream",
     "text": [
      "0\n"
     ]
    }
   ],
   "source": [
    "print(train_data[\"MOTIVO2\"].isna().sum())"
   ]
  },
  {
   "cell_type": "markdown",
   "metadata": {},
   "source": [
    "Removendo NaN e #VALUE! de PPA, os trocando por não calculado"
   ]
  },
  {
   "cell_type": "code",
   "execution_count": 4923,
   "metadata": {},
   "outputs": [
    {
     "name": "stdout",
     "output_type": "stream",
     "text": [
      "['HAS-1 PAD' 'Não Calculado' 'HAS-1 PAS' 'Normal' '#VALUE!'\n",
      " 'Pre-Hipertensão PAS' 'HAS-2 PAS' nan 'Pre-Hipertensão PAD' 'HAS-2 PAD']\n"
     ]
    }
   ],
   "source": [
    "print(train_data['PPA'].unique())"
   ]
  },
  {
   "cell_type": "code",
   "execution_count": 4924,
   "metadata": {},
   "outputs": [],
   "source": [
    "train_data[\"PPA\"] = train_data[\"PPA\"].replace('#VALUE!', np.nan)"
   ]
  },
  {
   "cell_type": "code",
   "execution_count": 4925,
   "metadata": {},
   "outputs": [],
   "source": [
    "train_data = train_data.dropna(subset=[\"PPA\"])"
   ]
  },
  {
   "cell_type": "code",
   "execution_count": 4926,
   "metadata": {},
   "outputs": [
    {
     "name": "stdout",
     "output_type": "stream",
     "text": [
      "0\n"
     ]
    }
   ],
   "source": [
    "print(train_data[\"PPA\"].isna().sum())"
   ]
  },
  {
   "cell_type": "code",
   "execution_count": 4927,
   "metadata": {},
   "outputs": [
    {
     "data": {
      "text/html": [
       "<div>\n",
       "<style scoped>\n",
       "    .dataframe tbody tr th:only-of-type {\n",
       "        vertical-align: middle;\n",
       "    }\n",
       "\n",
       "    .dataframe tbody tr th {\n",
       "        vertical-align: top;\n",
       "    }\n",
       "\n",
       "    .dataframe thead th {\n",
       "        text-align: right;\n",
       "    }\n",
       "</style>\n",
       "<table border=\"1\" class=\"dataframe\">\n",
       "  <thead>\n",
       "    <tr style=\"text-align: right;\">\n",
       "      <th></th>\n",
       "      <th>Id</th>\n",
       "      <th>Peso</th>\n",
       "      <th>Altura</th>\n",
       "      <th>IMC</th>\n",
       "      <th>IDADE</th>\n",
       "      <th>PULSOS</th>\n",
       "      <th>PA SISTOLICA</th>\n",
       "      <th>PA DIASTOLICA</th>\n",
       "      <th>PPA</th>\n",
       "      <th>B2</th>\n",
       "      <th>SOPRO</th>\n",
       "      <th>FC</th>\n",
       "      <th>HDA 1</th>\n",
       "      <th>HDA2</th>\n",
       "      <th>SEXO</th>\n",
       "      <th>MOTIVO1</th>\n",
       "      <th>MOTIVO2</th>\n",
       "      <th>CLASSE</th>\n",
       "    </tr>\n",
       "  </thead>\n",
       "  <tbody>\n",
       "    <tr>\n",
       "      <th>0</th>\n",
       "      <td>10524</td>\n",
       "      <td>28.0</td>\n",
       "      <td>123</td>\n",
       "      <td>18.507502</td>\n",
       "      <td>5.79</td>\n",
       "      <td>Normais</td>\n",
       "      <td>110.0</td>\n",
       "      <td>80.0</td>\n",
       "      <td>HAS-1 PAD</td>\n",
       "      <td>Normal</td>\n",
       "      <td>ausente</td>\n",
       "      <td>100.0</td>\n",
       "      <td>Palpitacao</td>\n",
       "      <td>Assintomático</td>\n",
       "      <td>M</td>\n",
       "      <td>6 - Suspeita de cardiopatia</td>\n",
       "      <td>6 - Palpitação/taquicardia/arritmia</td>\n",
       "      <td>Normal</td>\n",
       "    </tr>\n",
       "    <tr>\n",
       "      <th>2</th>\n",
       "      <td>4483</td>\n",
       "      <td>13.0</td>\n",
       "      <td>87</td>\n",
       "      <td>17.175320</td>\n",
       "      <td>2.21</td>\n",
       "      <td>Normais</td>\n",
       "      <td>100.0</td>\n",
       "      <td>60.0</td>\n",
       "      <td>Não Calculado</td>\n",
       "      <td>Normal</td>\n",
       "      <td>Sistólico</td>\n",
       "      <td>100.0</td>\n",
       "      <td>Assintomático</td>\n",
       "      <td>Assintomático</td>\n",
       "      <td>M</td>\n",
       "      <td>6 - Suspeita de cardiopatia</td>\n",
       "      <td>6 - Sopro</td>\n",
       "      <td>Anormal</td>\n",
       "    </tr>\n",
       "    <tr>\n",
       "      <th>5</th>\n",
       "      <td>15430</td>\n",
       "      <td>45.0</td>\n",
       "      <td>161</td>\n",
       "      <td>17.360441</td>\n",
       "      <td>7.60</td>\n",
       "      <td>Normais</td>\n",
       "      <td>120.0</td>\n",
       "      <td>70.0</td>\n",
       "      <td>HAS-1 PAS</td>\n",
       "      <td>Normal</td>\n",
       "      <td>ausente</td>\n",
       "      <td>80.0</td>\n",
       "      <td>Assintomático</td>\n",
       "      <td>Assintomático</td>\n",
       "      <td>M</td>\n",
       "      <td>5 - Parecer cardiológico</td>\n",
       "      <td>5 - Cirurgia</td>\n",
       "      <td>Normal</td>\n",
       "    </tr>\n",
       "    <tr>\n",
       "      <th>6</th>\n",
       "      <td>1023</td>\n",
       "      <td>18.5</td>\n",
       "      <td>105</td>\n",
       "      <td>16.780045</td>\n",
       "      <td>3.93</td>\n",
       "      <td>Normais</td>\n",
       "      <td>90.0</td>\n",
       "      <td>60.0</td>\n",
       "      <td>Normal</td>\n",
       "      <td>Normal</td>\n",
       "      <td>ausente</td>\n",
       "      <td>92.0</td>\n",
       "      <td>Assintomático</td>\n",
       "      <td>Assintomático</td>\n",
       "      <td>F</td>\n",
       "      <td>7 - Outro</td>\n",
       "      <td>Outro</td>\n",
       "      <td>Normal</td>\n",
       "    </tr>\n",
       "    <tr>\n",
       "      <th>8</th>\n",
       "      <td>14309</td>\n",
       "      <td>24.0</td>\n",
       "      <td>112</td>\n",
       "      <td>19.132653</td>\n",
       "      <td>5.27</td>\n",
       "      <td>Normais</td>\n",
       "      <td>100.0</td>\n",
       "      <td>60.0</td>\n",
       "      <td>Normal</td>\n",
       "      <td>Normal</td>\n",
       "      <td>ausente</td>\n",
       "      <td>100.0</td>\n",
       "      <td>Outro</td>\n",
       "      <td>Assintomático</td>\n",
       "      <td>M</td>\n",
       "      <td>6 - Suspeita de cardiopatia</td>\n",
       "      <td>6 - HAS/dislipidemia/obesidade</td>\n",
       "      <td>Normal</td>\n",
       "    </tr>\n",
       "    <tr>\n",
       "      <th>...</th>\n",
       "      <td>...</td>\n",
       "      <td>...</td>\n",
       "      <td>...</td>\n",
       "      <td>...</td>\n",
       "      <td>...</td>\n",
       "      <td>...</td>\n",
       "      <td>...</td>\n",
       "      <td>...</td>\n",
       "      <td>...</td>\n",
       "      <td>...</td>\n",
       "      <td>...</td>\n",
       "      <td>...</td>\n",
       "      <td>...</td>\n",
       "      <td>...</td>\n",
       "      <td>...</td>\n",
       "      <td>...</td>\n",
       "      <td>...</td>\n",
       "      <td>...</td>\n",
       "    </tr>\n",
       "    <tr>\n",
       "      <th>14716</th>\n",
       "      <td>390</td>\n",
       "      <td>25.0</td>\n",
       "      <td>110</td>\n",
       "      <td>20.661157</td>\n",
       "      <td>5.15</td>\n",
       "      <td>Normais</td>\n",
       "      <td>100.0</td>\n",
       "      <td>60.0</td>\n",
       "      <td>Não Calculado</td>\n",
       "      <td>Normal</td>\n",
       "      <td>ausente</td>\n",
       "      <td>92.0</td>\n",
       "      <td>Assintomático</td>\n",
       "      <td>Assintomático</td>\n",
       "      <td>F</td>\n",
       "      <td>5 - Parecer cardiológico</td>\n",
       "      <td>5 - Cirurgia</td>\n",
       "      <td>Normal</td>\n",
       "    </tr>\n",
       "    <tr>\n",
       "      <th>14717</th>\n",
       "      <td>14869</td>\n",
       "      <td>10.0</td>\n",
       "      <td>70</td>\n",
       "      <td>20.408163</td>\n",
       "      <td>0.60</td>\n",
       "      <td>Normais</td>\n",
       "      <td>100.0</td>\n",
       "      <td>60.0</td>\n",
       "      <td>Não Calculado</td>\n",
       "      <td>Normal</td>\n",
       "      <td>ausente</td>\n",
       "      <td>112.0</td>\n",
       "      <td>Assintomático</td>\n",
       "      <td>Assintomático</td>\n",
       "      <td>M</td>\n",
       "      <td>6 - Suspeita de cardiopatia</td>\n",
       "      <td>Outro</td>\n",
       "      <td>Normal</td>\n",
       "    </tr>\n",
       "    <tr>\n",
       "      <th>14719</th>\n",
       "      <td>9673</td>\n",
       "      <td>16.7</td>\n",
       "      <td>100</td>\n",
       "      <td>16.700000</td>\n",
       "      <td>3.49</td>\n",
       "      <td>Normais</td>\n",
       "      <td>90.0</td>\n",
       "      <td>60.0</td>\n",
       "      <td>Normal</td>\n",
       "      <td>Normal</td>\n",
       "      <td>ausente</td>\n",
       "      <td>120.0</td>\n",
       "      <td>Assintomático</td>\n",
       "      <td>Assintomático</td>\n",
       "      <td>F</td>\n",
       "      <td>6 - Suspeita de cardiopatia</td>\n",
       "      <td>6 - Dor precordial</td>\n",
       "      <td>Normal</td>\n",
       "    </tr>\n",
       "    <tr>\n",
       "      <th>14723</th>\n",
       "      <td>3249</td>\n",
       "      <td>30.0</td>\n",
       "      <td>113</td>\n",
       "      <td>23.494401</td>\n",
       "      <td>4.97</td>\n",
       "      <td>Normais</td>\n",
       "      <td>105.0</td>\n",
       "      <td>70.0</td>\n",
       "      <td>Pre-Hipertensão PAD</td>\n",
       "      <td>Normal</td>\n",
       "      <td>Sistólico</td>\n",
       "      <td>92.0</td>\n",
       "      <td>Dispneia</td>\n",
       "      <td>Palpitacao</td>\n",
       "      <td>F</td>\n",
       "      <td>6 - Suspeita de cardiopatia</td>\n",
       "      <td>6 - Dispnéia</td>\n",
       "      <td>Anormal</td>\n",
       "    </tr>\n",
       "    <tr>\n",
       "      <th>14724</th>\n",
       "      <td>3207</td>\n",
       "      <td>25.8</td>\n",
       "      <td>130</td>\n",
       "      <td>15.266272</td>\n",
       "      <td>7.69</td>\n",
       "      <td>Normais</td>\n",
       "      <td>90.0</td>\n",
       "      <td>55.0</td>\n",
       "      <td>Normal</td>\n",
       "      <td>Normal</td>\n",
       "      <td>ausente</td>\n",
       "      <td>78.0</td>\n",
       "      <td>Assintomático</td>\n",
       "      <td>Assintomático</td>\n",
       "      <td>M</td>\n",
       "      <td>6 - Suspeita de cardiopatia</td>\n",
       "      <td>6 - Sopro</td>\n",
       "      <td>Normal</td>\n",
       "    </tr>\n",
       "  </tbody>\n",
       "</table>\n",
       "<p>7226 rows × 18 columns</p>\n",
       "</div>"
      ],
      "text/plain": [
       "          Id  Peso  Altura        IMC  IDADE   PULSOS  PA SISTOLICA  \\\n",
       "0      10524  28.0     123  18.507502   5.79  Normais         110.0   \n",
       "2       4483  13.0      87  17.175320   2.21  Normais         100.0   \n",
       "5      15430  45.0     161  17.360441   7.60  Normais         120.0   \n",
       "6       1023  18.5     105  16.780045   3.93  Normais          90.0   \n",
       "8      14309  24.0     112  19.132653   5.27  Normais         100.0   \n",
       "...      ...   ...     ...        ...    ...      ...           ...   \n",
       "14716    390  25.0     110  20.661157   5.15  Normais         100.0   \n",
       "14717  14869  10.0      70  20.408163   0.60  Normais         100.0   \n",
       "14719   9673  16.7     100  16.700000   3.49  Normais          90.0   \n",
       "14723   3249  30.0     113  23.494401   4.97  Normais         105.0   \n",
       "14724   3207  25.8     130  15.266272   7.69  Normais          90.0   \n",
       "\n",
       "       PA DIASTOLICA                  PPA      B2      SOPRO     FC  \\\n",
       "0               80.0            HAS-1 PAD  Normal    ausente  100.0   \n",
       "2               60.0        Não Calculado  Normal  Sistólico  100.0   \n",
       "5               70.0            HAS-1 PAS  Normal    ausente   80.0   \n",
       "6               60.0               Normal  Normal    ausente   92.0   \n",
       "8               60.0               Normal  Normal    ausente  100.0   \n",
       "...              ...                  ...     ...        ...    ...   \n",
       "14716           60.0        Não Calculado  Normal    ausente   92.0   \n",
       "14717           60.0        Não Calculado  Normal    ausente  112.0   \n",
       "14719           60.0               Normal  Normal    ausente  120.0   \n",
       "14723           70.0  Pre-Hipertensão PAD  Normal  Sistólico   92.0   \n",
       "14724           55.0               Normal  Normal    ausente   78.0   \n",
       "\n",
       "               HDA 1           HDA2 SEXO                      MOTIVO1  \\\n",
       "0         Palpitacao  Assintomático    M  6 - Suspeita de cardiopatia   \n",
       "2      Assintomático  Assintomático    M  6 - Suspeita de cardiopatia   \n",
       "5      Assintomático  Assintomático    M     5 - Parecer cardiológico   \n",
       "6      Assintomático  Assintomático    F                    7 - Outro   \n",
       "8              Outro  Assintomático    M  6 - Suspeita de cardiopatia   \n",
       "...              ...            ...  ...                          ...   \n",
       "14716  Assintomático  Assintomático    F     5 - Parecer cardiológico   \n",
       "14717  Assintomático  Assintomático    M  6 - Suspeita de cardiopatia   \n",
       "14719  Assintomático  Assintomático    F  6 - Suspeita de cardiopatia   \n",
       "14723       Dispneia     Palpitacao    F  6 - Suspeita de cardiopatia   \n",
       "14724  Assintomático  Assintomático    M  6 - Suspeita de cardiopatia   \n",
       "\n",
       "                                   MOTIVO2   CLASSE  \n",
       "0      6 - Palpitação/taquicardia/arritmia   Normal  \n",
       "2                                6 - Sopro  Anormal  \n",
       "5                             5 - Cirurgia   Normal  \n",
       "6                                    Outro   Normal  \n",
       "8           6 - HAS/dislipidemia/obesidade   Normal  \n",
       "...                                    ...      ...  \n",
       "14716                         5 - Cirurgia   Normal  \n",
       "14717                                Outro   Normal  \n",
       "14719                   6 - Dor precordial   Normal  \n",
       "14723                         6 - Dispnéia  Anormal  \n",
       "14724                            6 - Sopro   Normal  \n",
       "\n",
       "[7226 rows x 18 columns]"
      ]
     },
     "metadata": {},
     "output_type": "display_data"
    }
   ],
   "source": [
    "display(train_data)"
   ]
  },
  {
   "cell_type": "markdown",
   "metadata": {},
   "source": [
    "Removendo NaN de CLASSE"
   ]
  },
  {
   "cell_type": "code",
   "execution_count": 4928,
   "metadata": {},
   "outputs": [],
   "source": [
    "train_data = train_data.dropna(subset=[\"CLASSE\"])"
   ]
  },
  {
   "cell_type": "code",
   "execution_count": 4929,
   "metadata": {},
   "outputs": [
    {
     "name": "stdout",
     "output_type": "stream",
     "text": [
      "Id               0\n",
      "Peso             0\n",
      "Altura           0\n",
      "IMC              0\n",
      "IDADE            0\n",
      "PULSOS           0\n",
      "PA SISTOLICA     0\n",
      "PA DIASTOLICA    0\n",
      "PPA              0\n",
      "B2               0\n",
      "SOPRO            0\n",
      "FC               0\n",
      "HDA 1            0\n",
      "HDA2             0\n",
      "SEXO             0\n",
      "MOTIVO1          0\n",
      "MOTIVO2          0\n",
      "CLASSE           0\n",
      "dtype: int64\n"
     ]
    },
    {
     "data": {
      "text/html": [
       "<div>\n",
       "<style scoped>\n",
       "    .dataframe tbody tr th:only-of-type {\n",
       "        vertical-align: middle;\n",
       "    }\n",
       "\n",
       "    .dataframe tbody tr th {\n",
       "        vertical-align: top;\n",
       "    }\n",
       "\n",
       "    .dataframe thead th {\n",
       "        text-align: right;\n",
       "    }\n",
       "</style>\n",
       "<table border=\"1\" class=\"dataframe\">\n",
       "  <thead>\n",
       "    <tr style=\"text-align: right;\">\n",
       "      <th></th>\n",
       "      <th>Id</th>\n",
       "      <th>Peso</th>\n",
       "      <th>Altura</th>\n",
       "      <th>IMC</th>\n",
       "      <th>IDADE</th>\n",
       "      <th>PULSOS</th>\n",
       "      <th>PA SISTOLICA</th>\n",
       "      <th>PA DIASTOLICA</th>\n",
       "      <th>PPA</th>\n",
       "      <th>B2</th>\n",
       "      <th>SOPRO</th>\n",
       "      <th>FC</th>\n",
       "      <th>HDA 1</th>\n",
       "      <th>HDA2</th>\n",
       "      <th>SEXO</th>\n",
       "      <th>MOTIVO1</th>\n",
       "      <th>MOTIVO2</th>\n",
       "      <th>CLASSE</th>\n",
       "    </tr>\n",
       "  </thead>\n",
       "  <tbody>\n",
       "    <tr>\n",
       "      <th>0</th>\n",
       "      <td>10524</td>\n",
       "      <td>28.0</td>\n",
       "      <td>123</td>\n",
       "      <td>18.507502</td>\n",
       "      <td>5.79</td>\n",
       "      <td>Normais</td>\n",
       "      <td>110.0</td>\n",
       "      <td>80.0</td>\n",
       "      <td>HAS-1 PAD</td>\n",
       "      <td>Normal</td>\n",
       "      <td>ausente</td>\n",
       "      <td>100.0</td>\n",
       "      <td>Palpitacao</td>\n",
       "      <td>Assintomático</td>\n",
       "      <td>M</td>\n",
       "      <td>6 - Suspeita de cardiopatia</td>\n",
       "      <td>6 - Palpitação/taquicardia/arritmia</td>\n",
       "      <td>Normal</td>\n",
       "    </tr>\n",
       "    <tr>\n",
       "      <th>2</th>\n",
       "      <td>4483</td>\n",
       "      <td>13.0</td>\n",
       "      <td>87</td>\n",
       "      <td>17.175320</td>\n",
       "      <td>2.21</td>\n",
       "      <td>Normais</td>\n",
       "      <td>100.0</td>\n",
       "      <td>60.0</td>\n",
       "      <td>Não Calculado</td>\n",
       "      <td>Normal</td>\n",
       "      <td>Sistólico</td>\n",
       "      <td>100.0</td>\n",
       "      <td>Assintomático</td>\n",
       "      <td>Assintomático</td>\n",
       "      <td>M</td>\n",
       "      <td>6 - Suspeita de cardiopatia</td>\n",
       "      <td>6 - Sopro</td>\n",
       "      <td>Anormal</td>\n",
       "    </tr>\n",
       "    <tr>\n",
       "      <th>5</th>\n",
       "      <td>15430</td>\n",
       "      <td>45.0</td>\n",
       "      <td>161</td>\n",
       "      <td>17.360441</td>\n",
       "      <td>7.60</td>\n",
       "      <td>Normais</td>\n",
       "      <td>120.0</td>\n",
       "      <td>70.0</td>\n",
       "      <td>HAS-1 PAS</td>\n",
       "      <td>Normal</td>\n",
       "      <td>ausente</td>\n",
       "      <td>80.0</td>\n",
       "      <td>Assintomático</td>\n",
       "      <td>Assintomático</td>\n",
       "      <td>M</td>\n",
       "      <td>5 - Parecer cardiológico</td>\n",
       "      <td>5 - Cirurgia</td>\n",
       "      <td>Normal</td>\n",
       "    </tr>\n",
       "    <tr>\n",
       "      <th>6</th>\n",
       "      <td>1023</td>\n",
       "      <td>18.5</td>\n",
       "      <td>105</td>\n",
       "      <td>16.780045</td>\n",
       "      <td>3.93</td>\n",
       "      <td>Normais</td>\n",
       "      <td>90.0</td>\n",
       "      <td>60.0</td>\n",
       "      <td>Normal</td>\n",
       "      <td>Normal</td>\n",
       "      <td>ausente</td>\n",
       "      <td>92.0</td>\n",
       "      <td>Assintomático</td>\n",
       "      <td>Assintomático</td>\n",
       "      <td>F</td>\n",
       "      <td>7 - Outro</td>\n",
       "      <td>Outro</td>\n",
       "      <td>Normal</td>\n",
       "    </tr>\n",
       "    <tr>\n",
       "      <th>8</th>\n",
       "      <td>14309</td>\n",
       "      <td>24.0</td>\n",
       "      <td>112</td>\n",
       "      <td>19.132653</td>\n",
       "      <td>5.27</td>\n",
       "      <td>Normais</td>\n",
       "      <td>100.0</td>\n",
       "      <td>60.0</td>\n",
       "      <td>Normal</td>\n",
       "      <td>Normal</td>\n",
       "      <td>ausente</td>\n",
       "      <td>100.0</td>\n",
       "      <td>Outro</td>\n",
       "      <td>Assintomático</td>\n",
       "      <td>M</td>\n",
       "      <td>6 - Suspeita de cardiopatia</td>\n",
       "      <td>6 - HAS/dislipidemia/obesidade</td>\n",
       "      <td>Normal</td>\n",
       "    </tr>\n",
       "    <tr>\n",
       "      <th>...</th>\n",
       "      <td>...</td>\n",
       "      <td>...</td>\n",
       "      <td>...</td>\n",
       "      <td>...</td>\n",
       "      <td>...</td>\n",
       "      <td>...</td>\n",
       "      <td>...</td>\n",
       "      <td>...</td>\n",
       "      <td>...</td>\n",
       "      <td>...</td>\n",
       "      <td>...</td>\n",
       "      <td>...</td>\n",
       "      <td>...</td>\n",
       "      <td>...</td>\n",
       "      <td>...</td>\n",
       "      <td>...</td>\n",
       "      <td>...</td>\n",
       "      <td>...</td>\n",
       "    </tr>\n",
       "    <tr>\n",
       "      <th>14716</th>\n",
       "      <td>390</td>\n",
       "      <td>25.0</td>\n",
       "      <td>110</td>\n",
       "      <td>20.661157</td>\n",
       "      <td>5.15</td>\n",
       "      <td>Normais</td>\n",
       "      <td>100.0</td>\n",
       "      <td>60.0</td>\n",
       "      <td>Não Calculado</td>\n",
       "      <td>Normal</td>\n",
       "      <td>ausente</td>\n",
       "      <td>92.0</td>\n",
       "      <td>Assintomático</td>\n",
       "      <td>Assintomático</td>\n",
       "      <td>F</td>\n",
       "      <td>5 - Parecer cardiológico</td>\n",
       "      <td>5 - Cirurgia</td>\n",
       "      <td>Normal</td>\n",
       "    </tr>\n",
       "    <tr>\n",
       "      <th>14717</th>\n",
       "      <td>14869</td>\n",
       "      <td>10.0</td>\n",
       "      <td>70</td>\n",
       "      <td>20.408163</td>\n",
       "      <td>0.60</td>\n",
       "      <td>Normais</td>\n",
       "      <td>100.0</td>\n",
       "      <td>60.0</td>\n",
       "      <td>Não Calculado</td>\n",
       "      <td>Normal</td>\n",
       "      <td>ausente</td>\n",
       "      <td>112.0</td>\n",
       "      <td>Assintomático</td>\n",
       "      <td>Assintomático</td>\n",
       "      <td>M</td>\n",
       "      <td>6 - Suspeita de cardiopatia</td>\n",
       "      <td>Outro</td>\n",
       "      <td>Normal</td>\n",
       "    </tr>\n",
       "    <tr>\n",
       "      <th>14719</th>\n",
       "      <td>9673</td>\n",
       "      <td>16.7</td>\n",
       "      <td>100</td>\n",
       "      <td>16.700000</td>\n",
       "      <td>3.49</td>\n",
       "      <td>Normais</td>\n",
       "      <td>90.0</td>\n",
       "      <td>60.0</td>\n",
       "      <td>Normal</td>\n",
       "      <td>Normal</td>\n",
       "      <td>ausente</td>\n",
       "      <td>120.0</td>\n",
       "      <td>Assintomático</td>\n",
       "      <td>Assintomático</td>\n",
       "      <td>F</td>\n",
       "      <td>6 - Suspeita de cardiopatia</td>\n",
       "      <td>6 - Dor precordial</td>\n",
       "      <td>Normal</td>\n",
       "    </tr>\n",
       "    <tr>\n",
       "      <th>14723</th>\n",
       "      <td>3249</td>\n",
       "      <td>30.0</td>\n",
       "      <td>113</td>\n",
       "      <td>23.494401</td>\n",
       "      <td>4.97</td>\n",
       "      <td>Normais</td>\n",
       "      <td>105.0</td>\n",
       "      <td>70.0</td>\n",
       "      <td>Pre-Hipertensão PAD</td>\n",
       "      <td>Normal</td>\n",
       "      <td>Sistólico</td>\n",
       "      <td>92.0</td>\n",
       "      <td>Dispneia</td>\n",
       "      <td>Palpitacao</td>\n",
       "      <td>F</td>\n",
       "      <td>6 - Suspeita de cardiopatia</td>\n",
       "      <td>6 - Dispnéia</td>\n",
       "      <td>Anormal</td>\n",
       "    </tr>\n",
       "    <tr>\n",
       "      <th>14724</th>\n",
       "      <td>3207</td>\n",
       "      <td>25.8</td>\n",
       "      <td>130</td>\n",
       "      <td>15.266272</td>\n",
       "      <td>7.69</td>\n",
       "      <td>Normais</td>\n",
       "      <td>90.0</td>\n",
       "      <td>55.0</td>\n",
       "      <td>Normal</td>\n",
       "      <td>Normal</td>\n",
       "      <td>ausente</td>\n",
       "      <td>78.0</td>\n",
       "      <td>Assintomático</td>\n",
       "      <td>Assintomático</td>\n",
       "      <td>M</td>\n",
       "      <td>6 - Suspeita de cardiopatia</td>\n",
       "      <td>6 - Sopro</td>\n",
       "      <td>Normal</td>\n",
       "    </tr>\n",
       "  </tbody>\n",
       "</table>\n",
       "<p>7215 rows × 18 columns</p>\n",
       "</div>"
      ],
      "text/plain": [
       "          Id  Peso  Altura        IMC  IDADE   PULSOS  PA SISTOLICA  \\\n",
       "0      10524  28.0     123  18.507502   5.79  Normais         110.0   \n",
       "2       4483  13.0      87  17.175320   2.21  Normais         100.0   \n",
       "5      15430  45.0     161  17.360441   7.60  Normais         120.0   \n",
       "6       1023  18.5     105  16.780045   3.93  Normais          90.0   \n",
       "8      14309  24.0     112  19.132653   5.27  Normais         100.0   \n",
       "...      ...   ...     ...        ...    ...      ...           ...   \n",
       "14716    390  25.0     110  20.661157   5.15  Normais         100.0   \n",
       "14717  14869  10.0      70  20.408163   0.60  Normais         100.0   \n",
       "14719   9673  16.7     100  16.700000   3.49  Normais          90.0   \n",
       "14723   3249  30.0     113  23.494401   4.97  Normais         105.0   \n",
       "14724   3207  25.8     130  15.266272   7.69  Normais          90.0   \n",
       "\n",
       "       PA DIASTOLICA                  PPA      B2      SOPRO     FC  \\\n",
       "0               80.0            HAS-1 PAD  Normal    ausente  100.0   \n",
       "2               60.0        Não Calculado  Normal  Sistólico  100.0   \n",
       "5               70.0            HAS-1 PAS  Normal    ausente   80.0   \n",
       "6               60.0               Normal  Normal    ausente   92.0   \n",
       "8               60.0               Normal  Normal    ausente  100.0   \n",
       "...              ...                  ...     ...        ...    ...   \n",
       "14716           60.0        Não Calculado  Normal    ausente   92.0   \n",
       "14717           60.0        Não Calculado  Normal    ausente  112.0   \n",
       "14719           60.0               Normal  Normal    ausente  120.0   \n",
       "14723           70.0  Pre-Hipertensão PAD  Normal  Sistólico   92.0   \n",
       "14724           55.0               Normal  Normal    ausente   78.0   \n",
       "\n",
       "               HDA 1           HDA2 SEXO                      MOTIVO1  \\\n",
       "0         Palpitacao  Assintomático    M  6 - Suspeita de cardiopatia   \n",
       "2      Assintomático  Assintomático    M  6 - Suspeita de cardiopatia   \n",
       "5      Assintomático  Assintomático    M     5 - Parecer cardiológico   \n",
       "6      Assintomático  Assintomático    F                    7 - Outro   \n",
       "8              Outro  Assintomático    M  6 - Suspeita de cardiopatia   \n",
       "...              ...            ...  ...                          ...   \n",
       "14716  Assintomático  Assintomático    F     5 - Parecer cardiológico   \n",
       "14717  Assintomático  Assintomático    M  6 - Suspeita de cardiopatia   \n",
       "14719  Assintomático  Assintomático    F  6 - Suspeita de cardiopatia   \n",
       "14723       Dispneia     Palpitacao    F  6 - Suspeita de cardiopatia   \n",
       "14724  Assintomático  Assintomático    M  6 - Suspeita de cardiopatia   \n",
       "\n",
       "                                   MOTIVO2   CLASSE  \n",
       "0      6 - Palpitação/taquicardia/arritmia   Normal  \n",
       "2                                6 - Sopro  Anormal  \n",
       "5                             5 - Cirurgia   Normal  \n",
       "6                                    Outro   Normal  \n",
       "8           6 - HAS/dislipidemia/obesidade   Normal  \n",
       "...                                    ...      ...  \n",
       "14716                         5 - Cirurgia   Normal  \n",
       "14717                                Outro   Normal  \n",
       "14719                   6 - Dor precordial   Normal  \n",
       "14723                         6 - Dispnéia  Anormal  \n",
       "14724                            6 - Sopro   Normal  \n",
       "\n",
       "[7215 rows x 18 columns]"
      ]
     },
     "metadata": {},
     "output_type": "display_data"
    }
   ],
   "source": [
    "print(train_data.isna().sum())\n",
    "display(train_data)"
   ]
  },
  {
   "cell_type": "markdown",
   "metadata": {},
   "source": [
    "#### Com os dados de treino já tratados, agora iremos lidar com os dados de teste"
   ]
  },
  {
   "cell_type": "markdown",
   "metadata": {},
   "source": [
    "Carregando os dados teste"
   ]
  },
  {
   "cell_type": "code",
   "execution_count": 4930,
   "metadata": {},
   "outputs": [
    {
     "data": {
      "text/html": [
       "<div>\n",
       "<style scoped>\n",
       "    .dataframe tbody tr th:only-of-type {\n",
       "        vertical-align: middle;\n",
       "    }\n",
       "\n",
       "    .dataframe tbody tr th {\n",
       "        vertical-align: top;\n",
       "    }\n",
       "\n",
       "    .dataframe thead th {\n",
       "        text-align: right;\n",
       "    }\n",
       "</style>\n",
       "<table border=\"1\" class=\"dataframe\">\n",
       "  <thead>\n",
       "    <tr style=\"text-align: right;\">\n",
       "      <th></th>\n",
       "      <th>Id</th>\n",
       "      <th>Peso</th>\n",
       "      <th>Altura</th>\n",
       "      <th>IMC</th>\n",
       "      <th>Atendimento</th>\n",
       "      <th>DN</th>\n",
       "      <th>IDADE</th>\n",
       "      <th>Convenio</th>\n",
       "      <th>PULSOS</th>\n",
       "      <th>PA SISTOLICA</th>\n",
       "      <th>PA DIASTOLICA</th>\n",
       "      <th>PPA</th>\n",
       "      <th>B2</th>\n",
       "      <th>SOPRO</th>\n",
       "      <th>FC</th>\n",
       "      <th>HDA 1</th>\n",
       "      <th>HDA2</th>\n",
       "      <th>SEXO</th>\n",
       "      <th>MOTIVO1</th>\n",
       "      <th>MOTIVO2</th>\n",
       "    </tr>\n",
       "  </thead>\n",
       "  <tbody>\n",
       "    <tr>\n",
       "      <th>0</th>\n",
       "      <td>8957</td>\n",
       "      <td>4.5</td>\n",
       "      <td>54</td>\n",
       "      <td>15.0</td>\n",
       "      <td>03/08/09</td>\n",
       "      <td>11/06/09</td>\n",
       "      <td>0.15</td>\n",
       "      <td>NaN</td>\n",
       "      <td>Normais</td>\n",
       "      <td>NaN</td>\n",
       "      <td>NaN</td>\n",
       "      <td>Não Calculado</td>\n",
       "      <td>Normal</td>\n",
       "      <td>ausente</td>\n",
       "      <td>110</td>\n",
       "      <td>Dispneia</td>\n",
       "      <td>Outro</td>\n",
       "      <td>F</td>\n",
       "      <td>2 - Check-up</td>\n",
       "      <td>NaN</td>\n",
       "    </tr>\n",
       "    <tr>\n",
       "      <th>1</th>\n",
       "      <td>4246</td>\n",
       "      <td>42.4</td>\n",
       "      <td>150</td>\n",
       "      <td>19.0</td>\n",
       "      <td>23/02/06</td>\n",
       "      <td>03/03/94</td>\n",
       "      <td>12.43</td>\n",
       "      <td>MEDISE</td>\n",
       "      <td>Normais</td>\n",
       "      <td>NaN</td>\n",
       "      <td>NaN</td>\n",
       "      <td>Não Calculado</td>\n",
       "      <td>Normal</td>\n",
       "      <td>ausente</td>\n",
       "      <td>84</td>\n",
       "      <td>Assintomático</td>\n",
       "      <td>NaN</td>\n",
       "      <td>M</td>\n",
       "      <td>5 - Parecer cardiológico</td>\n",
       "      <td>5 - Atividade física</td>\n",
       "    </tr>\n",
       "    <tr>\n",
       "      <th>2</th>\n",
       "      <td>9089</td>\n",
       "      <td>18.1</td>\n",
       "      <td>104</td>\n",
       "      <td>17.0</td>\n",
       "      <td>16/10/07</td>\n",
       "      <td>08/02/04</td>\n",
       "      <td>3.82</td>\n",
       "      <td>CAMED</td>\n",
       "      <td>Normais</td>\n",
       "      <td>130.0</td>\n",
       "      <td>90.0</td>\n",
       "      <td>HAS-2 PAS</td>\n",
       "      <td>Normal</td>\n",
       "      <td>ausente</td>\n",
       "      <td>100</td>\n",
       "      <td>Cianose</td>\n",
       "      <td>NaN</td>\n",
       "      <td>M</td>\n",
       "      <td>5 - Parecer cardiológico</td>\n",
       "      <td>NaN</td>\n",
       "    </tr>\n",
       "    <tr>\n",
       "      <th>3</th>\n",
       "      <td>10606</td>\n",
       "      <td>7.7</td>\n",
       "      <td>0</td>\n",
       "      <td>NaN</td>\n",
       "      <td>09/08/04</td>\n",
       "      <td>27/11/03</td>\n",
       "      <td>0.73</td>\n",
       "      <td>SULA</td>\n",
       "      <td>Normais</td>\n",
       "      <td>NaN</td>\n",
       "      <td>NaN</td>\n",
       "      <td>Não Calculado</td>\n",
       "      <td>Normal</td>\n",
       "      <td>ausente</td>\n",
       "      <td>98</td>\n",
       "      <td>Assintomático</td>\n",
       "      <td>NaN</td>\n",
       "      <td>F</td>\n",
       "      <td>1 - Cardiopatia já estabelecida</td>\n",
       "      <td>1 - Cardiopatia congenica</td>\n",
       "    </tr>\n",
       "    <tr>\n",
       "      <th>4</th>\n",
       "      <td>9863</td>\n",
       "      <td>16.0</td>\n",
       "      <td>0</td>\n",
       "      <td>NaN</td>\n",
       "      <td>04/07/08</td>\n",
       "      <td>29/08/04</td>\n",
       "      <td>3.99</td>\n",
       "      <td>NORCLIN.</td>\n",
       "      <td>Normais</td>\n",
       "      <td>NaN</td>\n",
       "      <td>NaN</td>\n",
       "      <td>Não Calculado</td>\n",
       "      <td>Normal</td>\n",
       "      <td>ausente</td>\n",
       "      <td>90</td>\n",
       "      <td>Assintomático</td>\n",
       "      <td>NaN</td>\n",
       "      <td>F</td>\n",
       "      <td>5 - Parecer cardiológico</td>\n",
       "      <td>5 - Cirurgia</td>\n",
       "    </tr>\n",
       "    <tr>\n",
       "      <th>...</th>\n",
       "      <td>...</td>\n",
       "      <td>...</td>\n",
       "      <td>...</td>\n",
       "      <td>...</td>\n",
       "      <td>...</td>\n",
       "      <td>...</td>\n",
       "      <td>...</td>\n",
       "      <td>...</td>\n",
       "      <td>...</td>\n",
       "      <td>...</td>\n",
       "      <td>...</td>\n",
       "      <td>...</td>\n",
       "      <td>...</td>\n",
       "      <td>...</td>\n",
       "      <td>...</td>\n",
       "      <td>...</td>\n",
       "      <td>...</td>\n",
       "      <td>...</td>\n",
       "      <td>...</td>\n",
       "      <td>...</td>\n",
       "    </tr>\n",
       "    <tr>\n",
       "      <th>3141</th>\n",
       "      <td>14053</td>\n",
       "      <td>0.0</td>\n",
       "      <td>0</td>\n",
       "      <td>NaN</td>\n",
       "      <td>16/09/09</td>\n",
       "      <td>19/04/02</td>\n",
       "      <td>7.69</td>\n",
       "      <td>FUSEX</td>\n",
       "      <td>Normais</td>\n",
       "      <td>100.0</td>\n",
       "      <td>70.0</td>\n",
       "      <td>Não Calculado</td>\n",
       "      <td>Normal</td>\n",
       "      <td>ausente</td>\n",
       "      <td>72</td>\n",
       "      <td>NaN</td>\n",
       "      <td>NaN</td>\n",
       "      <td>M</td>\n",
       "      <td>2 - Check-up</td>\n",
       "      <td>NaN</td>\n",
       "    </tr>\n",
       "    <tr>\n",
       "      <th>3142</th>\n",
       "      <td>9000</td>\n",
       "      <td>0.0</td>\n",
       "      <td>0</td>\n",
       "      <td>NaN</td>\n",
       "      <td>12/01/05</td>\n",
       "      <td>06/11/95</td>\n",
       "      <td>9.529999999999999</td>\n",
       "      <td>GS</td>\n",
       "      <td>Normais</td>\n",
       "      <td>90.0</td>\n",
       "      <td>50.0</td>\n",
       "      <td>Não Calculado</td>\n",
       "      <td>Normal</td>\n",
       "      <td>Sistólico</td>\n",
       "      <td>82</td>\n",
       "      <td>Dor precordial</td>\n",
       "      <td>NaN</td>\n",
       "      <td>F</td>\n",
       "      <td>6 - Suspeita de cardiopatia</td>\n",
       "      <td>6 - Dor precordial</td>\n",
       "    </tr>\n",
       "    <tr>\n",
       "      <th>3143</th>\n",
       "      <td>14643</td>\n",
       "      <td>46.0</td>\n",
       "      <td>151</td>\n",
       "      <td>20.0</td>\n",
       "      <td>18/02/04</td>\n",
       "      <td>20/10/90</td>\n",
       "      <td>13.83</td>\n",
       "      <td>UR</td>\n",
       "      <td>Normais</td>\n",
       "      <td>120.0</td>\n",
       "      <td>60.0</td>\n",
       "      <td>Normal</td>\n",
       "      <td>Normal</td>\n",
       "      <td>Sistólico</td>\n",
       "      <td>96</td>\n",
       "      <td>Dispneia</td>\n",
       "      <td>NaN</td>\n",
       "      <td>F</td>\n",
       "      <td>6 - Suspeita de cardiopatia</td>\n",
       "      <td>6 - Dor precordial</td>\n",
       "    </tr>\n",
       "    <tr>\n",
       "      <th>3144</th>\n",
       "      <td>15107</td>\n",
       "      <td>NaN</td>\n",
       "      <td>50</td>\n",
       "      <td>NaN</td>\n",
       "      <td>05/09/06</td>\n",
       "      <td>04/09/06</td>\n",
       "      <td>0</td>\n",
       "      <td>GS</td>\n",
       "      <td>Normais</td>\n",
       "      <td>NaN</td>\n",
       "      <td>NaN</td>\n",
       "      <td>Não Calculado</td>\n",
       "      <td>Normal</td>\n",
       "      <td>Sistólico</td>\n",
       "      <td>133</td>\n",
       "      <td>NaN</td>\n",
       "      <td>NaN</td>\n",
       "      <td>Indeterminado</td>\n",
       "      <td>6 - Suspeita de cardiopatia</td>\n",
       "      <td>6 - Sopro</td>\n",
       "    </tr>\n",
       "    <tr>\n",
       "      <th>3145</th>\n",
       "      <td>14963</td>\n",
       "      <td>27.0</td>\n",
       "      <td>123</td>\n",
       "      <td>18.0</td>\n",
       "      <td>10/06/04</td>\n",
       "      <td>16/03/97</td>\n",
       "      <td>7.51</td>\n",
       "      <td>SULA</td>\n",
       "      <td>Normais</td>\n",
       "      <td>100.0</td>\n",
       "      <td>60.0</td>\n",
       "      <td>Normal</td>\n",
       "      <td>Normal</td>\n",
       "      <td>ausente</td>\n",
       "      <td>92</td>\n",
       "      <td>Assintomático</td>\n",
       "      <td>NaN</td>\n",
       "      <td>M</td>\n",
       "      <td>5 - Parecer cardiológico</td>\n",
       "      <td>5 - Cirurgia</td>\n",
       "    </tr>\n",
       "  </tbody>\n",
       "</table>\n",
       "<p>3146 rows × 20 columns</p>\n",
       "</div>"
      ],
      "text/plain": [
       "         Id  Peso  Altura   IMC Atendimento        DN              IDADE  \\\n",
       "0      8957   4.5      54  15.0    03/08/09  11/06/09               0.15   \n",
       "1      4246  42.4     150  19.0    23/02/06  03/03/94              12.43   \n",
       "2      9089  18.1     104  17.0    16/10/07  08/02/04               3.82   \n",
       "3     10606   7.7       0   NaN    09/08/04  27/11/03               0.73   \n",
       "4      9863  16.0       0   NaN    04/07/08  29/08/04               3.99   \n",
       "...     ...   ...     ...   ...         ...       ...                ...   \n",
       "3141  14053   0.0       0   NaN    16/09/09  19/04/02               7.69   \n",
       "3142   9000   0.0       0   NaN    12/01/05  06/11/95  9.529999999999999   \n",
       "3143  14643  46.0     151  20.0    18/02/04  20/10/90              13.83   \n",
       "3144  15107   NaN      50   NaN    05/09/06  04/09/06                  0   \n",
       "3145  14963  27.0     123  18.0    10/06/04  16/03/97               7.51   \n",
       "\n",
       "      Convenio   PULSOS  PA SISTOLICA  PA DIASTOLICA            PPA      B2  \\\n",
       "0          NaN  Normais           NaN            NaN  Não Calculado  Normal   \n",
       "1       MEDISE  Normais           NaN            NaN  Não Calculado  Normal   \n",
       "2        CAMED  Normais         130.0           90.0      HAS-2 PAS  Normal   \n",
       "3         SULA  Normais           NaN            NaN  Não Calculado  Normal   \n",
       "4     NORCLIN.  Normais           NaN            NaN  Não Calculado  Normal   \n",
       "...        ...      ...           ...            ...            ...     ...   \n",
       "3141     FUSEX  Normais         100.0           70.0  Não Calculado  Normal   \n",
       "3142        GS  Normais          90.0           50.0  Não Calculado  Normal   \n",
       "3143        UR  Normais         120.0           60.0         Normal  Normal   \n",
       "3144        GS  Normais           NaN            NaN  Não Calculado  Normal   \n",
       "3145      SULA  Normais         100.0           60.0         Normal  Normal   \n",
       "\n",
       "          SOPRO   FC           HDA 1   HDA2           SEXO  \\\n",
       "0       ausente  110        Dispneia  Outro              F   \n",
       "1       ausente   84   Assintomático    NaN              M   \n",
       "2       ausente  100         Cianose    NaN              M   \n",
       "3       ausente   98   Assintomático    NaN              F   \n",
       "4       ausente   90   Assintomático    NaN              F   \n",
       "...         ...  ...             ...    ...            ...   \n",
       "3141    ausente   72             NaN    NaN              M   \n",
       "3142  Sistólico   82  Dor precordial    NaN              F   \n",
       "3143  Sistólico   96        Dispneia    NaN              F   \n",
       "3144  Sistólico  133             NaN    NaN  Indeterminado   \n",
       "3145    ausente   92   Assintomático    NaN              M   \n",
       "\n",
       "                              MOTIVO1                    MOTIVO2  \n",
       "0                        2 - Check-up                        NaN  \n",
       "1            5 - Parecer cardiológico       5 - Atividade física  \n",
       "2            5 - Parecer cardiológico                        NaN  \n",
       "3     1 - Cardiopatia já estabelecida  1 - Cardiopatia congenica  \n",
       "4            5 - Parecer cardiológico               5 - Cirurgia  \n",
       "...                               ...                        ...  \n",
       "3141                     2 - Check-up                        NaN  \n",
       "3142      6 - Suspeita de cardiopatia         6 - Dor precordial  \n",
       "3143      6 - Suspeita de cardiopatia         6 - Dor precordial  \n",
       "3144      6 - Suspeita de cardiopatia                  6 - Sopro  \n",
       "3145         5 - Parecer cardiológico               5 - Cirurgia  \n",
       "\n",
       "[3146 rows x 20 columns]"
      ]
     },
     "metadata": {},
     "output_type": "display_data"
    }
   ],
   "source": [
    "\n",
    "test_data = pd.read_csv(\"./data/test.csv\")\n",
    "data2 = pd.read_csv(\"./data/RHP_data.csv\")\n",
    "\n",
    "test_data = data2.merge(test_data, on=\"Id\", how=\"right\")\n",
    "\n",
    "display(test_data)"
   ]
  },
  {
   "cell_type": "markdown",
   "metadata": {},
   "source": [
    "Convertendo as colunas FC e IDADE para numericos"
   ]
  },
  {
   "cell_type": "code",
   "execution_count": 4931,
   "metadata": {},
   "outputs": [],
   "source": [
    "converter_numeric(test_data, \"FC\")\n",
    "converter_numeric(test_data, \"IDADE\")"
   ]
  },
  {
   "cell_type": "markdown",
   "metadata": {},
   "source": [
    "Printando as medidas descritivas para análise"
   ]
  },
  {
   "cell_type": "code",
   "execution_count": 4932,
   "metadata": {},
   "outputs": [
    {
     "data": {
      "text/html": [
       "<div>\n",
       "<style scoped>\n",
       "    .dataframe tbody tr th:only-of-type {\n",
       "        vertical-align: middle;\n",
       "    }\n",
       "\n",
       "    .dataframe tbody tr th {\n",
       "        vertical-align: top;\n",
       "    }\n",
       "\n",
       "    .dataframe thead th {\n",
       "        text-align: right;\n",
       "    }\n",
       "</style>\n",
       "<table border=\"1\" class=\"dataframe\">\n",
       "  <thead>\n",
       "    <tr style=\"text-align: right;\">\n",
       "      <th></th>\n",
       "      <th>Id</th>\n",
       "      <th>Peso</th>\n",
       "      <th>Altura</th>\n",
       "      <th>IMC</th>\n",
       "      <th>IDADE</th>\n",
       "      <th>PA SISTOLICA</th>\n",
       "      <th>PA DIASTOLICA</th>\n",
       "      <th>FC</th>\n",
       "    </tr>\n",
       "  </thead>\n",
       "  <tbody>\n",
       "    <tr>\n",
       "      <th>count</th>\n",
       "      <td>3146.000000</td>\n",
       "      <td>3088.000000</td>\n",
       "      <td>3146.000000</td>\n",
       "      <td>2436.000000</td>\n",
       "      <td>3146.000000</td>\n",
       "      <td>1911.000000</td>\n",
       "      <td>1911.000000</td>\n",
       "      <td>2999.000000</td>\n",
       "    </tr>\n",
       "    <tr>\n",
       "      <th>mean</th>\n",
       "      <td>8893.254291</td>\n",
       "      <td>22.026231</td>\n",
       "      <td>88.050223</td>\n",
       "      <td>17.867406</td>\n",
       "      <td>6.186538</td>\n",
       "      <td>100.962323</td>\n",
       "      <td>62.006279</td>\n",
       "      <td>92.593198</td>\n",
       "    </tr>\n",
       "    <tr>\n",
       "      <th>std</th>\n",
       "      <td>5122.239610</td>\n",
       "      <td>17.422042</td>\n",
       "      <td>54.264037</td>\n",
       "      <td>15.284035</td>\n",
       "      <td>4.573168</td>\n",
       "      <td>17.553885</td>\n",
       "      <td>8.592640</td>\n",
       "      <td>22.563362</td>\n",
       "    </tr>\n",
       "    <tr>\n",
       "      <th>min</th>\n",
       "      <td>1.000000</td>\n",
       "      <td>0.000000</td>\n",
       "      <td>0.000000</td>\n",
       "      <td>0.000000</td>\n",
       "      <td>0.000000</td>\n",
       "      <td>70.000000</td>\n",
       "      <td>35.000000</td>\n",
       "      <td>8.000000</td>\n",
       "    </tr>\n",
       "    <tr>\n",
       "      <th>25%</th>\n",
       "      <td>4507.750000</td>\n",
       "      <td>9.000000</td>\n",
       "      <td>51.000000</td>\n",
       "      <td>15.000000</td>\n",
       "      <td>2.340000</td>\n",
       "      <td>90.000000</td>\n",
       "      <td>60.000000</td>\n",
       "      <td>80.000000</td>\n",
       "    </tr>\n",
       "    <tr>\n",
       "      <th>50%</th>\n",
       "      <td>9002.500000</td>\n",
       "      <td>18.500000</td>\n",
       "      <td>102.000000</td>\n",
       "      <td>17.000000</td>\n",
       "      <td>5.480000</td>\n",
       "      <td>100.000000</td>\n",
       "      <td>60.000000</td>\n",
       "      <td>90.000000</td>\n",
       "    </tr>\n",
       "    <tr>\n",
       "      <th>75%</th>\n",
       "      <td>13236.750000</td>\n",
       "      <td>32.000000</td>\n",
       "      <td>130.000000</td>\n",
       "      <td>19.000000</td>\n",
       "      <td>9.847500</td>\n",
       "      <td>105.000000</td>\n",
       "      <td>68.000000</td>\n",
       "      <td>100.000000</td>\n",
       "    </tr>\n",
       "    <tr>\n",
       "      <th>max</th>\n",
       "      <td>17870.000000</td>\n",
       "      <td>157.000000</td>\n",
       "      <td>197.000000</td>\n",
       "      <td>742.000000</td>\n",
       "      <td>17.990000</td>\n",
       "      <td>700.000000</td>\n",
       "      <td>110.000000</td>\n",
       "      <td>900.000000</td>\n",
       "    </tr>\n",
       "  </tbody>\n",
       "</table>\n",
       "</div>"
      ],
      "text/plain": [
       "                 Id         Peso       Altura          IMC        IDADE  \\\n",
       "count   3146.000000  3088.000000  3146.000000  2436.000000  3146.000000   \n",
       "mean    8893.254291    22.026231    88.050223    17.867406     6.186538   \n",
       "std     5122.239610    17.422042    54.264037    15.284035     4.573168   \n",
       "min        1.000000     0.000000     0.000000     0.000000     0.000000   \n",
       "25%     4507.750000     9.000000    51.000000    15.000000     2.340000   \n",
       "50%     9002.500000    18.500000   102.000000    17.000000     5.480000   \n",
       "75%    13236.750000    32.000000   130.000000    19.000000     9.847500   \n",
       "max    17870.000000   157.000000   197.000000   742.000000    17.990000   \n",
       "\n",
       "       PA SISTOLICA  PA DIASTOLICA           FC  \n",
       "count   1911.000000    1911.000000  2999.000000  \n",
       "mean     100.962323      62.006279    92.593198  \n",
       "std       17.553885       8.592640    22.563362  \n",
       "min       70.000000      35.000000     8.000000  \n",
       "25%       90.000000      60.000000    80.000000  \n",
       "50%      100.000000      60.000000    90.000000  \n",
       "75%      105.000000      68.000000   100.000000  \n",
       "max      700.000000     110.000000   900.000000  "
      ]
     },
     "metadata": {},
     "output_type": "display_data"
    }
   ],
   "source": [
    "display(test_data.describe())"
   ]
  },
  {
   "cell_type": "markdown",
   "metadata": {},
   "source": [
    "Substituindo valores NaN em PA DIASTOLICA, PA SISTOLICA e FC pela mediana, devido à grande ao alto desvio padrão"
   ]
  },
  {
   "cell_type": "markdown",
   "metadata": {},
   "source": [
    "Substituindo os valores NaN por suas mediana, devido ao alto desvio padrão quando se comparado com suas amplitudes"
   ]
  },
  {
   "cell_type": "code",
   "execution_count": 4933,
   "metadata": {},
   "outputs": [],
   "source": [
    "test_data[\"PA DIASTOLICA\"] = fill_na_mediana(test_data, \"PA DIASTOLICA\")\n",
    "test_data[\"PA SISTOLICA\"] = fill_na_mediana(test_data, \"PA SISTOLICA\")\n",
    "test_data[\"FC\"] = fill_na_mediana(test_data, \"FC\")"
   ]
  },
  {
   "cell_type": "code",
   "execution_count": 4934,
   "metadata": {},
   "outputs": [],
   "source": [
    "test_data[\"Peso\"] = fill_na_mediana(test_data, \"Peso\")\n",
    "test_data[\"Altura\"] = fill_na_mediana(test_data, \"Altura\")\n",
    "test_data[\"IDADE\"] = fill_na_mediana(test_data, \"IDADE\")"
   ]
  },
  {
   "cell_type": "markdown",
   "metadata": {},
   "source": [
    "Plotando os gráficos de peso e altura para analisar os valores"
   ]
  },
  {
   "cell_type": "code",
   "execution_count": 4935,
   "metadata": {},
   "outputs": [
    {
     "data": {
      "image/png": "[encoded data removed]",
      "text/plain": [
       "<Figure size 576x576 with 1 Axes>"
      ]
     },
     "metadata": {
      "needs_background": "light"
     },
     "output_type": "display_data"
    }
   ],
   "source": [
    "plotar_boxplot(test_data, \"Peso\", \"SEXO\")"
   ]
  },
  {
   "cell_type": "code",
   "execution_count": 4936,
   "metadata": {},
   "outputs": [
    {
     "data": {
      "image/png": "[encoded data removed]",
      "text/plain": [
       "<Figure size 576x576 with 1 Axes>"
      ]
     },
     "metadata": {
      "needs_background": "light"
     },
     "output_type": "display_data"
    }
   ],
   "source": [
    "plotar_boxplot(test_data, 'Altura', 'SEXO')"
   ]
  },
  {
   "cell_type": "markdown",
   "metadata": {},
   "source": [
    "Plotando os boxplots de Peso e altura, notou-se a necessidade de lidar com valores irregulares, como pesos com valor zero e alturas com valor menor que 50"
   ]
  },
  {
   "cell_type": "code",
   "execution_count": 4937,
   "metadata": {},
   "outputs": [],
   "source": [
    "test_data[\"Peso\"] = test_data[\"Peso\"].replace(0, test_data[\"Peso\"].median())"
   ]
  },
  {
   "cell_type": "markdown",
   "metadata": {},
   "source": [
    "O mesmo ocorre com a altura"
   ]
  },
  {
   "cell_type": "code",
   "execution_count": 4938,
   "metadata": {},
   "outputs": [],
   "source": [
    "test_data[\"Altura\"] = test_data[\"Altura\"].replace(0, test_data[\"Altura\"].median())"
   ]
  },
  {
   "cell_type": "code",
   "execution_count": 4939,
   "metadata": {},
   "outputs": [],
   "source": [
    "altura_invalida = test_data[test_data[\"Altura\"] < 50]\n",
    "\n",
    "test_data.loc[altura_invalida.index, \"Altura\"] = test_data[\"Altura\"].median()"
   ]
  },
  {
   "cell_type": "markdown",
   "metadata": {},
   "source": [
    "Com peso e altura resolvidos, podemos recalcular o IMC das amostras"
   ]
  },
  {
   "cell_type": "code",
   "execution_count": 4940,
   "metadata": {},
   "outputs": [],
   "source": [
    "altura_aux = test_data[\"Altura\"] / 100\n",
    "\n",
    "\n",
    "test_data[\"IMC\"] = test_data[\"Peso\"] / np.power(altura_aux, 2)"
   ]
  },
  {
   "cell_type": "markdown",
   "metadata": {},
   "source": [
    "#### Agora iremos tratar as colunas não numéricas"
   ]
  },
  {
   "cell_type": "markdown",
   "metadata": {},
   "source": [
    "Removendo atributos que não seão úteis"
   ]
  },
  {
   "cell_type": "code",
   "execution_count": 4941,
   "metadata": {},
   "outputs": [],
   "source": [
    "test_data = test_data.drop(columns=[\"Atendimento\", \"DN\", \"Convenio\"])"
   ]
  },
  {
   "cell_type": "markdown",
   "metadata": {},
   "source": [
    "Substituindo 'NORMAIS' por 'Normais' e 'AMPLOS' por 'Amplos' no atributo PULSOS"
   ]
  },
  {
   "cell_type": "code",
   "execution_count": 4942,
   "metadata": {},
   "outputs": [],
   "source": [
    "substituir(test_data, \"PULSOS\", \"NORMAIS\", \"Normais\")\n",
    "substituir(test_data, \"PULSOS\", \"AMPLOS\", \"Amplos\")"
   ]
  },
  {
   "cell_type": "markdown",
   "metadata": {},
   "source": [
    "Substituindo 'sistólico' por 'Sistólico' e 'contínuo' por 'Contínuo'"
   ]
  },
  {
   "cell_type": "code",
   "execution_count": 4943,
   "metadata": {},
   "outputs": [],
   "source": [
    "substituir(test_data, \"SOPRO\", \"sistólico\", \"Sistólico\")\n",
    "substituir(test_data, \"SOPRO\", \"contínuo\", \"Contínuo\")"
   ]
  },
  {
   "cell_type": "markdown",
   "metadata": {},
   "source": [
    "Substituindo 'Masculino' e 'masculino' por 'M' e 'Feminino' por 'F'"
   ]
  },
  {
   "cell_type": "code",
   "execution_count": 4944,
   "metadata": {},
   "outputs": [],
   "source": [
    "substituir(test_data, \"SEXO\", \"Masculino\", \"M\")\n",
    "substituir(test_data, \"SEXO\", \"masculino\", \"M\")\n",
    "\n",
    "substituir(test_data, \"SEXO\", \"Feminino\", \"F\")"
   ]
  },
  {
   "cell_type": "markdown",
   "metadata": {},
   "source": [
    "#### Como não é possível remover os atributos NaN no conjunto de testes, iremos substituir os valores NaN pela moda de cada respectivo atributo não numérico"
   ]
  },
  {
   "cell_type": "code",
   "execution_count": 4945,
   "metadata": {},
   "outputs": [],
   "source": [
    "test_data[\"PULSOS\"] = test_data[\"PULSOS\"].fillna(test_data[\"PULSOS\"].mode()[0])"
   ]
  },
  {
   "cell_type": "code",
   "execution_count": 4946,
   "metadata": {},
   "outputs": [],
   "source": [
    "test_data[\"B2\"] = test_data[\"B2\"].fillna(test_data[\"B2\"].mode()[0])"
   ]
  },
  {
   "cell_type": "code",
   "execution_count": 4947,
   "metadata": {},
   "outputs": [],
   "source": [
    "test_data[\"SOPRO\"] = test_data[\"SOPRO\"].fillna(test_data[\"SOPRO\"].mode()[0])"
   ]
  },
  {
   "cell_type": "code",
   "execution_count": 4948,
   "metadata": {},
   "outputs": [],
   "source": [
    "test_data[\"SEXO\"] = test_data[\"SEXO\"].fillna(test_data[\"SEXO\"].mode()[0])"
   ]
  },
  {
   "cell_type": "code",
   "execution_count": 4949,
   "metadata": {},
   "outputs": [],
   "source": [
    "test_data[\"MOTIVO1\"] = test_data[\"MOTIVO1\"].fillna(test_data[\"MOTIVO1\"].mode()[0])\n",
    "test_data[\"MOTIVO2\"] = test_data[\"MOTIVO2\"].fillna(test_data[\"MOTIVO2\"].mode()[0])"
   ]
  },
  {
   "cell_type": "code",
   "execution_count": 4950,
   "metadata": {},
   "outputs": [],
   "source": [
    "test_data[\"PPA\"] = test_data[\"PPA\"].replace(\"#VALUE!\", np.nan)\n",
    "test_data[\"PPA\"] = test_data[\"PPA\"].fillna(test_data['PPA'].mode()[0])"
   ]
  },
  {
   "cell_type": "code",
   "execution_count": 4951,
   "metadata": {},
   "outputs": [],
   "source": [
    "test_data[\"HDA 1\"] = test_data[\"HDA 1\"].fillna(\"Assintomático\")\n",
    "test_data[\"HDA2\"] = test_data[\"HDA2\"].fillna(\"Assintomático\")"
   ]
  },
  {
   "cell_type": "code",
   "execution_count": 4952,
   "metadata": {},
   "outputs": [
    {
     "data": {
      "text/plain": [
       "Id               0\n",
       "Peso             0\n",
       "Altura           0\n",
       "IMC              0\n",
       "IDADE            0\n",
       "PULSOS           0\n",
       "PA SISTOLICA     0\n",
       "PA DIASTOLICA    0\n",
       "PPA              0\n",
       "B2               0\n",
       "SOPRO            0\n",
       "FC               0\n",
       "HDA 1            0\n",
       "HDA2             0\n",
       "SEXO             0\n",
       "MOTIVO1          0\n",
       "MOTIVO2          0\n",
       "dtype: int64"
      ]
     },
     "metadata": {},
     "output_type": "display_data"
    }
   ],
   "source": [
    "display(test_data.isna().sum())"
   ]
  },
  {
   "cell_type": "markdown",
   "metadata": {},
   "source": [
    "Agora, com ambos os conjuntos de dados tratados, treino e teste, iremos substituir os valores não numéricos de ambos por valores numéricos, afim de poder usa-los no modelo de classificação."
   ]
  },
  {
   "cell_type": "code",
   "execution_count": 4953,
   "metadata": {},
   "outputs": [
    {
     "data": {
      "text/html": [
       "<div>\n",
       "<style scoped>\n",
       "    .dataframe tbody tr th:only-of-type {\n",
       "        vertical-align: middle;\n",
       "    }\n",
       "\n",
       "    .dataframe tbody tr th {\n",
       "        vertical-align: top;\n",
       "    }\n",
       "\n",
       "    .dataframe thead th {\n",
       "        text-align: right;\n",
       "    }\n",
       "</style>\n",
       "<table border=\"1\" class=\"dataframe\">\n",
       "  <thead>\n",
       "    <tr style=\"text-align: right;\">\n",
       "      <th></th>\n",
       "      <th>Id</th>\n",
       "      <th>Peso</th>\n",
       "      <th>Altura</th>\n",
       "      <th>IMC</th>\n",
       "      <th>IDADE</th>\n",
       "      <th>PULSOS</th>\n",
       "      <th>PA SISTOLICA</th>\n",
       "      <th>PA DIASTOLICA</th>\n",
       "      <th>PPA</th>\n",
       "      <th>B2</th>\n",
       "      <th>SOPRO</th>\n",
       "      <th>FC</th>\n",
       "      <th>HDA 1</th>\n",
       "      <th>HDA2</th>\n",
       "      <th>SEXO</th>\n",
       "      <th>MOTIVO1</th>\n",
       "      <th>MOTIVO2</th>\n",
       "      <th>CLASSE</th>\n",
       "    </tr>\n",
       "  </thead>\n",
       "  <tbody>\n",
       "    <tr>\n",
       "      <th>0</th>\n",
       "      <td>10524</td>\n",
       "      <td>28.0</td>\n",
       "      <td>123</td>\n",
       "      <td>18.507502</td>\n",
       "      <td>5.79</td>\n",
       "      <td>Normais</td>\n",
       "      <td>110.0</td>\n",
       "      <td>80.0</td>\n",
       "      <td>HAS-1 PAD</td>\n",
       "      <td>Normal</td>\n",
       "      <td>ausente</td>\n",
       "      <td>100.0</td>\n",
       "      <td>Palpitacao</td>\n",
       "      <td>Assintomático</td>\n",
       "      <td>M</td>\n",
       "      <td>6 - Suspeita de cardiopatia</td>\n",
       "      <td>6 - Palpitação/taquicardia/arritmia</td>\n",
       "      <td>Normal</td>\n",
       "    </tr>\n",
       "    <tr>\n",
       "      <th>2</th>\n",
       "      <td>4483</td>\n",
       "      <td>13.0</td>\n",
       "      <td>87</td>\n",
       "      <td>17.175320</td>\n",
       "      <td>2.21</td>\n",
       "      <td>Normais</td>\n",
       "      <td>100.0</td>\n",
       "      <td>60.0</td>\n",
       "      <td>Não Calculado</td>\n",
       "      <td>Normal</td>\n",
       "      <td>Sistólico</td>\n",
       "      <td>100.0</td>\n",
       "      <td>Assintomático</td>\n",
       "      <td>Assintomático</td>\n",
       "      <td>M</td>\n",
       "      <td>6 - Suspeita de cardiopatia</td>\n",
       "      <td>6 - Sopro</td>\n",
       "      <td>Anormal</td>\n",
       "    </tr>\n",
       "    <tr>\n",
       "      <th>5</th>\n",
       "      <td>15430</td>\n",
       "      <td>45.0</td>\n",
       "      <td>161</td>\n",
       "      <td>17.360441</td>\n",
       "      <td>7.60</td>\n",
       "      <td>Normais</td>\n",
       "      <td>120.0</td>\n",
       "      <td>70.0</td>\n",
       "      <td>HAS-1 PAS</td>\n",
       "      <td>Normal</td>\n",
       "      <td>ausente</td>\n",
       "      <td>80.0</td>\n",
       "      <td>Assintomático</td>\n",
       "      <td>Assintomático</td>\n",
       "      <td>M</td>\n",
       "      <td>5 - Parecer cardiológico</td>\n",
       "      <td>5 - Cirurgia</td>\n",
       "      <td>Normal</td>\n",
       "    </tr>\n",
       "    <tr>\n",
       "      <th>6</th>\n",
       "      <td>1023</td>\n",
       "      <td>18.5</td>\n",
       "      <td>105</td>\n",
       "      <td>16.780045</td>\n",
       "      <td>3.93</td>\n",
       "      <td>Normais</td>\n",
       "      <td>90.0</td>\n",
       "      <td>60.0</td>\n",
       "      <td>Normal</td>\n",
       "      <td>Normal</td>\n",
       "      <td>ausente</td>\n",
       "      <td>92.0</td>\n",
       "      <td>Assintomático</td>\n",
       "      <td>Assintomático</td>\n",
       "      <td>F</td>\n",
       "      <td>7 - Outro</td>\n",
       "      <td>Outro</td>\n",
       "      <td>Normal</td>\n",
       "    </tr>\n",
       "    <tr>\n",
       "      <th>8</th>\n",
       "      <td>14309</td>\n",
       "      <td>24.0</td>\n",
       "      <td>112</td>\n",
       "      <td>19.132653</td>\n",
       "      <td>5.27</td>\n",
       "      <td>Normais</td>\n",
       "      <td>100.0</td>\n",
       "      <td>60.0</td>\n",
       "      <td>Normal</td>\n",
       "      <td>Normal</td>\n",
       "      <td>ausente</td>\n",
       "      <td>100.0</td>\n",
       "      <td>Outro</td>\n",
       "      <td>Assintomático</td>\n",
       "      <td>M</td>\n",
       "      <td>6 - Suspeita de cardiopatia</td>\n",
       "      <td>6 - HAS/dislipidemia/obesidade</td>\n",
       "      <td>Normal</td>\n",
       "    </tr>\n",
       "    <tr>\n",
       "      <th>...</th>\n",
       "      <td>...</td>\n",
       "      <td>...</td>\n",
       "      <td>...</td>\n",
       "      <td>...</td>\n",
       "      <td>...</td>\n",
       "      <td>...</td>\n",
       "      <td>...</td>\n",
       "      <td>...</td>\n",
       "      <td>...</td>\n",
       "      <td>...</td>\n",
       "      <td>...</td>\n",
       "      <td>...</td>\n",
       "      <td>...</td>\n",
       "      <td>...</td>\n",
       "      <td>...</td>\n",
       "      <td>...</td>\n",
       "      <td>...</td>\n",
       "      <td>...</td>\n",
       "    </tr>\n",
       "    <tr>\n",
       "      <th>14716</th>\n",
       "      <td>390</td>\n",
       "      <td>25.0</td>\n",
       "      <td>110</td>\n",
       "      <td>20.661157</td>\n",
       "      <td>5.15</td>\n",
       "      <td>Normais</td>\n",
       "      <td>100.0</td>\n",
       "      <td>60.0</td>\n",
       "      <td>Não Calculado</td>\n",
       "      <td>Normal</td>\n",
       "      <td>ausente</td>\n",
       "      <td>92.0</td>\n",
       "      <td>Assintomático</td>\n",
       "      <td>Assintomático</td>\n",
       "      <td>F</td>\n",
       "      <td>5 - Parecer cardiológico</td>\n",
       "      <td>5 - Cirurgia</td>\n",
       "      <td>Normal</td>\n",
       "    </tr>\n",
       "    <tr>\n",
       "      <th>14717</th>\n",
       "      <td>14869</td>\n",
       "      <td>10.0</td>\n",
       "      <td>70</td>\n",
       "      <td>20.408163</td>\n",
       "      <td>0.60</td>\n",
       "      <td>Normais</td>\n",
       "      <td>100.0</td>\n",
       "      <td>60.0</td>\n",
       "      <td>Não Calculado</td>\n",
       "      <td>Normal</td>\n",
       "      <td>ausente</td>\n",
       "      <td>112.0</td>\n",
       "      <td>Assintomático</td>\n",
       "      <td>Assintomático</td>\n",
       "      <td>M</td>\n",
       "      <td>6 - Suspeita de cardiopatia</td>\n",
       "      <td>Outro</td>\n",
       "      <td>Normal</td>\n",
       "    </tr>\n",
       "    <tr>\n",
       "      <th>14719</th>\n",
       "      <td>9673</td>\n",
       "      <td>16.7</td>\n",
       "      <td>100</td>\n",
       "      <td>16.700000</td>\n",
       "      <td>3.49</td>\n",
       "      <td>Normais</td>\n",
       "      <td>90.0</td>\n",
       "      <td>60.0</td>\n",
       "      <td>Normal</td>\n",
       "      <td>Normal</td>\n",
       "      <td>ausente</td>\n",
       "      <td>120.0</td>\n",
       "      <td>Assintomático</td>\n",
       "      <td>Assintomático</td>\n",
       "      <td>F</td>\n",
       "      <td>6 - Suspeita de cardiopatia</td>\n",
       "      <td>6 - Dor precordial</td>\n",
       "      <td>Normal</td>\n",
       "    </tr>\n",
       "    <tr>\n",
       "      <th>14723</th>\n",
       "      <td>3249</td>\n",
       "      <td>30.0</td>\n",
       "      <td>113</td>\n",
       "      <td>23.494401</td>\n",
       "      <td>4.97</td>\n",
       "      <td>Normais</td>\n",
       "      <td>105.0</td>\n",
       "      <td>70.0</td>\n",
       "      <td>Pre-Hipertensão PAD</td>\n",
       "      <td>Normal</td>\n",
       "      <td>Sistólico</td>\n",
       "      <td>92.0</td>\n",
       "      <td>Dispneia</td>\n",
       "      <td>Palpitacao</td>\n",
       "      <td>F</td>\n",
       "      <td>6 - Suspeita de cardiopatia</td>\n",
       "      <td>6 - Dispnéia</td>\n",
       "      <td>Anormal</td>\n",
       "    </tr>\n",
       "    <tr>\n",
       "      <th>14724</th>\n",
       "      <td>3207</td>\n",
       "      <td>25.8</td>\n",
       "      <td>130</td>\n",
       "      <td>15.266272</td>\n",
       "      <td>7.69</td>\n",
       "      <td>Normais</td>\n",
       "      <td>90.0</td>\n",
       "      <td>55.0</td>\n",
       "      <td>Normal</td>\n",
       "      <td>Normal</td>\n",
       "      <td>ausente</td>\n",
       "      <td>78.0</td>\n",
       "      <td>Assintomático</td>\n",
       "      <td>Assintomático</td>\n",
       "      <td>M</td>\n",
       "      <td>6 - Suspeita de cardiopatia</td>\n",
       "      <td>6 - Sopro</td>\n",
       "      <td>Normal</td>\n",
       "    </tr>\n",
       "  </tbody>\n",
       "</table>\n",
       "<p>7215 rows × 18 columns</p>\n",
       "</div>"
      ],
      "text/plain": [
       "          Id  Peso  Altura        IMC  IDADE   PULSOS  PA SISTOLICA  \\\n",
       "0      10524  28.0     123  18.507502   5.79  Normais         110.0   \n",
       "2       4483  13.0      87  17.175320   2.21  Normais         100.0   \n",
       "5      15430  45.0     161  17.360441   7.60  Normais         120.0   \n",
       "6       1023  18.5     105  16.780045   3.93  Normais          90.0   \n",
       "8      14309  24.0     112  19.132653   5.27  Normais         100.0   \n",
       "...      ...   ...     ...        ...    ...      ...           ...   \n",
       "14716    390  25.0     110  20.661157   5.15  Normais         100.0   \n",
       "14717  14869  10.0      70  20.408163   0.60  Normais         100.0   \n",
       "14719   9673  16.7     100  16.700000   3.49  Normais          90.0   \n",
       "14723   3249  30.0     113  23.494401   4.97  Normais         105.0   \n",
       "14724   3207  25.8     130  15.266272   7.69  Normais          90.0   \n",
       "\n",
       "       PA DIASTOLICA                  PPA      B2      SOPRO     FC  \\\n",
       "0               80.0            HAS-1 PAD  Normal    ausente  100.0   \n",
       "2               60.0        Não Calculado  Normal  Sistólico  100.0   \n",
       "5               70.0            HAS-1 PAS  Normal    ausente   80.0   \n",
       "6               60.0               Normal  Normal    ausente   92.0   \n",
       "8               60.0               Normal  Normal    ausente  100.0   \n",
       "...              ...                  ...     ...        ...    ...   \n",
       "14716           60.0        Não Calculado  Normal    ausente   92.0   \n",
       "14717           60.0        Não Calculado  Normal    ausente  112.0   \n",
       "14719           60.0               Normal  Normal    ausente  120.0   \n",
       "14723           70.0  Pre-Hipertensão PAD  Normal  Sistólico   92.0   \n",
       "14724           55.0               Normal  Normal    ausente   78.0   \n",
       "\n",
       "               HDA 1           HDA2 SEXO                      MOTIVO1  \\\n",
       "0         Palpitacao  Assintomático    M  6 - Suspeita de cardiopatia   \n",
       "2      Assintomático  Assintomático    M  6 - Suspeita de cardiopatia   \n",
       "5      Assintomático  Assintomático    M     5 - Parecer cardiológico   \n",
       "6      Assintomático  Assintomático    F                    7 - Outro   \n",
       "8              Outro  Assintomático    M  6 - Suspeita de cardiopatia   \n",
       "...              ...            ...  ...                          ...   \n",
       "14716  Assintomático  Assintomático    F     5 - Parecer cardiológico   \n",
       "14717  Assintomático  Assintomático    M  6 - Suspeita de cardiopatia   \n",
       "14719  Assintomático  Assintomático    F  6 - Suspeita de cardiopatia   \n",
       "14723       Dispneia     Palpitacao    F  6 - Suspeita de cardiopatia   \n",
       "14724  Assintomático  Assintomático    M  6 - Suspeita de cardiopatia   \n",
       "\n",
       "                                   MOTIVO2   CLASSE  \n",
       "0      6 - Palpitação/taquicardia/arritmia   Normal  \n",
       "2                                6 - Sopro  Anormal  \n",
       "5                             5 - Cirurgia   Normal  \n",
       "6                                    Outro   Normal  \n",
       "8           6 - HAS/dislipidemia/obesidade   Normal  \n",
       "...                                    ...      ...  \n",
       "14716                         5 - Cirurgia   Normal  \n",
       "14717                                Outro   Normal  \n",
       "14719                   6 - Dor precordial   Normal  \n",
       "14723                         6 - Dispnéia  Anormal  \n",
       "14724                            6 - Sopro   Normal  \n",
       "\n",
       "[7215 rows x 18 columns]"
      ]
     },
     "metadata": {},
     "output_type": "display_data"
    }
   ],
   "source": [
    "display(train_data)"
   ]
  },
  {
   "cell_type": "code",
   "execution_count": 4954,
   "metadata": {},
   "outputs": [
    {
     "data": {
      "text/html": [
       "<div>\n",
       "<style scoped>\n",
       "    .dataframe tbody tr th:only-of-type {\n",
       "        vertical-align: middle;\n",
       "    }\n",
       "\n",
       "    .dataframe tbody tr th {\n",
       "        vertical-align: top;\n",
       "    }\n",
       "\n",
       "    .dataframe thead th {\n",
       "        text-align: right;\n",
       "    }\n",
       "</style>\n",
       "<table border=\"1\" class=\"dataframe\">\n",
       "  <thead>\n",
       "    <tr style=\"text-align: right;\">\n",
       "      <th></th>\n",
       "      <th>Id</th>\n",
       "      <th>Peso</th>\n",
       "      <th>Altura</th>\n",
       "      <th>IMC</th>\n",
       "      <th>IDADE</th>\n",
       "      <th>PULSOS</th>\n",
       "      <th>PA SISTOLICA</th>\n",
       "      <th>PA DIASTOLICA</th>\n",
       "      <th>PPA</th>\n",
       "      <th>B2</th>\n",
       "      <th>SOPRO</th>\n",
       "      <th>FC</th>\n",
       "      <th>HDA 1</th>\n",
       "      <th>HDA2</th>\n",
       "      <th>SEXO</th>\n",
       "      <th>MOTIVO1</th>\n",
       "      <th>MOTIVO2</th>\n",
       "      <th>CLASSE</th>\n",
       "    </tr>\n",
       "  </thead>\n",
       "  <tbody>\n",
       "    <tr>\n",
       "      <th>0</th>\n",
       "      <td>10524</td>\n",
       "      <td>28.0</td>\n",
       "      <td>123</td>\n",
       "      <td>18.507502</td>\n",
       "      <td>5.79</td>\n",
       "      <td>Normais</td>\n",
       "      <td>110.0</td>\n",
       "      <td>80.0</td>\n",
       "      <td>HAS-1 PAD</td>\n",
       "      <td>Normal</td>\n",
       "      <td>ausente</td>\n",
       "      <td>100.0</td>\n",
       "      <td>Palpitacao</td>\n",
       "      <td>Assintomático</td>\n",
       "      <td>M</td>\n",
       "      <td>6 - Suspeita de cardiopatia</td>\n",
       "      <td>6 - Palpitação/taquicardia/arritmia</td>\n",
       "      <td>Normal</td>\n",
       "    </tr>\n",
       "    <tr>\n",
       "      <th>2</th>\n",
       "      <td>4483</td>\n",
       "      <td>13.0</td>\n",
       "      <td>87</td>\n",
       "      <td>17.175320</td>\n",
       "      <td>2.21</td>\n",
       "      <td>Normais</td>\n",
       "      <td>100.0</td>\n",
       "      <td>60.0</td>\n",
       "      <td>Não Calculado</td>\n",
       "      <td>Normal</td>\n",
       "      <td>Sistólico</td>\n",
       "      <td>100.0</td>\n",
       "      <td>Assintomático</td>\n",
       "      <td>Assintomático</td>\n",
       "      <td>M</td>\n",
       "      <td>6 - Suspeita de cardiopatia</td>\n",
       "      <td>6 - Sopro</td>\n",
       "      <td>Anormal</td>\n",
       "    </tr>\n",
       "    <tr>\n",
       "      <th>5</th>\n",
       "      <td>15430</td>\n",
       "      <td>45.0</td>\n",
       "      <td>161</td>\n",
       "      <td>17.360441</td>\n",
       "      <td>7.60</td>\n",
       "      <td>Normais</td>\n",
       "      <td>120.0</td>\n",
       "      <td>70.0</td>\n",
       "      <td>HAS-1 PAS</td>\n",
       "      <td>Normal</td>\n",
       "      <td>ausente</td>\n",
       "      <td>80.0</td>\n",
       "      <td>Assintomático</td>\n",
       "      <td>Assintomático</td>\n",
       "      <td>M</td>\n",
       "      <td>5 - Parecer cardiológico</td>\n",
       "      <td>5 - Cirurgia</td>\n",
       "      <td>Normal</td>\n",
       "    </tr>\n",
       "    <tr>\n",
       "      <th>6</th>\n",
       "      <td>1023</td>\n",
       "      <td>18.5</td>\n",
       "      <td>105</td>\n",
       "      <td>16.780045</td>\n",
       "      <td>3.93</td>\n",
       "      <td>Normais</td>\n",
       "      <td>90.0</td>\n",
       "      <td>60.0</td>\n",
       "      <td>Normal</td>\n",
       "      <td>Normal</td>\n",
       "      <td>ausente</td>\n",
       "      <td>92.0</td>\n",
       "      <td>Assintomático</td>\n",
       "      <td>Assintomático</td>\n",
       "      <td>F</td>\n",
       "      <td>7 - Outro</td>\n",
       "      <td>Outro</td>\n",
       "      <td>Normal</td>\n",
       "    </tr>\n",
       "    <tr>\n",
       "      <th>8</th>\n",
       "      <td>14309</td>\n",
       "      <td>24.0</td>\n",
       "      <td>112</td>\n",
       "      <td>19.132653</td>\n",
       "      <td>5.27</td>\n",
       "      <td>Normais</td>\n",
       "      <td>100.0</td>\n",
       "      <td>60.0</td>\n",
       "      <td>Normal</td>\n",
       "      <td>Normal</td>\n",
       "      <td>ausente</td>\n",
       "      <td>100.0</td>\n",
       "      <td>Outro</td>\n",
       "      <td>Assintomático</td>\n",
       "      <td>M</td>\n",
       "      <td>6 - Suspeita de cardiopatia</td>\n",
       "      <td>6 - HAS/dislipidemia/obesidade</td>\n",
       "      <td>Normal</td>\n",
       "    </tr>\n",
       "  </tbody>\n",
       "</table>\n",
       "</div>"
      ],
      "text/plain": [
       "      Id  Peso  Altura        IMC  IDADE   PULSOS  PA SISTOLICA  \\\n",
       "0  10524  28.0     123  18.507502   5.79  Normais         110.0   \n",
       "2   4483  13.0      87  17.175320   2.21  Normais         100.0   \n",
       "5  15430  45.0     161  17.360441   7.60  Normais         120.0   \n",
       "6   1023  18.5     105  16.780045   3.93  Normais          90.0   \n",
       "8  14309  24.0     112  19.132653   5.27  Normais         100.0   \n",
       "\n",
       "   PA DIASTOLICA            PPA      B2      SOPRO     FC          HDA 1  \\\n",
       "0           80.0      HAS-1 PAD  Normal    ausente  100.0     Palpitacao   \n",
       "2           60.0  Não Calculado  Normal  Sistólico  100.0  Assintomático   \n",
       "5           70.0      HAS-1 PAS  Normal    ausente   80.0  Assintomático   \n",
       "6           60.0         Normal  Normal    ausente   92.0  Assintomático   \n",
       "8           60.0         Normal  Normal    ausente  100.0          Outro   \n",
       "\n",
       "            HDA2 SEXO                      MOTIVO1  \\\n",
       "0  Assintomático    M  6 - Suspeita de cardiopatia   \n",
       "2  Assintomático    M  6 - Suspeita de cardiopatia   \n",
       "5  Assintomático    M     5 - Parecer cardiológico   \n",
       "6  Assintomático    F                    7 - Outro   \n",
       "8  Assintomático    M  6 - Suspeita de cardiopatia   \n",
       "\n",
       "                               MOTIVO2   CLASSE  \n",
       "0  6 - Palpitação/taquicardia/arritmia   Normal  \n",
       "2                            6 - Sopro  Anormal  \n",
       "5                         5 - Cirurgia   Normal  \n",
       "6                                Outro   Normal  \n",
       "8       6 - HAS/dislipidemia/obesidade   Normal  "
      ]
     },
     "metadata": {},
     "output_type": "display_data"
    }
   ],
   "source": [
    "display(train_data.head())"
   ]
  },
  {
   "cell_type": "markdown",
   "metadata": {},
   "source": [
    "Com a a classe já tratada, agora iremos mapear os demais atributos das duas colunas"
   ]
  },
  {
   "cell_type": "markdown",
   "metadata": {},
   "source": [
    "Usaremos o LabelEncoder, responsável por mapear cada valor único de uma coluna não numérica em um valor númerico distinto,"
   ]
  },
  {
   "cell_type": "code",
   "execution_count": 4955,
   "metadata": {},
   "outputs": [],
   "source": [
    "from sklearn.preprocessing import LabelEncoder"
   ]
  },
  {
   "cell_type": "code",
   "execution_count": 4956,
   "metadata": {},
   "outputs": [],
   "source": [
    "lencoder = LabelEncoder()"
   ]
  },
  {
   "cell_type": "code",
   "execution_count": 4957,
   "metadata": {},
   "outputs": [],
   "source": [
    "\n",
    "pulsos_num = lencoder.fit_transform(train_data[\"PULSOS\"])\n",
    "ppa_num = lencoder.fit_transform(train_data[\"PPA\"])\n",
    "b2_num = lencoder.fit_transform(train_data[\"B2\"])\n",
    "sopro_num = lencoder.fit_transform(train_data[\"SOPRO\"])\n",
    "hda1_num = lencoder.fit_transform(train_data[\"HDA 1\"])\n",
    "hda2_num = lencoder.fit_transform(train_data[\"HDA2\"])\n",
    "sexo_num = lencoder.fit_transform(train_data[\"SEXO\"])\n",
    "motivo1_num = lencoder.fit_transform(train_data[\"MOTIVO1\"])\n",
    "motivo2_num = lencoder.fit_transform(train_data[\"MOTIVO2\"])\n",
    "class_num = lencoder.fit_transform(train_data['CLASSE'])"
   ]
  },
  {
   "cell_type": "code",
   "execution_count": 4958,
   "metadata": {},
   "outputs": [],
   "source": [
    "train_data[\"PULSOS\"] = pulsos_num\n",
    "train_data[\"PPA\"] = ppa_num\n",
    "train_data[\"B2\"] = b2_num\n",
    "train_data[\"SOPRO\"] = sopro_num\n",
    "train_data[\"HDA 1\"] = hda1_num\n",
    "train_data[\"HDA2\"] = hda2_num\n",
    "train_data[\"SEXO\"] = sexo_num\n",
    "train_data[\"MOTIVO1\"] = motivo1_num\n",
    "train_data[\"MOTIVO2\"] = motivo2_num\n",
    "train_data['CLASSE'] = class_num"
   ]
  },
  {
   "cell_type": "markdown",
   "metadata": {},
   "source": [
    "Depois para o conjunto de testes"
   ]
  },
  {
   "cell_type": "code",
   "execution_count": 4959,
   "metadata": {},
   "outputs": [],
   "source": [
    "pulsos_num = lencoder.fit_transform(test_data[\"PULSOS\"])\n",
    "ppa_num = lencoder.fit_transform(test_data[\"PPA\"])\n",
    "b2_num = lencoder.fit_transform(test_data[\"B2\"])\n",
    "sopro_num = lencoder.fit_transform(test_data[\"SOPRO\"])\n",
    "hda1_num = lencoder.fit_transform(test_data[\"HDA 1\"])\n",
    "hda2_num = lencoder.fit_transform(test_data[\"HDA2\"])\n",
    "sexo_num = lencoder.fit_transform(test_data[\"SEXO\"])\n",
    "motivo1_num = lencoder.fit_transform(test_data[\"MOTIVO1\"])\n",
    "motivo2_num = lencoder.fit_transform(test_data[\"MOTIVO2\"])"
   ]
  },
  {
   "cell_type": "code",
   "execution_count": 4960,
   "metadata": {},
   "outputs": [],
   "source": [
    "test_data[\"PULSOS\"] = pulsos_num\n",
    "test_data[\"PPA\"] = ppa_num\n",
    "test_data[\"B2\"] = b2_num\n",
    "test_data[\"SOPRO\"] = sopro_num\n",
    "test_data[\"HDA 1\"] = hda1_num\n",
    "test_data[\"HDA2\"] = hda2_num\n",
    "test_data[\"SEXO\"] = sexo_num\n",
    "test_data[\"MOTIVO1\"] = motivo1_num\n",
    "test_data[\"MOTIVO2\"] = motivo2_num"
   ]
  },
  {
   "cell_type": "code",
   "execution_count": 4961,
   "metadata": {},
   "outputs": [
    {
     "data": {
      "text/html": [
       "<div>\n",
       "<style scoped>\n",
       "    .dataframe tbody tr th:only-of-type {\n",
       "        vertical-align: middle;\n",
       "    }\n",
       "\n",
       "    .dataframe tbody tr th {\n",
       "        vertical-align: top;\n",
       "    }\n",
       "\n",
       "    .dataframe thead th {\n",
       "        text-align: right;\n",
       "    }\n",
       "</style>\n",
       "<table border=\"1\" class=\"dataframe\">\n",
       "  <thead>\n",
       "    <tr style=\"text-align: right;\">\n",
       "      <th></th>\n",
       "      <th>Id</th>\n",
       "      <th>Peso</th>\n",
       "      <th>Altura</th>\n",
       "      <th>IMC</th>\n",
       "      <th>IDADE</th>\n",
       "      <th>PULSOS</th>\n",
       "      <th>PA SISTOLICA</th>\n",
       "      <th>PA DIASTOLICA</th>\n",
       "      <th>PPA</th>\n",
       "      <th>B2</th>\n",
       "      <th>SOPRO</th>\n",
       "      <th>FC</th>\n",
       "      <th>HDA 1</th>\n",
       "      <th>HDA2</th>\n",
       "      <th>SEXO</th>\n",
       "      <th>MOTIVO1</th>\n",
       "      <th>MOTIVO2</th>\n",
       "      <th>CLASSE</th>\n",
       "    </tr>\n",
       "  </thead>\n",
       "  <tbody>\n",
       "    <tr>\n",
       "      <th>0</th>\n",
       "      <td>10524</td>\n",
       "      <td>28.0</td>\n",
       "      <td>123</td>\n",
       "      <td>18.507502</td>\n",
       "      <td>5.79</td>\n",
       "      <td>3</td>\n",
       "      <td>110.0</td>\n",
       "      <td>80.0</td>\n",
       "      <td>0</td>\n",
       "      <td>2</td>\n",
       "      <td>2</td>\n",
       "      <td>100.0</td>\n",
       "      <td>7</td>\n",
       "      <td>0</td>\n",
       "      <td>2</td>\n",
       "      <td>3</td>\n",
       "      <td>13</td>\n",
       "      <td>1</td>\n",
       "    </tr>\n",
       "    <tr>\n",
       "      <th>2</th>\n",
       "      <td>4483</td>\n",
       "      <td>13.0</td>\n",
       "      <td>87</td>\n",
       "      <td>17.175320</td>\n",
       "      <td>2.21</td>\n",
       "      <td>3</td>\n",
       "      <td>100.0</td>\n",
       "      <td>60.0</td>\n",
       "      <td>5</td>\n",
       "      <td>2</td>\n",
       "      <td>1</td>\n",
       "      <td>100.0</td>\n",
       "      <td>0</td>\n",
       "      <td>0</td>\n",
       "      <td>2</td>\n",
       "      <td>3</td>\n",
       "      <td>14</td>\n",
       "      <td>0</td>\n",
       "    </tr>\n",
       "    <tr>\n",
       "      <th>5</th>\n",
       "      <td>15430</td>\n",
       "      <td>45.0</td>\n",
       "      <td>161</td>\n",
       "      <td>17.360441</td>\n",
       "      <td>7.60</td>\n",
       "      <td>3</td>\n",
       "      <td>120.0</td>\n",
       "      <td>70.0</td>\n",
       "      <td>1</td>\n",
       "      <td>2</td>\n",
       "      <td>2</td>\n",
       "      <td>80.0</td>\n",
       "      <td>0</td>\n",
       "      <td>0</td>\n",
       "      <td>2</td>\n",
       "      <td>2</td>\n",
       "      <td>3</td>\n",
       "      <td>1</td>\n",
       "    </tr>\n",
       "    <tr>\n",
       "      <th>6</th>\n",
       "      <td>1023</td>\n",
       "      <td>18.5</td>\n",
       "      <td>105</td>\n",
       "      <td>16.780045</td>\n",
       "      <td>3.93</td>\n",
       "      <td>3</td>\n",
       "      <td>90.0</td>\n",
       "      <td>60.0</td>\n",
       "      <td>4</td>\n",
       "      <td>2</td>\n",
       "      <td>2</td>\n",
       "      <td>92.0</td>\n",
       "      <td>0</td>\n",
       "      <td>0</td>\n",
       "      <td>0</td>\n",
       "      <td>4</td>\n",
       "      <td>15</td>\n",
       "      <td>1</td>\n",
       "    </tr>\n",
       "    <tr>\n",
       "      <th>8</th>\n",
       "      <td>14309</td>\n",
       "      <td>24.0</td>\n",
       "      <td>112</td>\n",
       "      <td>19.132653</td>\n",
       "      <td>5.27</td>\n",
       "      <td>3</td>\n",
       "      <td>100.0</td>\n",
       "      <td>60.0</td>\n",
       "      <td>4</td>\n",
       "      <td>2</td>\n",
       "      <td>2</td>\n",
       "      <td>100.0</td>\n",
       "      <td>6</td>\n",
       "      <td>0</td>\n",
       "      <td>2</td>\n",
       "      <td>3</td>\n",
       "      <td>12</td>\n",
       "      <td>1</td>\n",
       "    </tr>\n",
       "  </tbody>\n",
       "</table>\n",
       "</div>"
      ],
      "text/plain": [
       "      Id  Peso  Altura        IMC  IDADE  PULSOS  PA SISTOLICA  PA DIASTOLICA  \\\n",
       "0  10524  28.0     123  18.507502   5.79       3         110.0           80.0   \n",
       "2   4483  13.0      87  17.175320   2.21       3         100.0           60.0   \n",
       "5  15430  45.0     161  17.360441   7.60       3         120.0           70.0   \n",
       "6   1023  18.5     105  16.780045   3.93       3          90.0           60.0   \n",
       "8  14309  24.0     112  19.132653   5.27       3         100.0           60.0   \n",
       "\n",
       "   PPA  B2  SOPRO     FC  HDA 1  HDA2  SEXO  MOTIVO1  MOTIVO2  CLASSE  \n",
       "0    0   2      2  100.0      7     0     2        3       13       1  \n",
       "2    5   2      1  100.0      0     0     2        3       14       0  \n",
       "5    1   2      2   80.0      0     0     2        2        3       1  \n",
       "6    4   2      2   92.0      0     0     0        4       15       1  \n",
       "8    4   2      2  100.0      6     0     2        3       12       1  "
      ]
     },
     "metadata": {},
     "output_type": "display_data"
    }
   ],
   "source": [
    "display(train_data.head(5))"
   ]
  },
  {
   "cell_type": "markdown",
   "metadata": {},
   "source": [
    "<small>O lencoder mapeou Normal como 1 e Anormal como 0 por conta da ordem alfabética, logo, ao invés de escrever a segunda coluna como o resultado do .csv da previsão, será necessário escrever a primeira coluna</small>"
   ]
  },
  {
   "cell_type": "code",
   "execution_count": 4962,
   "metadata": {},
   "outputs": [
    {
     "data": {
      "text/html": [
       "<div>\n",
       "<style scoped>\n",
       "    .dataframe tbody tr th:only-of-type {\n",
       "        vertical-align: middle;\n",
       "    }\n",
       "\n",
       "    .dataframe tbody tr th {\n",
       "        vertical-align: top;\n",
       "    }\n",
       "\n",
       "    .dataframe thead th {\n",
       "        text-align: right;\n",
       "    }\n",
       "</style>\n",
       "<table border=\"1\" class=\"dataframe\">\n",
       "  <thead>\n",
       "    <tr style=\"text-align: right;\">\n",
       "      <th></th>\n",
       "      <th>Id</th>\n",
       "      <th>Peso</th>\n",
       "      <th>Altura</th>\n",
       "      <th>IMC</th>\n",
       "      <th>IDADE</th>\n",
       "      <th>PULSOS</th>\n",
       "      <th>PA SISTOLICA</th>\n",
       "      <th>PA DIASTOLICA</th>\n",
       "      <th>PPA</th>\n",
       "      <th>B2</th>\n",
       "      <th>SOPRO</th>\n",
       "      <th>FC</th>\n",
       "      <th>HDA 1</th>\n",
       "      <th>HDA2</th>\n",
       "      <th>SEXO</th>\n",
       "      <th>MOTIVO1</th>\n",
       "      <th>MOTIVO2</th>\n",
       "    </tr>\n",
       "  </thead>\n",
       "  <tbody>\n",
       "    <tr>\n",
       "      <th>0</th>\n",
       "      <td>8957</td>\n",
       "      <td>4.5</td>\n",
       "      <td>54</td>\n",
       "      <td>15.432099</td>\n",
       "      <td>0.15</td>\n",
       "      <td>3</td>\n",
       "      <td>100.0</td>\n",
       "      <td>60.0</td>\n",
       "      <td>5</td>\n",
       "      <td>2</td>\n",
       "      <td>2</td>\n",
       "      <td>110.0</td>\n",
       "      <td>3</td>\n",
       "      <td>6</td>\n",
       "      <td>0</td>\n",
       "      <td>1</td>\n",
       "      <td>3</td>\n",
       "    </tr>\n",
       "    <tr>\n",
       "      <th>1</th>\n",
       "      <td>4246</td>\n",
       "      <td>42.4</td>\n",
       "      <td>150</td>\n",
       "      <td>18.844444</td>\n",
       "      <td>12.43</td>\n",
       "      <td>3</td>\n",
       "      <td>100.0</td>\n",
       "      <td>60.0</td>\n",
       "      <td>5</td>\n",
       "      <td>2</td>\n",
       "      <td>2</td>\n",
       "      <td>84.0</td>\n",
       "      <td>0</td>\n",
       "      <td>0</td>\n",
       "      <td>2</td>\n",
       "      <td>2</td>\n",
       "      <td>2</td>\n",
       "    </tr>\n",
       "    <tr>\n",
       "      <th>2</th>\n",
       "      <td>9089</td>\n",
       "      <td>18.1</td>\n",
       "      <td>104</td>\n",
       "      <td>16.734467</td>\n",
       "      <td>3.82</td>\n",
       "      <td>3</td>\n",
       "      <td>130.0</td>\n",
       "      <td>90.0</td>\n",
       "      <td>3</td>\n",
       "      <td>2</td>\n",
       "      <td>2</td>\n",
       "      <td>100.0</td>\n",
       "      <td>1</td>\n",
       "      <td>0</td>\n",
       "      <td>2</td>\n",
       "      <td>2</td>\n",
       "      <td>3</td>\n",
       "    </tr>\n",
       "    <tr>\n",
       "      <th>3</th>\n",
       "      <td>10606</td>\n",
       "      <td>7.7</td>\n",
       "      <td>102</td>\n",
       "      <td>7.401000</td>\n",
       "      <td>0.73</td>\n",
       "      <td>3</td>\n",
       "      <td>100.0</td>\n",
       "      <td>60.0</td>\n",
       "      <td>5</td>\n",
       "      <td>2</td>\n",
       "      <td>2</td>\n",
       "      <td>98.0</td>\n",
       "      <td>0</td>\n",
       "      <td>0</td>\n",
       "      <td>0</td>\n",
       "      <td>0</td>\n",
       "      <td>1</td>\n",
       "    </tr>\n",
       "    <tr>\n",
       "      <th>4</th>\n",
       "      <td>9863</td>\n",
       "      <td>16.0</td>\n",
       "      <td>102</td>\n",
       "      <td>15.378700</td>\n",
       "      <td>3.99</td>\n",
       "      <td>3</td>\n",
       "      <td>100.0</td>\n",
       "      <td>60.0</td>\n",
       "      <td>5</td>\n",
       "      <td>2</td>\n",
       "      <td>2</td>\n",
       "      <td>90.0</td>\n",
       "      <td>0</td>\n",
       "      <td>0</td>\n",
       "      <td>0</td>\n",
       "      <td>2</td>\n",
       "      <td>3</td>\n",
       "    </tr>\n",
       "  </tbody>\n",
       "</table>\n",
       "</div>"
      ],
      "text/plain": [
       "      Id  Peso  Altura        IMC  IDADE  PULSOS  PA SISTOLICA  PA DIASTOLICA  \\\n",
       "0   8957   4.5      54  15.432099   0.15       3         100.0           60.0   \n",
       "1   4246  42.4     150  18.844444  12.43       3         100.0           60.0   \n",
       "2   9089  18.1     104  16.734467   3.82       3         130.0           90.0   \n",
       "3  10606   7.7     102   7.401000   0.73       3         100.0           60.0   \n",
       "4   9863  16.0     102  15.378700   3.99       3         100.0           60.0   \n",
       "\n",
       "   PPA  B2  SOPRO     FC  HDA 1  HDA2  SEXO  MOTIVO1  MOTIVO2  \n",
       "0    5   2      2  110.0      3     6     0        1        3  \n",
       "1    5   2      2   84.0      0     0     2        2        2  \n",
       "2    3   2      2  100.0      1     0     2        2        3  \n",
       "3    5   2      2   98.0      0     0     0        0        1  \n",
       "4    5   2      2   90.0      0     0     0        2        3  "
      ]
     },
     "metadata": {},
     "output_type": "display_data"
    }
   ],
   "source": [
    "display(test_data.head(5))"
   ]
  },
  {
   "cell_type": "code",
   "execution_count": 4963,
   "metadata": {},
   "outputs": [
    {
     "data": {
      "image/png": "[encoded data removed]",
      "text/plain": [
       "<Figure size 864x720 with 2 Axes>"
      ]
     },
     "metadata": {
      "needs_background": "light"
     },
     "output_type": "display_data"
    }
   ],
   "source": [
    "plotar_correlacao(train_data)"
   ]
  },
  {
   "cell_type": "markdown",
   "metadata": {},
   "source": [
    "##### Com os dados já processados, iremos separa-los para treinamento, separando entre X e y, sendo X os atributos e y a classe alvo."
   ]
  },
  {
   "cell_type": "code",
   "execution_count": 4964,
   "metadata": {},
   "outputs": [
    {
     "data": {
      "text/html": [
       "<div>\n",
       "<style scoped>\n",
       "    .dataframe tbody tr th:only-of-type {\n",
       "        vertical-align: middle;\n",
       "    }\n",
       "\n",
       "    .dataframe tbody tr th {\n",
       "        vertical-align: top;\n",
       "    }\n",
       "\n",
       "    .dataframe thead th {\n",
       "        text-align: right;\n",
       "    }\n",
       "</style>\n",
       "<table border=\"1\" class=\"dataframe\">\n",
       "  <thead>\n",
       "    <tr style=\"text-align: right;\">\n",
       "      <th></th>\n",
       "      <th>Peso</th>\n",
       "      <th>Altura</th>\n",
       "      <th>IMC</th>\n",
       "      <th>IDADE</th>\n",
       "      <th>PULSOS</th>\n",
       "      <th>PA SISTOLICA</th>\n",
       "      <th>PA DIASTOLICA</th>\n",
       "      <th>PPA</th>\n",
       "      <th>B2</th>\n",
       "      <th>SOPRO</th>\n",
       "      <th>FC</th>\n",
       "      <th>HDA 1</th>\n",
       "      <th>HDA2</th>\n",
       "      <th>SEXO</th>\n",
       "      <th>MOTIVO1</th>\n",
       "      <th>MOTIVO2</th>\n",
       "    </tr>\n",
       "  </thead>\n",
       "  <tbody>\n",
       "    <tr>\n",
       "      <th>0</th>\n",
       "      <td>28.0</td>\n",
       "      <td>123</td>\n",
       "      <td>18.507502</td>\n",
       "      <td>5.79</td>\n",
       "      <td>3</td>\n",
       "      <td>110.0</td>\n",
       "      <td>80.0</td>\n",
       "      <td>0</td>\n",
       "      <td>2</td>\n",
       "      <td>2</td>\n",
       "      <td>100.0</td>\n",
       "      <td>7</td>\n",
       "      <td>0</td>\n",
       "      <td>2</td>\n",
       "      <td>3</td>\n",
       "      <td>13</td>\n",
       "    </tr>\n",
       "    <tr>\n",
       "      <th>2</th>\n",
       "      <td>13.0</td>\n",
       "      <td>87</td>\n",
       "      <td>17.175320</td>\n",
       "      <td>2.21</td>\n",
       "      <td>3</td>\n",
       "      <td>100.0</td>\n",
       "      <td>60.0</td>\n",
       "      <td>5</td>\n",
       "      <td>2</td>\n",
       "      <td>1</td>\n",
       "      <td>100.0</td>\n",
       "      <td>0</td>\n",
       "      <td>0</td>\n",
       "      <td>2</td>\n",
       "      <td>3</td>\n",
       "      <td>14</td>\n",
       "    </tr>\n",
       "    <tr>\n",
       "      <th>5</th>\n",
       "      <td>45.0</td>\n",
       "      <td>161</td>\n",
       "      <td>17.360441</td>\n",
       "      <td>7.60</td>\n",
       "      <td>3</td>\n",
       "      <td>120.0</td>\n",
       "      <td>70.0</td>\n",
       "      <td>1</td>\n",
       "      <td>2</td>\n",
       "      <td>2</td>\n",
       "      <td>80.0</td>\n",
       "      <td>0</td>\n",
       "      <td>0</td>\n",
       "      <td>2</td>\n",
       "      <td>2</td>\n",
       "      <td>3</td>\n",
       "    </tr>\n",
       "    <tr>\n",
       "      <th>6</th>\n",
       "      <td>18.5</td>\n",
       "      <td>105</td>\n",
       "      <td>16.780045</td>\n",
       "      <td>3.93</td>\n",
       "      <td>3</td>\n",
       "      <td>90.0</td>\n",
       "      <td>60.0</td>\n",
       "      <td>4</td>\n",
       "      <td>2</td>\n",
       "      <td>2</td>\n",
       "      <td>92.0</td>\n",
       "      <td>0</td>\n",
       "      <td>0</td>\n",
       "      <td>0</td>\n",
       "      <td>4</td>\n",
       "      <td>15</td>\n",
       "    </tr>\n",
       "    <tr>\n",
       "      <th>8</th>\n",
       "      <td>24.0</td>\n",
       "      <td>112</td>\n",
       "      <td>19.132653</td>\n",
       "      <td>5.27</td>\n",
       "      <td>3</td>\n",
       "      <td>100.0</td>\n",
       "      <td>60.0</td>\n",
       "      <td>4</td>\n",
       "      <td>2</td>\n",
       "      <td>2</td>\n",
       "      <td>100.0</td>\n",
       "      <td>6</td>\n",
       "      <td>0</td>\n",
       "      <td>2</td>\n",
       "      <td>3</td>\n",
       "      <td>12</td>\n",
       "    </tr>\n",
       "    <tr>\n",
       "      <th>...</th>\n",
       "      <td>...</td>\n",
       "      <td>...</td>\n",
       "      <td>...</td>\n",
       "      <td>...</td>\n",
       "      <td>...</td>\n",
       "      <td>...</td>\n",
       "      <td>...</td>\n",
       "      <td>...</td>\n",
       "      <td>...</td>\n",
       "      <td>...</td>\n",
       "      <td>...</td>\n",
       "      <td>...</td>\n",
       "      <td>...</td>\n",
       "      <td>...</td>\n",
       "      <td>...</td>\n",
       "      <td>...</td>\n",
       "    </tr>\n",
       "    <tr>\n",
       "      <th>14716</th>\n",
       "      <td>25.0</td>\n",
       "      <td>110</td>\n",
       "      <td>20.661157</td>\n",
       "      <td>5.15</td>\n",
       "      <td>3</td>\n",
       "      <td>100.0</td>\n",
       "      <td>60.0</td>\n",
       "      <td>5</td>\n",
       "      <td>2</td>\n",
       "      <td>2</td>\n",
       "      <td>92.0</td>\n",
       "      <td>0</td>\n",
       "      <td>0</td>\n",
       "      <td>0</td>\n",
       "      <td>2</td>\n",
       "      <td>3</td>\n",
       "    </tr>\n",
       "    <tr>\n",
       "      <th>14717</th>\n",
       "      <td>10.0</td>\n",
       "      <td>70</td>\n",
       "      <td>20.408163</td>\n",
       "      <td>0.60</td>\n",
       "      <td>3</td>\n",
       "      <td>100.0</td>\n",
       "      <td>60.0</td>\n",
       "      <td>5</td>\n",
       "      <td>2</td>\n",
       "      <td>2</td>\n",
       "      <td>112.0</td>\n",
       "      <td>0</td>\n",
       "      <td>0</td>\n",
       "      <td>2</td>\n",
       "      <td>3</td>\n",
       "      <td>15</td>\n",
       "    </tr>\n",
       "    <tr>\n",
       "      <th>14719</th>\n",
       "      <td>16.7</td>\n",
       "      <td>100</td>\n",
       "      <td>16.700000</td>\n",
       "      <td>3.49</td>\n",
       "      <td>3</td>\n",
       "      <td>90.0</td>\n",
       "      <td>60.0</td>\n",
       "      <td>4</td>\n",
       "      <td>2</td>\n",
       "      <td>2</td>\n",
       "      <td>120.0</td>\n",
       "      <td>0</td>\n",
       "      <td>0</td>\n",
       "      <td>0</td>\n",
       "      <td>3</td>\n",
       "      <td>11</td>\n",
       "    </tr>\n",
       "    <tr>\n",
       "      <th>14723</th>\n",
       "      <td>30.0</td>\n",
       "      <td>113</td>\n",
       "      <td>23.494401</td>\n",
       "      <td>4.97</td>\n",
       "      <td>3</td>\n",
       "      <td>105.0</td>\n",
       "      <td>70.0</td>\n",
       "      <td>6</td>\n",
       "      <td>2</td>\n",
       "      <td>1</td>\n",
       "      <td>92.0</td>\n",
       "      <td>3</td>\n",
       "      <td>7</td>\n",
       "      <td>0</td>\n",
       "      <td>3</td>\n",
       "      <td>10</td>\n",
       "    </tr>\n",
       "    <tr>\n",
       "      <th>14724</th>\n",
       "      <td>25.8</td>\n",
       "      <td>130</td>\n",
       "      <td>15.266272</td>\n",
       "      <td>7.69</td>\n",
       "      <td>3</td>\n",
       "      <td>90.0</td>\n",
       "      <td>55.0</td>\n",
       "      <td>4</td>\n",
       "      <td>2</td>\n",
       "      <td>2</td>\n",
       "      <td>78.0</td>\n",
       "      <td>0</td>\n",
       "      <td>0</td>\n",
       "      <td>2</td>\n",
       "      <td>3</td>\n",
       "      <td>14</td>\n",
       "    </tr>\n",
       "  </tbody>\n",
       "</table>\n",
       "<p>7215 rows × 16 columns</p>\n",
       "</div>"
      ],
      "text/plain": [
       "       Peso  Altura        IMC  IDADE  PULSOS  PA SISTOLICA  PA DIASTOLICA  \\\n",
       "0      28.0     123  18.507502   5.79       3         110.0           80.0   \n",
       "2      13.0      87  17.175320   2.21       3         100.0           60.0   \n",
       "5      45.0     161  17.360441   7.60       3         120.0           70.0   \n",
       "6      18.5     105  16.780045   3.93       3          90.0           60.0   \n",
       "8      24.0     112  19.132653   5.27       3         100.0           60.0   \n",
       "...     ...     ...        ...    ...     ...           ...            ...   \n",
       "14716  25.0     110  20.661157   5.15       3         100.0           60.0   \n",
       "14717  10.0      70  20.408163   0.60       3         100.0           60.0   \n",
       "14719  16.7     100  16.700000   3.49       3          90.0           60.0   \n",
       "14723  30.0     113  23.494401   4.97       3         105.0           70.0   \n",
       "14724  25.8     130  15.266272   7.69       3          90.0           55.0   \n",
       "\n",
       "       PPA  B2  SOPRO     FC  HDA 1  HDA2  SEXO  MOTIVO1  MOTIVO2  \n",
       "0        0   2      2  100.0      7     0     2        3       13  \n",
       "2        5   2      1  100.0      0     0     2        3       14  \n",
       "5        1   2      2   80.0      0     0     2        2        3  \n",
       "6        4   2      2   92.0      0     0     0        4       15  \n",
       "8        4   2      2  100.0      6     0     2        3       12  \n",
       "...    ...  ..    ...    ...    ...   ...   ...      ...      ...  \n",
       "14716    5   2      2   92.0      0     0     0        2        3  \n",
       "14717    5   2      2  112.0      0     0     2        3       15  \n",
       "14719    4   2      2  120.0      0     0     0        3       11  \n",
       "14723    6   2      1   92.0      3     7     0        3       10  \n",
       "14724    4   2      2   78.0      0     0     2        3       14  \n",
       "\n",
       "[7215 rows x 16 columns]"
      ]
     },
     "metadata": {},
     "output_type": "display_data"
    }
   ],
   "source": [
    "X = train_data.iloc[:, 1:-1]\n",
    "\n",
    "y = train_data.iloc[:, -1]\n",
    "\n",
    "X_test = test_data.iloc[:, 1:]\n",
    "\n",
    "display(X)"
   ]
  },
  {
   "cell_type": "markdown",
   "metadata": {},
   "source": [
    "---\n",
    "### Experimento\n",
    "\n",
    "Nesta seção, o experimento deve ser conduzido, utilizando os protocolos experimentais padrões e testando diferentes modelos."
   ]
  },
  {
   "cell_type": "markdown",
   "metadata": {},
   "source": [
    "##### Começaremos pelo método de regressão logística"
   ]
  },
  {
   "cell_type": "code",
   "execution_count": 4965,
   "metadata": {},
   "outputs": [],
   "source": [
    "from sklearn.linear_model import LogisticRegression"
   ]
  },
  {
   "cell_type": "code",
   "execution_count": 4966,
   "metadata": {},
   "outputs": [],
   "source": [
    "model_regressao_logistica = LogisticRegression()"
   ]
  },
  {
   "cell_type": "markdown",
   "metadata": {},
   "source": [
    "Treinamento do modelo"
   ]
  },
  {
   "cell_type": "code",
   "execution_count": 4967,
   "metadata": {},
   "outputs": [
    {
     "name": "stderr",
     "output_type": "stream",
     "text": [
      "/home/guilherme/anaconda3/lib/python3.9/site-packages/sklearn/linear_model/_logistic.py:814: ConvergenceWarning: lbfgs failed to converge (status=1):\n",
      "STOP: TOTAL NO. of ITERATIONS REACHED LIMIT.\n",
      "\n",
      "Increase the number of iterations (max_iter) or scale the data as shown in:\n",
      "    https://scikit-learn.org/stable/modules/preprocessing.html\n",
      "Please also refer to the documentation for alternative solver options:\n",
      "    https://scikit-learn.org/stable/modules/linear_model.html#logistic-regression\n",
      "  n_iter_i = _check_optimize_result(\n"
     ]
    },
    {
     "data": {
      "text/plain": [
       "LogisticRegression()"
      ]
     },
     "execution_count": 4967,
     "metadata": {},
     "output_type": "execute_result"
    }
   ],
   "source": [
    "model_regressao_logistica.fit(X, y)"
   ]
  },
  {
   "cell_type": "markdown",
   "metadata": {},
   "source": [
    "Retornando a previsão"
   ]
  },
  {
   "cell_type": "code",
   "execution_count": 4968,
   "metadata": {},
   "outputs": [],
   "source": [
    "predicao = model_regressao_logistica.predict_proba(X_test)"
   ]
  },
  {
   "cell_type": "markdown",
   "metadata": {},
   "source": [
    "Cria um df para salvar a previsão"
   ]
  },
  {
   "cell_type": "code",
   "execution_count": 4969,
   "metadata": {},
   "outputs": [
    {
     "data": {
      "text/html": [
       "<div>\n",
       "<style scoped>\n",
       "    .dataframe tbody tr th:only-of-type {\n",
       "        vertical-align: middle;\n",
       "    }\n",
       "\n",
       "    .dataframe tbody tr th {\n",
       "        vertical-align: top;\n",
       "    }\n",
       "\n",
       "    .dataframe thead th {\n",
       "        text-align: right;\n",
       "    }\n",
       "</style>\n",
       "<table border=\"1\" class=\"dataframe\">\n",
       "  <thead>\n",
       "    <tr style=\"text-align: right;\">\n",
       "      <th></th>\n",
       "      <th>Id</th>\n",
       "      <th>Predicted</th>\n",
       "    </tr>\n",
       "  </thead>\n",
       "  <tbody>\n",
       "    <tr>\n",
       "      <th>0</th>\n",
       "      <td>8957</td>\n",
       "      <td>0.144094</td>\n",
       "    </tr>\n",
       "    <tr>\n",
       "      <th>1</th>\n",
       "      <td>4246</td>\n",
       "      <td>0.045761</td>\n",
       "    </tr>\n",
       "    <tr>\n",
       "      <th>2</th>\n",
       "      <td>9089</td>\n",
       "      <td>0.226215</td>\n",
       "    </tr>\n",
       "    <tr>\n",
       "      <th>3</th>\n",
       "      <td>10606</td>\n",
       "      <td>0.459667</td>\n",
       "    </tr>\n",
       "    <tr>\n",
       "      <th>4</th>\n",
       "      <td>9863</td>\n",
       "      <td>0.073344</td>\n",
       "    </tr>\n",
       "    <tr>\n",
       "      <th>...</th>\n",
       "      <td>...</td>\n",
       "      <td>...</td>\n",
       "    </tr>\n",
       "    <tr>\n",
       "      <th>3141</th>\n",
       "      <td>14053</td>\n",
       "      <td>0.038653</td>\n",
       "    </tr>\n",
       "    <tr>\n",
       "      <th>3142</th>\n",
       "      <td>9000</td>\n",
       "      <td>0.745187</td>\n",
       "    </tr>\n",
       "    <tr>\n",
       "      <th>3143</th>\n",
       "      <td>14643</td>\n",
       "      <td>0.948475</td>\n",
       "    </tr>\n",
       "    <tr>\n",
       "      <th>3144</th>\n",
       "      <td>15107</td>\n",
       "      <td>0.997315</td>\n",
       "    </tr>\n",
       "    <tr>\n",
       "      <th>3145</th>\n",
       "      <td>14963</td>\n",
       "      <td>0.097357</td>\n",
       "    </tr>\n",
       "  </tbody>\n",
       "</table>\n",
       "<p>3146 rows × 2 columns</p>\n",
       "</div>"
      ],
      "text/plain": [
       "         Id  Predicted\n",
       "0      8957   0.144094\n",
       "1      4246   0.045761\n",
       "2      9089   0.226215\n",
       "3     10606   0.459667\n",
       "4      9863   0.073344\n",
       "...     ...        ...\n",
       "3141  14053   0.038653\n",
       "3142   9000   0.745187\n",
       "3143  14643   0.948475\n",
       "3144  15107   0.997315\n",
       "3145  14963   0.097357\n",
       "\n",
       "[3146 rows x 2 columns]"
      ]
     },
     "metadata": {},
     "output_type": "display_data"
    }
   ],
   "source": [
    "resultado_pred = pd.DataFrame(test_data[\"Id\"], columns=[\"Id\"])\n",
    "resultado_pred[\"Predicted\"] = predicao[:, 0]\n",
    "\n",
    "display(resultado_pred)"
   ]
  },
  {
   "cell_type": "code",
   "execution_count": 4970,
   "metadata": {},
   "outputs": [],
   "source": [
    "resultado_pred.to_csv(\n",
    "    \"./resultados/previsao_regressao_logistica.csv\", index=False\n",
    ")"
   ]
  },
  {
   "cell_type": "markdown",
   "metadata": {},
   "source": [
    "#### Redes Neurais"
   ]
  },
  {
   "cell_type": "code",
   "execution_count": 4971,
   "metadata": {},
   "outputs": [],
   "source": [
    "from sklearn.neural_network import MLPClassifier"
   ]
  },
  {
   "cell_type": "code",
   "execution_count": 4972,
   "metadata": {},
   "outputs": [],
   "source": [
    "model_mpl_classifier = MLPClassifier(hidden_layer_sizes=(50,), max_iter=1000, random_state=42)"
   ]
  },
  {
   "cell_type": "code",
   "execution_count": 4973,
   "metadata": {},
   "outputs": [
    {
     "data": {
      "text/plain": [
       "MLPClassifier(hidden_layer_sizes=(50,), max_iter=1000, random_state=42)"
      ]
     },
     "execution_count": 4973,
     "metadata": {},
     "output_type": "execute_result"
    }
   ],
   "source": [
    "model_mpl_classifier.fit(X,y)"
   ]
  },
  {
   "cell_type": "code",
   "execution_count": 4974,
   "metadata": {},
   "outputs": [
    {
     "name": "stdout",
     "output_type": "stream",
     "text": [
      "[[0.58978993 0.41021007]\n",
      " [0.08814948 0.91185052]\n",
      " [0.22545109 0.77454891]\n",
      " ...\n",
      " [0.9870443  0.0129557 ]\n",
      " [0.96217347 0.03782653]\n",
      " [0.10369801 0.89630199]]\n"
     ]
    }
   ],
   "source": [
    "predicao_mpl = model_mpl_classifier.predict_proba(X_test)\n",
    "print(predicao_mpl)"
   ]
  },
  {
   "cell_type": "code",
   "execution_count": 4975,
   "metadata": {},
   "outputs": [
    {
     "data": {
      "text/html": [
       "<div>\n",
       "<style scoped>\n",
       "    .dataframe tbody tr th:only-of-type {\n",
       "        vertical-align: middle;\n",
       "    }\n",
       "\n",
       "    .dataframe tbody tr th {\n",
       "        vertical-align: top;\n",
       "    }\n",
       "\n",
       "    .dataframe thead th {\n",
       "        text-align: right;\n",
       "    }\n",
       "</style>\n",
       "<table border=\"1\" class=\"dataframe\">\n",
       "  <thead>\n",
       "    <tr style=\"text-align: right;\">\n",
       "      <th></th>\n",
       "      <th>Id</th>\n",
       "      <th>Predicted</th>\n",
       "    </tr>\n",
       "  </thead>\n",
       "  <tbody>\n",
       "    <tr>\n",
       "      <th>0</th>\n",
       "      <td>8957</td>\n",
       "      <td>0.589790</td>\n",
       "    </tr>\n",
       "    <tr>\n",
       "      <th>1</th>\n",
       "      <td>4246</td>\n",
       "      <td>0.088149</td>\n",
       "    </tr>\n",
       "    <tr>\n",
       "      <th>2</th>\n",
       "      <td>9089</td>\n",
       "      <td>0.225451</td>\n",
       "    </tr>\n",
       "    <tr>\n",
       "      <th>3</th>\n",
       "      <td>10606</td>\n",
       "      <td>0.209944</td>\n",
       "    </tr>\n",
       "    <tr>\n",
       "      <th>4</th>\n",
       "      <td>9863</td>\n",
       "      <td>0.087295</td>\n",
       "    </tr>\n",
       "    <tr>\n",
       "      <th>...</th>\n",
       "      <td>...</td>\n",
       "      <td>...</td>\n",
       "    </tr>\n",
       "    <tr>\n",
       "      <th>3141</th>\n",
       "      <td>14053</td>\n",
       "      <td>0.065665</td>\n",
       "    </tr>\n",
       "    <tr>\n",
       "      <th>3142</th>\n",
       "      <td>9000</td>\n",
       "      <td>0.943287</td>\n",
       "    </tr>\n",
       "    <tr>\n",
       "      <th>3143</th>\n",
       "      <td>14643</td>\n",
       "      <td>0.987044</td>\n",
       "    </tr>\n",
       "    <tr>\n",
       "      <th>3144</th>\n",
       "      <td>15107</td>\n",
       "      <td>0.962173</td>\n",
       "    </tr>\n",
       "    <tr>\n",
       "      <th>3145</th>\n",
       "      <td>14963</td>\n",
       "      <td>0.103698</td>\n",
       "    </tr>\n",
       "  </tbody>\n",
       "</table>\n",
       "<p>3146 rows × 2 columns</p>\n",
       "</div>"
      ],
      "text/plain": [
       "         Id  Predicted\n",
       "0      8957   0.589790\n",
       "1      4246   0.088149\n",
       "2      9089   0.225451\n",
       "3     10606   0.209944\n",
       "4      9863   0.087295\n",
       "...     ...        ...\n",
       "3141  14053   0.065665\n",
       "3142   9000   0.943287\n",
       "3143  14643   0.987044\n",
       "3144  15107   0.962173\n",
       "3145  14963   0.103698\n",
       "\n",
       "[3146 rows x 2 columns]"
      ]
     },
     "metadata": {},
     "output_type": "display_data"
    }
   ],
   "source": [
    "resultado_pred_mpl = pd.DataFrame(test_data[\"Id\"], columns=[\"Id\"])\n",
    "resultado_pred_mpl[\"Predicted\"] = predicao_mpl[:, 0]\n",
    "\n",
    "display(resultado_pred_mpl)"
   ]
  },
  {
   "cell_type": "code",
   "execution_count": 4976,
   "metadata": {},
   "outputs": [],
   "source": [
    "resultado_pred_mpl.to_csv(\"./resultados/previsao_mpl.csv\", index=False)"
   ]
  },
  {
   "cell_type": "markdown",
   "metadata": {},
   "source": [
    "Secao para teste do modelo"
   ]
  },
  {
   "cell_type": "code",
   "execution_count": 4977,
   "metadata": {},
   "outputs": [],
   "source": [
    "from sklearn.model_selection import train_test_split"
   ]
  },
  {
   "cell_type": "code",
   "execution_count": 4978,
   "metadata": {},
   "outputs": [],
   "source": [
    "X_train, X_t, y_train, y_test = train_test_split(X, y, test_size=0.2, random_state=42)"
   ]
  },
  {
   "cell_type": "code",
   "execution_count": 4979,
   "metadata": {},
   "outputs": [
    {
     "data": {
      "text/plain": [
       "MLPClassifier(hidden_layer_sizes=(50,), max_iter=1000, random_state=42)"
      ]
     },
     "execution_count": 4979,
     "metadata": {},
     "output_type": "execute_result"
    }
   ],
   "source": [
    "model_mpl_classifier.fit(X_train, y_train)"
   ]
  },
  {
   "cell_type": "code",
   "execution_count": 4980,
   "metadata": {},
   "outputs": [],
   "source": [
    "predicao_redes_neurais = model_mpl_classifier.predict(X_t)"
   ]
  },
  {
   "cell_type": "code",
   "execution_count": 4981,
   "metadata": {},
   "outputs": [],
   "source": [
    "from sklearn.metrics import accuracy_score"
   ]
  },
  {
   "cell_type": "code",
   "execution_count": 4982,
   "metadata": {},
   "outputs": [
    {
     "name": "stdout",
     "output_type": "stream",
     "text": [
      "0.9327789327789328\n"
     ]
    }
   ],
   "source": [
    "print(accuracy_score(predicao_redes_neurais, y_test))"
   ]
  },
  {
   "cell_type": "code",
   "execution_count": 4983,
   "metadata": {},
   "outputs": [],
   "source": [
    "from sklearn.preprocessing import StandardScaler"
   ]
  },
  {
   "cell_type": "markdown",
   "metadata": {},
   "source": [
    "em regressão logśtica,normalizar os atributos melhora o desempenho do modelo"
   ]
  },
  {
   "cell_type": "code",
   "execution_count": 4984,
   "metadata": {},
   "outputs": [],
   "source": [
    "\n",
    "#scaler = StandardScaler()\n",
    "#X_train = scaler.fit_transform(X_train)\n",
    "#X_t = scaler.transform(X_t)"
   ]
  },
  {
   "cell_type": "code",
   "execution_count": 4985,
   "metadata": {},
   "outputs": [
    {
     "name": "stderr",
     "output_type": "stream",
     "text": [
      "/home/guilherme/anaconda3/lib/python3.9/site-packages/sklearn/linear_model/_logistic.py:814: ConvergenceWarning: lbfgs failed to converge (status=1):\n",
      "STOP: TOTAL NO. of ITERATIONS REACHED LIMIT.\n",
      "\n",
      "Increase the number of iterations (max_iter) or scale the data as shown in:\n",
      "    https://scikit-learn.org/stable/modules/preprocessing.html\n",
      "Please also refer to the documentation for alternative solver options:\n",
      "    https://scikit-learn.org/stable/modules/linear_model.html#logistic-regression\n",
      "  n_iter_i = _check_optimize_result(\n"
     ]
    },
    {
     "data": {
      "text/plain": [
       "LogisticRegression()"
      ]
     },
     "execution_count": 4985,
     "metadata": {},
     "output_type": "execute_result"
    }
   ],
   "source": [
    "model_regressao_logistica.fit(X_train, y_train)"
   ]
  },
  {
   "cell_type": "code",
   "execution_count": 4986,
   "metadata": {},
   "outputs": [],
   "source": [
    "y_pred = model_regressao_logistica.predict(X_t)"
   ]
  },
  {
   "cell_type": "code",
   "execution_count": 4987,
   "metadata": {},
   "outputs": [
    {
     "name": "stdout",
     "output_type": "stream",
     "text": [
      "0.9265419265419266\n"
     ]
    }
   ],
   "source": [
    "print(accuracy_score(y_pred, y_test))"
   ]
  },
  {
   "cell_type": "markdown",
   "metadata": {},
   "source": [
    "##### Random forest"
   ]
  },
  {
   "cell_type": "code",
   "execution_count": 4988,
   "metadata": {},
   "outputs": [],
   "source": [
    "from sklearn.ensemble import RandomForestClassifier"
   ]
  },
  {
   "cell_type": "code",
   "execution_count": 4989,
   "metadata": {},
   "outputs": [],
   "source": [
    "model_random_forest = RandomForestClassifier(n_estimators=100, random_state=42)"
   ]
  },
  {
   "cell_type": "code",
   "execution_count": 4990,
   "metadata": {},
   "outputs": [
    {
     "data": {
      "text/plain": [
       "RandomForestClassifier(random_state=42)"
      ]
     },
     "execution_count": 4990,
     "metadata": {},
     "output_type": "execute_result"
    }
   ],
   "source": [
    "model_random_forest.fit(X,y)"
   ]
  },
  {
   "cell_type": "code",
   "execution_count": 4991,
   "metadata": {},
   "outputs": [],
   "source": [
    "predicao_random_forest = model_random_forest.predict_proba(X_test)"
   ]
  },
  {
   "cell_type": "code",
   "execution_count": 4992,
   "metadata": {},
   "outputs": [
    {
     "data": {
      "text/html": [
       "<div>\n",
       "<style scoped>\n",
       "    .dataframe tbody tr th:only-of-type {\n",
       "        vertical-align: middle;\n",
       "    }\n",
       "\n",
       "    .dataframe tbody tr th {\n",
       "        vertical-align: top;\n",
       "    }\n",
       "\n",
       "    .dataframe thead th {\n",
       "        text-align: right;\n",
       "    }\n",
       "</style>\n",
       "<table border=\"1\" class=\"dataframe\">\n",
       "  <thead>\n",
       "    <tr style=\"text-align: right;\">\n",
       "      <th></th>\n",
       "      <th>Id</th>\n",
       "      <th>Predicted</th>\n",
       "    </tr>\n",
       "  </thead>\n",
       "  <tbody>\n",
       "    <tr>\n",
       "      <th>0</th>\n",
       "      <td>8957</td>\n",
       "      <td>0.22</td>\n",
       "    </tr>\n",
       "    <tr>\n",
       "      <th>1</th>\n",
       "      <td>4246</td>\n",
       "      <td>0.01</td>\n",
       "    </tr>\n",
       "    <tr>\n",
       "      <th>2</th>\n",
       "      <td>9089</td>\n",
       "      <td>0.22</td>\n",
       "    </tr>\n",
       "    <tr>\n",
       "      <th>3</th>\n",
       "      <td>10606</td>\n",
       "      <td>0.16</td>\n",
       "    </tr>\n",
       "    <tr>\n",
       "      <th>4</th>\n",
       "      <td>9863</td>\n",
       "      <td>0.01</td>\n",
       "    </tr>\n",
       "    <tr>\n",
       "      <th>...</th>\n",
       "      <td>...</td>\n",
       "      <td>...</td>\n",
       "    </tr>\n",
       "    <tr>\n",
       "      <th>3141</th>\n",
       "      <td>14053</td>\n",
       "      <td>0.07</td>\n",
       "    </tr>\n",
       "    <tr>\n",
       "      <th>3142</th>\n",
       "      <td>9000</td>\n",
       "      <td>0.88</td>\n",
       "    </tr>\n",
       "    <tr>\n",
       "      <th>3143</th>\n",
       "      <td>14643</td>\n",
       "      <td>0.97</td>\n",
       "    </tr>\n",
       "    <tr>\n",
       "      <th>3144</th>\n",
       "      <td>15107</td>\n",
       "      <td>0.93</td>\n",
       "    </tr>\n",
       "    <tr>\n",
       "      <th>3145</th>\n",
       "      <td>14963</td>\n",
       "      <td>0.02</td>\n",
       "    </tr>\n",
       "  </tbody>\n",
       "</table>\n",
       "<p>3146 rows × 2 columns</p>\n",
       "</div>"
      ],
      "text/plain": [
       "         Id  Predicted\n",
       "0      8957       0.22\n",
       "1      4246       0.01\n",
       "2      9089       0.22\n",
       "3     10606       0.16\n",
       "4      9863       0.01\n",
       "...     ...        ...\n",
       "3141  14053       0.07\n",
       "3142   9000       0.88\n",
       "3143  14643       0.97\n",
       "3144  15107       0.93\n",
       "3145  14963       0.02\n",
       "\n",
       "[3146 rows x 2 columns]"
      ]
     },
     "metadata": {},
     "output_type": "display_data"
    }
   ],
   "source": [
    "resultado_pred_random_forest = pd.DataFrame(test_data[\"Id\"], columns=[\"Id\"])\n",
    "resultado_pred_random_forest[\"Predicted\"] = predicao_random_forest[:, 0]\n",
    "\n",
    "display(resultado_pred_random_forest)"
   ]
  },
  {
   "cell_type": "code",
   "execution_count": 4993,
   "metadata": {},
   "outputs": [],
   "source": [
    "resultado_pred_random_forest.to_csv('./resultados/previsao_random_forest(troca das medianas por medias).csv', index=False)"
   ]
  },
  {
   "cell_type": "code",
   "execution_count": 4994,
   "metadata": {},
   "outputs": [
    {
     "data": {
      "text/plain": [
       "RandomForestClassifier(random_state=42)"
      ]
     },
     "execution_count": 4994,
     "metadata": {},
     "output_type": "execute_result"
    }
   ],
   "source": [
    "model_random_forest.fit(X_train, y_train)"
   ]
  },
  {
   "cell_type": "code",
   "execution_count": 4995,
   "metadata": {},
   "outputs": [],
   "source": [
    "y_pred = model_random_forest.predict(X_t)"
   ]
  },
  {
   "cell_type": "code",
   "execution_count": 4996,
   "metadata": {},
   "outputs": [
    {
     "name": "stdout",
     "output_type": "stream",
     "text": [
      "0.9404019404019404\n"
     ]
    }
   ],
   "source": [
    "print(accuracy_score(y_pred, y_test))"
   ]
  },
  {
   "cell_type": "markdown",
   "metadata": {},
   "source": [
    "##### SVM"
   ]
  },
  {
   "cell_type": "code",
   "execution_count": 4997,
   "metadata": {},
   "outputs": [],
   "source": [
    "from sklearn.svm import SVC"
   ]
  },
  {
   "cell_type": "markdown",
   "metadata": {},
   "source": [
    "Em SVM é necessário normalizar os dados,visto que a técnica é sensível à escalas."
   ]
  },
  {
   "cell_type": "code",
   "execution_count": 4998,
   "metadata": {},
   "outputs": [],
   "source": [
    "from sklearn.preprocessing import StandardScaler"
   ]
  },
  {
   "cell_type": "code",
   "execution_count": 4999,
   "metadata": {},
   "outputs": [],
   "source": [
    "scaler = StandardScaler()\n",
    "X_train = scaler.fit_transform(X_train)\n",
    "X_t = scaler.transform(X_t)"
   ]
  },
  {
   "cell_type": "markdown",
   "metadata": {},
   "source": [
    "normalização dos dados"
   ]
  },
  {
   "cell_type": "code",
   "execution_count": 5000,
   "metadata": {},
   "outputs": [],
   "source": [
    "svm_model = SVC(kernel='rbf', C=1.0, gamma='scale', random_state=42)"
   ]
  },
  {
   "cell_type": "code",
   "execution_count": 5001,
   "metadata": {},
   "outputs": [
    {
     "data": {
      "text/plain": [
       "SVC(random_state=42)"
      ]
     },
     "execution_count": 5001,
     "metadata": {},
     "output_type": "execute_result"
    }
   ],
   "source": [
    "svm_model.fit(X_train, y_train)"
   ]
  },
  {
   "cell_type": "code",
   "execution_count": 5002,
   "metadata": {},
   "outputs": [],
   "source": [
    "y_pred = svm_model.predict(X_t)"
   ]
  },
  {
   "cell_type": "code",
   "execution_count": 5003,
   "metadata": {},
   "outputs": [
    {
     "name": "stdout",
     "output_type": "stream",
     "text": [
      "Acurácia: 0.9341649341649342\n"
     ]
    }
   ],
   "source": [
    "print(\"Acurácia:\", accuracy_score(y_test, y_pred))"
   ]
  },
  {
   "cell_type": "markdown",
   "metadata": {},
   "source": [
    "---\n",
    "### Análise dos Resultados\n",
    "\n",
    "Nesta seção, os resultados devem ser exibidos através de tabelas e gráficos, comparados e profundamente analisados."
   ]
  },
  {
   "cell_type": "code",
   "execution_count": null,
   "metadata": {},
   "outputs": [],
   "source": []
  }
 ],
 "metadata": {
  "kernelspec": {
   "display_name": "base",
   "language": "python",
   "name": "python3"
  },
  "language_info": {
   "codemirror_mode": {
    "name": "ipython",
    "version": 3
   },
   "file_extension": ".py",
   "mimetype": "text/x-python",
   "name": "python",
   "nbconvert_exporter": "python",
   "pygments_lexer": "ipython3",
   "version": "3.9.12"
  }
 },
 "nbformat": 4,
 "nbformat_minor": 4
}
